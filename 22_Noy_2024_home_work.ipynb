{
  "nbformat": 4,
  "nbformat_minor": 0,
  "metadata": {
    "colab": {
      "provenance": [],
      "authorship_tag": "ABX9TyO6OlwHZrHIRlIZNy6rnMyw",
      "include_colab_link": true
    },
    "kernelspec": {
      "name": "python3",
      "display_name": "Python 3"
    },
    "language_info": {
      "name": "python"
    }
  },
  "cells": [
    {
      "cell_type": "markdown",
      "metadata": {
        "id": "view-in-github",
        "colab_type": "text"
      },
      "source": [
        "<a href=\"https://colab.research.google.com/github/UznetDev/Data-science-home-work/blob/main/22_Noy_2024_home_work.ipynb\" target=\"_parent\"><img src=\"https://colab.research.google.com/assets/colab-badge.svg\" alt=\"Open In Colab\"/></a>"
      ]
    },
    {
      "cell_type": "markdown",
      "source": [
        "Check the `Chance of Admit` against the `Research` using chi square tests on the given `admissions` dataset."
      ],
      "metadata": {
        "id": "P7ElcrHgSQk5"
      }
    },
    {
      "cell_type": "markdown",
      "source": [
        "## Import necessary library"
      ],
      "metadata": {
        "id": "AOZ7ZWO4TPkm"
      }
    },
    {
      "cell_type": "code",
      "source": [
        "import pandas as pd\n",
        "from scipy.stats import chisquare, chi2_contingency, f_oneway\n",
        "import numpy as np\n",
        "from scipy.stats import ttest_ind\n",
        "import matplotlib.pyplot as plt\n",
        "import seaborn as sns\n",
        "from plotly.subplots import make_subplots\n",
        "import plotly.graph_objects as go\n",
        "from plotly import express as px\n",
        "import plotly.figure_factory as ff"
      ],
      "metadata": {
        "id": "kcdzDK9hSims"
      },
      "execution_count": null,
      "outputs": []
    },
    {
      "cell_type": "markdown",
      "source": [
        "## Load `admissions.csv` as *DataFrame.*"
      ],
      "metadata": {
        "id": "C3JxvaH63mAw"
      }
    },
    {
      "cell_type": "code",
      "execution_count": null,
      "metadata": {
        "colab": {
          "base_uri": "https://localhost:8080/",
          "height": 80
        },
        "id": "Hb-01cTTRzYY",
        "outputId": "da75b0da-b34c-4b82-a537-8d12c4ffdefa"
      },
      "outputs": [
        {
          "output_type": "execute_result",
          "data": {
            "text/plain": [
              "   Serial No.  GRE Score  TOEFL Score  University Rating  SOP  LOR   CGPA  \\\n",
              "0           1        337          118                  4  4.5   4.5  9.65   \n",
              "\n",
              "   Research  Chance of Admit  \n",
              "0         1             0.92  "
            ],
            "text/html": [
              "\n",
              "  <div id=\"df-013075ed-6825-40d6-a9fe-593343ec6f45\" class=\"colab-df-container\">\n",
              "    <div>\n",
              "<style scoped>\n",
              "    .dataframe tbody tr th:only-of-type {\n",
              "        vertical-align: middle;\n",
              "    }\n",
              "\n",
              "    .dataframe tbody tr th {\n",
              "        vertical-align: top;\n",
              "    }\n",
              "\n",
              "    .dataframe thead th {\n",
              "        text-align: right;\n",
              "    }\n",
              "</style>\n",
              "<table border=\"1\" class=\"dataframe\">\n",
              "  <thead>\n",
              "    <tr style=\"text-align: right;\">\n",
              "      <th></th>\n",
              "      <th>Serial No.</th>\n",
              "      <th>GRE Score</th>\n",
              "      <th>TOEFL Score</th>\n",
              "      <th>University Rating</th>\n",
              "      <th>SOP</th>\n",
              "      <th>LOR</th>\n",
              "      <th>CGPA</th>\n",
              "      <th>Research</th>\n",
              "      <th>Chance of Admit</th>\n",
              "    </tr>\n",
              "  </thead>\n",
              "  <tbody>\n",
              "    <tr>\n",
              "      <th>0</th>\n",
              "      <td>1</td>\n",
              "      <td>337</td>\n",
              "      <td>118</td>\n",
              "      <td>4</td>\n",
              "      <td>4.5</td>\n",
              "      <td>4.5</td>\n",
              "      <td>9.65</td>\n",
              "      <td>1</td>\n",
              "      <td>0.92</td>\n",
              "    </tr>\n",
              "  </tbody>\n",
              "</table>\n",
              "</div>\n",
              "    <div class=\"colab-df-buttons\">\n",
              "\n",
              "  <div class=\"colab-df-container\">\n",
              "    <button class=\"colab-df-convert\" onclick=\"convertToInteractive('df-013075ed-6825-40d6-a9fe-593343ec6f45')\"\n",
              "            title=\"Convert this dataframe to an interactive table.\"\n",
              "            style=\"display:none;\">\n",
              "\n",
              "  <svg xmlns=\"http://www.w3.org/2000/svg\" height=\"24px\" viewBox=\"0 -960 960 960\">\n",
              "    <path d=\"M120-120v-720h720v720H120Zm60-500h600v-160H180v160Zm220 220h160v-160H400v160Zm0 220h160v-160H400v160ZM180-400h160v-160H180v160Zm440 0h160v-160H620v160ZM180-180h160v-160H180v160Zm440 0h160v-160H620v160Z\"/>\n",
              "  </svg>\n",
              "    </button>\n",
              "\n",
              "  <style>\n",
              "    .colab-df-container {\n",
              "      display:flex;\n",
              "      gap: 12px;\n",
              "    }\n",
              "\n",
              "    .colab-df-convert {\n",
              "      background-color: #E8F0FE;\n",
              "      border: none;\n",
              "      border-radius: 50%;\n",
              "      cursor: pointer;\n",
              "      display: none;\n",
              "      fill: #1967D2;\n",
              "      height: 32px;\n",
              "      padding: 0 0 0 0;\n",
              "      width: 32px;\n",
              "    }\n",
              "\n",
              "    .colab-df-convert:hover {\n",
              "      background-color: #E2EBFA;\n",
              "      box-shadow: 0px 1px 2px rgba(60, 64, 67, 0.3), 0px 1px 3px 1px rgba(60, 64, 67, 0.15);\n",
              "      fill: #174EA6;\n",
              "    }\n",
              "\n",
              "    .colab-df-buttons div {\n",
              "      margin-bottom: 4px;\n",
              "    }\n",
              "\n",
              "    [theme=dark] .colab-df-convert {\n",
              "      background-color: #3B4455;\n",
              "      fill: #D2E3FC;\n",
              "    }\n",
              "\n",
              "    [theme=dark] .colab-df-convert:hover {\n",
              "      background-color: #434B5C;\n",
              "      box-shadow: 0px 1px 3px 1px rgba(0, 0, 0, 0.15);\n",
              "      filter: drop-shadow(0px 1px 2px rgba(0, 0, 0, 0.3));\n",
              "      fill: #FFFFFF;\n",
              "    }\n",
              "  </style>\n",
              "\n",
              "    <script>\n",
              "      const buttonEl =\n",
              "        document.querySelector('#df-013075ed-6825-40d6-a9fe-593343ec6f45 button.colab-df-convert');\n",
              "      buttonEl.style.display =\n",
              "        google.colab.kernel.accessAllowed ? 'block' : 'none';\n",
              "\n",
              "      async function convertToInteractive(key) {\n",
              "        const element = document.querySelector('#df-013075ed-6825-40d6-a9fe-593343ec6f45');\n",
              "        const dataTable =\n",
              "          await google.colab.kernel.invokeFunction('convertToInteractive',\n",
              "                                                    [key], {});\n",
              "        if (!dataTable) return;\n",
              "\n",
              "        const docLinkHtml = 'Like what you see? Visit the ' +\n",
              "          '<a target=\"_blank\" href=https://colab.research.google.com/notebooks/data_table.ipynb>data table notebook</a>'\n",
              "          + ' to learn more about interactive tables.';\n",
              "        element.innerHTML = '';\n",
              "        dataTable['output_type'] = 'display_data';\n",
              "        await google.colab.output.renderOutput(dataTable, element);\n",
              "        const docLink = document.createElement('div');\n",
              "        docLink.innerHTML = docLinkHtml;\n",
              "        element.appendChild(docLink);\n",
              "      }\n",
              "    </script>\n",
              "  </div>\n",
              "\n",
              "\n",
              "    </div>\n",
              "  </div>\n"
            ],
            "application/vnd.google.colaboratory.intrinsic+json": {
              "type": "dataframe",
              "variable_name": "data",
              "summary": "{\n  \"name\": \"data\",\n  \"rows\": 400,\n  \"fields\": [\n    {\n      \"column\": \"Serial No.\",\n      \"properties\": {\n        \"dtype\": \"number\",\n        \"std\": 115,\n        \"min\": 1,\n        \"max\": 400,\n        \"num_unique_values\": 400,\n        \"samples\": [\n          210,\n          281,\n          34\n        ],\n        \"semantic_type\": \"\",\n        \"description\": \"\"\n      }\n    },\n    {\n      \"column\": \"GRE Score\",\n      \"properties\": {\n        \"dtype\": \"number\",\n        \"std\": 11,\n        \"min\": 290,\n        \"max\": 340,\n        \"num_unique_values\": 49,\n        \"samples\": [\n          307,\n          335,\n          297\n        ],\n        \"semantic_type\": \"\",\n        \"description\": \"\"\n      }\n    },\n    {\n      \"column\": \"TOEFL Score\",\n      \"properties\": {\n        \"dtype\": \"number\",\n        \"std\": 6,\n        \"min\": 92,\n        \"max\": 120,\n        \"num_unique_values\": 29,\n        \"samples\": [\n          94,\n          119,\n          112\n        ],\n        \"semantic_type\": \"\",\n        \"description\": \"\"\n      }\n    },\n    {\n      \"column\": \"University Rating\",\n      \"properties\": {\n        \"dtype\": \"number\",\n        \"std\": 1,\n        \"min\": 1,\n        \"max\": 5,\n        \"num_unique_values\": 5,\n        \"samples\": [\n          3,\n          1,\n          2\n        ],\n        \"semantic_type\": \"\",\n        \"description\": \"\"\n      }\n    },\n    {\n      \"column\": \"SOP\",\n      \"properties\": {\n        \"dtype\": \"number\",\n        \"std\": 1.0068686414586976,\n        \"min\": 1.0,\n        \"max\": 5.0,\n        \"num_unique_values\": 9,\n        \"samples\": [\n          1.0,\n          4.0,\n          5.0\n        ],\n        \"semantic_type\": \"\",\n        \"description\": \"\"\n      }\n    },\n    {\n      \"column\": \"LOR \",\n      \"properties\": {\n        \"dtype\": \"number\",\n        \"std\": 0.898477548279256,\n        \"min\": 1.0,\n        \"max\": 5.0,\n        \"num_unique_values\": 9,\n        \"samples\": [\n          5.0,\n          3.5,\n          1.5\n        ],\n        \"semantic_type\": \"\",\n        \"description\": \"\"\n      }\n    },\n    {\n      \"column\": \"CGPA\",\n      \"properties\": {\n        \"dtype\": \"number\",\n        \"std\": 0.5963170964964317,\n        \"min\": 6.8,\n        \"max\": 9.92,\n        \"num_unique_values\": 168,\n        \"samples\": [\n          8.15,\n          7.4,\n          9.91\n        ],\n        \"semantic_type\": \"\",\n        \"description\": \"\"\n      }\n    },\n    {\n      \"column\": \"Research\",\n      \"properties\": {\n        \"dtype\": \"number\",\n        \"std\": 0,\n        \"min\": 0,\n        \"max\": 1,\n        \"num_unique_values\": 2,\n        \"samples\": [\n          0,\n          1\n        ],\n        \"semantic_type\": \"\",\n        \"description\": \"\"\n      }\n    },\n    {\n      \"column\": \"Chance of Admit\",\n      \"properties\": {\n        \"dtype\": \"number\",\n        \"std\": 0.14260933017384092,\n        \"min\": 0.34,\n        \"max\": 0.97,\n        \"num_unique_values\": 60,\n        \"samples\": [\n          0.92,\n          0.9\n        ],\n        \"semantic_type\": \"\",\n        \"description\": \"\"\n      }\n    }\n  ]\n}"
            }
          },
          "metadata": {},
          "execution_count": 5
        }
      ],
      "source": [
        "data = pd.read_csv('admissions.csv')\n",
        "data.head(1)"
      ]
    },
    {
      "cell_type": "markdown",
      "source": [
        "## Test"
      ],
      "metadata": {
        "id": "AXJ74BS8-Jsp"
      }
    },
    {
      "cell_type": "markdown",
      "source": [
        "### Check corealtion `Chance of Admit` by all columns."
      ],
      "metadata": {
        "id": "CCZdewv0BNxf"
      }
    },
    {
      "cell_type": "code",
      "source": [
        "correlations = data.corr()['Chance of Admit']\n",
        "sns.heatmap(correlations.to_frame(), annot=True)"
      ],
      "metadata": {
        "colab": {
          "base_uri": "https://localhost:8080/",
          "height": 452
        },
        "id": "DH8QhnT6A2Zp",
        "outputId": "a95317c8-5ca8-4cf4-ede6-4988c27cc32c"
      },
      "execution_count": null,
      "outputs": [
        {
          "output_type": "execute_result",
          "data": {
            "text/plain": [
              "<Axes: >"
            ]
          },
          "metadata": {},
          "execution_count": 61
        },
        {
          "output_type": "display_data",
          "data": {
            "text/plain": [
              "<Figure size 640x480 with 2 Axes>"
            ],
            "image/png": "[encoded data removed]"
          },
          "metadata": {}
        }
      ]
    },
    {
      "cell_type": "markdown",
      "source": [
        "### Check."
      ],
      "metadata": {
        "id": "rcQPnkff-NmQ"
      }
    },
    {
      "cell_type": "markdown",
      "source": [
        "### check mean in group."
      ],
      "metadata": {
        "id": "_X5f8Z7rbjrm"
      }
    },
    {
      "cell_type": "code",
      "source": [
        "data.groupby('Research')['Chance of Admit'].mean()"
      ],
      "metadata": {
        "colab": {
          "base_uri": "https://localhost:8080/",
          "height": 178
        },
        "id": "2GbAsPyAS7hp",
        "outputId": "1d568ed7-647c-412d-fe53-0a33910061f8"
      },
      "execution_count": null,
      "outputs": [
        {
          "output_type": "execute_result",
          "data": {
            "text/plain": [
              "Research\n",
              "0    0.637680\n",
              "1    0.795982\n",
              "Name: Chance of Admit, dtype: float64"
            ],
            "text/html": [
              "<div>\n",
              "<style scoped>\n",
              "    .dataframe tbody tr th:only-of-type {\n",
              "        vertical-align: middle;\n",
              "    }\n",
              "\n",
              "    .dataframe tbody tr th {\n",
              "        vertical-align: top;\n",
              "    }\n",
              "\n",
              "    .dataframe thead th {\n",
              "        text-align: right;\n",
              "    }\n",
              "</style>\n",
              "<table border=\"1\" class=\"dataframe\">\n",
              "  <thead>\n",
              "    <tr style=\"text-align: right;\">\n",
              "      <th></th>\n",
              "      <th>Chance of Admit</th>\n",
              "    </tr>\n",
              "    <tr>\n",
              "      <th>Research</th>\n",
              "      <th></th>\n",
              "    </tr>\n",
              "  </thead>\n",
              "  <tbody>\n",
              "    <tr>\n",
              "      <th>0</th>\n",
              "      <td>0.637680</td>\n",
              "    </tr>\n",
              "    <tr>\n",
              "      <th>1</th>\n",
              "      <td>0.795982</td>\n",
              "    </tr>\n",
              "  </tbody>\n",
              "</table>\n",
              "</div><br><label><b>dtype:</b> float64</label>"
            ]
          },
          "metadata": {},
          "execution_count": 7
        }
      ]
    },
    {
      "cell_type": "markdown",
      "source": [
        "The average value of `Chance of Admit` by `Research` groups shows a significant difference, with the probability appearing higher when `Research = 1`."
      ],
      "metadata": {
        "id": "r8d9v5WcbnX-"
      }
    },
    {
      "cell_type": "markdown",
      "source": [
        "### Split data to A/B group."
      ],
      "metadata": {
        "id": "CW6UrlT_-Q12"
      }
    },
    {
      "cell_type": "code",
      "source": [
        "group_A = data[data['Research'] == 0]['Chance of Admit']\n",
        "group_B = data[data['Research'] == 1]['Chance of Admit']"
      ],
      "metadata": {
        "id": "ZcQLFOoz6tn1"
      },
      "execution_count": null,
      "outputs": []
    },
    {
      "cell_type": "markdown",
      "source": [
        "### Check group."
      ],
      "metadata": {
        "id": "Gbo06yGH-XIY"
      }
    },
    {
      "cell_type": "code",
      "source": [
        "count_A = group_A.shape[0]\n",
        "count_B = group_B.shape[0]\n",
        "\n",
        "print(\"Group 0 (A) - Count:\", count_A)\n",
        "print(\"Group 1 (B) - Count:\", count_B)"
      ],
      "metadata": {
        "colab": {
          "base_uri": "https://localhost:8080/"
        },
        "id": "a0AZV31K-ckt",
        "outputId": "e8cccc8d-000f-4478-81d5-c47318a8d0ae"
      },
      "execution_count": null,
      "outputs": [
        {
          "output_type": "stream",
          "name": "stdout",
          "text": [
            "Group 0 (A) - Count: 181\n",
            "Group 1 (B) - Count: 219\n"
          ]
        }
      ]
    },
    {
      "cell_type": "code",
      "source": [
        "std_A = round(group_A.std(), 3)\n",
        "std_B = round(group_B.std(), 3)\n",
        "mean_A = group_A.mean().round(3)\n",
        "mean_B = group_B.mean().round(3)\n",
        "median_A = round(group_A.median(), 3)\n",
        "median_B = round(group_B.median(), 3)\n",
        "mode_A = group_A.mode()[0].round(3)\n",
        "mode_B = group_B.mode()[0].round(3)\n",
        "\n",
        "print(\"Group 0 (A) - Mean:\", mean_A, \"Std Dev:\", std_A, \"Median:\", median_A, \"Mode:\", mode_A)\n",
        "print(\"Group 1 (B) - Mean:\", mean_B, \"Std Dev:\", std_B, \"Median:\", median_B, \"Mode:\", mode_B)"
      ],
      "metadata": {
        "colab": {
          "base_uri": "https://localhost:8080/"
        },
        "id": "IJfbAELW7JOe",
        "outputId": "92dea6b4-a451-4cdc-896c-a36eb1a52906"
      },
      "execution_count": null,
      "outputs": [
        {
          "output_type": "stream",
          "name": "stdout",
          "text": [
            "Group 0 (A) - Mean: 0.638 Std Dev: 0.114 Median: 0.65 Mode: 0.64\n",
            "Group 1 (B) - Mean: 0.796 Std Dev: 0.123 Median: 0.8 Mode: 0.94\n"
          ]
        }
      ]
    },
    {
      "cell_type": "markdown",
      "source": [
        "In all mathematical metrics, the case where `Research = 1` is superior."
      ],
      "metadata": {
        "id": "nkc1kcYYcjtF"
      }
    },
    {
      "cell_type": "markdown",
      "source": [
        "### T-test."
      ],
      "metadata": {
        "id": "cpFQQc3oeFyy"
      }
    },
    {
      "cell_type": "code",
      "source": [
        "t_stat, p_value = ttest_ind(group_A, group_B)\n",
        "\n",
        "print(\"T-Statistic:\", t_stat)\n",
        "print(\"P-value:\", p_value)"
      ],
      "metadata": {
        "colab": {
          "base_uri": "https://localhost:8080/"
        },
        "id": "5rF62efO6P5S",
        "outputId": "0e7acf3b-26bb-4cb9-a0ce-50043d1c3bc3"
      },
      "execution_count": 62,
      "outputs": [
        {
          "output_type": "stream",
          "name": "stdout",
          "text": [
            "T-Statistic: -13.248168764786403\n",
            "P-value: 1.918173380692434e-33\n"
          ]
        }
      ]
    },
    {
      "cell_type": "markdown",
      "source": [
        "### CH squire."
      ],
      "metadata": {
        "id": "p7cwuSkfd7Oa"
      }
    },
    {
      "cell_type": "code",
      "source": [
        "chi2_stat, p_value, dof, expected = chi2_contingency(pd.crosstab(data['Research'], data['Chance of Admit']))\n",
        "\n",
        "print(\"Chi-Square Statistic:\", chi2_stat)\n",
        "print(\"P-value:\", p_value)"
      ],
      "metadata": {
        "colab": {
          "base_uri": "https://localhost:8080/"
        },
        "id": "iSUyCR9w9SpB",
        "outputId": "9effbf16-a73c-4311-bb22-b0c336706b05"
      },
      "execution_count": null,
      "outputs": [
        {
          "output_type": "stream",
          "name": "stdout",
          "text": [
            "Chi-Square Statistic: 175.37126371830163\n",
            "P-value: 1.761816627516827e-13\n"
          ]
        }
      ]
    },
    {
      "cell_type": "markdown",
      "source": [
        "Using `ttest_ind`, we can also observe a difference between the means, and this is statistically significant."
      ],
      "metadata": {
        "id": "vw-AEBVsdU-i"
      }
    },
    {
      "cell_type": "markdown",
      "source": [
        "### ANOVA one way"
      ],
      "metadata": {
        "id": "I5IUMUjAd3G5"
      }
    },
    {
      "cell_type": "code",
      "source": [
        "f_value, p_value = f_oneway(group_A, group_B)\n",
        "\n",
        "print(\"F-value:\", f_value)\n",
        "print(\"P-value:\", p_value)"
      ],
      "metadata": {
        "colab": {
          "base_uri": "https://localhost:8080/"
        },
        "id": "7msvE27S9U8e",
        "outputId": "a11f887f-6bf9-4902-9162-2695f290e466"
      },
      "execution_count": null,
      "outputs": [
        {
          "output_type": "stream",
          "name": "stdout",
          "text": [
            "F-value: 175.51397562026244\n",
            "P-value: 1.9181733806927185e-33\n"
          ]
        }
      ]
    },
    {
      "cell_type": "markdown",
      "source": [
        "Using `ANOVA one way`, we can also observe a difference between the means, and this is statistically significant."
      ],
      "metadata": {
        "id": "SFIu2hb_dbhM"
      }
    },
    {
      "cell_type": "markdown",
      "source": [
        "### Vsualisation."
      ],
      "metadata": {
        "id": "eMN50EBudxJm"
      }
    },
    {
      "cell_type": "code",
      "source": [
        "fig = px.box(\n",
        "    data,\n",
        "    x='Research',\n",
        "    y='Chance of Admit',\n",
        "    color='Research',\n",
        "    title='Chance of Admit by Research.',\n",
        ")\n",
        "fig.show()"
      ],
      "metadata": {
        "colab": {
          "base_uri": "https://localhost:8080/",
          "height": 542
        },
        "id": "xJuC0gue_FeV",
        "outputId": "0c7c5af1-169e-4d4c-91b4-7daf6cbed33b"
      },
      "execution_count": null,
      "outputs": [
        {
          "output_type": "display_data",
          "data": {
            "text/html": [
              "<html>\n",
              "<head><meta charset=\"utf-8\" /></head>\n",
              "<body>\n",
              "    <div>            <script src=\"https://cdnjs.cloudflare.com/ajax/libs/mathjax/2.7.5/MathJax.js?config=TeX-AMS-MML_SVG\"></script><script type=\"text/javascript\">if (window.MathJax && window.MathJax.Hub && window.MathJax.Hub.Config) {window.MathJax.Hub.Config({SVG: {font: \"STIX-Web\"}});}</script>                <script type=\"text/javascript\">window.PlotlyConfig = {MathJaxConfig: 'local'};</script>\n",
              "        <script charset=\"utf-8\" src=\"https://cdn.plot.ly/plotly-2.35.2.min.js\"></script>                <div id=\"b15f83b2-99e6-4de0-8976-3ac732875ba3\" class=\"plotly-graph-div\" style=\"height:525px; width:100%;\"></div>            <script type=\"text/javascript\">                                    window.PLOTLYENV=window.PLOTLYENV || {};                                    if (document.getElementById(\"b15f83b2-99e6-4de0-8976-3ac732875ba3\")) {                    Plotly.newPlot(                        \"b15f83b2-99e6-4de0-8976-3ac732875ba3\",                        [{\"alignmentgroup\":\"True\",\"hovertemplate\":\"Research=%{x}\\u003cbr\\u003eChance of Admit=%{y}\\u003cextra\\u003e\\u003c\\u002fextra\\u003e\",\"legendgroup\":\"1\",\"marker\":{\"color\":\"#636efa\"},\"name\":\"1\",\"notched\":false,\"offsetgroup\":\"1\",\"orientation\":\"v\",\"showlegend\":true,\"x\":[1,1,1,1,1,1,1,1,1,1,1,1,1,1,1,1,1,1,1,1,1,1,1,1,1,1,1,1,1,1,1,1,1,1,1,1,1,1,1,1,1,1,1,1,1,1,1,1,1,1,1,1,1,1,1,1,1,1,1,1,1,1,1,1,1,1,1,1,1,1,1,1,1,1,1,1,1,1,1,1,1,1,1,1,1,1,1,1,1,1,1,1,1,1,1,1,1,1,1,1,1,1,1,1,1,1,1,1,1,1,1,1,1,1,1,1,1,1,1,1,1,1,1,1,1,1,1,1,1,1,1,1,1,1,1,1,1,1,1,1,1,1,1,1,1,1,1,1,1,1,1,1,1,1,1,1,1,1,1,1,1,1,1,1,1,1,1,1,1,1,1,1,1,1,1,1,1,1,1,1,1,1,1,1,1,1,1,1,1,1,1,1,1,1,1,1,1,1,1,1,1,1,1,1,1,1,1,1,1,1,1,1,1,1,1,1,1,1,1],\"x0\":\" \",\"xaxis\":\"x\",\"y\":[0.92,0.76,0.72,0.8,0.9,0.75,0.52,0.84,0.78,0.62,0.61,0.65,0.64,0.94,0.95,0.97,0.94,0.44,0.65,0.74,0.91,0.9,0.94,0.88,0.46,0.49,0.53,0.91,0.88,0.86,0.82,0.78,0.76,0.56,0.78,0.72,0.36,0.54,0.56,0.57,0.68,0.78,0.94,0.96,0.93,0.84,0.72,0.74,0.44,0.5,0.96,0.92,0.92,0.94,0.74,0.64,0.44,0.86,0.9,0.79,0.71,0.74,0.69,0.87,0.91,0.93,0.69,0.62,0.59,0.66,0.71,0.94,0.94,0.64,0.85,0.78,0.84,0.92,0.96,0.89,0.82,0.71,0.8,0.84,0.9,0.92,0.97,0.8,0.81,0.83,0.96,0.79,0.93,0.94,0.86,0.81,0.64,0.68,0.89,0.86,0.89,0.87,0.85,0.9,0.89,0.84,0.93,0.93,0.88,0.9,0.87,0.86,0.94,0.78,0.73,0.72,0.97,0.97,0.66,0.68,0.79,0.82,0.95,0.96,0.94,0.93,0.91,0.85,0.84,0.82,0.74,0.91,0.88,0.85,0.86,0.7,0.76,0.81,0.8,0.77,0.74,0.71,0.93,0.78,0.77,0.9,0.87,0.7,0.7,0.75,0.73,0.72,0.52,0.78,0.89,0.68,0.8,0.81,0.8,0.94,0.93,0.92,0.89,0.64,0.61,0.9,0.65,0.73,0.74,0.79,0.8,0.76,0.84,0.78,0.79,0.8,0.75,0.73,0.81,0.8,0.8,0.73,0.75,0.71,0.73,0.83,0.94,0.81,0.81,0.75,0.79,0.74,0.73,0.64,0.79,0.68,0.85,0.93,0.91,0.77,0.86,0.74,0.67,0.89,0.95,0.79,0.71,0.78,0.73,0.82,0.96,0.96,0.76,0.84,0.89,0.82,0.84,0.91,0.95],\"y0\":\" \",\"yaxis\":\"y\",\"type\":\"box\"},{\"alignmentgroup\":\"True\",\"hovertemplate\":\"Research=%{x}\\u003cbr\\u003eChance of Admit=%{y}\\u003cextra\\u003e\\u003c\\u002fextra\\u003e\",\"legendgroup\":\"0\",\"marker\":{\"color\":\"#EF553B\"},\"name\":\"0\",\"notched\":false,\"offsetgroup\":\"0\",\"orientation\":\"v\",\"showlegend\":true,\"x\":[0,0,0,0,0,0,0,0,0,0,0,0,0,0,0,0,0,0,0,0,0,0,0,0,0,0,0,0,0,0,0,0,0,0,0,0,0,0,0,0,0,0,0,0,0,0,0,0,0,0,0,0,0,0,0,0,0,0,0,0,0,0,0,0,0,0,0,0,0,0,0,0,0,0,0,0,0,0,0,0,0,0,0,0,0,0,0,0,0,0,0,0,0,0,0,0,0,0,0,0,0,0,0,0,0,0,0,0,0,0,0,0,0,0,0,0,0,0,0,0,0,0,0,0,0,0,0,0,0,0,0,0,0,0,0,0,0,0,0,0,0,0,0,0,0,0,0,0,0,0,0,0,0,0,0,0,0,0,0,0,0,0,0,0,0,0,0,0,0,0,0,0,0,0,0,0,0,0,0,0,0],\"x0\":\" \",\"xaxis\":\"x\",\"y\":[0.65,0.68,0.5,0.45,0.54,0.66,0.63,0.62,0.7,0.76,0.46,0.54,0.64,0.58,0.52,0.48,0.87,0.89,0.7,0.64,0.64,0.46,0.42,0.48,0.47,0.52,0.55,0.61,0.74,0.64,0.46,0.76,0.72,0.66,0.64,0.38,0.34,0.36,0.42,0.48,0.64,0.62,0.57,0.68,0.61,0.72,0.56,0.45,0.47,0.57,0.61,0.57,0.77,0.71,0.79,0.76,0.78,0.75,0.79,0.8,0.77,0.7,0.65,0.61,0.52,0.57,0.53,0.67,0.68,0.78,0.65,0.64,0.65,0.82,0.72,0.73,0.71,0.71,0.68,0.75,0.72,0.77,0.73,0.73,0.7,0.72,0.69,0.57,0.63,0.64,0.74,0.76,0.75,0.76,0.71,0.67,0.61,0.63,0.64,0.71,0.73,0.69,0.64,0.7,0.59,0.6,0.65,0.63,0.72,0.71,0.7,0.85,0.79,0.76,0.71,0.71,0.72,0.83,0.77,0.54,0.49,0.58,0.7,0.66,0.67,0.82,0.79,0.58,0.56,0.56,0.68,0.76,0.86,0.71,0.62,0.66,0.62,0.69,0.7,0.67,0.66,0.65,0.54,0.58,0.72,0.62,0.67,0.63,0.69,0.43,0.72,0.58,0.59,0.47,0.49,0.47,0.42,0.57,0.62,0.63,0.59,0.73,0.7,0.81,0.69,0.57,0.51,0.72,0.39,0.38,0.34,0.47,0.56,0.62,0.46,0.53,0.49,0.64,0.71,0.77,0.67],\"y0\":\" \",\"yaxis\":\"y\",\"type\":\"box\"}],                        {\"template\":{\"data\":{\"histogram2dcontour\":[{\"type\":\"histogram2dcontour\",\"colorbar\":{\"outlinewidth\":0,\"ticks\":\"\"},\"colorscale\":[[0.0,\"#0d0887\"],[0.1111111111111111,\"#46039f\"],[0.2222222222222222,\"#7201a8\"],[0.3333333333333333,\"#9c179e\"],[0.4444444444444444,\"#bd3786\"],[0.5555555555555556,\"#d8576b\"],[0.6666666666666666,\"#ed7953\"],[0.7777777777777778,\"#fb9f3a\"],[0.8888888888888888,\"#fdca26\"],[1.0,\"#f0f921\"]]}],\"choropleth\":[{\"type\":\"choropleth\",\"colorbar\":{\"outlinewidth\":0,\"ticks\":\"\"}}],\"histogram2d\":[{\"type\":\"histogram2d\",\"colorbar\":{\"outlinewidth\":0,\"ticks\":\"\"},\"colorscale\":[[0.0,\"#0d0887\"],[0.1111111111111111,\"#46039f\"],[0.2222222222222222,\"#7201a8\"],[0.3333333333333333,\"#9c179e\"],[0.4444444444444444,\"#bd3786\"],[0.5555555555555556,\"#d8576b\"],[0.6666666666666666,\"#ed7953\"],[0.7777777777777778,\"#fb9f3a\"],[0.8888888888888888,\"#fdca26\"],[1.0,\"#f0f921\"]]}],\"heatmap\":[{\"type\":\"heatmap\",\"colorbar\":{\"outlinewidth\":0,\"ticks\":\"\"},\"colorscale\":[[0.0,\"#0d0887\"],[0.1111111111111111,\"#46039f\"],[0.2222222222222222,\"#7201a8\"],[0.3333333333333333,\"#9c179e\"],[0.4444444444444444,\"#bd3786\"],[0.5555555555555556,\"#d8576b\"],[0.6666666666666666,\"#ed7953\"],[0.7777777777777778,\"#fb9f3a\"],[0.8888888888888888,\"#fdca26\"],[1.0,\"#f0f921\"]]}],\"heatmapgl\":[{\"type\":\"heatmapgl\",\"colorbar\":{\"outlinewidth\":0,\"ticks\":\"\"},\"colorscale\":[[0.0,\"#0d0887\"],[0.1111111111111111,\"#46039f\"],[0.2222222222222222,\"#7201a8\"],[0.3333333333333333,\"#9c179e\"],[0.4444444444444444,\"#bd3786\"],[0.5555555555555556,\"#d8576b\"],[0.6666666666666666,\"#ed7953\"],[0.7777777777777778,\"#fb9f3a\"],[0.8888888888888888,\"#fdca26\"],[1.0,\"#f0f921\"]]}],\"contourcarpet\":[{\"type\":\"contourcarpet\",\"colorbar\":{\"outlinewidth\":0,\"ticks\":\"\"}}],\"contour\":[{\"type\":\"contour\",\"colorbar\":{\"outlinewidth\":0,\"ticks\":\"\"},\"colorscale\":[[0.0,\"#0d0887\"],[0.1111111111111111,\"#46039f\"],[0.2222222222222222,\"#7201a8\"],[0.3333333333333333,\"#9c179e\"],[0.4444444444444444,\"#bd3786\"],[0.5555555555555556,\"#d8576b\"],[0.6666666666666666,\"#ed7953\"],[0.7777777777777778,\"#fb9f3a\"],[0.8888888888888888,\"#fdca26\"],[1.0,\"#f0f921\"]]}],\"surface\":[{\"type\":\"surface\",\"colorbar\":{\"outlinewidth\":0,\"ticks\":\"\"},\"colorscale\":[[0.0,\"#0d0887\"],[0.1111111111111111,\"#46039f\"],[0.2222222222222222,\"#7201a8\"],[0.3333333333333333,\"#9c179e\"],[0.4444444444444444,\"#bd3786\"],[0.5555555555555556,\"#d8576b\"],[0.6666666666666666,\"#ed7953\"],[0.7777777777777778,\"#fb9f3a\"],[0.8888888888888888,\"#fdca26\"],[1.0,\"#f0f921\"]]}],\"mesh3d\":[{\"type\":\"mesh3d\",\"colorbar\":{\"outlinewidth\":0,\"ticks\":\"\"}}],\"scatter\":[{\"fillpattern\":{\"fillmode\":\"overlay\",\"size\":10,\"solidity\":0.2},\"type\":\"scatter\"}],\"parcoords\":[{\"type\":\"parcoords\",\"line\":{\"colorbar\":{\"outlinewidth\":0,\"ticks\":\"\"}}}],\"scatterpolargl\":[{\"type\":\"scatterpolargl\",\"marker\":{\"colorbar\":{\"outlinewidth\":0,\"ticks\":\"\"}}}],\"bar\":[{\"error_x\":{\"color\":\"#2a3f5f\"},\"error_y\":{\"color\":\"#2a3f5f\"},\"marker\":{\"line\":{\"color\":\"#E5ECF6\",\"width\":0.5},\"pattern\":{\"fillmode\":\"overlay\",\"size\":10,\"solidity\":0.2}},\"type\":\"bar\"}],\"scattergeo\":[{\"type\":\"scattergeo\",\"marker\":{\"colorbar\":{\"outlinewidth\":0,\"ticks\":\"\"}}}],\"scatterpolar\":[{\"type\":\"scatterpolar\",\"marker\":{\"colorbar\":{\"outlinewidth\":0,\"ticks\":\"\"}}}],\"histogram\":[{\"marker\":{\"pattern\":{\"fillmode\":\"overlay\",\"size\":10,\"solidity\":0.2}},\"type\":\"histogram\"}],\"scattergl\":[{\"type\":\"scattergl\",\"marker\":{\"colorbar\":{\"outlinewidth\":0,\"ticks\":\"\"}}}],\"scatter3d\":[{\"type\":\"scatter3d\",\"line\":{\"colorbar\":{\"outlinewidth\":0,\"ticks\":\"\"}},\"marker\":{\"colorbar\":{\"outlinewidth\":0,\"ticks\":\"\"}}}],\"scattermapbox\":[{\"type\":\"scattermapbox\",\"marker\":{\"colorbar\":{\"outlinewidth\":0,\"ticks\":\"\"}}}],\"scatterternary\":[{\"type\":\"scatterternary\",\"marker\":{\"colorbar\":{\"outlinewidth\":0,\"ticks\":\"\"}}}],\"scattercarpet\":[{\"type\":\"scattercarpet\",\"marker\":{\"colorbar\":{\"outlinewidth\":0,\"ticks\":\"\"}}}],\"carpet\":[{\"aaxis\":{\"endlinecolor\":\"#2a3f5f\",\"gridcolor\":\"white\",\"linecolor\":\"white\",\"minorgridcolor\":\"white\",\"startlinecolor\":\"#2a3f5f\"},\"baxis\":{\"endlinecolor\":\"#2a3f5f\",\"gridcolor\":\"white\",\"linecolor\":\"white\",\"minorgridcolor\":\"white\",\"startlinecolor\":\"#2a3f5f\"},\"type\":\"carpet\"}],\"table\":[{\"cells\":{\"fill\":{\"color\":\"#EBF0F8\"},\"line\":{\"color\":\"white\"}},\"header\":{\"fill\":{\"color\":\"#C8D4E3\"},\"line\":{\"color\":\"white\"}},\"type\":\"table\"}],\"barpolar\":[{\"marker\":{\"line\":{\"color\":\"#E5ECF6\",\"width\":0.5},\"pattern\":{\"fillmode\":\"overlay\",\"size\":10,\"solidity\":0.2}},\"type\":\"barpolar\"}],\"pie\":[{\"automargin\":true,\"type\":\"pie\"}]},\"layout\":{\"autotypenumbers\":\"strict\",\"colorway\":[\"#636efa\",\"#EF553B\",\"#00cc96\",\"#ab63fa\",\"#FFA15A\",\"#19d3f3\",\"#FF6692\",\"#B6E880\",\"#FF97FF\",\"#FECB52\"],\"font\":{\"color\":\"#2a3f5f\"},\"hovermode\":\"closest\",\"hoverlabel\":{\"align\":\"left\"},\"paper_bgcolor\":\"white\",\"plot_bgcolor\":\"#E5ECF6\",\"polar\":{\"bgcolor\":\"#E5ECF6\",\"angularaxis\":{\"gridcolor\":\"white\",\"linecolor\":\"white\",\"ticks\":\"\"},\"radialaxis\":{\"gridcolor\":\"white\",\"linecolor\":\"white\",\"ticks\":\"\"}},\"ternary\":{\"bgcolor\":\"#E5ECF6\",\"aaxis\":{\"gridcolor\":\"white\",\"linecolor\":\"white\",\"ticks\":\"\"},\"baxis\":{\"gridcolor\":\"white\",\"linecolor\":\"white\",\"ticks\":\"\"},\"caxis\":{\"gridcolor\":\"white\",\"linecolor\":\"white\",\"ticks\":\"\"}},\"coloraxis\":{\"colorbar\":{\"outlinewidth\":0,\"ticks\":\"\"}},\"colorscale\":{\"sequential\":[[0.0,\"#0d0887\"],[0.1111111111111111,\"#46039f\"],[0.2222222222222222,\"#7201a8\"],[0.3333333333333333,\"#9c179e\"],[0.4444444444444444,\"#bd3786\"],[0.5555555555555556,\"#d8576b\"],[0.6666666666666666,\"#ed7953\"],[0.7777777777777778,\"#fb9f3a\"],[0.8888888888888888,\"#fdca26\"],[1.0,\"#f0f921\"]],\"sequentialminus\":[[0.0,\"#0d0887\"],[0.1111111111111111,\"#46039f\"],[0.2222222222222222,\"#7201a8\"],[0.3333333333333333,\"#9c179e\"],[0.4444444444444444,\"#bd3786\"],[0.5555555555555556,\"#d8576b\"],[0.6666666666666666,\"#ed7953\"],[0.7777777777777778,\"#fb9f3a\"],[0.8888888888888888,\"#fdca26\"],[1.0,\"#f0f921\"]],\"diverging\":[[0,\"#8e0152\"],[0.1,\"#c51b7d\"],[0.2,\"#de77ae\"],[0.3,\"#f1b6da\"],[0.4,\"#fde0ef\"],[0.5,\"#f7f7f7\"],[0.6,\"#e6f5d0\"],[0.7,\"#b8e186\"],[0.8,\"#7fbc41\"],[0.9,\"#4d9221\"],[1,\"#276419\"]]},\"xaxis\":{\"gridcolor\":\"white\",\"linecolor\":\"white\",\"ticks\":\"\",\"title\":{\"standoff\":15},\"zerolinecolor\":\"white\",\"automargin\":true,\"zerolinewidth\":2},\"yaxis\":{\"gridcolor\":\"white\",\"linecolor\":\"white\",\"ticks\":\"\",\"title\":{\"standoff\":15},\"zerolinecolor\":\"white\",\"automargin\":true,\"zerolinewidth\":2},\"scene\":{\"xaxis\":{\"backgroundcolor\":\"#E5ECF6\",\"gridcolor\":\"white\",\"linecolor\":\"white\",\"showbackground\":true,\"ticks\":\"\",\"zerolinecolor\":\"white\",\"gridwidth\":2},\"yaxis\":{\"backgroundcolor\":\"#E5ECF6\",\"gridcolor\":\"white\",\"linecolor\":\"white\",\"showbackground\":true,\"ticks\":\"\",\"zerolinecolor\":\"white\",\"gridwidth\":2},\"zaxis\":{\"backgroundcolor\":\"#E5ECF6\",\"gridcolor\":\"white\",\"linecolor\":\"white\",\"showbackground\":true,\"ticks\":\"\",\"zerolinecolor\":\"white\",\"gridwidth\":2}},\"shapedefaults\":{\"line\":{\"color\":\"#2a3f5f\"}},\"annotationdefaults\":{\"arrowcolor\":\"#2a3f5f\",\"arrowhead\":0,\"arrowwidth\":1},\"geo\":{\"bgcolor\":\"white\",\"landcolor\":\"#E5ECF6\",\"subunitcolor\":\"white\",\"showland\":true,\"showlakes\":true,\"lakecolor\":\"white\"},\"title\":{\"x\":0.05},\"mapbox\":{\"style\":\"light\"}}},\"xaxis\":{\"anchor\":\"y\",\"domain\":[0.0,1.0],\"title\":{\"text\":\"Research\"},\"categoryorder\":\"array\",\"categoryarray\":[1,0]},\"yaxis\":{\"anchor\":\"x\",\"domain\":[0.0,1.0],\"title\":{\"text\":\"Chance of Admit\"}},\"legend\":{\"title\":{\"text\":\"Research\"},\"tracegroupgap\":0},\"title\":{\"text\":\"Chance of Admit by Research.\"},\"boxmode\":\"overlay\"},                        {\"responsive\": true}                    ).then(function(){\n",
              "                            \n",
              "var gd = document.getElementById('b15f83b2-99e6-4de0-8976-3ac732875ba3');\n",
              "var x = new MutationObserver(function (mutations, observer) {{\n",
              "        var display = window.getComputedStyle(gd).display;\n",
              "        if (!display || display === 'none') {{\n",
              "            console.log([gd, 'removed!']);\n",
              "            Plotly.purge(gd);\n",
              "            observer.disconnect();\n",
              "        }}\n",
              "}});\n",
              "\n",
              "// Listen for the removal of the full notebook cells\n",
              "var notebookContainer = gd.closest('#notebook-container');\n",
              "if (notebookContainer) {{\n",
              "    x.observe(notebookContainer, {childList: true});\n",
              "}}\n",
              "\n",
              "// Listen for the clearing of the current output cell\n",
              "var outputEl = gd.closest('.output');\n",
              "if (outputEl) {{\n",
              "    x.observe(outputEl, {childList: true});\n",
              "}}\n",
              "\n",
              "                        })                };                            </script>        </div>\n",
              "</body>\n",
              "</html>"
            ]
          },
          "metadata": {}
        }
      ]
    },
    {
      "cell_type": "code",
      "source": [
        "hist_data = [group_A, group_B]\n",
        "group_labels = ['Research 0', 'Research 1']\n",
        "\n",
        "fig = ff.create_distplot(\n",
        "    hist_data,\n",
        "    group_labels,\n",
        "    bin_size=0.05,\n",
        "    show_hist=True,\n",
        "    show_rug=False\n",
        ")\n",
        "\n",
        "fig.update_layout(\n",
        "    title='Chance of Admit and Research Group',\n",
        "    xaxis_title='Chance of Admit',\n",
        "    yaxis_title='Frequency',\n",
        "    legend_title='Research'\n",
        ")\n",
        "fig.show()"
      ],
      "metadata": {
        "colab": {
          "base_uri": "https://localhost:8080/",
          "height": 542
        },
        "id": "xDk7Zf517G7u",
        "outputId": "d429b74c-63fa-4e86-c6eb-637bdd881ae8"
      },
      "execution_count": null,
      "outputs": [
        {
          "output_type": "display_data",
          "data": {
            "text/html": [
              "<html>\n",
              "<head><meta charset=\"utf-8\" /></head>\n",
              "<body>\n",
              "    <div>            <script src=\"https://cdnjs.cloudflare.com/ajax/libs/mathjax/2.7.5/MathJax.js?config=TeX-AMS-MML_SVG\"></script><script type=\"text/javascript\">if (window.MathJax && window.MathJax.Hub && window.MathJax.Hub.Config) {window.MathJax.Hub.Config({SVG: {font: \"STIX-Web\"}});}</script>                <script type=\"text/javascript\">window.PlotlyConfig = {MathJaxConfig: 'local'};</script>\n",
              "        <script charset=\"utf-8\" src=\"https://cdn.plot.ly/plotly-2.35.2.min.js\"></script>                <div id=\"2e973868-de05-4b40-9199-911f0e6e19ff\" class=\"plotly-graph-div\" style=\"height:525px; width:100%;\"></div>            <script type=\"text/javascript\">                                    window.PLOTLYENV=window.PLOTLYENV || {};                                    if (document.getElementById(\"2e973868-de05-4b40-9199-911f0e6e19ff\")) {                    Plotly.newPlot(                        \"2e973868-de05-4b40-9199-911f0e6e19ff\",                        [{\"autobinx\":false,\"histnorm\":\"probability density\",\"legendgroup\":\"Research 0\",\"marker\":{\"color\":\"rgb(31, 119, 180)\"},\"name\":\"Research 0\",\"opacity\":0.7,\"x\":[0.65,0.68,0.5,0.45,0.54,0.66,0.63,0.62,0.7,0.76,0.46,0.54,0.64,0.58,0.52,0.48,0.87,0.89,0.7,0.64,0.64,0.46,0.42,0.48,0.47,0.52,0.55,0.61,0.74,0.64,0.46,0.76,0.72,0.66,0.64,0.38,0.34,0.36,0.42,0.48,0.64,0.62,0.57,0.68,0.61,0.72,0.56,0.45,0.47,0.57,0.61,0.57,0.77,0.71,0.79,0.76,0.78,0.75,0.79,0.8,0.77,0.7,0.65,0.61,0.52,0.57,0.53,0.67,0.68,0.78,0.65,0.64,0.65,0.82,0.72,0.73,0.71,0.71,0.68,0.75,0.72,0.77,0.73,0.73,0.7,0.72,0.69,0.57,0.63,0.64,0.74,0.76,0.75,0.76,0.71,0.67,0.61,0.63,0.64,0.71,0.73,0.69,0.64,0.7,0.59,0.6,0.65,0.63,0.72,0.71,0.7,0.85,0.79,0.76,0.71,0.71,0.72,0.83,0.77,0.54,0.49,0.58,0.7,0.66,0.67,0.82,0.79,0.58,0.56,0.56,0.68,0.76,0.86,0.71,0.62,0.66,0.62,0.69,0.7,0.67,0.66,0.65,0.54,0.58,0.72,0.62,0.67,0.63,0.69,0.43,0.72,0.58,0.59,0.47,0.49,0.47,0.42,0.57,0.62,0.63,0.59,0.73,0.7,0.81,0.69,0.57,0.51,0.72,0.39,0.38,0.34,0.47,0.56,0.62,0.46,0.53,0.49,0.64,0.71,0.77,0.67],\"xaxis\":\"x\",\"xbins\":{\"end\":0.89,\"size\":0.05,\"start\":0.34},\"yaxis\":\"y\",\"type\":\"histogram\"},{\"autobinx\":false,\"histnorm\":\"probability density\",\"legendgroup\":\"Research 1\",\"marker\":{\"color\":\"rgb(255, 127, 14)\"},\"name\":\"Research 1\",\"opacity\":0.7,\"x\":[0.92,0.76,0.72,0.8,0.9,0.75,0.52,0.84,0.78,0.62,0.61,0.65,0.64,0.94,0.95,0.97,0.94,0.44,0.65,0.74,0.91,0.9,0.94,0.88,0.46,0.49,0.53,0.91,0.88,0.86,0.82,0.78,0.76,0.56,0.78,0.72,0.36,0.54,0.56,0.57,0.68,0.78,0.94,0.96,0.93,0.84,0.72,0.74,0.44,0.5,0.96,0.92,0.92,0.94,0.74,0.64,0.44,0.86,0.9,0.79,0.71,0.74,0.69,0.87,0.91,0.93,0.69,0.62,0.59,0.66,0.71,0.94,0.94,0.64,0.85,0.78,0.84,0.92,0.96,0.89,0.82,0.71,0.8,0.84,0.9,0.92,0.97,0.8,0.81,0.83,0.96,0.79,0.93,0.94,0.86,0.81,0.64,0.68,0.89,0.86,0.89,0.87,0.85,0.9,0.89,0.84,0.93,0.93,0.88,0.9,0.87,0.86,0.94,0.78,0.73,0.72,0.97,0.97,0.66,0.68,0.79,0.82,0.95,0.96,0.94,0.93,0.91,0.85,0.84,0.82,0.74,0.91,0.88,0.85,0.86,0.7,0.76,0.81,0.8,0.77,0.74,0.71,0.93,0.78,0.77,0.9,0.87,0.7,0.7,0.75,0.73,0.72,0.52,0.78,0.89,0.68,0.8,0.81,0.8,0.94,0.93,0.92,0.89,0.64,0.61,0.9,0.65,0.73,0.74,0.79,0.8,0.76,0.84,0.78,0.79,0.8,0.75,0.73,0.81,0.8,0.8,0.73,0.75,0.71,0.73,0.83,0.94,0.81,0.81,0.75,0.79,0.74,0.73,0.64,0.79,0.68,0.85,0.93,0.91,0.77,0.86,0.74,0.67,0.89,0.95,0.79,0.71,0.78,0.73,0.82,0.96,0.96,0.76,0.84,0.89,0.82,0.84,0.91,0.95],\"xaxis\":\"x\",\"xbins\":{\"end\":0.97,\"size\":0.05,\"start\":0.36},\"yaxis\":\"y\",\"type\":\"histogram\"},{\"legendgroup\":\"Research 0\",\"marker\":{\"color\":\"rgb(31, 119, 180)\"},\"mode\":\"lines\",\"name\":\"Research 0\",\"showlegend\":false,\"x\":[0.34,0.3411,0.3422,0.34330000000000005,0.34440000000000004,0.34550000000000003,0.3466,0.3477,0.3488,0.34990000000000004,0.35100000000000003,0.3521,0.3532,0.3543,0.35540000000000005,0.35650000000000004,0.35760000000000003,0.3587,0.3598,0.3609,0.36200000000000004,0.36310000000000003,0.3642,0.3653,0.3664,0.36750000000000005,0.36860000000000004,0.36970000000000003,0.3708,0.3719,0.373,0.37410000000000004,0.37520000000000003,0.3763,0.3774,0.3785,0.37960000000000005,0.38070000000000004,0.38180000000000003,0.3829,0.384,0.3851,0.38620000000000004,0.38730000000000003,0.3884,0.3895,0.3906,0.39170000000000005,0.39280000000000004,0.39390000000000003,0.395,0.3961,0.3972,0.39830000000000004,0.39940000000000003,0.4005,0.4016,0.40270000000000006,0.40380000000000005,0.40490000000000004,0.406,0.4071,0.4082,0.40930000000000005,0.41040000000000004,0.41150000000000003,0.4126,0.4137,0.41480000000000006,0.41590000000000005,0.41700000000000004,0.4181,0.4192,0.4203,0.4214,0.42250000000000004,0.42360000000000003,0.4247,0.42580000000000007,0.42690000000000006,0.42800000000000005,0.42910000000000004,0.4302,0.4313,0.4324,0.43350000000000005,0.43460000000000004,0.43570000000000003,0.4368,0.4379,0.43900000000000006,0.44010000000000005,0.44120000000000004,0.4423,0.4434,0.4445,0.44560000000000005,0.44670000000000004,0.44780000000000003,0.4489,0.45000000000000007,0.45110000000000006,0.45220000000000005,0.45330000000000004,0.4544,0.4555,0.4566,0.4577,0.45880000000000004,0.45990000000000003,0.461,0.46210000000000007,0.46320000000000006,0.46430000000000005,0.46540000000000004,0.4665,0.4676,0.4687,0.4698,0.47090000000000004,0.47200000000000003,0.4731000000000001,0.47420000000000007,0.47530000000000006,0.47640000000000005,0.47750000000000004,0.4786,0.4797,0.4808,0.4819,0.483,0.4841000000000001,0.4852000000000001,0.48630000000000007,0.48740000000000006,0.48850000000000005,0.48960000000000004,0.4907,0.4918,0.4929,0.494,0.49510000000000004,0.49620000000000003,0.4973000000000001,0.49840000000000007,0.49950000000000006,0.5006,0.5017,0.5028,0.5039,0.505,0.5061,0.5072000000000001,0.5083,0.5094000000000001,0.5105000000000001,0.5116,0.5127,0.5138,0.5149,0.516,0.5171000000000001,0.5182,0.5193000000000001,0.5204,0.5215000000000001,0.5226000000000001,0.5237,0.5248,0.5259,0.527,0.5281,0.5292,0.5303,0.5314000000000001,0.5325000000000001,0.5336000000000001,0.5347000000000001,0.5358,0.5369,0.538,0.5391,0.5402,0.5413,0.5424,0.5435000000000001,0.5446000000000001,0.5457000000000001,0.5468000000000001,0.5479,0.549,0.5501,0.5512,0.5523,0.5534,0.5545,0.5556000000000001,0.5567,0.5578000000000001,0.5589000000000001,0.56,0.5611,0.5622,0.5633,0.5644,0.5655000000000001,0.5666,0.5677000000000001,0.5688,0.5699000000000001,0.5710000000000001,0.5721,0.5732,0.5743,0.5754,0.5765,0.5776000000000001,0.5787,0.5798000000000001,0.5809,0.5820000000000001,0.5831000000000001,0.5842,0.5853,0.5864,0.5875,0.5886,0.5897,0.5908,0.5919000000000001,0.593,0.5941000000000001,0.5952000000000001,0.5963,0.5974,0.5985,0.5996,0.6007,0.6018000000000001,0.6029,0.6040000000000001,0.6051,0.6062000000000001,0.6073000000000001,0.6084,0.6095,0.6106,0.6117000000000001,0.6128,0.6139000000000001,0.615,0.6161000000000001,0.6172000000000001,0.6183000000000001,0.6194000000000001,0.6205,0.6216,0.6227,0.6238,0.6249,0.626,0.6271,0.6282000000000001,0.6293,0.6304000000000001,0.6315,0.6326,0.6337000000000002,0.6348,0.6359000000000001,0.637,0.6381000000000001,0.6392,0.6403000000000001,0.6414000000000001,0.6425000000000001,0.6436000000000001,0.6447,0.6458,0.6469,0.648,0.6491,0.6502000000000001,0.6513,0.6524000000000001,0.6535,0.6546000000000001,0.6557000000000001,0.6568,0.6579,0.659,0.6601,0.6612,0.6623000000000001,0.6634,0.6645000000000001,0.6656,0.6667000000000001,0.6678000000000001,0.6689,0.67,0.6711,0.6722000000000001,0.6733,0.6744000000000001,0.6755,0.6766000000000001,0.6777000000000001,0.6788000000000001,0.6799000000000001,0.681,0.6821,0.6832,0.6843,0.6854,0.6865,0.6876,0.6887000000000001,0.6898,0.6909000000000001,0.692,0.6931,0.6942000000000002,0.6953,0.6964000000000001,0.6975,0.6986000000000001,0.6997,0.7008000000000001,0.7019000000000001,0.7030000000000001,0.7041000000000001,0.7052,0.7063,0.7074,0.7085000000000001,0.7096,0.7107000000000001,0.7118,0.7129000000000001,0.7140000000000001,0.7151000000000001,0.7162000000000001,0.7173,0.7184,0.7195,0.7206000000000001,0.7217,0.7228000000000001,0.7239,0.7250000000000001,0.7261,0.7272000000000001,0.7283000000000001,0.7294,0.7305000000000001,0.7316,0.7327000000000001,0.7338,0.7349000000000001,0.7360000000000001,0.7371000000000001,0.7382000000000001,0.7393000000000001,0.7404000000000001,0.7415,0.7426,0.7437,0.7448,0.7459,0.7470000000000001,0.7481,0.7492000000000001,0.7503,0.7514000000000001,0.7525000000000001,0.7536,0.7547000000000001,0.7558,0.7569000000000001,0.758,0.7591000000000001,0.7602,0.7613000000000001,0.7624000000000001,0.7635000000000001,0.7646000000000001,0.7657,0.7668,0.7679,0.7690000000000001,0.7701,0.7712000000000001,0.7723,0.7734000000000001,0.7745000000000001,0.7756000000000001,0.7767000000000001,0.7778,0.7789,0.78,0.7811000000000001,0.7822,0.7833000000000001,0.7844,0.7855000000000001,0.7866,0.7877000000000001,0.7888000000000001,0.7899,0.7910000000000001,0.7921,0.7932000000000001,0.7943,0.7954000000000001,0.7965000000000001,0.7976000000000001,0.7987000000000001,0.7998000000000001,0.8009000000000001,0.802,0.8031,0.8042,0.8053,0.8064,0.8075000000000001,0.8086,0.8097000000000001,0.8108,0.8119000000000001,0.8130000000000001,0.8141,0.8152000000000001,0.8163,0.8174000000000001,0.8185,0.8196000000000001,0.8207000000000001,0.8218000000000001,0.8229000000000001,0.8240000000000001,0.8251000000000001,0.8262,0.8273,0.8284,0.8295000000000001,0.8306,0.8317000000000001,0.8328000000000001,0.8339000000000001,0.8350000000000001,0.8361000000000001,0.8372,0.8383,0.8394,0.8405,0.8416000000000001,0.8427,0.8438000000000001,0.8449,0.8460000000000001,0.8471,0.8482000000000001,0.8493000000000002,0.8504,0.8515000000000001,0.8526,0.8537000000000001,0.8548,0.8559000000000001,0.857,0.8581000000000001,0.8592,0.8603000000000001,0.8614000000000002,0.8625,0.8636000000000001,0.8647,0.8658000000000001,0.8669000000000002,0.8680000000000001,0.8691,0.8702000000000001,0.8713000000000002,0.8724000000000001,0.8734999999999999,0.8746,0.8757000000000001,0.8768,0.8779000000000001,0.879,0.8801000000000001,0.8812,0.8823000000000001,0.8834000000000002,0.8845000000000001,0.8855999999999999,0.8867,0.8878000000000001,0.8889],\"xaxis\":\"x\",\"y\":[0.28461633719408486,0.2900589265672903,0.2955082603861914,0.30096359183033367,0.3064243504255481,0.3118901483360285,0.3173607861135655,0.32283625787211023,0.32831675585722836,0.3338026743814662,0.3392946130982006,0.3447933795882137,0.3502999912349591,0.3558156763663249,0.3613418746426007,0.36688023667234404,0.37243262283991313,0.3780011013305534,0.3835879453411586,0.3891956294670871,0.39482682525778173,0.400484395936337,0.4061713902806567,0.4118910356663862,0.41764673027440286,0.42344203446833617,0.4292806613503037,0.4351664665058482,0.4411034369519002,0.44709567930449534,0.45314740718592356,0.4592629278939772,0.46544662835902323,0.4717029604176897,0.47803642543506775,0.4844515583104898,0.4909529109050674,0.4975450349323871,0.5042324643568713,0.5110196973475454,0.5179111778380008,0.5249112767465404,0.5320242729134569,0.5392543338154583,0.5466054961201107,0.5540816461459953,0.5616865002969864,0.569423585541573,0.5772962200105823,0.5853074937888597,0.5934602499784747,0.6017570661128407,0.6102002360026528,0.6187917520958398,0.6275332884347329,0.6364261842942825,0.645471428585527,0.6546696451084772,0.6640210787381594,0.6735255826268094,0.6831826065039067,0.6929911861541767,0.7029499341514998,0.7130570319241767,0.7233102232239077,0.7337068090673712,0.7442436442152635,0.7549171352492138,0.765723240301991,0.7766574704910137,0.7877148930992531,0.7988901365412632,0.8101773971452415,0.821570447774887,0.8330626483070821,0.8446469579735608,0.8563159495663337,0.8680618254980553,0.8798764356996355,0.8917512973282771,0.9036776162499305,0.9156463102506442,0.927648033921949,0.9396732051558948,0.9517120331758953,0.9637545480202453,0.9757906313860246,0.9878100487320678,0.9998024825311288,1.0117575665529523,1.023664921052133,1.0355141887271364,1.047295071310017,1.0589973666399937,1.070611006068349,1.0821260920372269,1.0935329356705294,1.1048220942117997,1.115984408141215,1.127011037802213,1.1378934993672987,1.1486236999727175,1.159193971852697,1.1695971053058818,1.1798263803296332,1.1898755967616834,1.199739102773565,1.2094118215660479,1.2188892761236123,1.2281676118926128,1.237243617256356,1.246114741689741,1.2547791114861928,1.2632355429606514,1.2714835530439015,1.2795233671957784,1.2873559245775765,1.2949828804372525,1.3024066056746728,1.309630183568146,1.3166574036577892,1.3234927527956102,1.330141403386699,1.3366091988604343,1.3429026364249055,1.3490288471719756,1.3549955736143091,1.3608111447492006,1.366484448757136,1.3720249034555914,1.3774424246404826,1.3827473924589604,1.3879506159677482,1.3930632960408633,1.3980969867994064,1.4030635557439088,1.4079751427765916,1.4128441183067464,1.4176830406371408,1.4225046128330645,1.4273216392780823,1.4321469821219872,1.4369935178266464,1.4418740940144696,1.4468014868222012,1.451788358959452,1.4568472186670371,1.4619903797647917,1.4672299229719268,1.4725776586755102,1.4780450913141487,1.4836433855343925,1.4893833342670915,1.4952753288598362,1.501329331389593,1.5075548492670838,1.5139609122312991,1.520556051818735,1.5273482833777663,1.5343450906839806,1.5415534131975142,1.5489796359882513,1.5566295823396925,1.564508509027058,1.5726211042499898,1.580971488185393,1.5895632161110111,1.5983992840360983,1.6074821367613694,1.6168136782770313,1.6263952843946383,1.6362278174962852,1.6463116432730378,1.6566466493137317,1.6672322653953446,1.6780674853171436,1.689150890112796,1.7004806724676436,1.7120546621624129,1.7238703523598315,1.7359249265470624,1.7482152859442557,1.760738077188406,1.773489720101598,1.7864664353538586,1.7996642718333429,1.8130791335400924,1.8267068058245188,1.8405429807976987,1.8545832817477186,1.8688232864046213,1.8832585489057585,1.897884620323729,1.9126970676303445,1.9276914909822385,1.9428635392267437,1.9582089235403086,1.9737234291261236,1.989402924912512,2.005243371208987,2.0212408252925935,2.0373914449130957,2.053691489721585,2.0701373206433313,2.086725397231534,2.103452273054559,2.120314589184598,2.13730906587086,2.154432492494672,2.1716817159179156,2.1890536273489425,2.2065451478625566,2.224153212721574,2.241874754657594,2.2597066862775983,2.277645881770476,2.2956891580941314,2.313833255828467,2.332074819883369,2.3504103802524985,2.368836333004532,2.3873489217021566,2.4059442194367624,2.424618111662511,2.443366280007908,2.4621841872357972,2.4810670635141134,2.500009894149704,2.5190074089261785,2.538054073174204,2.5571440806886625,2.5762713485926056,2.595429514231603,2.614611934165946,2.6338116853103304,2.6530215682529676,2.672234112767519,2.6914415855125906,2.7106359998946994,2.7298091280517647,2.7489525148955916,2.7680574941334313,2.7871152061709723,2.8061166177818184,2.825052543412321,2.8439136679749617,2.862690570969357,2.8813737517566946,2.8999536558016317,2.918420701685465,2.936765308685372,2.9549779247077144,2.973049054357641,2.9909692869239217,3.008729324055949,3.0263200069100455,3.0437323425441463,3.0609575293438374,3.0779869812684235,3.094812350713341,3.1114255497945753,3.1278187698718884,3.14398449914042,3.159915538134568,3.175605013003904,3.1910463864378324,3.2062334661343,3.2211604107269407,3.2358217331055816,3.2502123010858557,3.264327335405333,3.2781624050455505,3.291713419901406,3.3049766208416687,3.3179485672261615,3.330626121967156,3.343006434243145,3.3550869199940205,3.3668652403457795,3.3783392781314254,3.3895071126919447,3.4003669931568252,3.410917310418037,3.4211565680237865,3.4310833522292272,3.440696301450359,3.449994075374039,3.4589753239822754,3.4676386567515936,3.4759826122890938,3.4840056286655634,3.491706014702094,3.4990819224616048,3.506131321188319,3.512851972929085,3.519241410058456,3.525296914915944,3.531015501748741,3.5363939011362295,3.541428547054217,3.546115566717126,3.550450773315544,3.5544296617445377,3.5580474073954216,3.5612988680604287,3.5641785889755866,3.5666808110034744,3.568799481932905,3.5705282708489947,3.5718605855031194,3.572789592589356,3.573308240811411,3.573409286602781,3.573085322342155,3.5723288068873194,3.5711320982326913,3.569487488079636,3.567387238094115,3.564823617613458,3.5617889425532736,3.5582756152565036,3.5542761650199735,3.5497832890288272,3.5447898934267585,3.5392891342493686,3.5332744579494997,3.5267396412472776,3.5196788300431865,3.5120865771401526,3.5039578785305583,3.495288208015232,3.486073549934808,3.4763104298086063,3.465995942692315,3.4551277790833224,3.4437042482212354,3.4317242986507526,3.4191875359344546,3.4060942374244005,3.392445364022677,3.3782425688831736,3.363488203028577,3.348185317878493,3.332337664706241,3.3159496910627797,3.299026534226939,3.2815740117607057,3.263598609267237,3.245107465466775,3.2261083547225105,3.206609667163237,3.186620386563707,3.1661500661558097,3.1452088025541696,3.123807207989066,3.1019563810466226,3.0796678761219463,3.0569536717947403,3.0338261383389558,3.010298004578303,2.986382324298602,2.962092442424271,2.937441961162389,2.912444706311305,2.8871146939233947,2.8614660975028983,2.8355132159094785,2.8092704421272545,2.7827522330468732,2.755973080395066,2.7289474829327554,2.701689920028173,2.6742148266969092,2.6465365701858774,2.618669428162665,2.5906275685569606,2.5624250310852164,2.534075710475166,2.505593341392147,2.476991485055071,2.4482835175167676,2.4194826195701737,2.3906017682304945,2.361653729731788,2.3326510539666736,2.3036060702886223,2.2745308845880947,2.2454373775469043,2.2163372039694527,2.1872417930843993,2.1581623497072373,2.129109856151437,2.1000950747747518,2.071128551047102,2.042220617027198,2.013381395137255,1.9846208021277527,1.9559485531283138,1.9273741656852943,1.8989069636921971,1.8705560811252324,1.8423304655031338,1.814238880997695,1.7862899111293213,1.7584919609901462,1.7308532589455423,1.703381857773854,1.676085635212572,1.6489722938884317,1.6220493606171862,1.5953241850679019,1.5688039377947371,1.5424956076473495,1.5164059985791145,1.4905417258793068,1.4649092118628506,1.4395146810572184,1.414364154932266,1.3894634462239701,1.3648181529077634,1.3404336518812172,1.3163150924192502,1.2924673894678207,1.2688952168441103,1.2456030004126868,1.2225949113078598,1.1998748592726636,1.1774464861842706,1.1553131598347992,1.1334779680344744,1.1119437131022878,1.090712906806239,1.0697877658123094,1.0491702076975695,1.0288618475788383,1.0088639954040282,0.9891776539484849,0.9698035175539567,0.9507419716424118,0.9319930930318704,0.9135566510758447,0.8954321096425186,0.8776186299442709,0.8601150742225996,0.8429200102879972,0.8260317169089673,0.809448190039053,0.7931671498655714,0.7771860486589559,0.7615020793966499,0.7461121851312127,0.731013069067933,0.7162012053133646,0.7016728502525493,0.6874240545093311,0.6734506754412514,0.6597483901177977,0.6463127087285084,0.6331389883654965,0.6202224471233605,0.6075581784581908,0.595141165746604,0.5829662969850536,0.5710283795696621,0.5593221550968311,0.5478423141254583,0.536583510842398,0.5255403775738101,0.5147075390865931,0.5040796266255964,0.493651291634406,0.48341721910950636,0.47337214054017074,0.46351084638887796,0.45382819806999336,0.4443191393872659,0.43497870739386935,0.4258020426419641,0.41678439879197343,0.4079211515553407,0.39920780694788405,0.3906400088344769,0.3822135457493361,0.37392435697972937,0.3657685379045182,0.35774234458244786,0.3498421975886196,0.3420646851009708,0.33440656524194323,0.3268647676837887,0.3194363945290783,0.3121187204810295,0.3049091923211313,0.29780542771428353,0.2908052133643079,0.28390650254500405,0.2771074120342662,0.2704062184807733,0.2638013542346667,0.25729140267527545],\"yaxis\":\"y\",\"type\":\"scatter\"},{\"legendgroup\":\"Research 1\",\"marker\":{\"color\":\"rgb(255, 127, 14)\"},\"mode\":\"lines\",\"name\":\"Research 1\",\"showlegend\":false,\"x\":[0.36,0.36122,0.36244,0.36366,0.36488,0.3661,0.36732,0.36854,0.36976,0.37098,0.3722,0.37342,0.37464,0.37585999999999997,0.37707999999999997,0.37829999999999997,0.37951999999999997,0.38073999999999997,0.38195999999999997,0.38317999999999997,0.38439999999999996,0.38561999999999996,0.38683999999999996,0.38805999999999996,0.38927999999999996,0.39049999999999996,0.39171999999999996,0.39293999999999996,0.39415999999999995,0.39538,0.3966,0.39782,0.39904,0.40026,0.40148,0.4027,0.40392,0.40514,0.40636,0.40758,0.4088,0.41002,0.41124,0.41246,0.41368,0.4149,0.41612,0.41734,0.41856,0.41978,0.421,0.42222,0.42344,0.42466,0.42588,0.4271,0.42832,0.42954,0.43076,0.43198,0.4332,0.43442,0.43563999999999997,0.43685999999999997,0.43807999999999997,0.43929999999999997,0.44051999999999997,0.44173999999999997,0.44295999999999996,0.44417999999999996,0.44539999999999996,0.44662,0.44784,0.44906,0.45028,0.4515,0.45272,0.45394,0.45516,0.45638,0.4576,0.45882,0.46004,0.46126,0.46248,0.4637,0.46492,0.46614,0.46736,0.46858,0.4698,0.47102,0.47224,0.47346,0.47468,0.4759,0.47712,0.47834,0.47956,0.48078,0.482,0.48322,0.48444,0.48566,0.48688,0.4881,0.48932,0.49054,0.49176,0.49298,0.4942,0.49541999999999997,0.49663999999999997,0.49785999999999997,0.49907999999999997,0.5003,0.50152,0.50274,0.50396,0.50518,0.5064,0.50762,0.50884,0.51006,0.51128,0.5125,0.51372,0.51494,0.51616,0.51738,0.5186,0.51982,0.52104,0.52226,0.52348,0.5246999999999999,0.5259199999999999,0.5271399999999999,0.5283599999999999,0.5295799999999999,0.5307999999999999,0.5320199999999999,0.5332399999999999,0.5344599999999999,0.5356799999999999,0.5368999999999999,0.5381199999999999,0.5393399999999999,0.5405599999999999,0.5417799999999999,0.5429999999999999,0.5442199999999999,0.5454399999999999,0.5466599999999999,0.5478799999999999,0.5490999999999999,0.5503199999999999,0.5515399999999999,0.5527599999999999,0.5539799999999999,0.5551999999999999,0.5564199999999999,0.5576399999999999,0.5588599999999999,0.5600799999999999,0.5612999999999999,0.5625199999999999,0.56374,0.56496,0.56618,0.5674,0.56862,0.56984,0.57106,0.57228,0.5735,0.57472,0.57594,0.57716,0.57838,0.5796,0.58082,0.58204,0.58326,0.58448,0.5857,0.58692,0.58814,0.58936,0.59058,0.5918,0.59302,0.59424,0.59546,0.59668,0.5979,0.59912,0.60034,0.60156,0.60278,0.604,0.60522,0.60644,0.60766,0.60888,0.6101,0.61132,0.61254,0.61376,0.61498,0.6162,0.6174200000000001,0.61864,0.6198600000000001,0.62108,0.6223000000000001,0.62352,0.6247400000000001,0.62596,0.6271800000000001,0.6284,0.6296200000000001,0.63084,0.6320600000000001,0.63328,0.6345000000000001,0.63572,0.6369400000000001,0.63816,0.6393800000000001,0.6406,0.6418200000000001,0.6430400000000001,0.64426,0.64548,0.6467,0.64792,0.64914,0.65036,0.65158,0.6528,0.65402,0.65524,0.65646,0.65768,0.6589,0.66012,0.66134,0.66256,0.66378,0.665,0.66622,0.66744,0.66866,0.66988,0.6711,0.67232,0.67354,0.67476,0.67598,0.6772,0.67842,0.67964,0.68086,0.68208,0.6833,0.68452,0.68574,0.68696,0.68818,0.6894,0.69062,0.69184,0.69306,0.69428,0.6955,0.69672,0.69794,0.69916,0.70038,0.7016,0.70282,0.70404,0.70526,0.70648,0.7077,0.70892,0.71014,0.71136,0.71258,0.7138,0.71502,0.71624,0.71746,0.71868,0.7199,0.72112,0.72234,0.72356,0.72478,0.726,0.72722,0.72844,0.72966,0.73088,0.7321,0.73332,0.73454,0.73576,0.73698,0.7382,0.73942,0.74064,0.74186,0.74308,0.7443,0.74552,0.74674,0.74796,0.74918,0.7504,0.75162,0.75284,0.75406,0.75528,0.7565,0.75772,0.75894,0.76016,0.76138,0.7626,0.7638199999999999,0.7650399999999999,0.7662599999999999,0.7674799999999999,0.7686999999999999,0.7699199999999999,0.7711399999999999,0.7723599999999999,0.7735799999999999,0.7747999999999999,0.7760199999999999,0.7772399999999999,0.7784599999999999,0.7796799999999999,0.7808999999999999,0.7821199999999999,0.7833399999999999,0.7845599999999999,0.7857799999999999,0.7869999999999999,0.7882199999999999,0.7894399999999999,0.7906599999999999,0.7918799999999999,0.7930999999999999,0.7943199999999999,0.7955399999999999,0.7967599999999999,0.79798,0.7991999999999999,0.80042,0.8016399999999999,0.80286,0.8040799999999999,0.8053,0.8065199999999999,0.80774,0.8089599999999999,0.81018,0.8113999999999999,0.81262,0.8138399999999999,0.81506,0.8162799999999999,0.8175,0.8187199999999999,0.81994,0.8211599999999999,0.82238,0.8235999999999999,0.82482,0.8260399999999999,0.82726,0.82848,0.8297,0.83092,0.83214,0.83336,0.83458,0.8358,0.83702,0.83824,0.83946,0.84068,0.8419,0.84312,0.84434,0.84556,0.84678,0.848,0.84922,0.85044,0.85166,0.85288,0.8541,0.85532,0.85654,0.85776,0.85898,0.8602,0.86142,0.86264,0.86386,0.86508,0.8663,0.86752,0.86874,0.86996,0.87118,0.8724,0.87362,0.8748400000000001,0.87606,0.87728,0.8785,0.8797200000000001,0.88094,0.8821599999999999,0.8833799999999999,0.8846,0.8858199999999999,0.8870399999999999,0.8882599999999999,0.88948,0.8906999999999999,0.8919199999999999,0.8931399999999999,0.89436,0.89558,0.8967999999999999,0.8980199999999999,0.89924,0.90046,0.9016799999999999,0.9028999999999999,0.90412,0.90534,0.9065599999999999,0.9077799999999999,0.909,0.91022,0.9114399999999999,0.9126599999999999,0.91388,0.9151,0.9163199999999999,0.9175399999999999,0.91876,0.91998,0.9211999999999999,0.9224199999999999,0.92364,0.92486,0.92608,0.9272999999999999,0.92852,0.92974,0.93096,0.9321799999999999,0.9334,0.93462,0.93584,0.9370599999999999,0.93828,0.9395,0.94072,0.9419399999999999,0.94316,0.94438,0.9456,0.9468199999999999,0.94804,0.94926,0.95048,0.9516999999999999,0.95292,0.95414,0.95536,0.95658,0.9578,0.95902,0.96024,0.96146,0.96268,0.9639,0.96512,0.96634,0.96756,0.96878],\"xaxis\":\"x\",\"y\":[0.06764944984117632,0.06906474230407937,0.07050681086531271,0.07197712622674043,0.07347718075272797,0.07500848044481019,0.07657253653169253,0.07817085671973922,0.07980493615295291,0.08147624813501964,0.08318623466926549,0.08493629687529365,0.0867277853436167,0.08856199049174614,0.09044013298689002,0.09236335430166472,0.09433270746996497,0.09634914811039914,0.09841352578441724,0.1005265757554657,0.10268891121416933,0.10490101603266493,0.10716323810880501,0.10947578335802043,0.11183871040718103,0.11425192604084458,0.11671518144587295,0.11922806929551633,0.12179002170878965,0.12440030911529075,0.1270580400496009,0.1297621618931031,0.13251146257448077,0.1353045732334094,0.13813997184501534,0.14101598779568944,0.1439308073937672,0.14688248029157286,0.14986892678835229,0.15288794597681676,0.1559372246893684,0.15901434719372967,0.16211680558161176,0.165242010788369,0.16838730417627978,0.17154996960929134,0.1747272459427308,0.17791633984773356,0.1811144388869564,0.18431872475560157,0.18752638659986062,0.1907346343236616,0.1939407117940592,0.1971419098557604,0.20033557906613622,0.20351914206363608,0.20669010548476277,0.20984607134772687,0.21298474782447233,0.21610395932701826,0.21920165583889198,0.22227592142784058,0.2253249818819398,0.22834721141763606,0.23134113841509824,0.23430545014347384,0.23723899644617832,0.24014079236413957,0.24301001968288075,0.24584602739746714,0.24864833109746878,0.2514166112822752,0.2541507106251896,0.2568506302126542,0.25951652479272724,0.2621486970743895,0.26474759112642204,0.267313784931355,0.2698479821563012,0.27235100320835726,0.2748237756475206,0.27726732403482596,0.2796827592974987,0.28207126769642743,0.28443409948403797,0.28677255734279117,0.28908798469596014,0.291381753983039,0.293655254992201,0.29590988334146884,0.29814702919896435,0.3003680663304882,0.3025743415600191,0.3047671647253821,0.30694779920740073,0.30911745310638494,0.3112772711347961,0.3134283272894408,0.31557161836066283,0.3177080583296851,0.3198384736986743,0.32196359979115596,0.32408407805335393,0.32620045437970085,0.3283131784783894,0.3304226042853925,0.33252899142792264,0.334632507730895,0.3367332327526572,0.3388311623291242,0.34092621409847396,0.3430182339718729,0.34510700350926893,0.3471922481531998,0.3492736462678036,0.3513508389248836,0.3534234403739226,0.3554910491284754,0.3575532595972928,0.35960967418501655,0.36165991578418993,0.36370364057778154,0.3657405510693483,0.3677704092564236,0.36979304986169403,0.37180839353593587,0.3738164599467168,0.37581738066726955,0.3778114117808848,0.3797989461175745,0.3817805250415718,0.3837568497105367,0.3857287917299885,0.3876974031295646,0.38966392559118085,0.39162979886289445,0.3935966682964832,0.39556639145107264,0.39754104370993987,0.3995229228625151,0.401514552608833,0.4035186849490677,0.4055383014263924,0.4075766131971347,0.4096370599081177,0.41172330736706175,0.4138392439980398,0.41598897608016205,0.41817682177386456,0.42040730394545966,0.4226851418068458,0.4250152413935075,0.42740268491013894,0.42985271897937233,0.43237074183510027,0.4349622895078454,0.4376330210554133,0.4403887028977091,0.44323519232004543,0.44617842021451143,0.449224373133976,0.45237907473806266,0.4556485667148515,0.45903888926624387,0.4625560612486798,0.466206060064367,0.4699948014011805,0.47392811892202025,0.47801174400653884,0.4822512856499027,0.4866522106243493,0.4912198240100506,0.4959592502018534,0.5008754144980694,0.5059730253764476,0.5112565575608383,0.5167302359798792,0.5223980207161238,0.5282635930406537,0.534330342624058,0.5406013560099907,0.5470794064321776,0.5537669450498033,0.5606660936696745,0.5677786390164326,0.5751060286044631,0.5826493682569064,0.5904094213085332,0.5983866095201038,0.6065810157222783,0.6149923881972564,0.6236201467960659,0.6324633907790134,0.6415209083560639,0.6507911878931826,0.6602724307397794,0.6699625656215409,0.6798592645322045,0.6899599600471407,0.7002618639713267,0.7107619872241322,0.7214571608537185,0.7323440580646384,0.7434192171334926,0.7546790650795557,0.7661199419498452,0.7777381255715451,0.7895298566189372,0.8014913638371522,0.8136188892610597,0.8259087132647944,0.8383571792754964,0.8509607179840638,0.8637158708861136,0.8766193129877278,0.8896678745133871,0.9028585614570971,0.9161885748229147,0.9296553284070659,0.943256464981261,0.9569898707451012,0.9708536879251125,0.9848463254082405,0.9989664673093561,1.013213079384538,1.0275854132152635,1.0420830081025314,1.0567056906247336,1.0714535718281966,1.0863270420351758,1.1013267632700519,1.1164536593209342,1.131708903470241,1.1470939039444636,1.1626102871496273,1.178259878775147,1.1940446828646702,1.2099668589677686,1.2260286975011436,1.2422325934620606,1.2585810186498603,1.275076492563759,1.291721552156285,1.3085187206317506,1.3254704754880615,1.342579216007496,1.3598472304083293,1.3772766628736612,1.3948694806769277,1.41262744162512,1.4305520620405596,1.4486445855004926,1.4669059525502495,1.4853367716009362,1.5039372912159155,1.5227073739822072,1.5416464721534155,1.5607536052393396,1.5800273397052476,1.5994657709296454,1.6190665075544053,1.6388266583449653,1.6587428216610094,1.6788110776200504,1.6990269830174682,1.7193855690472368,1.739881341847629,1.760508285876127,1.7812598700975122,1.8021290569487765,1.823108314024624,1.8441896284075616,1.8653645235474308,1.8866240785769282,1.9079589499318679,1.9293593951285342,1.9508152985348612,1.9723161989581794,1.9938513188593436,2.0154095949919464,2.0369797102556904,2.0585501265450854,2.080109118368633,2.1016448070093467,2.1231451949952915,2.144598200648318,2.1659916924808043,2.187313523213813,2.208551563195425,2.229693733005354,2.250728035041174,2.2716425838923455,2.2924256353207597,2.3130656136807306,2.3335511376268063,2.353871043974647,2.374014409598251,2.3939705712655854,2.4137291433346855,2.433280033252414,2.452613454819106,2.471719939203228,2.490590343711384,2.5092158583399273,2.527588010155012,2.545698665568052,2.5635400305927645,2.58110464918846,2.59838539981148,2.6153754903127413,2.6320684513338213,2.648458128367248,2.6645386726577427,2.6803045311308438,2.695750435542856,2.7108713910517794,2.725662664412336,2.7401197719998525,2.754238467867151,2.7680147320358923,2.7814447592191756,2.7945249481654613,2.8072518918051563,2.819622368370817,2.831633333649465,2.8432819145117776,2.8545654038474044,2.8654812570189616,2.876027089929395,2.8862006787783723,2.8959999615638603,2.905423041364516,2.914468191417999,2.923133861989211,2.9314186890017253,2.9393215043848477,2.9468413480684834,2.9539774815383573,2.960729402845135,2.967096862943267,2.9730798832184386,2.9786787740472214,2.983894154218401,2.9887269710331887,2.9931785208906465,2.997250470155831,3.0009448761010082,3.004264207705133,3.0072113660935766,3.00978970439874,3.012003046822938,3.013855706687518,3.0153525032566737,3.0164987771307232,3.0173004040117246,3.017763806654019,3.0178959648235053,3.0177044231022485,3.017197296388958,3.0163832729609275,3.0152716149794,3.0138721563369586,3.0121952977634487,3.010251999125015,3.0080537688692752,3.0056126505883376,3.0029412066901657,3.0000524991871655,2.996960067629242,2.993677904226317,2.990220426222571,2.9866024456011098,2.982839136213586,2.9789459984440225,2.974938821529818,2.9708336436757556,2.966646710108235,2.9623944292274196,2.958093327023951,2.9537599999350665,2.949411066321162,2.9450631167495422,2.9407326632761044,2.93643608791859,2.9321895905168875,2.928009136176474,2.9239104024907165,2.9199087267363235,2.916019053233924,2.9122558810627863,2.9086332123144563,2.9051645010659013,2.9018626032473325,2.8987397275743607,2.8958073877079755,2.893076355799619,2.890556617571703,2.888257329077338,2.886186775275975,2.8843523305546572,2.882760421317673,2.8814164907604245,2.880324965936636,2.879489227221103,2.878911580264041,2.87859323052646,2.878534260480096,2.878733609549434,2.8791890568676655,2.879897206912969,2.880853478086118,2.8820520942852497,2.8834860795286237,2.885147255671195,2.8870262432559453,2.889112465536092,2.8913941556992224,2.8938583673196994,2.896490988060259,2.8992767566388444,2.9021992830709498,2.905241072192367,2.908383550460882,2.9116070960297473,2.914891072078477,2.918213863380098,2.921552916076184,2.924884780623457,2.9281851578672673,2.9314289481888847,2.934590303664187,2.9376426831619384,2.940558910300071,2.9433112341678127,2.9458713927112474,2.94821067866865,2.950300007930981,2.9521099901914765,2.9536110017366055,2.9547732602193197,2.955566901243586,2.9559620565778055,2.9559289338032597,2.955437897192395,2.9544595496010593,2.9529648151480345,2.9509250224454004,2.9483119881337765,2.9450981004675145,2.941256402687275,2.9367606759098512,2.9315855212591906,2.9257064409571747,2.919099918088695,2.9117434947525402,2.9036158483081005,2.894696865427258,2.884967713662091,2.874410910241118,2.863010387810957,2.8507515568454034,2.8376213644507065,2.823608349304442,2.8087026924748977,2.792896263879498,2.776182664153546,2.7585572617148246,2.7400172248253747,2.7205615484687913,2.700191075879757,2.6789085145821314,2.656718446812505,2.6336273342280045,2.609643516819779,2.584777205976974,2.5590404716703983,2.5324472237495743,2.5050131873723145,2.476755872611297,2.4476945383076747,2.4178501502675944,2.387245333922713,2.355904321601104,2.3238528945796575,2.2911183201129255,2.2577292836570306,2.223715816529306,2.1891092192659047,2.1539419809596345,2.1182476948791695,2.0820609706881172,2.0454173435982392,2.0083531808053157,1.9709055855684663,1.9331122993043337,1.8950116020761647,1.8566422118644437,1.8180431830104875,1.7792538042268882,1.7403134965693519],\"yaxis\":\"y\",\"type\":\"scatter\"}],                        {\"barmode\":\"overlay\",\"hovermode\":\"closest\",\"legend\":{\"traceorder\":\"reversed\",\"title\":{\"text\":\"Research\"}},\"xaxis\":{\"anchor\":\"y2\",\"domain\":[0.0,1.0],\"zeroline\":false,\"title\":{\"text\":\"Chance of Admit\"}},\"yaxis\":{\"anchor\":\"free\",\"domain\":[0.0,1],\"position\":0.0,\"title\":{\"text\":\"Frequency\"}},\"template\":{\"data\":{\"histogram2dcontour\":[{\"type\":\"histogram2dcontour\",\"colorbar\":{\"outlinewidth\":0,\"ticks\":\"\"},\"colorscale\":[[0.0,\"#0d0887\"],[0.1111111111111111,\"#46039f\"],[0.2222222222222222,\"#7201a8\"],[0.3333333333333333,\"#9c179e\"],[0.4444444444444444,\"#bd3786\"],[0.5555555555555556,\"#d8576b\"],[0.6666666666666666,\"#ed7953\"],[0.7777777777777778,\"#fb9f3a\"],[0.8888888888888888,\"#fdca26\"],[1.0,\"#f0f921\"]]}],\"choropleth\":[{\"type\":\"choropleth\",\"colorbar\":{\"outlinewidth\":0,\"ticks\":\"\"}}],\"histogram2d\":[{\"type\":\"histogram2d\",\"colorbar\":{\"outlinewidth\":0,\"ticks\":\"\"},\"colorscale\":[[0.0,\"#0d0887\"],[0.1111111111111111,\"#46039f\"],[0.2222222222222222,\"#7201a8\"],[0.3333333333333333,\"#9c179e\"],[0.4444444444444444,\"#bd3786\"],[0.5555555555555556,\"#d8576b\"],[0.6666666666666666,\"#ed7953\"],[0.7777777777777778,\"#fb9f3a\"],[0.8888888888888888,\"#fdca26\"],[1.0,\"#f0f921\"]]}],\"heatmap\":[{\"type\":\"heatmap\",\"colorbar\":{\"outlinewidth\":0,\"ticks\":\"\"},\"colorscale\":[[0.0,\"#0d0887\"],[0.1111111111111111,\"#46039f\"],[0.2222222222222222,\"#7201a8\"],[0.3333333333333333,\"#9c179e\"],[0.4444444444444444,\"#bd3786\"],[0.5555555555555556,\"#d8576b\"],[0.6666666666666666,\"#ed7953\"],[0.7777777777777778,\"#fb9f3a\"],[0.8888888888888888,\"#fdca26\"],[1.0,\"#f0f921\"]]}],\"heatmapgl\":[{\"type\":\"heatmapgl\",\"colorbar\":{\"outlinewidth\":0,\"ticks\":\"\"},\"colorscale\":[[0.0,\"#0d0887\"],[0.1111111111111111,\"#46039f\"],[0.2222222222222222,\"#7201a8\"],[0.3333333333333333,\"#9c179e\"],[0.4444444444444444,\"#bd3786\"],[0.5555555555555556,\"#d8576b\"],[0.6666666666666666,\"#ed7953\"],[0.7777777777777778,\"#fb9f3a\"],[0.8888888888888888,\"#fdca26\"],[1.0,\"#f0f921\"]]}],\"contourcarpet\":[{\"type\":\"contourcarpet\",\"colorbar\":{\"outlinewidth\":0,\"ticks\":\"\"}}],\"contour\":[{\"type\":\"contour\",\"colorbar\":{\"outlinewidth\":0,\"ticks\":\"\"},\"colorscale\":[[0.0,\"#0d0887\"],[0.1111111111111111,\"#46039f\"],[0.2222222222222222,\"#7201a8\"],[0.3333333333333333,\"#9c179e\"],[0.4444444444444444,\"#bd3786\"],[0.5555555555555556,\"#d8576b\"],[0.6666666666666666,\"#ed7953\"],[0.7777777777777778,\"#fb9f3a\"],[0.8888888888888888,\"#fdca26\"],[1.0,\"#f0f921\"]]}],\"surface\":[{\"type\":\"surface\",\"colorbar\":{\"outlinewidth\":0,\"ticks\":\"\"},\"colorscale\":[[0.0,\"#0d0887\"],[0.1111111111111111,\"#46039f\"],[0.2222222222222222,\"#7201a8\"],[0.3333333333333333,\"#9c179e\"],[0.4444444444444444,\"#bd3786\"],[0.5555555555555556,\"#d8576b\"],[0.6666666666666666,\"#ed7953\"],[0.7777777777777778,\"#fb9f3a\"],[0.8888888888888888,\"#fdca26\"],[1.0,\"#f0f921\"]]}],\"mesh3d\":[{\"type\":\"mesh3d\",\"colorbar\":{\"outlinewidth\":0,\"ticks\":\"\"}}],\"scatter\":[{\"fillpattern\":{\"fillmode\":\"overlay\",\"size\":10,\"solidity\":0.2},\"type\":\"scatter\"}],\"parcoords\":[{\"type\":\"parcoords\",\"line\":{\"colorbar\":{\"outlinewidth\":0,\"ticks\":\"\"}}}],\"scatterpolargl\":[{\"type\":\"scatterpolargl\",\"marker\":{\"colorbar\":{\"outlinewidth\":0,\"ticks\":\"\"}}}],\"bar\":[{\"error_x\":{\"color\":\"#2a3f5f\"},\"error_y\":{\"color\":\"#2a3f5f\"},\"marker\":{\"line\":{\"color\":\"#E5ECF6\",\"width\":0.5},\"pattern\":{\"fillmode\":\"overlay\",\"size\":10,\"solidity\":0.2}},\"type\":\"bar\"}],\"scattergeo\":[{\"type\":\"scattergeo\",\"marker\":{\"colorbar\":{\"outlinewidth\":0,\"ticks\":\"\"}}}],\"scatterpolar\":[{\"type\":\"scatterpolar\",\"marker\":{\"colorbar\":{\"outlinewidth\":0,\"ticks\":\"\"}}}],\"histogram\":[{\"marker\":{\"pattern\":{\"fillmode\":\"overlay\",\"size\":10,\"solidity\":0.2}},\"type\":\"histogram\"}],\"scattergl\":[{\"type\":\"scattergl\",\"marker\":{\"colorbar\":{\"outlinewidth\":0,\"ticks\":\"\"}}}],\"scatter3d\":[{\"type\":\"scatter3d\",\"line\":{\"colorbar\":{\"outlinewidth\":0,\"ticks\":\"\"}},\"marker\":{\"colorbar\":{\"outlinewidth\":0,\"ticks\":\"\"}}}],\"scattermapbox\":[{\"type\":\"scattermapbox\",\"marker\":{\"colorbar\":{\"outlinewidth\":0,\"ticks\":\"\"}}}],\"scatterternary\":[{\"type\":\"scatterternary\",\"marker\":{\"colorbar\":{\"outlinewidth\":0,\"ticks\":\"\"}}}],\"scattercarpet\":[{\"type\":\"scattercarpet\",\"marker\":{\"colorbar\":{\"outlinewidth\":0,\"ticks\":\"\"}}}],\"carpet\":[{\"aaxis\":{\"endlinecolor\":\"#2a3f5f\",\"gridcolor\":\"white\",\"linecolor\":\"white\",\"minorgridcolor\":\"white\",\"startlinecolor\":\"#2a3f5f\"},\"baxis\":{\"endlinecolor\":\"#2a3f5f\",\"gridcolor\":\"white\",\"linecolor\":\"white\",\"minorgridcolor\":\"white\",\"startlinecolor\":\"#2a3f5f\"},\"type\":\"carpet\"}],\"table\":[{\"cells\":{\"fill\":{\"color\":\"#EBF0F8\"},\"line\":{\"color\":\"white\"}},\"header\":{\"fill\":{\"color\":\"#C8D4E3\"},\"line\":{\"color\":\"white\"}},\"type\":\"table\"}],\"barpolar\":[{\"marker\":{\"line\":{\"color\":\"#E5ECF6\",\"width\":0.5},\"pattern\":{\"fillmode\":\"overlay\",\"size\":10,\"solidity\":0.2}},\"type\":\"barpolar\"}],\"pie\":[{\"automargin\":true,\"type\":\"pie\"}]},\"layout\":{\"autotypenumbers\":\"strict\",\"colorway\":[\"#636efa\",\"#EF553B\",\"#00cc96\",\"#ab63fa\",\"#FFA15A\",\"#19d3f3\",\"#FF6692\",\"#B6E880\",\"#FF97FF\",\"#FECB52\"],\"font\":{\"color\":\"#2a3f5f\"},\"hovermode\":\"closest\",\"hoverlabel\":{\"align\":\"left\"},\"paper_bgcolor\":\"white\",\"plot_bgcolor\":\"#E5ECF6\",\"polar\":{\"bgcolor\":\"#E5ECF6\",\"angularaxis\":{\"gridcolor\":\"white\",\"linecolor\":\"white\",\"ticks\":\"\"},\"radialaxis\":{\"gridcolor\":\"white\",\"linecolor\":\"white\",\"ticks\":\"\"}},\"ternary\":{\"bgcolor\":\"#E5ECF6\",\"aaxis\":{\"gridcolor\":\"white\",\"linecolor\":\"white\",\"ticks\":\"\"},\"baxis\":{\"gridcolor\":\"white\",\"linecolor\":\"white\",\"ticks\":\"\"},\"caxis\":{\"gridcolor\":\"white\",\"linecolor\":\"white\",\"ticks\":\"\"}},\"coloraxis\":{\"colorbar\":{\"outlinewidth\":0,\"ticks\":\"\"}},\"colorscale\":{\"sequential\":[[0.0,\"#0d0887\"],[0.1111111111111111,\"#46039f\"],[0.2222222222222222,\"#7201a8\"],[0.3333333333333333,\"#9c179e\"],[0.4444444444444444,\"#bd3786\"],[0.5555555555555556,\"#d8576b\"],[0.6666666666666666,\"#ed7953\"],[0.7777777777777778,\"#fb9f3a\"],[0.8888888888888888,\"#fdca26\"],[1.0,\"#f0f921\"]],\"sequentialminus\":[[0.0,\"#0d0887\"],[0.1111111111111111,\"#46039f\"],[0.2222222222222222,\"#7201a8\"],[0.3333333333333333,\"#9c179e\"],[0.4444444444444444,\"#bd3786\"],[0.5555555555555556,\"#d8576b\"],[0.6666666666666666,\"#ed7953\"],[0.7777777777777778,\"#fb9f3a\"],[0.8888888888888888,\"#fdca26\"],[1.0,\"#f0f921\"]],\"diverging\":[[0,\"#8e0152\"],[0.1,\"#c51b7d\"],[0.2,\"#de77ae\"],[0.3,\"#f1b6da\"],[0.4,\"#fde0ef\"],[0.5,\"#f7f7f7\"],[0.6,\"#e6f5d0\"],[0.7,\"#b8e186\"],[0.8,\"#7fbc41\"],[0.9,\"#4d9221\"],[1,\"#276419\"]]},\"xaxis\":{\"gridcolor\":\"white\",\"linecolor\":\"white\",\"ticks\":\"\",\"title\":{\"standoff\":15},\"zerolinecolor\":\"white\",\"automargin\":true,\"zerolinewidth\":2},\"yaxis\":{\"gridcolor\":\"white\",\"linecolor\":\"white\",\"ticks\":\"\",\"title\":{\"standoff\":15},\"zerolinecolor\":\"white\",\"automargin\":true,\"zerolinewidth\":2},\"scene\":{\"xaxis\":{\"backgroundcolor\":\"#E5ECF6\",\"gridcolor\":\"white\",\"linecolor\":\"white\",\"showbackground\":true,\"ticks\":\"\",\"zerolinecolor\":\"white\",\"gridwidth\":2},\"yaxis\":{\"backgroundcolor\":\"#E5ECF6\",\"gridcolor\":\"white\",\"linecolor\":\"white\",\"showbackground\":true,\"ticks\":\"\",\"zerolinecolor\":\"white\",\"gridwidth\":2},\"zaxis\":{\"backgroundcolor\":\"#E5ECF6\",\"gridcolor\":\"white\",\"linecolor\":\"white\",\"showbackground\":true,\"ticks\":\"\",\"zerolinecolor\":\"white\",\"gridwidth\":2}},\"shapedefaults\":{\"line\":{\"color\":\"#2a3f5f\"}},\"annotationdefaults\":{\"arrowcolor\":\"#2a3f5f\",\"arrowhead\":0,\"arrowwidth\":1},\"geo\":{\"bgcolor\":\"white\",\"landcolor\":\"#E5ECF6\",\"subunitcolor\":\"white\",\"showland\":true,\"showlakes\":true,\"lakecolor\":\"white\"},\"title\":{\"x\":0.05},\"mapbox\":{\"style\":\"light\"}}},\"title\":{\"text\":\"Chance of Admit and Research Group\"}},                        {\"responsive\": true}                    ).then(function(){\n",
              "                            \n",
              "var gd = document.getElementById('2e973868-de05-4b40-9199-911f0e6e19ff');\n",
              "var x = new MutationObserver(function (mutations, observer) {{\n",
              "        var display = window.getComputedStyle(gd).display;\n",
              "        if (!display || display === 'none') {{\n",
              "            console.log([gd, 'removed!']);\n",
              "            Plotly.purge(gd);\n",
              "            observer.disconnect();\n",
              "        }}\n",
              "}});\n",
              "\n",
              "// Listen for the removal of the full notebook cells\n",
              "var notebookContainer = gd.closest('#notebook-container');\n",
              "if (notebookContainer) {{\n",
              "    x.observe(notebookContainer, {childList: true});\n",
              "}}\n",
              "\n",
              "// Listen for the clearing of the current output cell\n",
              "var outputEl = gd.closest('.output');\n",
              "if (outputEl) {{\n",
              "    x.observe(outputEl, {childList: true});\n",
              "}}\n",
              "\n",
              "                        })                };                            </script>        </div>\n",
              "</body>\n",
              "</html>"
            ]
          },
          "metadata": {}
        }
      ]
    },
    {
      "cell_type": "markdown",
      "source": [
        "We can also shows that the case where `Research = 1` is superior."
      ],
      "metadata": {
        "id": "oKQJ0KgPebcO"
      }
    },
    {
      "cell_type": "markdown",
      "source": [
        "There is a relationship between `Research` and `Chance of Admit`, and the case where `Research = 1` demonstrates an advantage."
      ],
      "metadata": {
        "id": "1nJg51MRe9xW"
      }
    }
  ]
}