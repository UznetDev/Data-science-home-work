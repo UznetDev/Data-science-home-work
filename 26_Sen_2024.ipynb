{
  "nbformat": 4,
  "nbformat_minor": 0,
  "metadata": {
    "colab": {
      "provenance": [],
      "authorship_tag": "ABX9TyMX8c6/sjP/np8zQtlGtx00",
      "include_colab_link": true
    },
    "kernelspec": {
      "name": "python3",
      "display_name": "Python 3"
    },
    "language_info": {
      "name": "python"
    }
  },
  "cells": [
    {
      "cell_type": "markdown",
      "metadata": {
        "id": "view-in-github",
        "colab_type": "text"
      },
      "source": [
        "<a href=\"https://colab.research.google.com/github/UznetDev/Data-science-home-work/blob/main/26_Sen_2024.ipynb\" target=\"_parent\"><img src=\"https://colab.research.google.com/assets/colab-badge.svg\" alt=\"Open In Colab\"/></a>"
      ]
    },
    {
      "cell_type": "code",
      "execution_count": 2,
      "metadata": {
        "id": "VoQrjT9xgBEz"
      },
      "outputs": [],
      "source": [
        "import pandas as pd\n",
        "import numpy as np\n",
        "import matplotlib.pyplot as plt\n",
        "import seaborn as sns\n",
        "import plotly.express as px\n",
        "import warnings\n",
        "\n",
        "warnings.filterwarnings(\"ignore\")"
      ]
    },
    {
      "cell_type": "code",
      "source": [
        "X_tr = [ -83, -50, -50, 69, -67, 59, 67, 41, -38, -78, 49, 14, 87, -73, -22, 47, 99, -49, 98, 61, -84, -73, 75, -33, 30, -17, 58, -18, -91, 63, 61, -73, -87, 36, 79, 27, 18, -87, 62, 6 ]\n",
        "Y_tr = [ 14, -9, -24, 21, -18, -48, 40, 47, 29, -34, 26, -4, 32, 22, -36, -19, -26, 29, 14, -15, -19, 18, 4, 33, 6, 43, -42, -31, 33, -21, 8, -34, -23, -40, 0, -18, -8, 34, 43, -11 ]\n",
        "Z_tr = [ 1.0, 1.0, 1.0, 0.0, 1.0, 0.0, 0.0, 0.0, 1.0, 1.0, 0.0, 0.0, 0.0, 1.0, 1.0, 0.0, 0.0, 1.0, 0.0, 0.0, 1.0, 1.0, 0.0, 1.0, 0.0, 1.0, 0.0, 1.0, 1.0, 0.0, 0.0, 1.0, 1.0, 0.0, 0.0, 0.0, 0.0, 1.0, 0.0, 0.0 ]\n",
        "X_tr = np.array(X_tr) # input 1\n",
        "Y_tr = np.array(Y_tr) # input 2\n",
        "Z_tr = np.array(Z_tr) # output\n",
        "\n",
        "print(X_tr.shape, Y_tr.shape)"
      ],
      "metadata": {
        "colab": {
          "base_uri": "https://localhost:8080/"
        },
        "id": "N2-9IXbDJemO",
        "outputId": "88b58a93-2670-42df-85e9-ceee0579c1be"
      },
      "execution_count": 3,
      "outputs": [
        {
          "output_type": "stream",
          "name": "stdout",
          "text": [
            "(40,) (40,)\n"
          ]
        }
      ]
    },
    {
      "cell_type": "code",
      "source": [
        "X_test = [ -58, 80, 30, -34, 24, 55, 77, 54, 45, 42, 14, -74, 2, 72, -55, 90, -15, -37, 96, -8 ]\n",
        "Y_test = [ 41, -13, -16, -43, -36, -19, -12, 24, 32, 2, 41, 15, -2, -10, -32, 5, -41, -15, -4, -50 ]\n",
        "Z_test = [ 1.0, 0.0, 0.0, 1.0, 0.0, 0.0, 0.0, 0.0, 0.0, 0.0, 1.0, 1.0, 0.0, 0.0, 1.0, 0.0, 1.0, 1.0, 0.0, 0.0 ]\n",
        "\n",
        "X_test = np.array(X_test) # input 1\n",
        "Y_test = np.array(Y_test) # input 2\n",
        "# Z_test = np.array(Z_test) # output\n",
        "\n",
        "print(X_test.shape, Y_test.shape)"
      ],
      "metadata": {
        "colab": {
          "base_uri": "https://localhost:8080/"
        },
        "id": "UTNFPIhlJvlr",
        "outputId": "a931d37e-cbd5-4052-8c1d-c89e7b7f1078"
      },
      "execution_count": 4,
      "outputs": [
        {
          "output_type": "stream",
          "name": "stdout",
          "text": [
            "(20,) (20,)\n"
          ]
        }
      ]
    },
    {
      "cell_type": "code",
      "source": [
        "plt.scatter(X_tr, Y_tr)"
      ],
      "metadata": {
        "id": "mYaB3wPZJ0N-",
        "outputId": "0bafae60-c4b1-4f9a-f108-daeb4f039b9b",
        "colab": {
          "base_uri": "https://localhost:8080/",
          "height": 447
        }
      },
      "execution_count": 5,
      "outputs": [
        {
          "output_type": "execute_result",
          "data": {
            "text/plain": [
              "<matplotlib.collections.PathCollection at 0x7ddf250cd1b0>"
            ]
          },
          "metadata": {},
          "execution_count": 5
        },
        {
          "output_type": "display_data",
          "data": {
            "text/plain": [
              "<Figure size 640x480 with 1 Axes>"
            ],
            "image/png": "[encoded data removed]"
          },
          "metadata": {}
        }
      ]
    }
  ]
}