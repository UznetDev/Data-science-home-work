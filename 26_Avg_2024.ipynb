{
  "nbformat": 4,
  "nbformat_minor": 0,
  "metadata": {
    "colab": {
      "provenance": [],
      "collapsed_sections": [
        "4yHz4zewqni4",
        "NS6j93AQiH7B"
      ],
      "authorship_tag": "ABX9TyOgHDP1axaSddElnVBSnr9q",
      "include_colab_link": true
    },
    "kernelspec": {
      "name": "python3",
      "display_name": "Python 3"
    },
    "language_info": {
      "name": "python"
    }
  },
  "cells": [
    {
      "cell_type": "markdown",
      "metadata": {
        "id": "view-in-github",
        "colab_type": "text"
      },
      "source": [
        "<a href=\"https://colab.research.google.com/github/UznetDev/Data-science-home-work/blob/main/26_Avg_2024.ipynb\" target=\"_parent\"><img src=\"https://colab.research.google.com/assets/colab-badge.svg\" alt=\"Open In Colab\"/></a>"
      ]
    },
    {
      "cell_type": "markdown",
      "source": [
        "# **SQL**"
      ],
      "metadata": {
        "id": "GZxK2bDnj6_Q"
      }
    },
    {
      "cell_type": "markdown",
      "source": [
        "### Import librares"
      ],
      "metadata": {
        "id": "4yHz4zewqni4"
      }
    },
    {
      "cell_type": "code",
      "execution_count": 2,
      "metadata": {
        "id": "zpHxL5F4hVc9"
      },
      "outputs": [],
      "source": [
        "import pandas as pd"
      ]
    },
    {
      "cell_type": "markdown",
      "source": [
        "### Set-up for SQL"
      ],
      "metadata": {
        "id": "NS6j93AQiH7B"
      }
    },
    {
      "cell_type": "code",
      "source": [
        "%load_ext sql\n",
        "%sql sqlite://"
      ],
      "metadata": {
        "id": "_cyIAPu-iBED"
      },
      "execution_count": 3,
      "outputs": []
    },
    {
      "cell_type": "markdown",
      "source": [
        "##### Load dataset"
      ],
      "metadata": {
        "id": "qlhev4g0_TQD"
      }
    },
    {
      "cell_type": "code",
      "source": [
        "monarchs = pd.read_csv('monarchs.csv')\n",
        "presidents = pd.read_csv('presidents.csv')\n",
        "prime_minister_terms = pd.read_csv('prime_minister_terms.csv')\n",
        "prime_ministers = pd.read_csv('prime_ministers.csv')\n",
        "states = pd.read_csv('states.csv')"
      ],
      "metadata": {
        "id": "fWsxJNZ2ir-H"
      },
      "execution_count": 4,
      "outputs": []
    },
    {
      "cell_type": "markdown",
      "source": [
        "##### Upload dataset to SQL"
      ],
      "metadata": {
        "id": "aunGHMzJ_bSy"
      }
    },
    {
      "cell_type": "code",
      "source": [
        "%sql DROP TABLE IF EXISTS monarchs;\n",
        "%sql --persist monarchs\n",
        "\n",
        "%sql DROP TABLE IF EXISTS presidents;\n",
        "%sql --persist presidents\n",
        "\n",
        "%sql DROP TABLE IF EXISTS prime_minister_terms;\n",
        "%sql --persist prime_minister_terms\n",
        "\n",
        "%sql DROP TABLE IF EXISTS prime_ministers;\n",
        "%sql --persist prime_ministers\n",
        "\n",
        "%sql DROP TABLE IF EXISTS states;\n",
        "%sql --persist states"
      ],
      "metadata": {
        "colab": {
          "base_uri": "https://localhost:8080/",
          "height": 0
        },
        "id": "gCxdrMMXi34q",
        "outputId": "715809b8-6660-4c75-faed-fc4efef2b6a9"
      },
      "execution_count": 5,
      "outputs": [
        {
          "output_type": "stream",
          "name": "stdout",
          "text": [
            " * sqlite://\n",
            "Done.\n",
            " * sqlite://\n",
            " * sqlite://\n",
            "Done.\n",
            " * sqlite://\n",
            " * sqlite://\n",
            "Done.\n",
            " * sqlite://\n",
            " * sqlite://\n",
            "Done.\n",
            " * sqlite://\n",
            " * sqlite://\n",
            "Done.\n",
            " * sqlite://\n"
          ]
        },
        {
          "output_type": "execute_result",
          "data": {
            "text/plain": [
              "'Persisted states'"
            ],
            "application/vnd.google.colaboratory.intrinsic+json": {
              "type": "string"
            }
          },
          "metadata": {},
          "execution_count": 5
        }
      ]
    },
    {
      "cell_type": "markdown",
      "source": [
        "### Class work"
      ],
      "metadata": {
        "id": "Xp8q7BO4lq4q"
      }
    },
    {
      "cell_type": "markdown",
      "source": [
        "#### Part 1"
      ],
      "metadata": {
        "id": "cCyvr5OSvpvP"
      }
    },
    {
      "cell_type": "markdown",
      "source": [
        "##### View all table"
      ],
      "metadata": {
        "id": "aQGDCsg5zYWE"
      }
    },
    {
      "cell_type": "code",
      "source": [
        "%%sql SELECT * FROM monarchs LIMIT 1;"
      ],
      "metadata": {
        "colab": {
          "base_uri": "https://localhost:8080/",
          "height": 96
        },
        "id": "zW9n_4Dmvn2W",
        "outputId": "193c8499-d593-473e-f713-a1dfd914b529"
      },
      "execution_count": 7,
      "outputs": [
        {
          "output_type": "stream",
          "name": "stdout",
          "text": [
            " * sqlite://\n",
            "Done.\n"
          ]
        },
        {
          "output_type": "execute_result",
          "data": {
            "text/plain": [
              "[(0, 'Brunei', 'Asia', 'Hassanal Bolkiah')]"
            ],
            "text/html": [
              "<table>\n",
              "    <thead>\n",
              "        <tr>\n",
              "            <th>index</th>\n",
              "            <th>country</th>\n",
              "            <th>continent</th>\n",
              "            <th>monarch</th>\n",
              "        </tr>\n",
              "    </thead>\n",
              "    <tbody>\n",
              "        <tr>\n",
              "            <td>0</td>\n",
              "            <td>Brunei</td>\n",
              "            <td>Asia</td>\n",
              "            <td>Hassanal Bolkiah</td>\n",
              "        </tr>\n",
              "    </tbody>\n",
              "</table>"
            ]
          },
          "metadata": {},
          "execution_count": 7
        }
      ]
    },
    {
      "cell_type": "code",
      "source": [
        "%%sql SELECT * FROM presidents LIMIT 1;"
      ],
      "metadata": {
        "colab": {
          "base_uri": "https://localhost:8080/",
          "height": 96
        },
        "id": "Kpz_vjp0wsMC",
        "outputId": "179d8e9d-4c09-48af-ad48-8885013d8f31"
      },
      "execution_count": 8,
      "outputs": [
        {
          "output_type": "stream",
          "name": "stdout",
          "text": [
            " * sqlite://\n",
            "Done.\n"
          ]
        },
        {
          "output_type": "execute_result",
          "data": {
            "text/plain": [
              "[(0, 'Egypt', 'Africa', 'Abdel Fattah el-Sisi')]"
            ],
            "text/html": [
              "<table>\n",
              "    <thead>\n",
              "        <tr>\n",
              "            <th>index</th>\n",
              "            <th>country</th>\n",
              "            <th>continent</th>\n",
              "            <th>president</th>\n",
              "        </tr>\n",
              "    </thead>\n",
              "    <tbody>\n",
              "        <tr>\n",
              "            <td>0</td>\n",
              "            <td>Egypt</td>\n",
              "            <td>Africa</td>\n",
              "            <td>Abdel Fattah el-Sisi</td>\n",
              "        </tr>\n",
              "    </tbody>\n",
              "</table>"
            ]
          },
          "metadata": {},
          "execution_count": 8
        }
      ]
    },
    {
      "cell_type": "code",
      "source": [
        "%%sql SELECT * FROM prime_minister_terms LIMIT 1;"
      ],
      "metadata": {
        "colab": {
          "base_uri": "https://localhost:8080/",
          "height": 96
        },
        "id": "PFGEsAS-w2_2",
        "outputId": "141b6b07-e66d-4aa5-b311-23fb02fb137a"
      },
      "execution_count": 9,
      "outputs": [
        {
          "output_type": "stream",
          "name": "stdout",
          "text": [
            " * sqlite://\n",
            "Done.\n"
          ]
        },
        {
          "output_type": "execute_result",
          "data": {
            "text/plain": [
              "[(0, 'Mostafa Madbouly', 2018)]"
            ],
            "text/html": [
              "<table>\n",
              "    <thead>\n",
              "        <tr>\n",
              "            <th>index</th>\n",
              "            <th>prime_minister</th>\n",
              "            <th>pm_start</th>\n",
              "        </tr>\n",
              "    </thead>\n",
              "    <tbody>\n",
              "        <tr>\n",
              "            <td>0</td>\n",
              "            <td>Mostafa Madbouly</td>\n",
              "            <td>2018</td>\n",
              "        </tr>\n",
              "    </tbody>\n",
              "</table>"
            ]
          },
          "metadata": {},
          "execution_count": 9
        }
      ]
    },
    {
      "cell_type": "code",
      "source": [
        "%%sql SELECT * FROM prime_ministers LIMIT 1;"
      ],
      "metadata": {
        "colab": {
          "base_uri": "https://localhost:8080/",
          "height": 96
        },
        "id": "ORSrRnzhw_L5",
        "outputId": "b1fa2a11-cfbb-4845-fc0d-8b110df62877"
      },
      "execution_count": 10,
      "outputs": [
        {
          "output_type": "stream",
          "name": "stdout",
          "text": [
            " * sqlite://\n",
            "Done.\n"
          ]
        },
        {
          "output_type": "execute_result",
          "data": {
            "text/plain": [
              "[(0, 'Egypt', 'Africa', 'Mostafa Madbouly')]"
            ],
            "text/html": [
              "<table>\n",
              "    <thead>\n",
              "        <tr>\n",
              "            <th>index</th>\n",
              "            <th>country</th>\n",
              "            <th>continent</th>\n",
              "            <th>prime_minister</th>\n",
              "        </tr>\n",
              "    </thead>\n",
              "    <tbody>\n",
              "        <tr>\n",
              "            <td>0</td>\n",
              "            <td>Egypt</td>\n",
              "            <td>Africa</td>\n",
              "            <td>Mostafa Madbouly</td>\n",
              "        </tr>\n",
              "    </tbody>\n",
              "</table>"
            ]
          },
          "metadata": {},
          "execution_count": 10
        }
      ]
    },
    {
      "cell_type": "code",
      "source": [
        "%%sql SELECT * FROM states LIMIT 1;"
      ],
      "metadata": {
        "colab": {
          "base_uri": "https://localhost:8080/",
          "height": 96
        },
        "id": "hKjRhXHbxDOi",
        "outputId": "63ab7c4a-5e0d-467c-91c4-edbc7075938f"
      },
      "execution_count": 11,
      "outputs": [
        {
          "output_type": "stream",
          "name": "stdout",
          "text": [
            " * sqlite://\n",
            "Done.\n"
          ]
        },
        {
          "output_type": "execute_result",
          "data": {
            "text/plain": [
              "[(0, 'Australia', 'Oceania', 1901)]"
            ],
            "text/html": [
              "<table>\n",
              "    <thead>\n",
              "        <tr>\n",
              "            <th>index</th>\n",
              "            <th>country</th>\n",
              "            <th>continent</th>\n",
              "            <th>indep_year</th>\n",
              "        </tr>\n",
              "    </thead>\n",
              "    <tbody>\n",
              "        <tr>\n",
              "            <td>0</td>\n",
              "            <td>Australia</td>\n",
              "            <td>Oceania</td>\n",
              "            <td>1901</td>\n",
              "        </tr>\n",
              "    </tbody>\n",
              "</table>"
            ]
          },
          "metadata": {},
          "execution_count": 11
        }
      ]
    },
    {
      "cell_type": "markdown",
      "source": [
        "##### CASE"
      ],
      "metadata": {
        "id": "oepkXvTNzoEY"
      }
    },
    {
      "cell_type": "code",
      "source": [
        "%%sql\n",
        "SELECT country,\n",
        "       CASE\n",
        "           WHEN indep_year < 1800 THEN 'Before 1800'\n",
        "           WHEN indep_year BETWEEN 1800 AND 1850 THEN 'Between 1800 and 1850'\n",
        "           ELSE 'After 1850'\n",
        "       END AS independence_period\n",
        "FROM states;\n"
      ],
      "metadata": {
        "colab": {
          "base_uri": "https://localhost:8080/",
          "height": 306
        },
        "id": "UC0pC0p6ztKp",
        "outputId": "de46d782-51de-4267-c796-1086f997c29b"
      },
      "execution_count": 29,
      "outputs": [
        {
          "output_type": "stream",
          "name": "stdout",
          "text": [
            " * sqlite://\n",
            "Done.\n"
          ]
        },
        {
          "output_type": "execute_result",
          "data": {
            "text/plain": [
              "[('Australia', 'After 1850'),\n",
              " ('Brunei', 'After 1850'),\n",
              " ('Chile', 'Between 1800 and 1850'),\n",
              " ('Egypt', 'After 1850'),\n",
              " ('India', 'After 1850'),\n",
              " ('Norway', 'After 1850'),\n",
              " ('Oman', 'After 1850'),\n",
              " ('Pakistan', 'After 1850'),\n",
              " ('Portugal', 'Before 1800'),\n",
              " ('Uruguay', 'Between 1800 and 1850'),\n",
              " ('USA', 'Before 1800')]"
            ],
            "text/html": [
              "<table>\n",
              "    <thead>\n",
              "        <tr>\n",
              "            <th>country</th>\n",
              "            <th>independence_period</th>\n",
              "        </tr>\n",
              "    </thead>\n",
              "    <tbody>\n",
              "        <tr>\n",
              "            <td>Australia</td>\n",
              "            <td>After 1850</td>\n",
              "        </tr>\n",
              "        <tr>\n",
              "            <td>Brunei</td>\n",
              "            <td>After 1850</td>\n",
              "        </tr>\n",
              "        <tr>\n",
              "            <td>Chile</td>\n",
              "            <td>Between 1800 and 1850</td>\n",
              "        </tr>\n",
              "        <tr>\n",
              "            <td>Egypt</td>\n",
              "            <td>After 1850</td>\n",
              "        </tr>\n",
              "        <tr>\n",
              "            <td>India</td>\n",
              "            <td>After 1850</td>\n",
              "        </tr>\n",
              "        <tr>\n",
              "            <td>Norway</td>\n",
              "            <td>After 1850</td>\n",
              "        </tr>\n",
              "        <tr>\n",
              "            <td>Oman</td>\n",
              "            <td>After 1850</td>\n",
              "        </tr>\n",
              "        <tr>\n",
              "            <td>Pakistan</td>\n",
              "            <td>After 1850</td>\n",
              "        </tr>\n",
              "        <tr>\n",
              "            <td>Portugal</td>\n",
              "            <td>Before 1800</td>\n",
              "        </tr>\n",
              "        <tr>\n",
              "            <td>Uruguay</td>\n",
              "            <td>Between 1800 and 1850</td>\n",
              "        </tr>\n",
              "        <tr>\n",
              "            <td>USA</td>\n",
              "            <td>Before 1800</td>\n",
              "        </tr>\n",
              "    </tbody>\n",
              "</table>"
            ]
          },
          "metadata": {},
          "execution_count": 29
        }
      ]
    },
    {
      "cell_type": "code",
      "source": [
        "%%sql\n",
        "SELECT country,\n",
        "       CASE\n",
        "           WHEN indep_year < 1950 THEN 'Before 1950'\n",
        "           ELSE 'After 1950'\n",
        "       END AS independence_period\n",
        "FROM states;"
      ],
      "metadata": {
        "colab": {
          "base_uri": "https://localhost:8080/",
          "height": 306
        },
        "id": "WPrVv4cm4CC-",
        "outputId": "ebc65369-78de-4a74-b834-f180afd4f535"
      },
      "execution_count": 34,
      "outputs": [
        {
          "output_type": "stream",
          "name": "stdout",
          "text": [
            " * sqlite://\n",
            "Done.\n"
          ]
        },
        {
          "output_type": "execute_result",
          "data": {
            "text/plain": [
              "[('Australia', 'Before 1950'),\n",
              " ('Brunei', 'After 1950'),\n",
              " ('Chile', 'Before 1950'),\n",
              " ('Egypt', 'Before 1950'),\n",
              " ('India', 'Before 1950'),\n",
              " ('Norway', 'Before 1950'),\n",
              " ('Oman', 'After 1950'),\n",
              " ('Pakistan', 'Before 1950'),\n",
              " ('Portugal', 'Before 1950'),\n",
              " ('Uruguay', 'Before 1950'),\n",
              " ('USA', 'Before 1950')]"
            ],
            "text/html": [
              "<table>\n",
              "    <thead>\n",
              "        <tr>\n",
              "            <th>country</th>\n",
              "            <th>independence_period</th>\n",
              "        </tr>\n",
              "    </thead>\n",
              "    <tbody>\n",
              "        <tr>\n",
              "            <td>Australia</td>\n",
              "            <td>Before 1950</td>\n",
              "        </tr>\n",
              "        <tr>\n",
              "            <td>Brunei</td>\n",
              "            <td>After 1950</td>\n",
              "        </tr>\n",
              "        <tr>\n",
              "            <td>Chile</td>\n",
              "            <td>Before 1950</td>\n",
              "        </tr>\n",
              "        <tr>\n",
              "            <td>Egypt</td>\n",
              "            <td>Before 1950</td>\n",
              "        </tr>\n",
              "        <tr>\n",
              "            <td>India</td>\n",
              "            <td>Before 1950</td>\n",
              "        </tr>\n",
              "        <tr>\n",
              "            <td>Norway</td>\n",
              "            <td>Before 1950</td>\n",
              "        </tr>\n",
              "        <tr>\n",
              "            <td>Oman</td>\n",
              "            <td>After 1950</td>\n",
              "        </tr>\n",
              "        <tr>\n",
              "            <td>Pakistan</td>\n",
              "            <td>Before 1950</td>\n",
              "        </tr>\n",
              "        <tr>\n",
              "            <td>Portugal</td>\n",
              "            <td>Before 1950</td>\n",
              "        </tr>\n",
              "        <tr>\n",
              "            <td>Uruguay</td>\n",
              "            <td>Before 1950</td>\n",
              "        </tr>\n",
              "        <tr>\n",
              "            <td>USA</td>\n",
              "            <td>Before 1950</td>\n",
              "        </tr>\n",
              "    </tbody>\n",
              "</table>"
            ]
          },
          "metadata": {},
          "execution_count": 34
        }
      ]
    },
    {
      "cell_type": "code",
      "source": [
        "%%sql SELECT p.continent,\n",
        "       COUNT(s.country) AS number_of_states,\n",
        "      CASE\n",
        "          WHEN COUNT(s.country) < 10 THEN 'small'\n",
        "          WHEN COUNT(s.country) BETWEEN 10 AND 20 THEN 'medium'\n",
        "          ELSE 'big'\n",
        "      END AS size\n",
        "FROM states AS s\n",
        "INNER JOIN presidents AS p\n",
        "ON s.country = p.country\n",
        "LEFT JOIN prime_ministers AS pm\n",
        "ON p.country = pm.country\n",
        "LEFT JOIN monarchs AS m\n",
        "ON p.country = m.country\n",
        "GROUP BY p.continent;"
      ],
      "metadata": {
        "colab": {
          "base_uri": "https://localhost:8080/",
          "height": 180
        },
        "id": "qq78ZXyi4JAJ",
        "outputId": "453ef41f-5162-457f-eb8d-71ab4022cb84"
      },
      "execution_count": 44,
      "outputs": [
        {
          "output_type": "stream",
          "name": "stdout",
          "text": [
            " * sqlite://\n",
            "Done.\n"
          ]
        },
        {
          "output_type": "execute_result",
          "data": {
            "text/plain": [
              "[('Africa', 1, 'small'),\n",
              " ('Asia', 2, 'small'),\n",
              " ('Europe', 1, 'small'),\n",
              " ('North America', 1, 'small'),\n",
              " ('South America', 2, 'small')]"
            ],
            "text/html": [
              "<table>\n",
              "    <thead>\n",
              "        <tr>\n",
              "            <th>continent</th>\n",
              "            <th>number_of_states</th>\n",
              "            <th>size</th>\n",
              "        </tr>\n",
              "    </thead>\n",
              "    <tbody>\n",
              "        <tr>\n",
              "            <td>Africa</td>\n",
              "            <td>1</td>\n",
              "            <td>small</td>\n",
              "        </tr>\n",
              "        <tr>\n",
              "            <td>Asia</td>\n",
              "            <td>2</td>\n",
              "            <td>small</td>\n",
              "        </tr>\n",
              "        <tr>\n",
              "            <td>Europe</td>\n",
              "            <td>1</td>\n",
              "            <td>small</td>\n",
              "        </tr>\n",
              "        <tr>\n",
              "            <td>North America</td>\n",
              "            <td>1</td>\n",
              "            <td>small</td>\n",
              "        </tr>\n",
              "        <tr>\n",
              "            <td>South America</td>\n",
              "            <td>2</td>\n",
              "            <td>small</td>\n",
              "        </tr>\n",
              "    </tbody>\n",
              "</table>"
            ]
          },
          "metadata": {},
          "execution_count": 44
        }
      ]
    },
    {
      "cell_type": "code",
      "source": [
        "%%sql SELECT country, prime_minister,\n",
        "             CASE\n",
        "                 WHEN pm_start < 2000 THEN 'Before 2000'\n",
        "                 ELSE 'After 2000'\n",
        "             END AS period\n",
        "FROM prime_minister_terms\n",
        "LEFT JOIN prime_ministers\n",
        "USING (prime_minister);"
      ],
      "metadata": {
        "colab": {
          "base_uri": "https://localhost:8080/",
          "height": 285
        },
        "id": "KVxKM1Qq53kB",
        "outputId": "2cfa1332-0258-45ac-ddda-f4b0de619edf"
      },
      "execution_count": 47,
      "outputs": [
        {
          "output_type": "stream",
          "name": "stdout",
          "text": [
            " * sqlite://\n",
            "Done.\n"
          ]
        },
        {
          "output_type": "execute_result",
          "data": {
            "text/plain": [
              "[('Egypt', 'Mostafa Madbouly', 'After 2000'),\n",
              " ('Portugal', 'António Costa', 'After 2000'),\n",
              " ('Pakistan', 'Shehbaz Sharif', 'After 2000'),\n",
              " ('United Kingdom', 'Boris Johnson', 'After 2000'),\n",
              " ('India', 'Narendra Modi', 'After 2000'),\n",
              " ('Australia', 'Scott Morrison', 'After 2000'),\n",
              " ('Norway', 'Jonas Gahr Støre', 'After 2000'),\n",
              " ('Brunei', 'Hassanal Bolkiah', 'Before 2000'),\n",
              " ('Oman', 'Haitham bin Tarik', 'After 2000'),\n",
              " ('New Zealand', 'Jacinda Ardern', 'After 2000')]"
            ],
            "text/html": [
              "<table>\n",
              "    <thead>\n",
              "        <tr>\n",
              "            <th>country</th>\n",
              "            <th>prime_minister</th>\n",
              "            <th>period</th>\n",
              "        </tr>\n",
              "    </thead>\n",
              "    <tbody>\n",
              "        <tr>\n",
              "            <td>Egypt</td>\n",
              "            <td>Mostafa Madbouly</td>\n",
              "            <td>After 2000</td>\n",
              "        </tr>\n",
              "        <tr>\n",
              "            <td>Portugal</td>\n",
              "            <td>António Costa</td>\n",
              "            <td>After 2000</td>\n",
              "        </tr>\n",
              "        <tr>\n",
              "            <td>Pakistan</td>\n",
              "            <td>Shehbaz Sharif</td>\n",
              "            <td>After 2000</td>\n",
              "        </tr>\n",
              "        <tr>\n",
              "            <td>United Kingdom</td>\n",
              "            <td>Boris Johnson</td>\n",
              "            <td>After 2000</td>\n",
              "        </tr>\n",
              "        <tr>\n",
              "            <td>India</td>\n",
              "            <td>Narendra Modi</td>\n",
              "            <td>After 2000</td>\n",
              "        </tr>\n",
              "        <tr>\n",
              "            <td>Australia</td>\n",
              "            <td>Scott Morrison</td>\n",
              "            <td>After 2000</td>\n",
              "        </tr>\n",
              "        <tr>\n",
              "            <td>Norway</td>\n",
              "            <td>Jonas Gahr Støre</td>\n",
              "            <td>After 2000</td>\n",
              "        </tr>\n",
              "        <tr>\n",
              "            <td>Brunei</td>\n",
              "            <td>Hassanal Bolkiah</td>\n",
              "            <td>Before 2000</td>\n",
              "        </tr>\n",
              "        <tr>\n",
              "            <td>Oman</td>\n",
              "            <td>Haitham bin Tarik</td>\n",
              "            <td>After 2000</td>\n",
              "        </tr>\n",
              "        <tr>\n",
              "            <td>New Zealand</td>\n",
              "            <td>Jacinda Ardern</td>\n",
              "            <td>After 2000</td>\n",
              "        </tr>\n",
              "    </tbody>\n",
              "</table>"
            ]
          },
          "metadata": {},
          "execution_count": 47
        }
      ]
    },
    {
      "cell_type": "code",
      "source": [
        "%%sql SELECT country, indep_year\n",
        "FROM states\n",
        "WHERE\n",
        "     CASE\n",
        "         WHEN indep_year < 1800\n",
        "         OR indep_year > 1900\n",
        "         THEN 1\n",
        "         ELSE 0\n",
        "     END;"
      ],
      "metadata": {
        "colab": {
          "base_uri": "https://localhost:8080/",
          "height": 264
        },
        "id": "UjR-Xf_FANmr",
        "outputId": "14d2db64-ca9c-40dc-bae3-6c7c7b2e8850"
      },
      "execution_count": 50,
      "outputs": [
        {
          "output_type": "stream",
          "name": "stdout",
          "text": [
            " * sqlite://\n",
            "Done.\n"
          ]
        },
        {
          "output_type": "execute_result",
          "data": {
            "text/plain": [
              "[('Australia', 1901),\n",
              " ('Brunei', 1984),\n",
              " ('Egypt', 1922),\n",
              " ('India', 1947),\n",
              " ('Norway', 1905),\n",
              " ('Oman', 1951),\n",
              " ('Pakistan', 1947),\n",
              " ('Portugal', 1143),\n",
              " ('USA', 1776)]"
            ],
            "text/html": [
              "<table>\n",
              "    <thead>\n",
              "        <tr>\n",
              "            <th>country</th>\n",
              "            <th>indep_year</th>\n",
              "        </tr>\n",
              "    </thead>\n",
              "    <tbody>\n",
              "        <tr>\n",
              "            <td>Australia</td>\n",
              "            <td>1901</td>\n",
              "        </tr>\n",
              "        <tr>\n",
              "            <td>Brunei</td>\n",
              "            <td>1984</td>\n",
              "        </tr>\n",
              "        <tr>\n",
              "            <td>Egypt</td>\n",
              "            <td>1922</td>\n",
              "        </tr>\n",
              "        <tr>\n",
              "            <td>India</td>\n",
              "            <td>1947</td>\n",
              "        </tr>\n",
              "        <tr>\n",
              "            <td>Norway</td>\n",
              "            <td>1905</td>\n",
              "        </tr>\n",
              "        <tr>\n",
              "            <td>Oman</td>\n",
              "            <td>1951</td>\n",
              "        </tr>\n",
              "        <tr>\n",
              "            <td>Pakistan</td>\n",
              "            <td>1947</td>\n",
              "        </tr>\n",
              "        <tr>\n",
              "            <td>Portugal</td>\n",
              "            <td>1143</td>\n",
              "        </tr>\n",
              "        <tr>\n",
              "            <td>USA</td>\n",
              "            <td>1776</td>\n",
              "        </tr>\n",
              "    </tbody>\n",
              "</table>"
            ]
          },
          "metadata": {},
          "execution_count": 50
        }
      ]
    },
    {
      "cell_type": "code",
      "source": [
        "%%sql SELECT country,\n",
        "       CASE\n",
        "           WHEN president IS NOT NULL THEN 'Yes'\n",
        "           ELSE 'No'\n",
        "       END AS president,\n",
        "       CASE\n",
        "           WHEN prime_minister IS NOT NULL THEN 'Yes'\n",
        "           ELSE 'No'\n",
        "       END AS prime_minister,\n",
        "       CASE\n",
        "           WHEN monarch IS NOT NULL THEN 'Yes'\n",
        "           ELSE 'No'\n",
        "       END AS monarch\n",
        "FROM states\n",
        "LEFT JOIN presidents\n",
        "USING (country)\n",
        "LEFT JOIN prime_ministers\n",
        "USING (country)\n",
        "LEFT JOIN monarchs\n",
        "USING (country);"
      ],
      "metadata": {
        "colab": {
          "base_uri": "https://localhost:8080/",
          "height": 306
        },
        "id": "496aR0vdAxIY",
        "outputId": "48ed0445-5800-4ab0-c77e-a5391cc67f40"
      },
      "execution_count": 52,
      "outputs": [
        {
          "output_type": "stream",
          "name": "stdout",
          "text": [
            " * sqlite://\n",
            "Done.\n"
          ]
        },
        {
          "output_type": "execute_result",
          "data": {
            "text/plain": [
              "[('Australia', 'No', 'Yes', 'No'),\n",
              " ('Brunei', 'No', 'Yes', 'Yes'),\n",
              " ('Chile', 'Yes', 'No', 'No'),\n",
              " ('Egypt', 'Yes', 'Yes', 'No'),\n",
              " ('India', 'Yes', 'Yes', 'No'),\n",
              " ('Norway', 'No', 'Yes', 'Yes'),\n",
              " ('Oman', 'No', 'Yes', 'Yes'),\n",
              " ('Pakistan', 'Yes', 'Yes', 'No'),\n",
              " ('Portugal', 'Yes', 'Yes', 'No'),\n",
              " ('Uruguay', 'Yes', 'No', 'No'),\n",
              " ('USA', 'Yes', 'No', 'No')]"
            ],
            "text/html": [
              "<table>\n",
              "    <thead>\n",
              "        <tr>\n",
              "            <th>country</th>\n",
              "            <th>president</th>\n",
              "            <th>prime_minister</th>\n",
              "            <th>monarch</th>\n",
              "        </tr>\n",
              "    </thead>\n",
              "    <tbody>\n",
              "        <tr>\n",
              "            <td>Australia</td>\n",
              "            <td>No</td>\n",
              "            <td>Yes</td>\n",
              "            <td>No</td>\n",
              "        </tr>\n",
              "        <tr>\n",
              "            <td>Brunei</td>\n",
              "            <td>No</td>\n",
              "            <td>Yes</td>\n",
              "            <td>Yes</td>\n",
              "        </tr>\n",
              "        <tr>\n",
              "            <td>Chile</td>\n",
              "            <td>Yes</td>\n",
              "            <td>No</td>\n",
              "            <td>No</td>\n",
              "        </tr>\n",
              "        <tr>\n",
              "            <td>Egypt</td>\n",
              "            <td>Yes</td>\n",
              "            <td>Yes</td>\n",
              "            <td>No</td>\n",
              "        </tr>\n",
              "        <tr>\n",
              "            <td>India</td>\n",
              "            <td>Yes</td>\n",
              "            <td>Yes</td>\n",
              "            <td>No</td>\n",
              "        </tr>\n",
              "        <tr>\n",
              "            <td>Norway</td>\n",
              "            <td>No</td>\n",
              "            <td>Yes</td>\n",
              "            <td>Yes</td>\n",
              "        </tr>\n",
              "        <tr>\n",
              "            <td>Oman</td>\n",
              "            <td>No</td>\n",
              "            <td>Yes</td>\n",
              "            <td>Yes</td>\n",
              "        </tr>\n",
              "        <tr>\n",
              "            <td>Pakistan</td>\n",
              "            <td>Yes</td>\n",
              "            <td>Yes</td>\n",
              "            <td>No</td>\n",
              "        </tr>\n",
              "        <tr>\n",
              "            <td>Portugal</td>\n",
              "            <td>Yes</td>\n",
              "            <td>Yes</td>\n",
              "            <td>No</td>\n",
              "        </tr>\n",
              "        <tr>\n",
              "            <td>Uruguay</td>\n",
              "            <td>Yes</td>\n",
              "            <td>No</td>\n",
              "            <td>No</td>\n",
              "        </tr>\n",
              "        <tr>\n",
              "            <td>USA</td>\n",
              "            <td>Yes</td>\n",
              "            <td>No</td>\n",
              "            <td>No</td>\n",
              "        </tr>\n",
              "    </tbody>\n",
              "</table>"
            ]
          },
          "metadata": {},
          "execution_count": 52
        }
      ]
    },
    {
      "cell_type": "code",
      "source": [
        "%%sql SELECT country,\n",
        "       CASE\n",
        "           WHEN (SELECT COUNT(*)\n",
        "                 FROM presidents AS p\n",
        "                 WHERE p.country = s.country) THEN 'Yes'\n",
        "           ELSE 'No'\n",
        "       END AS president,\n",
        "       CASE\n",
        "           WHEN (SELECT COUNT(*)\n",
        "                 FROM prime_ministers AS p\n",
        "                 WHERE p.country = s.country) THEN 'Yes'\n",
        "           ELSE 'No'\n",
        "       END AS prime_minister\n",
        "FROM states AS s;"
      ],
      "metadata": {
        "colab": {
          "base_uri": "https://localhost:8080/",
          "height": 306
        },
        "id": "6jBGTsvlCT_R",
        "outputId": "b5e7159c-edfe-415a-9fdc-7a4d3d905eab"
      },
      "execution_count": 57,
      "outputs": [
        {
          "output_type": "stream",
          "name": "stdout",
          "text": [
            " * sqlite://\n",
            "Done.\n"
          ]
        },
        {
          "output_type": "execute_result",
          "data": {
            "text/plain": [
              "[('Australia', 'No', 'Yes'),\n",
              " ('Brunei', 'No', 'Yes'),\n",
              " ('Chile', 'Yes', 'No'),\n",
              " ('Egypt', 'Yes', 'Yes'),\n",
              " ('India', 'Yes', 'Yes'),\n",
              " ('Norway', 'No', 'Yes'),\n",
              " ('Oman', 'No', 'Yes'),\n",
              " ('Pakistan', 'Yes', 'Yes'),\n",
              " ('Portugal', 'Yes', 'Yes'),\n",
              " ('Uruguay', 'Yes', 'No'),\n",
              " ('USA', 'Yes', 'No')]"
            ],
            "text/html": [
              "<table>\n",
              "    <thead>\n",
              "        <tr>\n",
              "            <th>country</th>\n",
              "            <th>president</th>\n",
              "            <th>prime_minister</th>\n",
              "        </tr>\n",
              "    </thead>\n",
              "    <tbody>\n",
              "        <tr>\n",
              "            <td>Australia</td>\n",
              "            <td>No</td>\n",
              "            <td>Yes</td>\n",
              "        </tr>\n",
              "        <tr>\n",
              "            <td>Brunei</td>\n",
              "            <td>No</td>\n",
              "            <td>Yes</td>\n",
              "        </tr>\n",
              "        <tr>\n",
              "            <td>Chile</td>\n",
              "            <td>Yes</td>\n",
              "            <td>No</td>\n",
              "        </tr>\n",
              "        <tr>\n",
              "            <td>Egypt</td>\n",
              "            <td>Yes</td>\n",
              "            <td>Yes</td>\n",
              "        </tr>\n",
              "        <tr>\n",
              "            <td>India</td>\n",
              "            <td>Yes</td>\n",
              "            <td>Yes</td>\n",
              "        </tr>\n",
              "        <tr>\n",
              "            <td>Norway</td>\n",
              "            <td>No</td>\n",
              "            <td>Yes</td>\n",
              "        </tr>\n",
              "        <tr>\n",
              "            <td>Oman</td>\n",
              "            <td>No</td>\n",
              "            <td>Yes</td>\n",
              "        </tr>\n",
              "        <tr>\n",
              "            <td>Pakistan</td>\n",
              "            <td>Yes</td>\n",
              "            <td>Yes</td>\n",
              "        </tr>\n",
              "        <tr>\n",
              "            <td>Portugal</td>\n",
              "            <td>Yes</td>\n",
              "            <td>Yes</td>\n",
              "        </tr>\n",
              "        <tr>\n",
              "            <td>Uruguay</td>\n",
              "            <td>Yes</td>\n",
              "            <td>No</td>\n",
              "        </tr>\n",
              "        <tr>\n",
              "            <td>USA</td>\n",
              "            <td>Yes</td>\n",
              "            <td>No</td>\n",
              "        </tr>\n",
              "    </tbody>\n",
              "</table>"
            ]
          },
          "metadata": {},
          "execution_count": 57
        }
      ]
    },
    {
      "cell_type": "code",
      "source": [
        "%%sql SELECT country,\n",
        "       CASE\n",
        "           WHEN country IN (SELECT p.country\n",
        "                            FROM presidents AS p\n",
        "                            WHERE p.country = s.country) THEN 'Yes'\n",
        "           ELSE 'No'\n",
        "       END AS president,\n",
        "       CASE\n",
        "           WHEN country IN (SELECT p.country\n",
        "                 FROM prime_ministers AS p\n",
        "                 WHERE p.country = s.country) THEN 'Yes'\n",
        "           ELSE 'No'\n",
        "       END AS prime_minister\n",
        "FROM states AS s;"
      ],
      "metadata": {
        "colab": {
          "base_uri": "https://localhost:8080/",
          "height": 306
        },
        "id": "ubtbDOtNDSNe",
        "outputId": "9125f79c-7f63-4dac-a974-fdec02e6181a"
      },
      "execution_count": 61,
      "outputs": [
        {
          "output_type": "stream",
          "name": "stdout",
          "text": [
            " * sqlite://\n",
            "Done.\n"
          ]
        },
        {
          "output_type": "execute_result",
          "data": {
            "text/plain": [
              "[('Australia', 'No', 'Yes'),\n",
              " ('Brunei', 'No', 'Yes'),\n",
              " ('Chile', 'Yes', 'No'),\n",
              " ('Egypt', 'Yes', 'Yes'),\n",
              " ('India', 'Yes', 'Yes'),\n",
              " ('Norway', 'No', 'Yes'),\n",
              " ('Oman', 'No', 'Yes'),\n",
              " ('Pakistan', 'Yes', 'Yes'),\n",
              " ('Portugal', 'Yes', 'Yes'),\n",
              " ('Uruguay', 'Yes', 'No'),\n",
              " ('USA', 'Yes', 'No')]"
            ],
            "text/html": [
              "<table>\n",
              "    <thead>\n",
              "        <tr>\n",
              "            <th>country</th>\n",
              "            <th>president</th>\n",
              "            <th>prime_minister</th>\n",
              "        </tr>\n",
              "    </thead>\n",
              "    <tbody>\n",
              "        <tr>\n",
              "            <td>Australia</td>\n",
              "            <td>No</td>\n",
              "            <td>Yes</td>\n",
              "        </tr>\n",
              "        <tr>\n",
              "            <td>Brunei</td>\n",
              "            <td>No</td>\n",
              "            <td>Yes</td>\n",
              "        </tr>\n",
              "        <tr>\n",
              "            <td>Chile</td>\n",
              "            <td>Yes</td>\n",
              "            <td>No</td>\n",
              "        </tr>\n",
              "        <tr>\n",
              "            <td>Egypt</td>\n",
              "            <td>Yes</td>\n",
              "            <td>Yes</td>\n",
              "        </tr>\n",
              "        <tr>\n",
              "            <td>India</td>\n",
              "            <td>Yes</td>\n",
              "            <td>Yes</td>\n",
              "        </tr>\n",
              "        <tr>\n",
              "            <td>Norway</td>\n",
              "            <td>No</td>\n",
              "            <td>Yes</td>\n",
              "        </tr>\n",
              "        <tr>\n",
              "            <td>Oman</td>\n",
              "            <td>No</td>\n",
              "            <td>Yes</td>\n",
              "        </tr>\n",
              "        <tr>\n",
              "            <td>Pakistan</td>\n",
              "            <td>Yes</td>\n",
              "            <td>Yes</td>\n",
              "        </tr>\n",
              "        <tr>\n",
              "            <td>Portugal</td>\n",
              "            <td>Yes</td>\n",
              "            <td>Yes</td>\n",
              "        </tr>\n",
              "        <tr>\n",
              "            <td>Uruguay</td>\n",
              "            <td>Yes</td>\n",
              "            <td>No</td>\n",
              "        </tr>\n",
              "        <tr>\n",
              "            <td>USA</td>\n",
              "            <td>Yes</td>\n",
              "            <td>No</td>\n",
              "        </tr>\n",
              "    </tbody>\n",
              "</table>"
            ]
          },
          "metadata": {},
          "execution_count": 61
        }
      ]
    }
  ]
}