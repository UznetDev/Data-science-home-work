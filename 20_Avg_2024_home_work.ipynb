{
  "nbformat": 4,
  "nbformat_minor": 0,
  "metadata": {
    "colab": {
      "provenance": [],
      "authorship_tag": "ABX9TyPZu5UHLzfAC5RmjcGFayPA",
      "include_colab_link": true
    },
    "kernelspec": {
      "name": "python3",
      "display_name": "Python 3"
    },
    "language_info": {
      "name": "python"
    }
  },
  "cells": [
    {
      "cell_type": "markdown",
      "metadata": {
        "id": "view-in-github",
        "colab_type": "text"
      },
      "source": [
        "<a href=\"https://colab.research.google.com/github/UznetDev/Data-science-home-work/blob/main/20_Avg_2024_home_work.ipynb\" target=\"_parent\"><img src=\"https://colab.research.google.com/assets/colab-badge.svg\" alt=\"Open In Colab\"/></a>"
      ]
    },
    {
      "cell_type": "code",
      "execution_count": 2,
      "metadata": {
        "id": "QTP9Bq6TA8Ao"
      },
      "outputs": [],
      "source": [
        "# Set-up\n",
        "%load_ext sql\n",
        "%sql sqlite://"
      ]
    },
    {
      "cell_type": "code",
      "source": [
        "import pandas as pd"
      ],
      "metadata": {
        "id": "BYJIcNe-BXd9"
      },
      "execution_count": 3,
      "outputs": []
    },
    {
      "cell_type": "code",
      "source": [
        "# Read datasets from CSV files\n",
        "films = pd.read_csv('films.csv', header=None)\n",
        "films = films.rename(columns={0: 'id',\n",
        "                              1: 'title',\n",
        "                              2: 'releas_date',\n",
        "                              3: 'country',\n",
        "                              4: 'duratioon',\n",
        "                              5: 'language',\n",
        "                              6: 'certificatipon',\n",
        "                              7: 'gross',\n",
        "                              8: 'budget'})\n",
        "reviews = pd.read_csv('reviews.csv', header=None)\n",
        "reviews = reviews.rename(columns={0: 'id',\n",
        "                                  1: 'film_id',\n",
        "                                  2: 'num_user',\n",
        "                                  3: 'num_critic',\n",
        "                                  4: 'imdb_score',\n",
        "                                  5: 'num_votes',\n",
        "                                  6: 'facebook_likes'})\n",
        "people = pd.read_csv('people.csv', header=None)\n",
        "people = people.rename(columns={0: 'id',\n",
        "                                1: 'name',\n",
        "                                2: 'birthdate',\n",
        "                                3: 'deathdate'})\n",
        "roles = pd.read_csv('roles.csv', header=None)\n",
        "roles = roles.rename(columns={0: 'id',\n",
        "                              1: 'film_id',\n",
        "                              2: 'person_id',\n",
        "                              3: 'role'})\n",
        "\n",
        "# Drop tables if they exist, then persist the DataFrames to the SQL database\n",
        "%sql DROP TABLE IF EXISTS films;\n",
        "%sql --persist films\n",
        "\n",
        "%sql DROP TABLE IF EXISTS reviews;\n",
        "%sql --persist reviews\n",
        "\n",
        "%sql DROP TABLE IF EXISTS people;\n",
        "%sql --persist people\n",
        "\n",
        "%sql DROP TABLE IF EXISTS roles;\n",
        "%sql --persist roles"
      ],
      "metadata": {
        "colab": {
          "base_uri": "https://localhost:8080/",
          "height": 244
        },
        "id": "aofyBnXABVam",
        "outputId": "a7be096e-62ac-417b-e3a5-5d7c344404b8"
      },
      "execution_count": 4,
      "outputs": [
        {
          "output_type": "stream",
          "name": "stdout",
          "text": [
            " * sqlite://\n",
            "Done.\n",
            " * sqlite://\n",
            " * sqlite://\n",
            "Done.\n",
            " * sqlite://\n",
            " * sqlite://\n",
            "Done.\n",
            " * sqlite://\n",
            " * sqlite://\n",
            "Done.\n",
            " * sqlite://\n"
          ]
        },
        {
          "output_type": "execute_result",
          "data": {
            "text/plain": [
              "'Persisted roles'"
            ],
            "application/vnd.google.colaboratory.intrinsic+json": {
              "type": "string"
            }
          },
          "metadata": {},
          "execution_count": 4
        }
      ]
    },
    {
      "cell_type": "code",
      "source": [
        "%%sql SELECT * FROM films LIMIT 1;"
      ],
      "metadata": {
        "colab": {
          "base_uri": "https://localhost:8080/",
          "height": 113
        },
        "id": "t2VqFMPaBZr3",
        "outputId": "2fd85f53-3616-4b8b-eff0-01dd2a231d4e"
      },
      "execution_count": 5,
      "outputs": [
        {
          "output_type": "stream",
          "name": "stdout",
          "text": [
            " * sqlite://\n",
            "Done.\n"
          ]
        },
        {
          "output_type": "execute_result",
          "data": {
            "text/plain": [
              "[(0, 1, \"Intolerance: Love's Struggle Throughout the Ages\", 1916.0, 'USA', 123.0, None, 'Not Rated', None, 385907.0)]"
            ],
            "text/html": [
              "<table>\n",
              "    <thead>\n",
              "        <tr>\n",
              "            <th>index</th>\n",
              "            <th>id</th>\n",
              "            <th>title</th>\n",
              "            <th>releas_date</th>\n",
              "            <th>country</th>\n",
              "            <th>duratioon</th>\n",
              "            <th>language</th>\n",
              "            <th>certificatipon</th>\n",
              "            <th>gross</th>\n",
              "            <th>budget</th>\n",
              "        </tr>\n",
              "    </thead>\n",
              "    <tbody>\n",
              "        <tr>\n",
              "            <td>0</td>\n",
              "            <td>1</td>\n",
              "            <td>Intolerance: Love&#x27;s Struggle Throughout the Ages</td>\n",
              "            <td>1916.0</td>\n",
              "            <td>USA</td>\n",
              "            <td>123.0</td>\n",
              "            <td>None</td>\n",
              "            <td>Not Rated</td>\n",
              "            <td>None</td>\n",
              "            <td>385907.0</td>\n",
              "        </tr>\n",
              "    </tbody>\n",
              "</table>"
            ]
          },
          "metadata": {},
          "execution_count": 5
        }
      ]
    },
    {
      "cell_type": "code",
      "source": [
        "%%sql SELECT * FROM reviews LIMIT 1;"
      ],
      "metadata": {
        "colab": {
          "base_uri": "https://localhost:8080/",
          "height": 96
        },
        "id": "KRUjJwRuBqzb",
        "outputId": "0581414a-2e8e-4f69-96a9-940935da635d"
      },
      "execution_count": 6,
      "outputs": [
        {
          "output_type": "stream",
          "name": "stdout",
          "text": [
            " * sqlite://\n",
            "Done.\n"
          ]
        },
        {
          "output_type": "execute_result",
          "data": {
            "text/plain": [
              "[(0, 3934, 588.0, 432.0, 7.0999999, 203461, 46000)]"
            ],
            "text/html": [
              "<table>\n",
              "    <thead>\n",
              "        <tr>\n",
              "            <th>index</th>\n",
              "            <th>id</th>\n",
              "            <th>film_id</th>\n",
              "            <th>num_user</th>\n",
              "            <th>num_critic</th>\n",
              "            <th>imdb_score</th>\n",
              "            <th>num_votes</th>\n",
              "        </tr>\n",
              "    </thead>\n",
              "    <tbody>\n",
              "        <tr>\n",
              "            <td>0</td>\n",
              "            <td>3934</td>\n",
              "            <td>588.0</td>\n",
              "            <td>432.0</td>\n",
              "            <td>7.0999999</td>\n",
              "            <td>203461</td>\n",
              "            <td>46000</td>\n",
              "        </tr>\n",
              "    </tbody>\n",
              "</table>"
            ]
          },
          "metadata": {},
          "execution_count": 6
        }
      ]
    },
    {
      "cell_type": "code",
      "source": [
        "%%sql SELECT * FROM people LIMIT 1;"
      ],
      "metadata": {
        "colab": {
          "base_uri": "https://localhost:8080/",
          "height": 96
        },
        "id": "hxISrx1NB2ZW",
        "outputId": "5ced013f-6950-48d9-dbd2-e2aa62931dd4"
      },
      "execution_count": 7,
      "outputs": [
        {
          "output_type": "stream",
          "name": "stdout",
          "text": [
            " * sqlite://\n",
            "Done.\n"
          ]
        },
        {
          "output_type": "execute_result",
          "data": {
            "text/plain": [
              "[(0, 1, '50 Cent', '1975-07-06', None)]"
            ],
            "text/html": [
              "<table>\n",
              "    <thead>\n",
              "        <tr>\n",
              "            <th>index</th>\n",
              "            <th>id</th>\n",
              "            <th>name</th>\n",
              "            <th>birthdate</th>\n",
              "            <th>deathdate</th>\n",
              "        </tr>\n",
              "    </thead>\n",
              "    <tbody>\n",
              "        <tr>\n",
              "            <td>0</td>\n",
              "            <td>1</td>\n",
              "            <td>50 Cent</td>\n",
              "            <td>1975-07-06</td>\n",
              "            <td>None</td>\n",
              "        </tr>\n",
              "    </tbody>\n",
              "</table>"
            ]
          },
          "metadata": {},
          "execution_count": 7
        }
      ]
    },
    {
      "cell_type": "code",
      "source": [
        "%%sql SELECT * FROM roles LIMIT 1;"
      ],
      "metadata": {
        "colab": {
          "base_uri": "https://localhost:8080/",
          "height": 96
        },
        "id": "OWKe1rLBB6Pd",
        "outputId": "c864da78-0e94-41e2-8009-7742ee8fcc43"
      },
      "execution_count": 8,
      "outputs": [
        {
          "output_type": "stream",
          "name": "stdout",
          "text": [
            " * sqlite://\n",
            "Done.\n"
          ]
        },
        {
          "output_type": "execute_result",
          "data": {
            "text/plain": [
              "[(0, 1, 1, 1630, 'director')]"
            ],
            "text/html": [
              "<table>\n",
              "    <thead>\n",
              "        <tr>\n",
              "            <th>index</th>\n",
              "            <th>id</th>\n",
              "            <th>film_id</th>\n",
              "            <th>person_id</th>\n",
              "            <th>role</th>\n",
              "        </tr>\n",
              "    </thead>\n",
              "    <tbody>\n",
              "        <tr>\n",
              "            <td>0</td>\n",
              "            <td>1</td>\n",
              "            <td>1</td>\n",
              "            <td>1630</td>\n",
              "            <td>director</td>\n",
              "        </tr>\n",
              "    </tbody>\n",
              "</table>"
            ]
          },
          "metadata": {},
          "execution_count": 8
        }
      ]
    }
  ]
}