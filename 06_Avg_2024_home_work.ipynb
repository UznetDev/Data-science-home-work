{
  "cells": [
    {
      "cell_type": "markdown",
      "metadata": {
        "id": "view-in-github",
        "colab_type": "text"
      },
      "source": [
        "<a href=\"https://colab.research.google.com/github/UznetDev/Data-science-home-work/blob/main/06_Avg_2024_home_work.ipynb\" target=\"_parent\"><img src=\"https://colab.research.google.com/assets/colab-badge.svg\" alt=\"Open In Colab\"/></a>"
      ]
    },
    {
      "cell_type": "code",
      "execution_count": null,
      "metadata": {
        "id": "7BgpMTO5akG_"
      },
      "outputs": [],
      "source": [
        "import numpy as np\n",
        "import pandas as pd\n",
        "from sklearn.datasets import fetch_california_housing\n",
        "from sklearn.linear_model import *\n",
        "from sklearn.model_selection import cross_val_score, KFold, train_test_split\n",
        "from sklearn.metrics import mean_squared_error, mean_absolute_error, r2_score, median_absolute_error\n",
        "from sklearn.preprocessing import OrdinalEncoder\n",
        "from sklearn.pipeline import Pipeline\n",
        "from sklearn.model_selection import GridSearchCV, train_test_split, RandomizedSearchCV\n",
        "from sklearn.preprocessing import PolynomialFeatures\n",
        "from sklearn.feature_selection import RFE, RFECV\n",
        "from sklearn.ensemble import StackingRegressor, VotingRegressor\n",
        "from sklearn.pipeline import Pipeline\n",
        "from sklearn.preprocessing import StandardScaler\n",
        "from sklearn.tree import DecisionTreeRegressor\n",
        "import warnings\n",
        "import re\n",
        "import seaborn as sns\n",
        "import plotly.express as px\n",
        "import matplotlib.pyplot as plt\n",
        "warnings.filterwarnings('ignore')"
      ]
    },
    {
      "cell_type": "code",
      "execution_count": null,
      "metadata": {
        "colab": {
          "base_uri": "https://localhost:8080/",
          "height": 321
        },
        "id": "MCMNLdMXbvR9",
        "outputId": "b7647cc1-9aa0-47c5-bef5-9cffae012b7b"
      },
      "outputs": [
        {
          "ename": "FileNotFoundError",
          "evalue": "[Errno 2] No such file or directory: 'car_prices.csv'",
          "output_type": "error",
          "traceback": [
            "\u001b[0;31m---------------------------------------------------------------------------\u001b[0m",
            "\u001b[0;31mFileNotFoundError\u001b[0m                         Traceback (most recent call last)",
            "\u001b[0;32m<ipython-input-2-2d5694f2d646>\u001b[0m in \u001b[0;36m<cell line: 1>\u001b[0;34m()\u001b[0m\n\u001b[0;32m----> 1\u001b[0;31m \u001b[0mdf\u001b[0m \u001b[0;34m=\u001b[0m \u001b[0mpd\u001b[0m\u001b[0;34m.\u001b[0m\u001b[0mread_csv\u001b[0m\u001b[0;34m(\u001b[0m\u001b[0;34m'car_prices.csv'\u001b[0m\u001b[0;34m)\u001b[0m\u001b[0;34m\u001b[0m\u001b[0;34m\u001b[0m\u001b[0m\n\u001b[0m\u001b[1;32m      2\u001b[0m \u001b[0mdf\u001b[0m\u001b[0;34m.\u001b[0m\u001b[0mshape\u001b[0m\u001b[0;34m\u001b[0m\u001b[0;34m\u001b[0m\u001b[0m\n",
            "\u001b[0;32m/usr/local/lib/python3.10/dist-packages/pandas/io/parsers/readers.py\u001b[0m in \u001b[0;36mread_csv\u001b[0;34m(filepath_or_buffer, sep, delimiter, header, names, index_col, usecols, dtype, engine, converters, true_values, false_values, skipinitialspace, skiprows, skipfooter, nrows, na_values, keep_default_na, na_filter, verbose, skip_blank_lines, parse_dates, infer_datetime_format, keep_date_col, date_parser, date_format, dayfirst, cache_dates, iterator, chunksize, compression, thousands, decimal, lineterminator, quotechar, quoting, doublequote, escapechar, comment, encoding, encoding_errors, dialect, on_bad_lines, delim_whitespace, low_memory, memory_map, float_precision, storage_options, dtype_backend)\u001b[0m\n\u001b[1;32m    946\u001b[0m     \u001b[0mkwds\u001b[0m\u001b[0;34m.\u001b[0m\u001b[0mupdate\u001b[0m\u001b[0;34m(\u001b[0m\u001b[0mkwds_defaults\u001b[0m\u001b[0;34m)\u001b[0m\u001b[0;34m\u001b[0m\u001b[0;34m\u001b[0m\u001b[0m\n\u001b[1;32m    947\u001b[0m \u001b[0;34m\u001b[0m\u001b[0m\n\u001b[0;32m--> 948\u001b[0;31m     \u001b[0;32mreturn\u001b[0m \u001b[0m_read\u001b[0m\u001b[0;34m(\u001b[0m\u001b[0mfilepath_or_buffer\u001b[0m\u001b[0;34m,\u001b[0m \u001b[0mkwds\u001b[0m\u001b[0;34m)\u001b[0m\u001b[0;34m\u001b[0m\u001b[0;34m\u001b[0m\u001b[0m\n\u001b[0m\u001b[1;32m    949\u001b[0m \u001b[0;34m\u001b[0m\u001b[0m\n\u001b[1;32m    950\u001b[0m \u001b[0;34m\u001b[0m\u001b[0m\n",
            "\u001b[0;32m/usr/local/lib/python3.10/dist-packages/pandas/io/parsers/readers.py\u001b[0m in \u001b[0;36m_read\u001b[0;34m(filepath_or_buffer, kwds)\u001b[0m\n\u001b[1;32m    609\u001b[0m \u001b[0;34m\u001b[0m\u001b[0m\n\u001b[1;32m    610\u001b[0m     \u001b[0;31m# Create the parser.\u001b[0m\u001b[0;34m\u001b[0m\u001b[0;34m\u001b[0m\u001b[0m\n\u001b[0;32m--> 611\u001b[0;31m     \u001b[0mparser\u001b[0m \u001b[0;34m=\u001b[0m \u001b[0mTextFileReader\u001b[0m\u001b[0;34m(\u001b[0m\u001b[0mfilepath_or_buffer\u001b[0m\u001b[0;34m,\u001b[0m \u001b[0;34m**\u001b[0m\u001b[0mkwds\u001b[0m\u001b[0;34m)\u001b[0m\u001b[0;34m\u001b[0m\u001b[0;34m\u001b[0m\u001b[0m\n\u001b[0m\u001b[1;32m    612\u001b[0m \u001b[0;34m\u001b[0m\u001b[0m\n\u001b[1;32m    613\u001b[0m     \u001b[0;32mif\u001b[0m \u001b[0mchunksize\u001b[0m \u001b[0;32mor\u001b[0m \u001b[0miterator\u001b[0m\u001b[0;34m:\u001b[0m\u001b[0;34m\u001b[0m\u001b[0;34m\u001b[0m\u001b[0m\n",
            "\u001b[0;32m/usr/local/lib/python3.10/dist-packages/pandas/io/parsers/readers.py\u001b[0m in \u001b[0;36m__init__\u001b[0;34m(self, f, engine, **kwds)\u001b[0m\n\u001b[1;32m   1446\u001b[0m \u001b[0;34m\u001b[0m\u001b[0m\n\u001b[1;32m   1447\u001b[0m         \u001b[0mself\u001b[0m\u001b[0;34m.\u001b[0m\u001b[0mhandles\u001b[0m\u001b[0;34m:\u001b[0m \u001b[0mIOHandles\u001b[0m \u001b[0;34m|\u001b[0m \u001b[0;32mNone\u001b[0m \u001b[0;34m=\u001b[0m \u001b[0;32mNone\u001b[0m\u001b[0;34m\u001b[0m\u001b[0;34m\u001b[0m\u001b[0m\n\u001b[0;32m-> 1448\u001b[0;31m         \u001b[0mself\u001b[0m\u001b[0;34m.\u001b[0m\u001b[0m_engine\u001b[0m \u001b[0;34m=\u001b[0m \u001b[0mself\u001b[0m\u001b[0;34m.\u001b[0m\u001b[0m_make_engine\u001b[0m\u001b[0;34m(\u001b[0m\u001b[0mf\u001b[0m\u001b[0;34m,\u001b[0m \u001b[0mself\u001b[0m\u001b[0;34m.\u001b[0m\u001b[0mengine\u001b[0m\u001b[0;34m)\u001b[0m\u001b[0;34m\u001b[0m\u001b[0;34m\u001b[0m\u001b[0m\n\u001b[0m\u001b[1;32m   1449\u001b[0m \u001b[0;34m\u001b[0m\u001b[0m\n\u001b[1;32m   1450\u001b[0m     \u001b[0;32mdef\u001b[0m \u001b[0mclose\u001b[0m\u001b[0;34m(\u001b[0m\u001b[0mself\u001b[0m\u001b[0;34m)\u001b[0m \u001b[0;34m->\u001b[0m \u001b[0;32mNone\u001b[0m\u001b[0;34m:\u001b[0m\u001b[0;34m\u001b[0m\u001b[0;34m\u001b[0m\u001b[0m\n",
            "\u001b[0;32m/usr/local/lib/python3.10/dist-packages/pandas/io/parsers/readers.py\u001b[0m in \u001b[0;36m_make_engine\u001b[0;34m(self, f, engine)\u001b[0m\n\u001b[1;32m   1703\u001b[0m                 \u001b[0;32mif\u001b[0m \u001b[0;34m\"b\"\u001b[0m \u001b[0;32mnot\u001b[0m \u001b[0;32min\u001b[0m \u001b[0mmode\u001b[0m\u001b[0;34m:\u001b[0m\u001b[0;34m\u001b[0m\u001b[0;34m\u001b[0m\u001b[0m\n\u001b[1;32m   1704\u001b[0m                     \u001b[0mmode\u001b[0m \u001b[0;34m+=\u001b[0m \u001b[0;34m\"b\"\u001b[0m\u001b[0;34m\u001b[0m\u001b[0;34m\u001b[0m\u001b[0m\n\u001b[0;32m-> 1705\u001b[0;31m             self.handles = get_handle(\n\u001b[0m\u001b[1;32m   1706\u001b[0m                 \u001b[0mf\u001b[0m\u001b[0;34m,\u001b[0m\u001b[0;34m\u001b[0m\u001b[0;34m\u001b[0m\u001b[0m\n\u001b[1;32m   1707\u001b[0m                 \u001b[0mmode\u001b[0m\u001b[0;34m,\u001b[0m\u001b[0;34m\u001b[0m\u001b[0;34m\u001b[0m\u001b[0m\n",
            "\u001b[0;32m/usr/local/lib/python3.10/dist-packages/pandas/io/common.py\u001b[0m in \u001b[0;36mget_handle\u001b[0;34m(path_or_buf, mode, encoding, compression, memory_map, is_text, errors, storage_options)\u001b[0m\n\u001b[1;32m    861\u001b[0m         \u001b[0;32mif\u001b[0m \u001b[0mioargs\u001b[0m\u001b[0;34m.\u001b[0m\u001b[0mencoding\u001b[0m \u001b[0;32mand\u001b[0m \u001b[0;34m\"b\"\u001b[0m \u001b[0;32mnot\u001b[0m \u001b[0;32min\u001b[0m \u001b[0mioargs\u001b[0m\u001b[0;34m.\u001b[0m\u001b[0mmode\u001b[0m\u001b[0;34m:\u001b[0m\u001b[0;34m\u001b[0m\u001b[0;34m\u001b[0m\u001b[0m\n\u001b[1;32m    862\u001b[0m             \u001b[0;31m# Encoding\u001b[0m\u001b[0;34m\u001b[0m\u001b[0;34m\u001b[0m\u001b[0m\n\u001b[0;32m--> 863\u001b[0;31m             handle = open(\n\u001b[0m\u001b[1;32m    864\u001b[0m                 \u001b[0mhandle\u001b[0m\u001b[0;34m,\u001b[0m\u001b[0;34m\u001b[0m\u001b[0;34m\u001b[0m\u001b[0m\n\u001b[1;32m    865\u001b[0m                 \u001b[0mioargs\u001b[0m\u001b[0;34m.\u001b[0m\u001b[0mmode\u001b[0m\u001b[0;34m,\u001b[0m\u001b[0;34m\u001b[0m\u001b[0;34m\u001b[0m\u001b[0m\n",
            "\u001b[0;31mFileNotFoundError\u001b[0m: [Errno 2] No such file or directory: 'car_prices.csv'"
          ]
        }
      ],
      "source": [
        "df = pd.read_csv('car_prices.csv')\n",
        "df.shape"
      ]
    },
    {
      "cell_type": "code",
      "execution_count": null,
      "metadata": {
        "id": "K_z9ruRHJGgT"
      },
      "outputs": [],
      "source": [
        "df.isna().sum()"
      ]
    },
    {
      "cell_type": "code",
      "execution_count": null,
      "metadata": {
        "id": "i7qRV8k2by1Q"
      },
      "outputs": [],
      "source": [
        "df.head()"
      ]
    },
    {
      "cell_type": "code",
      "execution_count": null,
      "metadata": {
        "id": "1mtrFicscB1q"
      },
      "outputs": [],
      "source": [
        "for col in df.columns:\n",
        "    print(f'{col}: {df[col].nunique()}')"
      ]
    },
    {
      "cell_type": "markdown",
      "metadata": {
        "id": "TZG3KlJ3hVAY"
      },
      "source": [
        "#### Kerakliy funksiyalarni yozamiz"
      ]
    },
    {
      "cell_type": "code",
      "execution_count": null,
      "metadata": {
        "id": "IA-a78IouyrN"
      },
      "outputs": [],
      "source": [
        "def parse_engine_info(engine):\n",
        "    # engine ustunidan ma'lumotlarni ajratib olamiz\n",
        "    if pd.isna(engine):\n",
        "        return pd.Series([np.nan, np.nan, np.nan, np.nan, np.nan])\n",
        "\n",
        "    hp = re.search(r'(\\d+\\.?\\d*)HP', engine)\n",
        "    liter = re.search(r'(\\d+\\.?\\d*)L', engine)\n",
        "    motor = re.search(r'(Straight|V)\\s*\\d*', engine)\n",
        "    cylinder = re.search(r'(\\d+)\\s*Cylinder', engine)\n",
        "    fuel = re.search(r'(Gasoline|Hybrid|Flex|Diesel)', engine)\n",
        "\n",
        "    return pd.Series([\n",
        "        hp.group(1) if hp else np.nan,\n",
        "        liter.group(1) if liter else np.nan,\n",
        "        motor.group(0) if motor else np.nan,\n",
        "        cylinder.group(1) if cylinder else np.nan,\n",
        "        fuel.group(1) if fuel else np.nan\n",
        "    ])\n",
        "\n",
        "\n",
        "def fill_nan_mean(df, col, columns):\n",
        "    # numeric ustunlar uchun fill nall funcsiya\n",
        "    print(f\"Col: {col}, Columns: {columns}, Nan: {df[col].isna().sum()}\", end='')\n",
        "    value = df[df[col].notna()].groupby(by=columns)[col].mean().reset_index()\n",
        "    df = pd.merge(df, value, on=columns, how='left', suffixes=('', '_mean'))\n",
        "    df[col] = df[col].fillna(df[col + '_mean'])\n",
        "    df.drop(columns=[col + '_mean'], inplace=True)\n",
        "    print(f\", After Clean: {df[col].isna().sum()}\")\n",
        "    return df\n",
        "\n",
        "\n",
        "def fill_nan_mode(df, col, columns):\n",
        "    # object ustunlar uchun fill nall funcsiya\n",
        "    print(f\"Col: {col}, Columns: {columns}, Nan: {df[col].isna().sum()}\", end='')\n",
        "    mode_values = df.groupby(columns)[col].apply(lambda x: x.mode().iloc[0] if not x.mode().empty else pd.NA).reset_index()\n",
        "    df = pd.merge(df, mode_values, on=columns, how='left', suffixes=('', '_mode'))\n",
        "    df[col] = df[col].fillna(df[col + '_mode'])\n",
        "    df.drop(columns=[col + '_mode'], inplace=True)\n",
        "\n",
        "    print(f\", After Clean: {df[col].isna().sum()}\")\n",
        "    return df\n",
        "\n",
        "def to_numeric(x):\n",
        "    try:\n",
        "        return float(x)\n",
        "    except ValueError as err:\n",
        "        print(err)\n",
        "        return np.nan\n",
        "\n",
        "\n",
        "def ordinal_encoder(df, column, on):\n",
        "    # object ustunlni 'price' ustuniga soslanib sortlayb raqamga aylantiradi va yangi ustun yaratadi\n",
        "    avg_prices = df.groupby(column)[on].mean().reset_index()\n",
        "    avg_prices.columns = [column, 'avg_price']\n",
        "    avg_prices = avg_prices.sort_values(by='avg_price').reset_index(drop=True)\n",
        "    avg_prices[column+'_rank'] = avg_prices.index + 1\n",
        "    return pd.merge(df, avg_prices[[column, column+'_rank']], on=column, how='left')\n",
        "\n",
        "\n",
        "def print_metrics(y_pred, y_test, X_test):\n",
        "  rmse = np.sqrt(mean_squared_error(y_test, y_pred))\n",
        "  mae = mean_absolute_error(y_test, y_pred)\n",
        "  medae = median_absolute_error(y_test, y_pred)\n",
        "  r2 = r2_score(y_test, y_pred)\n",
        "  n = X_test.shape[0]\n",
        "  p = X_test.shape[1]\n",
        "  adjusted_r2 = (1 - (1 - r2) * (n - 1) / (n - p - 1))\n",
        "  mape = (np.mean(np.abs((y_test - y_pred) / y_test)) * 100)\n",
        "  smape = (np.mean(2 * np.abs(y_test - y_pred) / (np.abs(y_test) + np.abs(y_pred))) * 100)\n",
        "  medape = (np.median(np.abs((y_test - y_pred) / y_test)) * 100)\n",
        "  smedape = (np.median(2 * np.abs(y_test - y_pred) / (np.abs(y_test) + np.abs(y_pred))) * 100)\n",
        "\n",
        "  print(f'RMSE: {rmse}')\n",
        "  print(f'MAE: {mae}')\n",
        "  print(f'Median Absolute Error: {medae}')\n",
        "  print(f'R²: {r2}')\n",
        "  print(f'Adjusted R²: {adjusted_r2}')\n",
        "  print(f'MAPE: {mape}')\n",
        "  print(f'sMAPE: {smape}')\n",
        "  print(f'MedAPE: {medape}')\n",
        "  print(f'sMedAPE: {smedape}')\n",
        "\n",
        "  return adjusted_r2"
      ]
    },
    {
      "cell_type": "markdown",
      "metadata": {
        "id": "dj7m4xGIi87m"
      },
      "source": [
        "#### engine ustunidagi ma'lumotlarni ajratib olamiz"
      ]
    },
    {
      "cell_type": "code",
      "execution_count": null,
      "metadata": {
        "colab": {
          "background_save": true
        },
        "id": "9frPtiYNg_ub"
      },
      "outputs": [],
      "source": [
        "new_columns = ['hp', 'litr', 'motor', 'Cylinder', 'fuel']\n",
        "df[new_columns] = df['engine'].apply(parse_engine_info)"
      ]
    },
    {
      "cell_type": "markdown",
      "metadata": {
        "id": "csS5K9umjDLq"
      },
      "source": [
        "#### bizga keragsiz data"
      ]
    },
    {
      "cell_type": "code",
      "execution_count": null,
      "metadata": {
        "colab": {
          "background_save": true
        },
        "id": "coAGL5SWhVuJ"
      },
      "outputs": [],
      "source": [
        "df = df.drop(columns=['clean_title', 'id'])"
      ]
    },
    {
      "cell_type": "code",
      "execution_count": null,
      "metadata": {
        "colab": {
          "background_save": true
        },
        "id": "jXus0b0VhMX5",
        "outputId": "f5c94437-6c95-476d-c4b5-7e6fb45a9e97"
      },
      "outputs": [
        {
          "data": {
            "application/vnd.google.colaboratory.intrinsic+json": {
              "summary": "{\n  \"name\": \"df\",\n  \"rows\": 54273,\n  \"fields\": [\n    {\n      \"column\": \"brand\",\n      \"properties\": {\n        \"dtype\": \"category\",\n        \"num_unique_values\": 53,\n        \"samples\": [\n          \"Mazda\",\n          \"Rolls-Royce\",\n          \"Lucid\"\n        ],\n        \"semantic_type\": \"\",\n        \"description\": \"\"\n      }\n    },\n    {\n      \"column\": \"model\",\n      \"properties\": {\n        \"dtype\": \"category\",\n        \"num_unique_values\": 1827,\n        \"samples\": [\n          \"Rover Range Rover P525 Westminster\",\n          \"GL-Class GL 550\",\n          \"Sprinter Normal Roof\"\n        ],\n        \"semantic_type\": \"\",\n        \"description\": \"\"\n      }\n    },\n    {\n      \"column\": \"model_year\",\n      \"properties\": {\n        \"dtype\": \"number\",\n        \"std\": 5,\n        \"min\": 1974,\n        \"max\": 2024,\n        \"num_unique_values\": 34,\n        \"samples\": [\n          2006,\n          1999,\n          2000\n        ],\n        \"semantic_type\": \"\",\n        \"description\": \"\"\n      }\n    },\n    {\n      \"column\": \"milage\",\n      \"properties\": {\n        \"dtype\": \"number\",\n        \"std\": 50469,\n        \"min\": 100,\n        \"max\": 405000,\n        \"num_unique_values\": 3212,\n        \"samples\": [\n          102604,\n          23131,\n          32576\n        ],\n        \"semantic_type\": \"\",\n        \"description\": \"\"\n      }\n    },\n    {\n      \"column\": \"fuel_type\",\n      \"properties\": {\n        \"dtype\": \"category\",\n        \"num_unique_values\": 7,\n        \"samples\": [\n          \"Gasoline\",\n          \"Hybrid\",\n          \"Plug-In Hybrid\"\n        ],\n        \"semantic_type\": \"\",\n        \"description\": \"\"\n      }\n    },\n    {\n      \"column\": \"engine\",\n      \"properties\": {\n        \"dtype\": \"category\",\n        \"num_unique_values\": 1061,\n        \"samples\": [\n          \"382.0HP 3.0L Straight 6 Cylinder Engine Gasoline/Mild Electric Hybrid\",\n          \"451.0HP 6.3L 8 Cylinder Engine Gasoline Fuel\",\n          \"165.0HP 2.5L 4 Cylinder Engine Gasoline Fuel\"\n        ],\n        \"semantic_type\": \"\",\n        \"description\": \"\"\n      }\n    },\n    {\n      \"column\": \"transmission\",\n      \"properties\": {\n        \"dtype\": \"category\",\n        \"num_unique_values\": 46,\n        \"samples\": [\n          \"9-Speed Automatic with Auto-Shift\",\n          \"7-Speed Automatic\",\n          \"7-Speed Automatic with Auto-Shift\"\n        ],\n        \"semantic_type\": \"\",\n        \"description\": \"\"\n      }\n    },\n    {\n      \"column\": \"ext_col\",\n      \"properties\": {\n        \"dtype\": \"category\",\n        \"num_unique_values\": 260,\n        \"samples\": [\n          \"Glacial White Pearl\",\n          \"Gun Metallic\",\n          \"Balloon White\"\n        ],\n        \"semantic_type\": \"\",\n        \"description\": \"\"\n      }\n    },\n    {\n      \"column\": \"int_col\",\n      \"properties\": {\n        \"dtype\": \"category\",\n        \"num_unique_values\": 124,\n        \"samples\": [\n          \"Orange\",\n          \"Black / Express Red\",\n          \"Canberra Beige\"\n        ],\n        \"semantic_type\": \"\",\n        \"description\": \"\"\n      }\n    },\n    {\n      \"column\": \"accident\",\n      \"properties\": {\n        \"dtype\": \"category\",\n        \"num_unique_values\": 2,\n        \"samples\": [\n          \"At least 1 accident or damage reported\",\n          \"None reported\"\n        ],\n        \"semantic_type\": \"\",\n        \"description\": \"\"\n      }\n    },\n    {\n      \"column\": \"price\",\n      \"properties\": {\n        \"dtype\": \"number\",\n        \"std\": 72826,\n        \"min\": 2000,\n        \"max\": 2954083,\n        \"num_unique_values\": 1481,\n        \"samples\": [\n          315000,\n          9200\n        ],\n        \"semantic_type\": \"\",\n        \"description\": \"\"\n      }\n    },\n    {\n      \"column\": \"hp\",\n      \"properties\": {\n        \"dtype\": \"category\",\n        \"num_unique_values\": 341,\n        \"samples\": [\n          \"253.0\",\n          \"159.0\"\n        ],\n        \"semantic_type\": \"\",\n        \"description\": \"\"\n      }\n    },\n    {\n      \"column\": \"litr\",\n      \"properties\": {\n        \"dtype\": \"category\",\n        \"num_unique_values\": 60,\n        \"samples\": [\n          \"3.5\",\n          \"2.5\"\n        ],\n        \"semantic_type\": \"\",\n        \"description\": \"\"\n      }\n    },\n    {\n      \"column\": \"motor\",\n      \"properties\": {\n        \"dtype\": \"category\",\n        \"num_unique_values\": 7,\n        \"samples\": [\n          \"V6\",\n          \"Straight 6\"\n        ],\n        \"semantic_type\": \"\",\n        \"description\": \"\"\n      }\n    },\n    {\n      \"column\": \"Cylinder\",\n      \"properties\": {\n        \"dtype\": \"category\",\n        \"num_unique_values\": 7,\n        \"samples\": [\n          \"6\",\n          \"8\"\n        ],\n        \"semantic_type\": \"\",\n        \"description\": \"\"\n      }\n    },\n    {\n      \"column\": \"fuel\",\n      \"properties\": {\n        \"dtype\": \"category\",\n        \"num_unique_values\": 4,\n        \"samples\": [\n          \"Flex\",\n          \"Hybrid\"\n        ],\n        \"semantic_type\": \"\",\n        \"description\": \"\"\n      }\n    }\n  ]\n}",
              "type": "dataframe",
              "variable_name": "df"
            },
            "text/html": [
              "\n",
              "  <div id=\"df-7b4d7123-d3de-47a1-a153-e15f49a738ca\" class=\"colab-df-container\">\n",
              "    <div>\n",
              "<style scoped>\n",
              "    .dataframe tbody tr th:only-of-type {\n",
              "        vertical-align: middle;\n",
              "    }\n",
              "\n",
              "    .dataframe tbody tr th {\n",
              "        vertical-align: top;\n",
              "    }\n",
              "\n",
              "    .dataframe thead th {\n",
              "        text-align: right;\n",
              "    }\n",
              "</style>\n",
              "<table border=\"1\" class=\"dataframe\">\n",
              "  <thead>\n",
              "    <tr style=\"text-align: right;\">\n",
              "      <th></th>\n",
              "      <th>brand</th>\n",
              "      <th>model</th>\n",
              "      <th>model_year</th>\n",
              "      <th>milage</th>\n",
              "      <th>fuel_type</th>\n",
              "      <th>engine</th>\n",
              "      <th>transmission</th>\n",
              "      <th>ext_col</th>\n",
              "      <th>int_col</th>\n",
              "      <th>accident</th>\n",
              "      <th>price</th>\n",
              "      <th>hp</th>\n",
              "      <th>litr</th>\n",
              "      <th>motor</th>\n",
              "      <th>Cylinder</th>\n",
              "      <th>fuel</th>\n",
              "    </tr>\n",
              "  </thead>\n",
              "  <tbody>\n",
              "    <tr>\n",
              "      <th>0</th>\n",
              "      <td>Ford</td>\n",
              "      <td>F-150 Lariat</td>\n",
              "      <td>2018</td>\n",
              "      <td>74349</td>\n",
              "      <td>Gasoline</td>\n",
              "      <td>375.0HP 3.5L V6 Cylinder Engine Gasoline Fuel</td>\n",
              "      <td>10-Speed A/T</td>\n",
              "      <td>Blue</td>\n",
              "      <td>Gray</td>\n",
              "      <td>None reported</td>\n",
              "      <td>11000</td>\n",
              "      <td>375.0</td>\n",
              "      <td>3.5</td>\n",
              "      <td>V6</td>\n",
              "      <td>6</td>\n",
              "      <td>Gasoline</td>\n",
              "    </tr>\n",
              "  </tbody>\n",
              "</table>\n",
              "</div>\n",
              "    <div class=\"colab-df-buttons\">\n",
              "\n",
              "  <div class=\"colab-df-container\">\n",
              "    <button class=\"colab-df-convert\" onclick=\"convertToInteractive('df-7b4d7123-d3de-47a1-a153-e15f49a738ca')\"\n",
              "            title=\"Convert this dataframe to an interactive table.\"\n",
              "            style=\"display:none;\">\n",
              "\n",
              "  <svg xmlns=\"http://www.w3.org/2000/svg\" height=\"24px\" viewBox=\"0 -960 960 960\">\n",
              "    <path d=\"M120-120v-720h720v720H120Zm60-500h600v-160H180v160Zm220 220h160v-160H400v160Zm0 220h160v-160H400v160ZM180-400h160v-160H180v160Zm440 0h160v-160H620v160ZM180-180h160v-160H180v160Zm440 0h160v-160H620v160Z\"/>\n",
              "  </svg>\n",
              "    </button>\n",
              "\n",
              "  <style>\n",
              "    .colab-df-container {\n",
              "      display:flex;\n",
              "      gap: 12px;\n",
              "    }\n",
              "\n",
              "    .colab-df-convert {\n",
              "      background-color: #E8F0FE;\n",
              "      border: none;\n",
              "      border-radius: 50%;\n",
              "      cursor: pointer;\n",
              "      display: none;\n",
              "      fill: #1967D2;\n",
              "      height: 32px;\n",
              "      padding: 0 0 0 0;\n",
              "      width: 32px;\n",
              "    }\n",
              "\n",
              "    .colab-df-convert:hover {\n",
              "      background-color: #E2EBFA;\n",
              "      box-shadow: 0px 1px 2px rgba(60, 64, 67, 0.3), 0px 1px 3px 1px rgba(60, 64, 67, 0.15);\n",
              "      fill: #174EA6;\n",
              "    }\n",
              "\n",
              "    .colab-df-buttons div {\n",
              "      margin-bottom: 4px;\n",
              "    }\n",
              "\n",
              "    [theme=dark] .colab-df-convert {\n",
              "      background-color: #3B4455;\n",
              "      fill: #D2E3FC;\n",
              "    }\n",
              "\n",
              "    [theme=dark] .colab-df-convert:hover {\n",
              "      background-color: #434B5C;\n",
              "      box-shadow: 0px 1px 3px 1px rgba(0, 0, 0, 0.15);\n",
              "      filter: drop-shadow(0px 1px 2px rgba(0, 0, 0, 0.3));\n",
              "      fill: #FFFFFF;\n",
              "    }\n",
              "  </style>\n",
              "\n",
              "    <script>\n",
              "      const buttonEl =\n",
              "        document.querySelector('#df-7b4d7123-d3de-47a1-a153-e15f49a738ca button.colab-df-convert');\n",
              "      buttonEl.style.display =\n",
              "        google.colab.kernel.accessAllowed ? 'block' : 'none';\n",
              "\n",
              "      async function convertToInteractive(key) {\n",
              "        const element = document.querySelector('#df-7b4d7123-d3de-47a1-a153-e15f49a738ca');\n",
              "        const dataTable =\n",
              "          await google.colab.kernel.invokeFunction('convertToInteractive',\n",
              "                                                    [key], {});\n",
              "        if (!dataTable) return;\n",
              "\n",
              "        const docLinkHtml = 'Like what you see? Visit the ' +\n",
              "          '<a target=\"_blank\" href=https://colab.research.google.com/notebooks/data_table.ipynb>data table notebook</a>'\n",
              "          + ' to learn more about interactive tables.';\n",
              "        element.innerHTML = '';\n",
              "        dataTable['output_type'] = 'display_data';\n",
              "        await google.colab.output.renderOutput(dataTable, element);\n",
              "        const docLink = document.createElement('div');\n",
              "        docLink.innerHTML = docLinkHtml;\n",
              "        element.appendChild(docLink);\n",
              "      }\n",
              "    </script>\n",
              "  </div>\n",
              "\n",
              "\n",
              "    </div>\n",
              "  </div>\n"
            ],
            "text/plain": [
              "  brand         model  model_year  milage fuel_type  \\\n",
              "0  Ford  F-150 Lariat        2018   74349  Gasoline   \n",
              "\n",
              "                                          engine  transmission ext_col  \\\n",
              "0  375.0HP 3.5L V6 Cylinder Engine Gasoline Fuel  10-Speed A/T    Blue   \n",
              "\n",
              "  int_col       accident  price     hp litr motor Cylinder      fuel  \n",
              "0    Gray  None reported  11000  375.0  3.5    V6        6  Gasoline  "
            ]
          },
          "execution_count": 11,
          "metadata": {},
          "output_type": "execute_result"
        }
      ],
      "source": [
        "df.head(1)"
      ]
    },
    {
      "cell_type": "code",
      "execution_count": null,
      "metadata": {
        "colab": {
          "background_save": true
        },
        "id": "PYmeIIjsj8bq",
        "outputId": "2258e125-cc04-4344-de5a-4d9f21fed11c"
      },
      "outputs": [
        {
          "data": {
            "text/html": [
              "<div>\n",
              "<style scoped>\n",
              "    .dataframe tbody tr th:only-of-type {\n",
              "        vertical-align: middle;\n",
              "    }\n",
              "\n",
              "    .dataframe tbody tr th {\n",
              "        vertical-align: top;\n",
              "    }\n",
              "\n",
              "    .dataframe thead th {\n",
              "        text-align: right;\n",
              "    }\n",
              "</style>\n",
              "<table border=\"1\" class=\"dataframe\">\n",
              "  <thead>\n",
              "    <tr style=\"text-align: right;\">\n",
              "      <th></th>\n",
              "      <th>0</th>\n",
              "    </tr>\n",
              "  </thead>\n",
              "  <tbody>\n",
              "    <tr>\n",
              "      <th>hp</th>\n",
              "      <td>4057</td>\n",
              "    </tr>\n",
              "    <tr>\n",
              "      <th>litr</th>\n",
              "      <td>606</td>\n",
              "    </tr>\n",
              "    <tr>\n",
              "      <th>motor</th>\n",
              "      <td>29640</td>\n",
              "    </tr>\n",
              "    <tr>\n",
              "      <th>Cylinder</th>\n",
              "      <td>4175</td>\n",
              "    </tr>\n",
              "    <tr>\n",
              "      <th>fuel</th>\n",
              "      <td>4258</td>\n",
              "    </tr>\n",
              "  </tbody>\n",
              "</table>\n",
              "</div><br><label><b>dtype:</b> int64</label>"
            ],
            "text/plain": [
              "hp           4057\n",
              "litr          606\n",
              "motor       29640\n",
              "Cylinder     4175\n",
              "fuel         4258\n",
              "dtype: int64"
            ]
          },
          "execution_count": 12,
          "metadata": {},
          "output_type": "execute_result"
        }
      ],
      "source": [
        "df[new_columns].isna().sum()"
      ]
    },
    {
      "cell_type": "markdown",
      "metadata": {
        "id": "9PHaSqgBjGqt"
      },
      "source": [
        "#### Nan qiymatlarni tuldirib chiqamiz"
      ]
    },
    {
      "cell_type": "code",
      "execution_count": null,
      "metadata": {
        "colab": {
          "background_save": true
        },
        "id": "q75N2_RxvPQB",
        "outputId": "693659fd-e00a-45b6-ecc3-ddd57b2cf1ac"
      },
      "outputs": [
        {
          "name": "stdout",
          "output_type": "stream",
          "text": [
            "Col: hp, Columns: ['motor', 'Cylinder', 'litr'], Nan: 4057, After Clean: 4055\n",
            "Col: hp, Columns: ['motor', 'litr'], Nan: 4055, After Clean: 2809\n",
            "Col: hp, Columns: ['brand', 'model'], Nan: 2809, After Clean: 369\n",
            "Col: hp, Columns: ['litr', 'fuel_type'], Nan: 369, After Clean: 119\n",
            "Col: hp, Columns: ['model'], Nan: 119, After Clean: 111\n",
            "Col: hp, Columns: ['motor'], Nan: 111, After Clean: 107\n",
            "Col: hp, Columns: ['price', 'brand'], Nan: 107, After Clean: 23\n",
            "Col: hp, Columns: ['price', 'fuel_type'], Nan: 23, After Clean: 14\n",
            "Col: hp, Columns: ['engine'], Nan: 14, After Clean: 0\n",
            "0\n"
          ]
        }
      ],
      "source": [
        "df['hp'] = df['hp'].agg(to_numeric)\n",
        "\n",
        "df = fill_nan_mean(df.copy(), 'hp', ['motor', 'Cylinder', 'litr'])\n",
        "df = fill_nan_mean(df.copy(), 'hp', ['motor', 'litr'])\n",
        "df = fill_nan_mean(df.copy(), 'hp', ['brand', 'model'])\n",
        "df = fill_nan_mean(df.copy(), 'hp', ['litr', 'fuel_type'])\n",
        "df = fill_nan_mean(df.copy(), 'hp', ['model'])\n",
        "df = fill_nan_mean(df.copy(), 'hp', ['motor'])\n",
        "df = fill_nan_mean(df.copy(), 'hp', ['price', 'brand'])\n",
        "df = fill_nan_mean(df.copy(), 'hp', ['price', 'fuel_type'])\n",
        "df = fill_nan_mean(df.copy(), 'hp', ['engine'])\n",
        "\n",
        "\n",
        "\n",
        "print(df['hp'].isna().sum())"
      ]
    },
    {
      "cell_type": "code",
      "execution_count": null,
      "metadata": {
        "colab": {
          "background_save": true
        },
        "id": "ov01mu7S16Tb",
        "outputId": "a11a7354-076e-413b-9e4a-3451191bf44b"
      },
      "outputs": [
        {
          "name": "stdout",
          "output_type": "stream",
          "text": [
            "Col: litr, Columns: ['motor', 'Cylinder', 'hp'], Nan: 606, After Clean: 606\n",
            "Col: litr, Columns: ['hp', 'fuel_type'], Nan: 606, After Clean: 396\n",
            "Col: litr, Columns: ['model'], Nan: 396, After Clean: 124\n",
            "Col: litr, Columns: ['engine'], Nan: 124, After Clean: 46\n",
            "Col: litr, Columns: ['price', 'fuel_type'], Nan: 46, After Clean: 3\n",
            "Col: litr, Columns: ['price', 'transmission'], Nan: 3, After Clean: 0\n",
            "0\n"
          ]
        }
      ],
      "source": [
        "df['litr'] = df['litr'].agg(to_numeric)\n",
        "\n",
        "\n",
        "df = fill_nan_mean(df.copy(), 'litr', ['motor', 'Cylinder', 'hp'])\n",
        "# df = fill_nan_mean(df.copy(), 'litr', ['Cylinder', 'hp'])\n",
        "# df = fill_nan_mean(df.copy(), 'litr', ['motor', 'hp'])\n",
        "df = fill_nan_mean(df.copy(), 'litr', ['hp', 'fuel_type'])\n",
        "df = fill_nan_mean(df.copy(), 'litr', ['model'])\n",
        "df = fill_nan_mean(df.copy(), 'litr', ['engine'])\n",
        "df = fill_nan_mean(df.copy(), 'litr', ['price', 'fuel_type'])\n",
        "df = fill_nan_mean(df.copy(), 'litr', ['price', 'transmission'])\n",
        "\n",
        "\n",
        "print(df['litr'].isna().sum())"
      ]
    },
    {
      "cell_type": "code",
      "execution_count": null,
      "metadata": {
        "id": "OTor3ZGhZzjY"
      },
      "outputs": [],
      "source": [
        "df['Cylinder'] = df['Cylinder'].agg(to_numeric)\n",
        "\n",
        "df = fill_nan_mean(df.copy(), 'Cylinder', ['litr', 'hp'])\n",
        "df = fill_nan_mean(df.copy(), 'Cylinder', ['litr', 'model'])\n",
        "df = fill_nan_mean(df.copy(), 'Cylinder', ['hp', 'model'])\n",
        "df = fill_nan_mean(df.copy(), 'Cylinder', ['model'])\n",
        "df = fill_nan_mean(df.copy(), 'Cylinder', ['hp', 'fuel_type'])\n",
        "df = fill_nan_mean(df.copy(), 'Cylinder', ['price', 'fuel_type'])\n",
        "df = fill_nan_mean(df.copy(), 'Cylinder', ['price', 'transmission'])\n",
        "df = fill_nan_mean(df.copy(), 'Cylinder', ['litr', 'fuel_type'])\n",
        "df = fill_nan_mean(df.copy(), 'Cylinder', ['engine'])\n",
        "\n",
        "\n",
        "print(df['Cylinder'].isna().sum())"
      ]
    },
    {
      "cell_type": "code",
      "execution_count": null,
      "metadata": {
        "id": "044j9S1WtZ6h"
      },
      "outputs": [],
      "source": [
        "df.columns"
      ]
    },
    {
      "cell_type": "code",
      "execution_count": null,
      "metadata": {
        "id": "doX-eUI3tpRd"
      },
      "outputs": [],
      "source": [
        "df.head(1)"
      ]
    },
    {
      "cell_type": "code",
      "execution_count": null,
      "metadata": {
        "colab": {
          "background_save": true
        },
        "id": "dFPVNG3ql0z9",
        "outputId": "aee13c5c-45bc-44bc-9679-1587b7ada4f4"
      },
      "outputs": [
        {
          "name": "stdout",
          "output_type": "stream",
          "text": [
            "Col: motor, Columns: ['litr', 'hp', 'Cylinder', 'model'], Nan: 29640, After Clean: 28986\n",
            "Col: motor, Columns: ['litr', 'hp', 'Cylinder'], Nan: 28986, After Clean: 21847\n",
            "Col: motor, Columns: ['litr', 'hp'], Nan: 21847, After Clean: 21438\n",
            "Col: motor, Columns: ['model'], Nan: 21438, After Clean: 6649\n",
            "Col: motor, Columns: ['engine'], Nan: 6649, After Clean: 1320\n",
            "Col: motor, Columns: ['fuel_type', 'hp'], Nan: 1320, After Clean: 522\n",
            "Col: motor, Columns: ['litr', 'Cylinder'], Nan: 522, After Clean: 76\n",
            "Col: motor, Columns: ['Cylinder', 'price'], Nan: 76, After Clean: 66\n",
            "Col: motor, Columns: ['Cylinder', 'brand'], Nan: 66, After Clean: 52\n",
            "Col: motor, Columns: ['litr', 'brand'], Nan: 52, After Clean: 40\n",
            "Col: motor, Columns: ['hp', 'brand'], Nan: 40, After Clean: 12\n",
            "Col: motor, Columns: ['hp', 'fuel'], Nan: 12, After Clean: 11\n",
            "Col: motor, Columns: ['brand', 'price'], Nan: 11, After Clean: 4\n",
            "Col: motor, Columns: ['brand', 'price'], Nan: 4, After Clean: 4\n",
            "Col: motor, Columns: ['brand', 'fuel_type'], Nan: 4, After Clean: 0\n",
            "0\n"
          ]
        }
      ],
      "source": [
        "df = fill_nan_mode(df.copy(), 'motor', ['litr', 'hp', 'Cylinder', 'model'])\n",
        "df = fill_nan_mode(df.copy(), 'motor', ['litr', 'hp', 'Cylinder'])\n",
        "df = fill_nan_mode(df.copy(), 'motor', ['litr', 'hp'])\n",
        "df = fill_nan_mode(df.copy(), 'motor', ['model'])\n",
        "df = fill_nan_mode(df.copy(), 'motor', ['engine'])\n",
        "df = fill_nan_mode(df.copy(), 'motor', ['fuel_type', 'hp'])\n",
        "df = fill_nan_mode(df.copy(), 'motor', ['litr', 'Cylinder'])\n",
        "df = fill_nan_mode(df.copy(), 'motor', ['Cylinder', 'price'])\n",
        "df = fill_nan_mode(df.copy(), 'motor', ['Cylinder', 'brand'])\n",
        "df = fill_nan_mode(df.copy(), 'motor', ['litr', 'brand'])\n",
        "df = fill_nan_mode(df.copy(), 'motor', ['hp', 'brand'])\n",
        "df = fill_nan_mode(df.copy(), 'motor', ['hp', 'fuel'])\n",
        "df = fill_nan_mode(df.copy(), 'motor', ['brand', 'price'])\n",
        "df = fill_nan_mode(df.copy(), 'motor', ['brand', 'price'])\n",
        "df = fill_nan_mode(df.copy(), 'motor', ['brand', 'fuel_type'])\n",
        "\n",
        "\n",
        "print(df['motor'].isna().sum())"
      ]
    },
    {
      "cell_type": "code",
      "execution_count": null,
      "metadata": {
        "colab": {
          "background_save": true
        },
        "id": "vtQWPzkf61VO",
        "outputId": "2dfaaf23-109e-489e-b0d8-868910582132"
      },
      "outputs": [
        {
          "name": "stdout",
          "output_type": "stream",
          "text": [
            "Col: fuel, Columns: ['litr', 'hp', 'Cylinder', 'model'], Nan: 4258, After Clean: 3855\n",
            "Col: fuel, Columns: ['litr', 'hp', 'model'], Nan: 3855, After Clean: 3756\n",
            "Col: fuel, Columns: ['hp', 'model'], Nan: 3756, After Clean: 3515\n",
            "Col: fuel, Columns: ['model'], Nan: 3515, After Clean: 787\n",
            "Col: fuel, Columns: ['motor', 'hp'], Nan: 787, After Clean: 304\n",
            "Col: fuel, Columns: ['motor', 'hp'], Nan: 304, After Clean: 304\n",
            "Col: fuel, Columns: ['motor', 'Cylinder'], Nan: 304, After Clean: 182\n",
            "Col: fuel, Columns: ['motor', 'litr'], Nan: 182, After Clean: 58\n",
            "Col: fuel, Columns: ['motor'], Nan: 58, After Clean: 0\n",
            "0\n"
          ]
        }
      ],
      "source": [
        "df = fill_nan_mode(df.copy(), 'fuel', ['litr', 'hp', 'Cylinder', 'model'])\n",
        "df = fill_nan_mode(df.copy(), 'fuel', ['litr', 'hp', 'model'])\n",
        "df = fill_nan_mode(df.copy(), 'fuel', ['hp', 'model'])\n",
        "df = fill_nan_mode(df.copy(), 'fuel', ['model'])\n",
        "df = fill_nan_mode(df.copy(), 'fuel', ['motor', 'hp'])\n",
        "df = fill_nan_mode(df.copy(), 'fuel', ['motor', 'hp'])\n",
        "df = fill_nan_mode(df.copy(), 'fuel', ['motor', 'Cylinder'])\n",
        "df = fill_nan_mode(df.copy(), 'fuel', ['motor', 'litr'])\n",
        "df = fill_nan_mode(df.copy(), 'fuel', ['motor'])\n",
        "\n",
        "print(df['fuel'].isna().sum())"
      ]
    },
    {
      "cell_type": "code",
      "execution_count": null,
      "metadata": {
        "colab": {
          "background_save": true
        },
        "id": "U0ravVNZ7RRI",
        "outputId": "568af1fa-e424-4175-dcfc-576ca24533cb"
      },
      "outputs": [
        {
          "data": {
            "application/vnd.google.colaboratory.intrinsic+json": {
              "summary": "{\n  \"name\": \"df\",\n  \"rows\": 54273,\n  \"fields\": [\n    {\n      \"column\": \"brand\",\n      \"properties\": {\n        \"dtype\": \"category\",\n        \"num_unique_values\": 53,\n        \"samples\": [\n          \"Mazda\",\n          \"Rolls-Royce\",\n          \"Lucid\"\n        ],\n        \"semantic_type\": \"\",\n        \"description\": \"\"\n      }\n    },\n    {\n      \"column\": \"model\",\n      \"properties\": {\n        \"dtype\": \"category\",\n        \"num_unique_values\": 1827,\n        \"samples\": [\n          \"Rover Range Rover P525 Westminster\",\n          \"GL-Class GL 550\",\n          \"Sprinter Normal Roof\"\n        ],\n        \"semantic_type\": \"\",\n        \"description\": \"\"\n      }\n    },\n    {\n      \"column\": \"model_year\",\n      \"properties\": {\n        \"dtype\": \"number\",\n        \"std\": 5,\n        \"min\": 1974,\n        \"max\": 2024,\n        \"num_unique_values\": 34,\n        \"samples\": [\n          2006,\n          1999,\n          2000\n        ],\n        \"semantic_type\": \"\",\n        \"description\": \"\"\n      }\n    },\n    {\n      \"column\": \"milage\",\n      \"properties\": {\n        \"dtype\": \"number\",\n        \"std\": 50469,\n        \"min\": 100,\n        \"max\": 405000,\n        \"num_unique_values\": 3212,\n        \"samples\": [\n          102604,\n          23131,\n          32576\n        ],\n        \"semantic_type\": \"\",\n        \"description\": \"\"\n      }\n    },\n    {\n      \"column\": \"fuel_type\",\n      \"properties\": {\n        \"dtype\": \"category\",\n        \"num_unique_values\": 7,\n        \"samples\": [\n          \"Gasoline\",\n          \"Hybrid\",\n          \"Plug-In Hybrid\"\n        ],\n        \"semantic_type\": \"\",\n        \"description\": \"\"\n      }\n    },\n    {\n      \"column\": \"engine\",\n      \"properties\": {\n        \"dtype\": \"category\",\n        \"num_unique_values\": 1061,\n        \"samples\": [\n          \"382.0HP 3.0L Straight 6 Cylinder Engine Gasoline/Mild Electric Hybrid\",\n          \"451.0HP 6.3L 8 Cylinder Engine Gasoline Fuel\",\n          \"165.0HP 2.5L 4 Cylinder Engine Gasoline Fuel\"\n        ],\n        \"semantic_type\": \"\",\n        \"description\": \"\"\n      }\n    },\n    {\n      \"column\": \"transmission\",\n      \"properties\": {\n        \"dtype\": \"category\",\n        \"num_unique_values\": 46,\n        \"samples\": [\n          \"9-Speed Automatic with Auto-Shift\",\n          \"7-Speed Automatic\",\n          \"7-Speed Automatic with Auto-Shift\"\n        ],\n        \"semantic_type\": \"\",\n        \"description\": \"\"\n      }\n    },\n    {\n      \"column\": \"ext_col\",\n      \"properties\": {\n        \"dtype\": \"category\",\n        \"num_unique_values\": 260,\n        \"samples\": [\n          \"Glacial White Pearl\",\n          \"Gun Metallic\",\n          \"Balloon White\"\n        ],\n        \"semantic_type\": \"\",\n        \"description\": \"\"\n      }\n    },\n    {\n      \"column\": \"int_col\",\n      \"properties\": {\n        \"dtype\": \"category\",\n        \"num_unique_values\": 124,\n        \"samples\": [\n          \"Orange\",\n          \"Black / Express Red\",\n          \"Canberra Beige\"\n        ],\n        \"semantic_type\": \"\",\n        \"description\": \"\"\n      }\n    },\n    {\n      \"column\": \"accident\",\n      \"properties\": {\n        \"dtype\": \"category\",\n        \"num_unique_values\": 2,\n        \"samples\": [\n          \"At least 1 accident or damage reported\",\n          \"None reported\"\n        ],\n        \"semantic_type\": \"\",\n        \"description\": \"\"\n      }\n    },\n    {\n      \"column\": \"price\",\n      \"properties\": {\n        \"dtype\": \"number\",\n        \"std\": 72826,\n        \"min\": 2000,\n        \"max\": 2954083,\n        \"num_unique_values\": 1481,\n        \"samples\": [\n          315000,\n          9200\n        ],\n        \"semantic_type\": \"\",\n        \"description\": \"\"\n      }\n    },\n    {\n      \"column\": \"hp\",\n      \"properties\": {\n        \"dtype\": \"number\",\n        \"std\": 107.43505397721354,\n        \"min\": 76.0,\n        \"max\": 1020.0,\n        \"num_unique_values\": 788,\n        \"samples\": [\n          325.64356435643566,\n          365.0\n        ],\n        \"semantic_type\": \"\",\n        \"description\": \"\"\n      }\n    },\n    {\n      \"column\": \"litr\",\n      \"properties\": {\n        \"dtype\": \"number\",\n        \"std\": 1.3359459601022443,\n        \"min\": 0.65,\n        \"max\": 8.4,\n        \"num_unique_values\": 198,\n        \"samples\": [\n          3.211111111111111,\n          3.8630434782608694\n        ],\n        \"semantic_type\": \"\",\n        \"description\": \"\"\n      }\n    },\n    {\n      \"column\": \"motor\",\n      \"properties\": {\n        \"dtype\": \"category\",\n        \"num_unique_values\": 7,\n        \"samples\": [\n          \"V6\",\n          \"Straight 6\"\n        ],\n        \"semantic_type\": \"\",\n        \"description\": \"\"\n      }\n    },\n    {\n      \"column\": \"Cylinder\",\n      \"properties\": {\n        \"dtype\": \"number\",\n        \"std\": 1.5552900368801208,\n        \"min\": 3.0,\n        \"max\": 12.0,\n        \"num_unique_values\": 225,\n        \"samples\": [\n          10.0,\n          6.153846153846154\n        ],\n        \"semantic_type\": \"\",\n        \"description\": \"\"\n      }\n    },\n    {\n      \"column\": \"fuel\",\n      \"properties\": {\n        \"dtype\": \"category\",\n        \"num_unique_values\": 4,\n        \"samples\": [\n          \"Flex\",\n          \"Hybrid\"\n        ],\n        \"semantic_type\": \"\",\n        \"description\": \"\"\n      }\n    }\n  ]\n}",
              "type": "dataframe",
              "variable_name": "df"
            },
            "text/html": [
              "\n",
              "  <div id=\"df-94d08f51-7edb-434c-a536-a8eafdddb9ac\" class=\"colab-df-container\">\n",
              "    <div>\n",
              "<style scoped>\n",
              "    .dataframe tbody tr th:only-of-type {\n",
              "        vertical-align: middle;\n",
              "    }\n",
              "\n",
              "    .dataframe tbody tr th {\n",
              "        vertical-align: top;\n",
              "    }\n",
              "\n",
              "    .dataframe thead th {\n",
              "        text-align: right;\n",
              "    }\n",
              "</style>\n",
              "<table border=\"1\" class=\"dataframe\">\n",
              "  <thead>\n",
              "    <tr style=\"text-align: right;\">\n",
              "      <th></th>\n",
              "      <th>brand</th>\n",
              "      <th>model</th>\n",
              "      <th>model_year</th>\n",
              "      <th>milage</th>\n",
              "      <th>fuel_type</th>\n",
              "      <th>engine</th>\n",
              "      <th>transmission</th>\n",
              "      <th>ext_col</th>\n",
              "      <th>int_col</th>\n",
              "      <th>accident</th>\n",
              "      <th>price</th>\n",
              "      <th>hp</th>\n",
              "      <th>litr</th>\n",
              "      <th>motor</th>\n",
              "      <th>Cylinder</th>\n",
              "      <th>fuel</th>\n",
              "    </tr>\n",
              "  </thead>\n",
              "  <tbody>\n",
              "    <tr>\n",
              "      <th>0</th>\n",
              "      <td>Ford</td>\n",
              "      <td>F-150 Lariat</td>\n",
              "      <td>2018</td>\n",
              "      <td>74349</td>\n",
              "      <td>Gasoline</td>\n",
              "      <td>375.0HP 3.5L V6 Cylinder Engine Gasoline Fuel</td>\n",
              "      <td>10-Speed A/T</td>\n",
              "      <td>Blue</td>\n",
              "      <td>Gray</td>\n",
              "      <td>None reported</td>\n",
              "      <td>11000</td>\n",
              "      <td>375.0</td>\n",
              "      <td>3.5</td>\n",
              "      <td>V6</td>\n",
              "      <td>6.0</td>\n",
              "      <td>Gasoline</td>\n",
              "    </tr>\n",
              "  </tbody>\n",
              "</table>\n",
              "</div>\n",
              "    <div class=\"colab-df-buttons\">\n",
              "\n",
              "  <div class=\"colab-df-container\">\n",
              "    <button class=\"colab-df-convert\" onclick=\"convertToInteractive('df-94d08f51-7edb-434c-a536-a8eafdddb9ac')\"\n",
              "            title=\"Convert this dataframe to an interactive table.\"\n",
              "            style=\"display:none;\">\n",
              "\n",
              "  <svg xmlns=\"http://www.w3.org/2000/svg\" height=\"24px\" viewBox=\"0 -960 960 960\">\n",
              "    <path d=\"M120-120v-720h720v720H120Zm60-500h600v-160H180v160Zm220 220h160v-160H400v160Zm0 220h160v-160H400v160ZM180-400h160v-160H180v160Zm440 0h160v-160H620v160ZM180-180h160v-160H180v160Zm440 0h160v-160H620v160Z\"/>\n",
              "  </svg>\n",
              "    </button>\n",
              "\n",
              "  <style>\n",
              "    .colab-df-container {\n",
              "      display:flex;\n",
              "      gap: 12px;\n",
              "    }\n",
              "\n",
              "    .colab-df-convert {\n",
              "      background-color: #E8F0FE;\n",
              "      border: none;\n",
              "      border-radius: 50%;\n",
              "      cursor: pointer;\n",
              "      display: none;\n",
              "      fill: #1967D2;\n",
              "      height: 32px;\n",
              "      padding: 0 0 0 0;\n",
              "      width: 32px;\n",
              "    }\n",
              "\n",
              "    .colab-df-convert:hover {\n",
              "      background-color: #E2EBFA;\n",
              "      box-shadow: 0px 1px 2px rgba(60, 64, 67, 0.3), 0px 1px 3px 1px rgba(60, 64, 67, 0.15);\n",
              "      fill: #174EA6;\n",
              "    }\n",
              "\n",
              "    .colab-df-buttons div {\n",
              "      margin-bottom: 4px;\n",
              "    }\n",
              "\n",
              "    [theme=dark] .colab-df-convert {\n",
              "      background-color: #3B4455;\n",
              "      fill: #D2E3FC;\n",
              "    }\n",
              "\n",
              "    [theme=dark] .colab-df-convert:hover {\n",
              "      background-color: #434B5C;\n",
              "      box-shadow: 0px 1px 3px 1px rgba(0, 0, 0, 0.15);\n",
              "      filter: drop-shadow(0px 1px 2px rgba(0, 0, 0, 0.3));\n",
              "      fill: #FFFFFF;\n",
              "    }\n",
              "  </style>\n",
              "\n",
              "    <script>\n",
              "      const buttonEl =\n",
              "        document.querySelector('#df-94d08f51-7edb-434c-a536-a8eafdddb9ac button.colab-df-convert');\n",
              "      buttonEl.style.display =\n",
              "        google.colab.kernel.accessAllowed ? 'block' : 'none';\n",
              "\n",
              "      async function convertToInteractive(key) {\n",
              "        const element = document.querySelector('#df-94d08f51-7edb-434c-a536-a8eafdddb9ac');\n",
              "        const dataTable =\n",
              "          await google.colab.kernel.invokeFunction('convertToInteractive',\n",
              "                                                    [key], {});\n",
              "        if (!dataTable) return;\n",
              "\n",
              "        const docLinkHtml = 'Like what you see? Visit the ' +\n",
              "          '<a target=\"_blank\" href=https://colab.research.google.com/notebooks/data_table.ipynb>data table notebook</a>'\n",
              "          + ' to learn more about interactive tables.';\n",
              "        element.innerHTML = '';\n",
              "        dataTable['output_type'] = 'display_data';\n",
              "        await google.colab.output.renderOutput(dataTable, element);\n",
              "        const docLink = document.createElement('div');\n",
              "        docLink.innerHTML = docLinkHtml;\n",
              "        element.appendChild(docLink);\n",
              "      }\n",
              "    </script>\n",
              "  </div>\n",
              "\n",
              "\n",
              "    </div>\n",
              "  </div>\n"
            ],
            "text/plain": [
              "  brand         model  model_year  milage fuel_type  \\\n",
              "0  Ford  F-150 Lariat        2018   74349  Gasoline   \n",
              "\n",
              "                                          engine  transmission ext_col  \\\n",
              "0  375.0HP 3.5L V6 Cylinder Engine Gasoline Fuel  10-Speed A/T    Blue   \n",
              "\n",
              "  int_col       accident  price     hp  litr motor  Cylinder      fuel  \n",
              "0    Gray  None reported  11000  375.0   3.5    V6       6.0  Gasoline  "
            ]
          },
          "execution_count": 20,
          "metadata": {},
          "output_type": "execute_result"
        }
      ],
      "source": [
        "df.head(1)"
      ]
    },
    {
      "cell_type": "code",
      "execution_count": null,
      "metadata": {
        "colab": {
          "background_save": true
        },
        "id": "MopkB3sH1DvI",
        "outputId": "1e269cba-2aef-47e0-d8bb-821b06a7cbb4"
      },
      "outputs": [
        {
          "data": {
            "text/html": [
              "<div>\n",
              "<style scoped>\n",
              "    .dataframe tbody tr th:only-of-type {\n",
              "        vertical-align: middle;\n",
              "    }\n",
              "\n",
              "    .dataframe tbody tr th {\n",
              "        vertical-align: top;\n",
              "    }\n",
              "\n",
              "    .dataframe thead th {\n",
              "        text-align: right;\n",
              "    }\n",
              "</style>\n",
              "<table border=\"1\" class=\"dataframe\">\n",
              "  <thead>\n",
              "    <tr style=\"text-align: right;\">\n",
              "      <th></th>\n",
              "      <th>0</th>\n",
              "    </tr>\n",
              "  </thead>\n",
              "  <tbody>\n",
              "    <tr>\n",
              "      <th>hp</th>\n",
              "      <td>0</td>\n",
              "    </tr>\n",
              "    <tr>\n",
              "      <th>litr</th>\n",
              "      <td>0</td>\n",
              "    </tr>\n",
              "    <tr>\n",
              "      <th>motor</th>\n",
              "      <td>0</td>\n",
              "    </tr>\n",
              "    <tr>\n",
              "      <th>Cylinder</th>\n",
              "      <td>0</td>\n",
              "    </tr>\n",
              "    <tr>\n",
              "      <th>fuel</th>\n",
              "      <td>0</td>\n",
              "    </tr>\n",
              "  </tbody>\n",
              "</table>\n",
              "</div><br><label><b>dtype:</b> int64</label>"
            ],
            "text/plain": [
              "hp          0\n",
              "litr        0\n",
              "motor       0\n",
              "Cylinder    0\n",
              "fuel        0\n",
              "dtype: int64"
            ]
          },
          "execution_count": 21,
          "metadata": {},
          "output_type": "execute_result"
        }
      ],
      "source": [
        "df[new_columns].isna().sum()"
      ]
    },
    {
      "cell_type": "code",
      "execution_count": null,
      "metadata": {
        "colab": {
          "background_save": true
        },
        "id": "poC2puoxtyFQ",
        "outputId": "ac5e4d81-b371-4602-9d17-9ded681605a7"
      },
      "outputs": [
        {
          "data": {
            "text/plain": [
              "Index(['brand', 'model', 'fuel_type', 'engine', 'transmission', 'ext_col',\n",
              "       'int_col', 'accident', 'motor', 'fuel'],\n",
              "      dtype='object')"
            ]
          },
          "execution_count": 22,
          "metadata": {},
          "output_type": "execute_result"
        }
      ],
      "source": [
        "df.select_dtypes(include='object').columns"
      ]
    },
    {
      "cell_type": "code",
      "execution_count": null,
      "metadata": {
        "colab": {
          "background_save": true
        },
        "id": "D_1o-Age1NpN"
      },
      "outputs": [],
      "source": [
        "for col in df.select_dtypes(include='object').columns:\n",
        "    df = ordinal_encoder(df.copy(), col, 'price')"
      ]
    },
    {
      "cell_type": "code",
      "execution_count": null,
      "metadata": {
        "colab": {
          "background_save": true
        },
        "id": "SH0UgTZD1e-H",
        "outputId": "16110d75-1846-49ed-bc42-b197bd068b83"
      },
      "outputs": [
        {
          "data": {
            "application/vnd.google.colaboratory.intrinsic+json": {
              "type": "dataframe",
              "variable_name": "df"
            },
            "text/html": [
              "\n",
              "  <div id=\"df-626bb1c3-3af2-4436-a686-b4a62a3b5c0f\" class=\"colab-df-container\">\n",
              "    <div>\n",
              "<style scoped>\n",
              "    .dataframe tbody tr th:only-of-type {\n",
              "        vertical-align: middle;\n",
              "    }\n",
              "\n",
              "    .dataframe tbody tr th {\n",
              "        vertical-align: top;\n",
              "    }\n",
              "\n",
              "    .dataframe thead th {\n",
              "        text-align: right;\n",
              "    }\n",
              "</style>\n",
              "<table border=\"1\" class=\"dataframe\">\n",
              "  <thead>\n",
              "    <tr style=\"text-align: right;\">\n",
              "      <th></th>\n",
              "      <th>brand</th>\n",
              "      <th>model</th>\n",
              "      <th>model_year</th>\n",
              "      <th>milage</th>\n",
              "      <th>fuel_type</th>\n",
              "      <th>engine</th>\n",
              "      <th>transmission</th>\n",
              "      <th>ext_col</th>\n",
              "      <th>int_col</th>\n",
              "      <th>accident</th>\n",
              "      <th>...</th>\n",
              "      <th>brand_rank</th>\n",
              "      <th>model_rank</th>\n",
              "      <th>fuel_type_rank</th>\n",
              "      <th>engine_rank</th>\n",
              "      <th>transmission_rank</th>\n",
              "      <th>ext_col_rank</th>\n",
              "      <th>int_col_rank</th>\n",
              "      <th>accident_rank</th>\n",
              "      <th>motor_rank</th>\n",
              "      <th>fuel_rank</th>\n",
              "    </tr>\n",
              "  </thead>\n",
              "  <tbody>\n",
              "    <tr>\n",
              "      <th>0</th>\n",
              "      <td>Ford</td>\n",
              "      <td>F-150 Lariat</td>\n",
              "      <td>2018</td>\n",
              "      <td>74349</td>\n",
              "      <td>Gasoline</td>\n",
              "      <td>375.0HP 3.5L V6 Cylinder Engine Gasoline Fuel</td>\n",
              "      <td>10-Speed A/T</td>\n",
              "      <td>Blue</td>\n",
              "      <td>Gray</td>\n",
              "      <td>None reported</td>\n",
              "      <td>...</td>\n",
              "      <td>31</td>\n",
              "      <td>1256</td>\n",
              "      <td>4</td>\n",
              "      <td>821</td>\n",
              "      <td>28</td>\n",
              "      <td>91</td>\n",
              "      <td>14</td>\n",
              "      <td>2</td>\n",
              "      <td>1</td>\n",
              "      <td>3</td>\n",
              "    </tr>\n",
              "  </tbody>\n",
              "</table>\n",
              "<p>1 rows × 26 columns</p>\n",
              "</div>\n",
              "    <div class=\"colab-df-buttons\">\n",
              "\n",
              "  <div class=\"colab-df-container\">\n",
              "    <button class=\"colab-df-convert\" onclick=\"convertToInteractive('df-626bb1c3-3af2-4436-a686-b4a62a3b5c0f')\"\n",
              "            title=\"Convert this dataframe to an interactive table.\"\n",
              "            style=\"display:none;\">\n",
              "\n",
              "  <svg xmlns=\"http://www.w3.org/2000/svg\" height=\"24px\" viewBox=\"0 -960 960 960\">\n",
              "    <path d=\"M120-120v-720h720v720H120Zm60-500h600v-160H180v160Zm220 220h160v-160H400v160Zm0 220h160v-160H400v160ZM180-400h160v-160H180v160Zm440 0h160v-160H620v160ZM180-180h160v-160H180v160Zm440 0h160v-160H620v160Z\"/>\n",
              "  </svg>\n",
              "    </button>\n",
              "\n",
              "  <style>\n",
              "    .colab-df-container {\n",
              "      display:flex;\n",
              "      gap: 12px;\n",
              "    }\n",
              "\n",
              "    .colab-df-convert {\n",
              "      background-color: #E8F0FE;\n",
              "      border: none;\n",
              "      border-radius: 50%;\n",
              "      cursor: pointer;\n",
              "      display: none;\n",
              "      fill: #1967D2;\n",
              "      height: 32px;\n",
              "      padding: 0 0 0 0;\n",
              "      width: 32px;\n",
              "    }\n",
              "\n",
              "    .colab-df-convert:hover {\n",
              "      background-color: #E2EBFA;\n",
              "      box-shadow: 0px 1px 2px rgba(60, 64, 67, 0.3), 0px 1px 3px 1px rgba(60, 64, 67, 0.15);\n",
              "      fill: #174EA6;\n",
              "    }\n",
              "\n",
              "    .colab-df-buttons div {\n",
              "      margin-bottom: 4px;\n",
              "    }\n",
              "\n",
              "    [theme=dark] .colab-df-convert {\n",
              "      background-color: #3B4455;\n",
              "      fill: #D2E3FC;\n",
              "    }\n",
              "\n",
              "    [theme=dark] .colab-df-convert:hover {\n",
              "      background-color: #434B5C;\n",
              "      box-shadow: 0px 1px 3px 1px rgba(0, 0, 0, 0.15);\n",
              "      filter: drop-shadow(0px 1px 2px rgba(0, 0, 0, 0.3));\n",
              "      fill: #FFFFFF;\n",
              "    }\n",
              "  </style>\n",
              "\n",
              "    <script>\n",
              "      const buttonEl =\n",
              "        document.querySelector('#df-626bb1c3-3af2-4436-a686-b4a62a3b5c0f button.colab-df-convert');\n",
              "      buttonEl.style.display =\n",
              "        google.colab.kernel.accessAllowed ? 'block' : 'none';\n",
              "\n",
              "      async function convertToInteractive(key) {\n",
              "        const element = document.querySelector('#df-626bb1c3-3af2-4436-a686-b4a62a3b5c0f');\n",
              "        const dataTable =\n",
              "          await google.colab.kernel.invokeFunction('convertToInteractive',\n",
              "                                                    [key], {});\n",
              "        if (!dataTable) return;\n",
              "\n",
              "        const docLinkHtml = 'Like what you see? Visit the ' +\n",
              "          '<a target=\"_blank\" href=https://colab.research.google.com/notebooks/data_table.ipynb>data table notebook</a>'\n",
              "          + ' to learn more about interactive tables.';\n",
              "        element.innerHTML = '';\n",
              "        dataTable['output_type'] = 'display_data';\n",
              "        await google.colab.output.renderOutput(dataTable, element);\n",
              "        const docLink = document.createElement('div');\n",
              "        docLink.innerHTML = docLinkHtml;\n",
              "        element.appendChild(docLink);\n",
              "      }\n",
              "    </script>\n",
              "  </div>\n",
              "\n",
              "\n",
              "    </div>\n",
              "  </div>\n"
            ],
            "text/plain": [
              "  brand         model  model_year  milage fuel_type  \\\n",
              "0  Ford  F-150 Lariat        2018   74349  Gasoline   \n",
              "\n",
              "                                          engine  transmission ext_col  \\\n",
              "0  375.0HP 3.5L V6 Cylinder Engine Gasoline Fuel  10-Speed A/T    Blue   \n",
              "\n",
              "  int_col       accident  ...  brand_rank  model_rank  fuel_type_rank  \\\n",
              "0    Gray  None reported  ...          31        1256               4   \n",
              "\n",
              "  engine_rank  transmission_rank ext_col_rank  int_col_rank  accident_rank  \\\n",
              "0         821                 28           91            14              2   \n",
              "\n",
              "   motor_rank  fuel_rank  \n",
              "0           1          3  \n",
              "\n",
              "[1 rows x 26 columns]"
            ]
          },
          "execution_count": 24,
          "metadata": {},
          "output_type": "execute_result"
        }
      ],
      "source": [
        "df.dropna()\n",
        "df.head(1)"
      ]
    },
    {
      "cell_type": "markdown",
      "metadata": {
        "id": "FUnFt_QVjMch"
      },
      "source": [
        "### Birinchi model"
      ]
    },
    {
      "cell_type": "code",
      "execution_count": null,
      "metadata": {
        "colab": {
          "background_save": true
        },
        "id": "-4TcAR3j2RiZ",
        "outputId": "28636a94-5558-4262-a057-2e1ff028e4f8"
      },
      "outputs": [
        {
          "name": "stdout",
          "output_type": "stream",
          "text": [
            "CV RMSE: 68040.11296286967\n",
            "RMSE: 69944.68088403609\n",
            "MAE: 19389.996709298433\n",
            "R2: 0.1094867351823049\n"
          ]
        }
      ],
      "source": [
        "columns = ['model_year',\n",
        "           'milage',\n",
        "           'hp',\n",
        "           'litr',\n",
        "           'Cylinder',\n",
        "           'brand_rank',\n",
        "           'model_rank',\n",
        "           'fuel_type_rank',\n",
        "           'engine_rank',\n",
        "           'transmission_rank',\n",
        "           'ext_col_rank',\n",
        "           'int_col_rank',\n",
        "           'accident_rank',\n",
        "           'motor_rank',\n",
        "           'fuel_rank'\n",
        "           ]\n",
        "\n",
        "X = df[columns]\n",
        "y = df['price']\n",
        "\n",
        "X_train, X_test, y_train, y_test = train_test_split(X, y, test_size=0.37, random_state=125)\n",
        "\n",
        "model = LinearRegression()\n",
        "\n",
        "cv = KFold(n_splits=5, shuffle=True, random_state=42)\n",
        "cv_rmse = np.sqrt(np.mean((-cross_val_score(model, X_train, y_train, cv=cv, scoring='neg_mean_squared_error'))))\n",
        "\n",
        "model.fit(X_train, y_train)\n",
        "\n",
        "y_pred = model.predict(X_test)\n",
        "\n",
        "rmse = mean_squared_error(y_test, y_pred, squared=False)\n",
        "mae = mean_absolute_error(y_test, y_pred)\n",
        "r2 = r2_score(y_test, y_pred)\n",
        "\n",
        "print(f'CV RMSE: {cv_rmse}')\n",
        "print(f'RMSE: {rmse}')\n",
        "print(f'MAE: {mae}')\n",
        "print(f'R2: {r2}')"
      ]
    },
    {
      "cell_type": "markdown",
      "metadata": {
        "id": "j4OUyInpjQb1"
      },
      "source": [
        "### PolynomialFeatures"
      ]
    },
    {
      "cell_type": "code",
      "execution_count": null,
      "metadata": {
        "colab": {
          "background_save": true
        },
        "id": "ZQ59wQje4fjc",
        "outputId": "2fc890ac-0570-4a51-b3cf-98b0a8f627ba"
      },
      "outputs": [
        {
          "name": "stdout",
          "output_type": "stream",
          "text": [
            "CV RMSE: 67275.41922755181\n",
            "RMSE: 68974.20169206391\n",
            "MAE: 18491.276450056685\n",
            "R2: 0.1340269588226396\n"
          ]
        }
      ],
      "source": [
        "poly = PolynomialFeatures(degree=2, include_bias=False)\n",
        "X_poly = poly.fit_transform(X)\n",
        "\n",
        "\n",
        "X_train, X_test, y_train, y_test = train_test_split(X_poly, y, test_size=0.37, random_state=125)\n",
        "\n",
        "model = LinearRegression()\n",
        "\n",
        "cv = KFold(n_splits=5, shuffle=True, random_state=42)\n",
        "cv_rmse = np.sqrt(np.mean((-cross_val_score(model, X_train, y_train, cv=cv, scoring='neg_mean_squared_error'))))\n",
        "\n",
        "model.fit(X_train, y_train)\n",
        "\n",
        "y_pred = model.predict(X_test)\n",
        "\n",
        "rmse = mean_squared_error(y_test, y_pred, squared=False)\n",
        "mae = mean_absolute_error(y_test, y_pred)\n",
        "r2 = r2_score(y_test, y_pred)\n",
        "\n",
        "print(f'CV RMSE: {cv_rmse}')\n",
        "print(f'RMSE: {rmse}')\n",
        "print(f'MAE: {mae}')\n",
        "print(f'R2: {r2}')"
      ]
    },
    {
      "cell_type": "markdown",
      "metadata": {
        "id": "Jrn6bDEq49Ln"
      },
      "source": [
        "#### Outlierlarni tashlab kuramiz"
      ]
    },
    {
      "cell_type": "code",
      "execution_count": null,
      "metadata": {
        "colab": {
          "background_save": true
        },
        "id": "aJSvBGxs5Ck8"
      },
      "outputs": [],
      "source": [
        "data = df[df['price'] <= df['price'].quantile(0.95)]"
      ]
    },
    {
      "cell_type": "code",
      "execution_count": null,
      "metadata": {
        "colab": {
          "background_save": true
        },
        "id": "IqG6P2jt5POw"
      },
      "outputs": [],
      "source": [
        "X = data[columns]\n",
        "y = data['price']"
      ]
    },
    {
      "cell_type": "code",
      "execution_count": null,
      "metadata": {
        "colab": {
          "background_save": true
        },
        "id": "uhf-pFR_5KcO",
        "outputId": "a3706ff2-b488-4a64-98dd-cf899e5429d0"
      },
      "outputs": [
        {
          "name": "stdout",
          "output_type": "stream",
          "text": [
            "CV RMSE: 12015.062164884188\n",
            "RMSE: 11961.465939967047\n",
            "MAE: 8395.476871320328\n",
            "R2: 0.6362013866097889\n"
          ]
        }
      ],
      "source": [
        "poly = PolynomialFeatures(degree=2, include_bias=False)\n",
        "X_poly = poly.fit_transform(X)\n",
        "\n",
        "\n",
        "X_train, X_test, y_train, y_test = train_test_split(X_poly, y, test_size=0.37, random_state=125)\n",
        "\n",
        "model = LinearRegression()\n",
        "\n",
        "cv = KFold(n_splits=5, shuffle=True, random_state=42)\n",
        "cv_rmse = np.sqrt(np.mean((-cross_val_score(model, X_train, y_train, cv=cv, scoring='neg_mean_squared_error'))))\n",
        "\n",
        "model.fit(X_train, y_train)\n",
        "\n",
        "y_pred = model.predict(X_test)\n",
        "\n",
        "rmse = mean_squared_error(y_test, y_pred, squared=False)\n",
        "mae = mean_absolute_error(y_test, y_pred)\n",
        "r2 = r2_score(y_test, y_pred)\n",
        "\n",
        "print(f'CV RMSE: {cv_rmse}')\n",
        "print(f'RMSE: {rmse}')\n",
        "print(f'MAE: {mae}')\n",
        "print(f'R2: {r2}')"
      ]
    },
    {
      "cell_type": "code",
      "execution_count": null,
      "metadata": {
        "id": "ZDQtdJ9z4out"
      },
      "outputs": [],
      "source": [
        "linear_model = LinearRegression()\n",
        "linear_model.fit(X, y)\n",
        "\n",
        "tail = TheilSenRegressor()\n",
        "tail.fit(X, y)\n",
        "\n",
        "huber = HuberRegressor()\n",
        "huber.fit(X, y)\n",
        "\n",
        "ransac = RANSACRegressor()\n",
        "ransac.fit(X, y)\n",
        "\n",
        "\n",
        "linear_rmse = np.sqrt(mean_squared_error(y, linear_model.predict(X)))\n",
        "tail_rmse = np.sqrt(mean_squared_error(y, tail.predict(X)))\n",
        "huber_rmse = np.sqrt(mean_squared_error(y, huber.predict(X)))\n",
        "ransac_rmse = np.sqrt(mean_squared_error(y, ransac.predict(X)))\n",
        "\n",
        "mae_linear = mean_absolute_error(y, linear_model.predict(X))\n",
        "mae_tail = mean_absolute_error(y, tail.predict(X))\n",
        "mae_huber = mean_absolute_error(y, huber.predict(X))\n",
        "mae_ransac = mean_absolute_error(y, ransac.predict(X))\n",
        "\n",
        "\n",
        "median_error = median_absolute_error(y, linear_model.predict(X))\n",
        "median_error_tail = median_absolute_error(y, tail.predict(X))\n",
        "median_error_huber = median_absolute_error(y, huber.predict(X))\n",
        "median_error_ransac = median_absolute_error(y, ransac.predict(X))\n",
        "\n",
        "print('Median Error Linear:', median_error)\n",
        "print('Linear MAE:', mae_linear)\n",
        "print('Linear RMSE:', linear_rmse)\n",
        "print()\n",
        "print('Median Error RANSAC:', median_error_ransac)\n",
        "print('RANSAC MAE:', mae_ransac)\n",
        "print('RANSAC RMSE:', ransac_rmse)\n",
        "print()\n",
        "print('Median Error Tail:', median_error_tail)\n",
        "print('Theil MAE:', mae_tail)\n",
        "print('Theil RMSE:', tail_rmse)\n",
        "print()\n",
        "print('Median Error Huber:', median_error_huber)\n",
        "print('Huber MAE:', mae_huber)\n",
        "print('Huber RMSE:', huber_rmse)"
      ]
    },
    {
      "cell_type": "markdown",
      "metadata": {
        "id": "nGDPoEzZ5aAT"
      },
      "source": [
        "#### PolynomialFeatures"
      ]
    },
    {
      "cell_type": "code",
      "execution_count": null,
      "metadata": {
        "id": "qNuwwaYi5QL8"
      },
      "outputs": [],
      "source": [
        "linear_model = LinearRegression()\n",
        "linear_model.fit(X_poly, y)\n",
        "\n",
        "tail = TheilSenRegressor()\n",
        "tail.fit(X_poly, y)\n",
        "\n",
        "huber = HuberRegressor()\n",
        "huber.fit(X_poly, y)\n",
        "\n",
        "ransac = RANSACRegressor()\n",
        "ransac.fit(X_poly, y)\n",
        "\n",
        "\n",
        "linear_rmse = np.sqrt(mean_squared_error(y, linear_model.predict(X_poly)))\n",
        "tail_rmse = np.sqrt(mean_squared_error(y, tail.predict(X_poly)))\n",
        "huber_rmse = np.sqrt(mean_squared_error(y, huber.predict(X_poly)))\n",
        "ransac_rmse = np.sqrt(mean_squared_error(y, ransac.predict(X_poly)))\n",
        "\n",
        "mae_linear = mean_absolute_error(y, linear_model.predict(X_poly))\n",
        "mae_tail = mean_absolute_error(y, tail.predict(X_poly))\n",
        "mae_huber = mean_absolute_error(y, huber.predict(X_poly))\n",
        "mae_ransac = mean_absolute_error(y, ransac.predict(X_poly))\n",
        "\n",
        "\n",
        "median_error = median_absolute_error(y, linear_model.predict(X_poly))\n",
        "median_error_tail = median_absolute_error(y, tail.predict(X_poly))\n",
        "median_error_huber = median_absolute_error(y, huber.predict(X_poly))\n",
        "median_error_ransac = median_absolute_error(y, ransac.predict(X_poly))\n",
        "\n",
        "print('Median Error Linear:', median_error)\n",
        "print('Linear MAE:', mae_linear)\n",
        "print('Linear RMSE:', linear_rmse)\n",
        "print()\n",
        "print('Median Error RANSAC:', median_error_ransac)\n",
        "print('RANSAC MAE:', mae_ransac)\n",
        "print('RANSAC RMSE:', ransac_rmse)\n",
        "print()\n",
        "print('Median Error Tail:', median_error_tail)\n",
        "print('Theil MAE:', mae_tail)\n",
        "print('Theil RMSE:', tail_rmse)\n",
        "print()\n",
        "print('Median Error Huber:', median_error_huber)\n",
        "print('Huber MAE:', mae_huber)\n",
        "print('Huber RMSE:', huber_rmse)"
      ]
    },
    {
      "cell_type": "markdown",
      "metadata": {
        "id": "vX6PgjoBF9Ok"
      },
      "source": [
        "#### RFECV orqaliy eng yaxshi parametrlarni aniqlab olamiz\n"
      ]
    },
    {
      "cell_type": "code",
      "execution_count": null,
      "metadata": {
        "collapsed": true,
        "id": "QDU9amjd50OI"
      },
      "outputs": [],
      "source": [
        "X = data[columns]\n",
        "y = data['price']\n",
        "poly = PolynomialFeatures(degree=2, include_bias=False)\n",
        "X_poly = pd.DataFrame(poly.fit_transform(X), columns=poly.get_feature_names_out(X.columns))\n",
        "\n",
        "\n",
        "cv = KFold(n_splits=6, shuffle=True, random_state=42)\n",
        "\n",
        "linear_model = LinearRegression()\n",
        "\n",
        "rfecv = RFECV(estimator=linear_model, step=1, cv=cv, scoring='neg_mean_squared_error', verbose=2)\n",
        "\n",
        "rfecv.fit(X_poly, y)\n",
        "optimal_num_features = rfecv.n_features_\n",
        "selected_features = X_poly.columns[rfecv.support_]\n",
        "\n",
        "print(\"Optimal number of features:\", optimal_num_features)\n",
        "print(\"Selected features:\", selected_features.tolist())"
      ]
    },
    {
      "cell_type": "markdown",
      "metadata": {
        "id": "fMgQuzvGFur5"
      },
      "source": [
        "#### 3 ta modelni 3 xil metrika blan snab kuramiz"
      ]
    },
    {
      "cell_type": "code",
      "execution_count": null,
      "metadata": {
        "id": "p6SWxa3YEMho"
      },
      "outputs": [],
      "source": [
        "X_poly = pd.DataFrame(poly.fit_transform(X), columns=poly.get_feature_names_out(X.columns))\n",
        "X = X_poly[selected_features]\n",
        "y = data['price']\n",
        "\n",
        "linear_model = LinearRegression()\n",
        "linear_model.fit(X, y)\n",
        "\n",
        "tail = TheilSenRegressor()\n",
        "tail.fit(X, y)\n",
        "\n",
        "huber = HuberRegressor()\n",
        "huber.fit(X, y)\n",
        "\n",
        "ransac = RANSACRegressor()\n",
        "ransac.fit(X, y)\n",
        "\n",
        "\n",
        "linear_rmse = np.sqrt(mean_squared_error(y, linear_model.predict(X)))\n",
        "tail_rmse = np.sqrt(mean_squared_error(y, tail.predict(X)))\n",
        "huber_rmse = np.sqrt(mean_squared_error(y, huber.predict(X)))\n",
        "ransac_rmse = np.sqrt(mean_squared_error(y, ransac.predict(X)))\n",
        "\n",
        "mae_linear = mean_absolute_error(y, linear_model.predict(X))\n",
        "mae_tail = mean_absolute_error(y, tail.predict(X))\n",
        "mae_huber = mean_absolute_error(y, huber.predict(X))\n",
        "mae_ransac = mean_absolute_error(y, ransac.predict(X))\n",
        "\n",
        "\n",
        "median_error = median_absolute_error(y, linear_model.predict(X))\n",
        "median_error_tail = median_absolute_error(y, tail.predict(X))\n",
        "median_error_huber = median_absolute_error(y, huber.predict(X))\n",
        "median_error_ransac = median_absolute_error(y, ransac.predict(X))\n",
        "\n",
        "print('Median Error Linear:', median_error)\n",
        "print('Linear MAE:', mae_linear)\n",
        "print('Linear RMSE:', linear_rmse)\n",
        "print()\n",
        "print('Median Error RANSAC:', median_error_ransac)\n",
        "print('RANSAC MAE:', mae_ransac)\n",
        "print('RANSAC RMSE:', ransac_rmse)\n",
        "print()\n",
        "print('Median Error Tail:', median_error_tail)\n",
        "print('Theil MAE:', mae_tail)\n",
        "print('Theil RMSE:', tail_rmse)\n",
        "print()\n",
        "print('Median Error Huber:', median_error_huber)\n",
        "print('Huber MAE:', mae_huber)\n",
        "print('Huber RMSE:', huber_rmse)"
      ]
    },
    {
      "cell_type": "markdown",
      "metadata": {
        "id": "jduayjZ1T8vn"
      },
      "source": [
        "#### Outlier blan birga"
      ]
    },
    {
      "cell_type": "code",
      "execution_count": null,
      "metadata": {
        "id": "6w4M_IbCT1f_"
      },
      "outputs": [],
      "source": [
        "X = df[columns]\n",
        "y = df['price']\n",
        "poly = PolynomialFeatures(degree=2, include_bias=False)\n",
        "X_poly = pd.DataFrame(poly.fit_transform(X), columns=poly.get_feature_names_out(X.columns))\n",
        "X = X_poly[selected_features]\n",
        "\n",
        "linear_model = LinearRegression()\n",
        "linear_model.fit(X, y)\n",
        "\n",
        "tail = TheilSenRegressor()\n",
        "tail.fit(X, y)\n",
        "\n",
        "huber = HuberRegressor()\n",
        "huber.fit(X, y)\n",
        "\n",
        "ransac = RANSACRegressor()\n",
        "ransac.fit(X, y)\n",
        "\n",
        "\n",
        "linear_rmse = np.sqrt(mean_squared_error(y, linear_model.predict(X)))\n",
        "tail_rmse = np.sqrt(mean_squared_error(y, tail.predict(X)))\n",
        "huber_rmse = np.sqrt(mean_squared_error(y, huber.predict(X)))\n",
        "ransac_rmse = np.sqrt(mean_squared_error(y, ransac.predict(X)))\n",
        "\n",
        "mae_linear = mean_absolute_error(y, linear_model.predict(X))\n",
        "mae_tail = mean_absolute_error(y, tail.predict(X))\n",
        "mae_huber = mean_absolute_error(y, huber.predict(X))\n",
        "mae_ransac = mean_absolute_error(y, ransac.predict(X))\n",
        "\n",
        "\n",
        "median_error = median_absolute_error(y, linear_model.predict(X))\n",
        "median_error_tail = median_absolute_error(y, tail.predict(X))\n",
        "median_error_huber = median_absolute_error(y, huber.predict(X))\n",
        "median_error_ransac = median_absolute_error(y, ransac.predict(X))\n",
        "\n",
        "print('Median Error Linear:', median_error)\n",
        "print('Linear MAE:', mae_linear)\n",
        "print('Linear RMSE:', linear_rmse)\n",
        "print()\n",
        "print('Median Error RANSAC:', median_error_ransac)\n",
        "print('RANSAC MAE:', mae_ransac)\n",
        "print('RANSAC RMSE:', ransac_rmse)\n",
        "print()\n",
        "print('Median Error Tail:', median_error_tail)\n",
        "print('Theil MAE:', mae_tail)\n",
        "print('Theil RMSE:', tail_rmse)\n",
        "print()\n",
        "print('Median Error Huber:', median_error_huber)\n",
        "print('Huber MAE:', mae_huber)\n",
        "print('Huber RMSE:', huber_rmse)"
      ]
    },
    {
      "cell_type": "markdown",
      "metadata": {
        "id": "BwMgcuLtLHd6"
      },
      "source": [
        "### RMSE, MAE, MedAE, R2, AdjustedR2, MAPE, sMAPE, MedAPE, sMedAPE metrikalarni sinab kuramiz!"
      ]
    },
    {
      "cell_type": "code",
      "execution_count": null,
      "metadata": {
        "id": "qlomWsjg8dPG"
      },
      "outputs": [],
      "source": [
        "X_train, X_test, y_train, y_test = train_test_split(X, y, test_size=0.3, random_state=0)\n",
        "\n",
        "model = LinearRegression()\n",
        "model.fit(X_train, y_train)\n",
        "\n",
        "y_pred = model.predict(X_test)\n",
        "\n",
        "\n",
        "print_metrics(y_pred, y_test, X_test)"
      ]
    },
    {
      "cell_type": "code",
      "execution_count": null,
      "metadata": {
        "id": "sHxAEjdPZR_U"
      },
      "outputs": [],
      "source": [
        "df.columns"
      ]
    },
    {
      "cell_type": "code",
      "execution_count": null,
      "metadata": {
        "id": "t9Ob14Dzbyik"
      },
      "outputs": [],
      "source": [
        "X = df[columns]\n",
        "y = df['price']\n",
        "poly = PolynomialFeatures(degree=2, include_bias=False)\n",
        "X_poly = pd.DataFrame(poly.fit_transform(X), columns=poly.get_feature_names_out(X.columns))\n",
        "\n",
        "\n",
        "cv = KFold(n_splits=6, shuffle=True, random_state=42)\n",
        "\n",
        "linear_model = LinearRegression()\n",
        "\n",
        "rfecv = RFECV(estimator=linear_model, step=1, cv=cv, scoring='neg_mean_squared_error', verbose=2)\n",
        "\n",
        "rfecv.fit(X_poly, y)\n",
        "optimal_num_features = rfecv.n_features_\n",
        "selected_features = X_poly.columns[rfecv.support_]"
      ]
    },
    {
      "cell_type": "code",
      "execution_count": null,
      "metadata": {
        "id": "QM7lH2w1Zqrs"
      },
      "outputs": [],
      "source": [
        "X_train, X_test, y_train, y_test = train_test_split(X, y, test_size=0.2, random_state=42)\n",
        "\n",
        "estimators = [\n",
        "    ('lr', Pipeline([\n",
        "        ('scaler', StandardScaler()),\n",
        "        ('lr', LinearRegression())\n",
        "    ])),\n",
        "    ('ridge', Pipeline([\n",
        "        ('scaler', StandardScaler()),\n",
        "        ('ridge', Ridge())\n",
        "    ])),\n",
        "    ('lasso', Pipeline([\n",
        "        ('scaler', StandardScaler()),\n",
        "        ('lasso', Lasso())\n",
        "    ])),\n",
        "    ('elasticnet', Pipeline([\n",
        "        ('scaler', StandardScaler()),\n",
        "        ('elasticnet', ElasticNet())\n",
        "    ]))\n",
        "]\n",
        "\n",
        "stacking_regressor = StackingRegressor(estimators=estimators,\n",
        "                                       final_estimator=LinearRegression())\n",
        "\n",
        "stacking_regressor.fit(X_train, y_train)\n",
        "\n",
        "stacking_pred = stacking_regressor.predict(X_test)\n",
        "\n",
        "print_metrics(stacking_pred, y_test, X_test)"
      ]
    },
    {
      "cell_type": "code",
      "execution_count": null,
      "metadata": {
        "id": "2KWLwzwCdYw2"
      },
      "outputs": [],
      "source": [
        "X_train, X_test, y_train, y_test = train_test_split(X, y, test_size=0.2, random_state=42)\n",
        "\n",
        "estimators = [\n",
        "    ('lr', Pipeline([\n",
        "        ('scaler', StandardScaler()),\n",
        "        ('lr', LinearRegression())\n",
        "    ])),\n",
        "    ('ridge', Pipeline([\n",
        "        ('scaler', StandardScaler()),\n",
        "        ('ridge', Ridge())\n",
        "    ])),\n",
        "    ('lasso', Pipeline([\n",
        "        ('scaler', StandardScaler()),\n",
        "        ('lasso', Lasso())\n",
        "    ])),\n",
        "    ('elasticnet', Pipeline([\n",
        "        ('scaler', StandardScaler()),\n",
        "        ('elasticnet', ElasticNet())\n",
        "    ]))\n",
        "    ,\n",
        "    ('theil', Pipeline([\n",
        "        ('scaler', StandardScaler()),\n",
        "        ('theil', TheilSenRegressor())\n",
        "    ])),\n",
        "    ('huber', Pipeline([\n",
        "        ('scaler', StandardScaler()),\n",
        "        ('huber', HuberRegressor())\n",
        "    ])),\n",
        "    ('ransag', Pipeline([\n",
        "        ('scaler', StandardScaler()),\n",
        "        ('ransag', RANSACRegressor())\n",
        "    ]))\n",
        "]\n",
        "\n",
        "stacking_regressor = StackingRegressor(estimators=estimators,\n",
        "                                       final_estimator=LinearRegression())\n",
        "\n",
        "stacking_regressor.fit(X_train, y_train)\n",
        "\n",
        "stacking_pred = stacking_regressor.predict(X_test)\n",
        "\n",
        "print_metrics(stacking_pred, y_test, X_test)"
      ]
    },
    {
      "cell_type": "code",
      "execution_count": null,
      "metadata": {
        "id": "1jzT0ZHbU-p_"
      },
      "outputs": [],
      "source": [
        "estimators = [\n",
        "    ('lr', Pipeline([\n",
        "        ('scaler', StandardScaler()),\n",
        "        ('lr', LinearRegression())\n",
        "    ])),\n",
        "    ('ridge', Pipeline([\n",
        "        ('scaler', StandardScaler()),\n",
        "        ('ridge', Ridge())\n",
        "    ])),\n",
        "    ('lasso', Pipeline([\n",
        "        ('scaler', StandardScaler()),\n",
        "        ('lasso', Lasso())\n",
        "    ])),\n",
        "    ('elasticnet', Pipeline([\n",
        "        ('scaler', StandardScaler()),\n",
        "        ('elasticnet', ElasticNet())\n",
        "    ]))\n",
        "    ,\n",
        "    ('theil', Pipeline([\n",
        "        ('scaler', StandardScaler()),\n",
        "        ('theil', TheilSenRegressor())\n",
        "    ])),\n",
        "    ('huber', Pipeline([\n",
        "        ('scaler', StandardScaler()),\n",
        "        ('huber', HuberRegressor())\n",
        "    ])),\n",
        "    ('ransag', Pipeline([\n",
        "        ('scaler', StandardScaler()),\n",
        "        ('ransag', RANSACRegressor())\n",
        "    ]))\n",
        "]\n",
        "\n",
        "voting_regressor = VotingRegressor(estimators=estimators)\n",
        "\n",
        "\n",
        "voting_regressor.fit(X_train, y_train)\n",
        "\n",
        "voting_pred = voting_regressor.predict(X_test)\n",
        "print_metrics(voting_pred, y_test, X_test)"
      ]
    },
    {
      "cell_type": "code",
      "execution_count": null,
      "metadata": {
        "id": "vsvwfS-uePMS"
      },
      "outputs": [],
      "source": [
        "X_train, X_test, y_train, y_test = train_test_split(X, y, test_size=0.2, random_state=42)\n",
        "\n",
        "\n",
        "estimators = [\n",
        "    ('lr', Pipeline([\n",
        "        ('scaler', StandardScaler()),\n",
        "        ('lr', LinearRegression())\n",
        "    ])),\n",
        "    ('ridge', Pipeline([\n",
        "        ('scaler', StandardScaler()),\n",
        "        ('ridge', Ridge())\n",
        "    ])),\n",
        "    ('lasso', Pipeline([\n",
        "        ('scaler', StandardScaler()),\n",
        "        ('lasso', Lasso())\n",
        "    ])),\n",
        "    ('elasticnet', Pipeline([\n",
        "        ('scaler', StandardScaler()),\n",
        "        ('elasticnet', ElasticNet())\n",
        "    ]))\n",
        "]\n",
        "\n",
        "stacking_regressor = StackingRegressor(estimators=estimators,\n",
        "                                       final_estimator=LinearRegression(),\n",
        "                                       passthrough=True\n",
        "                                       )\n",
        "\n",
        "stacking_regressor.fit(X_train, y_train)\n",
        "\n",
        "stacking_pred = stacking_regressor.predict(X_test)\n",
        "\n",
        "print_metrics(stacking_pred, y_test, X_test)"
      ]
    },
    {
      "cell_type": "code",
      "execution_count": null,
      "metadata": {
        "colab": {
          "background_save": true
        },
        "id": "vy1NIeX2gqF0",
        "outputId": "de5a7c01-37fd-41f2-f1a8-5f51571acba4"
      },
      "outputs": [
        {
          "name": "stdout",
          "output_type": "stream",
          "text": [
            "RMSE: 47381.86537349619\n",
            "MAE: 17609.748962292328\n",
            "Median Absolute Error: 9168.561445236206\n",
            "R²: 0.23599090330188488\n",
            "Adjusted R²: 0.22636862248704714\n",
            "MAPE: 62.35901715399488\n",
            "sMAPE: 43.84620523200578\n",
            "MedAPE: 33.695511388778684\n",
            "sMedAPE: 32.86355212895671\n"
          ]
        },
        {
          "data": {
            "text/plain": [
              "0.22636862248704714"
            ]
          },
          "execution_count": 42,
          "metadata": {},
          "output_type": "execute_result"
        }
      ],
      "source": [
        "X_train, X_test, y_train, y_test = train_test_split(X_poly, y, test_size=0.2, random_state=42)\n",
        "\n",
        "\n",
        "estimators = [\n",
        "    ('lr', Pipeline([\n",
        "        ('scaler', StandardScaler()),\n",
        "        ('lr', LinearRegression())\n",
        "    ])),\n",
        "    ('ridge', Pipeline([\n",
        "        ('scaler', StandardScaler()),\n",
        "        ('ridge', Ridge())\n",
        "    ])),\n",
        "    ('lasso', Pipeline([\n",
        "        ('scaler', StandardScaler()),\n",
        "        ('lasso', Lasso())\n",
        "    ])),\n",
        "    ('elasticnet', Pipeline([\n",
        "        ('scaler', StandardScaler()),\n",
        "        ('elasticnet', ElasticNet())\n",
        "    ]))\n",
        "]\n",
        "\n",
        "stacking_regressor = StackingRegressor(estimators=estimators,\n",
        "                                       final_estimator=LinearRegression(),\n",
        "                                       passthrough=True\n",
        "                                       )\n",
        "\n",
        "stacking_regressor.fit(X_train, y_train)\n",
        "\n",
        "stacking_pred = stacking_regressor.predict(X_test)\n",
        "\n",
        "print_metrics(stacking_pred, y_test, X_test)"
      ]
    },
    {
      "cell_type": "code",
      "execution_count": null,
      "metadata": {
        "colab": {
          "background_save": true
        },
        "id": "8Ul1V4cUhUAL",
        "outputId": "b704cbc2-7c82-49cb-f764-16c9f8a3ed8f"
      },
      "outputs": [
        {
          "name": "stdout",
          "output_type": "stream",
          "text": [
            "RMSE: 47217.602434105276\n",
            "MAE: 16970.27808439585\n",
            "Median Absolute Error: 8470.825527513993\n",
            "R²: 0.2412790379391796\n",
            "Adjusted R²: 0.23172335831624735\n",
            "MAPE: 56.527238447848084\n",
            "sMAPE: 39.98539327285831\n",
            "MedAPE: 31.71580304537588\n",
            "sMedAPE: 31.282578793159193\n"
          ]
        },
        {
          "data": {
            "text/plain": [
              "0.23172335831624735"
            ]
          },
          "execution_count": 43,
          "metadata": {},
          "output_type": "execute_result"
        }
      ],
      "source": [
        "X_train, X_test, y_train, y_test = train_test_split(X_poly, y, test_size=0.2, random_state=42)\n",
        "\n",
        "\n",
        "estimators = [\n",
        "    ('lr', Pipeline([\n",
        "        ('scaler', StandardScaler()),\n",
        "        ('lr', LinearRegression())\n",
        "    ])),\n",
        "    ('ridge', Pipeline([\n",
        "        ('scaler', StandardScaler()),\n",
        "        ('ridge', Ridge())\n",
        "    ])),\n",
        "    ('lasso', Pipeline([\n",
        "        ('scaler', StandardScaler()),\n",
        "        ('lasso', Lasso())\n",
        "    ])),\n",
        "    ('elasticnet', Pipeline([\n",
        "        ('scaler', StandardScaler()),\n",
        "        ('elasticnet', ElasticNet())\n",
        "    ]))\n",
        "]\n",
        "\n",
        "stacking_regressor = StackingRegressor(estimators=estimators,\n",
        "                                       final_estimator=LinearRegression(),\n",
        "                                      #  passthrough=True\n",
        "                                       )\n",
        "\n",
        "stacking_regressor.fit(X_train, y_train)\n",
        "\n",
        "stacking_pred = stacking_regressor.predict(X_test)\n",
        "\n",
        "print_metrics(stacking_pred, y_test, X_test)"
      ]
    },
    {
      "cell_type": "code",
      "execution_count": null,
      "metadata": {
        "id": "2zXxue_L5kNo"
      },
      "outputs": [],
      "source": [
        "select_x = X_poly[selected_features]\n",
        "X_train, X_test, y_train, y_test = train_test_split(select_x, y, test_size=0.2, random_state=42)\n",
        "\n",
        "\n",
        "estimators = [\n",
        "    ('lr', Pipeline([\n",
        "        ('scaler', StandardScaler()),\n",
        "        ('lr', LinearRegression())\n",
        "    ])),\n",
        "    ('ridge', Pipeline([\n",
        "        ('scaler', StandardScaler()),\n",
        "        ('ridge', Ridge())\n",
        "    ])),\n",
        "    ('lasso', Pipeline([\n",
        "        ('scaler', StandardScaler()),\n",
        "        ('lasso', Lasso())\n",
        "    ])),\n",
        "    ('elasticnet', Pipeline([\n",
        "        ('scaler', StandardScaler()),\n",
        "        ('elasticnet', ElasticNet())\n",
        "    ]))\n",
        "]\n",
        "\n",
        "stacking_regressor = StackingRegressor(estimators=estimators,\n",
        "                                       final_estimator=LinearRegression(),\n",
        "                                      #  passthrough=True\n",
        "                                       )\n",
        "\n",
        "stacking_regressor.fit(X_train, y_train)\n",
        "\n",
        "stacking_pred = stacking_regressor.predict(X_test)\n",
        "\n",
        "print_metrics(stacking_pred, y_test, X_test)"
      ]
    }
  ],
  "metadata": {
    "colab": {
      "provenance": [],
      "include_colab_link": true
    },
    "kernelspec": {
      "display_name": "Python 3",
      "name": "python3"
    },
    "language_info": {
      "name": "python"
    }
  },
  "nbformat": 4,
  "nbformat_minor": 0
}