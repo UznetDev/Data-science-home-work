{
  "nbformat": 4,
  "nbformat_minor": 0,
  "metadata": {
    "colab": {
      "provenance": [],
      "collapsed_sections": [
        "4yHz4zewqni4",
        "NS6j93AQiH7B"
      ],
      "authorship_tag": "ABX9TyNETnO00uQh1CwS+mu9vjrg",
      "include_colab_link": true
    },
    "kernelspec": {
      "name": "python3",
      "display_name": "Python 3"
    },
    "language_info": {
      "name": "python"
    }
  },
  "cells": [
    {
      "cell_type": "markdown",
      "metadata": {
        "id": "view-in-github",
        "colab_type": "text"
      },
      "source": [
        "<a href=\"https://colab.research.google.com/github/UznetDev/Data-science-home-work/blob/main/27_Avg_2024_home_work.ipynb\" target=\"_parent\"><img src=\"https://colab.research.google.com/assets/colab-badge.svg\" alt=\"Open In Colab\"/></a>"
      ]
    },
    {
      "cell_type": "markdown",
      "source": [
        "# **SQL**"
      ],
      "metadata": {
        "id": "GZxK2bDnj6_Q"
      }
    },
    {
      "cell_type": "markdown",
      "source": [
        "### Import librares"
      ],
      "metadata": {
        "id": "4yHz4zewqni4"
      }
    },
    {
      "cell_type": "code",
      "execution_count": 27,
      "metadata": {
        "id": "zpHxL5F4hVc9"
      },
      "outputs": [],
      "source": [
        "import pandas as pd"
      ]
    },
    {
      "cell_type": "markdown",
      "source": [
        "### Set-up for SQL"
      ],
      "metadata": {
        "id": "NS6j93AQiH7B"
      }
    },
    {
      "cell_type": "code",
      "source": [
        "%load_ext sql\n",
        "%sql sqlite://"
      ],
      "metadata": {
        "id": "_cyIAPu-iBED",
        "outputId": "0dae38a1-0ae8-46ca-b96e-788bc493cb8d",
        "colab": {
          "base_uri": "https://localhost:8080/"
        }
      },
      "execution_count": 28,
      "outputs": [
        {
          "output_type": "stream",
          "name": "stdout",
          "text": [
            "The sql extension is already loaded. To reload it, use:\n",
            "  %reload_ext sql\n"
          ]
        }
      ]
    },
    {
      "cell_type": "markdown",
      "source": [
        "##### Load dataset"
      ],
      "metadata": {
        "id": "qlhev4g0_TQD"
      }
    },
    {
      "cell_type": "code",
      "source": [
        "monarchs = pd.read_csv('monarchs.csv')\n",
        "presidents = pd.read_csv('presidents.csv')\n",
        "prime_minister_terms = pd.read_csv('prime_minister_terms.csv')\n",
        "prime_ministers = pd.read_csv('prime_ministers.csv')\n",
        "states = pd.read_csv('states.csv')"
      ],
      "metadata": {
        "id": "fWsxJNZ2ir-H"
      },
      "execution_count": 29,
      "outputs": []
    },
    {
      "cell_type": "markdown",
      "source": [
        "##### Upload dataset to SQL"
      ],
      "metadata": {
        "id": "aunGHMzJ_bSy"
      }
    },
    {
      "cell_type": "code",
      "source": [
        "%sql DROP TABLE IF EXISTS monarchs;\n",
        "%sql --persist monarchs\n",
        "\n",
        "%sql DROP TABLE IF EXISTS presidents;\n",
        "%sql --persist presidents\n",
        "\n",
        "%sql DROP TABLE IF EXISTS prime_minister_terms;\n",
        "%sql --persist prime_minister_terms\n",
        "\n",
        "%sql DROP TABLE IF EXISTS prime_ministers;\n",
        "%sql --persist prime_ministers\n",
        "\n",
        "%sql DROP TABLE IF EXISTS states;\n",
        "%sql --persist states"
      ],
      "metadata": {
        "colab": {
          "base_uri": "https://localhost:8080/",
          "height": 296
        },
        "id": "gCxdrMMXi34q",
        "outputId": "b169a825-48ac-4c45-dc87-1e767d123696"
      },
      "execution_count": 30,
      "outputs": [
        {
          "output_type": "stream",
          "name": "stdout",
          "text": [
            " * sqlite://\n",
            "Done.\n",
            " * sqlite://\n",
            " * sqlite://\n",
            "Done.\n",
            " * sqlite://\n",
            " * sqlite://\n",
            "Done.\n",
            " * sqlite://\n",
            " * sqlite://\n",
            "Done.\n",
            " * sqlite://\n",
            " * sqlite://\n",
            "Done.\n",
            " * sqlite://\n"
          ]
        },
        {
          "output_type": "execute_result",
          "data": {
            "text/plain": [
              "'Persisted states'"
            ],
            "application/vnd.google.colaboratory.intrinsic+json": {
              "type": "string"
            }
          },
          "metadata": {},
          "execution_count": 30
        }
      ]
    },
    {
      "cell_type": "markdown",
      "source": [
        "### Class work"
      ],
      "metadata": {
        "id": "Xp8q7BO4lq4q"
      }
    },
    {
      "cell_type": "markdown",
      "source": [
        "#### View all table"
      ],
      "metadata": {
        "id": "aQGDCsg5zYWE"
      }
    },
    {
      "cell_type": "code",
      "source": [
        "%%sql SELECT * FROM monarchs LIMIT 1;"
      ],
      "metadata": {
        "colab": {
          "base_uri": "https://localhost:8080/",
          "height": 96
        },
        "id": "zW9n_4Dmvn2W",
        "outputId": "99d47f74-9e72-4b9b-c87c-2fb3016cb04d"
      },
      "execution_count": 31,
      "outputs": [
        {
          "output_type": "stream",
          "name": "stdout",
          "text": [
            " * sqlite://\n",
            "Done.\n"
          ]
        },
        {
          "output_type": "execute_result",
          "data": {
            "text/plain": [
              "[(0, 'Brunei', 'Asia', 'Hassanal Bolkiah')]"
            ],
            "text/html": [
              "<table>\n",
              "    <thead>\n",
              "        <tr>\n",
              "            <th>index</th>\n",
              "            <th>country</th>\n",
              "            <th>continent</th>\n",
              "            <th>monarch</th>\n",
              "        </tr>\n",
              "    </thead>\n",
              "    <tbody>\n",
              "        <tr>\n",
              "            <td>0</td>\n",
              "            <td>Brunei</td>\n",
              "            <td>Asia</td>\n",
              "            <td>Hassanal Bolkiah</td>\n",
              "        </tr>\n",
              "    </tbody>\n",
              "</table>"
            ]
          },
          "metadata": {},
          "execution_count": 31
        }
      ]
    },
    {
      "cell_type": "code",
      "source": [
        "%%sql SELECT * FROM presidents LIMIT 1;"
      ],
      "metadata": {
        "colab": {
          "base_uri": "https://localhost:8080/",
          "height": 96
        },
        "id": "Kpz_vjp0wsMC",
        "outputId": "ef65eb20-46ef-489c-d47c-4a64f67b0eec"
      },
      "execution_count": 32,
      "outputs": [
        {
          "output_type": "stream",
          "name": "stdout",
          "text": [
            " * sqlite://\n",
            "Done.\n"
          ]
        },
        {
          "output_type": "execute_result",
          "data": {
            "text/plain": [
              "[(0, 'Egypt', 'Africa', 'Abdel Fattah el-Sisi')]"
            ],
            "text/html": [
              "<table>\n",
              "    <thead>\n",
              "        <tr>\n",
              "            <th>index</th>\n",
              "            <th>country</th>\n",
              "            <th>continent</th>\n",
              "            <th>president</th>\n",
              "        </tr>\n",
              "    </thead>\n",
              "    <tbody>\n",
              "        <tr>\n",
              "            <td>0</td>\n",
              "            <td>Egypt</td>\n",
              "            <td>Africa</td>\n",
              "            <td>Abdel Fattah el-Sisi</td>\n",
              "        </tr>\n",
              "    </tbody>\n",
              "</table>"
            ]
          },
          "metadata": {},
          "execution_count": 32
        }
      ]
    },
    {
      "cell_type": "code",
      "source": [
        "%%sql SELECT * FROM prime_minister_terms LIMIT 1;"
      ],
      "metadata": {
        "colab": {
          "base_uri": "https://localhost:8080/",
          "height": 96
        },
        "id": "PFGEsAS-w2_2",
        "outputId": "3b431a77-6025-4a5b-9ff6-08536a2f11e5"
      },
      "execution_count": 33,
      "outputs": [
        {
          "output_type": "stream",
          "name": "stdout",
          "text": [
            " * sqlite://\n",
            "Done.\n"
          ]
        },
        {
          "output_type": "execute_result",
          "data": {
            "text/plain": [
              "[(0, 'Mostafa Madbouly', 2018)]"
            ],
            "text/html": [
              "<table>\n",
              "    <thead>\n",
              "        <tr>\n",
              "            <th>index</th>\n",
              "            <th>prime_minister</th>\n",
              "            <th>pm_start</th>\n",
              "        </tr>\n",
              "    </thead>\n",
              "    <tbody>\n",
              "        <tr>\n",
              "            <td>0</td>\n",
              "            <td>Mostafa Madbouly</td>\n",
              "            <td>2018</td>\n",
              "        </tr>\n",
              "    </tbody>\n",
              "</table>"
            ]
          },
          "metadata": {},
          "execution_count": 33
        }
      ]
    },
    {
      "cell_type": "code",
      "source": [
        "%%sql SELECT * FROM prime_ministers LIMIT 1;"
      ],
      "metadata": {
        "colab": {
          "base_uri": "https://localhost:8080/",
          "height": 96
        },
        "id": "ORSrRnzhw_L5",
        "outputId": "ea142897-5a5d-4ee3-9487-0ad56bef2f25"
      },
      "execution_count": 34,
      "outputs": [
        {
          "output_type": "stream",
          "name": "stdout",
          "text": [
            " * sqlite://\n",
            "Done.\n"
          ]
        },
        {
          "output_type": "execute_result",
          "data": {
            "text/plain": [
              "[(0, 'Egypt', 'Africa', 'Mostafa Madbouly')]"
            ],
            "text/html": [
              "<table>\n",
              "    <thead>\n",
              "        <tr>\n",
              "            <th>index</th>\n",
              "            <th>country</th>\n",
              "            <th>continent</th>\n",
              "            <th>prime_minister</th>\n",
              "        </tr>\n",
              "    </thead>\n",
              "    <tbody>\n",
              "        <tr>\n",
              "            <td>0</td>\n",
              "            <td>Egypt</td>\n",
              "            <td>Africa</td>\n",
              "            <td>Mostafa Madbouly</td>\n",
              "        </tr>\n",
              "    </tbody>\n",
              "</table>"
            ]
          },
          "metadata": {},
          "execution_count": 34
        }
      ]
    },
    {
      "cell_type": "code",
      "source": [
        "%%sql SELECT * FROM states LIMIT 1;"
      ],
      "metadata": {
        "colab": {
          "base_uri": "https://localhost:8080/",
          "height": 96
        },
        "id": "hKjRhXHbxDOi",
        "outputId": "635aea9c-8271-466c-d14c-662d1ce546b0"
      },
      "execution_count": 35,
      "outputs": [
        {
          "output_type": "stream",
          "name": "stdout",
          "text": [
            " * sqlite://\n",
            "Done.\n"
          ]
        },
        {
          "output_type": "execute_result",
          "data": {
            "text/plain": [
              "[(0, 'Australia', 'Oceania', 1901)]"
            ],
            "text/html": [
              "<table>\n",
              "    <thead>\n",
              "        <tr>\n",
              "            <th>index</th>\n",
              "            <th>country</th>\n",
              "            <th>continent</th>\n",
              "            <th>indep_year</th>\n",
              "        </tr>\n",
              "    </thead>\n",
              "    <tbody>\n",
              "        <tr>\n",
              "            <td>0</td>\n",
              "            <td>Australia</td>\n",
              "            <td>Oceania</td>\n",
              "            <td>1901</td>\n",
              "        </tr>\n",
              "    </tbody>\n",
              "</table>"
            ]
          },
          "metadata": {},
          "execution_count": 35
        }
      ]
    },
    {
      "cell_type": "markdown",
      "source": [
        "#### Subquiry & CTE (WITH)"
      ],
      "metadata": {
        "id": "63MR0Atx7G_f"
      }
    },
    {
      "cell_type": "markdown",
      "source": [
        "##### Part 1 (*Subquiry*)"
      ],
      "metadata": {
        "id": "BSl5aHaK6VYC"
      }
    },
    {
      "cell_type": "code",
      "source": [
        "%%sql SELECT\n",
        "    country,\n",
        "    continent,\n",
        "    (SELECT p1.prime_minister\n",
        "     FROM prime_minister_terms AS p1\n",
        "     INNER JOIN prime_ministers AS p2\n",
        "     USING(prime_minister)\n",
        "     WHERE p2.country = s.country\n",
        "     ORDER BY pm_start\n",
        "     LIMIT 1) AS prime_minister\n",
        "FROM states AS s;"
      ],
      "metadata": {
        "colab": {
          "base_uri": "https://localhost:8080/",
          "height": 0
        },
        "id": "N640g2AUIcq4",
        "outputId": "96ba890f-c234-4ffb-ee60-1626ca294608"
      },
      "execution_count": 36,
      "outputs": [
        {
          "output_type": "stream",
          "name": "stdout",
          "text": [
            " * sqlite://\n",
            "Done.\n"
          ]
        },
        {
          "output_type": "execute_result",
          "data": {
            "text/plain": [
              "[('Australia', 'Oceania', 'Scott Morrison'),\n",
              " ('Brunei', 'Asia', 'Hassanal Bolkiah'),\n",
              " ('Chile', 'South America', None),\n",
              " ('Egypt', 'Africa', 'Mostafa Madbouly'),\n",
              " ('India', 'Asia', 'Narendra Modi'),\n",
              " ('Norway', 'Europe', 'Jonas Gahr Støre'),\n",
              " ('Oman', 'Asia', 'Haitham bin Tarik'),\n",
              " ('Pakistan', 'Asia', 'Shehbaz Sharif'),\n",
              " ('Portugal', 'Europe', 'António Costa'),\n",
              " ('Uruguay', 'South America', None),\n",
              " ('USA', 'North America', None)]"
            ],
            "text/html": [
              "<table>\n",
              "    <thead>\n",
              "        <tr>\n",
              "            <th>country</th>\n",
              "            <th>continent</th>\n",
              "            <th>prime_minister</th>\n",
              "        </tr>\n",
              "    </thead>\n",
              "    <tbody>\n",
              "        <tr>\n",
              "            <td>Australia</td>\n",
              "            <td>Oceania</td>\n",
              "            <td>Scott Morrison</td>\n",
              "        </tr>\n",
              "        <tr>\n",
              "            <td>Brunei</td>\n",
              "            <td>Asia</td>\n",
              "            <td>Hassanal Bolkiah</td>\n",
              "        </tr>\n",
              "        <tr>\n",
              "            <td>Chile</td>\n",
              "            <td>South America</td>\n",
              "            <td>None</td>\n",
              "        </tr>\n",
              "        <tr>\n",
              "            <td>Egypt</td>\n",
              "            <td>Africa</td>\n",
              "            <td>Mostafa Madbouly</td>\n",
              "        </tr>\n",
              "        <tr>\n",
              "            <td>India</td>\n",
              "            <td>Asia</td>\n",
              "            <td>Narendra Modi</td>\n",
              "        </tr>\n",
              "        <tr>\n",
              "            <td>Norway</td>\n",
              "            <td>Europe</td>\n",
              "            <td>Jonas Gahr Støre</td>\n",
              "        </tr>\n",
              "        <tr>\n",
              "            <td>Oman</td>\n",
              "            <td>Asia</td>\n",
              "            <td>Haitham bin Tarik</td>\n",
              "        </tr>\n",
              "        <tr>\n",
              "            <td>Pakistan</td>\n",
              "            <td>Asia</td>\n",
              "            <td>Shehbaz Sharif</td>\n",
              "        </tr>\n",
              "        <tr>\n",
              "            <td>Portugal</td>\n",
              "            <td>Europe</td>\n",
              "            <td>António Costa</td>\n",
              "        </tr>\n",
              "        <tr>\n",
              "            <td>Uruguay</td>\n",
              "            <td>South America</td>\n",
              "            <td>None</td>\n",
              "        </tr>\n",
              "        <tr>\n",
              "            <td>USA</td>\n",
              "            <td>North America</td>\n",
              "            <td>None</td>\n",
              "        </tr>\n",
              "    </tbody>\n",
              "</table>"
            ]
          },
          "metadata": {},
          "execution_count": 36
        }
      ]
    },
    {
      "cell_type": "code",
      "source": [
        "%%sql SELECT country,\n",
        "             continent,\n",
        "             (SELECT MIN(pm_start)\n",
        "             FROM prime_minister_terms AS p2\n",
        "             WHERE p2.prime_minister = p1.prime_minister) AS prime_minister\n",
        "FROM prime_ministers AS p1;"
      ],
      "metadata": {
        "colab": {
          "base_uri": "https://localhost:8080/",
          "height": 0
        },
        "id": "NQNopJVuJkg8",
        "outputId": "e2e27a49-aca3-4b8b-9125-48016d3d110b"
      },
      "execution_count": 37,
      "outputs": [
        {
          "output_type": "stream",
          "name": "stdout",
          "text": [
            " * sqlite://\n",
            "Done.\n"
          ]
        },
        {
          "output_type": "execute_result",
          "data": {
            "text/plain": [
              "[('Egypt', 'Africa', 2018),\n",
              " ('Portugal', 'Europe', 2015),\n",
              " ('Pakistan', 'Asia', 2022),\n",
              " ('United Kingdom', 'Europe', 2019),\n",
              " ('India', 'Asia', 2014),\n",
              " ('Australia', 'Oceania', 2018),\n",
              " ('Norway', 'Europe', 2021),\n",
              " ('Brunei', 'Asia', 1984),\n",
              " ('Oman', 'Asia', 2020),\n",
              " ('New Zealand', 'Oceania', 2017)]"
            ],
            "text/html": [
              "<table>\n",
              "    <thead>\n",
              "        <tr>\n",
              "            <th>country</th>\n",
              "            <th>continent</th>\n",
              "            <th>prime_minister</th>\n",
              "        </tr>\n",
              "    </thead>\n",
              "    <tbody>\n",
              "        <tr>\n",
              "            <td>Egypt</td>\n",
              "            <td>Africa</td>\n",
              "            <td>2018</td>\n",
              "        </tr>\n",
              "        <tr>\n",
              "            <td>Portugal</td>\n",
              "            <td>Europe</td>\n",
              "            <td>2015</td>\n",
              "        </tr>\n",
              "        <tr>\n",
              "            <td>Pakistan</td>\n",
              "            <td>Asia</td>\n",
              "            <td>2022</td>\n",
              "        </tr>\n",
              "        <tr>\n",
              "            <td>United Kingdom</td>\n",
              "            <td>Europe</td>\n",
              "            <td>2019</td>\n",
              "        </tr>\n",
              "        <tr>\n",
              "            <td>India</td>\n",
              "            <td>Asia</td>\n",
              "            <td>2014</td>\n",
              "        </tr>\n",
              "        <tr>\n",
              "            <td>Australia</td>\n",
              "            <td>Oceania</td>\n",
              "            <td>2018</td>\n",
              "        </tr>\n",
              "        <tr>\n",
              "            <td>Norway</td>\n",
              "            <td>Europe</td>\n",
              "            <td>2021</td>\n",
              "        </tr>\n",
              "        <tr>\n",
              "            <td>Brunei</td>\n",
              "            <td>Asia</td>\n",
              "            <td>1984</td>\n",
              "        </tr>\n",
              "        <tr>\n",
              "            <td>Oman</td>\n",
              "            <td>Asia</td>\n",
              "            <td>2020</td>\n",
              "        </tr>\n",
              "        <tr>\n",
              "            <td>New Zealand</td>\n",
              "            <td>Oceania</td>\n",
              "            <td>2017</td>\n",
              "        </tr>\n",
              "    </tbody>\n",
              "</table>"
            ]
          },
          "metadata": {},
          "execution_count": 37
        }
      ]
    },
    {
      "cell_type": "code",
      "source": [
        "%%sql SELECT country\n",
        "FROM presidents AS p1\n",
        "WHERE p1.president IN (SELECT prime_minister\n",
        "                      FROM prime_ministers AS p2\n",
        "                      WHERE p1.president=p2.prime_minister\n",
        "                      AND p1.country=p2.country);"
      ],
      "metadata": {
        "colab": {
          "base_uri": "https://localhost:8080/",
          "height": 0
        },
        "id": "GzgVXkhLKC6g",
        "outputId": "fe18e143-dffb-4a7e-f2d2-1ff563896ac0"
      },
      "execution_count": 38,
      "outputs": [
        {
          "output_type": "stream",
          "name": "stdout",
          "text": [
            " * sqlite://\n",
            "Done.\n"
          ]
        },
        {
          "output_type": "execute_result",
          "data": {
            "text/plain": [
              "[]"
            ],
            "text/html": [
              "<table>\n",
              "    <thead>\n",
              "        <tr>\n",
              "            <th>country</th>\n",
              "        </tr>\n",
              "    </thead>\n",
              "    <tbody>\n",
              "    </tbody>\n",
              "</table>"
            ]
          },
          "metadata": {},
          "execution_count": 38
        }
      ]
    },
    {
      "cell_type": "code",
      "source": [
        "%%sql SELECT country\n",
        "FROM prime_ministers AS p\n",
        "WHERE (SELECT COUNT(*)\n",
        "       FROM monarchs AS m\n",
        "       WHERE m.country = p.country\n",
        "       AND p.prime_minister = m.monarch);"
      ],
      "metadata": {
        "colab": {
          "base_uri": "https://localhost:8080/",
          "height": 0
        },
        "id": "uYys8IkcKoN7",
        "outputId": "a93aaefd-7794-477b-d2fd-78acc5b0f238"
      },
      "execution_count": 39,
      "outputs": [
        {
          "output_type": "stream",
          "name": "stdout",
          "text": [
            " * sqlite://\n",
            "Done.\n"
          ]
        },
        {
          "output_type": "execute_result",
          "data": {
            "text/plain": [
              "[('Brunei',), ('Oman',)]"
            ],
            "text/html": [
              "<table>\n",
              "    <thead>\n",
              "        <tr>\n",
              "            <th>country</th>\n",
              "        </tr>\n",
              "    </thead>\n",
              "    <tbody>\n",
              "        <tr>\n",
              "            <td>Brunei</td>\n",
              "        </tr>\n",
              "        <tr>\n",
              "            <td>Oman</td>\n",
              "        </tr>\n",
              "    </tbody>\n",
              "</table>"
            ]
          },
          "metadata": {},
          "execution_count": 39
        }
      ]
    },
    {
      "cell_type": "markdown",
      "source": [
        "##### Part 2 (*CTE*)"
      ],
      "metadata": {
        "id": "N01z1bUTW6Ky"
      }
    },
    {
      "cell_type": "code",
      "source": [
        "%%sql\n",
        "WITH a AS (SELECT 1 AS number)\n",
        "SELECT number FROM a;"
      ],
      "metadata": {
        "colab": {
          "base_uri": "https://localhost:8080/",
          "height": 0
        },
        "id": "zkHAxPOUXYSe",
        "outputId": "d9691bb0-ca72-4739-8c4c-8f8b7f15da29"
      },
      "execution_count": 40,
      "outputs": [
        {
          "output_type": "stream",
          "name": "stdout",
          "text": [
            " * sqlite://\n",
            "Done.\n"
          ]
        },
        {
          "output_type": "execute_result",
          "data": {
            "text/plain": [
              "[(1,)]"
            ],
            "text/html": [
              "<table>\n",
              "    <thead>\n",
              "        <tr>\n",
              "            <th>number</th>\n",
              "        </tr>\n",
              "    </thead>\n",
              "    <tbody>\n",
              "        <tr>\n",
              "            <td>1</td>\n",
              "        </tr>\n",
              "    </tbody>\n",
              "</table>"
            ]
          },
          "metadata": {},
          "execution_count": 40
        }
      ]
    },
    {
      "cell_type": "code",
      "source": [
        "%%sql\n",
        "WITH a AS (\n",
        "    SELECT\n",
        "        country,\n",
        "        continent,\n",
        "        (SELECT p1.prime_minister\n",
        "         FROM prime_minister_terms AS p1\n",
        "         INNER JOIN prime_ministers AS p2\n",
        "         USING(prime_minister)\n",
        "         WHERE p2.country = s.country\n",
        "         ORDER BY pm_start\n",
        "         LIMIT 1) AS prime_minister\n",
        "    FROM states AS s\n",
        ")\n",
        "SELECT * FROM a;"
      ],
      "metadata": {
        "colab": {
          "base_uri": "https://localhost:8080/",
          "height": 0
        },
        "id": "K5vPGpZBZe7W",
        "outputId": "0ec17943-4100-43d3-82cd-46f17d3e0c36"
      },
      "execution_count": 41,
      "outputs": [
        {
          "output_type": "stream",
          "name": "stdout",
          "text": [
            " * sqlite://\n",
            "Done.\n"
          ]
        },
        {
          "output_type": "execute_result",
          "data": {
            "text/plain": [
              "[('Australia', 'Oceania', 'Scott Morrison'),\n",
              " ('Brunei', 'Asia', 'Hassanal Bolkiah'),\n",
              " ('Chile', 'South America', None),\n",
              " ('Egypt', 'Africa', 'Mostafa Madbouly'),\n",
              " ('India', 'Asia', 'Narendra Modi'),\n",
              " ('Norway', 'Europe', 'Jonas Gahr Støre'),\n",
              " ('Oman', 'Asia', 'Haitham bin Tarik'),\n",
              " ('Pakistan', 'Asia', 'Shehbaz Sharif'),\n",
              " ('Portugal', 'Europe', 'António Costa'),\n",
              " ('Uruguay', 'South America', None),\n",
              " ('USA', 'North America', None)]"
            ],
            "text/html": [
              "<table>\n",
              "    <thead>\n",
              "        <tr>\n",
              "            <th>country</th>\n",
              "            <th>continent</th>\n",
              "            <th>prime_minister</th>\n",
              "        </tr>\n",
              "    </thead>\n",
              "    <tbody>\n",
              "        <tr>\n",
              "            <td>Australia</td>\n",
              "            <td>Oceania</td>\n",
              "            <td>Scott Morrison</td>\n",
              "        </tr>\n",
              "        <tr>\n",
              "            <td>Brunei</td>\n",
              "            <td>Asia</td>\n",
              "            <td>Hassanal Bolkiah</td>\n",
              "        </tr>\n",
              "        <tr>\n",
              "            <td>Chile</td>\n",
              "            <td>South America</td>\n",
              "            <td>None</td>\n",
              "        </tr>\n",
              "        <tr>\n",
              "            <td>Egypt</td>\n",
              "            <td>Africa</td>\n",
              "            <td>Mostafa Madbouly</td>\n",
              "        </tr>\n",
              "        <tr>\n",
              "            <td>India</td>\n",
              "            <td>Asia</td>\n",
              "            <td>Narendra Modi</td>\n",
              "        </tr>\n",
              "        <tr>\n",
              "            <td>Norway</td>\n",
              "            <td>Europe</td>\n",
              "            <td>Jonas Gahr Støre</td>\n",
              "        </tr>\n",
              "        <tr>\n",
              "            <td>Oman</td>\n",
              "            <td>Asia</td>\n",
              "            <td>Haitham bin Tarik</td>\n",
              "        </tr>\n",
              "        <tr>\n",
              "            <td>Pakistan</td>\n",
              "            <td>Asia</td>\n",
              "            <td>Shehbaz Sharif</td>\n",
              "        </tr>\n",
              "        <tr>\n",
              "            <td>Portugal</td>\n",
              "            <td>Europe</td>\n",
              "            <td>António Costa</td>\n",
              "        </tr>\n",
              "        <tr>\n",
              "            <td>Uruguay</td>\n",
              "            <td>South America</td>\n",
              "            <td>None</td>\n",
              "        </tr>\n",
              "        <tr>\n",
              "            <td>USA</td>\n",
              "            <td>North America</td>\n",
              "            <td>None</td>\n",
              "        </tr>\n",
              "    </tbody>\n",
              "</table>"
            ]
          },
          "metadata": {},
          "execution_count": 41
        }
      ]
    },
    {
      "cell_type": "code",
      "source": [
        "%%sql\n",
        "WITH a AS (\n",
        "    SELECT country,\n",
        "             continent,\n",
        "             (SELECT MIN(pm_start)\n",
        "             FROM prime_minister_terms AS p2\n",
        "             WHERE p2.prime_minister = p1.prime_minister) AS prime_minister\n",
        "    FROM prime_ministers AS p1\n",
        ")\n",
        "SELECT * FROM a;"
      ],
      "metadata": {
        "colab": {
          "base_uri": "https://localhost:8080/",
          "height": 0
        },
        "id": "JUcks4nYZnT6",
        "outputId": "1efed9fc-61c0-495d-d9ef-e79912dced29"
      },
      "execution_count": 42,
      "outputs": [
        {
          "output_type": "stream",
          "name": "stdout",
          "text": [
            " * sqlite://\n",
            "Done.\n"
          ]
        },
        {
          "output_type": "execute_result",
          "data": {
            "text/plain": [
              "[('Egypt', 'Africa', 2018),\n",
              " ('Portugal', 'Europe', 2015),\n",
              " ('Pakistan', 'Asia', 2022),\n",
              " ('United Kingdom', 'Europe', 2019),\n",
              " ('India', 'Asia', 2014),\n",
              " ('Australia', 'Oceania', 2018),\n",
              " ('Norway', 'Europe', 2021),\n",
              " ('Brunei', 'Asia', 1984),\n",
              " ('Oman', 'Asia', 2020),\n",
              " ('New Zealand', 'Oceania', 2017)]"
            ],
            "text/html": [
              "<table>\n",
              "    <thead>\n",
              "        <tr>\n",
              "            <th>country</th>\n",
              "            <th>continent</th>\n",
              "            <th>prime_minister</th>\n",
              "        </tr>\n",
              "    </thead>\n",
              "    <tbody>\n",
              "        <tr>\n",
              "            <td>Egypt</td>\n",
              "            <td>Africa</td>\n",
              "            <td>2018</td>\n",
              "        </tr>\n",
              "        <tr>\n",
              "            <td>Portugal</td>\n",
              "            <td>Europe</td>\n",
              "            <td>2015</td>\n",
              "        </tr>\n",
              "        <tr>\n",
              "            <td>Pakistan</td>\n",
              "            <td>Asia</td>\n",
              "            <td>2022</td>\n",
              "        </tr>\n",
              "        <tr>\n",
              "            <td>United Kingdom</td>\n",
              "            <td>Europe</td>\n",
              "            <td>2019</td>\n",
              "        </tr>\n",
              "        <tr>\n",
              "            <td>India</td>\n",
              "            <td>Asia</td>\n",
              "            <td>2014</td>\n",
              "        </tr>\n",
              "        <tr>\n",
              "            <td>Australia</td>\n",
              "            <td>Oceania</td>\n",
              "            <td>2018</td>\n",
              "        </tr>\n",
              "        <tr>\n",
              "            <td>Norway</td>\n",
              "            <td>Europe</td>\n",
              "            <td>2021</td>\n",
              "        </tr>\n",
              "        <tr>\n",
              "            <td>Brunei</td>\n",
              "            <td>Asia</td>\n",
              "            <td>1984</td>\n",
              "        </tr>\n",
              "        <tr>\n",
              "            <td>Oman</td>\n",
              "            <td>Asia</td>\n",
              "            <td>2020</td>\n",
              "        </tr>\n",
              "        <tr>\n",
              "            <td>New Zealand</td>\n",
              "            <td>Oceania</td>\n",
              "            <td>2017</td>\n",
              "        </tr>\n",
              "    </tbody>\n",
              "</table>"
            ]
          },
          "metadata": {},
          "execution_count": 42
        }
      ]
    },
    {
      "cell_type": "code",
      "source": [
        "%%sql\n",
        "WITH a AS (\n",
        "    SELECT country\n",
        "    FROM presidents AS p1\n",
        "    WHERE p1.president IN (SELECT prime_minister\n",
        "                      FROM prime_ministers AS p2\n",
        "                      WHERE p1.president=p2.prime_minister\n",
        "                      AND p1.country=p2.country)\n",
        ")\n",
        "SELECT * FROM a;"
      ],
      "metadata": {
        "colab": {
          "base_uri": "https://localhost:8080/",
          "height": 0
        },
        "id": "8iaAIV23Zubp",
        "outputId": "57ae209f-6567-4a3e-9ff6-673695fa4e40"
      },
      "execution_count": 43,
      "outputs": [
        {
          "output_type": "stream",
          "name": "stdout",
          "text": [
            " * sqlite://\n",
            "Done.\n"
          ]
        },
        {
          "output_type": "execute_result",
          "data": {
            "text/plain": [
              "[]"
            ],
            "text/html": [
              "<table>\n",
              "    <thead>\n",
              "        <tr>\n",
              "            <th>country</th>\n",
              "        </tr>\n",
              "    </thead>\n",
              "    <tbody>\n",
              "    </tbody>\n",
              "</table>"
            ]
          },
          "metadata": {},
          "execution_count": 43
        }
      ]
    },
    {
      "cell_type": "code",
      "source": [
        "%%sql\n",
        "WITH a AS (\n",
        "    SELECT country\n",
        "    FROM prime_ministers AS p\n",
        "    WHERE (SELECT COUNT(*)\n",
        "           FROM monarchs AS m\n",
        "           WHERE m.country = p.country\n",
        "           AND p.prime_minister = m.monarch)\n",
        ")\n",
        "SELECT * FROM a;"
      ],
      "metadata": {
        "colab": {
          "base_uri": "https://localhost:8080/",
          "height": 0
        },
        "id": "_9PkMD97Z7WW",
        "outputId": "930c3786-1d5e-4037-f9f7-a5ddc76ab31c"
      },
      "execution_count": 44,
      "outputs": [
        {
          "output_type": "stream",
          "name": "stdout",
          "text": [
            " * sqlite://\n",
            "Done.\n"
          ]
        },
        {
          "output_type": "execute_result",
          "data": {
            "text/plain": [
              "[('Brunei',), ('Oman',)]"
            ],
            "text/html": [
              "<table>\n",
              "    <thead>\n",
              "        <tr>\n",
              "            <th>country</th>\n",
              "        </tr>\n",
              "    </thead>\n",
              "    <tbody>\n",
              "        <tr>\n",
              "            <td>Brunei</td>\n",
              "        </tr>\n",
              "        <tr>\n",
              "            <td>Oman</td>\n",
              "        </tr>\n",
              "    </tbody>\n",
              "</table>"
            ]
          },
          "metadata": {},
          "execution_count": 44
        }
      ]
    },
    {
      "cell_type": "markdown",
      "source": [
        "##### Result (*Home work*)"
      ],
      "metadata": {
        "id": "tn_9eHglIPYb"
      }
    },
    {
      "cell_type": "markdown",
      "source": [
        "**Simple Subquery in SELECT**\n",
        "\n",
        "Write a query to list all countries along with their continent and the earliest pm_start year for each country.\n",
        "Use a simple subquery within the SELECT clause to find the earliest pm_start for each country."
      ],
      "metadata": {
        "id": "yjnyYWXyJhgS"
      }
    },
    {
      "cell_type": "code",
      "source": [
        "%%sql SELECT country,\n",
        "             continent,\n",
        "             (SELECT MIN(pm_start)\n",
        "             FROM prime_minister_terms AS p2\n",
        "             WHERE p2.prime_minister = p1.prime_minister) AS prime_minister\n",
        "FROM prime_ministers AS p1;"
      ],
      "metadata": {
        "colab": {
          "base_uri": "https://localhost:8080/",
          "height": 285
        },
        "id": "0uOMPwg9IVZW",
        "outputId": "d6ff2b58-59ac-4c27-972c-807139fcf875"
      },
      "execution_count": 45,
      "outputs": [
        {
          "output_type": "stream",
          "name": "stdout",
          "text": [
            " * sqlite://\n",
            "Done.\n"
          ]
        },
        {
          "output_type": "execute_result",
          "data": {
            "text/plain": [
              "[('Egypt', 'Africa', 2018),\n",
              " ('Portugal', 'Europe', 2015),\n",
              " ('Pakistan', 'Asia', 2022),\n",
              " ('United Kingdom', 'Europe', 2019),\n",
              " ('India', 'Asia', 2014),\n",
              " ('Australia', 'Oceania', 2018),\n",
              " ('Norway', 'Europe', 2021),\n",
              " ('Brunei', 'Asia', 1984),\n",
              " ('Oman', 'Asia', 2020),\n",
              " ('New Zealand', 'Oceania', 2017)]"
            ],
            "text/html": [
              "<table>\n",
              "    <thead>\n",
              "        <tr>\n",
              "            <th>country</th>\n",
              "            <th>continent</th>\n",
              "            <th>prime_minister</th>\n",
              "        </tr>\n",
              "    </thead>\n",
              "    <tbody>\n",
              "        <tr>\n",
              "            <td>Egypt</td>\n",
              "            <td>Africa</td>\n",
              "            <td>2018</td>\n",
              "        </tr>\n",
              "        <tr>\n",
              "            <td>Portugal</td>\n",
              "            <td>Europe</td>\n",
              "            <td>2015</td>\n",
              "        </tr>\n",
              "        <tr>\n",
              "            <td>Pakistan</td>\n",
              "            <td>Asia</td>\n",
              "            <td>2022</td>\n",
              "        </tr>\n",
              "        <tr>\n",
              "            <td>United Kingdom</td>\n",
              "            <td>Europe</td>\n",
              "            <td>2019</td>\n",
              "        </tr>\n",
              "        <tr>\n",
              "            <td>India</td>\n",
              "            <td>Asia</td>\n",
              "            <td>2014</td>\n",
              "        </tr>\n",
              "        <tr>\n",
              "            <td>Australia</td>\n",
              "            <td>Oceania</td>\n",
              "            <td>2018</td>\n",
              "        </tr>\n",
              "        <tr>\n",
              "            <td>Norway</td>\n",
              "            <td>Europe</td>\n",
              "            <td>2021</td>\n",
              "        </tr>\n",
              "        <tr>\n",
              "            <td>Brunei</td>\n",
              "            <td>Asia</td>\n",
              "            <td>1984</td>\n",
              "        </tr>\n",
              "        <tr>\n",
              "            <td>Oman</td>\n",
              "            <td>Asia</td>\n",
              "            <td>2020</td>\n",
              "        </tr>\n",
              "        <tr>\n",
              "            <td>New Zealand</td>\n",
              "            <td>Oceania</td>\n",
              "            <td>2017</td>\n",
              "        </tr>\n",
              "    </tbody>\n",
              "</table>"
            ]
          },
          "metadata": {},
          "execution_count": 45
        }
      ]
    },
    {
      "cell_type": "markdown",
      "source": [
        "**Simple Subquery in WHERE**\n",
        "\n",
        "Write a query to list all countries where the president's name is the same as the prime minister's name.\n",
        "Use a simple subquery within the WHERE clause to compare the names."
      ],
      "metadata": {
        "id": "KeZ8QEELJ-Pz"
      }
    },
    {
      "cell_type": "code",
      "source": [
        "# 1 Simple Subquery\n",
        "%%sql SELECT country\n",
        "FROM presidents\n",
        "WHERE president IN (\n",
        "    SELECT prime_minister\n",
        "    FROM prime_ministers\n",
        "    WHERE country IN (SELECT country\n",
        "                      FROM presidents)\n",
        ");"
      ],
      "metadata": {
        "colab": {
          "base_uri": "https://localhost:8080/",
          "height": 75
        },
        "id": "EM573im_LCFn",
        "outputId": "03be7d63-8164-419d-f8d8-7c104d940d2e"
      },
      "execution_count": 46,
      "outputs": [
        {
          "output_type": "stream",
          "name": "stdout",
          "text": [
            " * sqlite://\n",
            "Done.\n"
          ]
        },
        {
          "output_type": "execute_result",
          "data": {
            "text/plain": [
              "[]"
            ],
            "text/html": [
              "<table>\n",
              "    <thead>\n",
              "        <tr>\n",
              "            <th>country</th>\n",
              "        </tr>\n",
              "    </thead>\n",
              "    <tbody>\n",
              "    </tbody>\n",
              "</table>"
            ]
          },
          "metadata": {},
          "execution_count": 46
        }
      ]
    },
    {
      "cell_type": "code",
      "source": [
        "# 2\n",
        "%%sql SELECT country\n",
        "FROM presidents AS p1\n",
        "WHERE p1.president IN (SELECT prime_minister\n",
        "                      FROM prime_ministers AS p2\n",
        "                      WHERE p1.country=p2.country);"
      ],
      "metadata": {
        "colab": {
          "base_uri": "https://localhost:8080/",
          "height": 75
        },
        "id": "_KNjBxskKEfF",
        "outputId": "d95ffe58-c6d9-44c3-ccfc-7f041239af53"
      },
      "execution_count": 47,
      "outputs": [
        {
          "output_type": "stream",
          "name": "stdout",
          "text": [
            " * sqlite://\n",
            "Done.\n"
          ]
        },
        {
          "output_type": "execute_result",
          "data": {
            "text/plain": [
              "[]"
            ],
            "text/html": [
              "<table>\n",
              "    <thead>\n",
              "        <tr>\n",
              "            <th>country</th>\n",
              "        </tr>\n",
              "    </thead>\n",
              "    <tbody>\n",
              "    </tbody>\n",
              "</table>"
            ]
          },
          "metadata": {},
          "execution_count": 47
        }
      ]
    },
    {
      "cell_type": "code",
      "source": [
        "# 3\n",
        "%%sql SELECT country\n",
        "FROM presidents AS p1\n",
        "WHERE (SELECT COUNT(*)\n",
        "       FROM prime_ministers AS p2\n",
        "       WHERE p1.president=p2.prime_minister\n",
        "       AND p1.country=p2.country);"
      ],
      "metadata": {
        "colab": {
          "base_uri": "https://localhost:8080/",
          "height": 75
        },
        "id": "8Z55R8Z1KLU_",
        "outputId": "1949317d-df94-43ba-e4e6-d04808166678"
      },
      "execution_count": 48,
      "outputs": [
        {
          "output_type": "stream",
          "name": "stdout",
          "text": [
            " * sqlite://\n",
            "Done.\n"
          ]
        },
        {
          "output_type": "execute_result",
          "data": {
            "text/plain": [
              "[]"
            ],
            "text/html": [
              "<table>\n",
              "    <thead>\n",
              "        <tr>\n",
              "            <th>country</th>\n",
              "        </tr>\n",
              "    </thead>\n",
              "    <tbody>\n",
              "    </tbody>\n",
              "</table>"
            ]
          },
          "metadata": {},
          "execution_count": 48
        }
      ]
    },
    {
      "cell_type": "markdown",
      "source": [
        "**Correlated Subquery in SELECT**\n",
        "\n",
        "Write a query to list all countries along with their continent and the most recent pm_start year for each country.\n",
        "Use a correlated subquery within the SELECT clause to find the most recent pm_start for each country."
      ],
      "metadata": {
        "id": "r_sCA3EyKdyf"
      }
    },
    {
      "cell_type": "code",
      "source": [
        "%%sql SELECT country,\n",
        "             continent,\n",
        "             (SELECT MAX(pm_start)\n",
        "             FROM prime_minister_terms AS p2\n",
        "             WHERE p2.prime_minister = p1.prime_minister) AS prime_minister\n",
        "FROM prime_ministers AS p1;"
      ],
      "metadata": {
        "colab": {
          "base_uri": "https://localhost:8080/",
          "height": 285
        },
        "id": "J5DDrVrXKgBq",
        "outputId": "3f2c880f-04a7-47b3-eae2-5da48f5c4b21"
      },
      "execution_count": 49,
      "outputs": [
        {
          "output_type": "stream",
          "name": "stdout",
          "text": [
            " * sqlite://\n",
            "Done.\n"
          ]
        },
        {
          "output_type": "execute_result",
          "data": {
            "text/plain": [
              "[('Egypt', 'Africa', 2018),\n",
              " ('Portugal', 'Europe', 2015),\n",
              " ('Pakistan', 'Asia', 2022),\n",
              " ('United Kingdom', 'Europe', 2019),\n",
              " ('India', 'Asia', 2014),\n",
              " ('Australia', 'Oceania', 2018),\n",
              " ('Norway', 'Europe', 2021),\n",
              " ('Brunei', 'Asia', 1984),\n",
              " ('Oman', 'Asia', 2020),\n",
              " ('New Zealand', 'Oceania', 2017)]"
            ],
            "text/html": [
              "<table>\n",
              "    <thead>\n",
              "        <tr>\n",
              "            <th>country</th>\n",
              "            <th>continent</th>\n",
              "            <th>prime_minister</th>\n",
              "        </tr>\n",
              "    </thead>\n",
              "    <tbody>\n",
              "        <tr>\n",
              "            <td>Egypt</td>\n",
              "            <td>Africa</td>\n",
              "            <td>2018</td>\n",
              "        </tr>\n",
              "        <tr>\n",
              "            <td>Portugal</td>\n",
              "            <td>Europe</td>\n",
              "            <td>2015</td>\n",
              "        </tr>\n",
              "        <tr>\n",
              "            <td>Pakistan</td>\n",
              "            <td>Asia</td>\n",
              "            <td>2022</td>\n",
              "        </tr>\n",
              "        <tr>\n",
              "            <td>United Kingdom</td>\n",
              "            <td>Europe</td>\n",
              "            <td>2019</td>\n",
              "        </tr>\n",
              "        <tr>\n",
              "            <td>India</td>\n",
              "            <td>Asia</td>\n",
              "            <td>2014</td>\n",
              "        </tr>\n",
              "        <tr>\n",
              "            <td>Australia</td>\n",
              "            <td>Oceania</td>\n",
              "            <td>2018</td>\n",
              "        </tr>\n",
              "        <tr>\n",
              "            <td>Norway</td>\n",
              "            <td>Europe</td>\n",
              "            <td>2021</td>\n",
              "        </tr>\n",
              "        <tr>\n",
              "            <td>Brunei</td>\n",
              "            <td>Asia</td>\n",
              "            <td>1984</td>\n",
              "        </tr>\n",
              "        <tr>\n",
              "            <td>Oman</td>\n",
              "            <td>Asia</td>\n",
              "            <td>2020</td>\n",
              "        </tr>\n",
              "        <tr>\n",
              "            <td>New Zealand</td>\n",
              "            <td>Oceania</td>\n",
              "            <td>2017</td>\n",
              "        </tr>\n",
              "    </tbody>\n",
              "</table>"
            ]
          },
          "metadata": {},
          "execution_count": 49
        }
      ]
    },
    {
      "cell_type": "markdown",
      "source": [
        "**Correlated Subquery in WHERE**\n",
        "\n",
        "Write a query to list all countries that have more than one prime minister who started their term after 2000.\n",
        "Use a correlated subquery within the WHERE clause to filter countries based on the count of prime ministers."
      ],
      "metadata": {
        "id": "Rk3S8tjDLwuj"
      }
    },
    {
      "cell_type": "code",
      "source": [
        "%%sql SELECT country\n",
        "FROM prime_ministers AS pm1\n",
        "WHERE (\n",
        "    SELECT COUNT(*)\n",
        "    FROM prime_ministers AS pm2\n",
        "    INNER JOIN prime_minister_terms AS pmt\n",
        "    ON pm2.prime_minister = pmt.prime_minister\n",
        "    WHERE pm2.country = pm1.country\n",
        "    AND pmt.pm_start > '2000'\n",
        ") > 1\n",
        "GROUP BY country;"
      ],
      "metadata": {
        "colab": {
          "base_uri": "https://localhost:8080/",
          "height": 75
        },
        "id": "kH467NHfLy-L",
        "outputId": "55deb09a-b615-4122-e18e-84333f47fccf"
      },
      "execution_count": 50,
      "outputs": [
        {
          "output_type": "stream",
          "name": "stdout",
          "text": [
            " * sqlite://\n",
            "Done.\n"
          ]
        },
        {
          "output_type": "execute_result",
          "data": {
            "text/plain": [
              "[]"
            ],
            "text/html": [
              "<table>\n",
              "    <thead>\n",
              "        <tr>\n",
              "            <th>country</th>\n",
              "        </tr>\n",
              "    </thead>\n",
              "    <tbody>\n",
              "    </tbody>\n",
              "</table>"
            ]
          },
          "metadata": {},
          "execution_count": 50
        }
      ]
    },
    {
      "cell_type": "markdown",
      "source": [
        "**Nested Subquery in SELECT**\n",
        "\n",
        "Write a query to list all countries along with the name of the prime minister who started the earliest term in the continent that has the most countries.\n",
        "Use nested subqueries in the SELECT clause to find the prime minister's name."
      ],
      "metadata": {
        "id": "Bt6HXlwSOrlk"
      }
    },
    {
      "cell_type": "code",
      "source": [
        "%%sql\n",
        "SELECT country,\n",
        "       continent,\n",
        "       (SELECT prime_minister\n",
        "        FROM prime_minister_terms AS pmt\n",
        "        WHERE pmt.pm_start = (\n",
        "            SELECT MIN(pm_start)\n",
        "            FROM prime_minister_terms AS pmt2\n",
        "            INNER JOIN prime_ministers AS pm\n",
        "            ON pmt2.prime_minister = pm.prime_minister\n",
        "            WHERE pmt2.prime_minister = pmt.prime_minister\n",
        "            AND pm.country = s.country\n",
        "        )) AS prime_minister\n",
        "FROM states AS s\n",
        "WHERE continent = (\n",
        "    SELECT continent\n",
        "    FROM states\n",
        "    GROUP BY continent\n",
        "    ORDER BY COUNT(*) DESC\n",
        "    LIMIT 1\n",
        ");"
      ],
      "metadata": {
        "id": "d0J2YklFPolp",
        "colab": {
          "base_uri": "https://localhost:8080/",
          "height": 159
        },
        "outputId": "82f8be9d-eb68-4fe5-eab5-834a60f26e03"
      },
      "execution_count": 51,
      "outputs": [
        {
          "output_type": "stream",
          "name": "stdout",
          "text": [
            " * sqlite://\n",
            "Done.\n"
          ]
        },
        {
          "output_type": "execute_result",
          "data": {
            "text/plain": [
              "[('Brunei', 'Asia', 'Hassanal Bolkiah'),\n",
              " ('India', 'Asia', 'Narendra Modi'),\n",
              " ('Oman', 'Asia', 'Haitham bin Tarik'),\n",
              " ('Pakistan', 'Asia', 'Shehbaz Sharif')]"
            ],
            "text/html": [
              "<table>\n",
              "    <thead>\n",
              "        <tr>\n",
              "            <th>country</th>\n",
              "            <th>continent</th>\n",
              "            <th>prime_minister</th>\n",
              "        </tr>\n",
              "    </thead>\n",
              "    <tbody>\n",
              "        <tr>\n",
              "            <td>Brunei</td>\n",
              "            <td>Asia</td>\n",
              "            <td>Hassanal Bolkiah</td>\n",
              "        </tr>\n",
              "        <tr>\n",
              "            <td>India</td>\n",
              "            <td>Asia</td>\n",
              "            <td>Narendra Modi</td>\n",
              "        </tr>\n",
              "        <tr>\n",
              "            <td>Oman</td>\n",
              "            <td>Asia</td>\n",
              "            <td>Haitham bin Tarik</td>\n",
              "        </tr>\n",
              "        <tr>\n",
              "            <td>Pakistan</td>\n",
              "            <td>Asia</td>\n",
              "            <td>Shehbaz Sharif</td>\n",
              "        </tr>\n",
              "    </tbody>\n",
              "</table>"
            ]
          },
          "metadata": {},
          "execution_count": 51
        }
      ]
    },
    {
      "cell_type": "markdown",
      "source": [
        "**Nested Subquery in WHERE**\n",
        "\n",
        "Write a query to list all countries where the president's name matches the prime minister's name in the continent that has the highest average independence year.\n",
        "Use nested subqueries in the WHERE clause to filter the countries."
      ],
      "metadata": {
        "id": "KkGyFh-jQKaC"
      }
    },
    {
      "cell_type": "code",
      "source": [
        "# Mysql yokiy Postgresql uchun\n",
        "# %%sql\n",
        "# WITH mcha AS (\n",
        "#     SELECT continent\n",
        "#     FROM states\n",
        "#     GROUP BY continent\n",
        "#     ORDER BY AVG(indep_year) DESC\n",
        "#     LIMIT 1\n",
        "# )\n",
        "\n",
        "# SELECT country, continent\n",
        "# FROM states AS s\n",
        "# WHERE continent IN mcha\n",
        "# AND country in (\n",
        "#     SELECT T2.country\n",
        "#   FROM presidents AS p\n",
        "#   INNER JOIN prime_ministers AS pm\n",
        "#   ON MATCH(p.president) AGAINST(pm.prime_minister)\n",
        "#   WHERE p.country = pm.country\n",
        "#   AND p.country = s.country\n",
        "# )"
      ],
      "metadata": {
        "id": "V0cBvbcIQJVN"
      },
      "execution_count": 72,
      "outputs": []
    },
    {
      "cell_type": "code",
      "source": [
        "%%sql\n",
        "WITH mcha AS (\n",
        "    SELECT continent\n",
        "    FROM states\n",
        "    GROUP BY continent\n",
        "    ORDER BY AVG(indep_year) DESC\n",
        "    LIMIT 1\n",
        ")\n",
        "\n",
        "SELECT country, continent\n",
        "FROM states AS s\n",
        "WHERE continent IN mcha\n",
        "AND country in (\n",
        "    SELECT p.country\n",
        "    FROM presidents AS p\n",
        "    INNER JOIN prime_ministers AS pm\n",
        "    ON p.country = pm.country\n",
        "    WHERE p.president = pm.prime_minister\n",
        "    AND p.country = s.country\n",
        ")"
      ],
      "metadata": {
        "id": "sT1Wg482QCfd",
        "outputId": "7d593169-f0af-40f4-c89e-0bc9f51d7795",
        "colab": {
          "base_uri": "https://localhost:8080/",
          "height": 75
        }
      },
      "execution_count": 75,
      "outputs": [
        {
          "output_type": "stream",
          "name": "stdout",
          "text": [
            " * sqlite://\n",
            "Done.\n"
          ]
        },
        {
          "output_type": "execute_result",
          "data": {
            "text/plain": [
              "[]"
            ],
            "text/html": [
              "<table>\n",
              "    <thead>\n",
              "        <tr>\n",
              "            <th>country</th>\n",
              "            <th>continent</th>\n",
              "        </tr>\n",
              "    </thead>\n",
              "    <tbody>\n",
              "    </tbody>\n",
              "</table>"
            ]
          },
          "metadata": {},
          "execution_count": 75
        }
      ]
    }
  ]
}