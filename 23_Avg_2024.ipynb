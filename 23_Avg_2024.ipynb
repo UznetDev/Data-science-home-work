{
  "nbformat": 4,
  "nbformat_minor": 0,
  "metadata": {
    "colab": {
      "provenance": [],
      "collapsed_sections": [
        "4yHz4zewqni4",
        "NS6j93AQiH7B"
      ],
      "authorship_tag": "ABX9TyMVNWW7YXrQQ9N1ZrWIIPm0",
      "include_colab_link": true
    },
    "kernelspec": {
      "name": "python3",
      "display_name": "Python 3"
    },
    "language_info": {
      "name": "python"
    }
  },
  "cells": [
    {
      "cell_type": "markdown",
      "metadata": {
        "id": "view-in-github",
        "colab_type": "text"
      },
      "source": [
        "<a href=\"https://colab.research.google.com/github/UznetDev/Data-science-home-work/blob/main/23_Avg_2024.ipynb\" target=\"_parent\"><img src=\"https://colab.research.google.com/assets/colab-badge.svg\" alt=\"Open In Colab\"/></a>"
      ]
    },
    {
      "cell_type": "markdown",
      "source": [
        "# **SQL**"
      ],
      "metadata": {
        "id": "GZxK2bDnj6_Q"
      }
    },
    {
      "cell_type": "markdown",
      "source": [
        "### Import librares"
      ],
      "metadata": {
        "id": "4yHz4zewqni4"
      }
    },
    {
      "cell_type": "code",
      "execution_count": 5,
      "metadata": {
        "id": "zpHxL5F4hVc9"
      },
      "outputs": [],
      "source": [
        "import pandas as pd"
      ]
    },
    {
      "cell_type": "markdown",
      "source": [
        "### Set-up"
      ],
      "metadata": {
        "id": "NS6j93AQiH7B"
      }
    },
    {
      "cell_type": "code",
      "source": [
        "%load_ext sql\n",
        "%sql sqlite://"
      ],
      "metadata": {
        "id": "_cyIAPu-iBED",
        "colab": {
          "base_uri": "https://localhost:8080/"
        },
        "outputId": "810d2e3f-f1b5-42af-ac2a-e1b5f9a704d8"
      },
      "execution_count": 6,
      "outputs": [
        {
          "output_type": "stream",
          "name": "stdout",
          "text": [
            "The sql extension is already loaded. To reload it, use:\n",
            "  %reload_ext sql\n"
          ]
        }
      ]
    },
    {
      "cell_type": "code",
      "source": [
        "monarchs = pd.read_csv('monarchs.csv')\n",
        "presidents = pd.read_csv('presidents.csv')\n",
        "prime_minister_terms = pd.read_csv('prime_minister_terms.csv')\n",
        "prime_ministers = pd.read_csv('prime_ministers.csv')\n",
        "states = pd.read_csv('states.csv')"
      ],
      "metadata": {
        "id": "fWsxJNZ2ir-H"
      },
      "execution_count": 7,
      "outputs": []
    },
    {
      "cell_type": "code",
      "source": [
        "%sql DROP TABLE IF EXISTS monarchs;\n",
        "%sql --persist monarchs\n",
        "\n",
        "%sql DROP TABLE IF EXISTS presidents;\n",
        "%sql --persist presidents\n",
        "\n",
        "%sql DROP TABLE IF EXISTS prime_minister_terms;\n",
        "%sql --persist prime_minister_terms\n",
        "\n",
        "%sql DROP TABLE IF EXISTS prime_ministers;\n",
        "%sql --persist prime_ministers\n",
        "\n",
        "%sql DROP TABLE IF EXISTS states;\n",
        "%sql --persist states"
      ],
      "metadata": {
        "colab": {
          "base_uri": "https://localhost:8080/",
          "height": 0
        },
        "id": "gCxdrMMXi34q",
        "outputId": "3d2983d5-d651-41c5-f9b1-05a79b449f7b"
      },
      "execution_count": 8,
      "outputs": [
        {
          "output_type": "stream",
          "name": "stdout",
          "text": [
            " * sqlite://\n",
            "Done.\n",
            " * sqlite://\n",
            " * sqlite://\n",
            "Done.\n",
            " * sqlite://\n",
            " * sqlite://\n",
            "Done.\n",
            " * sqlite://\n",
            " * sqlite://\n",
            "Done.\n",
            " * sqlite://\n",
            " * sqlite://\n",
            "Done.\n",
            " * sqlite://\n"
          ]
        },
        {
          "output_type": "execute_result",
          "data": {
            "text/plain": [
              "'Persisted states'"
            ],
            "application/vnd.google.colaboratory.intrinsic+json": {
              "type": "string"
            }
          },
          "metadata": {},
          "execution_count": 8
        }
      ]
    },
    {
      "cell_type": "markdown",
      "source": [
        "### *Class work*"
      ],
      "metadata": {
        "id": "oh7WfJ_5pEuG"
      }
    },
    {
      "cell_type": "code",
      "source": [
        "%%sql SELECT monarch, country\n",
        "FROM monarchs\n",
        "EXCEPT\n",
        "SELECT prime_minister, country\n",
        "FROM prime_ministers;"
      ],
      "metadata": {
        "colab": {
          "base_uri": "https://localhost:8080/",
          "height": 117
        },
        "id": "xXWE9BqQoZb5",
        "outputId": "41e3f3c8-95d3-48c1-f2dd-7233e04dcb95"
      },
      "execution_count": 9,
      "outputs": [
        {
          "output_type": "stream",
          "name": "stdout",
          "text": [
            " * sqlite://\n",
            "Done.\n"
          ]
        },
        {
          "output_type": "execute_result",
          "data": {
            "text/plain": [
              "[('Harald V', 'Norway'), ('Queen Elizabeth II', 'United Kingdom')]"
            ],
            "text/html": [
              "<table>\n",
              "    <thead>\n",
              "        <tr>\n",
              "            <th>monarch</th>\n",
              "            <th>country</th>\n",
              "        </tr>\n",
              "    </thead>\n",
              "    <tbody>\n",
              "        <tr>\n",
              "            <td>Harald V</td>\n",
              "            <td>Norway</td>\n",
              "        </tr>\n",
              "        <tr>\n",
              "            <td>Queen Elizabeth II</td>\n",
              "            <td>United Kingdom</td>\n",
              "        </tr>\n",
              "    </tbody>\n",
              "</table>"
            ]
          },
          "metadata": {},
          "execution_count": 9
        }
      ]
    },
    {
      "cell_type": "code",
      "source": [
        "%%sql SELECT country, continent, president\n",
        "FROM presidents;"
      ],
      "metadata": {
        "colab": {
          "base_uri": "https://localhost:8080/",
          "height": 222
        },
        "id": "tsiruc36o8gc",
        "outputId": "018cd51b-7000-4160-d0b2-cd92b7df5033"
      },
      "execution_count": 13,
      "outputs": [
        {
          "output_type": "stream",
          "name": "stdout",
          "text": [
            " * sqlite://\n",
            "Done.\n"
          ]
        },
        {
          "output_type": "execute_result",
          "data": {
            "text/plain": [
              "[('Egypt', 'Africa', 'Abdel Fattah el-Sisi'),\n",
              " ('Portugal', 'Europe', 'Marcelo Rebelo de Sousa'),\n",
              " ('USA', 'North America', 'Joe Biden'),\n",
              " ('Uruguay', 'South America', 'Luis Lacalle Pou'),\n",
              " ('Pakistan', 'Asia', 'Arif Alvi'),\n",
              " ('Chile', 'South America', 'Gabriel Boric'),\n",
              " ('India', 'Asia', 'Ram Nath Kovind')]"
            ],
            "text/html": [
              "<table>\n",
              "    <thead>\n",
              "        <tr>\n",
              "            <th>country</th>\n",
              "            <th>continent</th>\n",
              "            <th>president</th>\n",
              "        </tr>\n",
              "    </thead>\n",
              "    <tbody>\n",
              "        <tr>\n",
              "            <td>Egypt</td>\n",
              "            <td>Africa</td>\n",
              "            <td>Abdel Fattah el-Sisi</td>\n",
              "        </tr>\n",
              "        <tr>\n",
              "            <td>Portugal</td>\n",
              "            <td>Europe</td>\n",
              "            <td>Marcelo Rebelo de Sousa</td>\n",
              "        </tr>\n",
              "        <tr>\n",
              "            <td>USA</td>\n",
              "            <td>North America</td>\n",
              "            <td>Joe Biden</td>\n",
              "        </tr>\n",
              "        <tr>\n",
              "            <td>Uruguay</td>\n",
              "            <td>South America</td>\n",
              "            <td>Luis Lacalle Pou</td>\n",
              "        </tr>\n",
              "        <tr>\n",
              "            <td>Pakistan</td>\n",
              "            <td>Asia</td>\n",
              "            <td>Arif Alvi</td>\n",
              "        </tr>\n",
              "        <tr>\n",
              "            <td>Chile</td>\n",
              "            <td>South America</td>\n",
              "            <td>Gabriel Boric</td>\n",
              "        </tr>\n",
              "        <tr>\n",
              "            <td>India</td>\n",
              "            <td>Asia</td>\n",
              "            <td>Ram Nath Kovind</td>\n",
              "        </tr>\n",
              "    </tbody>\n",
              "</table>"
            ]
          },
          "metadata": {},
          "execution_count": 13
        }
      ]
    },
    {
      "cell_type": "code",
      "source": [
        "%%sql SELECT country\n",
        "FROM states\n",
        "WHERE indep_year < 1800;"
      ],
      "metadata": {
        "colab": {
          "base_uri": "https://localhost:8080/",
          "height": 117
        },
        "id": "Ksje8a--rSxb",
        "outputId": "0d616ca0-7a58-4cc3-b84a-9b6920dc7db7"
      },
      "execution_count": 14,
      "outputs": [
        {
          "output_type": "stream",
          "name": "stdout",
          "text": [
            " * sqlite://\n",
            "Done.\n"
          ]
        },
        {
          "output_type": "execute_result",
          "data": {
            "text/plain": [
              "[('Portugal',), ('USA',)]"
            ],
            "text/html": [
              "<table>\n",
              "    <thead>\n",
              "        <tr>\n",
              "            <th>country</th>\n",
              "        </tr>\n",
              "    </thead>\n",
              "    <tbody>\n",
              "        <tr>\n",
              "            <td>Portugal</td>\n",
              "        </tr>\n",
              "        <tr>\n",
              "            <td>USA</td>\n",
              "        </tr>\n",
              "    </tbody>\n",
              "</table>"
            ]
          },
          "metadata": {},
          "execution_count": 14
        }
      ]
    },
    {
      "cell_type": "code",
      "source": [
        "%%sql SELECT president, country, continent\n",
        "FROM presidents\n",
        "WHERE country IN (\n",
        "    SELECT country\n",
        "    FROM states\n",
        "    WHERE indep_year < 1800\n",
        ");"
      ],
      "metadata": {
        "colab": {
          "base_uri": "https://localhost:8080/",
          "height": 117
        },
        "id": "2uO-lhtFrrdq",
        "outputId": "9032d719-7de1-4a0f-c0ae-fba7f3970c19"
      },
      "execution_count": 16,
      "outputs": [
        {
          "output_type": "stream",
          "name": "stdout",
          "text": [
            " * sqlite://\n",
            "Done.\n"
          ]
        },
        {
          "output_type": "execute_result",
          "data": {
            "text/plain": [
              "[('Marcelo Rebelo de Sousa', 'Portugal', 'Europe'),\n",
              " ('Joe Biden', 'USA', 'North America')]"
            ],
            "text/html": [
              "<table>\n",
              "    <thead>\n",
              "        <tr>\n",
              "            <th>president</th>\n",
              "            <th>country</th>\n",
              "            <th>continent</th>\n",
              "        </tr>\n",
              "    </thead>\n",
              "    <tbody>\n",
              "        <tr>\n",
              "            <td>Marcelo Rebelo de Sousa</td>\n",
              "            <td>Portugal</td>\n",
              "            <td>Europe</td>\n",
              "        </tr>\n",
              "        <tr>\n",
              "            <td>Joe Biden</td>\n",
              "            <td>USA</td>\n",
              "            <td>North America</td>\n",
              "        </tr>\n",
              "    </tbody>\n",
              "</table>"
            ]
          },
          "metadata": {},
          "execution_count": 16
        }
      ]
    },
    {
      "cell_type": "code",
      "source": [
        "%%sql SELECT president, s.country, s.continent\n",
        "FROM presidents as p\n",
        "INNER JOIN states as s\n",
        "ON p.country = s.country\n",
        "WHERE s.indep_year < 1800;"
      ],
      "metadata": {
        "colab": {
          "base_uri": "https://localhost:8080/",
          "height": 117
        },
        "id": "xuRAGVYesJkE",
        "outputId": "bfe7f2dd-0fb5-4f8c-ea2e-93c0bad00661"
      },
      "execution_count": 20,
      "outputs": [
        {
          "output_type": "stream",
          "name": "stdout",
          "text": [
            " * sqlite://\n",
            "Done.\n"
          ]
        },
        {
          "output_type": "execute_result",
          "data": {
            "text/plain": [
              "[('Marcelo Rebelo de Sousa', 'Portugal', 'Europe'),\n",
              " ('Joe Biden', 'USA', 'North America')]"
            ],
            "text/html": [
              "<table>\n",
              "    <thead>\n",
              "        <tr>\n",
              "            <th>president</th>\n",
              "            <th>country</th>\n",
              "            <th>continent</th>\n",
              "        </tr>\n",
              "    </thead>\n",
              "    <tbody>\n",
              "        <tr>\n",
              "            <td>Marcelo Rebelo de Sousa</td>\n",
              "            <td>Portugal</td>\n",
              "            <td>Europe</td>\n",
              "        </tr>\n",
              "        <tr>\n",
              "            <td>Joe Biden</td>\n",
              "            <td>USA</td>\n",
              "            <td>North America</td>\n",
              "        </tr>\n",
              "    </tbody>\n",
              "</table>"
            ]
          },
          "metadata": {},
          "execution_count": 20
        }
      ]
    },
    {
      "cell_type": "code",
      "source": [
        "%%sql SELECT president, s.country, s.continent\n",
        "FROM presidents as p\n",
        "INNER JOIN states as s\n",
        "ON p.country != s.country\n",
        "WHERE s.indep_year < 1800;"
      ],
      "metadata": {
        "colab": {
          "base_uri": "https://localhost:8080/",
          "height": 327
        },
        "id": "J_SvUnKAshSp",
        "outputId": "ec251e90-0362-43e1-bf51-987a422f716f"
      },
      "execution_count": 21,
      "outputs": [
        {
          "output_type": "stream",
          "name": "stdout",
          "text": [
            " * sqlite://\n",
            "Done.\n"
          ]
        },
        {
          "output_type": "execute_result",
          "data": {
            "text/plain": [
              "[('Abdel Fattah el-Sisi', 'Portugal', 'Europe'),\n",
              " ('Joe Biden', 'Portugal', 'Europe'),\n",
              " ('Luis Lacalle Pou', 'Portugal', 'Europe'),\n",
              " ('Arif Alvi', 'Portugal', 'Europe'),\n",
              " ('Gabriel Boric', 'Portugal', 'Europe'),\n",
              " ('Ram Nath Kovind', 'Portugal', 'Europe'),\n",
              " ('Abdel Fattah el-Sisi', 'USA', 'North America'),\n",
              " ('Marcelo Rebelo de Sousa', 'USA', 'North America'),\n",
              " ('Luis Lacalle Pou', 'USA', 'North America'),\n",
              " ('Arif Alvi', 'USA', 'North America'),\n",
              " ('Gabriel Boric', 'USA', 'North America'),\n",
              " ('Ram Nath Kovind', 'USA', 'North America')]"
            ],
            "text/html": [
              "<table>\n",
              "    <thead>\n",
              "        <tr>\n",
              "            <th>president</th>\n",
              "            <th>country</th>\n",
              "            <th>continent</th>\n",
              "        </tr>\n",
              "    </thead>\n",
              "    <tbody>\n",
              "        <tr>\n",
              "            <td>Abdel Fattah el-Sisi</td>\n",
              "            <td>Portugal</td>\n",
              "            <td>Europe</td>\n",
              "        </tr>\n",
              "        <tr>\n",
              "            <td>Joe Biden</td>\n",
              "            <td>Portugal</td>\n",
              "            <td>Europe</td>\n",
              "        </tr>\n",
              "        <tr>\n",
              "            <td>Luis Lacalle Pou</td>\n",
              "            <td>Portugal</td>\n",
              "            <td>Europe</td>\n",
              "        </tr>\n",
              "        <tr>\n",
              "            <td>Arif Alvi</td>\n",
              "            <td>Portugal</td>\n",
              "            <td>Europe</td>\n",
              "        </tr>\n",
              "        <tr>\n",
              "            <td>Gabriel Boric</td>\n",
              "            <td>Portugal</td>\n",
              "            <td>Europe</td>\n",
              "        </tr>\n",
              "        <tr>\n",
              "            <td>Ram Nath Kovind</td>\n",
              "            <td>Portugal</td>\n",
              "            <td>Europe</td>\n",
              "        </tr>\n",
              "        <tr>\n",
              "            <td>Abdel Fattah el-Sisi</td>\n",
              "            <td>USA</td>\n",
              "            <td>North America</td>\n",
              "        </tr>\n",
              "        <tr>\n",
              "            <td>Marcelo Rebelo de Sousa</td>\n",
              "            <td>USA</td>\n",
              "            <td>North America</td>\n",
              "        </tr>\n",
              "        <tr>\n",
              "            <td>Luis Lacalle Pou</td>\n",
              "            <td>USA</td>\n",
              "            <td>North America</td>\n",
              "        </tr>\n",
              "        <tr>\n",
              "            <td>Arif Alvi</td>\n",
              "            <td>USA</td>\n",
              "            <td>North America</td>\n",
              "        </tr>\n",
              "        <tr>\n",
              "            <td>Gabriel Boric</td>\n",
              "            <td>USA</td>\n",
              "            <td>North America</td>\n",
              "        </tr>\n",
              "        <tr>\n",
              "            <td>Ram Nath Kovind</td>\n",
              "            <td>USA</td>\n",
              "            <td>North America</td>\n",
              "        </tr>\n",
              "    </tbody>\n",
              "</table>"
            ]
          },
          "metadata": {},
          "execution_count": 21
        }
      ]
    },
    {
      "cell_type": "code",
      "source": [
        "%%sql SELECT country, president\n",
        "FROM presidents\n",
        "WHERE continent LIKE '%America'\n",
        "AND country NOT IN (\n",
        "    SELECT country\n",
        "    FROM states\n",
        "    WHERE indep_year < 1800\n",
        ");"
      ],
      "metadata": {
        "colab": {
          "base_uri": "https://localhost:8080/",
          "height": 117
        },
        "id": "eGSvgwvotfaG",
        "outputId": "d7e0dd3a-5217-437f-8758-eb7c330cd3fd"
      },
      "execution_count": 26,
      "outputs": [
        {
          "output_type": "stream",
          "name": "stdout",
          "text": [
            " * sqlite://\n",
            "Done.\n"
          ]
        },
        {
          "output_type": "execute_result",
          "data": {
            "text/plain": [
              "[('Uruguay', 'Luis Lacalle Pou'), ('Chile', 'Gabriel Boric')]"
            ],
            "text/html": [
              "<table>\n",
              "    <thead>\n",
              "        <tr>\n",
              "            <th>country</th>\n",
              "            <th>president</th>\n",
              "        </tr>\n",
              "    </thead>\n",
              "    <tbody>\n",
              "        <tr>\n",
              "            <td>Uruguay</td>\n",
              "            <td>Luis Lacalle Pou</td>\n",
              "        </tr>\n",
              "        <tr>\n",
              "            <td>Chile</td>\n",
              "            <td>Gabriel Boric</td>\n",
              "        </tr>\n",
              "    </tbody>\n",
              "</table>"
            ]
          },
          "metadata": {},
          "execution_count": 26
        }
      ]
    },
    {
      "cell_type": "code",
      "source": [
        "%%sql SELECT p.country, p.president\n",
        "FROM presidents p\n",
        "INNER JOIN states s ON p.country = s.country\n",
        "WHERE p.continent LIKE '%America'\n",
        "AND (s.indep_year >= 1800 OR s.indep_year IS NULL);"
      ],
      "metadata": {
        "colab": {
          "base_uri": "https://localhost:8080/",
          "height": 117
        },
        "id": "xi5T5T0ht9v0",
        "outputId": "e0652af9-91c9-4142-f549-c9bb388423a7"
      },
      "execution_count": 30,
      "outputs": [
        {
          "output_type": "stream",
          "name": "stdout",
          "text": [
            " * sqlite://\n",
            "Done.\n"
          ]
        },
        {
          "output_type": "execute_result",
          "data": {
            "text/plain": [
              "[('Uruguay', 'Luis Lacalle Pou'), ('Chile', 'Gabriel Boric')]"
            ],
            "text/html": [
              "<table>\n",
              "    <thead>\n",
              "        <tr>\n",
              "            <th>country</th>\n",
              "            <th>president</th>\n",
              "        </tr>\n",
              "    </thead>\n",
              "    <tbody>\n",
              "        <tr>\n",
              "            <td>Uruguay</td>\n",
              "            <td>Luis Lacalle Pou</td>\n",
              "        </tr>\n",
              "        <tr>\n",
              "            <td>Chile</td>\n",
              "            <td>Gabriel Boric</td>\n",
              "        </tr>\n",
              "    </tbody>\n",
              "</table>"
            ]
          },
          "metadata": {},
          "execution_count": 30
        }
      ]
    },
    {
      "cell_type": "code",
      "source": [
        "%%sql SELECT DISTINCT continent\n",
        "FROM states;"
      ],
      "metadata": {
        "colab": {
          "base_uri": "https://localhost:8080/",
          "height": 201
        },
        "id": "xGANHcHEvJr2",
        "outputId": "62343ff8-079f-4433-c78e-71e4f5cd7e9f"
      },
      "execution_count": 31,
      "outputs": [
        {
          "output_type": "stream",
          "name": "stdout",
          "text": [
            " * sqlite://\n",
            "Done.\n"
          ]
        },
        {
          "output_type": "execute_result",
          "data": {
            "text/plain": [
              "[('Oceania',),\n",
              " ('Asia',),\n",
              " ('South America',),\n",
              " ('Africa',),\n",
              " ('Europe',),\n",
              " ('North America',)]"
            ],
            "text/html": [
              "<table>\n",
              "    <thead>\n",
              "        <tr>\n",
              "            <th>continent</th>\n",
              "        </tr>\n",
              "    </thead>\n",
              "    <tbody>\n",
              "        <tr>\n",
              "            <td>Oceania</td>\n",
              "        </tr>\n",
              "        <tr>\n",
              "            <td>Asia</td>\n",
              "        </tr>\n",
              "        <tr>\n",
              "            <td>South America</td>\n",
              "        </tr>\n",
              "        <tr>\n",
              "            <td>Africa</td>\n",
              "        </tr>\n",
              "        <tr>\n",
              "            <td>Europe</td>\n",
              "        </tr>\n",
              "        <tr>\n",
              "            <td>North America</td>\n",
              "        </tr>\n",
              "    </tbody>\n",
              "</table>"
            ]
          },
          "metadata": {},
          "execution_count": 31
        }
      ]
    },
    {
      "cell_type": "code",
      "source": [],
      "metadata": {
        "id": "lNLMJjKKwKve"
      },
      "execution_count": null,
      "outputs": []
    }
  ]
}