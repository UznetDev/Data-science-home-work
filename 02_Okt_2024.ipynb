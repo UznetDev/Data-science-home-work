{
  "nbformat": 4,
  "nbformat_minor": 0,
  "metadata": {
    "colab": {
      "provenance": [],
      "authorship_tag": "ABX9TyMson8zzStd/ZWups9joXjH",
      "include_colab_link": true
    },
    "kernelspec": {
      "name": "python3",
      "display_name": "Python 3"
    },
    "language_info": {
      "name": "python"
    }
  },
  "cells": [
    {
      "cell_type": "markdown",
      "metadata": {
        "id": "view-in-github",
        "colab_type": "text"
      },
      "source": [
        "<a href=\"https://colab.research.google.com/github/UznetDev/Data-science-home-work/blob/main/02_Okt_2024.ipynb\" target=\"_parent\"><img src=\"https://colab.research.google.com/assets/colab-badge.svg\" alt=\"Open In Colab\"/></a>"
      ]
    },
    {
      "cell_type": "code",
      "execution_count": null,
      "metadata": {
        "id": "v29RDqzqvE6-"
      },
      "outputs": [],
      "source": [
        "from sklearn.datasets import fetch_openml\n",
        "import pandas as pd\n",
        "import matplotlib.pyplot as plt\n",
        "import seaborn as sns\n",
        "import plotly.express as px\n",
        "from scipy.stats import pointbiserialr\n",
        "from scipy.stats import pearsonr, pointbiserialr\n",
        "from sklearn.preprocessing import LabelEncoder"
      ]
    },
    {
      "cell_type": "code",
      "source": [
        "# Load the \"Adult\" dataset from OpenML\n",
        "adult = fetch_openml(name='adult', version=2, as_frame=True)\n",
        "adult_data = adult.frame\n",
        "\n",
        "# Data Preparation: Encode binary variables and filter relevant columns\n",
        "adult_df = adult_data[['age', 'education-num', 'hours-per-week', 'capital-gain', 'capital-loss', 'sex', 'class']].copy()\n",
        "\n",
        "# Encode 'sex' as binary (0 = Female, 1 = Male)\n",
        "adult_df['sex'] = adult_df['sex'].apply(lambda x: 1 if x == 'Male' else 0)\n",
        "\n",
        "# Encode 'class' as binary (0 = <=50K, 1 = >50K)\n",
        "adult_df['class'] = adult_df['class'].apply(lambda x: 1 if x == '>50K' else 0)\n"
      ],
      "metadata": {
        "id": "-ZZqLHk9vNHM"
      },
      "execution_count": null,
      "outputs": []
    },
    {
      "cell_type": "code",
      "source": [
        "adult_df.head()"
      ],
      "metadata": {
        "id": "d50to31xvUDS"
      },
      "execution_count": null,
      "outputs": []
    },
    {
      "cell_type": "code",
      "source": [
        "y = adult_df['class']\n",
        "X = adult_df.drop('class', axis=1)"
      ],
      "metadata": {
        "id": "0AlTc7HIvjtd"
      },
      "execution_count": null,
      "outputs": []
    },
    {
      "cell_type": "code",
      "source": [
        "fig, ax = plt.subplots(figsize=(10, 8), nrows=2, ncols=2)\n",
        "\n",
        "sns.heatmap(adult_df.corr(), annot=True, ax=ax[0][0])\n",
        "sns.heatmap(adult_df.corr(method='kendall'), annot=True, ax=ax[0][1])\n",
        "sns.heatmap(adult_df.corr(method='spearman'), annot=True, ax=ax[1][0])\n",
        "\n",
        "plt.tight_layout()\n",
        "plt.show()"
      ],
      "metadata": {
        "id": "mlQ53CJXwVN7"
      },
      "execution_count": null,
      "outputs": []
    },
    {
      "cell_type": "code",
      "source": [
        "column = X.columns"
      ],
      "metadata": {
        "id": "4-nhhBfOvzC9"
      },
      "execution_count": null,
      "outputs": []
    },
    {
      "cell_type": "code",
      "source": [
        "for col in column:\n",
        "    p_c, p_value = pointbiserialr(X[col], y)\n",
        "    print(f\"{col}:\\n\\t p-value = {p_value}, corelation = {p_c}\")"
      ],
      "metadata": {
        "id": "JU1HDPRFv4Ma"
      },
      "execution_count": null,
      "outputs": []
    },
    {
      "cell_type": "code",
      "source": [],
      "metadata": {
        "id": "9MGtuIHbwqzL"
      },
      "execution_count": null,
      "outputs": []
    }
  ]
}