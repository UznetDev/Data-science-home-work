{
  "nbformat": 4,
  "nbformat_minor": 0,
  "metadata": {
    "colab": {
      "provenance": [],
      "authorship_tag": "ABX9TyP2WPN6yMqZLcYonr7cSPe1",
      "include_colab_link": true
    },
    "kernelspec": {
      "name": "python3",
      "display_name": "Python 3"
    },
    "language_info": {
      "name": "python"
    }
  },
  "cells": [
    {
      "cell_type": "markdown",
      "metadata": {
        "id": "view-in-github",
        "colab_type": "text"
      },
      "source": [
        "<a href=\"https://colab.research.google.com/github/UznetDev/Data-science-home-work/blob/main/29_Avg_2024.ipynb\" target=\"_parent\"><img src=\"https://colab.research.google.com/assets/colab-badge.svg\" alt=\"Open In Colab\"/></a>"
      ]
    },
    {
      "cell_type": "markdown",
      "source": [
        "# **SQL Window function 2**"
      ],
      "metadata": {
        "id": "GZxK2bDnj6_Q"
      }
    },
    {
      "cell_type": "markdown",
      "source": [
        "### Import librares"
      ],
      "metadata": {
        "id": "4yHz4zewqni4"
      }
    },
    {
      "cell_type": "code",
      "execution_count": 3,
      "metadata": {
        "id": "zpHxL5F4hVc9"
      },
      "outputs": [],
      "source": [
        "import pandas as pd"
      ]
    },
    {
      "cell_type": "markdown",
      "source": [
        "### Set-up for SQL"
      ],
      "metadata": {
        "id": "NS6j93AQiH7B"
      }
    },
    {
      "cell_type": "code",
      "source": [
        "%load_ext sql\n",
        "%sql sqlite://"
      ],
      "metadata": {
        "id": "_cyIAPu-iBED",
        "colab": {
          "base_uri": "https://localhost:8080/"
        },
        "outputId": "478aca5d-3b57-4363-fec8-52ee5f4bdecc"
      },
      "execution_count": 4,
      "outputs": [
        {
          "output_type": "stream",
          "name": "stdout",
          "text": [
            "The sql extension is already loaded. To reload it, use:\n",
            "  %reload_ext sql\n"
          ]
        }
      ]
    },
    {
      "cell_type": "markdown",
      "source": [
        "##### Load dataset"
      ],
      "metadata": {
        "id": "qlhev4g0_TQD"
      }
    },
    {
      "cell_type": "code",
      "source": [
        "summer = pd.read_csv('summer.csv')"
      ],
      "metadata": {
        "id": "fWsxJNZ2ir-H"
      },
      "execution_count": 5,
      "outputs": []
    },
    {
      "cell_type": "markdown",
      "source": [
        "##### Upload dataset to SQL"
      ],
      "metadata": {
        "id": "aunGHMzJ_bSy"
      }
    },
    {
      "cell_type": "code",
      "source": [
        "%sql DROP TABLE IF EXISTS summer;\n",
        "%sql --persist summer"
      ],
      "metadata": {
        "colab": {
          "base_uri": "https://localhost:8080/",
          "height": 87
        },
        "id": "LPBSQGGqFxxL",
        "outputId": "4224d538-a9a4-4126-adc3-41c7c6b3477d"
      },
      "execution_count": 6,
      "outputs": [
        {
          "output_type": "stream",
          "name": "stdout",
          "text": [
            " * sqlite://\n",
            "Done.\n",
            " * sqlite://\n"
          ]
        },
        {
          "output_type": "execute_result",
          "data": {
            "text/plain": [
              "'Persisted summer'"
            ],
            "application/vnd.google.colaboratory.intrinsic+json": {
              "type": "string"
            }
          },
          "metadata": {},
          "execution_count": 6
        }
      ]
    },
    {
      "cell_type": "markdown",
      "source": [
        "##### View all table"
      ],
      "metadata": {
        "id": "1aW5VC03F3H6"
      }
    },
    {
      "cell_type": "code",
      "source": [
        "%%sql SELECT * FROM summer LIMIT 1;"
      ],
      "metadata": {
        "colab": {
          "base_uri": "https://localhost:8080/",
          "height": 96
        },
        "id": "t_DeAr3YbUpd",
        "outputId": "afb39c00-6dda-4f77-e059-e8260ddabdf4"
      },
      "execution_count": 7,
      "outputs": [
        {
          "output_type": "stream",
          "name": "stdout",
          "text": [
            " * sqlite://\n",
            "Done.\n"
          ]
        },
        {
          "output_type": "execute_result",
          "data": {
            "text/plain": [
              "[(0, 1896, 'Athens', 'Aquatics', 'Swimming', 'HAJOS Alfred', 'HUN', 'Men', '100M Freestyle', 'Gold')]"
            ],
            "text/html": [
              "<table>\n",
              "    <thead>\n",
              "        <tr>\n",
              "            <th>index</th>\n",
              "            <th>Year</th>\n",
              "            <th>City</th>\n",
              "            <th>Sport</th>\n",
              "            <th>Discipline</th>\n",
              "            <th>Athlete</th>\n",
              "            <th>Country</th>\n",
              "            <th>Gender</th>\n",
              "            <th>Event</th>\n",
              "            <th>Medal</th>\n",
              "        </tr>\n",
              "    </thead>\n",
              "    <tbody>\n",
              "        <tr>\n",
              "            <td>0</td>\n",
              "            <td>1896</td>\n",
              "            <td>Athens</td>\n",
              "            <td>Aquatics</td>\n",
              "            <td>Swimming</td>\n",
              "            <td>HAJOS Alfred</td>\n",
              "            <td>HUN</td>\n",
              "            <td>Men</td>\n",
              "            <td>100M Freestyle</td>\n",
              "            <td>Gold</td>\n",
              "        </tr>\n",
              "    </tbody>\n",
              "</table>"
            ]
          },
          "metadata": {},
          "execution_count": 7
        }
      ]
    },
    {
      "cell_type": "markdown",
      "source": [
        "### Class work"
      ],
      "metadata": {
        "id": "Xp8q7BO4lq4q"
      }
    },
    {
      "cell_type": "markdown",
      "source": [
        "#### Part 1 (*`OVER` Window function*)\n",
        "\n"
      ],
      "metadata": {
        "id": "vlyHr8U9XHMJ"
      }
    },
    {
      "cell_type": "code",
      "source": [
        "%%sql\n",
        "WITH Country_Gold AS (\n",
        "  SELECT\n",
        "    DISTINCT Year, Country, Event\n",
        "  FROM summer\n",
        "  WHERE Year IN (2008, 2012)\n",
        "  AND Country IN ('CHN', 'JPN')\n",
        "  AND Gender='Women'\n",
        "  AND Medal='Gold'\n",
        ")\n",
        "\n",
        "SELECT\n",
        "  Year, Country, Event,\n",
        "  ROW_NUMBER() OVER(PARTITION BY Year, Country) AS ROW_NUMBER\n",
        "FROM Country_Gold;"
      ],
      "metadata": {
        "colab": {
          "base_uri": "https://localhost:8080/",
          "height": 1000
        },
        "id": "8Vc9RJeuThez",
        "outputId": "297a3348-48d1-44d0-dadf-ced2a6301405"
      },
      "execution_count": 8,
      "outputs": [
        {
          "output_type": "stream",
          "name": "stdout",
          "text": [
            " * sqlite://\n",
            "Done.\n"
          ]
        },
        {
          "output_type": "execute_result",
          "data": {
            "text/plain": [
              "[(2008, 'CHN', '10M Platform', 1),\n",
              " (2008, 'CHN', '3M Springboard', 2),\n",
              " (2008, 'CHN', 'Synchronized Diving 10M Platform', 3),\n",
              " (2008, 'CHN', 'Synchronized Diving 3M Springboard', 4),\n",
              " (2008, 'CHN', '200M Butterfly', 5),\n",
              " (2008, 'CHN', 'Individual (Fita Olympic Round - 70M)', 6),\n",
              " (2008, 'CHN', 'Doubles', 7),\n",
              " (2008, 'CHN', 'Singles', 8),\n",
              " (2008, 'CHN', 'Team Competition', 9),\n",
              " (2008, 'CHN', 'Uneven Bars', 10),\n",
              " (2008, 'CHN', 'Individual', 11),\n",
              " (2008, 'CHN', '+ 78KG (Heavyweight)', 12),\n",
              " (2008, 'CHN', '48 - 52KG (Half-Lightweight)', 13),\n",
              " (2008, 'CHN', '70 - 78KG (Half-Heavyweight)', 14),\n",
              " (2008, 'CHN', 'Quadruple Sculls Without Coxswain (4X)', 15),\n",
              " (2008, 'CHN', 'Rs:X - Windsurfer', 16),\n",
              " (2008, 'CHN', '10M Air Pistol (40 Shots)', 17),\n",
              " (2008, 'CHN', '25M Pistol (30+30 Shots)', 18),\n",
              " (2008, 'CHN', '50M Rifle 3 Positions (3X20 Shots)', 19),\n",
              " (2008, 'CHN', 'Team', 20),\n",
              " (2008, 'CHN', '- 49 KG', 21),\n",
              " (2008, 'CHN', '48KG', 22),\n",
              " (2008, 'CHN', '58KG', 23),\n",
              " (2008, 'CHN', '69KG', 24),\n",
              " (2008, 'CHN', '75KG', 25),\n",
              " (2008, 'CHN', '63 - 72KG', 26),\n",
              " (2008, 'JPN', '57 - 63KG (Half-Middleweight)', 1),\n",
              " (2008, 'JPN', '63 - 70KG (Middleweight)', 2),\n",
              " (2008, 'JPN', 'Softball', 3),\n",
              " (2008, 'JPN', '48 - 55KG', 4),\n",
              " (2008, 'JPN', '55 - 63KG', 5),\n",
              " (2012, 'CHN', '10M Platform', 1),\n",
              " (2012, 'CHN', '3M Springboard', 2),\n",
              " (2012, 'CHN', 'Synchronized 10M', 3),\n",
              " (2012, 'CHN', 'Synchronized 3M', 4),\n",
              " (2012, 'CHN', '200M Butterfly', 5),\n",
              " (2012, 'CHN', '200M Medley', 6),\n",
              " (2012, 'CHN', '400M Medley', 7),\n",
              " (2012, 'CHN', 'Doubles', 8),\n",
              " (2012, 'CHN', 'Singles', 9),\n",
              " (2012, 'CHN', 'Épée Team', 10),\n",
              " (2012, 'CHN', 'Beam', 11),\n",
              " (2012, 'CHN', 'Laser Radial', 12),\n",
              " (2012, 'CHN', '10M Air Pistol', 13),\n",
              " (2012, 'CHN', '10M Air Rifle', 14),\n",
              " (2012, 'CHN', 'Team', 15),\n",
              " (2012, 'CHN', '- 49 KG', 16),\n",
              " (2012, 'CHN', '+75KG', 17),\n",
              " (2012, 'CHN', '48KG', 18),\n",
              " (2012, 'CHN', '58KG', 19),\n",
              " (2012, 'JPN', '52 - 57KG', 1),\n",
              " (2012, 'JPN', 'Wf 48 KG', 2),\n",
              " (2012, 'JPN', 'Wf 55 KG', 3),\n",
              " (2012, 'JPN', 'Wf 63 KG', 4)]"
            ],
            "text/html": [
              "<table>\n",
              "    <thead>\n",
              "        <tr>\n",
              "            <th>Year</th>\n",
              "            <th>Country</th>\n",
              "            <th>Event</th>\n",
              "            <th>ROW_NUMBER</th>\n",
              "        </tr>\n",
              "    </thead>\n",
              "    <tbody>\n",
              "        <tr>\n",
              "            <td>2008</td>\n",
              "            <td>CHN</td>\n",
              "            <td>10M Platform</td>\n",
              "            <td>1</td>\n",
              "        </tr>\n",
              "        <tr>\n",
              "            <td>2008</td>\n",
              "            <td>CHN</td>\n",
              "            <td>3M Springboard</td>\n",
              "            <td>2</td>\n",
              "        </tr>\n",
              "        <tr>\n",
              "            <td>2008</td>\n",
              "            <td>CHN</td>\n",
              "            <td>Synchronized Diving 10M Platform</td>\n",
              "            <td>3</td>\n",
              "        </tr>\n",
              "        <tr>\n",
              "            <td>2008</td>\n",
              "            <td>CHN</td>\n",
              "            <td>Synchronized Diving 3M Springboard</td>\n",
              "            <td>4</td>\n",
              "        </tr>\n",
              "        <tr>\n",
              "            <td>2008</td>\n",
              "            <td>CHN</td>\n",
              "            <td>200M Butterfly</td>\n",
              "            <td>5</td>\n",
              "        </tr>\n",
              "        <tr>\n",
              "            <td>2008</td>\n",
              "            <td>CHN</td>\n",
              "            <td>Individual (Fita Olympic Round - 70M)</td>\n",
              "            <td>6</td>\n",
              "        </tr>\n",
              "        <tr>\n",
              "            <td>2008</td>\n",
              "            <td>CHN</td>\n",
              "            <td>Doubles</td>\n",
              "            <td>7</td>\n",
              "        </tr>\n",
              "        <tr>\n",
              "            <td>2008</td>\n",
              "            <td>CHN</td>\n",
              "            <td>Singles</td>\n",
              "            <td>8</td>\n",
              "        </tr>\n",
              "        <tr>\n",
              "            <td>2008</td>\n",
              "            <td>CHN</td>\n",
              "            <td>Team Competition</td>\n",
              "            <td>9</td>\n",
              "        </tr>\n",
              "        <tr>\n",
              "            <td>2008</td>\n",
              "            <td>CHN</td>\n",
              "            <td>Uneven Bars</td>\n",
              "            <td>10</td>\n",
              "        </tr>\n",
              "        <tr>\n",
              "            <td>2008</td>\n",
              "            <td>CHN</td>\n",
              "            <td>Individual</td>\n",
              "            <td>11</td>\n",
              "        </tr>\n",
              "        <tr>\n",
              "            <td>2008</td>\n",
              "            <td>CHN</td>\n",
              "            <td>+ 78KG (Heavyweight)</td>\n",
              "            <td>12</td>\n",
              "        </tr>\n",
              "        <tr>\n",
              "            <td>2008</td>\n",
              "            <td>CHN</td>\n",
              "            <td>48 - 52KG (Half-Lightweight)</td>\n",
              "            <td>13</td>\n",
              "        </tr>\n",
              "        <tr>\n",
              "            <td>2008</td>\n",
              "            <td>CHN</td>\n",
              "            <td>70 - 78KG (Half-Heavyweight)</td>\n",
              "            <td>14</td>\n",
              "        </tr>\n",
              "        <tr>\n",
              "            <td>2008</td>\n",
              "            <td>CHN</td>\n",
              "            <td>Quadruple Sculls Without Coxswain (4X)</td>\n",
              "            <td>15</td>\n",
              "        </tr>\n",
              "        <tr>\n",
              "            <td>2008</td>\n",
              "            <td>CHN</td>\n",
              "            <td>Rs:X - Windsurfer</td>\n",
              "            <td>16</td>\n",
              "        </tr>\n",
              "        <tr>\n",
              "            <td>2008</td>\n",
              "            <td>CHN</td>\n",
              "            <td>10M Air Pistol (40 Shots)</td>\n",
              "            <td>17</td>\n",
              "        </tr>\n",
              "        <tr>\n",
              "            <td>2008</td>\n",
              "            <td>CHN</td>\n",
              "            <td>25M Pistol (30+30 Shots)</td>\n",
              "            <td>18</td>\n",
              "        </tr>\n",
              "        <tr>\n",
              "            <td>2008</td>\n",
              "            <td>CHN</td>\n",
              "            <td>50M Rifle 3 Positions (3X20 Shots)</td>\n",
              "            <td>19</td>\n",
              "        </tr>\n",
              "        <tr>\n",
              "            <td>2008</td>\n",
              "            <td>CHN</td>\n",
              "            <td>Team</td>\n",
              "            <td>20</td>\n",
              "        </tr>\n",
              "        <tr>\n",
              "            <td>2008</td>\n",
              "            <td>CHN</td>\n",
              "            <td>- 49 KG</td>\n",
              "            <td>21</td>\n",
              "        </tr>\n",
              "        <tr>\n",
              "            <td>2008</td>\n",
              "            <td>CHN</td>\n",
              "            <td>48KG</td>\n",
              "            <td>22</td>\n",
              "        </tr>\n",
              "        <tr>\n",
              "            <td>2008</td>\n",
              "            <td>CHN</td>\n",
              "            <td>58KG</td>\n",
              "            <td>23</td>\n",
              "        </tr>\n",
              "        <tr>\n",
              "            <td>2008</td>\n",
              "            <td>CHN</td>\n",
              "            <td>69KG</td>\n",
              "            <td>24</td>\n",
              "        </tr>\n",
              "        <tr>\n",
              "            <td>2008</td>\n",
              "            <td>CHN</td>\n",
              "            <td>75KG</td>\n",
              "            <td>25</td>\n",
              "        </tr>\n",
              "        <tr>\n",
              "            <td>2008</td>\n",
              "            <td>CHN</td>\n",
              "            <td>63 - 72KG</td>\n",
              "            <td>26</td>\n",
              "        </tr>\n",
              "        <tr>\n",
              "            <td>2008</td>\n",
              "            <td>JPN</td>\n",
              "            <td>57 - 63KG (Half-Middleweight)</td>\n",
              "            <td>1</td>\n",
              "        </tr>\n",
              "        <tr>\n",
              "            <td>2008</td>\n",
              "            <td>JPN</td>\n",
              "            <td>63 - 70KG (Middleweight)</td>\n",
              "            <td>2</td>\n",
              "        </tr>\n",
              "        <tr>\n",
              "            <td>2008</td>\n",
              "            <td>JPN</td>\n",
              "            <td>Softball</td>\n",
              "            <td>3</td>\n",
              "        </tr>\n",
              "        <tr>\n",
              "            <td>2008</td>\n",
              "            <td>JPN</td>\n",
              "            <td>48 - 55KG</td>\n",
              "            <td>4</td>\n",
              "        </tr>\n",
              "        <tr>\n",
              "            <td>2008</td>\n",
              "            <td>JPN</td>\n",
              "            <td>55 - 63KG</td>\n",
              "            <td>5</td>\n",
              "        </tr>\n",
              "        <tr>\n",
              "            <td>2012</td>\n",
              "            <td>CHN</td>\n",
              "            <td>10M Platform</td>\n",
              "            <td>1</td>\n",
              "        </tr>\n",
              "        <tr>\n",
              "            <td>2012</td>\n",
              "            <td>CHN</td>\n",
              "            <td>3M Springboard</td>\n",
              "            <td>2</td>\n",
              "        </tr>\n",
              "        <tr>\n",
              "            <td>2012</td>\n",
              "            <td>CHN</td>\n",
              "            <td>Synchronized 10M</td>\n",
              "            <td>3</td>\n",
              "        </tr>\n",
              "        <tr>\n",
              "            <td>2012</td>\n",
              "            <td>CHN</td>\n",
              "            <td>Synchronized 3M</td>\n",
              "            <td>4</td>\n",
              "        </tr>\n",
              "        <tr>\n",
              "            <td>2012</td>\n",
              "            <td>CHN</td>\n",
              "            <td>200M Butterfly</td>\n",
              "            <td>5</td>\n",
              "        </tr>\n",
              "        <tr>\n",
              "            <td>2012</td>\n",
              "            <td>CHN</td>\n",
              "            <td>200M Medley</td>\n",
              "            <td>6</td>\n",
              "        </tr>\n",
              "        <tr>\n",
              "            <td>2012</td>\n",
              "            <td>CHN</td>\n",
              "            <td>400M Medley</td>\n",
              "            <td>7</td>\n",
              "        </tr>\n",
              "        <tr>\n",
              "            <td>2012</td>\n",
              "            <td>CHN</td>\n",
              "            <td>Doubles</td>\n",
              "            <td>8</td>\n",
              "        </tr>\n",
              "        <tr>\n",
              "            <td>2012</td>\n",
              "            <td>CHN</td>\n",
              "            <td>Singles</td>\n",
              "            <td>9</td>\n",
              "        </tr>\n",
              "        <tr>\n",
              "            <td>2012</td>\n",
              "            <td>CHN</td>\n",
              "            <td>Épée Team</td>\n",
              "            <td>10</td>\n",
              "        </tr>\n",
              "        <tr>\n",
              "            <td>2012</td>\n",
              "            <td>CHN</td>\n",
              "            <td>Beam</td>\n",
              "            <td>11</td>\n",
              "        </tr>\n",
              "        <tr>\n",
              "            <td>2012</td>\n",
              "            <td>CHN</td>\n",
              "            <td>Laser Radial</td>\n",
              "            <td>12</td>\n",
              "        </tr>\n",
              "        <tr>\n",
              "            <td>2012</td>\n",
              "            <td>CHN</td>\n",
              "            <td>10M Air Pistol</td>\n",
              "            <td>13</td>\n",
              "        </tr>\n",
              "        <tr>\n",
              "            <td>2012</td>\n",
              "            <td>CHN</td>\n",
              "            <td>10M Air Rifle</td>\n",
              "            <td>14</td>\n",
              "        </tr>\n",
              "        <tr>\n",
              "            <td>2012</td>\n",
              "            <td>CHN</td>\n",
              "            <td>Team</td>\n",
              "            <td>15</td>\n",
              "        </tr>\n",
              "        <tr>\n",
              "            <td>2012</td>\n",
              "            <td>CHN</td>\n",
              "            <td>- 49 KG</td>\n",
              "            <td>16</td>\n",
              "        </tr>\n",
              "        <tr>\n",
              "            <td>2012</td>\n",
              "            <td>CHN</td>\n",
              "            <td>+75KG</td>\n",
              "            <td>17</td>\n",
              "        </tr>\n",
              "        <tr>\n",
              "            <td>2012</td>\n",
              "            <td>CHN</td>\n",
              "            <td>48KG</td>\n",
              "            <td>18</td>\n",
              "        </tr>\n",
              "        <tr>\n",
              "            <td>2012</td>\n",
              "            <td>CHN</td>\n",
              "            <td>58KG</td>\n",
              "            <td>19</td>\n",
              "        </tr>\n",
              "        <tr>\n",
              "            <td>2012</td>\n",
              "            <td>JPN</td>\n",
              "            <td>52 - 57KG</td>\n",
              "            <td>1</td>\n",
              "        </tr>\n",
              "        <tr>\n",
              "            <td>2012</td>\n",
              "            <td>JPN</td>\n",
              "            <td>Wf 48 KG</td>\n",
              "            <td>2</td>\n",
              "        </tr>\n",
              "        <tr>\n",
              "            <td>2012</td>\n",
              "            <td>JPN</td>\n",
              "            <td>Wf 55 KG</td>\n",
              "            <td>3</td>\n",
              "        </tr>\n",
              "        <tr>\n",
              "            <td>2012</td>\n",
              "            <td>JPN</td>\n",
              "            <td>Wf 63 KG</td>\n",
              "            <td>4</td>\n",
              "        </tr>\n",
              "    </tbody>\n",
              "</table>"
            ]
          },
          "metadata": {},
          "execution_count": 8
        }
      ]
    },
    {
      "cell_type": "code",
      "source": [
        "%%sql"
      ],
      "metadata": {
        "id": "w-u4VyxpUGda"
      },
      "execution_count": 8,
      "outputs": []
    }
  ]
}