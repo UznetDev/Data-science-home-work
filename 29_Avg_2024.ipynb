{
  "nbformat": 4,
  "nbformat_minor": 0,
  "metadata": {
    "colab": {
      "provenance": [],
      "collapsed_sections": [
        "4yHz4zewqni4",
        "qlhev4g0_TQD",
        "aunGHMzJ_bSy",
        "1aW5VC03F3H6"
      ],
      "authorship_tag": "ABX9TyNVZWXuojEWSA3egKYumb0A",
      "include_colab_link": true
    },
    "kernelspec": {
      "name": "python3",
      "display_name": "Python 3"
    },
    "language_info": {
      "name": "python"
    }
  },
  "cells": [
    {
      "cell_type": "markdown",
      "metadata": {
        "id": "view-in-github",
        "colab_type": "text"
      },
      "source": [
        "<a href=\"https://colab.research.google.com/github/UznetDev/Data-science-home-work/blob/main/29_Avg_2024.ipynb\" target=\"_parent\"><img src=\"https://colab.research.google.com/assets/colab-badge.svg\" alt=\"Open In Colab\"/></a>"
      ]
    },
    {
      "cell_type": "markdown",
      "source": [
        "# **SQL**"
      ],
      "metadata": {
        "id": "GZxK2bDnj6_Q"
      }
    },
    {
      "cell_type": "markdown",
      "source": [
        "### Import librares"
      ],
      "metadata": {
        "id": "4yHz4zewqni4"
      }
    },
    {
      "cell_type": "code",
      "execution_count": 23,
      "metadata": {
        "id": "zpHxL5F4hVc9"
      },
      "outputs": [],
      "source": [
        "import pandas as pd"
      ]
    },
    {
      "cell_type": "markdown",
      "source": [
        "### Set-up for SQL"
      ],
      "metadata": {
        "id": "NS6j93AQiH7B"
      }
    },
    {
      "cell_type": "code",
      "source": [
        "%load_ext sql\n",
        "%sql sqlite://"
      ],
      "metadata": {
        "id": "_cyIAPu-iBED",
        "colab": {
          "base_uri": "https://localhost:8080/"
        },
        "outputId": "c732c2af-22ca-461d-ebc7-43275045fd4d"
      },
      "execution_count": 24,
      "outputs": [
        {
          "output_type": "stream",
          "name": "stdout",
          "text": [
            "The sql extension is already loaded. To reload it, use:\n",
            "  %reload_ext sql\n"
          ]
        }
      ]
    },
    {
      "cell_type": "markdown",
      "source": [
        "##### Load dataset"
      ],
      "metadata": {
        "id": "qlhev4g0_TQD"
      }
    },
    {
      "cell_type": "code",
      "source": [
        "summer = pd.read_csv('summer.csv')"
      ],
      "metadata": {
        "id": "fWsxJNZ2ir-H"
      },
      "execution_count": 25,
      "outputs": []
    },
    {
      "cell_type": "markdown",
      "source": [
        "##### Upload dataset to SQL"
      ],
      "metadata": {
        "id": "aunGHMzJ_bSy"
      }
    },
    {
      "cell_type": "code",
      "source": [
        "%sql DROP TABLE IF EXISTS summer;\n",
        "%sql --persist summer"
      ],
      "metadata": {
        "colab": {
          "base_uri": "https://localhost:8080/",
          "height": 87
        },
        "id": "LPBSQGGqFxxL",
        "outputId": "94c4905d-8cce-4a7c-8d7b-f8d946bdbc1e"
      },
      "execution_count": 26,
      "outputs": [
        {
          "output_type": "stream",
          "name": "stdout",
          "text": [
            " * sqlite://\n",
            "Done.\n",
            " * sqlite://\n"
          ]
        },
        {
          "output_type": "execute_result",
          "data": {
            "text/plain": [
              "'Persisted summer'"
            ],
            "application/vnd.google.colaboratory.intrinsic+json": {
              "type": "string"
            }
          },
          "metadata": {},
          "execution_count": 26
        }
      ]
    },
    {
      "cell_type": "markdown",
      "source": [
        "##### View all table"
      ],
      "metadata": {
        "id": "1aW5VC03F3H6"
      }
    },
    {
      "cell_type": "code",
      "source": [
        "%%sql SELECT * FROM summer LIMIT 1;"
      ],
      "metadata": {
        "colab": {
          "base_uri": "https://localhost:8080/",
          "height": 96
        },
        "id": "t_DeAr3YbUpd",
        "outputId": "990e0994-9445-456e-9731-d44a08aa19f6"
      },
      "execution_count": 27,
      "outputs": [
        {
          "output_type": "stream",
          "name": "stdout",
          "text": [
            " * sqlite://\n",
            "Done.\n"
          ]
        },
        {
          "output_type": "execute_result",
          "data": {
            "text/plain": [
              "[(0, 1896, 'Athens', 'Aquatics', 'Swimming', 'HAJOS Alfred', 'HUN', 'Men', '100M Freestyle', 'Gold')]"
            ],
            "text/html": [
              "<table>\n",
              "    <thead>\n",
              "        <tr>\n",
              "            <th>index</th>\n",
              "            <th>Year</th>\n",
              "            <th>City</th>\n",
              "            <th>Sport</th>\n",
              "            <th>Discipline</th>\n",
              "            <th>Athlete</th>\n",
              "            <th>Country</th>\n",
              "            <th>Gender</th>\n",
              "            <th>Event</th>\n",
              "            <th>Medal</th>\n",
              "        </tr>\n",
              "    </thead>\n",
              "    <tbody>\n",
              "        <tr>\n",
              "            <td>0</td>\n",
              "            <td>1896</td>\n",
              "            <td>Athens</td>\n",
              "            <td>Aquatics</td>\n",
              "            <td>Swimming</td>\n",
              "            <td>HAJOS Alfred</td>\n",
              "            <td>HUN</td>\n",
              "            <td>Men</td>\n",
              "            <td>100M Freestyle</td>\n",
              "            <td>Gold</td>\n",
              "        </tr>\n",
              "    </tbody>\n",
              "</table>"
            ]
          },
          "metadata": {},
          "execution_count": 27
        }
      ]
    },
    {
      "cell_type": "markdown",
      "source": [
        "### Class work"
      ],
      "metadata": {
        "id": "Xp8q7BO4lq4q"
      }
    },
    {
      "cell_type": "markdown",
      "source": [
        "#### Part 1 (*`OVER` Window function*)"
      ],
      "metadata": {
        "id": "vlyHr8U9XHMJ"
      }
    }
  ]
}