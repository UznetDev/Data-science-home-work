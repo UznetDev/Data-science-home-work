{
  "nbformat": 4,
  "nbformat_minor": 0,
  "metadata": {
    "colab": {
      "provenance": [],
      "authorship_tag": "ABX9TyNwlii0ewPq5KjQREyJSzEX",
      "include_colab_link": true
    },
    "kernelspec": {
      "name": "python3",
      "display_name": "Python 3"
    },
    "language_info": {
      "name": "python"
    }
  },
  "cells": [
    {
      "cell_type": "markdown",
      "metadata": {
        "id": "view-in-github",
        "colab_type": "text"
      },
      "source": [
        "<a href=\"https://colab.research.google.com/github/UznetDev/Data-science-home-work/blob/main/22_Noy_2024.ipynb\" target=\"_parent\"><img src=\"https://colab.research.google.com/assets/colab-badge.svg\" alt=\"Open In Colab\"/></a>"
      ]
    },
    {
      "cell_type": "code",
      "execution_count": 13,
      "metadata": {
        "colab": {
          "base_uri": "https://localhost:8080/"
        },
        "id": "GsF0ZT3FBMQJ",
        "outputId": "b1aa1a83-810b-42f4-dbe6-2bdf17469004"
      },
      "outputs": [
        {
          "output_type": "stream",
          "name": "stdout",
          "text": [
            "Requirement already satisfied: statsmodels in /usr/local/lib/python3.10/dist-packages (0.14.4)\n",
            "Requirement already satisfied: numpy<3,>=1.22.3 in /usr/local/lib/python3.10/dist-packages (from statsmodels) (1.26.4)\n",
            "Requirement already satisfied: scipy!=1.9.2,>=1.8 in /usr/local/lib/python3.10/dist-packages (from statsmodels) (1.13.1)\n",
            "Requirement already satisfied: pandas!=2.1.0,>=1.4 in /usr/local/lib/python3.10/dist-packages (from statsmodels) (2.2.2)\n",
            "Requirement already satisfied: patsy>=0.5.6 in /usr/local/lib/python3.10/dist-packages (from statsmodels) (1.0.1)\n",
            "Requirement already satisfied: packaging>=21.3 in /usr/local/lib/python3.10/dist-packages (from statsmodels) (24.2)\n",
            "Requirement already satisfied: python-dateutil>=2.8.2 in /usr/local/lib/python3.10/dist-packages (from pandas!=2.1.0,>=1.4->statsmodels) (2.8.2)\n",
            "Requirement already satisfied: pytz>=2020.1 in /usr/local/lib/python3.10/dist-packages (from pandas!=2.1.0,>=1.4->statsmodels) (2024.2)\n",
            "Requirement already satisfied: tzdata>=2022.7 in /usr/local/lib/python3.10/dist-packages (from pandas!=2.1.0,>=1.4->statsmodels) (2024.2)\n",
            "Requirement already satisfied: six>=1.5 in /usr/local/lib/python3.10/dist-packages (from python-dateutil>=2.8.2->pandas!=2.1.0,>=1.4->statsmodels) (1.16.0)\n"
          ]
        }
      ],
      "source": [
        "!pip install statsmodels --upgrade\n",
        "from scipy.stats import norm\n",
        "import numpy as np\n",
        "import pandas as pd\n",
        "import seaborn as sns\n",
        "import matplotlib.pyplot as plt\n",
        "from scipy import stats\n",
        "from statsmodels.stats.proportion import proportions_ztest, proportion_effectsize"
      ]
    },
    {
      "cell_type": "code",
      "source": [
        "checkout_df = pd.read_csv('checkout.csv')\n",
        "admissions_df = pd.read_csv('admissions.csv')"
      ],
      "metadata": {
        "id": "6T9dSS-tCofH"
      },
      "execution_count": 2,
      "outputs": []
    },
    {
      "cell_type": "code",
      "source": [
        "n_A = checkout_df[checkout_df['checkout_page'] == 'A']['purchased'].count()\n",
        "n_B = checkout_df[checkout_df['checkout_page'] == 'B']['purchased'].count()\n",
        "\n",
        "n_A, n_B"
      ],
      "metadata": {
        "colab": {
          "base_uri": "https://localhost:8080/"
        },
        "id": "FWO3ICo5CuEH",
        "outputId": "6df1d23e-5c1c-49ae-fe51-d4274782585b"
      },
      "execution_count": 3,
      "outputs": [
        {
          "output_type": "execute_result",
          "data": {
            "text/plain": [
              "(3000, 3000)"
            ]
          },
          "metadata": {},
          "execution_count": 3
        }
      ]
    },
    {
      "cell_type": "code",
      "source": [
        "p_A = checkout_df[checkout_df['checkout_page'] == 'A']['purchased'].mean()\n",
        "p_B = checkout_df[checkout_df['checkout_page'] == 'B']['purchased'].mean()\n",
        "\n",
        "p_A, p_B"
      ],
      "metadata": {
        "colab": {
          "base_uri": "https://localhost:8080/"
        },
        "id": "WY24C0LCCv6K",
        "outputId": "51a0986d-6891-4286-b4c1-5adf64255ca4"
      },
      "execution_count": 4,
      "outputs": [
        {
          "output_type": "execute_result",
          "data": {
            "text/plain": [
              "(0.8203333333333334, 0.847)"
            ]
          },
          "metadata": {},
          "execution_count": 4
        }
      ]
    },
    {
      "cell_type": "code",
      "source": [
        "x = np.linspace(0.775, 0.9, 500)\n",
        "norm_a = norm.pdf(x, p_A, np.sqrt(p_A * (1 - p_A) / n_A))\n",
        "norm_b = norm.pdf(x, p_B, np.sqrt(p_B * (1 - p_B) / n_B))\n",
        "\n",
        "fig, ax = plt.subplots()\n",
        "sns.lineplot(x=x, y=norm_a, label='A', ax=ax, color='orange')\n",
        "sns.lineplot(x=x, y=norm_b, label='B', ax=ax, color='blue')\n",
        "ax.axvline(p_A, linestyle='--', color='orange', label='Mean A')\n",
        "ax.axvline(p_B, linestyle='--', color='blue', label='Mean B')\n",
        "plt.legend()\n",
        "plt.show()"
      ],
      "metadata": {
        "colab": {
          "base_uri": "https://localhost:8080/",
          "height": 430
        },
        "id": "1a6WwIm9CwnM",
        "outputId": "db2218dd-b379-42dc-b4fc-de348487bc82"
      },
      "execution_count": 9,
      "outputs": [
        {
          "output_type": "display_data",
          "data": {
            "text/plain": [
              "<Figure size 640x480 with 1 Axes>"
            ],
            "image/png": "[encoded data removed]"
          },
          "metadata": {}
        }
      ]
    },
    {
      "cell_type": "code",
      "source": [
        "proportion_effectsize(.33, .3)"
      ],
      "metadata": {
        "colab": {
          "base_uri": "https://localhost:8080/"
        },
        "id": "na3P8L6xDoXM",
        "outputId": "055ad34f-3372-4d34-ce5e-4e6e92ac72f4"
      },
      "execution_count": 16,
      "outputs": [
        {
          "output_type": "execute_result",
          "data": {
            "text/plain": [
              "0.06459994854032636"
            ]
          },
          "metadata": {},
          "execution_count": 16
        }
      ]
    },
    {
      "cell_type": "code",
      "source": [
        "proportion_effectsize(p_B, p_A)"
      ],
      "metadata": {
        "colab": {
          "base_uri": "https://localhost:8080/"
        },
        "id": "R-uahKOCIuSP",
        "outputId": "79729cf8-17c5-4fbc-b25c-cc2330feaa59"
      },
      "execution_count": 17,
      "outputs": [
        {
          "output_type": "execute_result",
          "data": {
            "text/plain": [
              "0.07166382073486188"
            ]
          },
          "metadata": {},
          "execution_count": 17
        }
      ]
    },
    {
      "cell_type": "code",
      "source": [],
      "metadata": {
        "id": "5d0se-kjJWJ9"
      },
      "execution_count": null,
      "outputs": []
    }
  ]
}