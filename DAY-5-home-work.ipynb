{
 "cells": [
  {
   "cell_type": "markdown",
   "metadata": {},
   "source": [
    "# Download train.csv from kaggle titanic dataset: \n",
    "https://www.kaggle.com/competitions/titanic/overview"
   ]
  },
  {
   "cell_type": "code",
   "execution_count": 19,
   "metadata": {},
   "outputs": [],
   "source": [
    "# Pandas Practice Exercises with Titanic Dataset\n",
    "import pandas as pd\n",
    "import numpy as np"
   ]
  },
  {
   "cell_type": "code",
   "execution_count": 20,
   "metadata": {},
   "outputs": [
    {
     "data": {
      "text/html": [
       "<div>\n",
       "<style scoped>\n",
       "    .dataframe tbody tr th:only-of-type {\n",
       "        vertical-align: middle;\n",
       "    }\n",
       "\n",
       "    .dataframe tbody tr th {\n",
       "        vertical-align: top;\n",
       "    }\n",
       "\n",
       "    .dataframe thead th {\n",
       "        text-align: right;\n",
       "    }\n",
       "</style>\n",
       "<table border=\"1\" class=\"dataframe\">\n",
       "  <thead>\n",
       "    <tr style=\"text-align: right;\">\n",
       "      <th></th>\n",
       "      <th>PassengerId</th>\n",
       "      <th>Survived</th>\n",
       "      <th>Pclass</th>\n",
       "      <th>Name</th>\n",
       "      <th>Sex</th>\n",
       "      <th>Age</th>\n",
       "      <th>SibSp</th>\n",
       "      <th>Parch</th>\n",
       "      <th>Ticket</th>\n",
       "      <th>Fare</th>\n",
       "      <th>Cabin</th>\n",
       "      <th>Embarked</th>\n",
       "    </tr>\n",
       "  </thead>\n",
       "  <tbody>\n",
       "    <tr>\n",
       "      <th>0</th>\n",
       "      <td>1</td>\n",
       "      <td>0</td>\n",
       "      <td>3</td>\n",
       "      <td>Braund, Mr. Owen Harris</td>\n",
       "      <td>male</td>\n",
       "      <td>22.0</td>\n",
       "      <td>1</td>\n",
       "      <td>0</td>\n",
       "      <td>A/5 21171</td>\n",
       "      <td>7.2500</td>\n",
       "      <td>NaN</td>\n",
       "      <td>S</td>\n",
       "    </tr>\n",
       "    <tr>\n",
       "      <th>1</th>\n",
       "      <td>2</td>\n",
       "      <td>1</td>\n",
       "      <td>1</td>\n",
       "      <td>Cumings, Mrs. John Bradley (Florence Briggs Th...</td>\n",
       "      <td>female</td>\n",
       "      <td>38.0</td>\n",
       "      <td>1</td>\n",
       "      <td>0</td>\n",
       "      <td>PC 17599</td>\n",
       "      <td>71.2833</td>\n",
       "      <td>C85</td>\n",
       "      <td>C</td>\n",
       "    </tr>\n",
       "    <tr>\n",
       "      <th>2</th>\n",
       "      <td>3</td>\n",
       "      <td>1</td>\n",
       "      <td>3</td>\n",
       "      <td>Heikkinen, Miss. Laina</td>\n",
       "      <td>female</td>\n",
       "      <td>26.0</td>\n",
       "      <td>0</td>\n",
       "      <td>0</td>\n",
       "      <td>STON/O2. 3101282</td>\n",
       "      <td>7.9250</td>\n",
       "      <td>NaN</td>\n",
       "      <td>S</td>\n",
       "    </tr>\n",
       "    <tr>\n",
       "      <th>3</th>\n",
       "      <td>4</td>\n",
       "      <td>1</td>\n",
       "      <td>1</td>\n",
       "      <td>Futrelle, Mrs. Jacques Heath (Lily May Peel)</td>\n",
       "      <td>female</td>\n",
       "      <td>35.0</td>\n",
       "      <td>1</td>\n",
       "      <td>0</td>\n",
       "      <td>113803</td>\n",
       "      <td>53.1000</td>\n",
       "      <td>C123</td>\n",
       "      <td>S</td>\n",
       "    </tr>\n",
       "    <tr>\n",
       "      <th>4</th>\n",
       "      <td>5</td>\n",
       "      <td>0</td>\n",
       "      <td>3</td>\n",
       "      <td>Allen, Mr. William Henry</td>\n",
       "      <td>male</td>\n",
       "      <td>35.0</td>\n",
       "      <td>0</td>\n",
       "      <td>0</td>\n",
       "      <td>373450</td>\n",
       "      <td>8.0500</td>\n",
       "      <td>NaN</td>\n",
       "      <td>S</td>\n",
       "    </tr>\n",
       "    <tr>\n",
       "      <th>...</th>\n",
       "      <td>...</td>\n",
       "      <td>...</td>\n",
       "      <td>...</td>\n",
       "      <td>...</td>\n",
       "      <td>...</td>\n",
       "      <td>...</td>\n",
       "      <td>...</td>\n",
       "      <td>...</td>\n",
       "      <td>...</td>\n",
       "      <td>...</td>\n",
       "      <td>...</td>\n",
       "      <td>...</td>\n",
       "    </tr>\n",
       "    <tr>\n",
       "      <th>886</th>\n",
       "      <td>887</td>\n",
       "      <td>0</td>\n",
       "      <td>2</td>\n",
       "      <td>Montvila, Rev. Juozas</td>\n",
       "      <td>male</td>\n",
       "      <td>27.0</td>\n",
       "      <td>0</td>\n",
       "      <td>0</td>\n",
       "      <td>211536</td>\n",
       "      <td>13.0000</td>\n",
       "      <td>NaN</td>\n",
       "      <td>S</td>\n",
       "    </tr>\n",
       "    <tr>\n",
       "      <th>887</th>\n",
       "      <td>888</td>\n",
       "      <td>1</td>\n",
       "      <td>1</td>\n",
       "      <td>Graham, Miss. Margaret Edith</td>\n",
       "      <td>female</td>\n",
       "      <td>19.0</td>\n",
       "      <td>0</td>\n",
       "      <td>0</td>\n",
       "      <td>112053</td>\n",
       "      <td>30.0000</td>\n",
       "      <td>B42</td>\n",
       "      <td>S</td>\n",
       "    </tr>\n",
       "    <tr>\n",
       "      <th>888</th>\n",
       "      <td>889</td>\n",
       "      <td>0</td>\n",
       "      <td>3</td>\n",
       "      <td>Johnston, Miss. Catherine Helen \"Carrie\"</td>\n",
       "      <td>female</td>\n",
       "      <td>NaN</td>\n",
       "      <td>1</td>\n",
       "      <td>2</td>\n",
       "      <td>W./C. 6607</td>\n",
       "      <td>23.4500</td>\n",
       "      <td>NaN</td>\n",
       "      <td>S</td>\n",
       "    </tr>\n",
       "    <tr>\n",
       "      <th>889</th>\n",
       "      <td>890</td>\n",
       "      <td>1</td>\n",
       "      <td>1</td>\n",
       "      <td>Behr, Mr. Karl Howell</td>\n",
       "      <td>male</td>\n",
       "      <td>26.0</td>\n",
       "      <td>0</td>\n",
       "      <td>0</td>\n",
       "      <td>111369</td>\n",
       "      <td>30.0000</td>\n",
       "      <td>C148</td>\n",
       "      <td>C</td>\n",
       "    </tr>\n",
       "    <tr>\n",
       "      <th>890</th>\n",
       "      <td>891</td>\n",
       "      <td>0</td>\n",
       "      <td>3</td>\n",
       "      <td>Dooley, Mr. Patrick</td>\n",
       "      <td>male</td>\n",
       "      <td>32.0</td>\n",
       "      <td>0</td>\n",
       "      <td>0</td>\n",
       "      <td>370376</td>\n",
       "      <td>7.7500</td>\n",
       "      <td>NaN</td>\n",
       "      <td>Q</td>\n",
       "    </tr>\n",
       "  </tbody>\n",
       "</table>\n",
       "<p>891 rows × 12 columns</p>\n",
       "</div>"
      ],
      "text/plain": [
       "     PassengerId  Survived  Pclass  \\\n",
       "0              1         0       3   \n",
       "1              2         1       1   \n",
       "2              3         1       3   \n",
       "3              4         1       1   \n",
       "4              5         0       3   \n",
       "..           ...       ...     ...   \n",
       "886          887         0       2   \n",
       "887          888         1       1   \n",
       "888          889         0       3   \n",
       "889          890         1       1   \n",
       "890          891         0       3   \n",
       "\n",
       "                                                  Name     Sex   Age  SibSp  \\\n",
       "0                              Braund, Mr. Owen Harris    male  22.0      1   \n",
       "1    Cumings, Mrs. John Bradley (Florence Briggs Th...  female  38.0      1   \n",
       "2                               Heikkinen, Miss. Laina  female  26.0      0   \n",
       "3         Futrelle, Mrs. Jacques Heath (Lily May Peel)  female  35.0      1   \n",
       "4                             Allen, Mr. William Henry    male  35.0      0   \n",
       "..                                                 ...     ...   ...    ...   \n",
       "886                              Montvila, Rev. Juozas    male  27.0      0   \n",
       "887                       Graham, Miss. Margaret Edith  female  19.0      0   \n",
       "888           Johnston, Miss. Catherine Helen \"Carrie\"  female   NaN      1   \n",
       "889                              Behr, Mr. Karl Howell    male  26.0      0   \n",
       "890                                Dooley, Mr. Patrick    male  32.0      0   \n",
       "\n",
       "     Parch            Ticket     Fare Cabin Embarked  \n",
       "0        0         A/5 21171   7.2500   NaN        S  \n",
       "1        0          PC 17599  71.2833   C85        C  \n",
       "2        0  STON/O2. 3101282   7.9250   NaN        S  \n",
       "3        0            113803  53.1000  C123        S  \n",
       "4        0            373450   8.0500   NaN        S  \n",
       "..     ...               ...      ...   ...      ...  \n",
       "886      0            211536  13.0000   NaN        S  \n",
       "887      0            112053  30.0000   B42        S  \n",
       "888      2        W./C. 6607  23.4500   NaN        S  \n",
       "889      0            111369  30.0000  C148        C  \n",
       "890      0            370376   7.7500   NaN        Q  \n",
       "\n",
       "[891 rows x 12 columns]"
      ]
     },
     "execution_count": 20,
     "metadata": {},
     "output_type": "execute_result"
    }
   ],
   "source": [
    "# Load the dataset\n",
    "df = pd.read_csv('train.csv')\n",
    "df"
   ]
  },
  {
   "cell_type": "code",
   "execution_count": 21,
   "metadata": {},
   "outputs": [
    {
     "data": {
      "text/plain": [
       "True"
      ]
     },
     "execution_count": 21,
     "metadata": {},
     "output_type": "execute_result"
    }
   ],
   "source": [
    "\n",
    "# Exercise 1: Display the first 5 rows of the dataset\n",
    "first_five_rows = df.head()\n",
    "# Assert\n",
    "assert first_five_rows.shape[0] == 5, f\"Expected 5 rows, but got {first_five_rows.shape[0]}\"\n",
    "first_five_rows.shape[0] == 5"
   ]
  },
  {
   "cell_type": "code",
   "execution_count": 22,
   "metadata": {},
   "outputs": [
    {
     "data": {
      "text/plain": [
       "True"
      ]
     },
     "execution_count": 22,
     "metadata": {},
     "output_type": "execute_result"
    }
   ],
   "source": [
    "# Exercise 2: Calculate the mean age of passengers\n",
    "mean_age = df['Age'].sum() / df['Age'].count()\n",
    "# Assert\n",
    "expected_mean_age = df['Age'].mean()\n",
    "assert np.isclose(mean_age, expected_mean_age), f\"Expected {expected_mean_age}, but got {mean_age}\"\n",
    "np.isclose(mean_age, expected_mean_age)\n"
   ]
  },
  {
   "cell_type": "code",
   "execution_count": 23,
   "metadata": {},
   "outputs": [
    {
     "data": {
      "text/plain": [
       "True"
      ]
     },
     "execution_count": 23,
     "metadata": {},
     "output_type": "execute_result"
    }
   ],
   "source": [
    "\n",
    "# Exercise 3: Find the number of missing values in the 'Cabin' column\n",
    "missing_cabin = len(df[df['Cabin'].isnull()])\n",
    "# Assert\n",
    "expected_missing_cabin = df['Cabin'].isnull().sum()\n",
    "assert missing_cabin == expected_missing_cabin, f\"Expected {expected_missing_cabin}, but got {missing_cabin}\"\n",
    "missing_cabin == expected_missing_cabin\n"
   ]
  },
  {
   "cell_type": "code",
   "execution_count": 24,
   "metadata": {},
   "outputs": [
    {
     "data": {
      "text/plain": [
       "array([ True])"
      ]
     },
     "execution_count": 24,
     "metadata": {},
     "output_type": "execute_result"
    }
   ],
   "source": [
    "\n",
    "# Exercise 4: Filter the DataFrame to include only female passengers\n",
    "female_df = df[df['Sex'] == 'female']\n",
    "# Assert\n",
    "assert female_df['Sex'].unique() == ['female'], \"DataFrame contains non-female passengers\"\n",
    "female_df['Sex'].unique() == ['female']"
   ]
  },
  {
   "cell_type": "code",
   "execution_count": 25,
   "metadata": {},
   "outputs": [
    {
     "data": {
      "text/plain": [
       "True"
      ]
     },
     "execution_count": 25,
     "metadata": {},
     "output_type": "execute_result"
    }
   ],
   "source": [
    "\n",
    "# Exercise 5: Calculate the survival rate (percentage) of passengers\n",
    "survival_rate = (df['Survived'].sum() / df['Survived'].count()) * 100\n",
    "# Assert\n",
    "expected_survival_rate = (df['Survived'].mean()) * 100\n",
    "assert np.isclose(survival_rate, expected_survival_rate), f\"Expected {expected_survival_rate}, but got {survival_rate}\"\n",
    "np.isclose(survival_rate, expected_survival_rate)"
   ]
  },
  {
   "cell_type": "code",
   "execution_count": 26,
   "metadata": {},
   "outputs": [
    {
     "data": {
      "text/plain": [
       "True"
      ]
     },
     "execution_count": 26,
     "metadata": {},
     "output_type": "execute_result"
    }
   ],
   "source": [
    "\n",
    "# Exercise 6: Create a new column 'FamilySize' as the sum of 'SibSp' and 'Parch'\n",
    "df['FamilySize'] = df.agg(lambda row: row['SibSp'] + row['Parch'], axis=1)\n",
    "# Assert\n",
    "expected_family_size = df['SibSp'] + df['Parch']\n",
    "assert df['FamilySize'].equals(expected_family_size), \"Column 'FamilySize' not created correctly\"\n",
    "df['FamilySize'].equals(expected_family_size)"
   ]
  },
  {
   "cell_type": "code",
   "execution_count": 27,
   "metadata": {},
   "outputs": [
    {
     "data": {
      "text/plain": [
       "True"
      ]
     },
     "execution_count": 27,
     "metadata": {},
     "output_type": "execute_result"
    }
   ],
   "source": [
    "\n",
    "# Exercise 8: Calculate the mean fare for each class (Pclass)\n",
    "mean_fare_by_class = df.pivot_table(values='Fare', index='Pclass').to_dict()['Fare']  # Calculate mean fare by class\n",
    "# Assert\n",
    "expected_mean_fare_by_class = df.groupby('Pclass')['Fare'].mean().to_dict()\n",
    "assert mean_fare_by_class == expected_mean_fare_by_class, f\"Expected {expected_mean_fare_by_class}, but got {mean_fare_by_class}\"\n",
    "mean_fare_by_class == expected_mean_fare_by_class"
   ]
  },
  {
   "cell_type": "code",
   "execution_count": 28,
   "metadata": {},
   "outputs": [
    {
     "data": {
      "text/plain": [
       "True"
      ]
     },
     "execution_count": 28,
     "metadata": {},
     "output_type": "execute_result"
    }
   ],
   "source": [
    "\n",
    "# Exercise 9: Sort the DataFrame by 'Age' in ascending order\n",
    "sorted_by_age_df = df.set_index(keys='Age').sort_index().reset_index()\n",
    "# Assert\n",
    "expected_sorted_names_by_age = df.sort_values(by='Age')['Name'].tolist()\n",
    "assert sorted_by_age_df['Name'].tolist() == expected_sorted_names_by_age, \"DataFrame not sorted correctly by age\"\n",
    "sorted_by_age_df['Name'].tolist() == expected_sorted_names_by_age"
   ]
  },
  {
   "cell_type": "code",
   "execution_count": 29,
   "metadata": {},
   "outputs": [
    {
     "data": {
      "text/plain": [
       "True"
      ]
     },
     "execution_count": 29,
     "metadata": {},
     "output_type": "execute_result"
    }
   ],
   "source": [
    "\n",
    "# Exercise 10: Reset the index of the sorted DataFrame\n",
    "reset_sorted_by_age_df = df  # Reset index\n",
    "# Assert\n",
    "assert reset_sorted_by_age_df.index.tolist() == list(range(df.shape[0])), f\"Index not reset correctly\"\n",
    "reset_sorted_by_age_df.index.tolist() == list(range(df.shape[0]))"
   ]
  },
  {
   "cell_type": "code",
   "execution_count": 30,
   "metadata": {},
   "outputs": [
    {
     "data": {
      "text/plain": [
       "True"
      ]
     },
     "execution_count": 30,
     "metadata": {},
     "output_type": "execute_result"
    }
   ],
   "source": [
    "\n",
    "# Exercise 11: Find the unique values in the 'Pclass' column\n",
    "unique_pclass_values = df.drop_duplicates('Pclass')['Pclass']  # Find unique values\n",
    "# Assert\n",
    "expected_unique_pclass_values = df['Pclass'].unique()\n",
    "assert np.array_equal(unique_pclass_values, expected_unique_pclass_values), f\"Expected {expected_unique_pclass_values}, but got {unique_pclass_values}\"\n",
    "np.array_equal(unique_pclass_values, expected_unique_pclass_values)"
   ]
  },
  {
   "cell_type": "code",
   "execution_count": 31,
   "metadata": {},
   "outputs": [
    {
     "data": {
      "text/plain": [
       "True"
      ]
     },
     "execution_count": 31,
     "metadata": {},
     "output_type": "execute_result"
    }
   ],
   "source": [
    "# Exercise 12: Filter passengers older than 30\n",
    "older_than_30_df = df[df['Age'] > 30]\n",
    "# Assert\n",
    "assert older_than_30_df['Age'].min() > 30, \"DataFrame contains passengers 30 or younger\"\n",
    "older_than_30_df['Age'].min() > 30"
   ]
  },
  {
   "cell_type": "code",
   "execution_count": 32,
   "metadata": {},
   "outputs": [
    {
     "data": {
      "text/plain": [
       "True"
      ]
     },
     "execution_count": 32,
     "metadata": {},
     "output_type": "execute_result"
    }
   ],
   "source": [
    "# Exercise 13: Create a pivot table with 'Pclass' as rows and 'Survived' as values, calculating the mean survival rate per class\n",
    "pivot_table_survival = df.groupby('Pclass')['Survived'].mean().to_dict()\n",
    "# Assert\n",
    "expected_pivot_table_survival = df.pivot_table(values='Survived', index='Pclass', aggfunc='mean').to_dict()['Survived']\n",
    "assert pivot_table_survival == expected_pivot_table_survival, f\"Expected {expected_pivot_table_survival}, but got {pivot_table_survival}\"\n",
    "pivot_table_survival == expected_pivot_table_survival"
   ]
  },
  {
   "cell_type": "code",
   "execution_count": 33,
   "metadata": {},
   "outputs": [
    {
     "data": {
      "text/plain": [
       "True"
      ]
     },
     "execution_count": 33,
     "metadata": {},
     "output_type": "execute_result"
    }
   ],
   "source": [
    "# Exercise 14: Calculate the standard deviation of the 'Fare' column\n",
    "mn = df['Fare'].mean()\n",
    "n = df['Fare'].count()\n",
    "re = sum((df['Fare'] - mn) ** 2) / (n - 1)\n",
    "fare_std = re ** 0.5  # Calculate standard deviation\n",
    "# Assert\n",
    "expected_fare_std = df['Fare'].std()\n",
    "assert np.isclose(fare_std, expected_fare_std), f\"Expected {expected_fare_std}, but got {fare_std}\"\n",
    "np.isclose(fare_std, expected_fare_std)"
   ]
  },
  {
   "cell_type": "code",
   "execution_count": 34,
   "metadata": {},
   "outputs": [
    {
     "data": {
      "text/plain": [
       "True"
      ]
     },
     "execution_count": 34,
     "metadata": {},
     "output_type": "execute_result"
    }
   ],
   "source": [
    "# Exercise 15: Add a row for a new passenger with the following details: \n",
    "# Name: 'Test Passenger', Pclass: 3, Age: 25, SibSp: 0, Parch: 0, Ticket: '0000', Fare: 7.25, Cabin: 'E50', Embarked: 'S'\n",
    "new_passenger = pd.DataFrame([{\n",
    "    'PassengerId': df['PassengerId'].max() + 1,\n",
    "    'Survived': 0,\n",
    "    'Pclass': 3,\n",
    "    'Name': 'Test Passenger',\n",
    "    'Sex': 'male',\n",
    "    'Age': 25,\n",
    "    'SibSp': 0,\n",
    "    'Parch': 0,\n",
    "    'Ticket': '0000',\n",
    "    'Fare': 7.25,\n",
    "    'Cabin': 'E50',\n",
    "    'Embarked': 'S'\n",
    "}])\n",
    "df = pd.concat([df, new_passenger], ignore_index=True)  # Add new passenger\n",
    "# Assert\n",
    "assert df.iloc[-1]['Name'] == 'Test Passenger', \"New passenger not added correctly\"\n",
    "df.iloc[-1]['Name'] == 'Test Passenger'\n"
   ]
  },
  {
   "cell_type": "code",
   "execution_count": 35,
   "metadata": {},
   "outputs": [
    {
     "name": "stderr",
     "output_type": "stream",
     "text": [
      "/tmp/ipykernel_8744/86987732.py:33: FutureWarning: using <function categorize_age at 0x711461ee9b40> in Series.agg cannot aggregate and has been deprecated. Use Series.transform to keep behavior unchanged.\n",
      "  df['AgeGroup'] = df['Age'].agg(categorize_age)  # Create new column\n"
     ]
    },
    {
     "data": {
      "text/plain": [
       "True"
      ]
     },
     "execution_count": 35,
     "metadata": {},
     "output_type": "execute_result"
    }
   ],
   "source": [
    "\n",
    "\n",
    "# Exercise 16: Calculate the correlation matrix of the DataFrame\n",
    "number = df.select_dtypes(include=['number'])\n",
    "correlation_matrix = number.corr(method='kendall')  # Calculate correlation matrix\n",
    "# Assert\n",
    "assert correlation_matrix is not None, \"Correlation matrix is None\"\n",
    "\n",
    "# Exercise 17: Filter the DataFrame for passengers who paid a fare greater than 100\n",
    "high_fare_df = df[df['Fare'] > 100]  # Filter high fare passengers\n",
    "# Assert\n",
    "assert high_fare_df['Fare'].min() > 100, \"DataFrame contains passengers who paid 100 or less\"\n",
    "\n",
    "# Exercise 18: Calculate the average age of passengers for each embarkation point\n",
    "average_age_by_embarkation = df.pivot_table(index='Embarked', values='Age').to_dict()['Age']  # Calculate average age by embarkation\n",
    "# Assert\n",
    "expected_average_age_by_embarkation = df.groupby('Embarked')['Age'].mean().to_dict()\n",
    "assert average_age_by_embarkation == expected_average_age_by_embarkation, f\"Expected {expected_average_age_by_embarkation}, but got {average_age_by_embarkation}\"\n",
    "\n",
    "# Exercise 19: Find the number of passengers in each class\n",
    "passenger_count_by_class = df.groupby('Pclass').count()['PassengerId'].to_dict()  # Find number of passengers in each class\n",
    "# Assert\n",
    "expected_passenger_count_by_class = df['Pclass'].value_counts().to_dict()\n",
    "assert passenger_count_by_class == expected_passenger_count_by_class, f\"Expected {expected_passenger_count_by_class}, but got {passenger_count_by_class}\"\n",
    "\n",
    "# Exercise 20: Create a new column 'AgeGroup' categorizing passengers as 'Child' (<18), 'Adult' (18-60), 'Senior' (>60)\n",
    "def categorize_age(age):\n",
    "    if age < 18:\n",
    "        return 'Child'\n",
    "    elif age <= 60:\n",
    "        return 'Adult'\n",
    "    else:\n",
    "        return 'Senior'\n",
    "\n",
    "df['AgeGroup'] = df['Age'].agg(categorize_age)  # Create new column\n",
    "# Assert\n",
    "expected_age_groups = df['Age'].apply(categorize_age).tolist()\n",
    "assert df['AgeGroup'].tolist() == expected_age_groups, \"Column 'AgeGroup' not created correctly\"\n",
    "df['AgeGroup'].tolist() == expected_age_groups\n"
   ]
  }
 ],
 "metadata": {
  "kernelspec": {
   "display_name": "bootcamp",
   "language": "python",
   "name": "python3"
  },
  "language_info": {
   "codemirror_mode": {
    "name": "ipython",
    "version": 3
   },
   "file_extension": ".py",
   "mimetype": "text/x-python",
   "name": "python",
   "nbconvert_exporter": "python",
   "pygments_lexer": "ipython3",
   "version": "3.10.12"
  }
 },
 "nbformat": 4,
 "nbformat_minor": 2
}
