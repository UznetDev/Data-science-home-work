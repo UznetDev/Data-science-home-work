{
  "nbformat": 4,
  "nbformat_minor": 0,
  "metadata": {
    "colab": {
      "provenance": [],
      "authorship_tag": "ABX9TyMUvprPyQ6AWq6WoLB31sW0",
      "include_colab_link": true
    },
    "kernelspec": {
      "name": "python3",
      "display_name": "Python 3"
    },
    "language_info": {
      "name": "python"
    }
  },
  "cells": [
    {
      "cell_type": "markdown",
      "metadata": {
        "id": "view-in-github",
        "colab_type": "text"
      },
      "source": [
        "<a href=\"https://colab.research.google.com/github/UznetDev/Data-science-home-work/blob/main/22_Okt_2024_home_work.ipynb\" target=\"_parent\"><img src=\"https://colab.research.google.com/assets/colab-badge.svg\" alt=\"Open In Colab\"/></a>"
      ]
    },
    {
      "cell_type": "code",
      "execution_count": null,
      "metadata": {
        "id": "X1BVmgYXnpF0"
      },
      "outputs": [],
      "source": [
        "import pandas as pd\n",
        "import numpy as np\n",
        "import matplotlib.pyplot as plt\n",
        "import seaborn as sns\n",
        "from sklearn.model_selection import train_test_split, RandomizedSearchCV, GridSearchCV, StratifiedKFold\n",
        "from sklearn.linear_model import LogisticRegression\n",
        "from sklearn.ensemble import RandomForestClassifier\n",
        "from sklearn.tree import DecisionTreeClassifier\n",
        "from scipy.stats import randint, uniform\n",
        "import warnings\n",
        "warnings.filterwarnings('ignore')"
      ]
    },
    {
      "cell_type": "code",
      "source": [
        "train_df = pd.read_csv('train.csv')\n",
        "test_df = pd.read_csv('test.csv')\n",
        "train_df.head(1)"
      ],
      "metadata": {
        "id": "yfITBDw1pWtG"
      },
      "execution_count": null,
      "outputs": []
    },
    {
      "cell_type": "code",
      "source": [
        "X = train_df.drop('target', axis=1)\n",
        "y = train_df['target']"
      ],
      "metadata": {
        "id": "BQFToS3Bpd2z"
      },
      "execution_count": null,
      "outputs": []
    },
    {
      "cell_type": "code",
      "source": [
        "X_train, X_test, y_train, y_test = train_test_split(X, y, test_size=0.2, random_state=1, stratify=y)"
      ],
      "metadata": {
        "id": "7aTyYO94pfPn"
      },
      "execution_count": null,
      "outputs": []
    },
    {
      "cell_type": "code",
      "source": [
        "stf = StratifiedKFold(n_splits=5, shuffle=True, random_state=1)"
      ],
      "metadata": {
        "id": "F0b9W3j5ph-E"
      },
      "execution_count": null,
      "outputs": []
    },
    {
      "cell_type": "markdown",
      "source": [
        "### LogisticRegression"
      ],
      "metadata": {
        "id": "Y8OJJB53osQl"
      }
    },
    {
      "cell_type": "code",
      "source": [
        "param_grid_logistic = {\n",
        "    'penalty': ['l1', 'l2', 'elasticnet', 'none'],\n",
        "    'C': [0.0001, 0.001, 0.01, 0.1],\n",
        "    'solver': ['newton-cg', 'lbfgs', 'liblinear', 'saga'],\n",
        "    'max_iter': [100, 200, 300, 500]\n",
        "}\n",
        "\n",
        "logistic = LogisticRegression()\n",
        "\n",
        "random_search_logistic = RandomizedSearchCV(logistic,\n",
        "                                            param_grid_logistic,\n",
        "                                            n_iter=20, cv=5, scoring='roc_auc', random_state=42, n_jobs=-1)"
      ],
      "metadata": {
        "id": "ngyShjQkotOm"
      },
      "execution_count": null,
      "outputs": []
    },
    {
      "cell_type": "code",
      "source": [
        "grid_search_logistic = GridSearchCV(logistic, param_grid_logistic, cv=5, scoring='roc_auc', n_jobs=-1)"
      ],
      "metadata": {
        "id": "86pZ0hMUpsQ_"
      },
      "execution_count": null,
      "outputs": []
    },
    {
      "cell_type": "code",
      "source": [
        "grid_search_logistic.fit(X_train, y_train)"
      ],
      "metadata": {
        "id": "hnmDxq_Qpwq6"
      },
      "execution_count": null,
      "outputs": []
    },
    {
      "cell_type": "code",
      "source": [
        "print(\"Grid Search Best Logistic Regression Params:\", grid_search_logistic.best_params_)\n",
        "print(\"Random Search Best Logistic Regression Params:\", random_search_logistic.best_params_)\n"
      ],
      "metadata": {
        "id": "3BsQTDdTp0Eb"
      },
      "execution_count": null,
      "outputs": []
    },
    {
      "cell_type": "markdown",
      "source": [
        "### RandomForestClassifier"
      ],
      "metadata": {
        "id": "Yb7l2DcIqAto"
      }
    },
    {
      "cell_type": "code",
      "source": [
        "param_grid_random_forest = {\n",
        "    'n_estimators': [100, 200, 300, 500],\n",
        "    'max_features': ['auto', 'sqrt', 'log2'],\n",
        "    'max_depth': [None, 10, 20, 30, 50],\n",
        "    'min_samples_split': [2, 5, 10],\n",
        "    'min_samples_leaf': [1, 2, 4],\n",
        "    'bootstrap': [True, False]\n",
        "}\n",
        "\n",
        "random_forest = RandomForestClassifier()\n"
      ],
      "metadata": {
        "id": "o776I1CMqByC"
      },
      "execution_count": null,
      "outputs": []
    },
    {
      "cell_type": "code",
      "source": [
        "random_search_random_forest = RandomizedSearchCV(random_forest, param_grid_random_forest, n_iter=20, cv=5, scoring='roc_auc', random_state=42, n_jobs=-1)\n"
      ],
      "metadata": {
        "id": "Ph42gNjWqLGE"
      },
      "execution_count": null,
      "outputs": []
    },
    {
      "cell_type": "code",
      "source": [
        "grid_search_random_forest = GridSearchCV(random_forest, param_grid_random_forest, cv=5, scoring='roc_auc', n_jobs=-1)\n"
      ],
      "metadata": {
        "id": "K6dD5qURqP2M"
      },
      "execution_count": null,
      "outputs": []
    },
    {
      "cell_type": "code",
      "source": [
        "print(\"Grid Search Best Random Forest Params:\", grid_search_random_forest.best_params_)\n",
        "print(\"Random Search Best Random Forest Params:\", random_search_random_forest.best_params_)\n"
      ],
      "metadata": {
        "id": "8Li0I9BDqSmu"
      },
      "execution_count": null,
      "outputs": []
    },
    {
      "cell_type": "code",
      "source": [
        "param_grid_decision_tree = {\n",
        "    'max_depth': [None, 10, 20, 30, 50],\n",
        "    'min_samples_split': [2, 5, 10, 20],\n",
        "    'min_samples_leaf': [1, 2, 4, 8],\n",
        "    'criterion': ['gini', 'entropy']\n",
        "}\n",
        "\n",
        "\n",
        "\n",
        "decision_tree = DecisionTreeClassifier()\n",
        "\n",
        "grid_search_decision_tree = GridSearchCV(decision_tree, param_grid_decision_tree, cv=5, scoring='roc_auc', n_jobs=-1)"
      ],
      "metadata": {
        "id": "iqCC_sqnpAtK"
      },
      "execution_count": null,
      "outputs": []
    },
    {
      "cell_type": "code",
      "source": [
        "random_search_decision_tree = RandomizedSearchCV(decision_tree, param_grid_decision_tree, n_iter=20, cv=5, scoring='roc_auc', random_state=42, n_jobs=-1)"
      ],
      "metadata": {
        "id": "isfBIY1oqbRH"
      },
      "execution_count": null,
      "outputs": []
    },
    {
      "cell_type": "code",
      "source": [
        "print(\"Grid Search Best Decision Tree Params:\", grid_search_decision_tree.best_params_)\n",
        "\n",
        "print(\"Random Search Best Decision Tree Params:\", random_search_decision_tree.best_params_)\n"
      ],
      "metadata": {
        "id": "H97jtsQCqaWc"
      },
      "execution_count": null,
      "outputs": []
    }
  ]
}