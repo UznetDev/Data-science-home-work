{
  "nbformat": 4,
  "nbformat_minor": 0,
  "metadata": {
    "colab": {
      "provenance": [],
      "authorship_tag": "ABX9TyN5VWMeUDjjwDsLmcpNVnUm",
      "include_colab_link": true
    },
    "kernelspec": {
      "name": "python3",
      "display_name": "Python 3"
    },
    "language_info": {
      "name": "python"
    }
  },
  "cells": [
    {
      "cell_type": "markdown",
      "metadata": {
        "id": "view-in-github",
        "colab_type": "text"
      },
      "source": [
        "<a href=\"https://colab.research.google.com/github/UznetDev/Data-science-home-work/blob/main/20_Avg_2024.ipynb\" target=\"_parent\"><img src=\"https://colab.research.google.com/assets/colab-badge.svg\" alt=\"Open In Colab\"/></a>"
      ]
    },
    {
      "cell_type": "code",
      "execution_count": 4,
      "metadata": {
        "id": "QTP9Bq6TA8Ao"
      },
      "outputs": [],
      "source": [
        "# Set-up\n",
        "%load_ext sql\n",
        "%sql sqlite://"
      ]
    },
    {
      "cell_type": "code",
      "source": [
        "import pandas as pd"
      ],
      "metadata": {
        "id": "BYJIcNe-BXd9"
      },
      "execution_count": 5,
      "outputs": []
    },
    {
      "cell_type": "code",
      "source": [
        "# Read datasets from CSV files\n",
        "films = pd.read_csv('films.csv', header=None)\n",
        "films = films.rename(columns={0: 'id',\n",
        "                              1: 'title',\n",
        "                              2: 'releas_date',\n",
        "                              3: 'country',\n",
        "                              4: 'duratioon',\n",
        "                              5: 'language',\n",
        "                              6: 'certificatipon',\n",
        "                              7: 'gross',\n",
        "                              8: 'budget'})\n",
        "reviews = pd.read_csv('reviews.csv', header=None)\n",
        "reviews = reviews.rename(columns={0: 'id',\n",
        "                                  1: 'film_id',\n",
        "                                  2: 'num_user',\n",
        "                                  3: 'num_critic',\n",
        "                                  4: 'imdb_score',\n",
        "                                  5: 'num_votes',\n",
        "                                  6: 'facebook_likes'})\n",
        "people = pd.read_csv('people.csv', header=None)\n",
        "people = people.rename(columns={0: 'id',\n",
        "                                1: 'name',\n",
        "                                2: 'birthdate',\n",
        "                                3: 'deathdate'})\n",
        "roles = pd.read_csv('roles.csv', header=None)\n",
        "roles = roles.rename(columns={0: 'id',\n",
        "                              1: 'film_id',\n",
        "                              2: 'person_id',\n",
        "                              3: 'role'})\n",
        "\n",
        "# Drop tables if they exist, then persist the DataFrames to the SQL database\n",
        "%sql DROP TABLE IF EXISTS films;\n",
        "%sql --persist films\n",
        "\n",
        "%sql DROP TABLE IF EXISTS reviews;\n",
        "%sql --persist reviews\n",
        "\n",
        "%sql DROP TABLE IF EXISTS people;\n",
        "%sql --persist people\n",
        "\n",
        "%sql DROP TABLE IF EXISTS roles;\n",
        "%sql --persist roles"
      ],
      "metadata": {
        "colab": {
          "base_uri": "https://localhost:8080/",
          "height": 244
        },
        "id": "aofyBnXABVam",
        "outputId": "c0a25e18-27e5-41a4-9c47-be150087c026"
      },
      "execution_count": 6,
      "outputs": [
        {
          "output_type": "stream",
          "name": "stdout",
          "text": [
            " * sqlite://\n",
            "Done.\n",
            " * sqlite://\n",
            " * sqlite://\n",
            "Done.\n",
            " * sqlite://\n",
            " * sqlite://\n",
            "Done.\n",
            " * sqlite://\n",
            " * sqlite://\n",
            "Done.\n",
            " * sqlite://\n"
          ]
        },
        {
          "output_type": "execute_result",
          "data": {
            "text/plain": [
              "'Persisted roles'"
            ],
            "application/vnd.google.colaboratory.intrinsic+json": {
              "type": "string"
            }
          },
          "metadata": {},
          "execution_count": 6
        }
      ]
    },
    {
      "cell_type": "code",
      "source": [
        "%%sql SELECT * FROM films LIMIT 1;"
      ],
      "metadata": {
        "colab": {
          "base_uri": "https://localhost:8080/",
          "height": 96
        },
        "id": "t2VqFMPaBZr3",
        "outputId": "77e59031-e427-4605-8e36-4d9e7a30b625"
      },
      "execution_count": 7,
      "outputs": [
        {
          "output_type": "stream",
          "name": "stdout",
          "text": [
            " * sqlite://\n",
            "Done.\n"
          ]
        },
        {
          "output_type": "execute_result",
          "data": {
            "text/plain": [
              "[(0, 1, \"Intolerance: Love's Struggle Throughout the Ages\", 1916.0, 'USA', 123.0, None, 'Not Rated', None, 385907.0)]"
            ],
            "text/html": [
              "<table>\n",
              "    <thead>\n",
              "        <tr>\n",
              "            <th>index</th>\n",
              "            <th>id</th>\n",
              "            <th>title</th>\n",
              "            <th>releas_date</th>\n",
              "            <th>country</th>\n",
              "            <th>duratioon</th>\n",
              "            <th>language</th>\n",
              "            <th>certificatipon</th>\n",
              "            <th>gross</th>\n",
              "            <th>budget</th>\n",
              "        </tr>\n",
              "    </thead>\n",
              "    <tbody>\n",
              "        <tr>\n",
              "            <td>0</td>\n",
              "            <td>1</td>\n",
              "            <td>Intolerance: Love&#x27;s Struggle Throughout the Ages</td>\n",
              "            <td>1916.0</td>\n",
              "            <td>USA</td>\n",
              "            <td>123.0</td>\n",
              "            <td>None</td>\n",
              "            <td>Not Rated</td>\n",
              "            <td>None</td>\n",
              "            <td>385907.0</td>\n",
              "        </tr>\n",
              "    </tbody>\n",
              "</table>"
            ]
          },
          "metadata": {},
          "execution_count": 7
        }
      ]
    },
    {
      "cell_type": "code",
      "source": [
        "%%sql SELECT * FROM reviews LIMIT 1;"
      ],
      "metadata": {
        "colab": {
          "base_uri": "https://localhost:8080/",
          "height": 96
        },
        "id": "KRUjJwRuBqzb",
        "outputId": "c982b210-4fa8-490d-e84b-668cc85d4d15"
      },
      "execution_count": 8,
      "outputs": [
        {
          "output_type": "stream",
          "name": "stdout",
          "text": [
            " * sqlite://\n",
            "Done.\n"
          ]
        },
        {
          "output_type": "execute_result",
          "data": {
            "text/plain": [
              "[(0, 3934, 588.0, 432.0, 7.0999999, 203461, 46000)]"
            ],
            "text/html": [
              "<table>\n",
              "    <thead>\n",
              "        <tr>\n",
              "            <th>index</th>\n",
              "            <th>id</th>\n",
              "            <th>film_id</th>\n",
              "            <th>num_user</th>\n",
              "            <th>num_critic</th>\n",
              "            <th>imdb_score</th>\n",
              "            <th>num_votes</th>\n",
              "        </tr>\n",
              "    </thead>\n",
              "    <tbody>\n",
              "        <tr>\n",
              "            <td>0</td>\n",
              "            <td>3934</td>\n",
              "            <td>588.0</td>\n",
              "            <td>432.0</td>\n",
              "            <td>7.0999999</td>\n",
              "            <td>203461</td>\n",
              "            <td>46000</td>\n",
              "        </tr>\n",
              "    </tbody>\n",
              "</table>"
            ]
          },
          "metadata": {},
          "execution_count": 8
        }
      ]
    },
    {
      "cell_type": "code",
      "source": [
        "%%sql SELECT * FROM people LIMIT 1;"
      ],
      "metadata": {
        "colab": {
          "base_uri": "https://localhost:8080/",
          "height": 96
        },
        "id": "hxISrx1NB2ZW",
        "outputId": "27519867-50bf-4dc6-c676-2b8021f3c752"
      },
      "execution_count": 9,
      "outputs": [
        {
          "output_type": "stream",
          "name": "stdout",
          "text": [
            " * sqlite://\n",
            "Done.\n"
          ]
        },
        {
          "output_type": "execute_result",
          "data": {
            "text/plain": [
              "[(0, 1, '50 Cent', '1975-07-06', None)]"
            ],
            "text/html": [
              "<table>\n",
              "    <thead>\n",
              "        <tr>\n",
              "            <th>index</th>\n",
              "            <th>id</th>\n",
              "            <th>name</th>\n",
              "            <th>birthdate</th>\n",
              "            <th>deathdate</th>\n",
              "        </tr>\n",
              "    </thead>\n",
              "    <tbody>\n",
              "        <tr>\n",
              "            <td>0</td>\n",
              "            <td>1</td>\n",
              "            <td>50 Cent</td>\n",
              "            <td>1975-07-06</td>\n",
              "            <td>None</td>\n",
              "        </tr>\n",
              "    </tbody>\n",
              "</table>"
            ]
          },
          "metadata": {},
          "execution_count": 9
        }
      ]
    },
    {
      "cell_type": "code",
      "source": [
        "%%sql SELECT * FROM roles LIMIT 1;"
      ],
      "metadata": {
        "colab": {
          "base_uri": "https://localhost:8080/",
          "height": 96
        },
        "id": "OWKe1rLBB6Pd",
        "outputId": "2735a070-073c-460d-9586-591fa2ba00c3"
      },
      "execution_count": 10,
      "outputs": [
        {
          "output_type": "stream",
          "name": "stdout",
          "text": [
            " * sqlite://\n",
            "Done.\n"
          ]
        },
        {
          "output_type": "execute_result",
          "data": {
            "text/plain": [
              "[(0, 1, 1, 1630, 'director')]"
            ],
            "text/html": [
              "<table>\n",
              "    <thead>\n",
              "        <tr>\n",
              "            <th>index</th>\n",
              "            <th>id</th>\n",
              "            <th>film_id</th>\n",
              "            <th>person_id</th>\n",
              "            <th>role</th>\n",
              "        </tr>\n",
              "    </thead>\n",
              "    <tbody>\n",
              "        <tr>\n",
              "            <td>0</td>\n",
              "            <td>1</td>\n",
              "            <td>1</td>\n",
              "            <td>1630</td>\n",
              "            <td>director</td>\n",
              "        </tr>\n",
              "    </tbody>\n",
              "</table>"
            ]
          },
          "metadata": {},
          "execution_count": 10
        }
      ]
    },
    {
      "cell_type": "code",
      "source": [
        "%%sql SELECT AVG(budget)\n",
        "FROM films\n",
        "WHERE releas_date < 2000;"
      ],
      "metadata": {
        "colab": {
          "base_uri": "https://localhost:8080/",
          "height": 96
        },
        "id": "kKNBrsJ8FYRz",
        "outputId": "9947d132-13ed-4ef2-abce-65c797495eee"
      },
      "execution_count": 14,
      "outputs": [
        {
          "output_type": "stream",
          "name": "stdout",
          "text": [
            " * sqlite://\n",
            "Done.\n"
          ]
        },
        {
          "output_type": "execute_result",
          "data": {
            "text/plain": [
              "[(27141709.71640625,)]"
            ],
            "text/html": [
              "<table>\n",
              "    <thead>\n",
              "        <tr>\n",
              "            <th>AVG(budget)</th>\n",
              "        </tr>\n",
              "    </thead>\n",
              "    <tbody>\n",
              "        <tr>\n",
              "            <td>27141709.71640625</td>\n",
              "        </tr>\n",
              "    </tbody>\n",
              "</table>"
            ]
          },
          "metadata": {},
          "execution_count": 14
        }
      ]
    },
    {
      "cell_type": "code",
      "source": [
        "%%sql SELECT AVG(budget)\n",
        "FROM films\n",
        "WHERE releas_date < 2000\n",
        "AND budget IS NOT NULL;"
      ],
      "metadata": {
        "colab": {
          "base_uri": "https://localhost:8080/",
          "height": 96
        },
        "id": "bvnm_tK3F1QQ",
        "outputId": "7b34ab8f-c6da-4a12-c9c8-2345fb9dedea"
      },
      "execution_count": 16,
      "outputs": [
        {
          "output_type": "stream",
          "name": "stdout",
          "text": [
            " * sqlite://\n",
            "Done.\n"
          ]
        },
        {
          "output_type": "execute_result",
          "data": {
            "text/plain": [
              "[(27141709.71640625,)]"
            ],
            "text/html": [
              "<table>\n",
              "    <thead>\n",
              "        <tr>\n",
              "            <th>AVG(budget)</th>\n",
              "        </tr>\n",
              "    </thead>\n",
              "    <tbody>\n",
              "        <tr>\n",
              "            <td>27141709.71640625</td>\n",
              "        </tr>\n",
              "    </tbody>\n",
              "</table>"
            ]
          },
          "metadata": {},
          "execution_count": 16
        }
      ]
    },
    {
      "cell_type": "code",
      "source": [
        "%%sql SELECT SUM(gross)\n",
        "FROM films\n",
        "WHERE country IS NOT NULL;"
      ],
      "metadata": {
        "colab": {
          "base_uri": "https://localhost:8080/",
          "height": 96
        },
        "id": "8N9ZM60IGk9d",
        "outputId": "0c860a07-76be-47fd-a2d2-9db39c672f40"
      },
      "execution_count": 19,
      "outputs": [
        {
          "output_type": "stream",
          "name": "stdout",
          "text": [
            " * sqlite://\n",
            "Done.\n"
          ]
        },
        {
          "output_type": "execute_result",
          "data": {
            "text/plain": [
              "[(202515840134.0,)]"
            ],
            "text/html": [
              "<table>\n",
              "    <thead>\n",
              "        <tr>\n",
              "            <th>SUM(gross)</th>\n",
              "        </tr>\n",
              "    </thead>\n",
              "    <tbody>\n",
              "        <tr>\n",
              "            <td>202515840134.0</td>\n",
              "        </tr>\n",
              "    </tbody>\n",
              "</table>"
            ]
          },
          "metadata": {},
          "execution_count": 19
        }
      ]
    },
    {
      "cell_type": "code",
      "source": [
        "%%sql SELECT MIN(duratioon)\n",
        "FROM films;"
      ],
      "metadata": {
        "colab": {
          "base_uri": "https://localhost:8080/",
          "height": 96
        },
        "id": "yWsoyQzwG0qU",
        "outputId": "214d6a24-090c-4537-f8f2-f7548c281122"
      },
      "execution_count": 23,
      "outputs": [
        {
          "output_type": "stream",
          "name": "stdout",
          "text": [
            " * sqlite://\n",
            "Done.\n"
          ]
        },
        {
          "output_type": "execute_result",
          "data": {
            "text/plain": [
              "[(7.0,)]"
            ],
            "text/html": [
              "<table>\n",
              "    <thead>\n",
              "        <tr>\n",
              "            <th>MIN(duratioon)</th>\n",
              "        </tr>\n",
              "    </thead>\n",
              "    <tbody>\n",
              "        <tr>\n",
              "            <td>7.0</td>\n",
              "        </tr>\n",
              "    </tbody>\n",
              "</table>"
            ]
          },
          "metadata": {},
          "execution_count": 23
        }
      ]
    },
    {
      "cell_type": "code",
      "source": [
        "%%sql SELECT MAX(gross)\n",
        "FROM films\n",
        "WHERE budget<1000000;"
      ],
      "metadata": {
        "colab": {
          "base_uri": "https://localhost:8080/",
          "height": 96
        },
        "id": "apHVqyLQHpgh",
        "outputId": "41d023c6-351b-49a9-cd9d-76956395aa66"
      },
      "execution_count": 25,
      "outputs": [
        {
          "output_type": "stream",
          "name": "stdout",
          "text": [
            " * sqlite://\n",
            "Done.\n"
          ]
        },
        {
          "output_type": "execute_result",
          "data": {
            "text/plain": [
              "[(140530114.0,)]"
            ],
            "text/html": [
              "<table>\n",
              "    <thead>\n",
              "        <tr>\n",
              "            <th>MAX(gross)</th>\n",
              "        </tr>\n",
              "    </thead>\n",
              "    <tbody>\n",
              "        <tr>\n",
              "            <td>140530114.0</td>\n",
              "        </tr>\n",
              "    </tbody>\n",
              "</table>"
            ]
          },
          "metadata": {},
          "execution_count": 25
        }
      ]
    },
    {
      "cell_type": "code",
      "source": [
        "%%sql SELECT COUNT(*)\n",
        "FROM films\n",
        "WHERE title LIKE  '%life%';"
      ],
      "metadata": {
        "colab": {
          "base_uri": "https://localhost:8080/",
          "height": 96
        },
        "id": "jq0p35AuH_C1",
        "outputId": "8c2e596f-8c6a-4acb-f5e3-b5164d5743dc"
      },
      "execution_count": 27,
      "outputs": [
        {
          "output_type": "stream",
          "name": "stdout",
          "text": [
            " * sqlite://\n",
            "Done.\n"
          ]
        },
        {
          "output_type": "execute_result",
          "data": {
            "text/plain": [
              "[(35,)]"
            ],
            "text/html": [
              "<table>\n",
              "    <thead>\n",
              "        <tr>\n",
              "            <th>COUNT(*)</th>\n",
              "        </tr>\n",
              "    </thead>\n",
              "    <tbody>\n",
              "        <tr>\n",
              "            <td>35</td>\n",
              "        </tr>\n",
              "    </tbody>\n",
              "</table>"
            ]
          },
          "metadata": {},
          "execution_count": 27
        }
      ]
    },
    {
      "cell_type": "code",
      "source": [
        "%%sql SELECT COUNT(*)\n",
        "FROM films\n",
        "WHERE title LIKE  '%life%'\n",
        "AND language != 'english';"
      ],
      "metadata": {
        "colab": {
          "base_uri": "https://localhost:8080/",
          "height": 96
        },
        "id": "VgtY2_2bId5C",
        "outputId": "bc47f807-d853-48fc-e6b7-8f242fe37308"
      },
      "execution_count": 29,
      "outputs": [
        {
          "output_type": "stream",
          "name": "stdout",
          "text": [
            " * sqlite://\n",
            "Done.\n"
          ]
        },
        {
          "output_type": "execute_result",
          "data": {
            "text/plain": [
              "[(35,)]"
            ],
            "text/html": [
              "<table>\n",
              "    <thead>\n",
              "        <tr>\n",
              "            <th>COUNT(*)</th>\n",
              "        </tr>\n",
              "    </thead>\n",
              "    <tbody>\n",
              "        <tr>\n",
              "            <td>35</td>\n",
              "        </tr>\n",
              "    </tbody>\n",
              "</table>"
            ]
          },
          "metadata": {},
          "execution_count": 29
        }
      ]
    },
    {
      "cell_type": "code",
      "source": [
        "%%sql SELECT SUM(budget)\n",
        "FROM films\n",
        "WHERE gross > (budget*2);"
      ],
      "metadata": {
        "colab": {
          "base_uri": "https://localhost:8080/",
          "height": 96
        },
        "id": "EYRwpV2LIwuy",
        "outputId": "554d6265-873f-4d82-c8ff-ff58fc344aa0"
      },
      "execution_count": 34,
      "outputs": [
        {
          "output_type": "stream",
          "name": "stdout",
          "text": [
            " * sqlite://\n",
            "Done.\n"
          ]
        },
        {
          "output_type": "execute_result",
          "data": {
            "text/plain": [
              "[(25734559589.0,)]"
            ],
            "text/html": [
              "<table>\n",
              "    <thead>\n",
              "        <tr>\n",
              "            <th>SUM(budget)</th>\n",
              "        </tr>\n",
              "    </thead>\n",
              "    <tbody>\n",
              "        <tr>\n",
              "            <td>25734559589.0</td>\n",
              "        </tr>\n",
              "    </tbody>\n",
              "</table>"
            ]
          },
          "metadata": {},
          "execution_count": 34
        }
      ]
    },
    {
      "cell_type": "code",
      "source": [
        "%%sql SELECT MIN(budget)\n",
        "FROM films\n",
        "WHERE gross > (budget*2)\n",
        "AND title LIKE '%e%';"
      ],
      "metadata": {
        "colab": {
          "base_uri": "https://localhost:8080/",
          "height": 96
        },
        "id": "9_wMlx-UJUeO",
        "outputId": "bae585de-8770-4fd4-cc42-280d5ff01260"
      },
      "execution_count": 36,
      "outputs": [
        {
          "output_type": "stream",
          "name": "stdout",
          "text": [
            " * sqlite://\n",
            "Done.\n"
          ]
        },
        {
          "output_type": "execute_result",
          "data": {
            "text/plain": [
              "[(1100.0,)]"
            ],
            "text/html": [
              "<table>\n",
              "    <thead>\n",
              "        <tr>\n",
              "            <th>MIN(budget)</th>\n",
              "        </tr>\n",
              "    </thead>\n",
              "    <tbody>\n",
              "        <tr>\n",
              "            <td>1100.0</td>\n",
              "        </tr>\n",
              "    </tbody>\n",
              "</table>"
            ]
          },
          "metadata": {},
          "execution_count": 36
        }
      ]
    },
    {
      "cell_type": "code",
      "source": [
        "%%sql SELECT SUM(gross), AVG(duratioon)\n",
        "FROM films\n",
        "WHERE country IS NULL;"
      ],
      "metadata": {
        "colab": {
          "base_uri": "https://localhost:8080/",
          "height": 96
        },
        "id": "kWYZZvMhKovz",
        "outputId": "c51a0381-33a7-4b9c-ce68-118f7e37fbda"
      },
      "execution_count": 42,
      "outputs": [
        {
          "output_type": "stream",
          "name": "stdout",
          "text": [
            " * sqlite://\n",
            "Done.\n"
          ]
        },
        {
          "output_type": "execute_result",
          "data": {
            "text/plain": [
              "[(None, 55.0)]"
            ],
            "text/html": [
              "<table>\n",
              "    <thead>\n",
              "        <tr>\n",
              "            <th>SUM(gross)</th>\n",
              "            <th>AVG(duratioon)</th>\n",
              "        </tr>\n",
              "    </thead>\n",
              "    <tbody>\n",
              "        <tr>\n",
              "            <td>None</td>\n",
              "            <td>55.0</td>\n",
              "        </tr>\n",
              "    </tbody>\n",
              "</table>"
            ]
          },
          "metadata": {},
          "execution_count": 42
        }
      ]
    },
    {
      "cell_type": "code",
      "source": [
        "%%sql\n",
        "SELECT *\n",
        "FROM films\n",
        "WHERE gross IS NOT NULL\n",
        "ORDER BY gross LIMIT 1;"
      ],
      "metadata": {
        "colab": {
          "base_uri": "https://localhost:8080/",
          "height": 96
        },
        "id": "2oY1JA1ZLJGL",
        "outputId": "0a57f313-5f8a-402b-8044-9637058dc765"
      },
      "execution_count": 47,
      "outputs": [
        {
          "output_type": "stream",
          "name": "stdout",
          "text": [
            " * sqlite://\n",
            "Done.\n"
          ]
        },
        {
          "output_type": "execute_result",
          "data": {
            "text/plain": [
              "[(4508, 4509, 'Skin Trade', 2014.0, 'Thailand', 96.0, 'English', 'R', 162.0, 9000000.0)]"
            ],
            "text/html": [
              "<table>\n",
              "    <thead>\n",
              "        <tr>\n",
              "            <th>index</th>\n",
              "            <th>id</th>\n",
              "            <th>title</th>\n",
              "            <th>releas_date</th>\n",
              "            <th>country</th>\n",
              "            <th>duratioon</th>\n",
              "            <th>language</th>\n",
              "            <th>certificatipon</th>\n",
              "            <th>gross</th>\n",
              "            <th>budget</th>\n",
              "        </tr>\n",
              "    </thead>\n",
              "    <tbody>\n",
              "        <tr>\n",
              "            <td>4508</td>\n",
              "            <td>4509</td>\n",
              "            <td>Skin Trade</td>\n",
              "            <td>2014.0</td>\n",
              "            <td>Thailand</td>\n",
              "            <td>96.0</td>\n",
              "            <td>English</td>\n",
              "            <td>R</td>\n",
              "            <td>162.0</td>\n",
              "            <td>9000000.0</td>\n",
              "        </tr>\n",
              "    </tbody>\n",
              "</table>"
            ]
          },
          "metadata": {},
          "execution_count": 47
        }
      ]
    },
    {
      "cell_type": "code",
      "source": [
        "%%sql\n",
        "SELECT certificatipon, JSON_ARRAYAGG(title)\n",
        "FROM films\n",
        "GROUP BY certificatipon;"
      ],
      "metadata": {
        "colab": {
          "base_uri": "https://localhost:8080/"
        },
        "id": "VnsrCFS5MxVW",
        "outputId": "6247555c-b09e-46b8-ae92-aacc64ecbb4a"
      },
      "execution_count": 54,
      "outputs": [
        {
          "output_type": "stream",
          "name": "stdout",
          "text": [
            " * sqlite://\n",
            "(sqlite3.OperationalError) no such function: JSON_ARRAYAGG\n",
            "[SQL: SELECT certificatipon, JSON_ARRAYAGG(title)\n",
            "FROM films\n",
            "GROUP BY certificatipon;]\n",
            "(Background on this error at: https://sqlalche.me/e/20/e3q8)\n"
          ]
        }
      ]
    },
    {
      "cell_type": "code",
      "source": [
        "%%sql\n",
        "SELECT certificatipon, GROUP_CONCAT(title, ', ') AS titles\n",
        "FROM films\n",
        "GROUP BY certificatipon;"
      ],
      "metadata": {
        "colab": {
          "base_uri": "https://localhost:8080/",
          "height": 1000
        },
        "id": "W0QejvuHQzWF",
        "outputId": "9cec22aa-9503-4520-8afb-ad80ecfebf35"
      },
      "execution_count": 57,
      "outputs": [
        {
          "output_type": "stream",
          "name": "stdout",
          "text": [
            " * sqlite://\n",
            "Done.\n"
          ]
        },
        {
          "output_type": "execute_result",
          "data": {
            "text/plain": [
              "[(None, \"Over the Hill to the Poorhouse, Deadline - U.S.A., Love Me Tender, Solomon and Sheba, Une Femme MariÃ©e, The Party's Over, The Ballad of Gregorio Cor ... (5282 characters truncated) ... reets of San Francisco, Towering Inferno, Trapped, Twisted, Unforgettable, Unforgotten, Wings, Wolf Creek, Wuthering Heights, Yu-Gi-Oh! Duel Monsters\"),\n",
              " ('Approved', \"She Done Him Wrong, Top Hat, The Charge of the Light Brigade, Snow White and the Seven Dwarfs, The Prisoner of Zenda, Alexander's Ragtime Band, You C ... (758 characters truncated) ... to the Forum, A Man for All Seasons, Batman: The Movie, The Good, the Bad and the Ugly, Torn Curtain, In Cold Blood, Point Blank, You Only Live Twice\"),\n",
              " ('G', \"Modern Times, Gone with the Wind, Fantasia, The Longest Day, The Greatest Story Ever Told, The Sound of Music, 2001: A Space Odyssey, Oliver!, Sweet  ... (2006 characters truncated) ... lloon Adventure, Zambezia, Monsters University, A Lego Brickumentary, Rio 2, Rise of the Entrepreneur: The Search for a Better Way, The Peanuts Movie\"),\n",
              " ('GP', 'Machine Gun McCain, Patton, Bananas, Diamonds Are Forever, The Night Visitor, Silent Running'),\n",
              " ('M', \"The Torture Chamber of Dr. Sadism, Hang 'Em High, Butch Cassidy and the Sundance Kid, On Her Majesty's Secret Service, Topaz\"),\n",
              " ('NC-17', 'Pink Flamingos, The Evil Dead, Showgirls, Orgazmo, L.I.E., Inside Deep Throat, Shame'),\n",
              " ('Not Rated', \"Intolerance: Love's Struggle Throughout the Ages, The Big Parade, Metropolis, Pandora's Box, Mr. Smith Goes to Washington, Rebecca, The Lost Weekend, ... (1723 characters truncated) ...  Face of an Angel, The Sleepwalker, United Passions, Wicked Blood, #Horror, Circle, Shark Lake, Stung, The Assassin, Cabin Fever, The Wailing, Carlos\"),\n",
              " ('PG', \"Casablanca, It's a Wonderful Life, A Streetcar Named Desire, High Noon, The Bridge on the River Kwai, Lawrence of Arabia, Dr. Strangelove or: How I L ... (12936 characters truncated) ... cles from Heaven, Pete's Dragon, Rodeo Girl, The Angry Birds Movie, The BFG, The Dog Lover, The Jungle Book, The Jungle Book, The Secret Life of Pets\"),\n",
              " ('PG-13', \"Doctor Zhivago, Once Upon a Time in the West, Paint Your Wagon, Grease, The Outsiders, Dune, Red Dawn, Ladyhawke, Mad Max Beyond Thunderdome, Red Son ... (24935 characters truncated) ...  The Legend of Tarzan, The Legend of Tarzan, The Masked Saint, The Shallows, The Young Messiah, Warcraft, X-Men: Apocalypse, Yoga Hosers, Zoolander 2\"),\n",
              " ('Passed', \"The Broadway Melody, Hell's Angels, The Wizard of Oz, Boom Town, A Guy Named Joe, Bathing Beauty, The Valley of Decision, Annie Get Your Gun, Quo Vadis\"),\n",
              " ('R', \"Psycho, A Fistful of Dollars, Rosemary's Baby, Mississippi Mermaid, The Wild Bunch, Catch-22, Cotton Comes to Harlem, The Ballad of Cable Hogue, The  ... (34482 characters truncated) ... y, The Birth of a Nation, The Boss, The Conjuring 2, The Infiltrator, The Neon Demon, The Perfect Match, The Purge: Election Year, The Veil, Triple 9\"),\n",
              " ('Unrated', \"A Farewell to Arms, 42nd Street, It Happened One Night, Spellbound, Duel in the Sun, She Wore a Yellow Ribbon, The Robe, Seven Samurai, Moby Dick, Th ... (742 characters truncated) ... em Aleichem: Laughing in the Darkness, R100, Futuro Beach, Hidden Away, Let's Kill Ward's Wife, The Past is a Grotesque Animal, Tiger Orange, Bizarre\"),\n",
              " ('X', 'Midnight Cowboy, The Stewardesses, Beyond the Valley of the Dolls, Dressed to Kill, The Beyond, Fast Times at Ridgemont High, A Nightmare on Elm Stre ... (29 characters truncated) ... , The Texas Chainsaw Massacre 2, A Nightmare on Elm Street 3: Dream Warriors, Evil Dead II, A Nightmare on Elm Street 5: The Dream Child, Halloween 5')]"
            ],
            "text/html": [
              "<table>\n",
              "    <thead>\n",
              "        <tr>\n",
              "            <th>certificatipon</th>\n",
              "            <th>titles</th>\n",
              "        </tr>\n",
              "    </thead>\n",
              "    <tbody>\n",
              "        <tr>\n",
              "            <td>None</td>\n",
              "            <td>Over the Hill to the Poorhouse, Deadline - U.S.A., Love Me Tender, Solomon and Sheba, Une Femme MariÃ©e, The Party&#x27;s Over, The Ballad of Gregorio Cortez, Iguana, Marilyn Hotchkiss&#x27; Ballroom Dancing and Charm School, Madadayo, Bang, Kids, The Dress, The Chambermaid on the Titanic, The Cure, The Sticky Fingers of Time, The Swindle, Happiness, Les couloirs du temps: Les visiteurs II, The Big Swap, Aimee &amp; Jaguar, The Woman Chaser, Aberdeen, Fiza, Hum To Mohabbat Karega, Michael Jordan to the Max, Alias Betty, Ayurveda: Art of Being, Crop Circles: Quest for Truth, Dracula: Pages from a Virgin&#x27;s Diary, Funny Ha Ha, Manito, Sex with Strangers, The Business of Fancydancing, Flywheel, Gory Gory Hallelujah, Silmido, Sur le seuil, The Work and the Story, Travelers and Magicians, An American Girl Holiday, As It Is in Heaven, Dead Man&#x27;s Shoes, On the Downlow, Peace, Propaganda &amp; the Promised Land, The Case of the Grinning Cat, Veer-Zaara, Camping sauvage, Chicken Tikka Masala, Chocolate: Deep Dark Secrets, Dil Jo Bhi Kahey..., Fetching Cody, Insomnia Manica, Neal &#x27;N&#x27; Nikki, The Blood of My Brother, The Call of Cthulhu, The Motel, Captain Alatriste: The Spanish Musketeer, Crazy Stone, Iraq for Sale: The War Profiteers, Little Big Top, Out of the Blue, Scott Walker: 30 Century Man, The Magic Flute, The Naked Ape, The Pet, The Tooth Fairy, Valley of the Heart&#x27;s Delight, Valley of the Wolves: Iraq, A Dog&#x27;s Breakfast, A Dog&#x27;s Breakfast, And Then Came Love, Arn: The Knight Templar, Certifiably Jonathan, Gandhi, My Father, Jesus People, Namastey London, No End in Sight, Purple Violets, Slacker Uprising, Ta Ra Rum Pum, The Touch, Tin Can Man, Asterix at the Olympic Games, Dolphins and Whales 3D: Tribes of the Ocean, Harrison Montgomery, Stargate: The Ark of Truth, The Betrayed, The Wave, Welcome to the Sticks, 16 to Life, 2:13, Ajami, Black Water Transit, Bodyguards and Assassins, Breaking Upwards, Cargo, Crying with Laughter, Four Single Fathers, Ink, Little Nicholas, My Dog Tulip, Obitaemyy ostrov, Paa, Rocket Singh: Salesman of the Year, Silver Medallist, Soul Kitchen, Starsuckers, The Missing Person, Fat, Sick &amp; Nearly Dead, Gunless, Harry Potter and the Deathly Hallows: Part I, Housefull, Kites, Loose Cannons, Mozart&#x27;s Sister, Sea Rex 3D: Journey to a Prehistoric World, Elza, Harry Potter and the Deathly Hallows: Part II, My Last Day Without You, Q, The Harvest/La Cosecha, The Ridges, A Perfect Plan, Archaeology of a Woman, Black November, Deceptive Practice: The Mysteries and Mentors of Ricky Jay, Outside Bet, Restless, Run, Hide, Die, Sanctuary;  Quite a Conundrum, Should&#x27;ve Been Romeo, Theresa Is a Mother, Vessel, When the Lights Went Out, A Plague So Pleasant, A True Story, Along the Roadside, Aroused, Barfi, Bending Steel, Coffee Town, Dry Spell, Echo Dr., Enter the Dangerous Mind, Faith Connections, Firestorm, Hansel &amp; Gretel Get Baked, Mutual Friends, My Lucky Star, Of Horses and Men, Open Road, Roadside, Signed Sealed Delivered, The Amazing Catfish, The Brain That Sings, The Geographer Drank His Globe Away, The Knife of Don Juan, The Maid&#x27;s Room, Thunder and the House of Magic, Treachery, Treading Water, Alpha and Omega 4: The Legend of the Saw Toothed Cave, Always Woodstock, Amidst the Devil&#x27;s Wings, Amnesiac, Animals, Bang Bang Baby, Barbecue, Born to Fly: Elizabeth Streb vs. Gravity, Butterfly Girl, Da Sweet Blood of Jesus, Dawn of the Crescent Moon, Dawn Patrol, Destiny, Dragon Nest: Warriors&#x27; Dawn, Far from Men, Food Chains, Fugly, Girl House, Give Me Shelter, Grace of Monaco, H., Hits, Jungle Shuffle, Kung Fu Killer, La Famille BÃ©lier, Listening, Love in the Time of Monsters, Mutant World, Perfect Cowboy, Ramanujan, Solitude, Stories of Our Lives, The Algerian, The Hadza: Last of the First, The Image Revolution, The Opposite Sex, The Outrageous Sophie Tucker, Top Spin, Viy, Z Storm, A Tale of Three Cities, A Warrior&#x27;s Tail, Abandoned, Adulterers, America Is Still the Place, American Hero, Animal Kingdom: Let&#x27;s go Ape, Antarctic Edge: 70Â° South, Baahubali: The Beginning, Bleeding Hearts, Censored Voices, Checkmate, Chiamatemi Francesco - Il Papa della gente, Close Range, Containment, Counting, Criminal Activities, Departure, Dutch Kills, Evolution, Goddess of Love, Julija in alfa Romeo, Karachi se Lahore, Me You and Five Bucks, Navy Seals vs. Zombies, Queen Crab, Road Hard, Rotor DR1, Running Forever, Sardaar Ji, Sharkskin, Shooting the Warwicks, Teeth and Blood, The Curse of Downers Grove, The Horror Network Vol. 1, The Looking Glass, The Timber, The World Is Mine, They Will Have to Kill Us First, Time to Choose, To Be Frank, Sinatra at 100, Vaalu, Walter, Western Religion, Windsor Drive, A Beginner&#x27;s Guide to Snuff, Airlift, Alleluia! The Devil&#x27;s Carnival, Antibirth, Fight Valley, Godzilla Resurgence, Godzilla Resurgence, Irreplaceable, Kickboxer: Vengeance, Operation Chromite, Restoration, The Little Ponderosa Zoo, Two Lovers and a Bear, Xi you ji zhi: Sun Wukong san da Baigu Jing, 10,000 B.C., A Touch of Frost, Anger Management, Animal Kingdom, BrainDead, Creature, Deadline Gallipoli, Del 1 - MÃ¤n som hatar kvinnor, Emma, Fired Up, Get Real, Ghost Hunters, Hit the Floor, In the Heat of the Night, Jesse, Life, Lovesick, Meet the Browns, Nikita, Rogue, Secrets and Lies, Space: Above and Beyond, The Bachelor, The Border, The Company, The Doombolt Chase, The Grand, The Honeymooners, The Messengers, The Missing, The Secret, The Streets of San Francisco, Towering Inferno, Trapped, Twisted, Unforgettable, Unforgotten, Wings, Wolf Creek, Wuthering Heights, Yu-Gi-Oh! Duel Monsters</td>\n",
              "        </tr>\n",
              "        <tr>\n",
              "            <td>Approved</td>\n",
              "            <td>She Done Him Wrong, Top Hat, The Charge of the Light Brigade, Snow White and the Seven Dwarfs, The Prisoner of Zenda, Alexander&#x27;s Ragtime Band, You Can&#x27;t Take It with You, Pinocchio, The Blue Bird, How Green Was My Valley, Bambi, State Fair, Gentleman&#x27;s Agreement, Tycoon, Open Secret, Red River, The Pirate, Sands of Iwo Jima, Show Boat, Singin&#x27; in the Rain, Niagara, The Beast from 20,000 Fathoms, 20,000 Leagues Under the Sea, 20,000 Leagues Under the Sea, The Egyptian, The Trouble with Harry, Trapeze, Cat on a Hot Tin Roof, Elmer Gantry, The Apartment, Pocketful of Miracles, The Misfits, Dr. No, The Brain That Wouldn&#x27;t Die, The Man Who Shot Liberty Valance, Cleopatra, From Russia with Love, Hud, It&#x27;s a Mad, Mad, Mad, Mad World, The Great Escape, A Hard Day&#x27;s Night, Goldfinger, Mary Poppins, My Fair Lady, The Fall of the Roman Empire, Major Dundee, Thunderball, A Funny Thing Happened on the Way to the Forum, A Man for All Seasons, Batman: The Movie, The Good, the Bad and the Ugly, Torn Curtain, In Cold Blood, Point Blank, You Only Live Twice</td>\n",
              "        </tr>\n",
              "        <tr>\n",
              "            <td>G</td>\n",
              "            <td>Modern Times, Gone with the Wind, Fantasia, The Longest Day, The Greatest Story Ever Told, The Sound of Music, 2001: A Space Odyssey, Oliver!, Sweet Charity, Beneath the Planet of the Apes, Darling Lili, Tora! Tora! Tora!, Waterloo, Escape from the Planet of the Apes, Fiddler on the Roof, The Andromeda Strain, Willy Wonka &amp; the Chocolate Factory, Battle for the Planet of the Apes, Benji, The Return of the Pink Panther, The Wiz, The Black Stallion, The Muppet Movie, The Land Before Time, Aladdin, The Muppet Christmas Carol, The Nutcracker, The Princess and the Cobbler, The Lion King, Babe, Pocahontas, Toy Story, The Adventures of Pinocchio, The Hunchback of Notre Dame, Anastasia, Cats Don&#x27;t Dance, A Bug&#x27;s Life, Babe: Pig in the City, Barney&#x27;s Great Adventure, Mulan, The Magic Sword: Quest for Camelot, The Rugrats Movie, Doug&#x27;s 1st Movie, Fantasia 2000, Muppets from Space, The Adventures of Elmo in Grouchland, The Straight Story, Toy Story 2, 102 Dalmatians, Chicken Run, PokÃ©mon 3: The Movie, Rugrats in Paris: The Movie, The Emperor&#x27;s New Groove, The Tigger Movie, Thomas and the Magic Railroad, Jimmy Neutron: Boy Genius, Monsters, Inc., Recess: School&#x27;s Out, The Princess Diaries, Winged Migration, Jonah: A VeggieTales Movie, Return to Never Land, Spirit: Stallion of the Cimarron, The Country Bears, The Rookie, The Santa Clause 2, Finding Nemo, The Jungle Book 2, The Polar Express, The Princess Diaries 2: Royal Engagement, Chicken Little, Herbie Fully Loaded, Ice Princess, March of the Penguins, Pooh&#x27;s Heffalump Movie, The Curse of the Were-Rabbit, Valiant, Cars, Charlotte&#x27;s Web, Curious George, Doogal, Ratatouille, U2 3D, High School Musical 3: Senior Year, Kit Kittredge: An American Girl, Ponyo, Space Chimps, Sunday School Musical, The Pirates Who Don&#x27;t Do Anything: A VeggieTales Movie, The Tale of Despereaux, WALLÂ·E, Hachi: A Dog&#x27;s Tale, Hannah Montana: The Movie, Oceans, The Mighty Macs, The Princess and the Frog, The True Story of Puss&#x27;N Boots, Ramona and Beezus, Space Dogs, Toy Story 3, Alvin and the Chipmunks: Chipwrecked, Cars 2, Justin Bieber: Never Say Never, Rio, Winnie the Pooh, The Oogieloves in the Big Balloon Adventure, Zambezia, Monsters University, A Lego Brickumentary, Rio 2, Rise of the Entrepreneur: The Search for a Better Way, The Peanuts Movie</td>\n",
              "        </tr>\n",
              "        <tr>\n",
              "            <td>GP</td>\n",
              "            <td>Machine Gun McCain, Patton, Bananas, Diamonds Are Forever, The Night Visitor, Silent Running</td>\n",
              "        </tr>\n",
              "        <tr>\n",
              "            <td>M</td>\n",
              "            <td>The Torture Chamber of Dr. Sadism, Hang &#x27;Em High, Butch Cassidy and the Sundance Kid, On Her Majesty&#x27;s Secret Service, Topaz</td>\n",
              "        </tr>\n",
              "        <tr>\n",
              "            <td>NC-17</td>\n",
              "            <td>Pink Flamingos, The Evil Dead, Showgirls, Orgazmo, L.I.E., Inside Deep Throat, Shame</td>\n",
              "        </tr>\n",
              "        <tr>\n",
              "            <td>Not Rated</td>\n",
              "            <td>Intolerance: Love&#x27;s Struggle Throughout the Ages, The Big Parade, Metropolis, Pandora&#x27;s Box, Mr. Smith Goes to Washington, Rebecca, The Lost Weekend, The Best Years of Our Lives, The Lady from Shanghai, The Greatest Show on Earth, From Here to Eternity, On the Waterfront, Ordet, 12 Angry Men, Some Like It Hot, The Nun&#x27;s Story, Judgment at Nuremberg, Lolita, Lolita, To Kill a Mockingbird, Donovan&#x27;s Reef, Nothing But a Man, Pierrot le Fou, Harper, Pink Narcissus, The Brave Little Toaster, The Circle, Irreversible, The Brown Bunny, This Thing of Ours, Cavite, Dungeons &amp; Dragons: Wrath of the Dragon God, Manderlay, Sisters in Law, Wal-Mart: The High Cost of Low Price, Alone with Her, Krrish, Loving Annabelle, Rang De Basanti, The Wind That Shakes the Barley, 4 Months, 3 Weeks and 2 Days, Finishing the Game: The Search for a New Bruce Lee, Savage Grace, The Man from Earth, Flame and Citron, Fuel, Journey to Saturn, Pontypool, Dead Snow, Enter the Void, Exam, Fish Tank, I Come with the Rain, Red Riding: In the Year of Our Lord 1974, The Secret of Kells, Little White Lies, Tiny Furniture, August, Grave Encounters, Hobo with a Shotgun, Kill List, Le Havre, Newlyweds, Pink Ribbons, Inc., Polisse, Sleep Tight, Weekend, Antiviral, Burn, Detention of the Dead, Dysfunctional Friends, Eddie: The Sleepwalking Cannibal, Grabbers, Hayride, Holy Motors, Indie Game: The Movie, Jab Tak Hai Jaan, Khiladi 786, Maniac, Supercapitalist, Supporting Characters, The Act of Killing, The Ghastly Love of Johnny X, The Other Dream Team, Truth or Die, ABCD (Any Body Can Dance), Cheap Thrills, Escape from Tomorrow, Hard to Be a God, Harlock: Space Pirate, Heli, Her Cry: La Llorona Investigation, Khumba, The Dirties, The Great Beauty, The Square, Water &amp; Power, Yeh Jawaani Hai Deewani, Zombie Hunter, Ask Me Anything, Closer to the Moon, Drive Hard, Housebound, Not Cool, The Face of an Angel, The Sleepwalker, United Passions, Wicked Blood, #Horror, Circle, Shark Lake, Stung, The Assassin, Cabin Fever, The Wailing, Carlos</td>\n",
              "        </tr>\n",
              "        <tr>\n",
              "            <td>PG</td>\n",
              "            <td>Casablanca, It&#x27;s a Wonderful Life, A Streetcar Named Desire, High Noon, The Bridge on the River Kwai, Lawrence of Arabia, Dr. Strangelove or: How I Learned to Stop Worrying and Love the Bomb, Barbarella, Charly, Shalako, The Molly Maguires, 1776, Conquest of the Planet of the Apes, Solaris, American Graffiti, Live and Let Die, Sleeper, The Sting, The Conversation, The Front Page, The Man with the Golden Gun, Young Frankenstein, Barry Lyndon, Jaws, Monty Python and the Holy Grail, Family Plot, Logan&#x27;s Run, Robin and Marian, Rocky, Silent Movie, The Bad News Bears, A Bridge Too Far, Annie Hall, Capricorn One, Close Encounters of the Third Kind, Damnation Alley, High Anxiety, Julia, Kingdom of the Spiders, March or Die, New York, New York, Sorcerer, Star Wars: Episode IV - A New Hope, The Spy Who Loved Me, Alien Zone, Caravans, Days of Heaven, F.I.S.T., Force 10 from Navarone, Jaws 2, Superman, The Last Waltz, 1941, Escape from Alcatraz, Meteor, Moonraker, Prophecy, Star Trek: The Motion Picture, The Black Hole, The Great Train Robbery, Airplane!, Can&#x27;t Stop the Music, Coal Miner&#x27;s Daughter, Flash Gordon, Lion of the Desert, Raise the Titanic, Somewhere in Time, Star Wars: Episode V - The Empire Strikes Back, Superman II, The Elephant Man, Chariots of Fire, Dragonslayer, For Your Eyes Only, Heartbeeps, Inchon, Modern Problems, Raiders of the Lost Ark, Reds, Roar, Sphinx, The Four Seasons, The Legend of the Lone Ranger, The Pursuit of D.B. Cooper, Time Bandits, Under the Rainbow, E.T. the Extra-Terrestrial, Firefox, Gandhi, Megaforce, Poltergeist, Poltergeist, Star Trek II: The Wrath of Khan, The Beastmaster, The Man from Snowy River, Tootsie, A Christmas Story, Krull, Lone Wolf McQuade, Never Say Never Again, Octopussy, Star Wars: Episode VI - Return of the Jedi, Superman III, The Right Stuff, Twilight Zone: The Movie, WarGames, Yentl, A Passage to India, Conan the Destroyer, Footloose, Footloose, Gremlins, Indiana Jones and the Temple of Doom, Sheena, Splash, Star Trek III: The Search for Spock, The Bounty, The Ice Pirates, The Karate Kid, The Karate Kid, The NeverEnding Story, A View to a Kill, Back to the Future, Out of Africa, Return to Oz, Howard the Duck, Invaders from Mars, Legal Eagles, Star Trek IV: The Voyage Home, Top Gun, 3 Men and a Baby, Cry Freedom, Radio Days, Spaceballs, Superman IV: The Quest for Peace, Teen Wolf Too, The Living Daylights, The Princess Bride, Beetlejuice, Big, Crocodile Dundee II, Twins, Back to the Future Part II, Bill &amp; Ted&#x27;s Excellent Adventure, Dead Poets Society, Driving Miss Daisy, New York Stories, Star Trek V: The Final Frontier, Troop Beverly Hills, Back to the Future Part III, Dick Tracy, Home Alone, Shipwrecked, Spaced Invaders, The Hunt for Red October, Bill &amp; Ted&#x27;s Bogus Journey, Hook, Star Trek VI: The Undiscovered Country, Teenage Mutant Ninja Turtles II: The Secret of the Ooze, White Fang, A League of Their Own, Home Alone 2: Lost in New York, Howards End, The Mighty Ducks, Airborne, Cool Runnings, Gettysburg, Groundhog Day, Hocus Pocus, Shadowlands, Super Mario Bros., Teenage Mutant Ninja Turtles III, The Adventures of Huck Finn, The Age of Innocence, The Remains of the Day, 3 Ninjas Kick Back, Baby&#x27;s Day Out, Little Women, Police Academy: Mission to Moscow, RiÂ¢hie RiÂ¢h, Star Trek: Generations, The Flintstones, The Hudsucker Proxy, The Santa Clause, Apollo 13, Casper, Mr. Holland&#x27;s Opus, Sense and Sensibility, The Indian in the Cupboard, Bogus, Evita, Flipper, Harriet the Spy, Jingle All the Way, Phenomenon, Sgt. Bilko, Space Jam, That Thing You Do!, The First Wives Club, The Phantom, A Simple Wish, Air Bud, Children of Heaven, Contact, Flubber, George of the Jungle, Selena, Shooting Fish, Spice World, The Borrowers, The Man Who Knew Too Little, The Spanish Prisoner, Trekkies, Warriors of Virtue, Antz, Dancer, Texas Pop. 81, Holy Man, Meet the Deedles, Mighty Joe Young, Simon Birch, Star Trek: Insurrection, The Prince of Egypt, The Truman Show, Waking Ned Devine, You&#x27;ve Got Mail, A Dog of Flanders, Baby Geniuses, Bicentennial Man, Dudley Do-Right, Galaxy Quest, Godzilla 2000, Inspector Gadget, My Favorite Martian, Runaway Bride, Star Wars: Episode I - The Phantom Menace, Stuart Little, Tea with Mussolini, The Basket, The Iron Giant, Digimon: The Movie, Dinosaur, How the Grinch Stole Christmas, Mission to Mars, My Dog Skip, Remember the Titans, Return to Me, Small Time Crooks, Snow Day, The Adventures of Rocky &amp; Bullwinkle, The Flintstones in Viva Rock Vegas, The House of Mirth, The Kid, The Little Vampire, The Road to El Dorado, Titan A.E., Atlantis: The Lost Empire, Cats &amp; Dogs, Crocodile Dundee in Los Angeles, Dr. Dolittle 2, Harry Potter and the Sorcerer&#x27;s Stone, Joe Somebody, Madison, Max Keeble&#x27;s Big Move, On the Line, Osmosis Jones, See Spot Run, Shaolin Soccer, Shrek, Spirited Away, Spy Kids, The Lost Skeleton of Cadavra, The Majestic, The Other Side of Heaven, A Walk to Remember, Big Fat Liar, Big Fat Liar, Clockstoppers, Harry Potter and the Chamber of Secrets, Hey Arnold! The Movie, Ice Age, Like Mike, Lilo &amp; Stitch, My Big Fat Greek Wedding, Nicholas Nickleby, Rabbit-Proof Fence, Scooby-Doo, Snow Dogs, Spy Kids 2: Island of Lost Dreams, Star Wars: Episode II - Attack of the Clones, Stolen Summer, Stuart Little 2, The Crocodile Hunter: Collision Course, The Importance of Being Earnest, The Master of Disguise, The Singles Ward, The Wild Thornberrys Movie, Time Changer, Treasure Planet, Tuck Everlasting, Agent Cody Banks, Chasing Papi, Cheaper by the Dozen, Daddy Day Care, Elf, Freaky Friday, From Justin to Kelly, Good Boy!, Holes, Johnny English, Kangaroo Jack, Looney Tunes: Back in Action, Radio, Rugrats Go Wild, Secondhand Lions, Sinbad: Legend of the Seven Seas, Spy Kids 3-D: Game Over, The Cat in the Hat, The Haunted Mansion, The Lizzie McGuire Movie, The R.M., What a Girl Wants, A Cinderella Story, Agent Cody Banks 2: Destination London, Around the World in 80 Days, Around the World in 80 Days, Bobby Jones: Stroke of Genius, Catch That Kid, Christmas with the Kranks, Confessions of a Teenage Drama Queen, Ella Enchanted, Fat Albert, Finding Neverland, Garfield, George and the Dragon, Harry Potter and the Prisoner of Azkaban, Home on the Range, Howl&#x27;s Moving Castle, Miracle, My Date with Drew, Napoleon Dynamite, National Treasure, New York Minute, Proud, Raise Your Voice, Scooby-Doo 2: Monsters Unleashed, Shark Tale, Shrek 2, Sky Captain and the World of Tomorrow, Sleepover, Super Size Me, Superbabies: Baby Geniuses 2, Teacher&#x27;s Pet, The Blue Butterfly, The Bridge of San Luis Rey, The Incredibles, The Prince and Me, The SpongeBob SquarePants Movie, The Work and the Glory, Thunderbirds, Two Brothers, Are We There Yet?, Because of Winn-Dixie, Charlie and the Chocolate Factory, Cheaper by the Dozen 2, Corpse Bride, Dreamer: Inspired by a True Story, Duma, Good Night, and Good Luck., Hoodwinked!, Kicking &amp; Screaming, Mad Hot Ballroom, Madagascar, Mirrormask, Nanny McPhee, Pride &amp; Prejudice, Racing Stripes, Robots, Sky High, Son of the Mask, The Adventures of Sharkboy and Lavagirl 3-D, The Californians, The Chronicles of Narnia: The Lion, the Witch and the Wardrobe, The Game of Their Lives, The Greatest Game Ever Played, The Hitchhiker&#x27;s Guide to the Galaxy, The Legend of Zorro, The Pacifier, The Perfect Man, The Rocket: The Legend of Rocket Richard, The Sisterhood of the Traveling Pants, Zathura: A Space Adventure, Akeelah and the Bee, Alex Rider: Operation Stormbreaker, An Inconvenient Truth, Aquamarine, Arthur and the Invisibles, Barnyard, Deck the Halls, Eight Below, Eragon, Facing the Giants, Faith Like Potatoes, Flicka, Flushed Away, Garfield 2, Glory Road, Happily N&#x27;Ever After, Happy Feet, Hoot, Ice Age: The Meltdown, Love&#x27;s Abiding Joy, Miss Potter, Monster House, Nacho Libre, Night at the Museum, One Night with the King, Opal Dream, Open Season, Over the Hedge, Rocky Balboa, The Ant Bully, The Astronaut Farmer, The Lake House, The Nativity Story, The Pink Panther, The Shaggy Dog, The Ultimate Gift, Unaccompanied Minors, We Are Marshall, Who Killed the Electric Car?, Wordplay, Zoom, Alvin and the Chipmunks, August Rush, Becoming Jane, Bee Movie, Bridge to Terabithia, Caramel, Daddy Day Camp, Enchanted, Evan Almighty, Fantastic 4: Rise of the Silver Surfer, Hairspray, In the Shadow of the Moon, Martian Child, Mr. Bean&#x27;s Holiday, Nancy Drew, No Reservations, Shrek the Third, Surf&#x27;s Up, The Game Plan, TMNT, Bedtime Stories, Beverly Hills Chihuahua, Bolt, City of Ember, CJ7, Delgo, Dragon Hunters, Fireproof, Food, Inc., Free Style, Inkheart, Journey to the Center of the Earth, Kung Fu Panda, Lovely, Still, Madagascar: Escape 2 Africa, Marley &amp; Me, Meet Dave, Nim&#x27;s Island, Roadside Romeo, Speed Racer, The Chronicles of Narnia: Prince Caspian, The Express, The Longshots, The Spiderwick Chronicles, Yesterday Was a Lie, A Christmas Carol, A Shine of Rainbows, Aliens in the Attic, Alvin and the Chipmunks: The Squeakquel, Astro Boy, Bandslam, Bride Wars, Bright Star, Cloudy with a Chance of Meatballs, Coraline, Dragonball: Evolution, Fame, Fantastic Mr. Fox, G-Force, Harry Potter and the Half-Blood Prince, Hotel for Dogs, Ice Age: Dawn of the Dinosaurs, Imagine That, Mao&#x27;s Last Dancer, Monsters vs. Aliens, New in Town, Night at the Museum: Battle of the Smithsonian, Old Dogs, Paul Blart: Mall Cop, Planet 51, Princess Kaiulani, Race to Witch Mountain, Shorts, The Perfect Game, The Young Victoria, This Is It, Up, Where the Wild Things Are, Wild Grass, A Turtle&#x27;s Tale: Sammy&#x27;s Adventures, Alice in Wonderland, Alice in Wonderland, Alpha and Omega, Animals United, Cats &amp; Dogs: The Revenge of Kitty Galore, Despicable Me, Diary of a Wimpy Kid, Extraordinary Measures, Flipped, Furry Vengeance, Gulliver&#x27;s Travels, How to Train Your Dragon, I Want Your Money, Just Wright, Leap Year, Legend of the Guardians: The Owls of Ga&#x27;Hoole, Letters to God, Letters to Juliet, Marmaduke, Meek&#x27;s Cutoff, Megamind, Nanny McPhee Returns, Percy Jackson &amp; the Olympians: The Lightning Thief, Rust, Secretariat, Shrek Forever After, Standing Ovation, Tangled, The 5th Quarter, The Christmas Bunny, The Chronicles of Narnia: The Voyage of the Dawn Treader, The Last Airbender, The Last Song, The Nutcracker in 3D, The Sorcerer&#x27;s Apprentice, The Spy Next Door, TRON: Legacy, TRON: Legacy, Yogi Bear, You Again, A Monster in Paris, Arthur Christmas, Diary of a Wimpy Kid: Rodrick Rules, Dolphin Tale, Glee: The 3D Concert Movie, Happy Feet 2, Hoodwinked Too! Hood vs. Evil, Hop, Hugo, Jack and Jill, Johnny English Reborn, Kung Fu Panda 2, Legend of Kung Fu Rabbit, Mars Needs Moms, Monte Carlo, Mr. Popper&#x27;s Penguins, Prom, Puss in Boots, Rango, Red Dog, Soul Surfer, Spy Kids: All the Time in the World in 4D, The Adventures of Tintin, The Big Year, The Lion of Judah, The Muppets, The Smurfs, We Bought a Zoo, Zookeeper, 2016: Obama&#x27;s America, Big Miracle, Brave, Chasing Mavericks, Cirque du Soleil: Worlds Away, Diary of a Wimpy Kid: Dog Days, Ernest &amp; Celestine, Foodfight!, Frankenweenie, Here Comes the Boom, Hotel Transylvania, Ice Age: Continental Drift, Journey 2: The Mysterious Island, Katy Perry: Part of Me, Life of Pi, Madagascar 3: Europe&#x27;s Most Wanted, Mirror Mirror, ParaNorman, Parental Guidance, Rise of the Guardians, Snow Queen, The Odd Life of Timothy Green, The Pirates! Band of Misfits, The Three Stooges, Won&#x27;t Back Down, Wreck-It Ralph, Against the Wild, Antarctica: A Year on Ice, Black Nativity, Cloudy with a Chance of Meatballs 2, Despicable Me 2, Epic, Escape from Planet Earth, Free Birds, Frozen, Grace Unplugged, Legends of Oz: Dorothy&#x27;s Return, One Direction: This Is Us, Oz the Great and Powerful, Oz the Great and Powerful, Percy Jackson: Sea of Monsters, The Adventurer: The Curse of the Midas Box, The Christmas Candle, The Croods, The Lost Medallion: The Adventures of Billy Stone, The Lunchbox, The Secret Life of Walter Mitty, The Smurfs 2, The Young and Prodigious T.S. Spivet, Turbo, Underdogs, UnDivided, Walking with Dinosaurs 3D, A Fine Step, Alexander and the Terrible, Horrible, No Good, Very Bad Day, Annie, Big Hero 6, Dolphin Tale 2, Dude, Where&#x27;s My Dog?!, Dwegons and Leprechauns, Earth to Echo, Heaven Is for Real, Henry &amp; Me, Horse Camp, How to Train Your Dragon 2, Into the Woods, Maleficent, Million Dollar Arm, Moms&#x27; Night Out, Mr. Peabody &amp; Sherman, Muppets Most Wanted, Night at the Museum: Secret of the Tomb, Paddington, Penguins of Madagascar, The Book of Life, The Boxtrolls, The Hundred-Foot Journey, The Lego Movie, The Nut Job, The Perfect Wave, When the Game Stands Tall, Alvin and the Chipmunks: The Road Chip, Christmas Eve, Cinderella, Cinderella, Courage, Dancin&#x27; It&#x27;s On, Goosebumps, Goosebumps, Home, Home, Home, Hotel Transylvania 2, Inside Out, Max, McFarland, USA, Minions, Pan, Pan, Pan, Paul Blart: Mall Cop 2, R.L. Stine&#x27;s Monsterville: The Cabinet of Souls, The Good Dinosaur, The Little Prince, The Second Best Exotic Marigold Hotel, The SpongeBob Movie: Sponge Out of Water, The Walk, Tomorrowland, Top Cat Begins, Alice Through the Looking Glass, God&#x27;s Not Dead 2, Kung Fu Panda 3, Miracles from Heaven, Pete&#x27;s Dragon, Rodeo Girl, The Angry Birds Movie, The BFG, The Dog Lover, The Jungle Book, The Jungle Book, The Secret Life of Pets</td>\n",
              "        </tr>\n",
              "        <tr>\n",
              "            <td>PG-13</td>\n",
              "            <td>Doctor Zhivago, Once Upon a Time in the West, Paint Your Wagon, Grease, The Outsiders, Dune, Red Dawn, Ladyhawke, Mad Max Beyond Thunderdome, Red Sonja, Silverado, The Color Purple, The Last Dragon, Young Sherlock Holmes, Big Trouble in Little China, Crocodile Dundee, Little Shop of Horrors, Peggy Sue Got Married, Shanghai Surprise, The Golden Child, Ishtar, Jaws: The Revenge, La Bamba, The Last Emperor, My Stepmother Is an Alien, Poltergeist III, Scrooged, Batman, Henry V, Indiana Jones and the Last Crusade, Licence to Kill, The Abyss, UHF, We&#x27;re No Angels, Arachnophobia, Dances with Wolves, Days of Thunder, Edward Scissorhands, Ghost, Gremlins 2: The New Batch, Kindergarten Cop, Metropolitan, Quigley Down Under, Tremors, Beastmaster 2: Through the Portal of Time, Flight of the Intruder, My Girl, Return to the Blue Lagoon, Robin Hood: Prince of Thieves, The Addams Family, The Naked Gun 2Â½: The Smell of Fear, Batman Returns, Death Becomes Her, Malcolm X, Medicine Man, Memoirs of an Invisible Man, Radio Flyer, Wayne&#x27;s World, Ed and His Dead Mother, Jurassic Park, Last Action Hero, Loaded Weapon 1, Mrs. Doubtfire, Much Ado About Nothing, Only the Strong, Philadelphia, RoboCop 3, The Fugitive, The Pelican Brief, What&#x27;s Eating Gilbert Grape, Ace Ventura: Pet Detective, Clear and Present Danger, Crooklyn, Don Juan DeMarco, Dumb &amp; Dumber, Forrest Gump, Highlander: The Final Dimension, Hoop Dreams, Naked Gun 33 1/3: The Final Insult, PCU, Renaissance Man, Street Fighter, The Client, The Mask, The River Wild, The Shadow, Wyatt Earp, Ace Ventura: When Nature Calls, Batman Forever, Clueless, Congo, Cutthroat Island, First Knight, GoldenEye, Hackers, Home for the Holidays, Jefferson in Paris, Mortal Kombat, The American President, The Bridges of Madison County, The Net, Waterworld, Beavis and Butt-Head Do America, Chain Reaction, Daylight, DragonHeart, Ghosts of Mississippi, Hamlet, Hamlet, Happy Gilmore, Independence Day, Kingpin, Mars Attacks!, Marvin&#x27;s Room, Mission: Impossible, Mrs. Winterbourne, Multiplicity, My Fellow Americans, Romeo + Juliet, Shine, Spy Hard, Star Trek: First Contact, The Cable Guy, The Island of Dr. Moreau, The Mirror Has Two Faces, The Nutty Professor, The Pallbearer, Twister, Up Close &amp; Personal, White Squall, Anaconda, As Good as It Gets, Austin Powers: International Man of Mystery, Batman &amp; Robin, Clockwatchers, Dante&#x27;s Peak, DÃ©jÃ  Vu, Gattaca, In &amp; Out, Kundun, Liar Liar, Love and Death on Long Island, Mad City, Men in Black, Mortal Kombat: Annihilation, Mr. Nice Guy, My Best Friend&#x27;s Wedding, Prefontaine, Princess Mononoke, Seven Years in Tibet, Speed 2: Cruise Control, Steel, The Apostle, The Fifth Element, The Lost World: Jurassic Park, The Rainmaker, The Saint, Titanic, Tomorrow Never Dies, Volcano, A Civil Action, A Night at the Roxbury, Armageddon, Can&#x27;t Hardly Wait, Chairman of the Board, City of Angels, Deep Impact, Dirty Work, Doctor Dolittle, Ever After: A Cinderella Story, Home Fries, Hope Floats, Lost in Space, Meet Joe Black, Naturally Native, Patch Adams, Practical Magic, Six Days Seven Nights, Six-String Samurai, Small Soldiers, Smoke Signals, Sphere, Stepmom, Tango, The Horse Whisperer, The Man in the Iron Mask, The Mask of Zorro, The Mighty, The Newton Boys, The Waterboy, The X Files, What Dreams May Come, Without Limits, 10 Things I Hate About You, An Ideal Husband, Anna and the King, Anywhere But Here, At First Sight, Austin Powers: The Spy Who Shagged Me, Bats, Big Daddy, Blast from the Past, Blue Streak, Bowfinger, Brokedown Palace, Crazy in Alabama, Dick, Drive Me Crazy, Drop Dead Gorgeous, Edtv, Entrapment, Felicia&#x27;s Journey, For Love of the Game, Happy, Texas, Held Up, Jakob the Liar, Message in a Bottle, Mickey Blue Eyes, Molly, Mystery Men, Notting Hill, She&#x27;s All That, Simply Irresistible, Snow Falling on Cedars, Superstar, The Deep End of the Ocean, The Haunting, The Muse, The Omega Code, The Out-of-Towners, The Sixth Sense, The World Is Not Enough, Three to Tango, Tumbleweeds, Wild Wild West, Wing Commander, 28 Days, All the Pretty Horses, Autumn in New York, Battlefield Earth, Bedazzled, Best in Show, Big Momma&#x27;s House, Boys and Girls, Bring It On, Cast Away, Center Stage, Charlie&#x27;s Angels, Chocolat, Coyote Ugly, Crouching Tiger, Hidden Dragon, Down to You, Drowning Mona, Dude, Where&#x27;s My Car?, Finding Forrester, Frequency, Gone in Sixty Seconds, Hanging Up, Here on Earth, I Dreamed of Africa, Keeping the Faith, Lisa Picard Is Famous, Little Nicky, Loser, Love &amp; Basketball, Meet the Parents, Mercy Streets, Miss Congeniality, Mission: Impossible II, Nutty Professor II: The Klumps, O Brother, Where Art Thou?, Pandaemonium, Pay It Forward, Ready to Rumble, Red Planet, Screwed, Shanghai Noon, Songcatcher, Space Cowboys, Supernova, Tadpole, The 6th Day, The Crew, The Family Man, The In Crowd, The Legend of Bagger Vance, The Next Best Thing, The Perfect Storm, The Replacements, The Skulls, Thirteen Days, U-571, Unbreakable, Vertical Limit, What Lies Beneath, What Women Want, Whatever It Takes, Where the Heart Is, X-Men, A Beautiful Mind, A Knight&#x27;s Tale, A.I. Artificial Intelligence, All the Queen&#x27;s Men, America&#x27;s Sweethearts, American Outlaws, Antitrust, Bandits, Behind Enemy Lines, Black Knight, Brigham City, Bubble Boy, Corky Romano, Crazy/Beautiful, Dogtown and Z-Boys, Domestic Disturbance, Double Take, Down to Earth, Driven, Final Fantasy: The Spirits Within, Get Over It, Glitter, Hardball, Head Over Heels, Heartbreakers, Hearts in Atlantis, I Am Sam, Joe Dirt, Josie and the Pussycats, Jurassic Park III, Just Visiting, K-PAX, Kate &amp; Leopold, Lara Croft: Tomb Raider, Legally Blonde, Lucky Break, Megiddo: The Omega Code 2, Monkeybone, Moulin Rouge!, Ocean&#x27;s Eleven, Out Cold, Pearl Harbor, Planet of the Apes, Planet of the Apes, Pootie Tang, Rat Race, Riding in Cars with Boys, Rush Hour 2, Save the Last Dance, Saving Silverman, Serendipity, Shallow Hal, Someone Like You..., Soul Survivors, Summer Catch, Sweet November, Texas Rangers, The Animal, The Curse of the Jade Scorpion, The Fast and the Furious, The Fast and the Furious, The Fast and the Furious, The Glass House, The Lord of the Rings: The Fellowship of the Ring, The Mummy Returns, The Musketeer, The One, The Others, The Wedding Planner, What&#x27;s the Worst That Could Happen?, Zoolander, Abandon, About a Boy, Antwone Fisher, Austin Powers in Goldmember, Bad Company, Barbershop, Bend It Like Beckham, Big Trouble, Blue Crush, Brown Sugar, Catch Me If You Can, Chicago, Crossroads, Crossroads, Darkness, Die Another Day, Divine Secrets of the Ya-Ya Sisterhood, Dragonfly, Drumline, Eight Legged Freaks, Enough, Extreme Ops, Far from Heaven, Half Past Dead, Hero, Hero, High Crimes, Hollywood Ending, I Spy, John Q, Juwanna Mann, K-19: The Widowmaker, Kung Pow: Enter the Fist, Life or Something Like It, Maid in Manhattan, Men in Black II, Minority Report, Moonlight Mile, Mr. Deeds, Real Women Have Curves, Reign of Fire, Serving Sara, Signs, Spider-Man, Star Trek: Nemesis, Stealing Harvard, Stealing Harvard, Sunshine State, Sweet Home Alabama, Swimfan, The Adventures of Pluto Nash, The Bourne Identity, The Count of Monte Cristo, The Emperor&#x27;s Club, The Four Feathers, The Hours, The Lord of the Rings: The Two Towers, The Mothman Prophecies, The New Guy, The Scorpion King, The Sum of All Fears, The Time Machine, The Transporter, The Tuxedo, They, Two Weeks Notice, Undercover Brother, Whale Rider, White Oleander, xXx, 2 Fast 2 Furious, A Guy Thing, A Mighty Wind, Alex &amp; Emma, Big Fish, Bon voyage, Bringing Down the House, Bruce Almighty, Bulletproof Monk, Charlie&#x27;s Angels: Full Throttle, Darkness Falls, Dickie Roberts: Former Child Star, Dumb and Dumberer: When Harry Met Lloyd, Duplex, Girl with a Pearl Earring, Gods and Generals, Grand Theft Parsons, Head of State, Hollywood Homicide, Honey, How to Deal, How to Lose a Guy in 10 Days, Hulk, Intolerable Cruelty, Just Married, Lara Croft Tomb Raider: The Cradle of Life, Legally Blonde 2: Red, White &amp; Blonde, Malibu&#x27;s Most Wanted, Masked and Anonymous, Master and Commander: The Far Side of the World, Mona Lisa Smile, My Boss&#x27;s Daughter, Northfork, Osama, Paycheck, Pieces of April, Pirates of the Caribbean: The Curse of the Black Pearl, S.W.A.T., Saints and Soldiers, Scary Movie 3, School of Rock, Seabiscuit, Shanghai Knights, Shattered Glass, Something&#x27;s Gotta Give, Stuck on You, The Battle of Shaker Heights, The Book of Mormon Movie, Volume 1: The Journey, The Core, The Italian Job, The League of Extraordinary Gentlemen, The Lord of the Rings: The Return of the King, The Medallion, The Rundown, The Triplets of Belleville, The Visual Bible: The Gospel of John, Timeline, Under the Tuscan Sun, Willard, X-Men 2, 13 Going on 30, 50 First Dates, After the Sunset, Against the Ropes, Along Came Polly, Anacondas: The Hunt for the Blood Orchid, Anchorman: The Legend of Ron Burgundy, AVP: Alien vs. Predator, Barbershop 2: Back in Business, Beyond the Sea, Brave New Girl, Breakin&#x27; All the Rules, Bride &amp; Prejudice, Catwoman, Cellular, Chasing Liberty, Chasing Liberty, Connie and Carla, D.E.B.S., De-Lovely, Dear Frankie, Dodgeball: A True Underdog Story, Dodgeball: A True Underdog Story, Envy, Flight of the Phoenix, Godsend, Hellboy, Hidalgo, Hotel Rwanda, House of D, House of Flying Daggers, I, Robot, In Good Company, Incident at Loch Ness, Jersey Girl, Johnson Family Vacation, Ladder 49, Laws of Attraction, Little Black Book, Mean Girls, Meet the Fockers, Million Dollar Baby, Mr 3000, My Baby&#x27;s Daddy, Ocean&#x27;s Twelve, Paparazzi, Primer, Raising Helen, Ray, Riding Giants, Saint Ralph, Saved!, Secret Window, Shall We Dance, Spanglish, Spider-Man 2, Starsky &amp; Hutch, Steamboy, The Alamo, The Alamo, The Aviator, The Big Bounce, The Bourne Supremacy, The Chorus, The Chronicles of Riddick, The Cookout, The Day After Tomorrow, The Grudge, The Notebook, The Phantom of the Opera, The Sea Inside, The Stepford Wives, The Terminal, The Village, The Whole Ten Yards, Torque, Vanity Fair, Walking Tall, Welcome to Mooseport, White Chicks, Wicker Park, Wicker Park, Wimbledon, Win a Date with Tad Hamilton!, Without a Paddle, You Got Served, A Lot Like Love, A Sound of Thunder, Ã†on Flux, An American Haunting, An Unfinished Life, Batman Begins, Be Cool, Beauty Shop, Boogeyman, Cinderella Man, Coach Carter, Cry_Wolf, Cursed, Dark Water, Diary of a Mad Black Woman, Elektra, Elizabethtown, End of the Spear, Fever Pitch, Flightplan, Fun with Dick and Jane, Goal! The Dream Begins, Guess Who, Harry Potter and the Goblet of Fire, Hitch, Into the Blue, Joyeux Noel, Just Like Heaven, King Kong, King Kong, King Kong, King&#x27;s Ransom, Lords of Dogtown, Man of the House, Memoirs of a Geisha, Miss Congeniality 2: Armed and Fabulous, Monster-in-Law, Mr. &amp; Mrs. Smith, Must Love Dogs, Oliver Twist, Red Eye, Rent, Rize, Roll Bounce, Sahara, Serenity, Star Wars: Episode III - Revenge of the Sith, Stealth, Supercross, The Brothers Grimm, The Cave, The Dukes of Hazzard, The Exorcism of Emily Rose, The Family Stone, The Interpreter, The Island, The Island, The Longest Yard, The Man, The Mongol King, The New World, The Producers, The Promise, The Ring Two, The Salon, The Skeleton Key, The Wedding Date, The Wendell Baker Story, The White Countess, The Work and the Glory II: American Zion, The World&#x27;s Fastest Indian, Transporter 2, Underclassman, Undiscovered, Walk the Line, War of the Worlds, Water, White Noise, xXx: State of the Union, 16 Blocks, A Good Year, A Prairie Home Companion, All the King&#x27;s Men, American Dreamz, ATL, Bandidas, Bella, Big Momma&#x27;s House 2, Casino Royale, Casino Royale, Catch a Fire, Click, Copying Beethoven, Crossover, Date Movie, DOA: Dead or Alive, Dreamgirls, Driving Lessons, Employee of the Month, Eye of the Dolphin, Failure to Launch, Firewall, Flyboys, For Your Consideration, Gridiron Gang, Just My Luck, Keeping Up with the Steins, Lady in the Water, Lage Raho Munna Bhai, Larry the Cable Guy: Health Inspector, Last Holiday, Littleman, Madea&#x27;s Family Reunion, Man of the Year, Marie Antoinette, Mission: Impossible III, My Super Ex-Girlfriend, Once in a Lifetime: The Extraordinary Story of the New York Cosmos, Peaceful Warrior, Phat Girlz, Pirates of the Caribbean: Dead Man&#x27;s Chest, Poseidon, Pulse, Rescue Dawn, Scary Movie 4, School for Scoundrels, Scoop, She&#x27;s the Man, Stay Alive, Step Up, Stick It, Stranger Than Fiction, Superman Returns, Take the Lead, Talladega Nights: The Ballad of Ricky Bobby, The Benchwarmers, The Break-Up, The Covenant, The Da Vinci Code, The Devil Wears Prada, The Fast and the Furious: Tokyo Drift, The Fountain, The Grudge 2, The Holiday, The Illusionist, The Illusionist, The Marine, The Namesake, The Painted Veil, The Prestige, The Pursuit of Happyness, The Queen, The Sentinel, The Trials of Darryl Hunt, Thr3e, Ultraviolet, When a Stranger Calls, World Trade Center, X-Men: The Last Stand, You, Me and Dupree, 1408, Across the Universe, Across the Universe, Arnolds Park, Because I Said So, Beowulf, Blades of Glory, Blonde Ambition, Blood and Chocolate, Brick Lane, Code Name: The Cleaner, Disturbia, Disturbia, Dragon Wars: D-War, Elizabeth: The Golden Age, Epic Movie, Freedom Writers, Ghost Rider, Gracie, Harry Potter and the Order of the Phoenix, Hot Rod, How She Move, I Am Legend, In the Land of Women, In the Name of the King: A Dungeon Siege Tale, Juno, Juno, Lars and the Real Girl, License to Wed, Live Free or Die Hard, Lucky You, Married Life, MoliÃ¨re, Music and Lyrics, My Blueberry Nights, Ocean&#x27;s Thirteen, P.S. I Love You, Persepolis, Pirates of the Caribbean: At World&#x27;s End, Premonition, Resurrecting the Champ, Run, Fatboy, Run, Rush Hour 3, Shotgun Stories, Sicko, Spider-Man 3, Spider-Man 3, St. Trinian&#x27;s, Stardust, Stomp the Yard, Sydney White, The Bourne Ultimatum, The Bucket List, The Diving Bell and the Butterfly, The Golden Compass, The Great Debaters, The Invasion, The Kite Runner, The Last Legion, The Last Sin Eater, The Living Wake, The Simpsons Movie, This Christmas, Transformers, Under the Same Moon, Waitress, When Did You Last See Your Father?, White Noise 2: The Light, Who&#x27;s Your Caddy?, Why Did I Get Married?, Wild Hogs, 21, 27 Dresses, An American Carol, Australia, Baby Mama, Babylon A.D., Be Kind Rewind, Bottle Shock, Call + Response, Cloverfield, Definitely, Maybe, Disaster Movie, Doubt, Drillbit Taylor, Eagle Eye, Easy Virtue, Flash of Genius, Fool&#x27;s Gold, Four Christmases, Get Smart, Ghost Town, Hancock, Hellboy II: The Golden Army, Indiana Jones and the Kingdom of the Crystal Skull, Iron Man, Jumper, Lakeview Terrace, Leatherheads, Mad Money, Made of Honor, Mamma Mia!, Man on Wire, Max Payne, Me and Orson Welles, Meet the Spartans, Never Back Down, Nick and Norah&#x27;s Infinite Playlist, One Missed Call, Over Her Dead Body, Prom Night, Quantum of Solace, Seven Pounds, Shine a Light, Shutter, Sleep Dealer, Step Up 2: The Streets, Superhero Movie, Swing Vote, Taken, The Boy in the Striped Pajamas, The Brothers Bloom, The Class, The Curious Case of Benjamin Button, The Dark Knight, The Day the Earth Stood Still, The Day the Earth Stood Still, The Duchess, The Eye, The Forbidden Kingdom, The Haunting of Molly Hartley, The House Bunny, The Incredible Hulk, The Love Guru, The Mummy: Tomb of the Dragon Emperor, The Other Boleyn Girl, The Other End of the Line, The Rocker, The Secret Life of Bees, The Sisterhood of the Traveling Pants 2, The Spirit, The Women, The X Files: I Want to Believe, The Yellow Handkerchief, Twilight, Twilight, Valkyrie, Vantage Point, Vicky Cristina Barcelona, W., Welcome Home, Roscoe Jenkins, What Happens in Vegas, Witless Protection, Yes Man, You Don&#x27;t Mess with the Zohan, 12 Rounds, 17 Again, 2012, 500 Days of Summer, 9, Adam, All About Steve, An Education, Angels &amp; Demons, Armored, Avatar, B-Girl, Bran Nue Dae, Carriers, Cirque du Freak: The Vampire&#x27;s Assistant, City Island, Coco Before Chanel, Couples Retreat, Dance Flick, Did You Hear About the Morgans?, Drag Me to Hell, Duplicity, Everybody&#x27;s Fine, Flying By, G.I. Joe: The Rise of Cobra, Gentlemen Broncos, Get Low, He&#x27;s Just Not That Into You, I Can Do Bad All by Myself, I Love You, Beth Cooper, Invictus, Julie &amp; Julia, Knowing, Land of the Lost, Love Happens, Madea Goes to Jail, Motherhood, My Life in Ruins, My Sister&#x27;s Keeper, Nine, Not Easily Broken, Ondine, Post Grad, Royal Kill, Sherlock Holmes, Star Trek, State of Play, Steppin: The Movie, Street Fighter: The Legend of Chun-Li, Surrogates, Terminator Salvation, The Blind Side, The Box, The City of Your Final Destination, The Deported, The Fourth Kind, The Hole, The Imaginarium of Doctor Parnassus, The Invention of Lying, The Lovely Bones, The Lovely Bones, The Open Road, The Proposal, The Soloist, The Stepfather, The Time Traveler&#x27;s Wife, The Twilight Saga: New Moon, The Unborn, The Unborn, To Save a Life, Transformers: Revenge of the Fallen, Whatever Works, Whip It, X-Men Origins: Wolverine, Year One, Another Year, Blood Done Sign My Name, Burlesque, Charlie St. Cloud, Clash of the Titans, Clash of the Titans, Country Strong, Date Night, Dear John, Devil, Dinner for Schmucks, Dylan Dog: Dead of Night, Easy A, Eat Pray Love, Fair Game, Freakonomics, Good Intentions, Griff the Invisible, Grown Ups, Hereafter, How Do You Know, Inception, Inside Job, Insidious, Iron Man 2, It&#x27;s a Wonderful Afterlife, It&#x27;s Kind of a Funny Story, Jonah Hex, Killers, Knight and Day, Little Fockers, Lottery Ticket, Mooz-Lum, Morning Glory, My Name Is Khan, Of Gods and Men, Our Family Wedding, Prince of Persia: The Sands of Time, Rabbit Hole, RED, Redemption Road, Remember Me, Robin Hood, Salt, Sarah&#x27;s Key, Scott Pilgrim vs. the World, Skyline, Step Up 3D, Super Hybrid, Takers, The Back-up Plan, The Bounty Hunter, The Conspirator, The Ghost Writer, The Grace Card, The Last Exorcism, The Last Godfather, The Losers, The Next Three Days, The Other Guys, The Social Network, The Switch, The Tempest, The Tourist, The Tourist, The Twilight Saga: Eclipse, Trollhunter, True Grit, Unstoppable, Valentine&#x27;s Day, Vampires Suck, Wall Street: Money Never Sleeps, Why Did I Get Married Too?, Wild Target, A Better Life, A Separation, Abduction, Anonymous, Another Earth, Apollo 18, Battle Los Angeles, Beastly, Bernie, Big Mommas: Like Father, Like Son, Captain America: The First Avenger, Colombiana, Contagion, Courageous, Crazy, Stupid, Love., Damsels in Distress, Dream House, Extremely Loud &amp; Incredibly Close, Fast Five, Ghost Rider: Spirit of Vengeance, Go for It!, Green Lantern, Hanna, I Am Number Four, I Don&#x27;t Know How She Does It, In Time, Jumping the Broom, Just Go with It, Larry Crowne, Like Crazy, Midnight in Paris, Mission: Impossible - Ghost Protocol, Moneyball, New Year&#x27;s Eve, October Baby, One Day, Pirates of the Caribbean: On Stranger Tides, Priest, Real Steel, Red Riding Hood, Rise of the Planet of the Apes, Samsara, Saving Private Perez, Shark Night 3D, Sherlock Holmes: A Game of Shadows, Snow Flower and the Secret Fan, Something Borrowed, Source Code, Sucker Punch, Super 8, The Adjustment Bureau, The Art of Getting By, The Artist, The Beaver, The Best Exotic Marigold Hotel, The Darkest Hour, The Dilemma, The Greatest Movie Ever Sold, The Green Hornet, The Help, The Iron Lady, The Legend of Hell&#x27;s Gate: An American Conspiracy, The Rite, The Roommate, The Three Musketeers, The Tree of Life, There Be Dragons, Thor, Tower Heist, Transformers: Dark of the Moon, Unknown, Unknown, War Horse, Warrior, Water for Elephants, X-Men: First Class, You Got Served: Beat the World, A Thousand Words, After, Alex Cross, Amour, Atlas Shrugged II: The Strike, Battleship, Beasts of the Southern Wild, Blue Like Jazz, Chronicle, Dark Shadows, Darling Companion, Day One, Fun Size, Good Deeds, Hardflip, Hope Springs, House at the End of the Street, Jack Reacher, Jack Reacher, John Carter, Joyful Noise, Les MisÃ©rables, Lincoln, Lockout, LOL, Madea&#x27;s Witness Protection, Man on a Ledge, Men in Black 3, Moonrise Kingdom, Mud, Now Is Good, One for the Money, Pitch Perfect, Playing for Keeps, Premium Rush, Quartet, Red Tails, Robot &amp; Frank, Rock of Ages, Shanghai Calling, Skyfall, Skyfall, Snow White and the Huntsman, Snow White: A Deadly Summer, Sparkle, Step Up Revolution, Taken 2, The Amazing Spider-Man, The Apparition, The Avengers, The Avengers, The Bourne Legacy, The Cold Light of Day, The Dark Knight Rises, The Frozen, The Gatekeepers, The Guilt Trip, The Hobbit: An Unexpected Journey, The Hunger Games, The Impossible, The Lucky One, The Perks of Being a Wallflower, The Possession, The Possession, The Twilight Saga: Breaking Dawn - Part 2, The Twilight Saga: Breaking Dawn - Part 2, The Vow, The Woman in Black, The Words, Think Like a Man, This Means War, Trade of Innocents, Trouble with the Curve, Vamps, What to Expect When You&#x27;re Expecting, Wrath of the Titans, 20 Feet from Stardom, 42, 47 Ronin, A Madea Christmas, Admission, After Earth, All Is Lost, Anchorman 2: The Legend Continues, Baggage Claim, Batman: The Dark Knight Returns, Part 2, Battle of the Year, Beautiful Creatures, Blue Jasmine, Buen DÃ­a, RamÃ³n, Captain Phillips, Delivery Man, Ender&#x27;s Game, Enough Said, G.I. Joe: Retaliation, Getaway, Gravity, Grown Ups 2, Grudge Match, Home Run, Ida, Independence Daysaster, Insidious: Chapter 2, Instructions Not Included, Iron Man 3, Jack the Giant Slayer, Labor Day, Last Vegas, Lee Daniels&#x27; The Butler, Living Dark: The Story of Ted the Caver, Mama, Man of Steel, Mandela: Long Walk to Freedom, Now You See Me, Oblivion, Out of Inferno, Pacific Rim, Peeples, Philomena, R.I.P.D., RED 2, Safe Haven, Saving Mr. Banks, Scary Movie 5, Snitch, Snitch, Star Trek Into Darkness, The Book Thief, The East, The Grandmaster, The Great Gatsby, The Great Gatsby, The Hobbit: The Desolation of Smaug, The Host, The Hunger Games: Catching Fire, The Incredible Burt Wonderstone, The Internship, The Last Exorcism Part II, The Lone Ranger, The Mortal Instruments: City of Bones, The Way Way Back, The Wolverine, Thor: The Dark World, Warm Bodies, White House Down, World War Z, 3 Days to Kill, 8 Days, And So It Goes, Atlas Shrugged: Who Is John Galt?, Beyond the Lights, Big Eyes, Black or White, Blended, Brick Mansions, Captain America: The Winter Soldier, Coming Home, Dawn of the Planet of the Apes, Desert Dancer, Divergent, Doc Holliday&#x27;s Revenge, Dracula Untold, Dumb and Dumber To, Edge of Tomorrow, Elsa &amp; Fred, Endless Love, Exodus: Gods and Kings, Exodus: Gods and Kings, Get on Up, Guardians of the Galaxy, Hercules, Hercules, I, Frankenstein, If I Stay, Interstellar, Into the Storm, Jack Ryan: Shadow Recruit, Left Behind, Left Behind, Light from the Darkroom, Miss Julie, Need for Speed, No Good Deed, Noah, Non-Stop, Ouija, Pompeii, Queen of the Mountains, Red Sky, Ride Along, RoboCop, RoboCop, Selma, Seventh Son, Son of God, Song One, St. Vincent, Still Alice, Taken 3, Teenage Mutant Ninja Turtles, Teenage Mutant Ninja Turtles, The Amazing Spider-Man 2, The Best of Me, The Expendables 3, The Fault in Our Stars, The Giver, The Hobbit: The Battle of the Five Armies, The Hunger Games: Mockingjay - Part 1, The Imitation Game, The Last Five Years, The Legend of Hercules, The Maze Runner, The Monuments Men, The Other Woman, The Signal, The Sisterhood of Night, The Theory of Everything, Think Like a Man Too, Transcendence, Transformers: Age of Extinction, Unbroken, Unbroken, Winter&#x27;s Tale, X-Men: Days of Future Past, 90 Minutes in Heaven, Accidental Love, Aloha, Aloha, Ant-Man, Avengers: Age of Ultron, Bridge of Spies, Brooklyn, Captive, Concussion, Creed, Daddy&#x27;s Home, Do You Believe?, Everest, Fantastic Four, Fantastic Four, Freeheld, Furious 7, Growing Up Smith, Heroes of Dirt, Hot Pursuit, In the Heart of the Sea, Insidious: Chapter 3, Insurgent, Ip Man 3, Joy, Jupiter Ascending, Jurassic World, Krampus, Little Boy, Love the Coopers, Maggie, Mission: Impossible - Rogue Nation, Paper Towns, Pitch Perfect 2, Pixels, Point Break, Point Break, Project Almanac, Romantic Schemer, San Andreas, Secret in Their Eyes, Self/less, Spectre, Star Wars: Episode VII - The Force Awakens, Survivor, Terminator Genisys, The 33, The Age of Adaline, The DUFF, The Hunger Games: Mockingjay - Part 2, The Intern, The Last Witch Hunter, The Lazarus Effect, The Longest Ride, The Man from U.N.C.L.E., The Martian, The Scorch Trials, The Transporter Refueled, The Vatican Tapes, The Visit, Victor Frankenstein, Victor Frankenstein, Victor Frankenstein, Woman in Gold, 10 Cloverfield Lane, Allegiant, Batman v Superman: Dawn of Justice, Ben-Hur, Ben-Hur, Ben-Hur, Captain America: Civil War, Central Intelligence, Eddie the Eagle, Eddie the Eagle, Fight to the Finish, Florence Foster Jenkins, Ghostbusters, Ghostbusters, Gods of Egypt, Hail, Caesar!, Independence Day: Resurgence, Jason Bourne, Lights Out, Me Before You, Midnight Special, Mr. Church, My Big Fat Greek Wedding 2, Nerve, Now You See Me 2, Pride and Prejudice and Zombies, Race, Ride Along 2, Risen, Star Trek Beyond, Suicide Squad, Teenage Mutant Ninja Turtles: Out of the Shadows, The 5th Wave, The Boy, The Finest Hours, The Forest, The Huntsman: Winter&#x27;s War, The Legend of Tarzan, The Legend of Tarzan, The Masked Saint, The Shallows, The Young Messiah, Warcraft, X-Men: Apocalypse, Yoga Hosers, Zoolander 2</td>\n",
              "        </tr>\n",
              "        <tr>\n",
              "            <td>Passed</td>\n",
              "            <td>The Broadway Melody, Hell&#x27;s Angels, The Wizard of Oz, Boom Town, A Guy Named Joe, Bathing Beauty, The Valley of Decision, Annie Get Your Gun, Quo Vadis</td>\n",
              "        </tr>\n",
              "        <tr>\n",
              "            <td>R</td>\n",
              "            <td>Psycho, A Fistful of Dollars, Rosemary&#x27;s Baby, Mississippi Mermaid, The Wild Bunch, Catch-22, Cotton Comes to Harlem, The Ballad of Cable Hogue, The Conformist, Woodstock, Sweet Sweetback&#x27;s Baadasssss Song, The French Connection, The French Connection, Cries &amp; Whispers, Everything You Always Wanted to Know About Sex * But Were Afraid to Ask, Frenzy, The Godfather, High Plains Drifter, Mean Streets, Pat Garrett &amp; Billy the Kid, The Exorcist, Blazing Saddles, The Godfather: Part II, The Texas Chain Saw Massacre, The Texas Chain Saw Massacre, Death Race 2000, One Flew Over the Cuckoo&#x27;s Nest, Network, Taxi Driver, The Omen, The Omen, Exorcist II: The Heretic, The Kentucky Fried Movie, Animal House, Halloween, Halloween, Halloween, The Boys from Brazil, The Deer Hunter, Alien, All That Jazz, Apocalypse Now, Mad Max, Penitentiary, The Rose, Caddyshack, Galaxina, Heaven&#x27;s Gate, Ordinary People, Out of the Blue, Private Benjamin, Raging Bull, The Blue Lagoon, The Blues Brothers, The Fog, The Fog, The Long Riders, The Shining, Blow Out, Das Boot, Escape from New York, Friday the 13th Part 2, Graduation Day, Heavy Metal, History of the World: Part I, History of the World: Part I, Mad Max 2: The Road Warrior, Mommie Dearest, Nighthawks, Porky&#x27;s, Quest for Fire, Stripes, The Howling, The Postman Always Rings Twice, Blade Runner, Butterfly, Cat People, Cat People, Class of 1984, Conan the Barbarian, Conan the Barbarian, Creepshow, Creepshow, Diner, First Blood, First Blood, Friday the 13th Part III, Halloween III: Season of the Witch, Jekyll and Hyde... Together Again, The Best Little Whorehouse in Texas, The Thing, The Verdict, Flashdance, Gabriela, Losin&#x27; It, Love Letters, National Lampoon&#x27;s Vacation, Scarface, The Dead Zone, The Wicked Lady, Trading Places, Videodrome, Amadeus, Beverly Hills Cop, Body Double, C.H.U.D., Firestarter, Friday the 13th: The Final Chapter, Once Upon a Time in America, Police Academy, Repo Man, The Cotton Club, The Hotel New Hampshire, The Terminator, A Nightmare on Elm Street 2: Freddy&#x27;s Revenge, Brazil, Commando, Def-Con 4, Friday the 13th: A New Beginning, Invasion U.S.A., Krush Groove, Lifeforce, My Beautiful Laundrette, Pale Rider, Rambo: First Blood Part II, Subway, The Return of the Living Dead, The Return of the Living Dead, Witness, 9Â½ Weeks, Aliens, April Fool&#x27;s Day, Highlander, Jason Lives: Friday the 13th Part VI, Platoon, River&#x27;s Edge, Salvador, She&#x27;s Gotta Have It, Stand by Me, The Clan of the Cave Bear, The Color of Money, The Wraith, Witchboard, American Ninja 2: The Confrontation, Beverly Hills Cop II, Creepshow 2, Fatal Attraction, From a Whisper to a Scream, Good Morning, Vietnam, Hellraiser, Hollywood Shuffle, Malone, Maurice, Predator, Prison, The Barbarians, The Lost Boys, The Running Man, The Untouchables, Wall Street, A Nightmare on Elm Street 4: The Dream Master, Action Jackson, Akira, Bloodsport, Bright Lights, Big City, Child&#x27;s Play, Dangerous Liaisons, Dangerous Liaisons, Die Hard, Friday the 13th Part VII: The New Blood, Halloween 4: The Return of Michael Myers, Lady in White, Midnight Run, Mystic Pizza, Phantasm II, Rain Man, Rambo III, School Daze, Talk Radio, The Last Temptation of Christ, They Live, Young Guns, Black Rain, Born on the Fourth of July, Do the Right Thing, Friday the 13th Part VIII: Jason Takes Manhattan, Glory, Glory, Major League, Pet Sematary, Road House, Roger &amp; Me, Sea of Love, Sex, Lies, and Videotape, Tango &amp; Cash, The Blood of Heroes, The Toxic Avenger Part II, Warlock, When Harry Met Sally..., Child&#x27;s Play 2, Die Hard 2, Flatliners, Goodfellas, Midnight Cabaret, Mo&#x27; Better Blues, Predator 2, Pretty Woman, The Adventures of Ford Fairlane, The Godfather: Part III, Total Recall, Total Recall, Two Evil Eyes, Boyz n the Hood, Cape Fear, Double Impact, Freddy&#x27;s Dead: The Final Nightmare, Harley Davidson and the Marlboro Man, House Party 2, Hudson Hawk, JFK, Johnny Suede, My Own Private Idaho, Showdown in Little Tokyo, Slacker, Stone Cold, Straight Out of Brooklyn, Terminator 2: Judgment Day, The Doors, The Fisher King, The Prince of Tides, The Silence of the Lambs, A Few Good Men, Alien 3, Army of Darkness, Boomerang, Bram Stoker&#x27;s Dracula, El Mariachi, Fortress, Glengarry Glen Ross, Hoffa, Lethal Weapon 3, Light Sleeper, My Cousin Vinny, Patriot Games, Raising Cain, Reservoir Dogs, Split Second, The Bodyguard, The Crying Game, The Last of the Mohicans, The Lawnmower Man, Unforgiven, Alive, Blood In, Blood Out, Cliffhanger, Dazed and Confused, Excessive Force, Jason Goes to Hell: The Final Friday, Killing Zoe, Les visiteurs, Menace II Society, Nowhere to Run, Poetic Justice, Return of the Living Dead III, Romeo Is Bleeding, Ruby in Paradise, Schindler&#x27;s List, Sugar Hill, The Firm, The Piano, Tombstone, True Romance, Warlock: The Armageddon, What&#x27;s Love Got to Do with It, A Low Down Dirty Shame, Beverly Hills Cop III, Bullets Over Broadway, Clerks, Disclosure, Ed Wood, Exotica, Four Weddings and a Funeral, Heavenly Creatures, Interview with the Vampire: The Vampire Chronicles, Legends of the Fall, Men of War, New Nightmare, On Deadly Ground, Pulp Fiction, Rapa Nui, Serial Mom, Speed, The Crow, The Inkwell, The Legend of Drunken Master, The Shawshank Redemption, The Specialist, There Goes My Baby, Timecop, True Lies, Wolf, Assassins, Bad Boys, Before Sunrise, Braveheart, Casino, Copycat, Crimson Tide, Dead Man Walking, Desperado, Die Hard with a Vengeance, Four Rooms, Friday, Get Shorty, Halloween: The Curse of Michael Myers, Jade, Kiss of Death, Leaving Las Vegas, Mallrats, Money Train, Nixon, Outbreak, Richard III, Rob Roy, Rumble in the Bronx, Se7en, Species, Tales from the Crypt: Demon Knight, Tales from the Hood, Tank Girl, The Brothers McMullen, The Horseman on the Roof, The Incredibly True Adventure of Two Girls in Love, The Jerky Boys, The Perez Family, The Prophecy, The Quick and the Dead, The Scarlet Letter, The Usual Suspects, Things to Do in Denver When You&#x27;re Dead, To Die For, Under Siege 2: Dark Territory, Vampire in Brooklyn, Virtuosity, Welcome to the Dollhouse, A Thin Line Between Love and Hate, A Time to Kill, Albino Alligator, Basquiat, Blood and Wine, Bottle Rocket, Bound, Broken Arrow, City Hall, Courage Under Fire, Eraser, Escape from L.A., Everyone Says I Love You, Executive Decision, Extreme Measures, Eye for an Eye, Faithful, Fled, Flirting with Disaster, Freeway, From Dusk Till Dawn, Get on the Bus, Girl 6, Jerry Maguire, Kama Sutra: A Tale of Love, Kansas City, Lone Star, Love and Other Catastrophes, Mary Reilly, Maximum Risk, Michael Collins, Ransom, Scream, Set It Off, She&#x27;s the One, Silent Trigger, Sleepers, Sling Blade, Striptease, Swingers, The Craft, The English Patient, The Fan, The Funeral, The Ghost and the Darkness, The Glimmer Man, The Juror, The Last Big Thing, The Long Kiss Goodnight, The Rock, Thinner, Tin Cup, Trainspotting, Trees Lounge, Waiting for Guffman, Walking and Talking, When the Cat&#x27;s Away, 24 7: Twenty Four Seven, 8 Heads in a Duffel Bag, Absolute Power, Air Force One, Alien: Resurrection, Amistad, An Alan Smithee Film: Burn Hollywood Burn, Boogie Nights, Breakdown, Character, Chasing Amy, Con Air, Conspiracy Theory, Cop Land, Critical Care, Cube, Deconstructing Harry, Donnie Brasco, Dream with the Fishes, Eve&#x27;s Bayou, Event Horizon, Face/Off, First Love, Last Rites, G.I. Jane, Good Will Hunting, Grosse Pointe Blank, Hav Plenty, How to Be a Player, Hurricane Streets, I Know What You Did Last Summer, I Love You, Don&#x27;t Touch Me!, I Married a Strange Person!, In the Company of Men, Jackie Brown, Kiss the Girls, L.A. Confidential, Love Jones, Midnight in the Garden of Good and Evil, Money Talks, Nothing to Lose, Oscar and Lucinda, Scream 2, Shadow Conspiracy, Smilla&#x27;s Sense of Snow, Snow White: A Tale of Terror, Soul Food, Sparkler, Spawn, Starship Troopers, Switchback, The Devil&#x27;s Advocate, The Devil&#x27;s Own, The Edge, The Full Monty, The Full Monty, The Game, The Ice Storm, The Jackal, The Last Time I Committed Suicide, The Peacemaker, The Postman, The Relic, The Sweet Hereafter, Turbulence, Two Girls and a Guy, Ulee&#x27;s Gold, Wag the Dog, 20 Dates, 54, A Simple Plan, American History X, Among Giants, Beloved, Blade, Bride of Chucky, Broken Vessels, Buffalo &#x27;66, Bulworth, Celebrity, Central Station, Clay Pigeons, Dark City, Dead Man on Campus, Deep Rising, Desert Blue, Disturbing Behavior, Elizabeth, Enemy of the State, Fear and Loathing in Las Vegas, Gods and Monsters, Half Baked, Hard Rain, He Got Game, How Stella Got Her Groove Back, I Got the Hook Up, I Still Know What You Did Last Summer, Illuminata, Knock Off, La otra conquista, Lethal Weapon 4, Little Voice, Living Out Loud, Lock, Stock and Two Smoking Barrels, Mercury Rising, Mercury Rising, Next Stop Wonderland, One True Thing, Out of Sight, Pi, Primary Colors, Ronin, Rounders, Run Lola Run, Rushmore, Safe Men, Saving Private Ryan, Shakespeare in Love, Slam, Sliding Doors, Slums of Beverly Hills, Snake Eyes, Soldier, Stiff Upper Lips, Taxman, The Big Hit, The Big Lebowski, The Celebration, The Faculty, The Land Girls, The Negotiator, The Object of My Affection, The Players Club, The Red Violin, The Replacement Killers, The Siege, The Thin Red Line, The Velocity of Gary, There&#x27;s Something About Mary, Urban Legend, Vampires, Velvet Goldmine, Very Bad Things, Wild Things, Woo, Zero Effect, 200 Cigarettes, 8MM, A Room for Romeo Brass, A Walk on the Moon, American Beauty, American Pie, Analyze This, Angela&#x27;s Ashes, Any Given Sunday, Arlington Road, Being John Malkovich, Beyond the Mat, Boys Don&#x27;t Cry, Breakfast of Champions, Bringing Out the Dead, But I&#x27;m a Cheerleader, Chill Factor, Cradle Will Rock, Cruel Intentions, Deep Blue Sea, Deterrence, Detroit Rock City, Deuce Bigalow: Male Gigolo, Dogma, Double Jeopardy, Dreaming of Joseph Lees, East Is East, Election, End of Days, eXistenZ, Eye of the Beholder, Eyes Wide Shut, Fight Club, Flawless, Foolish, Ghost Dog: The Way of the Samurai, Girl, Interrupted, Go, House on Haunted Hill, Human Traffic, Idle Hands, In Dreams, In Too Deep, Instinct, Jawbreaker, Jesus&#x27; Son, Just Looking, Lake Placid, Light It Up, Limbo, Love Stinks, Magnolia, Man on the Moon, Mumford, Mystery, Alaska, Office Space, One Man&#x27;s Hero, Outside Providence, Payback, Play It to the Bone, Pushing Tin, Random Hearts, Ravenous, Ride with the Devil, Smiling Fish &amp; Goat on Fire, South Park: Bigger Longer &amp; Uncut, Speedway Junky, Stigmata, Stir of Echoes, Sugar Town, Summer of Sam, The 13th Warrior, The Astronaut&#x27;s Wife, The Astronaut&#x27;s Wife, The Best Man, The Big Tease, The Blair Witch Project, The Bone Collector, The Boondock Saints, The Corruptor, The End of the Affair, The General&#x27;s Daughter, The Green Mile, The Hurricane, The Insider, The Limey, The Loss of Sexual Innocence, The Matrix, The Messenger: The Story of Joan of Arc, The Ninth Gate, The Rage: Carrie 2, The Story of Us, The Talented Mr. Ripley, The Thirteenth Floor, The Thomas Crown Affair, The Virgin Suicides, The Wood, Three Kings, Topsy-Turvy, Trippin&#x27;, Twin Falls Idaho, Universal Soldier: The Return, Varsity Blues, 3 Strikes, Almost Famous, American Psycho, Amores Perros, An Everlasting Piece, Anatomy, Bamboozled, Billy Elliot, Bless the Child, Boiler Room, Book of Shadows: Blair Witch 2, Brother, Cecil B. DeMented, Chuck &amp; Buck, Dancer in the Dark, Dinner Rush, Dracula 2000, Duets, Erin Brockovich, Everything Put Together, Final Destination, Get Carter, Gladiator, Gossip, Groove, Gun Shy, High Fidelity, Highlander: Endgame, Hollow Man, Isn&#x27;t She Great, Lost Souls, Lucky Numbers, Luminarias, Me, Myself &amp; Irene, Memento, Men of Honor, Next Friday, Nine Queens, Nurse Betty, Pitch Black, Pollock, Proof of Life, Quills, Reindeer Games, Requiem for a Dream, Road Trip, Romeo Must Die, Scream 3, Sexy Beast, Shadow of the Vampire, Shaft, Snatch, Snatch, The Art of War, The Beach, The Broken Hearts Club: A Romantic Comedy, The Cell, The Claim, The Claim, The Contender, The Ladies Man, The Original Kings of Comedy, The Patriot, The Specials, The Watcher, The Way of the Gun, The Whole Nine Yards, The Widow of Saint-Pierre, The Yards, The Young Unknowns, Traffic, Urban Legends: Final Cut, Urbania, What Planet Are You From?, Whipped, Woman on Top, Wonder Boys, You Can Count on Me, 15 Minutes, 3000 Miles to Graceland, Ali, Along Came a Spider, AmÃ©lie, American Pie 2, Angel Eyes, Baby Boy, Birthday Girl, Black Hawk Down, Blow, Bridget Jones&#x27;s Diary, Buffalo Soldiers, Bully, Captain Corelli&#x27;s Mandolin, Don&#x27;t Say a Word, Donnie Darko, Down and Out with the Dolls, Elling, Enemy at the Gates, Exit Wounds, Formula 51, Frailty, Freddy Got Fingered, From Hell, From Hell, Ghost World, Ghosts of Mars, Gosford Park, Harvard Man, Hedwig and the Angry Inch, High Heels and Low Lifes, How High, Impostor, In the Bedroom, Iris, Jason X, Jay and Silent Bob Strike Back, Jeepers Creepers, Joy Ride, Kiss of the Dragon, Kissing Jessica Stein, Knockaround Guys, Last Orders, Life as a House, Lovely &amp; Amazing, Made, Mean Machine, Monsoon Wedding, Monster&#x27;s Ball, Mulholland Drive, Never Again, Not Another Teen Movie, Novocaine, Nowhere in Africa, O, O, Original Sin, Rock Star, Say It Isn&#x27;t So, Scary Movie 2, Session 9, Spy Game, Super Troopers, Swordfish, The Believer, The Brothers, The Business of Strangers, The Caveman&#x27;s Valentine, The Forsaken, The Jimmy Show, The Last Castle, The Legend of Suriyothai, The Mexican, The Pledge, The Royal Tenenbaums, The Score, The Shipping News, The Tailor of Panama, The Wash, Thir13en Ghosts, Thirteen Conversations About One Thing, Tomcats, Town &amp; Country, Training Day, Two Can Play That Game, Valentine, Vanilla Sky, Wasabi, Y Tu MamÃ¡ TambiÃ©n, 25th Hour, 28 Days Later..., 40 Days and 40 Nights, 8 Mile, 8 Women, About Schmidt, Adaptation., All About the Benjamins, All or Nothing, Analyze That, Ararat, Auto Focus, Ballistic: Ecks vs. Sever, Better Luck Tomorrow, Blade II, Blood Work, Bloody Sunday, Blue Car, Boat Trip, Bowling for Columbine, Bubba Ho-Tep, Changing Lanes, City by the Sea, City of Ghosts, City of God, Civil Brand, Collateral Damage, Confessions of a Dangerous Mind, Cypher, Dark Blue, Death to Smoochy, Deuces Wild, Dirty Pretty Things, El crimen del padre Amaro, Equilibrium, Eye See You, Fabled, Feardotcom, Femme Fatale, Frida, Friday After Next, Full Frontal, Gangs of New York, Gerry, Ghost Ship, Halloween: Resurrection, Hart&#x27;s War, Highway, Igby Goes Down, Insomnia, Interview with the Assassin, Jackass: The Movie, L&#x27;auberge espagnole, Lilya 4-Ever, Martin Lawrence Live: Runteldat, May, Men with Brooms, Mondays in the Sun, Morvern Callar, Murder by Numbers, Murder by Numbers, Narc, One Hour Photo, Panic Room, People I Know, Phone Booth, Poolhall Junkies, Punch-Drunk Love, Queen of the Damned, Raising Victor Vargas, Red Dragon, Resident Evil, Ripley&#x27;s Game, Road to Perdition, Rollerball, Secretary, Slackers, Sorority Boys, Spider, Spun, Swept Away, The Banger Sisters, The Dangerous Lives of Altar Boys, The Good Girl, The Good Thief, The Guru, The Heart of Me, The Pianist, The Quiet American, The Rules of Attraction, The Salton Sea, The Slaughter Rule, The Sweetest Thing, Undisputed, Unfaithful, Van Wilder: Party Liaison, We Were Soldiers, Welcome to Collinwood, Windtalkers, 11:14, 21 Grams, A Man Apart, All the Real Girls, American Splendor, American Wedding, Anything Else, Bad Boys II, Bad Santa, Basic, Beyond Borders, Code 46, Cold Mountain, Confidence, Cradle 2 the Grave, Dreamcatcher, DysFunktional Family, Final Destination 2, Freddy vs. Jason, Gigli, Good Bye Lenin!, Gothika, House of 1000 Corpses, House of Sand and Fog, I Love Your Work, Identity, In the Cut, Jeepers Creepers II, Kill Bill: Vol. 1, Latter Days, Lost in Translation, Love Actually, Malevolence, Mambo Italiano, Marci X, Monster, My Life Without Me, Mystic River, Nothing, Old School, Oldboy, Once Upon a Time in Mexico, Open Range, Open Water, Out of Time, Owning Mahowny, Party Monster, Remember Me, My Love, Shade, Swimming Pool, Tears of the Sun, Terminator 3: Rise of the Machines, The Barbarian Invasions, The Cooler, The Flower of Evil, The Hebrew Hammer, The Hunted, The Last Samurai, The Life of David Gale, The Matrix Reloaded, The Matrix Revolutions, The Mudge Boy, The Order, The Real Cancun, The Singing Detective, The Statement, The Station Agent, Thirteen, Touching the Void, Tupac: Resurrection, Underworld, Veronica Guerin, Wonderland, Wrong Turn, 2046, A Home at the End of the World, A Very Long Engagement, Alexander, Alfie, Before Sunset, Being Julia, Birth, Blade: Trinity, Bridget Jones: The Edge of Reason, Clean, Closer, Club Dread, Collateral, Crash, Crash, Dawn of the Dead, Dawn of the Dead, Decoys, District B13, Downfall, Eternal Sunshine of the Spotless Mind, Eulogy, EuroTrip, Exorcist: The Beginning, Fahrenheit 9/11, Fascination, Fighting Tommy Riley, Freeze Frame, Garden State, Harold &amp; Kumar Go to White Castle, I Heart Huckabees, Imaginary Heroes, It&#x27;s All Gone Pete Tong, Kill Bill: Vol. 2, Kinsey, Kung Fu Hustle, Layer Cake, Man on Fire, Maria Full of Grace, Mean Creek, Mindhunters, My Summer of Love, Night Watch, November, On the Outs, Resident Evil: Apocalypse, Saving Face, Saw, Seed of Chucky, Shaun of the Dead, Show Me, Sideways, Soul Plane, Summer Storm, Suspect Zero, Tae Guk Gi: The Brotherhood of War, Team America: World Police, The Butterfly Effect, The Girl Next Door, The Holy Girl, The I Inside, The Ladykillers, The Last Shot, The Libertine, The Life Aquatic with Steve Zissou, The Machinist, The Manchurian Candidate, The Merchant of Venice, The Passion of the Christ, The Punisher, Troy, Vera Drake, Woman Thou Art Loosed, Yes, A History of Violence, Alone in the Dark, Assault on Precinct 13, BloodRayne, Boynton Beach Club, Brokeback Mountain, Capote, Conversations with Other Women, Dave Chappelle&#x27;s Block Party, Derailed, Deuce Bigalow: European Gigolo, Domino, Doom, Down in the Valley, Edmond, Fateless, Feast, Forty Shades of Blue, Four Brothers, Get Rich or Die Tryin&#x27;, Hard Candy, Harsh Times, Hide and Seek, Hostage, Hostel, House of Sand, House of Wax, House of Wax, Hustle &amp; Flow, Imagine Me &amp; You, Jarhead, Kingdom of Heaven, Kiss Kiss Bang Bang, Lady Vengeance, Land of the Dead, London, Lonesome Jim, Lord of War, Match Point, Me and You and Everyone We Know, Mrs Henderson Presents, Munich, Murderball, Mutual Appreciation, My Big Fat Independent Movie, Nomad: The Warrior, North Country, Romance &amp; Cigarettes, Saw II, Shopgirl, Sin City, Slow Burn, Syriana, Syriana, Thank You for Smoking, The 40-Year-Old Virgin, The Amityville Horror, The Ballad of Jack and Rose, The Chumscrubber, The Constant Gardener, The Dark Hours, The Descent, The Devil&#x27;s Rejects, The Great Raid, The Helix... Loaded, The Jacket, The Lost City, The Matador, The Proposition, The Protector, The Puffy Chair, The Quiet, The Squid and the Whale, The Upside of Anger, The Weather Man, Three Burials, Thumbsucker, Transamerica, Tristram Shandy: A Cock and Bull Story, Trust the Man, Tsotsi, Unleashed, V for Vendetta, Wah-Wah, Waiting..., Where the Truth Lies, Winter Passing, 10th &amp; Wolf, 300, A Scanner Darkly, All the Boys Love Mandy Lane, Apocalypto, Babel, Basic Instinct 2, Beer League, Beerfest, Black Book, Black Christmas, Black Snake Moan, Blood Diamond, Bobby, Bon Cop Bad Cop, Borat: Cultural Learnings of America for Make Benefit Glorious Nation of Kazakhstan, Children of Men, Clerks II, Come Early Morning, Crank, Curse of the Golden Flower, Exiled, Factory Girl, Farce of the Penguins, Fido, Final Destination 3, Find Me Guilty, Flags of Our Fathers, Friends with Money, Fur: An Imaginary Portrait of Diane Arbus, Grandma&#x27;s Boy, Half Nelson, Hatchet, I Served the King of England, I Want Someone to Eat Cheese With, Idiocracy, Idlewild, In Her Line of Fire, Infamous, Inside Man, Ira &amp; Abby, Jackass Number Two, Jimmy and Judy, Jindabyne, Journey from the Fall, Kabhi Alvida Naa Kehna, Let&#x27;s Go to Prison, Letters from Iwo Jima, Little Children, Little Miss Sunshine, London to Brighton, Lucky Number Slevin, Lucky Number Slevin, Notes on a Scandal, Pan&#x27;s Labyrinth, Paris, je t&#x27;aime, Perfume: The Story of a Murderer, QuinceaÃ±era, Renaissance, Running Scared, Running with Scissors, Saw III, Severance, Sherrybaby, Silent Hill, Slither, Smokin&#x27; Aces, Snakes on a Plane, Snakes on a Plane, Southland Tales, Special, The Black Dahlia, The Dead Girl, The Departed, The Good German, The Hills Have Eyes, The History Boys, The Hoax, The Host, The Last King of Scotland, The Lives of Others, The Night Listener, The Oh in Ohio, The Texas Chainsaw Massacre: The Beginning, Underworld: Evolution, United 93, Volver, Wristcutters: A Love Story, [Rec], 28 Weeks Later, 3:10 to Yuma, 30 Days of Night, 88 Minutes, A Mighty Heart, Aliens vs. Predator: Requiem, All Hat, American Gangster, Aqua Teen Hunger Force Colon Movie Film for Theaters, Atonement, Awake, Brooklyn Rules, Charlie Bartlett, Charlie Wilson&#x27;s War, Closure, Control, Death at a Funeral, Death at a Funeral, Death Sentence, Diary of the Dead, Eastern Promises, Elite Squad, Funny Games, Georgia Rule, Good Luck Chuck, Grindhouse, Hannibal Rising, Hitman, Hostel: Part II, Hot Fuzz, I Think I Love My Wife, I&#x27;m Not There., In the Valley of Elah, Into the Wild, Jack Brooks: Monster Slayer, Kiss the Bride, Knocked Up, Lions for Lambs, Love in the Time of Cholera, Michael Clayton, Mongol: The Rise of Genghis Khan, My Name Is Bruce, No Country for Old Men, Once, Paranormal Activity, Partition, Redacted, Reign Over Me, Rendition, Reno 911!: Miami, Resident Evil: Extinction, Rockaway, Saw IV, September Dawn, Shattered, Shooter, Snow Angels, Sublime, Sunshine, Superbad, Taxi to the Dark Side, Teeth, The Assassination of Jesse James by the Coward Robert Ford, The Brothers Solomon, The Color of Freedom, The Death and Life of Bobby Z, The Good Night, The Hammer, The Hills Have Eyes II, The Hunting Party, The Kingdom, The Legend of God&#x27;s Gun, The Life Before Her Eyes, The Mist, The Number 23, The Orphanage, The Reaping, The Savages, The Ten, The Warlords, There Will Be Blood, Things We Lost in the Fire, Timber Falls, Timecrimes, Trade, Virgin Territory, Walk Hard: The Dewey Cox Story, War, We Own the Night, You Kill Me, Zodiac, Adam Resurrected, Appaloosa, Baghead, Bangkok Dangerous, Bathory: Countess of Blood, Blindness, Body of Lies, Bronson, Burn After Reading, Cadillac Records, Changeling, Childless, Choke, College, Death Race, Donkey Punch, Doomsday, Eden Lake, Extreme Movie, Fifty Dead Men Walking, Forgetting Sarah Marshall, Frost/Nixon, Frozen River, Gangster&#x27;s Paradise: Jerusalema, Good, Good Dick, Gran Torino, Hamlet 2, Harold &amp; Kumar Escape from Guantanamo Bay, How to Lose Friends &amp; Alienate People, Impact Point, In Bruges, Lake Mungo, Milk, Miracle at St. Anna, Mirrors, My Best Friend&#x27;s Girl, No Man&#x27;s Land: The Rise of Reeker, Ong-bak 2, Passchendaele, Pathology, Pineapple Express, Pride and Glory, Punisher: War Zone, Quarantine, Rachel Getting Married, Red Cliff, Redbelt, Religulous, Repo! The Genetic Opera, Revolutionary Road, Righteous Kill, RocknRolla, Role Models, Saw V, Semi-Pro, Sex Drive, Slumdog Millionaire, Soul Men, Standard Operating Procedure, Step Brothers, Stop-Loss, Strange Wilderness, Street Kings, Sunshine Cleaning, Surfer, Dude, Synecdoche, New York, The Baader Meinhof Complex, The Bank Job, The Children of Huang Shi, The Good, the Bad, the Weird, The Happening, The Hurt Locker, The Informers, The Lucky Ones, The Midnight Meat Train, The Oxford Murders, The Poker House, The Reader, The Ruins, The Wackness, The Wrestler, Three Kingdoms: Resurrection of the Dragon, Train, Transsiberian, Tropic Thunder, Trucker, Two Lovers, Untraceable, Waltz with Bashir, Wanted, War, Inc., Wendy and Lucy, What Just Happened, Winter in Wartime, Zack and Miri Make a Porno, [Rec] 2, A Perfect Getaway, A Serious Man, A Single Man, A Woman, a Gun and a Noodle Shop, A Woman, a Gun and a Noodle Shop, Adventureland, After.Life, Agora, Away We Go, Bad Lieutenant: Port of Call New Orleans, Bled, Brooklyn&#x27;s Finest, Brothers, Brothers, BrÃ¼no, Capitalism: A Love Story, Case 39, Chain Letter, ChÃ©ri, Chicago Overcoat, Chloe, City of Life and Death, Crank: High Voltage, Crazy Heart, Daybreakers, Dead Like Me: Life After Death, Defendor, District 9, Don McKay, Down for Life, Down Terrace, Extract, Forget Me Not, Frat Party, Funny People, Gamer, Halloween II, Halloween II, Harry Brown, I Am Love, I Hope They Serve Beer in Hell, I Love You Phillip Morris, I Love You, Man, Inglourious Basterds, It&#x27;s Complicated, Jennifer&#x27;s Body, Law Abiding Citizen, Life During Wartime, Micmacs, Miss March, Moon, Mother and Child, My Bloody Valentine, Next Day Air, Ninja Assassin, Nowhere Boy, Observe and Report, Orphan, Pandorum, Perrier&#x27;s Bounty, Pirate Radio, Precious, Precious, Public Enemies, Rampage, Saint John of Las Vegas, Saw VI, Shinjuku Incident, Solitary Man, Sorority Row, Splice, Stan Helsing, Survival of the Dead, Taking Woodstock, Tanner Hall, The Boondock Saints II: All Saints Day, The Cry of the Owl, The Damned United, The Devil&#x27;s Tomb, The Eclipse, The Final Destination, The Good Guy, The Good Heart, The Goods: Live Hard, Sell Hard, The Greatest, The Hangover, The House of the Devil, The Informant!, The International, The Janky Promoters, The Joneses, The Last House on the Left, The Last House on the Left, The Last Station, The Loved Ones, The Men Who Stare at Goats, The Messenger, The Road, The Secret in Their Eyes, The Taking of Pelham 1 2 3, The Ugly Truth, The White Ribbon, Tidal Wave, Triangle, Underworld: Rise of the Lycans, Up in the Air, Vampire Killers, Veronika Decides to Die, Watchmen, Whiteout, World&#x27;s Greatest Dad, Youth in Revolt, ZMD: Zombies of Mass Destruction, Zombieland, 127 Hours, 3 Backyards, 8: The Mormon Proposition, All Good Things, Amigo, Anderson&#x27;s Cross, Barney&#x27;s Version, Barry Munday, Beginners, Beneath Hill 60, Beyond the Black Rainbow, Biutiful, Black Swan, Blue Valentine, Brighton Rock, Buried, Ca$h, Casino Jack, Centurion, Cop Out, Cyrus, Death Calls, Don&#x27;t Be Afraid of the Dark, Due Date, Easy Money, Edge of Darkness, Everything Must Go, Faster, For Colored Girls, Four Lions, From Paris with Love, Get Him to the Greek, Going the Distance, Green Zone, Hesher, Hot Tub Time Machine, I Spit on Your Grave, Incendies, Jackass 3D, Kick-Ass, Legion, Let Me In, Love &amp; Other Drugs, Love Ranch, MacGruber, Machete, Made in Dagenham, Monsters, My Soul to Take, My Soul to Take, N-Secure, Never Let Me Go, Nine Dead, Paranormal Activity 2, Piranha 3D, Please Give, Predators, Reign of Assassins, Repo Men, Resident Evil: Afterlife, Rubber, Saw 3D: The Final Chapter, Sex and the City 2, She&#x27;s Out of My League, Shutter Island, Somewhere, Stake Land, Stone, Submarine, Super, The 41-Year-Old Virgin Who Knocked Up Sarah Marshall and Felt Superbad About It, The American, The Book of Eli, The Crazies, The Dead Undead, The Debt, The Expendables, The Extra Man, The Fighter, The Kids Are All Right, The Killer Inside Me, The King&#x27;s Speech, The Names of Love, The Perfect Host, The Reef, The Runaways, The Town, The Virginity Hit, The Warrior&#x27;s Way, The Wolfman, Tracker, Trust, Tucker and Dale vs Evil, Ultramarines: A Warhammer 40,000 Movie, Welcome to the Rileys, Winter&#x27;s Bone, You Will Meet a Tall Dark Stranger, 1911, 30 Minutes or Less, 5 Days of War, 50/50, A Dangerous Method, A Lonely Place to Die, A Very Harold &amp; Kumar 3D Christmas, Absentia, Albert Nobbs, Another Happy Day, Attack the Block, Bad Teacher, Below Zero, Blackthorn, Bridesmaids, Bucky Larson: Born to Be a Star, Carnage, Cedar Rapids, Circumstance, Coriolanus, Detention, Drive, Drive Angry, Dum Maaro Dum, Enter Nowhere, Final Destination 5, Fort McCoy, Friends with Benefits, Fright Night, Hall Pass, Haywire, Headhunters, High Road, Higher Ground, Horrible Bosses, Immortals, In the Land of Blood and Honey, Ironclad, J. Edgar, Jeff, Who Lives at Home, Kevin Hart: Laugh at My Pain, Killer Elite, Killer Joe, L!fe Happens, Machine Gun Preacher, Margaret, Margin Call, Martha Marcy May Marlene, Melancholia, My Week with Marilyn, Never Back Down 2: The Beatdown, No Strings Attached, Our Idiot Brother, Paranormal Activity 3, Paul, Red State, Salvation Boulevard, Sanctum, Scream 4, Silent House, Some Guy Who Kills People, Sound of My Voice, Straw Dogs, Take Me Home Tonight, Take Shelter, The Awakening, The Change-Up, The Descendants, The Devil&#x27;s Double, The Divide, The Flowers of War, The FP, The Girl with the Dragon Tattoo, The Grey, The Guard, The Hangover Part II, The Hit List, The Ides of March, The Innkeepers, The Lincoln Lawyer, The Mechanic, The Raid: Redemption, The Sitter, The Son of No One, Tinker Tailor Soldier Spy, Twixt, We Need to Talk About Kevin, What&#x27;s Your Number?, Winnie Mandela, Without Men, Young Adult, Your Highness, Your Sister&#x27;s Sister, 21 Jump Street, Abraham Lincoln: Vampire Hunter, Act of Valor, Alien Uprising, American Reunion, Anna Karenina, Arbitrage, Argo, Bachelorette, Bait, Black Rock, Bullet to the Head, Casa de mi Padre, Celeste &amp; Jesse Forever, Chernobyl Diaries, Cloud Atlas, Compliance, Contraband, Crowsnest, Deadfall, Django Unchained, Dredd, Dredd, End of Watch, Filly Brown, Flight, For a Good Time, Call..., For Greater Glory: The True Story of Cristiada, Frances Ha, Freaky Deaky, Girls Gone Dead, Hit and Run, Inescapable, Killing Them Softly, Looper, Magic Mike, Middle of Nowhere, No Vacancy, On the Road, Paranormal Activity 4, Project X, Prometheus, Promised Land, Red Lights, Resident Evil: Retribution, Safe, Safe House, Safety Not Guaranteed, Savages, Seeking a Friend for the End of the World, Seven Psychopaths, Silent Hill: Revelation 3D, Silver Linings Playbook, Sinister, Small Apartments, Spring Breakers, Stitches, Stolen, Ted, That&#x27;s My Boy, The Brass Teapot, The Cabin in the Woods, The Campaign, The Collection, The Devil Inside, The Dictator, The Expendables 2, The Five-Year Engagement, The Hunt, The Iceman, The King of Najayo, The Lords of Salem, The Man with the Iron Fists, The Master, The Place Beyond the Pines, The Raven, The Sessions, The Sweeney, The Watch, The Watch, This Is 40, Tim and Eric&#x27;s Billion Dollar Movie, To Rome with Love, Underworld: Awakening, Wanderlust, Zero Dark Thirty, 12 Years a Slave, 1982, 2 Guns, 21 &amp; Over, 30 Nights of Paranormal Activity with the Devil Inside the Girl with the Dragon Tattoo, A Good Day to Die Hard, A Haunted House, About Time, Adore, All Is Bright, American Hustle, August: Osage County, Bad Grandpa, Bad Words, Banshee Chapter, Before Midnight, Begin Again, Blood Ties, Blue Ruin, Broken City, Carrie, Carrie, Cinco de Mayo, La Batalla, Dallas Buyers Club, Dead Man Down, Dom Hemingway, Don Jon, Drinking Buddies, Elysium, Escape Plan, Evil Dead, Fruitvale Station, Gangster Squad, Green Street 3: Never Back Down, Hansel &amp; Gretel: Witch Hunters, Her, Homefront, Identity Thief, Inside Llewyn Davis, Joe, Kevin Hart: Let Me Explain, Kick-Ass 2, Lone Survivor, Machete Kills, Metallica Through the Never, Movie 43, Nebraska, Nurse 3D, Oculus, Olympus Has Fallen, Once Upon a Time in Queens, Only God Forgives, Out of the Furnace, Pain &amp; Gain, Palo Alto, Parker, Plush, Prisoners, Riddick, Runner Runner, Rush, Side Effects, Side Effects, Snowpiercer, Stoker, Straight A&#x27;s, Texas Chainsaw 3D, The Best Man Holiday, The Best Offer, The Big Wedding, The Call, The Canyons, The Conjuring, The Counselor, The Fifth Estate, The Frozen Ground, The Green Inferno, The Haunting in Connecticut 2: Ghosts of Georgia, The Heat, The Immigrant, The Last Days on Mars, The Last Stand, The Purge, The Railway Man, The Spectacular Now, The To Do List, The Vatican Exorcisms, The Wolf of Wall Street, The World&#x27;s End, This Is Martin Bonner, This Is the End, Trance, Trance, Under the Skin, We&#x27;re the Millers, Zulu, 22 Jump Street, 300: Rise of an Empire, A Haunted House 2, A Million Ways to Die in the West, A Most Violent Year, A Most Wanted Man, A Walk Among the Tombstones, About Last Night, Addicted, Aloft, American Heist, American Sniper, An American in Hollywood, Annabelle, As Above, So Below, Automata, Before I Go to Sleep, Birdman or (The Unexpected Virtue of Ignorance), Born of War, Boyhood, Deliver Us from Evil, Devil&#x27;s Due, Draft Day, Dying of the Light, Escobar: Paradise Lost, Falcon Rising, Freedom, Fury, Gone Girl, Good Kill, Happy Christmas, Horrible Bosses 2, House at the End of the Drive, I Origins, In the Name of the King: The Last Job, Inherent Vice, It Follows, Jersey Boys, Kill the Messenger, Let&#x27;s Be Cops, Locker 13, Lords of London, Lucy, Mr. Turner, Neighbors, Nightcrawler, Obvious Child, Out of the Dark, Paranormal Activity: The Marked Ones, Plastic, Rosewater, Rudderless, Sabotage, Sabotage, Sex Tape, Sin City: A Dame to Kill For, Skin Trade, Something Wicked, Swelter, Tammy, That Awkward Moment, The Blue Room, The Calling, The Calling, The Equalizer, The Gambler, The Gambler, The Grand Budapest Hotel, The Homesman, The Interview, The Judge, The November Man, The Prince, The Purge: Anarchy, The Skeleton Twins, The Sound and the Shadow, The Water Diviner, They Came Together, This Is Where I Leave You, Top Five, Trash, Tusk, Unfriended, Unsullied, While We&#x27;re Young, Whiplash, Wild, Wish I Was Here, Wolves, 10 Days in a Madhouse, Anomalisa, Area 51, AWOL-72, Black Mass, Blackhat, Broken Horses, Brotherly Love, Burnt, By the Sea, Chain of Command, Chappie, Child 44, Creative Control, Danny Collins, Demonic, Diamond Ruff, Dope, Dragon Blade, Eden, Ex Machina, Exeter, Fear Clinic, Fifty Shades of Grey, Focus, Forsaken, Forsaken, Get Hard, Green Room, Heist, Heist, Hot Tub Time Machine 2, Into the Grizzly Maze, Legend, Mad Max: Fury Road, Magic Mike XXL, Mi America, Mortdecai, No Escape, Our Brand Is Crisis, Pound of Flesh, Re-Kill, Regression, Room, Run All Night, Sicario, Sinister 2, Slow West, Southpaw, Spotlight, Steve Jobs, Stonewall, Straight Outta Compton, Strangerland, Subconscious, Ted 2, The Big Short, The Boy Next Door, The Diary of a Teenage Girl, The Gallows, The Gift, The Gift, The Gunman, The Hateful Eight, The Lovers, The Lovers, The Marine 4: Moving Target, The Revenant, The Rise of the Krays, The Second Mother, The Walking Deceased, The Wicked Within, The Witch, Trainwreck, Unfinished Business, Unnatural, Vacation, We Are Your Friends, Wild Card, Wind Walkers, Zipper, 13 Hours, Bad Moms, Bad Moms, Code of Honor, Compadres, Criminal, Deadpool, Dirty Grandpa, Fifty Shades of Black, Free State of Jones, Hands of Stone, How to Be Single, I Am Wrath, Indignation, Jane Got a Gun, Keanu, Kicks, London Has Fallen, Misconduct, Money Monster, Neighbors 2: Sorority Rising, Our Kind of Traitor, Sausage Party, The Birth of a Nation, The Boss, The Conjuring 2, The Infiltrator, The Neon Demon, The Perfect Match, The Purge: Election Year, The Veil, Triple 9</td>\n",
              "        </tr>\n",
              "        <tr>\n",
              "            <td>Unrated</td>\n",
              "            <td>A Farewell to Arms, 42nd Street, It Happened One Night, Spellbound, Duel in the Sun, She Wore a Yellow Ribbon, The Robe, Seven Samurai, Moby Dick, The Hustler, West Side Story, 55 Days at Peking, Tom Jones, The Train, Night of the Living Dead, Night of the Living Dead, Yours, Mine and Ours, Eraserhead, The Toxic Avenger, A Room with a View, Day of the Dead, Day of the Dead, Earth, The Love Letter, The Love Letter, George Washington, Psycho Beach Party, American Desi, Amen., High Tension, Tarnation, The Return, Dear Wendy, Guiana 1838, Live-In Maid, Short Cut to Nirvana: Kumbh Mela, What the #$*! Do We (K)now!?, 51 Birch Street, Lake of Fire, Old Joy, One to Another, Poultrygeist: Night of the Chicken Dead, Shortbus, The Bubble, This Is England, The Cottage, Dogtooth, The Exploding Girl, The Girl on the Train, The Horse Boy, 3, Womb, All Superheroes Must Die, Raymond Did It, Sholem Aleichem: Laughing in the Darkness, R100, Futuro Beach, Hidden Away, Let&#x27;s Kill Ward&#x27;s Wife, The Past is a Grotesque Animal, Tiger Orange, Bizarre</td>\n",
              "        </tr>\n",
              "        <tr>\n",
              "            <td>X</td>\n",
              "            <td>Midnight Cowboy, The Stewardesses, Beyond the Valley of the Dolls, Dressed to Kill, The Beyond, Fast Times at Ridgemont High, A Nightmare on Elm Street, A Nightmare on Elm Street, The Texas Chainsaw Massacre 2, A Nightmare on Elm Street 3: Dream Warriors, Evil Dead II, A Nightmare on Elm Street 5: The Dream Child, Halloween 5</td>\n",
              "        </tr>\n",
              "    </tbody>\n",
              "</table>"
            ]
          },
          "metadata": {},
          "execution_count": 57
        }
      ]
    },
    {
      "cell_type": "code",
      "source": [
        "%%sql PRAGMA table_info(films);"
      ],
      "metadata": {
        "colab": {
          "base_uri": "https://localhost:8080/",
          "height": 285
        },
        "id": "HdD8nkaSR3tH",
        "outputId": "ca021c6e-99f9-40b0-ecec-249bea58bb30"
      },
      "execution_count": 56,
      "outputs": [
        {
          "output_type": "stream",
          "name": "stdout",
          "text": [
            " * sqlite://\n",
            "Done.\n"
          ]
        },
        {
          "output_type": "execute_result",
          "data": {
            "text/plain": [
              "[(0, 'index', 'BIGINT', 0, None, 0),\n",
              " (1, 'id', 'BIGINT', 0, None, 0),\n",
              " (2, 'title', 'TEXT', 0, None, 0),\n",
              " (3, 'releas_date', 'FLOAT', 0, None, 0),\n",
              " (4, 'country', 'TEXT', 0, None, 0),\n",
              " (5, 'duratioon', 'FLOAT', 0, None, 0),\n",
              " (6, 'language', 'TEXT', 0, None, 0),\n",
              " (7, 'certificatipon', 'TEXT', 0, None, 0),\n",
              " (8, 'gross', 'FLOAT', 0, None, 0),\n",
              " (9, 'budget', 'FLOAT', 0, None, 0)]"
            ],
            "text/html": [
              "<table>\n",
              "    <thead>\n",
              "        <tr>\n",
              "            <th>cid</th>\n",
              "            <th>name</th>\n",
              "            <th>type</th>\n",
              "            <th>notnull</th>\n",
              "            <th>dflt_value</th>\n",
              "            <th>pk</th>\n",
              "        </tr>\n",
              "    </thead>\n",
              "    <tbody>\n",
              "        <tr>\n",
              "            <td>0</td>\n",
              "            <td>index</td>\n",
              "            <td>BIGINT</td>\n",
              "            <td>0</td>\n",
              "            <td>None</td>\n",
              "            <td>0</td>\n",
              "        </tr>\n",
              "        <tr>\n",
              "            <td>1</td>\n",
              "            <td>id</td>\n",
              "            <td>BIGINT</td>\n",
              "            <td>0</td>\n",
              "            <td>None</td>\n",
              "            <td>0</td>\n",
              "        </tr>\n",
              "        <tr>\n",
              "            <td>2</td>\n",
              "            <td>title</td>\n",
              "            <td>TEXT</td>\n",
              "            <td>0</td>\n",
              "            <td>None</td>\n",
              "            <td>0</td>\n",
              "        </tr>\n",
              "        <tr>\n",
              "            <td>3</td>\n",
              "            <td>releas_date</td>\n",
              "            <td>FLOAT</td>\n",
              "            <td>0</td>\n",
              "            <td>None</td>\n",
              "            <td>0</td>\n",
              "        </tr>\n",
              "        <tr>\n",
              "            <td>4</td>\n",
              "            <td>country</td>\n",
              "            <td>TEXT</td>\n",
              "            <td>0</td>\n",
              "            <td>None</td>\n",
              "            <td>0</td>\n",
              "        </tr>\n",
              "        <tr>\n",
              "            <td>5</td>\n",
              "            <td>duratioon</td>\n",
              "            <td>FLOAT</td>\n",
              "            <td>0</td>\n",
              "            <td>None</td>\n",
              "            <td>0</td>\n",
              "        </tr>\n",
              "        <tr>\n",
              "            <td>6</td>\n",
              "            <td>language</td>\n",
              "            <td>TEXT</td>\n",
              "            <td>0</td>\n",
              "            <td>None</td>\n",
              "            <td>0</td>\n",
              "        </tr>\n",
              "        <tr>\n",
              "            <td>7</td>\n",
              "            <td>certificatipon</td>\n",
              "            <td>TEXT</td>\n",
              "            <td>0</td>\n",
              "            <td>None</td>\n",
              "            <td>0</td>\n",
              "        </tr>\n",
              "        <tr>\n",
              "            <td>8</td>\n",
              "            <td>gross</td>\n",
              "            <td>FLOAT</td>\n",
              "            <td>0</td>\n",
              "            <td>None</td>\n",
              "            <td>0</td>\n",
              "        </tr>\n",
              "        <tr>\n",
              "            <td>9</td>\n",
              "            <td>budget</td>\n",
              "            <td>FLOAT</td>\n",
              "            <td>0</td>\n",
              "            <td>None</td>\n",
              "            <td>0</td>\n",
              "        </tr>\n",
              "    </tbody>\n",
              "</table>"
            ]
          },
          "metadata": {},
          "execution_count": 56
        }
      ]
    },
    {
      "cell_type": "code",
      "source": [
        "%%sql\n",
        "SELECT releas_date, COUNT(title) AS num_films\n",
        "FROM films\n",
        "WHERE releas_date > 2000\n",
        "GROUP BY releas_date\n",
        "HAVING COUNT(title) > 10;"
      ],
      "metadata": {
        "colab": {
          "base_uri": "https://localhost:8080/",
          "height": 412
        },
        "id": "vBwJu8ofUTMg",
        "outputId": "48a9ac86-72cb-4d24-b939-96d815888c46"
      },
      "execution_count": 64,
      "outputs": [
        {
          "output_type": "stream",
          "name": "stdout",
          "text": [
            " * sqlite://\n",
            "Done.\n"
          ]
        },
        {
          "output_type": "execute_result",
          "data": {
            "text/plain": [
              "[(2001.0, 188),\n",
              " (2002.0, 209),\n",
              " (2003.0, 169),\n",
              " (2004.0, 214),\n",
              " (2005.0, 221),\n",
              " (2006.0, 238),\n",
              " (2007.0, 203),\n",
              " (2008.0, 225),\n",
              " (2009.0, 260),\n",
              " (2010.0, 227),\n",
              " (2011.0, 224),\n",
              " (2012.0, 220),\n",
              " (2013.0, 236),\n",
              " (2014.0, 252),\n",
              " (2015.0, 226),\n",
              " (2016.0, 106)]"
            ],
            "text/html": [
              "<table>\n",
              "    <thead>\n",
              "        <tr>\n",
              "            <th>releas_date</th>\n",
              "            <th>num_films</th>\n",
              "        </tr>\n",
              "    </thead>\n",
              "    <tbody>\n",
              "        <tr>\n",
              "            <td>2001.0</td>\n",
              "            <td>188</td>\n",
              "        </tr>\n",
              "        <tr>\n",
              "            <td>2002.0</td>\n",
              "            <td>209</td>\n",
              "        </tr>\n",
              "        <tr>\n",
              "            <td>2003.0</td>\n",
              "            <td>169</td>\n",
              "        </tr>\n",
              "        <tr>\n",
              "            <td>2004.0</td>\n",
              "            <td>214</td>\n",
              "        </tr>\n",
              "        <tr>\n",
              "            <td>2005.0</td>\n",
              "            <td>221</td>\n",
              "        </tr>\n",
              "        <tr>\n",
              "            <td>2006.0</td>\n",
              "            <td>238</td>\n",
              "        </tr>\n",
              "        <tr>\n",
              "            <td>2007.0</td>\n",
              "            <td>203</td>\n",
              "        </tr>\n",
              "        <tr>\n",
              "            <td>2008.0</td>\n",
              "            <td>225</td>\n",
              "        </tr>\n",
              "        <tr>\n",
              "            <td>2009.0</td>\n",
              "            <td>260</td>\n",
              "        </tr>\n",
              "        <tr>\n",
              "            <td>2010.0</td>\n",
              "            <td>227</td>\n",
              "        </tr>\n",
              "        <tr>\n",
              "            <td>2011.0</td>\n",
              "            <td>224</td>\n",
              "        </tr>\n",
              "        <tr>\n",
              "            <td>2012.0</td>\n",
              "            <td>220</td>\n",
              "        </tr>\n",
              "        <tr>\n",
              "            <td>2013.0</td>\n",
              "            <td>236</td>\n",
              "        </tr>\n",
              "        <tr>\n",
              "            <td>2014.0</td>\n",
              "            <td>252</td>\n",
              "        </tr>\n",
              "        <tr>\n",
              "            <td>2015.0</td>\n",
              "            <td>226</td>\n",
              "        </tr>\n",
              "        <tr>\n",
              "            <td>2016.0</td>\n",
              "            <td>106</td>\n",
              "        </tr>\n",
              "    </tbody>\n",
              "</table>"
            ]
          },
          "metadata": {},
          "execution_count": 64
        }
      ]
    },
    {
      "cell_type": "code",
      "source": [],
      "metadata": {
        "id": "PLKuEBEAUtBt"
      },
      "execution_count": null,
      "outputs": []
    }
  ]
}