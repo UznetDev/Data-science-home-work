{
  "nbformat": 4,
  "nbformat_minor": 0,
  "metadata": {
    "colab": {
      "provenance": [],
      "include_colab_link": true
    },
    "kernelspec": {
      "name": "python3",
      "display_name": "Python 3"
    },
    "language_info": {
      "name": "python"
    }
  },
  "cells": [
    {
      "cell_type": "markdown",
      "metadata": {
        "id": "view-in-github",
        "colab_type": "text"
      },
      "source": [
        "<a href=\"https://colab.research.google.com/github/UznetDev/Data-science-home-work/blob/main/02_Avg%2C_2024_home_work.ipynb\" target=\"_parent\"><img src=\"https://colab.research.google.com/assets/colab-badge.svg\" alt=\"Open In Colab\"/></a>"
      ]
    },
    {
      "cell_type": "code",
      "execution_count": 1,
      "metadata": {
        "id": "7BgpMTO5akG_"
      },
      "outputs": [],
      "source": [
        "import numpy as np\n",
        "import pandas as pd\n",
        "from sklearn.datasets import fetch_california_housing\n",
        "from sklearn.linear_model import *\n",
        "from sklearn.model_selection import cross_val_score, KFold, train_test_split\n",
        "from sklearn.metrics import mean_squared_error, mean_absolute_error, r2_score, median_absolute_error\n",
        "from sklearn.preprocessing import OrdinalEncoder\n",
        "from sklearn.pipeline import Pipeline\n",
        "from sklearn.model_selection import GridSearchCV, train_test_split, RandomizedSearchCV\n",
        "from sklearn.preprocessing import PolynomialFeatures\n",
        "from sklearn.feature_selection import RFE, RFECV\n",
        "import warnings\n",
        "import re\n",
        "import seaborn as sns\n",
        "import plotly.express as px\n",
        "import matplotlib.pyplot as plt\n",
        "warnings.filterwarnings('ignore')"
      ]
    },
    {
      "cell_type": "code",
      "source": [
        "df = pd.read_csv('car_prices.csv')\n",
        "df.shape"
      ],
      "metadata": {
        "colab": {
          "base_uri": "https://localhost:8080/"
        },
        "id": "MCMNLdMXbvR9",
        "outputId": "65ef6445-ae79-4de5-ad95-0f4b7375fc5e"
      },
      "execution_count": 2,
      "outputs": [
        {
          "output_type": "execute_result",
          "data": {
            "text/plain": [
              "(54273, 13)"
            ]
          },
          "metadata": {},
          "execution_count": 2
        }
      ]
    },
    {
      "cell_type": "code",
      "source": [
        "df.head()"
      ],
      "metadata": {
        "colab": {
          "base_uri": "https://localhost:8080/",
          "height": 694
        },
        "id": "i7qRV8k2by1Q",
        "outputId": "bb01e059-857a-4cee-e15f-5302557d36e4"
      },
      "execution_count": 3,
      "outputs": [
        {
          "output_type": "execute_result",
          "data": {
            "text/plain": [
              "   id    brand          model  model_year  milage fuel_type  \\\n",
              "0   0     Ford   F-150 Lariat        2018   74349  Gasoline   \n",
              "1   1      BMW          335 i        2007   80000  Gasoline   \n",
              "2   2   Jaguar      XF Luxury        2009   91491  Gasoline   \n",
              "3   3      BMW   X7 xDrive40i        2022    2437    Hybrid   \n",
              "4   4  Pontiac  Firebird Base        2001  111000  Gasoline   \n",
              "\n",
              "                                              engine  \\\n",
              "0      375.0HP 3.5L V6 Cylinder Engine Gasoline Fuel   \n",
              "1  300.0HP 3.0L Straight 6 Cylinder Engine Gasoli...   \n",
              "2       300.0HP 4.2L 8 Cylinder Engine Gasoline Fuel   \n",
              "3  335.0HP 3.0L Straight 6 Cylinder Engine Gasoli...   \n",
              "4      200.0HP 3.8L V6 Cylinder Engine Gasoline Fuel   \n",
              "\n",
              "                     transmission ext_col int_col       accident clean_title  \\\n",
              "0                    10-Speed A/T    Blue    Gray  None reported         Yes   \n",
              "1                     6-Speed M/T   Black   Black  None reported         Yes   \n",
              "2                     6-Speed A/T  Purple   Beige  None reported         Yes   \n",
              "3  Transmission w/Dual Shift Mode    Gray   Brown  None reported         Yes   \n",
              "4                             A/T   White   Black  None reported         Yes   \n",
              "\n",
              "   price  \n",
              "0  11000  \n",
              "1   8250  \n",
              "2  15000  \n",
              "3  63500  \n",
              "4   7850  "
            ],
            "text/html": [
              "\n",
              "  <div id=\"df-8b1b2e92-bda5-4a67-8594-d92619d622cc\" class=\"colab-df-container\">\n",
              "    <div>\n",
              "<style scoped>\n",
              "    .dataframe tbody tr th:only-of-type {\n",
              "        vertical-align: middle;\n",
              "    }\n",
              "\n",
              "    .dataframe tbody tr th {\n",
              "        vertical-align: top;\n",
              "    }\n",
              "\n",
              "    .dataframe thead th {\n",
              "        text-align: right;\n",
              "    }\n",
              "</style>\n",
              "<table border=\"1\" class=\"dataframe\">\n",
              "  <thead>\n",
              "    <tr style=\"text-align: right;\">\n",
              "      <th></th>\n",
              "      <th>id</th>\n",
              "      <th>brand</th>\n",
              "      <th>model</th>\n",
              "      <th>model_year</th>\n",
              "      <th>milage</th>\n",
              "      <th>fuel_type</th>\n",
              "      <th>engine</th>\n",
              "      <th>transmission</th>\n",
              "      <th>ext_col</th>\n",
              "      <th>int_col</th>\n",
              "      <th>accident</th>\n",
              "      <th>clean_title</th>\n",
              "      <th>price</th>\n",
              "    </tr>\n",
              "  </thead>\n",
              "  <tbody>\n",
              "    <tr>\n",
              "      <th>0</th>\n",
              "      <td>0</td>\n",
              "      <td>Ford</td>\n",
              "      <td>F-150 Lariat</td>\n",
              "      <td>2018</td>\n",
              "      <td>74349</td>\n",
              "      <td>Gasoline</td>\n",
              "      <td>375.0HP 3.5L V6 Cylinder Engine Gasoline Fuel</td>\n",
              "      <td>10-Speed A/T</td>\n",
              "      <td>Blue</td>\n",
              "      <td>Gray</td>\n",
              "      <td>None reported</td>\n",
              "      <td>Yes</td>\n",
              "      <td>11000</td>\n",
              "    </tr>\n",
              "    <tr>\n",
              "      <th>1</th>\n",
              "      <td>1</td>\n",
              "      <td>BMW</td>\n",
              "      <td>335 i</td>\n",
              "      <td>2007</td>\n",
              "      <td>80000</td>\n",
              "      <td>Gasoline</td>\n",
              "      <td>300.0HP 3.0L Straight 6 Cylinder Engine Gasoli...</td>\n",
              "      <td>6-Speed M/T</td>\n",
              "      <td>Black</td>\n",
              "      <td>Black</td>\n",
              "      <td>None reported</td>\n",
              "      <td>Yes</td>\n",
              "      <td>8250</td>\n",
              "    </tr>\n",
              "    <tr>\n",
              "      <th>2</th>\n",
              "      <td>2</td>\n",
              "      <td>Jaguar</td>\n",
              "      <td>XF Luxury</td>\n",
              "      <td>2009</td>\n",
              "      <td>91491</td>\n",
              "      <td>Gasoline</td>\n",
              "      <td>300.0HP 4.2L 8 Cylinder Engine Gasoline Fuel</td>\n",
              "      <td>6-Speed A/T</td>\n",
              "      <td>Purple</td>\n",
              "      <td>Beige</td>\n",
              "      <td>None reported</td>\n",
              "      <td>Yes</td>\n",
              "      <td>15000</td>\n",
              "    </tr>\n",
              "    <tr>\n",
              "      <th>3</th>\n",
              "      <td>3</td>\n",
              "      <td>BMW</td>\n",
              "      <td>X7 xDrive40i</td>\n",
              "      <td>2022</td>\n",
              "      <td>2437</td>\n",
              "      <td>Hybrid</td>\n",
              "      <td>335.0HP 3.0L Straight 6 Cylinder Engine Gasoli...</td>\n",
              "      <td>Transmission w/Dual Shift Mode</td>\n",
              "      <td>Gray</td>\n",
              "      <td>Brown</td>\n",
              "      <td>None reported</td>\n",
              "      <td>Yes</td>\n",
              "      <td>63500</td>\n",
              "    </tr>\n",
              "    <tr>\n",
              "      <th>4</th>\n",
              "      <td>4</td>\n",
              "      <td>Pontiac</td>\n",
              "      <td>Firebird Base</td>\n",
              "      <td>2001</td>\n",
              "      <td>111000</td>\n",
              "      <td>Gasoline</td>\n",
              "      <td>200.0HP 3.8L V6 Cylinder Engine Gasoline Fuel</td>\n",
              "      <td>A/T</td>\n",
              "      <td>White</td>\n",
              "      <td>Black</td>\n",
              "      <td>None reported</td>\n",
              "      <td>Yes</td>\n",
              "      <td>7850</td>\n",
              "    </tr>\n",
              "  </tbody>\n",
              "</table>\n",
              "</div>\n",
              "    <div class=\"colab-df-buttons\">\n",
              "\n",
              "  <div class=\"colab-df-container\">\n",
              "    <button class=\"colab-df-convert\" onclick=\"convertToInteractive('df-8b1b2e92-bda5-4a67-8594-d92619d622cc')\"\n",
              "            title=\"Convert this dataframe to an interactive table.\"\n",
              "            style=\"display:none;\">\n",
              "\n",
              "  <svg xmlns=\"http://www.w3.org/2000/svg\" height=\"24px\" viewBox=\"0 -960 960 960\">\n",
              "    <path d=\"M120-120v-720h720v720H120Zm60-500h600v-160H180v160Zm220 220h160v-160H400v160Zm0 220h160v-160H400v160ZM180-400h160v-160H180v160Zm440 0h160v-160H620v160ZM180-180h160v-160H180v160Zm440 0h160v-160H620v160Z\"/>\n",
              "  </svg>\n",
              "    </button>\n",
              "\n",
              "  <style>\n",
              "    .colab-df-container {\n",
              "      display:flex;\n",
              "      gap: 12px;\n",
              "    }\n",
              "\n",
              "    .colab-df-convert {\n",
              "      background-color: #E8F0FE;\n",
              "      border: none;\n",
              "      border-radius: 50%;\n",
              "      cursor: pointer;\n",
              "      display: none;\n",
              "      fill: #1967D2;\n",
              "      height: 32px;\n",
              "      padding: 0 0 0 0;\n",
              "      width: 32px;\n",
              "    }\n",
              "\n",
              "    .colab-df-convert:hover {\n",
              "      background-color: #E2EBFA;\n",
              "      box-shadow: 0px 1px 2px rgba(60, 64, 67, 0.3), 0px 1px 3px 1px rgba(60, 64, 67, 0.15);\n",
              "      fill: #174EA6;\n",
              "    }\n",
              "\n",
              "    .colab-df-buttons div {\n",
              "      margin-bottom: 4px;\n",
              "    }\n",
              "\n",
              "    [theme=dark] .colab-df-convert {\n",
              "      background-color: #3B4455;\n",
              "      fill: #D2E3FC;\n",
              "    }\n",
              "\n",
              "    [theme=dark] .colab-df-convert:hover {\n",
              "      background-color: #434B5C;\n",
              "      box-shadow: 0px 1px 3px 1px rgba(0, 0, 0, 0.15);\n",
              "      filter: drop-shadow(0px 1px 2px rgba(0, 0, 0, 0.3));\n",
              "      fill: #FFFFFF;\n",
              "    }\n",
              "  </style>\n",
              "\n",
              "    <script>\n",
              "      const buttonEl =\n",
              "        document.querySelector('#df-8b1b2e92-bda5-4a67-8594-d92619d622cc button.colab-df-convert');\n",
              "      buttonEl.style.display =\n",
              "        google.colab.kernel.accessAllowed ? 'block' : 'none';\n",
              "\n",
              "      async function convertToInteractive(key) {\n",
              "        const element = document.querySelector('#df-8b1b2e92-bda5-4a67-8594-d92619d622cc');\n",
              "        const dataTable =\n",
              "          await google.colab.kernel.invokeFunction('convertToInteractive',\n",
              "                                                    [key], {});\n",
              "        if (!dataTable) return;\n",
              "\n",
              "        const docLinkHtml = 'Like what you see? Visit the ' +\n",
              "          '<a target=\"_blank\" href=https://colab.research.google.com/notebooks/data_table.ipynb>data table notebook</a>'\n",
              "          + ' to learn more about interactive tables.';\n",
              "        element.innerHTML = '';\n",
              "        dataTable['output_type'] = 'display_data';\n",
              "        await google.colab.output.renderOutput(dataTable, element);\n",
              "        const docLink = document.createElement('div');\n",
              "        docLink.innerHTML = docLinkHtml;\n",
              "        element.appendChild(docLink);\n",
              "      }\n",
              "    </script>\n",
              "  </div>\n",
              "\n",
              "\n",
              "<div id=\"df-a5f1d0b2-1a33-40bf-ba99-9d54c6ceee04\">\n",
              "  <button class=\"colab-df-quickchart\" onclick=\"quickchart('df-a5f1d0b2-1a33-40bf-ba99-9d54c6ceee04')\"\n",
              "            title=\"Suggest charts\"\n",
              "            style=\"display:none;\">\n",
              "\n",
              "<svg xmlns=\"http://www.w3.org/2000/svg\" height=\"24px\"viewBox=\"0 0 24 24\"\n",
              "     width=\"24px\">\n",
              "    <g>\n",
              "        <path d=\"M19 3H5c-1.1 0-2 .9-2 2v14c0 1.1.9 2 2 2h14c1.1 0 2-.9 2-2V5c0-1.1-.9-2-2-2zM9 17H7v-7h2v7zm4 0h-2V7h2v10zm4 0h-2v-4h2v4z\"/>\n",
              "    </g>\n",
              "</svg>\n",
              "  </button>\n",
              "\n",
              "<style>\n",
              "  .colab-df-quickchart {\n",
              "      --bg-color: #E8F0FE;\n",
              "      --fill-color: #1967D2;\n",
              "      --hover-bg-color: #E2EBFA;\n",
              "      --hover-fill-color: #174EA6;\n",
              "      --disabled-fill-color: #AAA;\n",
              "      --disabled-bg-color: #DDD;\n",
              "  }\n",
              "\n",
              "  [theme=dark] .colab-df-quickchart {\n",
              "      --bg-color: #3B4455;\n",
              "      --fill-color: #D2E3FC;\n",
              "      --hover-bg-color: #434B5C;\n",
              "      --hover-fill-color: #FFFFFF;\n",
              "      --disabled-bg-color: #3B4455;\n",
              "      --disabled-fill-color: #666;\n",
              "  }\n",
              "\n",
              "  .colab-df-quickchart {\n",
              "    background-color: var(--bg-color);\n",
              "    border: none;\n",
              "    border-radius: 50%;\n",
              "    cursor: pointer;\n",
              "    display: none;\n",
              "    fill: var(--fill-color);\n",
              "    height: 32px;\n",
              "    padding: 0;\n",
              "    width: 32px;\n",
              "  }\n",
              "\n",
              "  .colab-df-quickchart:hover {\n",
              "    background-color: var(--hover-bg-color);\n",
              "    box-shadow: 0 1px 2px rgba(60, 64, 67, 0.3), 0 1px 3px 1px rgba(60, 64, 67, 0.15);\n",
              "    fill: var(--button-hover-fill-color);\n",
              "  }\n",
              "\n",
              "  .colab-df-quickchart-complete:disabled,\n",
              "  .colab-df-quickchart-complete:disabled:hover {\n",
              "    background-color: var(--disabled-bg-color);\n",
              "    fill: var(--disabled-fill-color);\n",
              "    box-shadow: none;\n",
              "  }\n",
              "\n",
              "  .colab-df-spinner {\n",
              "    border: 2px solid var(--fill-color);\n",
              "    border-color: transparent;\n",
              "    border-bottom-color: var(--fill-color);\n",
              "    animation:\n",
              "      spin 1s steps(1) infinite;\n",
              "  }\n",
              "\n",
              "  @keyframes spin {\n",
              "    0% {\n",
              "      border-color: transparent;\n",
              "      border-bottom-color: var(--fill-color);\n",
              "      border-left-color: var(--fill-color);\n",
              "    }\n",
              "    20% {\n",
              "      border-color: transparent;\n",
              "      border-left-color: var(--fill-color);\n",
              "      border-top-color: var(--fill-color);\n",
              "    }\n",
              "    30% {\n",
              "      border-color: transparent;\n",
              "      border-left-color: var(--fill-color);\n",
              "      border-top-color: var(--fill-color);\n",
              "      border-right-color: var(--fill-color);\n",
              "    }\n",
              "    40% {\n",
              "      border-color: transparent;\n",
              "      border-right-color: var(--fill-color);\n",
              "      border-top-color: var(--fill-color);\n",
              "    }\n",
              "    60% {\n",
              "      border-color: transparent;\n",
              "      border-right-color: var(--fill-color);\n",
              "    }\n",
              "    80% {\n",
              "      border-color: transparent;\n",
              "      border-right-color: var(--fill-color);\n",
              "      border-bottom-color: var(--fill-color);\n",
              "    }\n",
              "    90% {\n",
              "      border-color: transparent;\n",
              "      border-bottom-color: var(--fill-color);\n",
              "    }\n",
              "  }\n",
              "</style>\n",
              "\n",
              "  <script>\n",
              "    async function quickchart(key) {\n",
              "      const quickchartButtonEl =\n",
              "        document.querySelector('#' + key + ' button');\n",
              "      quickchartButtonEl.disabled = true;  // To prevent multiple clicks.\n",
              "      quickchartButtonEl.classList.add('colab-df-spinner');\n",
              "      try {\n",
              "        const charts = await google.colab.kernel.invokeFunction(\n",
              "            'suggestCharts', [key], {});\n",
              "      } catch (error) {\n",
              "        console.error('Error during call to suggestCharts:', error);\n",
              "      }\n",
              "      quickchartButtonEl.classList.remove('colab-df-spinner');\n",
              "      quickchartButtonEl.classList.add('colab-df-quickchart-complete');\n",
              "    }\n",
              "    (() => {\n",
              "      let quickchartButtonEl =\n",
              "        document.querySelector('#df-a5f1d0b2-1a33-40bf-ba99-9d54c6ceee04 button');\n",
              "      quickchartButtonEl.style.display =\n",
              "        google.colab.kernel.accessAllowed ? 'block' : 'none';\n",
              "    })();\n",
              "  </script>\n",
              "</div>\n",
              "\n",
              "    </div>\n",
              "  </div>\n"
            ],
            "application/vnd.google.colaboratory.intrinsic+json": {
              "type": "dataframe",
              "variable_name": "df",
              "summary": "{\n  \"name\": \"df\",\n  \"rows\": 54273,\n  \"fields\": [\n    {\n      \"column\": \"id\",\n      \"properties\": {\n        \"dtype\": \"number\",\n        \"std\": 15667,\n        \"min\": 0,\n        \"max\": 54272,\n        \"num_unique_values\": 54273,\n        \"samples\": [\n          42508,\n          43045,\n          34855\n        ],\n        \"semantic_type\": \"\",\n        \"description\": \"\"\n      }\n    },\n    {\n      \"column\": \"brand\",\n      \"properties\": {\n        \"dtype\": \"category\",\n        \"num_unique_values\": 53,\n        \"samples\": [\n          \"Mazda\",\n          \"Rolls-Royce\",\n          \"Lucid\"\n        ],\n        \"semantic_type\": \"\",\n        \"description\": \"\"\n      }\n    },\n    {\n      \"column\": \"model\",\n      \"properties\": {\n        \"dtype\": \"category\",\n        \"num_unique_values\": 1827,\n        \"samples\": [\n          \"Rover Range Rover P525 Westminster\",\n          \"GL-Class GL 550\",\n          \"Sprinter Normal Roof\"\n        ],\n        \"semantic_type\": \"\",\n        \"description\": \"\"\n      }\n    },\n    {\n      \"column\": \"model_year\",\n      \"properties\": {\n        \"dtype\": \"number\",\n        \"std\": 5,\n        \"min\": 1974,\n        \"max\": 2024,\n        \"num_unique_values\": 34,\n        \"samples\": [\n          2006,\n          1999,\n          2000\n        ],\n        \"semantic_type\": \"\",\n        \"description\": \"\"\n      }\n    },\n    {\n      \"column\": \"milage\",\n      \"properties\": {\n        \"dtype\": \"number\",\n        \"std\": 50469,\n        \"min\": 100,\n        \"max\": 405000,\n        \"num_unique_values\": 3212,\n        \"samples\": [\n          102604,\n          23131,\n          32576\n        ],\n        \"semantic_type\": \"\",\n        \"description\": \"\"\n      }\n    },\n    {\n      \"column\": \"fuel_type\",\n      \"properties\": {\n        \"dtype\": \"category\",\n        \"num_unique_values\": 7,\n        \"samples\": [\n          \"Gasoline\",\n          \"Hybrid\",\n          \"Plug-In Hybrid\"\n        ],\n        \"semantic_type\": \"\",\n        \"description\": \"\"\n      }\n    },\n    {\n      \"column\": \"engine\",\n      \"properties\": {\n        \"dtype\": \"category\",\n        \"num_unique_values\": 1061,\n        \"samples\": [\n          \"382.0HP 3.0L Straight 6 Cylinder Engine Gasoline/Mild Electric Hybrid\",\n          \"451.0HP 6.3L 8 Cylinder Engine Gasoline Fuel\",\n          \"165.0HP 2.5L 4 Cylinder Engine Gasoline Fuel\"\n        ],\n        \"semantic_type\": \"\",\n        \"description\": \"\"\n      }\n    },\n    {\n      \"column\": \"transmission\",\n      \"properties\": {\n        \"dtype\": \"category\",\n        \"num_unique_values\": 46,\n        \"samples\": [\n          \"9-Speed Automatic with Auto-Shift\",\n          \"7-Speed Automatic\",\n          \"7-Speed Automatic with Auto-Shift\"\n        ],\n        \"semantic_type\": \"\",\n        \"description\": \"\"\n      }\n    },\n    {\n      \"column\": \"ext_col\",\n      \"properties\": {\n        \"dtype\": \"category\",\n        \"num_unique_values\": 260,\n        \"samples\": [\n          \"Glacial White Pearl\",\n          \"Gun Metallic\",\n          \"Balloon White\"\n        ],\n        \"semantic_type\": \"\",\n        \"description\": \"\"\n      }\n    },\n    {\n      \"column\": \"int_col\",\n      \"properties\": {\n        \"dtype\": \"category\",\n        \"num_unique_values\": 124,\n        \"samples\": [\n          \"Orange\",\n          \"Black / Express Red\",\n          \"Canberra Beige\"\n        ],\n        \"semantic_type\": \"\",\n        \"description\": \"\"\n      }\n    },\n    {\n      \"column\": \"accident\",\n      \"properties\": {\n        \"dtype\": \"category\",\n        \"num_unique_values\": 2,\n        \"samples\": [\n          \"At least 1 accident or damage reported\",\n          \"None reported\"\n        ],\n        \"semantic_type\": \"\",\n        \"description\": \"\"\n      }\n    },\n    {\n      \"column\": \"clean_title\",\n      \"properties\": {\n        \"dtype\": \"category\",\n        \"num_unique_values\": 1,\n        \"samples\": [\n          \"Yes\"\n        ],\n        \"semantic_type\": \"\",\n        \"description\": \"\"\n      }\n    },\n    {\n      \"column\": \"price\",\n      \"properties\": {\n        \"dtype\": \"number\",\n        \"std\": 72826,\n        \"min\": 2000,\n        \"max\": 2954083,\n        \"num_unique_values\": 1481,\n        \"samples\": [\n          315000\n        ],\n        \"semantic_type\": \"\",\n        \"description\": \"\"\n      }\n    }\n  ]\n}"
            }
          },
          "metadata": {},
          "execution_count": 3
        }
      ]
    },
    {
      "cell_type": "code",
      "source": [
        "for col in df.columns:\n",
        "    print(f'{col}: {df[col].nunique()}')"
      ],
      "metadata": {
        "colab": {
          "base_uri": "https://localhost:8080/"
        },
        "id": "1mtrFicscB1q",
        "outputId": "f3353a69-9390-45d5-aa59-e3a9d4491b3f"
      },
      "execution_count": 4,
      "outputs": [
        {
          "output_type": "stream",
          "name": "stdout",
          "text": [
            "id: 54273\n",
            "brand: 53\n",
            "model: 1827\n",
            "model_year: 34\n",
            "milage: 3212\n",
            "fuel_type: 7\n",
            "engine: 1061\n",
            "transmission: 46\n",
            "ext_col: 260\n",
            "int_col: 124\n",
            "accident: 2\n",
            "clean_title: 1\n",
            "price: 1481\n"
          ]
        }
      ]
    },
    {
      "cell_type": "markdown",
      "source": [
        "#### Kerakliy funksiyalarni yozamiz"
      ],
      "metadata": {
        "id": "TZG3KlJ3hVAY"
      }
    },
    {
      "cell_type": "code",
      "source": [
        "def parse_engine_info(engine):\n",
        "    # engine ustunidan ma'lumotlarni ajratib olamiz\n",
        "    if pd.isna(engine):\n",
        "        return pd.Series([np.nan, np.nan, np.nan, np.nan, np.nan])\n",
        "\n",
        "    hp = re.search(r'(\\d+\\.?\\d*)HP', engine)\n",
        "    liter = re.search(r'(\\d+\\.?\\d*)L', engine)\n",
        "    motor = re.search(r'(Straight|V)\\s*\\d*', engine)\n",
        "    cylinder = re.search(r'(\\d+)\\s*Cylinder', engine)\n",
        "    fuel = re.search(r'(Gasoline|Hybrid|Flex|Diesel)', engine)\n",
        "\n",
        "    return pd.Series([\n",
        "        hp.group(1) if hp else np.nan,\n",
        "        liter.group(1) if liter else np.nan,\n",
        "        motor.group(0) if motor else np.nan,\n",
        "        cylinder.group(1) if cylinder else np.nan,\n",
        "        fuel.group(1) if fuel else np.nan\n",
        "    ])\n",
        "\n",
        "\n",
        "def fill_nan_mean(df, col, columns):\n",
        "    # numeric ustunlar uchun fill nall funcsiya\n",
        "    print(f\"Col: {col}, Columns: {columns}, Nan: {df[col].isna().sum()}\", end='')\n",
        "    value = df[df[col].notna()].groupby(by=columns)[col].mean().reset_index()\n",
        "    df = pd.merge(df, value, on=columns, how='left', suffixes=('', '_mean'))\n",
        "    df[col] = df[col].fillna(df[col + '_mean'])\n",
        "    df.drop(columns=[col + '_mean'], inplace=True)\n",
        "    print(f\", After Clean: {df[col].isna().sum()}\")\n",
        "    return df\n",
        "\n",
        "\n",
        "def fill_nan_mode(df, col, columns):\n",
        "    # object ustunlar uchun fill nall funcsiya\n",
        "    print(f\"Col: {col}, Columns: {columns}, Nan: {df[col].isna().sum()}\", end='')\n",
        "    mode_values = df.groupby(columns)[col].apply(lambda x: x.mode().iloc[0] if not x.mode().empty else pd.NA).reset_index()\n",
        "    df = pd.merge(df, mode_values, on=columns, how='left', suffixes=('', '_mode'))\n",
        "    df[col] = df[col].fillna(df[col + '_mode'])\n",
        "    df.drop(columns=[col + '_mode'], inplace=True)\n",
        "\n",
        "    print(f\", After Clean: {df[col].isna().sum()}\")\n",
        "    return df\n",
        "\n",
        "def to_numeric(x):\n",
        "    try:\n",
        "        return float(x)\n",
        "    except ValueError as err:\n",
        "        print(err)\n",
        "        return np.nan\n",
        "\n",
        "\n",
        "def ordinal_encoder(df, column, on):\n",
        "    # object ustunlni 'price' ustuniga soslanib sortlayb raqamga aylantiradi va yangi ustun yaratadi\n",
        "    avg_prices = df.groupby(column)[on].mean().reset_index()\n",
        "    avg_prices.columns = [column, 'avg_price']\n",
        "    avg_prices = avg_prices.sort_values(by='avg_price').reset_index(drop=True)\n",
        "    avg_prices[column+'_rank'] = avg_prices.index + 1\n",
        "    return pd.merge(df, avg_prices[[column, column+'_rank']], on=column, how='left')"
      ],
      "metadata": {
        "id": "IA-a78IouyrN"
      },
      "execution_count": 5,
      "outputs": []
    },
    {
      "cell_type": "markdown",
      "source": [
        "#### engine ustunidagi ma'lumotlarni ajratib olamiz"
      ],
      "metadata": {
        "id": "dj7m4xGIi87m"
      }
    },
    {
      "cell_type": "code",
      "source": [
        "new_columns = ['hp', 'litr', 'motor', 'Cylinder', 'fuel']\n",
        "df[new_columns] = df['engine'].apply(parse_engine_info)"
      ],
      "metadata": {
        "id": "9frPtiYNg_ub"
      },
      "execution_count": null,
      "outputs": []
    },
    {
      "cell_type": "markdown",
      "source": [
        "#### bizga keragsiz data"
      ],
      "metadata": {
        "id": "csS5K9umjDLq"
      }
    },
    {
      "cell_type": "code",
      "source": [
        "df = df.drop(columns=['clean_title', 'id'])"
      ],
      "metadata": {
        "id": "coAGL5SWhVuJ"
      },
      "execution_count": null,
      "outputs": []
    },
    {
      "cell_type": "code",
      "source": [
        "df.head(1)"
      ],
      "metadata": {
        "id": "jXus0b0VhMX5"
      },
      "execution_count": null,
      "outputs": []
    },
    {
      "cell_type": "code",
      "source": [
        "df[new_columns].isna().sum()"
      ],
      "metadata": {
        "id": "PYmeIIjsj8bq"
      },
      "execution_count": null,
      "outputs": []
    },
    {
      "cell_type": "markdown",
      "source": [
        "#### Nan qiymatlarni tuldirib chiqamiz"
      ],
      "metadata": {
        "id": "9PHaSqgBjGqt"
      }
    },
    {
      "cell_type": "code",
      "source": [
        "df['hp'] = df['hp'].agg(to_numeric)\n",
        "\n",
        "df = fill_nan_mean(df.copy(), 'hp', ['motor', 'Cylinder', 'litr'])\n",
        "df = fill_nan_mean(df.copy(), 'hp', ['motor', 'litr'])\n",
        "df = fill_nan_mean(df.copy(), 'hp', ['brand', 'model'])\n",
        "df = fill_nan_mean(df.copy(), 'hp', ['litr', 'fuel_type'])\n",
        "df = fill_nan_mean(df.copy(), 'hp', ['model'])\n",
        "df = fill_nan_mean(df.copy(), 'hp', ['motor'])\n",
        "df = fill_nan_mean(df.copy(), 'hp', ['price', 'brand'])\n",
        "df = fill_nan_mean(df.copy(), 'hp', ['price', 'fuel_type'])\n",
        "df = fill_nan_mean(df.copy(), 'hp', ['engine'])\n",
        "\n",
        "\n",
        "\n",
        "print(df['hp'].isna().sum())"
      ],
      "metadata": {
        "id": "q75N2_RxvPQB"
      },
      "execution_count": null,
      "outputs": []
    },
    {
      "cell_type": "code",
      "source": [
        "df['litr'] = df['litr'].agg(to_numeric)\n",
        "\n",
        "\n",
        "df = fill_nan_mean(df.copy(), 'litr', ['motor', 'Cylinder', 'hp'])\n",
        "# df = fill_nan_mean(df.copy(), 'litr', ['Cylinder', 'hp'])\n",
        "# df = fill_nan_mean(df.copy(), 'litr', ['motor', 'hp'])\n",
        "df = fill_nan_mean(df.copy(), 'litr', ['hp', 'fuel_type'])\n",
        "df = fill_nan_mean(df.copy(), 'litr', ['model'])\n",
        "df = fill_nan_mean(df.copy(), 'litr', ['engine'])\n",
        "df = fill_nan_mean(df.copy(), 'litr', ['price', 'fuel_type'])\n",
        "df = fill_nan_mean(df.copy(), 'litr', ['price', 'transmission'])\n",
        "\n",
        "\n",
        "print(df['litr'].isna().sum())"
      ],
      "metadata": {
        "id": "ov01mu7S16Tb"
      },
      "execution_count": null,
      "outputs": []
    },
    {
      "cell_type": "code",
      "source": [
        "df['Cylinder'] = df['Cylinder'].agg(to_numeric)\n",
        "\n",
        "df = fill_nan_mean(df.copy(), 'Cylinder', ['litr', 'hp'])\n",
        "df = fill_nan_mean(df.copy(), 'Cylinder', ['litr', 'model'])\n",
        "df = fill_nan_mean(df.copy(), 'Cylinder', ['hp', 'model'])\n",
        "df = fill_nan_mean(df.copy(), 'Cylinder', ['model'])\n",
        "df = fill_nan_mean(df.copy(), 'Cylinder', ['hp', 'fuel_type'])\n",
        "df = fill_nan_mean(df.copy(), 'Cylinder', ['price', 'fuel_type'])\n",
        "df = fill_nan_mean(df.copy(), 'Cylinder', ['price', 'transmission'])\n",
        "df = fill_nan_mean(df.copy(), 'Cylinder', ['litr', 'fuel_type'])\n",
        "df = fill_nan_mean(df.copy(), 'Cylinder', ['engine'])\n",
        "\n",
        "\n",
        "print(df['Cylinder'].isna().sum())"
      ],
      "metadata": {
        "id": "OTor3ZGhZzjY"
      },
      "execution_count": null,
      "outputs": []
    },
    {
      "cell_type": "code",
      "source": [
        "df.columns"
      ],
      "metadata": {
        "id": "044j9S1WtZ6h"
      },
      "execution_count": null,
      "outputs": []
    },
    {
      "cell_type": "code",
      "source": [
        "df.head(1)"
      ],
      "metadata": {
        "id": "doX-eUI3tpRd"
      },
      "execution_count": null,
      "outputs": []
    },
    {
      "cell_type": "code",
      "source": [
        "df = fill_nan_mode(df.copy(), 'motor', ['litr', 'hp', 'Cylinder', 'model'])\n",
        "df = fill_nan_mode(df.copy(), 'motor', ['litr', 'hp', 'Cylinder'])\n",
        "df = fill_nan_mode(df.copy(), 'motor', ['litr', 'hp'])\n",
        "df = fill_nan_mode(df.copy(), 'motor', ['model'])\n",
        "df = fill_nan_mode(df.copy(), 'motor', ['engine'])\n",
        "df = fill_nan_mode(df.copy(), 'motor', ['fuel_type', 'hp'])\n",
        "df = fill_nan_mode(df.copy(), 'motor', ['litr', 'Cylinder'])\n",
        "df = fill_nan_mode(df.copy(), 'motor', ['Cylinder', 'price'])\n",
        "df = fill_nan_mode(df.copy(), 'motor', ['Cylinder', 'brand'])\n",
        "df = fill_nan_mode(df.copy(), 'motor', ['litr', 'brand'])\n",
        "df = fill_nan_mode(df.copy(), 'motor', ['hp', 'brand'])\n",
        "df = fill_nan_mode(df.copy(), 'motor', ['hp', 'fuel'])\n",
        "df = fill_nan_mode(df.copy(), 'motor', ['brand', 'price'])\n",
        "df = fill_nan_mode(df.copy(), 'motor', ['brand', 'price'])\n",
        "df = fill_nan_mode(df.copy(), 'motor', ['brand', 'fuel_type'])\n",
        "\n",
        "\n",
        "print(df['motor'].isna().sum())"
      ],
      "metadata": {
        "id": "dFPVNG3ql0z9"
      },
      "execution_count": null,
      "outputs": []
    },
    {
      "cell_type": "code",
      "source": [
        "df = fill_nan_mode(df.copy(), 'fuel', ['litr', 'hp', 'Cylinder', 'model'])\n",
        "df = fill_nan_mode(df.copy(), 'fuel', ['litr', 'hp', 'model'])\n",
        "df = fill_nan_mode(df.copy(), 'fuel', ['hp', 'model'])\n",
        "df = fill_nan_mode(df.copy(), 'fuel', ['model'])\n",
        "df = fill_nan_mode(df.copy(), 'fuel', ['motor', 'hp'])\n",
        "df = fill_nan_mode(df.copy(), 'fuel', ['motor', 'hp'])\n",
        "df = fill_nan_mode(df.copy(), 'fuel', ['motor', 'Cylinder'])\n",
        "df = fill_nan_mode(df.copy(), 'fuel', ['motor', 'litr'])\n",
        "df = fill_nan_mode(df.copy(), 'fuel', ['motor'])\n",
        "\n",
        "print(df['fuel'].isna().sum())"
      ],
      "metadata": {
        "id": "vtQWPzkf61VO"
      },
      "execution_count": null,
      "outputs": []
    },
    {
      "cell_type": "code",
      "source": [
        "df.head(1)"
      ],
      "metadata": {
        "id": "U0ravVNZ7RRI"
      },
      "execution_count": null,
      "outputs": []
    },
    {
      "cell_type": "code",
      "source": [
        "df[new_columns].isna().sum()"
      ],
      "metadata": {
        "id": "MopkB3sH1DvI"
      },
      "execution_count": null,
      "outputs": []
    },
    {
      "cell_type": "code",
      "source": [
        "df.select_dtypes(include='object').columns"
      ],
      "metadata": {
        "id": "poC2puoxtyFQ"
      },
      "execution_count": null,
      "outputs": []
    },
    {
      "cell_type": "code",
      "source": [
        "for col in df.select_dtypes(include='object').columns:\n",
        "    df = ordinal_encoder(df.copy(), col, 'price')"
      ],
      "metadata": {
        "id": "D_1o-Age1NpN"
      },
      "execution_count": null,
      "outputs": []
    },
    {
      "cell_type": "code",
      "source": [
        "df.head(1)"
      ],
      "metadata": {
        "id": "SH0UgTZD1e-H"
      },
      "execution_count": null,
      "outputs": []
    },
    {
      "cell_type": "markdown",
      "source": [
        "### Birinchi model"
      ],
      "metadata": {
        "id": "FUnFt_QVjMch"
      }
    },
    {
      "cell_type": "code",
      "source": [
        "columns = ['model_year',\n",
        "           'milage',\n",
        "           'hp',\n",
        "           'litr',\n",
        "           'Cylinder',\n",
        "           'brand_rank',\n",
        "           'model_rank',\n",
        "           'fuel_type_rank',\n",
        "           'engine_rank',\n",
        "           'transmission_rank',\n",
        "           'ext_col_rank',\n",
        "           'int_col_rank',\n",
        "           'accident_rank',\n",
        "           'motor_rank',\n",
        "           'fuel_rank'\n",
        "           ]\n",
        "\n",
        "X = df[columns]\n",
        "y = df['price']\n",
        "\n",
        "X_train, X_test, y_train, y_test = train_test_split(X, y, test_size=0.37, random_state=125)\n",
        "\n",
        "model = LinearRegression()\n",
        "\n",
        "cv = KFold(n_splits=5, shuffle=True, random_state=42)\n",
        "cv_rmse = np.sqrt(np.mean((-cross_val_score(model, X_train, y_train, cv=cv, scoring='neg_mean_squared_error'))))\n",
        "\n",
        "model.fit(X_train, y_train)\n",
        "\n",
        "y_pred = model.predict(X_test)\n",
        "\n",
        "rmse = mean_squared_error(y_test, y_pred, squared=False)\n",
        "mae = mean_absolute_error(y_test, y_pred)\n",
        "r2 = r2_score(y_test, y_pred)\n",
        "\n",
        "print(f'CV RMSE: {cv_rmse}')\n",
        "print(f'RMSE: {rmse}')\n",
        "print(f'MAE: {mae}')\n",
        "print(f'R2: {r2}')"
      ],
      "metadata": {
        "id": "-4TcAR3j2RiZ"
      },
      "execution_count": null,
      "outputs": []
    },
    {
      "cell_type": "markdown",
      "source": [
        "### PolynomialFeatures"
      ],
      "metadata": {
        "id": "j4OUyInpjQb1"
      }
    },
    {
      "cell_type": "code",
      "source": [
        "poly = PolynomialFeatures(degree=2, include_bias=False)\n",
        "X_poly = poly.fit_transform(X)\n",
        "\n",
        "\n",
        "X_train, X_test, y_train, y_test = train_test_split(X_poly, y, test_size=0.37, random_state=125)\n",
        "\n",
        "model = LinearRegression()\n",
        "\n",
        "cv = KFold(n_splits=5, shuffle=True, random_state=42)\n",
        "cv_rmse = np.sqrt(np.mean((-cross_val_score(model, X_train, y_train, cv=cv, scoring='neg_mean_squared_error'))))\n",
        "\n",
        "model.fit(X_train, y_train)\n",
        "\n",
        "y_pred = model.predict(X_test)\n",
        "\n",
        "rmse = mean_squared_error(y_test, y_pred, squared=False)\n",
        "mae = mean_absolute_error(y_test, y_pred)\n",
        "r2 = r2_score(y_test, y_pred)\n",
        "\n",
        "print(f'CV RMSE: {cv_rmse}')\n",
        "print(f'RMSE: {rmse}')\n",
        "print(f'MAE: {mae}')\n",
        "print(f'R2: {r2}')"
      ],
      "metadata": {
        "id": "ZQ59wQje4fjc"
      },
      "execution_count": null,
      "outputs": []
    },
    {
      "cell_type": "markdown",
      "source": [
        "#### Outlierlarni tashlab kuramiz"
      ],
      "metadata": {
        "id": "Jrn6bDEq49Ln"
      }
    },
    {
      "cell_type": "code",
      "source": [
        "data = df[df['price'] <= df['price'].quantile(0.95)]"
      ],
      "metadata": {
        "id": "aJSvBGxs5Ck8"
      },
      "execution_count": null,
      "outputs": []
    },
    {
      "cell_type": "code",
      "source": [
        "X = data[columns]\n",
        "y = data['price']"
      ],
      "metadata": {
        "id": "IqG6P2jt5POw"
      },
      "execution_count": null,
      "outputs": []
    },
    {
      "cell_type": "code",
      "source": [
        "poly = PolynomialFeatures(degree=2, include_bias=False)\n",
        "X_poly = poly.fit_transform(X)\n",
        "\n",
        "\n",
        "X_train, X_test, y_train, y_test = train_test_split(X_poly, y, test_size=0.37, random_state=125)\n",
        "\n",
        "model = LinearRegression()\n",
        "\n",
        "cv = KFold(n_splits=5, shuffle=True, random_state=42)\n",
        "cv_rmse = np.sqrt(np.mean((-cross_val_score(model, X_train, y_train, cv=cv, scoring='neg_mean_squared_error'))))\n",
        "\n",
        "model.fit(X_train, y_train)\n",
        "\n",
        "y_pred = model.predict(X_test)\n",
        "\n",
        "rmse = mean_squared_error(y_test, y_pred, squared=False)\n",
        "mae = mean_absolute_error(y_test, y_pred)\n",
        "r2 = r2_score(y_test, y_pred)\n",
        "\n",
        "print(f'CV RMSE: {cv_rmse}')\n",
        "print(f'RMSE: {rmse}')\n",
        "print(f'MAE: {mae}')\n",
        "print(f'R2: {r2}')"
      ],
      "metadata": {
        "id": "uhf-pFR_5KcO"
      },
      "execution_count": null,
      "outputs": []
    },
    {
      "cell_type": "code",
      "source": [
        "linear_model = LinearRegression()\n",
        "linear_model.fit(X, y)\n",
        "\n",
        "tail = TheilSenRegressor()\n",
        "tail.fit(X, y)\n",
        "\n",
        "huber = HuberRegressor()\n",
        "huber.fit(X, y)\n",
        "\n",
        "ransac = RANSACRegressor()\n",
        "ransac.fit(X, y)\n",
        "\n",
        "\n",
        "linear_rmse = np.sqrt(mean_squared_error(y, linear_model.predict(X)))\n",
        "tail_rmse = np.sqrt(mean_squared_error(y, tail.predict(X)))\n",
        "huber_rmse = np.sqrt(mean_squared_error(y, huber.predict(X)))\n",
        "ransac_rmse = np.sqrt(mean_squared_error(y, ransac.predict(X)))\n",
        "\n",
        "mae_linear = mean_absolute_error(y, linear_model.predict(X))\n",
        "mae_tail = mean_absolute_error(y, tail.predict(X))\n",
        "mae_huber = mean_absolute_error(y, huber.predict(X))\n",
        "mae_ransac = mean_absolute_error(y, ransac.predict(X))\n",
        "\n",
        "\n",
        "median_error = median_absolute_error(y, linear_model.predict(X))\n",
        "median_error_tail = median_absolute_error(y, tail.predict(X))\n",
        "median_error_huber = median_absolute_error(y, huber.predict(X))\n",
        "median_error_ransac = median_absolute_error(y, ransac.predict(X))\n",
        "\n",
        "print('Median Error Linear:', median_error)\n",
        "print('Linear MAE:', mae_linear)\n",
        "print('Linear RMSE:', linear_rmse)\n",
        "print()\n",
        "print('Median Error RANSAC:', median_error_ransac)\n",
        "print('RANSAC MAE:', mae_ransac)\n",
        "print('RANSAC RMSE:', ransac_rmse)\n",
        "print()\n",
        "print('Median Error Tail:', median_error_tail)\n",
        "print('Theil MAE:', mae_tail)\n",
        "print('Theil RMSE:', tail_rmse)\n",
        "print()\n",
        "print('Median Error Huber:', median_error_huber)\n",
        "print('Huber MAE:', mae_huber)\n",
        "print('Huber RMSE:', huber_rmse)"
      ],
      "metadata": {
        "id": "ZDQtdJ9z4out"
      },
      "execution_count": null,
      "outputs": []
    },
    {
      "cell_type": "markdown",
      "source": [
        "#### PolynomialFeatures"
      ],
      "metadata": {
        "id": "nGDPoEzZ5aAT"
      }
    },
    {
      "cell_type": "code",
      "source": [
        "linear_model = LinearRegression()\n",
        "linear_model.fit(X_poly, y)\n",
        "\n",
        "tail = TheilSenRegressor()\n",
        "tail.fit(X_poly, y)\n",
        "\n",
        "huber = HuberRegressor()\n",
        "huber.fit(X_poly, y)\n",
        "\n",
        "ransac = RANSACRegressor()\n",
        "ransac.fit(X_poly, y)\n",
        "\n",
        "\n",
        "linear_rmse = np.sqrt(mean_squared_error(y, linear_model.predict(X_poly)))\n",
        "tail_rmse = np.sqrt(mean_squared_error(y, tail.predict(X_poly)))\n",
        "huber_rmse = np.sqrt(mean_squared_error(y, huber.predict(X_poly)))\n",
        "ransac_rmse = np.sqrt(mean_squared_error(y, ransac.predict(X_poly)))\n",
        "\n",
        "mae_linear = mean_absolute_error(y, linear_model.predict(X_poly))\n",
        "mae_tail = mean_absolute_error(y, tail.predict(X_poly))\n",
        "mae_huber = mean_absolute_error(y, huber.predict(X_poly))\n",
        "mae_ransac = mean_absolute_error(y, ransac.predict(X_poly))\n",
        "\n",
        "\n",
        "median_error = median_absolute_error(y, linear_model.predict(X_poly))\n",
        "median_error_tail = median_absolute_error(y, tail.predict(X_poly))\n",
        "median_error_huber = median_absolute_error(y, huber.predict(X_poly))\n",
        "median_error_ransac = median_absolute_error(y, ransac.predict(X_poly))\n",
        "\n",
        "print('Median Error Linear:', median_error)\n",
        "print('Linear MAE:', mae_linear)\n",
        "print('Linear RMSE:', linear_rmse)\n",
        "print()\n",
        "print('Median Error RANSAC:', median_error_ransac)\n",
        "print('RANSAC MAE:', mae_ransac)\n",
        "print('RANSAC RMSE:', ransac_rmse)\n",
        "print()\n",
        "print('Median Error Tail:', median_error_tail)\n",
        "print('Theil MAE:', mae_tail)\n",
        "print('Theil RMSE:', tail_rmse)\n",
        "print()\n",
        "print('Median Error Huber:', median_error_huber)\n",
        "print('Huber MAE:', mae_huber)\n",
        "print('Huber RMSE:', huber_rmse)"
      ],
      "metadata": {
        "id": "qNuwwaYi5QL8"
      },
      "execution_count": null,
      "outputs": []
    },
    {
      "cell_type": "code",
      "source": [
        "cv = KFold(n_splits=6, shuffle=True, random_state=42)\n",
        "\n",
        "linear_model = LinearRegression()\n",
        "\n",
        "rfecv = RFECV(estimator=linear_model, step=1, cv=cv, scoring='neg_mean_squared_error', verbose=2)\n",
        "\n",
        "rfecv.fit(X_poly, y)\n",
        "optimal_num_features = rfecv.n_features_\n",
        "selected_features = X_poly.columns[rfecv.support_]\n",
        "\n",
        "print(\"Optimal number of features:\", optimal_num_features)\n",
        "print(\"Selected features:\", selected_features.tolist())"
      ],
      "metadata": {
        "id": "QDU9amjd50OI"
      },
      "execution_count": null,
      "outputs": []
    }
  ]
}