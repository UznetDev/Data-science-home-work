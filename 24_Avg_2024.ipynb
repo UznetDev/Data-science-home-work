{
  "nbformat": 4,
  "nbformat_minor": 0,
  "metadata": {
    "colab": {
      "provenance": [],
      "collapsed_sections": [
        "4yHz4zewqni4",
        "NS6j93AQiH7B"
      ],
      "authorship_tag": "ABX9TyMX5jQhmE1OytVAomev82g0",
      "include_colab_link": true
    },
    "kernelspec": {
      "name": "python3",
      "display_name": "Python 3"
    },
    "language_info": {
      "name": "python"
    }
  },
  "cells": [
    {
      "cell_type": "markdown",
      "metadata": {
        "id": "view-in-github",
        "colab_type": "text"
      },
      "source": [
        "<a href=\"https://colab.research.google.com/github/UznetDev/Data-science-home-work/blob/main/24_Avg_2024.ipynb\" target=\"_parent\"><img src=\"https://colab.research.google.com/assets/colab-badge.svg\" alt=\"Open In Colab\"/></a>"
      ]
    },
    {
      "cell_type": "markdown",
      "source": [
        "# **SQL**"
      ],
      "metadata": {
        "id": "GZxK2bDnj6_Q"
      }
    },
    {
      "cell_type": "markdown",
      "source": [
        "### Import librares"
      ],
      "metadata": {
        "id": "4yHz4zewqni4"
      }
    },
    {
      "cell_type": "code",
      "execution_count": 1,
      "metadata": {
        "id": "zpHxL5F4hVc9"
      },
      "outputs": [],
      "source": [
        "import pandas as pd"
      ]
    },
    {
      "cell_type": "markdown",
      "source": [
        "### Set-up for SQL"
      ],
      "metadata": {
        "id": "NS6j93AQiH7B"
      }
    },
    {
      "cell_type": "code",
      "source": [
        "%load_ext sql\n",
        "%sql sqlite://"
      ],
      "metadata": {
        "id": "_cyIAPu-iBED"
      },
      "execution_count": 2,
      "outputs": []
    },
    {
      "cell_type": "markdown",
      "source": [
        "##### Load dataset"
      ],
      "metadata": {
        "id": "qlhev4g0_TQD"
      }
    },
    {
      "cell_type": "code",
      "source": [
        "monarchs = pd.read_csv('monarchs.csv')\n",
        "presidents = pd.read_csv('presidents.csv')\n",
        "prime_minister_terms = pd.read_csv('prime_minister_terms.csv')\n",
        "prime_ministers = pd.read_csv('prime_ministers.csv')\n",
        "states = pd.read_csv('states.csv')"
      ],
      "metadata": {
        "id": "fWsxJNZ2ir-H"
      },
      "execution_count": 3,
      "outputs": []
    },
    {
      "cell_type": "markdown",
      "source": [
        "##### Upload dataset to SQL"
      ],
      "metadata": {
        "id": "aunGHMzJ_bSy"
      }
    },
    {
      "cell_type": "code",
      "source": [
        "%sql DROP TABLE IF EXISTS monarchs;\n",
        "%sql --persist monarchs\n",
        "\n",
        "%sql DROP TABLE IF EXISTS presidents;\n",
        "%sql --persist presidents\n",
        "\n",
        "%sql DROP TABLE IF EXISTS prime_minister_terms;\n",
        "%sql --persist prime_minister_terms\n",
        "\n",
        "%sql DROP TABLE IF EXISTS prime_ministers;\n",
        "%sql --persist prime_ministers\n",
        "\n",
        "%sql DROP TABLE IF EXISTS states;\n",
        "%sql --persist states"
      ],
      "metadata": {
        "colab": {
          "base_uri": "https://localhost:8080/",
          "height": 0
        },
        "id": "gCxdrMMXi34q",
        "outputId": "fad7e560-0acf-4b81-87c2-b1f01bacb078"
      },
      "execution_count": 4,
      "outputs": [
        {
          "output_type": "stream",
          "name": "stdout",
          "text": [
            " * sqlite://\n",
            "Done.\n",
            " * sqlite://\n",
            " * sqlite://\n",
            "Done.\n",
            " * sqlite://\n",
            " * sqlite://\n",
            "Done.\n",
            " * sqlite://\n",
            " * sqlite://\n",
            "Done.\n",
            " * sqlite://\n",
            " * sqlite://\n",
            "Done.\n",
            " * sqlite://\n"
          ]
        },
        {
          "output_type": "execute_result",
          "data": {
            "text/plain": [
              "'Persisted states'"
            ],
            "application/vnd.google.colaboratory.intrinsic+json": {
              "type": "string"
            }
          },
          "metadata": {},
          "execution_count": 4
        }
      ]
    },
    {
      "cell_type": "markdown",
      "source": [
        "### *Class work*"
      ],
      "metadata": {
        "id": "oh7WfJ_5pEuG"
      }
    },
    {
      "cell_type": "markdown",
      "source": [
        "#### Part 1"
      ],
      "metadata": {
        "id": "ElXpyxk64E6A"
      }
    },
    {
      "cell_type": "code",
      "source": [
        "%%sql SELECT monarch, country\n",
        "FROM monarchs\n",
        "EXCEPT\n",
        "SELECT prime_minister, country\n",
        "FROM prime_ministers;"
      ],
      "metadata": {
        "colab": {
          "base_uri": "https://localhost:8080/",
          "height": 117
        },
        "id": "xXWE9BqQoZb5",
        "outputId": "95eade32-e151-4493-8af1-302366a906a2"
      },
      "execution_count": 5,
      "outputs": [
        {
          "output_type": "stream",
          "name": "stdout",
          "text": [
            " * sqlite://\n",
            "Done.\n"
          ]
        },
        {
          "output_type": "execute_result",
          "data": {
            "text/plain": [
              "[('Harald V', 'Norway'), ('Queen Elizabeth II', 'United Kingdom')]"
            ],
            "text/html": [
              "<table>\n",
              "    <thead>\n",
              "        <tr>\n",
              "            <th>monarch</th>\n",
              "            <th>country</th>\n",
              "        </tr>\n",
              "    </thead>\n",
              "    <tbody>\n",
              "        <tr>\n",
              "            <td>Harald V</td>\n",
              "            <td>Norway</td>\n",
              "        </tr>\n",
              "        <tr>\n",
              "            <td>Queen Elizabeth II</td>\n",
              "            <td>United Kingdom</td>\n",
              "        </tr>\n",
              "    </tbody>\n",
              "</table>"
            ]
          },
          "metadata": {},
          "execution_count": 5
        }
      ]
    },
    {
      "cell_type": "code",
      "source": [
        "%%sql SELECT country, continent, president\n",
        "FROM presidents;"
      ],
      "metadata": {
        "colab": {
          "base_uri": "https://localhost:8080/",
          "height": 222
        },
        "id": "tsiruc36o8gc",
        "outputId": "7db440b6-eda2-4cba-c3e1-c79a094a18d6"
      },
      "execution_count": 6,
      "outputs": [
        {
          "output_type": "stream",
          "name": "stdout",
          "text": [
            " * sqlite://\n",
            "Done.\n"
          ]
        },
        {
          "output_type": "execute_result",
          "data": {
            "text/plain": [
              "[('Egypt', 'Africa', 'Abdel Fattah el-Sisi'),\n",
              " ('Portugal', 'Europe', 'Marcelo Rebelo de Sousa'),\n",
              " ('USA', 'North America', 'Joe Biden'),\n",
              " ('Uruguay', 'South America', 'Luis Lacalle Pou'),\n",
              " ('Pakistan', 'Asia', 'Arif Alvi'),\n",
              " ('Chile', 'South America', 'Gabriel Boric'),\n",
              " ('India', 'Asia', 'Ram Nath Kovind')]"
            ],
            "text/html": [
              "<table>\n",
              "    <thead>\n",
              "        <tr>\n",
              "            <th>country</th>\n",
              "            <th>continent</th>\n",
              "            <th>president</th>\n",
              "        </tr>\n",
              "    </thead>\n",
              "    <tbody>\n",
              "        <tr>\n",
              "            <td>Egypt</td>\n",
              "            <td>Africa</td>\n",
              "            <td>Abdel Fattah el-Sisi</td>\n",
              "        </tr>\n",
              "        <tr>\n",
              "            <td>Portugal</td>\n",
              "            <td>Europe</td>\n",
              "            <td>Marcelo Rebelo de Sousa</td>\n",
              "        </tr>\n",
              "        <tr>\n",
              "            <td>USA</td>\n",
              "            <td>North America</td>\n",
              "            <td>Joe Biden</td>\n",
              "        </tr>\n",
              "        <tr>\n",
              "            <td>Uruguay</td>\n",
              "            <td>South America</td>\n",
              "            <td>Luis Lacalle Pou</td>\n",
              "        </tr>\n",
              "        <tr>\n",
              "            <td>Pakistan</td>\n",
              "            <td>Asia</td>\n",
              "            <td>Arif Alvi</td>\n",
              "        </tr>\n",
              "        <tr>\n",
              "            <td>Chile</td>\n",
              "            <td>South America</td>\n",
              "            <td>Gabriel Boric</td>\n",
              "        </tr>\n",
              "        <tr>\n",
              "            <td>India</td>\n",
              "            <td>Asia</td>\n",
              "            <td>Ram Nath Kovind</td>\n",
              "        </tr>\n",
              "    </tbody>\n",
              "</table>"
            ]
          },
          "metadata": {},
          "execution_count": 6
        }
      ]
    },
    {
      "cell_type": "code",
      "source": [
        "%%sql SELECT country\n",
        "FROM states\n",
        "WHERE indep_year < 1800;"
      ],
      "metadata": {
        "colab": {
          "base_uri": "https://localhost:8080/",
          "height": 117
        },
        "id": "Ksje8a--rSxb",
        "outputId": "1a143239-546f-41b4-9f94-ea21d3d78227"
      },
      "execution_count": 7,
      "outputs": [
        {
          "output_type": "stream",
          "name": "stdout",
          "text": [
            " * sqlite://\n",
            "Done.\n"
          ]
        },
        {
          "output_type": "execute_result",
          "data": {
            "text/plain": [
              "[('Portugal',), ('USA',)]"
            ],
            "text/html": [
              "<table>\n",
              "    <thead>\n",
              "        <tr>\n",
              "            <th>country</th>\n",
              "        </tr>\n",
              "    </thead>\n",
              "    <tbody>\n",
              "        <tr>\n",
              "            <td>Portugal</td>\n",
              "        </tr>\n",
              "        <tr>\n",
              "            <td>USA</td>\n",
              "        </tr>\n",
              "    </tbody>\n",
              "</table>"
            ]
          },
          "metadata": {},
          "execution_count": 7
        }
      ]
    },
    {
      "cell_type": "code",
      "source": [
        "%%sql SELECT president, country, continent\n",
        "FROM presidents\n",
        "WHERE country IN (\n",
        "    SELECT country\n",
        "    FROM states\n",
        "    WHERE indep_year < 1800\n",
        ");"
      ],
      "metadata": {
        "colab": {
          "base_uri": "https://localhost:8080/",
          "height": 117
        },
        "id": "2uO-lhtFrrdq",
        "outputId": "d3d66d7b-ad9f-434d-bffb-52fb54290a4c"
      },
      "execution_count": 8,
      "outputs": [
        {
          "output_type": "stream",
          "name": "stdout",
          "text": [
            " * sqlite://\n",
            "Done.\n"
          ]
        },
        {
          "output_type": "execute_result",
          "data": {
            "text/plain": [
              "[('Marcelo Rebelo de Sousa', 'Portugal', 'Europe'),\n",
              " ('Joe Biden', 'USA', 'North America')]"
            ],
            "text/html": [
              "<table>\n",
              "    <thead>\n",
              "        <tr>\n",
              "            <th>president</th>\n",
              "            <th>country</th>\n",
              "            <th>continent</th>\n",
              "        </tr>\n",
              "    </thead>\n",
              "    <tbody>\n",
              "        <tr>\n",
              "            <td>Marcelo Rebelo de Sousa</td>\n",
              "            <td>Portugal</td>\n",
              "            <td>Europe</td>\n",
              "        </tr>\n",
              "        <tr>\n",
              "            <td>Joe Biden</td>\n",
              "            <td>USA</td>\n",
              "            <td>North America</td>\n",
              "        </tr>\n",
              "    </tbody>\n",
              "</table>"
            ]
          },
          "metadata": {},
          "execution_count": 8
        }
      ]
    },
    {
      "cell_type": "code",
      "source": [
        "%%sql SELECT president, s.country, s.continent\n",
        "FROM presidents as p\n",
        "INNER JOIN states as s\n",
        "ON p.country = s.country\n",
        "WHERE s.indep_year < 1800;"
      ],
      "metadata": {
        "colab": {
          "base_uri": "https://localhost:8080/",
          "height": 117
        },
        "id": "xuRAGVYesJkE",
        "outputId": "75a0efca-1d7f-4b54-9c22-b958139e2635"
      },
      "execution_count": 9,
      "outputs": [
        {
          "output_type": "stream",
          "name": "stdout",
          "text": [
            " * sqlite://\n",
            "Done.\n"
          ]
        },
        {
          "output_type": "execute_result",
          "data": {
            "text/plain": [
              "[('Marcelo Rebelo de Sousa', 'Portugal', 'Europe'),\n",
              " ('Joe Biden', 'USA', 'North America')]"
            ],
            "text/html": [
              "<table>\n",
              "    <thead>\n",
              "        <tr>\n",
              "            <th>president</th>\n",
              "            <th>country</th>\n",
              "            <th>continent</th>\n",
              "        </tr>\n",
              "    </thead>\n",
              "    <tbody>\n",
              "        <tr>\n",
              "            <td>Marcelo Rebelo de Sousa</td>\n",
              "            <td>Portugal</td>\n",
              "            <td>Europe</td>\n",
              "        </tr>\n",
              "        <tr>\n",
              "            <td>Joe Biden</td>\n",
              "            <td>USA</td>\n",
              "            <td>North America</td>\n",
              "        </tr>\n",
              "    </tbody>\n",
              "</table>"
            ]
          },
          "metadata": {},
          "execution_count": 9
        }
      ]
    },
    {
      "cell_type": "code",
      "source": [
        "%%sql SELECT president, s.country, s.continent\n",
        "FROM presidents as p\n",
        "INNER JOIN states as s\n",
        "ON p.country != s.country\n",
        "WHERE s.indep_year < 1800;"
      ],
      "metadata": {
        "colab": {
          "base_uri": "https://localhost:8080/",
          "height": 327
        },
        "id": "J_SvUnKAshSp",
        "outputId": "91dcfee0-693a-47c8-8466-be459b2d19a4"
      },
      "execution_count": 10,
      "outputs": [
        {
          "output_type": "stream",
          "name": "stdout",
          "text": [
            " * sqlite://\n",
            "Done.\n"
          ]
        },
        {
          "output_type": "execute_result",
          "data": {
            "text/plain": [
              "[('Abdel Fattah el-Sisi', 'Portugal', 'Europe'),\n",
              " ('Joe Biden', 'Portugal', 'Europe'),\n",
              " ('Luis Lacalle Pou', 'Portugal', 'Europe'),\n",
              " ('Arif Alvi', 'Portugal', 'Europe'),\n",
              " ('Gabriel Boric', 'Portugal', 'Europe'),\n",
              " ('Ram Nath Kovind', 'Portugal', 'Europe'),\n",
              " ('Abdel Fattah el-Sisi', 'USA', 'North America'),\n",
              " ('Marcelo Rebelo de Sousa', 'USA', 'North America'),\n",
              " ('Luis Lacalle Pou', 'USA', 'North America'),\n",
              " ('Arif Alvi', 'USA', 'North America'),\n",
              " ('Gabriel Boric', 'USA', 'North America'),\n",
              " ('Ram Nath Kovind', 'USA', 'North America')]"
            ],
            "text/html": [
              "<table>\n",
              "    <thead>\n",
              "        <tr>\n",
              "            <th>president</th>\n",
              "            <th>country</th>\n",
              "            <th>continent</th>\n",
              "        </tr>\n",
              "    </thead>\n",
              "    <tbody>\n",
              "        <tr>\n",
              "            <td>Abdel Fattah el-Sisi</td>\n",
              "            <td>Portugal</td>\n",
              "            <td>Europe</td>\n",
              "        </tr>\n",
              "        <tr>\n",
              "            <td>Joe Biden</td>\n",
              "            <td>Portugal</td>\n",
              "            <td>Europe</td>\n",
              "        </tr>\n",
              "        <tr>\n",
              "            <td>Luis Lacalle Pou</td>\n",
              "            <td>Portugal</td>\n",
              "            <td>Europe</td>\n",
              "        </tr>\n",
              "        <tr>\n",
              "            <td>Arif Alvi</td>\n",
              "            <td>Portugal</td>\n",
              "            <td>Europe</td>\n",
              "        </tr>\n",
              "        <tr>\n",
              "            <td>Gabriel Boric</td>\n",
              "            <td>Portugal</td>\n",
              "            <td>Europe</td>\n",
              "        </tr>\n",
              "        <tr>\n",
              "            <td>Ram Nath Kovind</td>\n",
              "            <td>Portugal</td>\n",
              "            <td>Europe</td>\n",
              "        </tr>\n",
              "        <tr>\n",
              "            <td>Abdel Fattah el-Sisi</td>\n",
              "            <td>USA</td>\n",
              "            <td>North America</td>\n",
              "        </tr>\n",
              "        <tr>\n",
              "            <td>Marcelo Rebelo de Sousa</td>\n",
              "            <td>USA</td>\n",
              "            <td>North America</td>\n",
              "        </tr>\n",
              "        <tr>\n",
              "            <td>Luis Lacalle Pou</td>\n",
              "            <td>USA</td>\n",
              "            <td>North America</td>\n",
              "        </tr>\n",
              "        <tr>\n",
              "            <td>Arif Alvi</td>\n",
              "            <td>USA</td>\n",
              "            <td>North America</td>\n",
              "        </tr>\n",
              "        <tr>\n",
              "            <td>Gabriel Boric</td>\n",
              "            <td>USA</td>\n",
              "            <td>North America</td>\n",
              "        </tr>\n",
              "        <tr>\n",
              "            <td>Ram Nath Kovind</td>\n",
              "            <td>USA</td>\n",
              "            <td>North America</td>\n",
              "        </tr>\n",
              "    </tbody>\n",
              "</table>"
            ]
          },
          "metadata": {},
          "execution_count": 10
        }
      ]
    },
    {
      "cell_type": "code",
      "source": [
        "%%sql SELECT country, president\n",
        "FROM presidents\n",
        "WHERE continent LIKE '%America'\n",
        "AND country NOT IN (\n",
        "    SELECT country\n",
        "    FROM states\n",
        "    WHERE indep_year < 1800\n",
        ");"
      ],
      "metadata": {
        "colab": {
          "base_uri": "https://localhost:8080/",
          "height": 117
        },
        "id": "eGSvgwvotfaG",
        "outputId": "553bb4bb-14ac-42f3-f313-bb9a3b4038af"
      },
      "execution_count": 11,
      "outputs": [
        {
          "output_type": "stream",
          "name": "stdout",
          "text": [
            " * sqlite://\n",
            "Done.\n"
          ]
        },
        {
          "output_type": "execute_result",
          "data": {
            "text/plain": [
              "[('Uruguay', 'Luis Lacalle Pou'), ('Chile', 'Gabriel Boric')]"
            ],
            "text/html": [
              "<table>\n",
              "    <thead>\n",
              "        <tr>\n",
              "            <th>country</th>\n",
              "            <th>president</th>\n",
              "        </tr>\n",
              "    </thead>\n",
              "    <tbody>\n",
              "        <tr>\n",
              "            <td>Uruguay</td>\n",
              "            <td>Luis Lacalle Pou</td>\n",
              "        </tr>\n",
              "        <tr>\n",
              "            <td>Chile</td>\n",
              "            <td>Gabriel Boric</td>\n",
              "        </tr>\n",
              "    </tbody>\n",
              "</table>"
            ]
          },
          "metadata": {},
          "execution_count": 11
        }
      ]
    },
    {
      "cell_type": "code",
      "source": [
        "%%sql SELECT p.country, p.president\n",
        "FROM presidents p\n",
        "INNER JOIN states s ON p.country = s.country\n",
        "WHERE p.continent LIKE '%America'\n",
        "AND (s.indep_year >= 1800 OR s.indep_year IS NULL);"
      ],
      "metadata": {
        "colab": {
          "base_uri": "https://localhost:8080/",
          "height": 117
        },
        "id": "xi5T5T0ht9v0",
        "outputId": "b86c3c26-60dd-477b-fd00-e24b552c27c4"
      },
      "execution_count": 12,
      "outputs": [
        {
          "output_type": "stream",
          "name": "stdout",
          "text": [
            " * sqlite://\n",
            "Done.\n"
          ]
        },
        {
          "output_type": "execute_result",
          "data": {
            "text/plain": [
              "[('Uruguay', 'Luis Lacalle Pou'), ('Chile', 'Gabriel Boric')]"
            ],
            "text/html": [
              "<table>\n",
              "    <thead>\n",
              "        <tr>\n",
              "            <th>country</th>\n",
              "            <th>president</th>\n",
              "        </tr>\n",
              "    </thead>\n",
              "    <tbody>\n",
              "        <tr>\n",
              "            <td>Uruguay</td>\n",
              "            <td>Luis Lacalle Pou</td>\n",
              "        </tr>\n",
              "        <tr>\n",
              "            <td>Chile</td>\n",
              "            <td>Gabriel Boric</td>\n",
              "        </tr>\n",
              "    </tbody>\n",
              "</table>"
            ]
          },
          "metadata": {},
          "execution_count": 12
        }
      ]
    },
    {
      "cell_type": "code",
      "source": [
        "%%sql SELECT DISTINCT continent\n",
        "FROM states;"
      ],
      "metadata": {
        "colab": {
          "base_uri": "https://localhost:8080/",
          "height": 201
        },
        "id": "xGANHcHEvJr2",
        "outputId": "c4eb29ea-aea3-40ad-8843-db43b2615098"
      },
      "execution_count": 13,
      "outputs": [
        {
          "output_type": "stream",
          "name": "stdout",
          "text": [
            " * sqlite://\n",
            "Done.\n"
          ]
        },
        {
          "output_type": "execute_result",
          "data": {
            "text/plain": [
              "[('Oceania',),\n",
              " ('Asia',),\n",
              " ('South America',),\n",
              " ('Africa',),\n",
              " ('Europe',),\n",
              " ('North America',)]"
            ],
            "text/html": [
              "<table>\n",
              "    <thead>\n",
              "        <tr>\n",
              "            <th>continent</th>\n",
              "        </tr>\n",
              "    </thead>\n",
              "    <tbody>\n",
              "        <tr>\n",
              "            <td>Oceania</td>\n",
              "        </tr>\n",
              "        <tr>\n",
              "            <td>Asia</td>\n",
              "        </tr>\n",
              "        <tr>\n",
              "            <td>South America</td>\n",
              "        </tr>\n",
              "        <tr>\n",
              "            <td>Africa</td>\n",
              "        </tr>\n",
              "        <tr>\n",
              "            <td>Europe</td>\n",
              "        </tr>\n",
              "        <tr>\n",
              "            <td>North America</td>\n",
              "        </tr>\n",
              "    </tbody>\n",
              "</table>"
            ]
          },
          "metadata": {},
          "execution_count": 13
        }
      ]
    },
    {
      "cell_type": "code",
      "source": [
        "%%sql SELECT DISTINCT continent,\n",
        "      (SELECT COUNT(*)\n",
        "      FROM monarchs\n",
        "      WHERE states.continent = monarchs.continent) AS num_monarchs\n",
        "FROM states;"
      ],
      "metadata": {
        "colab": {
          "base_uri": "https://localhost:8080/",
          "height": 201
        },
        "id": "lNLMJjKKwKve",
        "outputId": "dbc9aa62-c85b-415a-c40d-b083ee98ba66"
      },
      "execution_count": 14,
      "outputs": [
        {
          "output_type": "stream",
          "name": "stdout",
          "text": [
            " * sqlite://\n",
            "Done.\n"
          ]
        },
        {
          "output_type": "execute_result",
          "data": {
            "text/plain": [
              "[('Oceania', 0),\n",
              " ('Asia', 2),\n",
              " ('South America', 0),\n",
              " ('Africa', 0),\n",
              " ('Europe', 2),\n",
              " ('North America', 0)]"
            ],
            "text/html": [
              "<table>\n",
              "    <thead>\n",
              "        <tr>\n",
              "            <th>continent</th>\n",
              "            <th>num_monarchs</th>\n",
              "        </tr>\n",
              "    </thead>\n",
              "    <tbody>\n",
              "        <tr>\n",
              "            <td>Oceania</td>\n",
              "            <td>0</td>\n",
              "        </tr>\n",
              "        <tr>\n",
              "            <td>Asia</td>\n",
              "            <td>2</td>\n",
              "        </tr>\n",
              "        <tr>\n",
              "            <td>South America</td>\n",
              "            <td>0</td>\n",
              "        </tr>\n",
              "        <tr>\n",
              "            <td>Africa</td>\n",
              "            <td>0</td>\n",
              "        </tr>\n",
              "        <tr>\n",
              "            <td>Europe</td>\n",
              "            <td>2</td>\n",
              "        </tr>\n",
              "        <tr>\n",
              "            <td>North America</td>\n",
              "            <td>0</td>\n",
              "        </tr>\n",
              "    </tbody>\n",
              "</table>"
            ]
          },
          "metadata": {},
          "execution_count": 14
        }
      ]
    },
    {
      "cell_type": "code",
      "source": [
        "%%sql SELECT s.continent, COUNT(*) AS num_monarchs\n",
        "FROM monarchs AS m\n",
        "LEFT JOIN states AS s\n",
        "USING(country)\n",
        "GROUP BY m.continent;"
      ],
      "metadata": {
        "colab": {
          "base_uri": "https://localhost:8080/",
          "height": 117
        },
        "id": "QXUODFqn1Noc",
        "outputId": "7d263816-17a0-442c-8194-48ce8407f375"
      },
      "execution_count": 15,
      "outputs": [
        {
          "output_type": "stream",
          "name": "stdout",
          "text": [
            " * sqlite://\n",
            "Done.\n"
          ]
        },
        {
          "output_type": "execute_result",
          "data": {
            "text/plain": [
              "[('Asia', 2), ('Europe', 2)]"
            ],
            "text/html": [
              "<table>\n",
              "    <thead>\n",
              "        <tr>\n",
              "            <th>continent</th>\n",
              "            <th>num_monarchs</th>\n",
              "        </tr>\n",
              "    </thead>\n",
              "    <tbody>\n",
              "        <tr>\n",
              "            <td>Asia</td>\n",
              "            <td>2</td>\n",
              "        </tr>\n",
              "        <tr>\n",
              "            <td>Europe</td>\n",
              "            <td>2</td>\n",
              "        </tr>\n",
              "    </tbody>\n",
              "</table>"
            ]
          },
          "metadata": {},
          "execution_count": 15
        }
      ]
    },
    {
      "cell_type": "markdown",
      "source": [
        "#### Part 2"
      ],
      "metadata": {
        "id": "ayaHobC14R1l"
      }
    },
    {
      "cell_type": "code",
      "source": [
        "%%sql SELECT\n",
        "    continent,\n",
        "    MAX(indep_year) AS most_recent\n",
        "FROM states\n",
        "GROUP BY continent;"
      ],
      "metadata": {
        "colab": {
          "base_uri": "https://localhost:8080/",
          "height": 201
        },
        "id": "Z1pv9bS74P37",
        "outputId": "070a3df8-e65f-4d74-da69-fb18597de91c"
      },
      "execution_count": 16,
      "outputs": [
        {
          "output_type": "stream",
          "name": "stdout",
          "text": [
            " * sqlite://\n",
            "Done.\n"
          ]
        },
        {
          "output_type": "execute_result",
          "data": {
            "text/plain": [
              "[('Africa', 1922),\n",
              " ('Asia', 1984),\n",
              " ('Europe', 1905),\n",
              " ('North America', 1776),\n",
              " ('Oceania', 1901),\n",
              " ('South America', 1825)]"
            ],
            "text/html": [
              "<table>\n",
              "    <thead>\n",
              "        <tr>\n",
              "            <th>continent</th>\n",
              "            <th>most_recent</th>\n",
              "        </tr>\n",
              "    </thead>\n",
              "    <tbody>\n",
              "        <tr>\n",
              "            <td>Africa</td>\n",
              "            <td>1922</td>\n",
              "        </tr>\n",
              "        <tr>\n",
              "            <td>Asia</td>\n",
              "            <td>1984</td>\n",
              "        </tr>\n",
              "        <tr>\n",
              "            <td>Europe</td>\n",
              "            <td>1905</td>\n",
              "        </tr>\n",
              "        <tr>\n",
              "            <td>North America</td>\n",
              "            <td>1776</td>\n",
              "        </tr>\n",
              "        <tr>\n",
              "            <td>Oceania</td>\n",
              "            <td>1901</td>\n",
              "        </tr>\n",
              "        <tr>\n",
              "            <td>South America</td>\n",
              "            <td>1825</td>\n",
              "        </tr>\n",
              "    </tbody>\n",
              "</table>"
            ]
          },
          "metadata": {},
          "execution_count": 16
        }
      ]
    },
    {
      "cell_type": "code",
      "source": [
        "%%sql SELECT DISTINCT m.continent,\n",
        "      sub.most_recent\n",
        "FROM monarchs AS m,\n",
        "      (SELECT continent,\n",
        "      MAX(indep_year) AS most_recent\n",
        "      FROM states\n",
        "      GROUP BY continent) AS sub\n",
        "WHERE m.continent = sub.continent\n",
        "ORDER BY m.continent;"
      ],
      "metadata": {
        "colab": {
          "base_uri": "https://localhost:8080/",
          "height": 117
        },
        "id": "JQX32imj6MLR",
        "outputId": "724d034f-c7c8-4960-8f6e-9d3618b228f1"
      },
      "execution_count": 17,
      "outputs": [
        {
          "output_type": "stream",
          "name": "stdout",
          "text": [
            " * sqlite://\n",
            "Done.\n"
          ]
        },
        {
          "output_type": "execute_result",
          "data": {
            "text/plain": [
              "[('Asia', 1984), ('Europe', 1905)]"
            ],
            "text/html": [
              "<table>\n",
              "    <thead>\n",
              "        <tr>\n",
              "            <th>continent</th>\n",
              "            <th>most_recent</th>\n",
              "        </tr>\n",
              "    </thead>\n",
              "    <tbody>\n",
              "        <tr>\n",
              "            <td>Asia</td>\n",
              "            <td>1984</td>\n",
              "        </tr>\n",
              "        <tr>\n",
              "            <td>Europe</td>\n",
              "            <td>1905</td>\n",
              "        </tr>\n",
              "    </tbody>\n",
              "</table>"
            ]
          },
          "metadata": {},
          "execution_count": 17
        }
      ]
    },
    {
      "cell_type": "code",
      "source": [
        "%%sql SELECT continent,\n",
        "      MAX(indep_year) AS most_recent\n",
        "FROM states\n",
        "GROUP BY continent;"
      ],
      "metadata": {
        "colab": {
          "base_uri": "https://localhost:8080/",
          "height": 201
        },
        "id": "SsEftei87KAo",
        "outputId": "75b8ea3c-3cc5-4fcf-827c-bafca1bc581c"
      },
      "execution_count": 18,
      "outputs": [
        {
          "output_type": "stream",
          "name": "stdout",
          "text": [
            " * sqlite://\n",
            "Done.\n"
          ]
        },
        {
          "output_type": "execute_result",
          "data": {
            "text/plain": [
              "[('Africa', 1922),\n",
              " ('Asia', 1984),\n",
              " ('Europe', 1905),\n",
              " ('North America', 1776),\n",
              " ('Oceania', 1901),\n",
              " ('South America', 1825)]"
            ],
            "text/html": [
              "<table>\n",
              "    <thead>\n",
              "        <tr>\n",
              "            <th>continent</th>\n",
              "            <th>most_recent</th>\n",
              "        </tr>\n",
              "    </thead>\n",
              "    <tbody>\n",
              "        <tr>\n",
              "            <td>Africa</td>\n",
              "            <td>1922</td>\n",
              "        </tr>\n",
              "        <tr>\n",
              "            <td>Asia</td>\n",
              "            <td>1984</td>\n",
              "        </tr>\n",
              "        <tr>\n",
              "            <td>Europe</td>\n",
              "            <td>1905</td>\n",
              "        </tr>\n",
              "        <tr>\n",
              "            <td>North America</td>\n",
              "            <td>1776</td>\n",
              "        </tr>\n",
              "        <tr>\n",
              "            <td>Oceania</td>\n",
              "            <td>1901</td>\n",
              "        </tr>\n",
              "        <tr>\n",
              "            <td>South America</td>\n",
              "            <td>1825</td>\n",
              "        </tr>\n",
              "    </tbody>\n",
              "</table>"
            ]
          },
          "metadata": {},
          "execution_count": 18
        }
      ]
    },
    {
      "cell_type": "code",
      "source": [
        "%%sql\n",
        "SELECT T2.continent, T1.country\n",
        "FROM states AS T1 INNER JOIN\n",
        "    (SELECT continent, MAX(indep_year) AS max_indep\n",
        "    FROM states\n",
        "    WHERE continent IN (SELECT DISTINCT continent FROM monarchs)\n",
        "    GROUP BY continent) AS T2 ;"
      ],
      "metadata": {
        "colab": {
          "base_uri": "https://localhost:8080/",
          "height": 538
        },
        "id": "JT-hBzOYAPtc",
        "outputId": "64b7c9d9-933b-4f1c-b684-db2ecbaf50bb"
      },
      "execution_count": 19,
      "outputs": [
        {
          "output_type": "stream",
          "name": "stdout",
          "text": [
            " * sqlite://\n",
            "Done.\n"
          ]
        },
        {
          "output_type": "execute_result",
          "data": {
            "text/plain": [
              "[('Asia', 'Australia'),\n",
              " ('Europe', 'Australia'),\n",
              " ('Asia', 'Brunei'),\n",
              " ('Europe', 'Brunei'),\n",
              " ('Asia', 'Chile'),\n",
              " ('Europe', 'Chile'),\n",
              " ('Asia', 'Egypt'),\n",
              " ('Europe', 'Egypt'),\n",
              " ('Asia', 'India'),\n",
              " ('Europe', 'India'),\n",
              " ('Asia', 'Norway'),\n",
              " ('Europe', 'Norway'),\n",
              " ('Asia', 'Oman'),\n",
              " ('Europe', 'Oman'),\n",
              " ('Asia', 'Pakistan'),\n",
              " ('Europe', 'Pakistan'),\n",
              " ('Asia', 'Portugal'),\n",
              " ('Europe', 'Portugal'),\n",
              " ('Asia', 'Uruguay'),\n",
              " ('Europe', 'Uruguay'),\n",
              " ('Asia', 'USA'),\n",
              " ('Europe', 'USA')]"
            ],
            "text/html": [
              "<table>\n",
              "    <thead>\n",
              "        <tr>\n",
              "            <th>continent</th>\n",
              "            <th>country</th>\n",
              "        </tr>\n",
              "    </thead>\n",
              "    <tbody>\n",
              "        <tr>\n",
              "            <td>Asia</td>\n",
              "            <td>Australia</td>\n",
              "        </tr>\n",
              "        <tr>\n",
              "            <td>Europe</td>\n",
              "            <td>Australia</td>\n",
              "        </tr>\n",
              "        <tr>\n",
              "            <td>Asia</td>\n",
              "            <td>Brunei</td>\n",
              "        </tr>\n",
              "        <tr>\n",
              "            <td>Europe</td>\n",
              "            <td>Brunei</td>\n",
              "        </tr>\n",
              "        <tr>\n",
              "            <td>Asia</td>\n",
              "            <td>Chile</td>\n",
              "        </tr>\n",
              "        <tr>\n",
              "            <td>Europe</td>\n",
              "            <td>Chile</td>\n",
              "        </tr>\n",
              "        <tr>\n",
              "            <td>Asia</td>\n",
              "            <td>Egypt</td>\n",
              "        </tr>\n",
              "        <tr>\n",
              "            <td>Europe</td>\n",
              "            <td>Egypt</td>\n",
              "        </tr>\n",
              "        <tr>\n",
              "            <td>Asia</td>\n",
              "            <td>India</td>\n",
              "        </tr>\n",
              "        <tr>\n",
              "            <td>Europe</td>\n",
              "            <td>India</td>\n",
              "        </tr>\n",
              "        <tr>\n",
              "            <td>Asia</td>\n",
              "            <td>Norway</td>\n",
              "        </tr>\n",
              "        <tr>\n",
              "            <td>Europe</td>\n",
              "            <td>Norway</td>\n",
              "        </tr>\n",
              "        <tr>\n",
              "            <td>Asia</td>\n",
              "            <td>Oman</td>\n",
              "        </tr>\n",
              "        <tr>\n",
              "            <td>Europe</td>\n",
              "            <td>Oman</td>\n",
              "        </tr>\n",
              "        <tr>\n",
              "            <td>Asia</td>\n",
              "            <td>Pakistan</td>\n",
              "        </tr>\n",
              "        <tr>\n",
              "            <td>Europe</td>\n",
              "            <td>Pakistan</td>\n",
              "        </tr>\n",
              "        <tr>\n",
              "            <td>Asia</td>\n",
              "            <td>Portugal</td>\n",
              "        </tr>\n",
              "        <tr>\n",
              "            <td>Europe</td>\n",
              "            <td>Portugal</td>\n",
              "        </tr>\n",
              "        <tr>\n",
              "            <td>Asia</td>\n",
              "            <td>Uruguay</td>\n",
              "        </tr>\n",
              "        <tr>\n",
              "            <td>Europe</td>\n",
              "            <td>Uruguay</td>\n",
              "        </tr>\n",
              "        <tr>\n",
              "            <td>Asia</td>\n",
              "            <td>USA</td>\n",
              "        </tr>\n",
              "        <tr>\n",
              "            <td>Europe</td>\n",
              "            <td>USA</td>\n",
              "        </tr>\n",
              "    </tbody>\n",
              "</table>"
            ]
          },
          "metadata": {},
          "execution_count": 19
        }
      ]
    }
  ]
}