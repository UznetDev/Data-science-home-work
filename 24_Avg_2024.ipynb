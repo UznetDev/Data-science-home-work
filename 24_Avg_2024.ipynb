{
  "nbformat": 4,
  "nbformat_minor": 0,
  "metadata": {
    "colab": {
      "provenance": [],
      "collapsed_sections": [
        "4yHz4zewqni4",
        "NS6j93AQiH7B"
      ],
      "authorship_tag": "ABX9TyP9m8+I3eSJGfehRTJAm5+C",
      "include_colab_link": true
    },
    "kernelspec": {
      "name": "python3",
      "display_name": "Python 3"
    },
    "language_info": {
      "name": "python"
    }
  },
  "cells": [
    {
      "cell_type": "markdown",
      "metadata": {
        "id": "view-in-github",
        "colab_type": "text"
      },
      "source": [
        "<a href=\"https://colab.research.google.com/github/UznetDev/Data-science-home-work/blob/main/24_Avg_2024.ipynb\" target=\"_parent\"><img src=\"https://colab.research.google.com/assets/colab-badge.svg\" alt=\"Open In Colab\"/></a>"
      ]
    },
    {
      "cell_type": "markdown",
      "source": [
        "# **SQL**"
      ],
      "metadata": {
        "id": "GZxK2bDnj6_Q"
      }
    },
    {
      "cell_type": "markdown",
      "source": [
        "### Import librares"
      ],
      "metadata": {
        "id": "4yHz4zewqni4"
      }
    },
    {
      "cell_type": "code",
      "execution_count": 20,
      "metadata": {
        "id": "zpHxL5F4hVc9"
      },
      "outputs": [],
      "source": [
        "import pandas as pd"
      ]
    },
    {
      "cell_type": "markdown",
      "source": [
        "### Set-up for SQL"
      ],
      "metadata": {
        "id": "NS6j93AQiH7B"
      }
    },
    {
      "cell_type": "code",
      "source": [
        "%load_ext sql\n",
        "%sql sqlite://"
      ],
      "metadata": {
        "id": "_cyIAPu-iBED",
        "colab": {
          "base_uri": "https://localhost:8080/"
        },
        "outputId": "1a344dc7-1c5d-4675-df29-98510266e24c"
      },
      "execution_count": 21,
      "outputs": [
        {
          "output_type": "stream",
          "name": "stdout",
          "text": [
            "The sql extension is already loaded. To reload it, use:\n",
            "  %reload_ext sql\n"
          ]
        }
      ]
    },
    {
      "cell_type": "markdown",
      "source": [
        "##### Load dataset"
      ],
      "metadata": {
        "id": "qlhev4g0_TQD"
      }
    },
    {
      "cell_type": "code",
      "source": [
        "monarchs = pd.read_csv('monarchs.csv')\n",
        "presidents = pd.read_csv('presidents.csv')\n",
        "prime_minister_terms = pd.read_csv('prime_minister_terms.csv')\n",
        "prime_ministers = pd.read_csv('prime_ministers.csv')\n",
        "states = pd.read_csv('states.csv')"
      ],
      "metadata": {
        "id": "fWsxJNZ2ir-H"
      },
      "execution_count": 22,
      "outputs": []
    },
    {
      "cell_type": "markdown",
      "source": [
        "##### Upload dataset to SQL"
      ],
      "metadata": {
        "id": "aunGHMzJ_bSy"
      }
    },
    {
      "cell_type": "code",
      "source": [
        "%sql DROP TABLE IF EXISTS monarchs;\n",
        "%sql --persist monarchs\n",
        "\n",
        "%sql DROP TABLE IF EXISTS presidents;\n",
        "%sql --persist presidents\n",
        "\n",
        "%sql DROP TABLE IF EXISTS prime_minister_terms;\n",
        "%sql --persist prime_minister_terms\n",
        "\n",
        "%sql DROP TABLE IF EXISTS prime_ministers;\n",
        "%sql --persist prime_ministers\n",
        "\n",
        "%sql DROP TABLE IF EXISTS states;\n",
        "%sql --persist states"
      ],
      "metadata": {
        "colab": {
          "base_uri": "https://localhost:8080/",
          "height": 0
        },
        "id": "gCxdrMMXi34q",
        "outputId": "56a28bda-fad6-4315-bdef-c4e2f7aebf9c"
      },
      "execution_count": 23,
      "outputs": [
        {
          "output_type": "stream",
          "name": "stdout",
          "text": [
            " * sqlite://\n",
            "Done.\n",
            " * sqlite://\n",
            " * sqlite://\n",
            "Done.\n",
            " * sqlite://\n",
            " * sqlite://\n",
            "Done.\n",
            " * sqlite://\n",
            " * sqlite://\n",
            "Done.\n",
            " * sqlite://\n",
            " * sqlite://\n",
            "Done.\n",
            " * sqlite://\n"
          ]
        },
        {
          "output_type": "execute_result",
          "data": {
            "text/plain": [
              "'Persisted states'"
            ],
            "application/vnd.google.colaboratory.intrinsic+json": {
              "type": "string"
            }
          },
          "metadata": {},
          "execution_count": 23
        }
      ]
    },
    {
      "cell_type": "markdown",
      "source": [
        "### Class work"
      ],
      "metadata": {
        "id": "Xp8q7BO4lq4q"
      }
    },
    {
      "cell_type": "markdown",
      "source": [
        "#### Part 1"
      ],
      "metadata": {
        "id": "Ds4KXfUIlsXa"
      }
    },
    {
      "cell_type": "markdown",
      "source": [
        "##### All"
      ],
      "metadata": {
        "id": "GhtOpH22Dey5"
      }
    },
    {
      "cell_type": "code",
      "source": [
        "%%sql\n",
        "SELECT continent, COUNT(country) AS number_of_countries\n",
        "FROM states\n",
        "GROUP BY continent\n",
        "ORDER BY number_of_countries DESC"
      ],
      "metadata": {
        "colab": {
          "base_uri": "https://localhost:8080/",
          "height": 203
        },
        "id": "dORf5X68lyU2",
        "outputId": "f50a46aa-39e8-4f3e-f54c-6341de86bc72"
      },
      "execution_count": 25,
      "outputs": [
        {
          "output_type": "stream",
          "name": "stdout",
          "text": [
            " * sqlite://\n",
            "Done.\n"
          ]
        },
        {
          "output_type": "execute_result",
          "data": {
            "text/plain": [
              "[('Asia', 4),\n",
              " ('South America', 2),\n",
              " ('Europe', 2),\n",
              " ('Oceania', 1),\n",
              " ('North America', 1),\n",
              " ('Africa', 1)]"
            ],
            "text/html": [
              "<table>\n",
              "    <thead>\n",
              "        <tr>\n",
              "            <th>continent</th>\n",
              "            <th>number_of_countries</th>\n",
              "        </tr>\n",
              "    </thead>\n",
              "    <tbody>\n",
              "        <tr>\n",
              "            <td>Asia</td>\n",
              "            <td>4</td>\n",
              "        </tr>\n",
              "        <tr>\n",
              "            <td>South America</td>\n",
              "            <td>2</td>\n",
              "        </tr>\n",
              "        <tr>\n",
              "            <td>Europe</td>\n",
              "            <td>2</td>\n",
              "        </tr>\n",
              "        <tr>\n",
              "            <td>Oceania</td>\n",
              "            <td>1</td>\n",
              "        </tr>\n",
              "        <tr>\n",
              "            <td>North America</td>\n",
              "            <td>1</td>\n",
              "        </tr>\n",
              "        <tr>\n",
              "            <td>Africa</td>\n",
              "            <td>1</td>\n",
              "        </tr>\n",
              "    </tbody>\n",
              "</table>"
            ]
          },
          "metadata": {},
          "execution_count": 25
        }
      ]
    },
    {
      "cell_type": "code",
      "source": [
        "%%sql SELECT AVG(indep_year)\n",
        "FROM states;"
      ],
      "metadata": {
        "colab": {
          "base_uri": "https://localhost:8080/",
          "height": 96
        },
        "id": "bk0z9gvVmAvL",
        "outputId": "cb0c802c-faa8-442b-ae2a-df07bb6d74b9"
      },
      "execution_count": 27,
      "outputs": [
        {
          "output_type": "stream",
          "name": "stdout",
          "text": [
            " * sqlite://\n",
            "Done.\n"
          ]
        },
        {
          "output_type": "execute_result",
          "data": {
            "text/plain": [
              "[(1829.0,)]"
            ],
            "text/html": [
              "<table>\n",
              "    <thead>\n",
              "        <tr>\n",
              "            <th>AVG(indep_year)</th>\n",
              "        </tr>\n",
              "    </thead>\n",
              "    <tbody>\n",
              "        <tr>\n",
              "            <td>1829.0</td>\n",
              "        </tr>\n",
              "    </tbody>\n",
              "</table>"
            ]
          },
          "metadata": {},
          "execution_count": 27
        }
      ]
    },
    {
      "cell_type": "code",
      "source": [
        "%%sql SELECT AVG(indep_year)\n",
        "FROM states\n",
        "WHERE indep_year > 200;"
      ],
      "metadata": {
        "colab": {
          "base_uri": "https://localhost:8080/",
          "height": 96
        },
        "id": "oTAQUZZumNgm",
        "outputId": "5ffa8b23-e424-4e1c-ddb4-aaeb747f6684"
      },
      "execution_count": 28,
      "outputs": [
        {
          "output_type": "stream",
          "name": "stdout",
          "text": [
            " * sqlite://\n",
            "Done.\n"
          ]
        },
        {
          "output_type": "execute_result",
          "data": {
            "text/plain": [
              "[(1829.0,)]"
            ],
            "text/html": [
              "<table>\n",
              "    <thead>\n",
              "        <tr>\n",
              "            <th>AVG(indep_year)</th>\n",
              "        </tr>\n",
              "    </thead>\n",
              "    <tbody>\n",
              "        <tr>\n",
              "            <td>1829.0</td>\n",
              "        </tr>\n",
              "    </tbody>\n",
              "</table>"
            ]
          },
          "metadata": {},
          "execution_count": 28
        }
      ]
    },
    {
      "cell_type": "code",
      "source": [
        "%%sql SELECT continent, COUNT(prime_minister) AS number_of_prime_ministers\n",
        "FROM prime_ministers\n",
        "GROUP BY continent\n",
        "ORDER BY number_of_prime_ministers DESC;"
      ],
      "metadata": {
        "colab": {
          "base_uri": "https://localhost:8080/",
          "height": 161
        },
        "id": "muWJ4VBDmVrH",
        "outputId": "a56640d0-e54b-45ee-c7bf-c15356b4fa78"
      },
      "execution_count": 31,
      "outputs": [
        {
          "output_type": "stream",
          "name": "stdout",
          "text": [
            " * sqlite://\n",
            "Done.\n"
          ]
        },
        {
          "output_type": "execute_result",
          "data": {
            "text/plain": [
              "[('Asia', 4), ('Europe', 3), ('Oceania', 2), ('Africa', 1)]"
            ],
            "text/html": [
              "<table>\n",
              "    <thead>\n",
              "        <tr>\n",
              "            <th>continent</th>\n",
              "            <th>number_of_prime_ministers</th>\n",
              "        </tr>\n",
              "    </thead>\n",
              "    <tbody>\n",
              "        <tr>\n",
              "            <td>Asia</td>\n",
              "            <td>4</td>\n",
              "        </tr>\n",
              "        <tr>\n",
              "            <td>Europe</td>\n",
              "            <td>3</td>\n",
              "        </tr>\n",
              "        <tr>\n",
              "            <td>Oceania</td>\n",
              "            <td>2</td>\n",
              "        </tr>\n",
              "        <tr>\n",
              "            <td>Africa</td>\n",
              "            <td>1</td>\n",
              "        </tr>\n",
              "    </tbody>\n",
              "</table>"
            ]
          },
          "metadata": {},
          "execution_count": 31
        }
      ]
    },
    {
      "cell_type": "code",
      "source": [
        "%%sql SELECT continent, COUNT(prime_minister) AS number_of_prime_ministers\n",
        "FROM prime_ministers\n",
        "GROUP BY continent\n",
        "HAVING number_of_prime_ministers > 10\n",
        "ORDER BY number_of_prime_ministers DESC;"
      ],
      "metadata": {
        "colab": {
          "base_uri": "https://localhost:8080/",
          "height": 75
        },
        "id": "9HBr4Kz0mmNN",
        "outputId": "76238428-2b55-4eae-d8b4-330d890ccde1"
      },
      "execution_count": 32,
      "outputs": [
        {
          "output_type": "stream",
          "name": "stdout",
          "text": [
            " * sqlite://\n",
            "Done.\n"
          ]
        },
        {
          "output_type": "execute_result",
          "data": {
            "text/plain": [
              "[]"
            ],
            "text/html": [
              "<table>\n",
              "    <thead>\n",
              "        <tr>\n",
              "            <th>continent</th>\n",
              "            <th>number_of_prime_ministers</th>\n",
              "        </tr>\n",
              "    </thead>\n",
              "    <tbody>\n",
              "    </tbody>\n",
              "</table>"
            ]
          },
          "metadata": {},
          "execution_count": 32
        }
      ]
    },
    {
      "cell_type": "code",
      "source": [
        "%%sql SELECT prime_minister, pm_start\n",
        "FROM prime_minister_terms\n",
        "ORDER BY pm_start DESC\n",
        "LIMIT 1;"
      ],
      "metadata": {
        "colab": {
          "base_uri": "https://localhost:8080/",
          "height": 96
        },
        "id": "0lukc5y8m4jU",
        "outputId": "2aa9f10c-2e9c-49b5-e3d6-92d9361cb668"
      },
      "execution_count": 34,
      "outputs": [
        {
          "output_type": "stream",
          "name": "stdout",
          "text": [
            " * sqlite://\n",
            "Done.\n"
          ]
        },
        {
          "output_type": "execute_result",
          "data": {
            "text/plain": [
              "[('Shehbaz Sharif', 2022)]"
            ],
            "text/html": [
              "<table>\n",
              "    <thead>\n",
              "        <tr>\n",
              "            <th>prime_minister</th>\n",
              "            <th>pm_start</th>\n",
              "        </tr>\n",
              "    </thead>\n",
              "    <tbody>\n",
              "        <tr>\n",
              "            <td>Shehbaz Sharif</td>\n",
              "            <td>2022</td>\n",
              "        </tr>\n",
              "    </tbody>\n",
              "</table>"
            ]
          },
          "metadata": {},
          "execution_count": 34
        }
      ]
    },
    {
      "cell_type": "code",
      "source": [
        "%%sql SELECT prime_minister, MAX(pm_start)\n",
        "FROM prime_minister_terms;"
      ],
      "metadata": {
        "colab": {
          "base_uri": "https://localhost:8080/",
          "height": 96
        },
        "id": "lYqxVKbmnTiw",
        "outputId": "31624227-89ab-46d5-b9f6-55f21634a539"
      },
      "execution_count": 36,
      "outputs": [
        {
          "output_type": "stream",
          "name": "stdout",
          "text": [
            " * sqlite://\n",
            "Done.\n"
          ]
        },
        {
          "output_type": "execute_result",
          "data": {
            "text/plain": [
              "[('Shehbaz Sharif', 2022)]"
            ],
            "text/html": [
              "<table>\n",
              "    <thead>\n",
              "        <tr>\n",
              "            <th>prime_minister</th>\n",
              "            <th>MAX(pm_start)</th>\n",
              "        </tr>\n",
              "    </thead>\n",
              "    <tbody>\n",
              "        <tr>\n",
              "            <td>Shehbaz Sharif</td>\n",
              "            <td>2022</td>\n",
              "        </tr>\n",
              "    </tbody>\n",
              "</table>"
            ]
          },
          "metadata": {},
          "execution_count": 36
        }
      ]
    },
    {
      "cell_type": "code",
      "source": [
        "%%sql SELECT continent, COUNT(*) AS number_of_states\n",
        "FROM monarchs\n",
        "GROUP BY continent\n",
        "ORDER BY number_of_states;"
      ],
      "metadata": {
        "colab": {
          "base_uri": "https://localhost:8080/",
          "height": 118
        },
        "id": "1RY89DuYnnQ2",
        "outputId": "37984de0-d9c3-4810-b8ed-434f4cbc0d43"
      },
      "execution_count": 37,
      "outputs": [
        {
          "output_type": "stream",
          "name": "stdout",
          "text": [
            " * sqlite://\n",
            "Done.\n"
          ]
        },
        {
          "output_type": "execute_result",
          "data": {
            "text/plain": [
              "[('Asia', 2), ('Europe', 2)]"
            ],
            "text/html": [
              "<table>\n",
              "    <thead>\n",
              "        <tr>\n",
              "            <th>continent</th>\n",
              "            <th>number_of_states</th>\n",
              "        </tr>\n",
              "    </thead>\n",
              "    <tbody>\n",
              "        <tr>\n",
              "            <td>Asia</td>\n",
              "            <td>2</td>\n",
              "        </tr>\n",
              "        <tr>\n",
              "            <td>Europe</td>\n",
              "            <td>2</td>\n",
              "        </tr>\n",
              "    </tbody>\n",
              "</table>"
            ]
          },
          "metadata": {},
          "execution_count": 37
        }
      ]
    },
    {
      "cell_type": "code",
      "source": [
        "%%sql SELECT continent,\n",
        "      (SELECT COUNT(*)\n",
        "       FROM monarchs\n",
        "       WHERE monarchs.continent = states.continent) AS number_of_states\n",
        "FROM states\n",
        "GROUP BY continent\n",
        "ORDER BY number_of_states;"
      ],
      "metadata": {
        "colab": {
          "base_uri": "https://localhost:8080/",
          "height": 203
        },
        "id": "d-h6JzUwn_Eg",
        "outputId": "5d0d3c2d-1263-4b10-f826-82e39f527679"
      },
      "execution_count": 38,
      "outputs": [
        {
          "output_type": "stream",
          "name": "stdout",
          "text": [
            " * sqlite://\n",
            "Done.\n"
          ]
        },
        {
          "output_type": "execute_result",
          "data": {
            "text/plain": [
              "[('Africa', 0),\n",
              " ('North America', 0),\n",
              " ('Oceania', 0),\n",
              " ('South America', 0),\n",
              " ('Asia', 2),\n",
              " ('Europe', 2)]"
            ],
            "text/html": [
              "<table>\n",
              "    <thead>\n",
              "        <tr>\n",
              "            <th>continent</th>\n",
              "            <th>number_of_states</th>\n",
              "        </tr>\n",
              "    </thead>\n",
              "    <tbody>\n",
              "        <tr>\n",
              "            <td>Africa</td>\n",
              "            <td>0</td>\n",
              "        </tr>\n",
              "        <tr>\n",
              "            <td>North America</td>\n",
              "            <td>0</td>\n",
              "        </tr>\n",
              "        <tr>\n",
              "            <td>Oceania</td>\n",
              "            <td>0</td>\n",
              "        </tr>\n",
              "        <tr>\n",
              "            <td>South America</td>\n",
              "            <td>0</td>\n",
              "        </tr>\n",
              "        <tr>\n",
              "            <td>Asia</td>\n",
              "            <td>2</td>\n",
              "        </tr>\n",
              "        <tr>\n",
              "            <td>Europe</td>\n",
              "            <td>2</td>\n",
              "        </tr>\n",
              "    </tbody>\n",
              "</table>"
            ]
          },
          "metadata": {},
          "execution_count": 38
        }
      ]
    },
    {
      "cell_type": "code",
      "source": [
        "%%sql SELECT continent,\n",
        "      (SELECT COUNT(*)\n",
        "       FROM monarchs\n",
        "       WHERE monarchs.continent = states.continent) AS number_of_states\n",
        "FROM states\n",
        "GROUP BY continent\n",
        "ORDER BY number_of_states DESC;"
      ],
      "metadata": {
        "colab": {
          "base_uri": "https://localhost:8080/",
          "height": 203
        },
        "id": "8HF0bgHRpW8l",
        "outputId": "384dfb8c-9465-4a3a-e4ff-f0cd6c19ff86"
      },
      "execution_count": 40,
      "outputs": [
        {
          "output_type": "stream",
          "name": "stdout",
          "text": [
            " * sqlite://\n",
            "Done.\n"
          ]
        },
        {
          "output_type": "execute_result",
          "data": {
            "text/plain": [
              "[('Europe', 2),\n",
              " ('Asia', 2),\n",
              " ('South America', 0),\n",
              " ('Oceania', 0),\n",
              " ('North America', 0),\n",
              " ('Africa', 0)]"
            ],
            "text/html": [
              "<table>\n",
              "    <thead>\n",
              "        <tr>\n",
              "            <th>continent</th>\n",
              "            <th>number_of_states</th>\n",
              "        </tr>\n",
              "    </thead>\n",
              "    <tbody>\n",
              "        <tr>\n",
              "            <td>Europe</td>\n",
              "            <td>2</td>\n",
              "        </tr>\n",
              "        <tr>\n",
              "            <td>Asia</td>\n",
              "            <td>2</td>\n",
              "        </tr>\n",
              "        <tr>\n",
              "            <td>South America</td>\n",
              "            <td>0</td>\n",
              "        </tr>\n",
              "        <tr>\n",
              "            <td>Oceania</td>\n",
              "            <td>0</td>\n",
              "        </tr>\n",
              "        <tr>\n",
              "            <td>North America</td>\n",
              "            <td>0</td>\n",
              "        </tr>\n",
              "        <tr>\n",
              "            <td>Africa</td>\n",
              "            <td>0</td>\n",
              "        </tr>\n",
              "    </tbody>\n",
              "</table>"
            ]
          },
          "metadata": {},
          "execution_count": 40
        }
      ]
    },
    {
      "cell_type": "code",
      "source": [
        "%%sql SELECT prime_minister, MAX(pm_start) AS last_term\n",
        "FROM prime_minister_terms\n",
        "GROUP BY prime_minister\n",
        "HAVING last_term > 2000;"
      ],
      "metadata": {
        "colab": {
          "base_uri": "https://localhost:8080/",
          "height": 267
        },
        "id": "faTXzQpwqNRy",
        "outputId": "f3a93c48-ff22-4540-e188-efa68401453e"
      },
      "execution_count": 43,
      "outputs": [
        {
          "output_type": "stream",
          "name": "stdout",
          "text": [
            " * sqlite://\n",
            "Done.\n"
          ]
        },
        {
          "output_type": "execute_result",
          "data": {
            "text/plain": [
              "[('António Costa', 2015),\n",
              " ('Boris Johnson', 2019),\n",
              " ('Haitham bin Tarik', 2020),\n",
              " ('Jacinda Ardern', 2017),\n",
              " ('Jonas Gahr Støre', 2021),\n",
              " ('Mostafa Madbouly', 2018),\n",
              " ('Narendra Modi', 2014),\n",
              " ('Scott Morrison', 2018),\n",
              " ('Shehbaz Sharif', 2022)]"
            ],
            "text/html": [
              "<table>\n",
              "    <thead>\n",
              "        <tr>\n",
              "            <th>prime_minister</th>\n",
              "            <th>last_term</th>\n",
              "        </tr>\n",
              "    </thead>\n",
              "    <tbody>\n",
              "        <tr>\n",
              "            <td>António Costa</td>\n",
              "            <td>2015</td>\n",
              "        </tr>\n",
              "        <tr>\n",
              "            <td>Boris Johnson</td>\n",
              "            <td>2019</td>\n",
              "        </tr>\n",
              "        <tr>\n",
              "            <td>Haitham bin Tarik</td>\n",
              "            <td>2020</td>\n",
              "        </tr>\n",
              "        <tr>\n",
              "            <td>Jacinda Ardern</td>\n",
              "            <td>2017</td>\n",
              "        </tr>\n",
              "        <tr>\n",
              "            <td>Jonas Gahr Støre</td>\n",
              "            <td>2021</td>\n",
              "        </tr>\n",
              "        <tr>\n",
              "            <td>Mostafa Madbouly</td>\n",
              "            <td>2018</td>\n",
              "        </tr>\n",
              "        <tr>\n",
              "            <td>Narendra Modi</td>\n",
              "            <td>2014</td>\n",
              "        </tr>\n",
              "        <tr>\n",
              "            <td>Scott Morrison</td>\n",
              "            <td>2018</td>\n",
              "        </tr>\n",
              "        <tr>\n",
              "            <td>Shehbaz Sharif</td>\n",
              "            <td>2022</td>\n",
              "        </tr>\n",
              "    </tbody>\n",
              "</table>"
            ]
          },
          "metadata": {},
          "execution_count": 43
        }
      ]
    },
    {
      "cell_type": "code",
      "source": [
        "%%sql SELECT prime_minister, MAX(pm_start) AS last_term\n",
        "FROM prime_minister_terms\n",
        "GROUP BY prime_minister;"
      ],
      "metadata": {
        "colab": {
          "base_uri": "https://localhost:8080/",
          "height": 289
        },
        "id": "VKXhrCBprI8k",
        "outputId": "aaf1ba89-4d4a-4288-c71b-c6919d4a69bb"
      },
      "execution_count": 44,
      "outputs": [
        {
          "output_type": "stream",
          "name": "stdout",
          "text": [
            " * sqlite://\n",
            "Done.\n"
          ]
        },
        {
          "output_type": "execute_result",
          "data": {
            "text/plain": [
              "[('António Costa', 2015),\n",
              " ('Boris Johnson', 2019),\n",
              " ('Haitham bin Tarik', 2020),\n",
              " ('Hassanal Bolkiah', 1984),\n",
              " ('Jacinda Ardern', 2017),\n",
              " ('Jonas Gahr Støre', 2021),\n",
              " ('Mostafa Madbouly', 2018),\n",
              " ('Narendra Modi', 2014),\n",
              " ('Scott Morrison', 2018),\n",
              " ('Shehbaz Sharif', 2022)]"
            ],
            "text/html": [
              "<table>\n",
              "    <thead>\n",
              "        <tr>\n",
              "            <th>prime_minister</th>\n",
              "            <th>last_term</th>\n",
              "        </tr>\n",
              "    </thead>\n",
              "    <tbody>\n",
              "        <tr>\n",
              "            <td>António Costa</td>\n",
              "            <td>2015</td>\n",
              "        </tr>\n",
              "        <tr>\n",
              "            <td>Boris Johnson</td>\n",
              "            <td>2019</td>\n",
              "        </tr>\n",
              "        <tr>\n",
              "            <td>Haitham bin Tarik</td>\n",
              "            <td>2020</td>\n",
              "        </tr>\n",
              "        <tr>\n",
              "            <td>Hassanal Bolkiah</td>\n",
              "            <td>1984</td>\n",
              "        </tr>\n",
              "        <tr>\n",
              "            <td>Jacinda Ardern</td>\n",
              "            <td>2017</td>\n",
              "        </tr>\n",
              "        <tr>\n",
              "            <td>Jonas Gahr Støre</td>\n",
              "            <td>2021</td>\n",
              "        </tr>\n",
              "        <tr>\n",
              "            <td>Mostafa Madbouly</td>\n",
              "            <td>2018</td>\n",
              "        </tr>\n",
              "        <tr>\n",
              "            <td>Narendra Modi</td>\n",
              "            <td>2014</td>\n",
              "        </tr>\n",
              "        <tr>\n",
              "            <td>Scott Morrison</td>\n",
              "            <td>2018</td>\n",
              "        </tr>\n",
              "        <tr>\n",
              "            <td>Shehbaz Sharif</td>\n",
              "            <td>2022</td>\n",
              "        </tr>\n",
              "    </tbody>\n",
              "</table>"
            ]
          },
          "metadata": {},
          "execution_count": 44
        }
      ]
    },
    {
      "cell_type": "code",
      "source": [
        "%%sql SELECT prime_minister, MAX(pm_start) AS last_term\n",
        "FROM prime_minister_terms\n",
        "GROUP BY prime_minister\n",
        "HAVING pm_start > 2000;"
      ],
      "metadata": {
        "colab": {
          "base_uri": "https://localhost:8080/",
          "height": 267
        },
        "id": "pFIcm2WLrSMW",
        "outputId": "a7f21b56-ea98-45aa-e50d-df005d74d51c"
      },
      "execution_count": 45,
      "outputs": [
        {
          "output_type": "stream",
          "name": "stdout",
          "text": [
            " * sqlite://\n",
            "Done.\n"
          ]
        },
        {
          "output_type": "execute_result",
          "data": {
            "text/plain": [
              "[('António Costa', 2015),\n",
              " ('Boris Johnson', 2019),\n",
              " ('Haitham bin Tarik', 2020),\n",
              " ('Jacinda Ardern', 2017),\n",
              " ('Jonas Gahr Støre', 2021),\n",
              " ('Mostafa Madbouly', 2018),\n",
              " ('Narendra Modi', 2014),\n",
              " ('Scott Morrison', 2018),\n",
              " ('Shehbaz Sharif', 2022)]"
            ],
            "text/html": [
              "<table>\n",
              "    <thead>\n",
              "        <tr>\n",
              "            <th>prime_minister</th>\n",
              "            <th>last_term</th>\n",
              "        </tr>\n",
              "    </thead>\n",
              "    <tbody>\n",
              "        <tr>\n",
              "            <td>António Costa</td>\n",
              "            <td>2015</td>\n",
              "        </tr>\n",
              "        <tr>\n",
              "            <td>Boris Johnson</td>\n",
              "            <td>2019</td>\n",
              "        </tr>\n",
              "        <tr>\n",
              "            <td>Haitham bin Tarik</td>\n",
              "            <td>2020</td>\n",
              "        </tr>\n",
              "        <tr>\n",
              "            <td>Jacinda Ardern</td>\n",
              "            <td>2017</td>\n",
              "        </tr>\n",
              "        <tr>\n",
              "            <td>Jonas Gahr Støre</td>\n",
              "            <td>2021</td>\n",
              "        </tr>\n",
              "        <tr>\n",
              "            <td>Mostafa Madbouly</td>\n",
              "            <td>2018</td>\n",
              "        </tr>\n",
              "        <tr>\n",
              "            <td>Narendra Modi</td>\n",
              "            <td>2014</td>\n",
              "        </tr>\n",
              "        <tr>\n",
              "            <td>Scott Morrison</td>\n",
              "            <td>2018</td>\n",
              "        </tr>\n",
              "        <tr>\n",
              "            <td>Shehbaz Sharif</td>\n",
              "            <td>2022</td>\n",
              "        </tr>\n",
              "    </tbody>\n",
              "</table>"
            ]
          },
          "metadata": {},
          "execution_count": 45
        }
      ]
    },
    {
      "cell_type": "code",
      "source": [
        "%%sql SELECT continent, COUNT(country) AS number_of_states\n",
        "FROM prime_ministers\n",
        "WHERE country LIKE '%a%'\n",
        "GROUP BY continent;"
      ],
      "metadata": {
        "colab": {
          "base_uri": "https://localhost:8080/",
          "height": 139
        },
        "id": "DCCYyxxwum4p",
        "outputId": "789ba9f3-69b2-44a1-8d83-9ca9cda60209"
      },
      "execution_count": 56,
      "outputs": [
        {
          "output_type": "stream",
          "name": "stdout",
          "text": [
            " * sqlite://\n",
            "Done.\n"
          ]
        },
        {
          "output_type": "execute_result",
          "data": {
            "text/plain": [
              "[('Asia', 3), ('Europe', 2), ('Oceania', 2)]"
            ],
            "text/html": [
              "<table>\n",
              "    <thead>\n",
              "        <tr>\n",
              "            <th>continent</th>\n",
              "            <th>number_of_states</th>\n",
              "        </tr>\n",
              "    </thead>\n",
              "    <tbody>\n",
              "        <tr>\n",
              "            <td>Asia</td>\n",
              "            <td>3</td>\n",
              "        </tr>\n",
              "        <tr>\n",
              "            <td>Europe</td>\n",
              "            <td>2</td>\n",
              "        </tr>\n",
              "        <tr>\n",
              "            <td>Oceania</td>\n",
              "            <td>2</td>\n",
              "        </tr>\n",
              "    </tbody>\n",
              "</table>"
            ]
          },
          "metadata": {},
          "execution_count": 56
        }
      ]
    },
    {
      "cell_type": "code",
      "source": [
        "%%sql SELECT continent, COUNT(country) AS number_of_states\n",
        "FROM states\n",
        "WHERE indep_year IS NULL\n",
        "GROUP BY continent;"
      ],
      "metadata": {
        "colab": {
          "base_uri": "https://localhost:8080/",
          "height": 75
        },
        "id": "sEThY2Rpu3R1",
        "outputId": "7588a109-f611-40bb-b76e-65d7b56b6a87"
      },
      "execution_count": 51,
      "outputs": [
        {
          "output_type": "stream",
          "name": "stdout",
          "text": [
            " * sqlite://\n",
            "Done.\n"
          ]
        },
        {
          "output_type": "execute_result",
          "data": {
            "text/plain": [
              "[]"
            ],
            "text/html": [
              "<table>\n",
              "    <thead>\n",
              "        <tr>\n",
              "            <th>continent</th>\n",
              "            <th>number_of_states</th>\n",
              "        </tr>\n",
              "    </thead>\n",
              "    <tbody>\n",
              "    </tbody>\n",
              "</table>"
            ]
          },
          "metadata": {},
          "execution_count": 51
        }
      ]
    },
    {
      "cell_type": "code",
      "source": [
        "%%sql SELECT continent, COUNT(prime_minister) AS number_of_prime_ministers\n",
        "FROM prime_ministers\n",
        "WHERE prime_minister LIKE 'e%'\n",
        "GROUP BY continent;"
      ],
      "metadata": {
        "colab": {
          "base_uri": "https://localhost:8080/",
          "height": 75
        },
        "id": "En40-LyJvJ24",
        "outputId": "b57a3a47-b5d4-4173-fa70-aab3dfa2689f"
      },
      "execution_count": 54,
      "outputs": [
        {
          "output_type": "stream",
          "name": "stdout",
          "text": [
            " * sqlite://\n",
            "Done.\n"
          ]
        },
        {
          "output_type": "execute_result",
          "data": {
            "text/plain": [
              "[]"
            ],
            "text/html": [
              "<table>\n",
              "    <thead>\n",
              "        <tr>\n",
              "            <th>continent</th>\n",
              "            <th>number_of_prime_ministers</th>\n",
              "        </tr>\n",
              "    </thead>\n",
              "    <tbody>\n",
              "    </tbody>\n",
              "</table>"
            ]
          },
          "metadata": {},
          "execution_count": 54
        }
      ]
    },
    {
      "cell_type": "code",
      "source": [
        "%%sql SELECT continent, MIN(indep_year) AS first_independence\n",
        "FROM states\n",
        "GROUP BY continent\n",
        "ORDER BY first_independence;"
      ],
      "metadata": {
        "colab": {
          "base_uri": "https://localhost:8080/",
          "height": 203
        },
        "id": "JSF207hPwUt9",
        "outputId": "2857d2d6-972d-4824-f478-64e2a2034e0a"
      },
      "execution_count": 58,
      "outputs": [
        {
          "output_type": "stream",
          "name": "stdout",
          "text": [
            " * sqlite://\n",
            "Done.\n"
          ]
        },
        {
          "output_type": "execute_result",
          "data": {
            "text/plain": [
              "[('Europe', 1143),\n",
              " ('North America', 1776),\n",
              " ('South America', 1818),\n",
              " ('Oceania', 1901),\n",
              " ('Africa', 1922),\n",
              " ('Asia', 1947)]"
            ],
            "text/html": [
              "<table>\n",
              "    <thead>\n",
              "        <tr>\n",
              "            <th>continent</th>\n",
              "            <th>first_independence</th>\n",
              "        </tr>\n",
              "    </thead>\n",
              "    <tbody>\n",
              "        <tr>\n",
              "            <td>Europe</td>\n",
              "            <td>1143</td>\n",
              "        </tr>\n",
              "        <tr>\n",
              "            <td>North America</td>\n",
              "            <td>1776</td>\n",
              "        </tr>\n",
              "        <tr>\n",
              "            <td>South America</td>\n",
              "            <td>1818</td>\n",
              "        </tr>\n",
              "        <tr>\n",
              "            <td>Oceania</td>\n",
              "            <td>1901</td>\n",
              "        </tr>\n",
              "        <tr>\n",
              "            <td>Africa</td>\n",
              "            <td>1922</td>\n",
              "        </tr>\n",
              "        <tr>\n",
              "            <td>Asia</td>\n",
              "            <td>1947</td>\n",
              "        </tr>\n",
              "    </tbody>\n",
              "</table>"
            ]
          },
          "metadata": {},
          "execution_count": 58
        }
      ]
    },
    {
      "cell_type": "code",
      "source": [
        "%%sql SELECT continent, MIN(indep_year) AS first_independence\n",
        "FROM states\n",
        "WHERE indep_year > 1900\n",
        "GROUP BY continent\n",
        "ORDER BY first_independence;"
      ],
      "metadata": {
        "colab": {
          "base_uri": "https://localhost:8080/",
          "height": 161
        },
        "id": "928s51mpwpFh",
        "outputId": "4f5a86b1-9d94-4e00-8398-2abf7b2cc292"
      },
      "execution_count": 59,
      "outputs": [
        {
          "output_type": "stream",
          "name": "stdout",
          "text": [
            " * sqlite://\n",
            "Done.\n"
          ]
        },
        {
          "output_type": "execute_result",
          "data": {
            "text/plain": [
              "[('Oceania', 1901), ('Europe', 1905), ('Africa', 1922), ('Asia', 1947)]"
            ],
            "text/html": [
              "<table>\n",
              "    <thead>\n",
              "        <tr>\n",
              "            <th>continent</th>\n",
              "            <th>first_independence</th>\n",
              "        </tr>\n",
              "    </thead>\n",
              "    <tbody>\n",
              "        <tr>\n",
              "            <td>Oceania</td>\n",
              "            <td>1901</td>\n",
              "        </tr>\n",
              "        <tr>\n",
              "            <td>Europe</td>\n",
              "            <td>1905</td>\n",
              "        </tr>\n",
              "        <tr>\n",
              "            <td>Africa</td>\n",
              "            <td>1922</td>\n",
              "        </tr>\n",
              "        <tr>\n",
              "            <td>Asia</td>\n",
              "            <td>1947</td>\n",
              "        </tr>\n",
              "    </tbody>\n",
              "</table>"
            ]
          },
          "metadata": {},
          "execution_count": 59
        }
      ]
    },
    {
      "cell_type": "code",
      "source": [
        "%%sql SELECT continent, country, MIN(indep_year) AS first_independence\n",
        "FROM states\n",
        "WHERE indep_year > 1900\n",
        "GROUP BY continent, country\n",
        "HAVING first_independence = indep_year\n",
        "ORDER BY first_independence;"
      ],
      "metadata": {
        "colab": {
          "base_uri": "https://localhost:8080/",
          "height": 225
        },
        "id": "bCHVBeJ5w2Sd",
        "outputId": "d0862aa3-9225-4574-9e69-d71671854417"
      },
      "execution_count": 62,
      "outputs": [
        {
          "output_type": "stream",
          "name": "stdout",
          "text": [
            " * sqlite://\n",
            "Done.\n"
          ]
        },
        {
          "output_type": "execute_result",
          "data": {
            "text/plain": [
              "[('Oceania', 'Australia', 1901),\n",
              " ('Europe', 'Norway', 1905),\n",
              " ('Africa', 'Egypt', 1922),\n",
              " ('Asia', 'India', 1947),\n",
              " ('Asia', 'Pakistan', 1947),\n",
              " ('Asia', 'Oman', 1951),\n",
              " ('Asia', 'Brunei', 1984)]"
            ],
            "text/html": [
              "<table>\n",
              "    <thead>\n",
              "        <tr>\n",
              "            <th>continent</th>\n",
              "            <th>country</th>\n",
              "            <th>first_independence</th>\n",
              "        </tr>\n",
              "    </thead>\n",
              "    <tbody>\n",
              "        <tr>\n",
              "            <td>Oceania</td>\n",
              "            <td>Australia</td>\n",
              "            <td>1901</td>\n",
              "        </tr>\n",
              "        <tr>\n",
              "            <td>Europe</td>\n",
              "            <td>Norway</td>\n",
              "            <td>1905</td>\n",
              "        </tr>\n",
              "        <tr>\n",
              "            <td>Africa</td>\n",
              "            <td>Egypt</td>\n",
              "            <td>1922</td>\n",
              "        </tr>\n",
              "        <tr>\n",
              "            <td>Asia</td>\n",
              "            <td>India</td>\n",
              "            <td>1947</td>\n",
              "        </tr>\n",
              "        <tr>\n",
              "            <td>Asia</td>\n",
              "            <td>Pakistan</td>\n",
              "            <td>1947</td>\n",
              "        </tr>\n",
              "        <tr>\n",
              "            <td>Asia</td>\n",
              "            <td>Oman</td>\n",
              "            <td>1951</td>\n",
              "        </tr>\n",
              "        <tr>\n",
              "            <td>Asia</td>\n",
              "            <td>Brunei</td>\n",
              "            <td>1984</td>\n",
              "        </tr>\n",
              "    </tbody>\n",
              "</table>"
            ]
          },
          "metadata": {},
          "execution_count": 62
        }
      ]
    },
    {
      "cell_type": "markdown",
      "source": [
        "#### Part 2\n"
      ],
      "metadata": {
        "id": "gBMm9gr0xz-U"
      }
    },
    {
      "cell_type": "markdown",
      "source": [
        "###### JOINS"
      ],
      "metadata": {
        "id": "N3vBq0CnDS85"
      }
    },
    {
      "cell_type": "code",
      "source": [
        "%%sql SELECT s.country, p.president, s.indep_year\n",
        "FROM states AS s\n",
        "INNER JOIN presidents AS p\n",
        "ON s.country = p.country\n",
        "WHERE s.indep_year IS NOT NULL\n",
        "ORDER BY s.indep_year;"
      ],
      "metadata": {
        "colab": {
          "base_uri": "https://localhost:8080/",
          "height": 225
        },
        "id": "vsd2Pg9Lx59G",
        "outputId": "a3e06ccc-1c25-4798-f9c5-0bf436e59258"
      },
      "execution_count": 74,
      "outputs": [
        {
          "output_type": "stream",
          "name": "stdout",
          "text": [
            " * sqlite://\n",
            "Done.\n"
          ]
        },
        {
          "output_type": "execute_result",
          "data": {
            "text/plain": [
              "[('Portugal', 'Marcelo Rebelo de Sousa', 1143),\n",
              " ('USA', 'Joe Biden', 1776),\n",
              " ('Chile', 'Gabriel Boric', 1818),\n",
              " ('Uruguay', 'Luis Lacalle Pou', 1825),\n",
              " ('Egypt', 'Abdel Fattah el-Sisi', 1922),\n",
              " ('India', 'Ram Nath Kovind', 1947),\n",
              " ('Pakistan', 'Arif Alvi', 1947)]"
            ],
            "text/html": [
              "<table>\n",
              "    <thead>\n",
              "        <tr>\n",
              "            <th>country</th>\n",
              "            <th>president</th>\n",
              "            <th>indep_year</th>\n",
              "        </tr>\n",
              "    </thead>\n",
              "    <tbody>\n",
              "        <tr>\n",
              "            <td>Portugal</td>\n",
              "            <td>Marcelo Rebelo de Sousa</td>\n",
              "            <td>1143</td>\n",
              "        </tr>\n",
              "        <tr>\n",
              "            <td>USA</td>\n",
              "            <td>Joe Biden</td>\n",
              "            <td>1776</td>\n",
              "        </tr>\n",
              "        <tr>\n",
              "            <td>Chile</td>\n",
              "            <td>Gabriel Boric</td>\n",
              "            <td>1818</td>\n",
              "        </tr>\n",
              "        <tr>\n",
              "            <td>Uruguay</td>\n",
              "            <td>Luis Lacalle Pou</td>\n",
              "            <td>1825</td>\n",
              "        </tr>\n",
              "        <tr>\n",
              "            <td>Egypt</td>\n",
              "            <td>Abdel Fattah el-Sisi</td>\n",
              "            <td>1922</td>\n",
              "        </tr>\n",
              "        <tr>\n",
              "            <td>India</td>\n",
              "            <td>Ram Nath Kovind</td>\n",
              "            <td>1947</td>\n",
              "        </tr>\n",
              "        <tr>\n",
              "            <td>Pakistan</td>\n",
              "            <td>Arif Alvi</td>\n",
              "            <td>1947</td>\n",
              "        </tr>\n",
              "    </tbody>\n",
              "</table>"
            ]
          },
          "metadata": {},
          "execution_count": 74
        }
      ]
    },
    {
      "cell_type": "code",
      "source": [
        "%%sql SELECT s.country, p.prime_minister\n",
        "FROM states AS s\n",
        "INNER JOIN prime_ministers AS p\n",
        "ON s.country = p.country;"
      ],
      "metadata": {
        "colab": {
          "base_uri": "https://localhost:8080/",
          "height": 246
        },
        "id": "y9btW5mP0voI",
        "outputId": "89b5430f-8d2e-439e-d874-dc0e171445de"
      },
      "execution_count": 76,
      "outputs": [
        {
          "output_type": "stream",
          "name": "stdout",
          "text": [
            " * sqlite://\n",
            "Done.\n"
          ]
        },
        {
          "output_type": "execute_result",
          "data": {
            "text/plain": [
              "[('Australia', 'Scott Morrison'),\n",
              " ('Brunei', 'Hassanal Bolkiah'),\n",
              " ('Egypt', 'Mostafa Madbouly'),\n",
              " ('India', 'Narendra Modi'),\n",
              " ('Norway', 'Jonas Gahr Støre'),\n",
              " ('Oman', 'Haitham bin Tarik'),\n",
              " ('Pakistan', 'Shehbaz Sharif'),\n",
              " ('Portugal', 'António Costa')]"
            ],
            "text/html": [
              "<table>\n",
              "    <thead>\n",
              "        <tr>\n",
              "            <th>country</th>\n",
              "            <th>prime_minister</th>\n",
              "        </tr>\n",
              "    </thead>\n",
              "    <tbody>\n",
              "        <tr>\n",
              "            <td>Australia</td>\n",
              "            <td>Scott Morrison</td>\n",
              "        </tr>\n",
              "        <tr>\n",
              "            <td>Brunei</td>\n",
              "            <td>Hassanal Bolkiah</td>\n",
              "        </tr>\n",
              "        <tr>\n",
              "            <td>Egypt</td>\n",
              "            <td>Mostafa Madbouly</td>\n",
              "        </tr>\n",
              "        <tr>\n",
              "            <td>India</td>\n",
              "            <td>Narendra Modi</td>\n",
              "        </tr>\n",
              "        <tr>\n",
              "            <td>Norway</td>\n",
              "            <td>Jonas Gahr Støre</td>\n",
              "        </tr>\n",
              "        <tr>\n",
              "            <td>Oman</td>\n",
              "            <td>Haitham bin Tarik</td>\n",
              "        </tr>\n",
              "        <tr>\n",
              "            <td>Pakistan</td>\n",
              "            <td>Shehbaz Sharif</td>\n",
              "        </tr>\n",
              "        <tr>\n",
              "            <td>Portugal</td>\n",
              "            <td>António Costa</td>\n",
              "        </tr>\n",
              "    </tbody>\n",
              "</table>"
            ]
          },
          "metadata": {},
          "execution_count": 76
        }
      ]
    },
    {
      "cell_type": "code",
      "source": [
        "%%sql SELECT s.country, prime_minister\n",
        "FROM states AS s\n",
        "LEFT JOIN prime_ministers AS p\n",
        "ON s.country = p.country;"
      ],
      "metadata": {
        "colab": {
          "base_uri": "https://localhost:8080/",
          "height": 310
        },
        "id": "uOLZy-uu2wUC",
        "outputId": "028a1544-3293-4c55-aa07-1c8a4ab969fe"
      },
      "execution_count": 82,
      "outputs": [
        {
          "output_type": "stream",
          "name": "stdout",
          "text": [
            " * sqlite://\n",
            "Done.\n"
          ]
        },
        {
          "output_type": "execute_result",
          "data": {
            "text/plain": [
              "[('Australia', 'Scott Morrison'),\n",
              " ('Brunei', 'Hassanal Bolkiah'),\n",
              " ('Chile', None),\n",
              " ('Egypt', 'Mostafa Madbouly'),\n",
              " ('India', 'Narendra Modi'),\n",
              " ('Norway', 'Jonas Gahr Støre'),\n",
              " ('Oman', 'Haitham bin Tarik'),\n",
              " ('Pakistan', 'Shehbaz Sharif'),\n",
              " ('Portugal', 'António Costa'),\n",
              " ('Uruguay', None),\n",
              " ('USA', None)]"
            ],
            "text/html": [
              "<table>\n",
              "    <thead>\n",
              "        <tr>\n",
              "            <th>country</th>\n",
              "            <th>prime_minister</th>\n",
              "        </tr>\n",
              "    </thead>\n",
              "    <tbody>\n",
              "        <tr>\n",
              "            <td>Australia</td>\n",
              "            <td>Scott Morrison</td>\n",
              "        </tr>\n",
              "        <tr>\n",
              "            <td>Brunei</td>\n",
              "            <td>Hassanal Bolkiah</td>\n",
              "        </tr>\n",
              "        <tr>\n",
              "            <td>Chile</td>\n",
              "            <td>None</td>\n",
              "        </tr>\n",
              "        <tr>\n",
              "            <td>Egypt</td>\n",
              "            <td>Mostafa Madbouly</td>\n",
              "        </tr>\n",
              "        <tr>\n",
              "            <td>India</td>\n",
              "            <td>Narendra Modi</td>\n",
              "        </tr>\n",
              "        <tr>\n",
              "            <td>Norway</td>\n",
              "            <td>Jonas Gahr Støre</td>\n",
              "        </tr>\n",
              "        <tr>\n",
              "            <td>Oman</td>\n",
              "            <td>Haitham bin Tarik</td>\n",
              "        </tr>\n",
              "        <tr>\n",
              "            <td>Pakistan</td>\n",
              "            <td>Shehbaz Sharif</td>\n",
              "        </tr>\n",
              "        <tr>\n",
              "            <td>Portugal</td>\n",
              "            <td>António Costa</td>\n",
              "        </tr>\n",
              "        <tr>\n",
              "            <td>Uruguay</td>\n",
              "            <td>None</td>\n",
              "        </tr>\n",
              "        <tr>\n",
              "            <td>USA</td>\n",
              "            <td>None</td>\n",
              "        </tr>\n",
              "    </tbody>\n",
              "</table>"
            ]
          },
          "metadata": {},
          "execution_count": 82
        }
      ]
    },
    {
      "cell_type": "code",
      "source": [
        "%%sql SELECT monarch, s.country\n",
        "FROM monarchs\n",
        "CROSS JOIN states AS s;"
      ],
      "metadata": {
        "colab": {
          "base_uri": "https://localhost:8080/",
          "height": 1000
        },
        "id": "E88FznLZ3QII",
        "outputId": "00c24bbe-3ab3-49a9-e103-17ae50acd195"
      },
      "execution_count": 88,
      "outputs": [
        {
          "output_type": "stream",
          "name": "stdout",
          "text": [
            " * sqlite://\n",
            "Done.\n"
          ]
        },
        {
          "output_type": "execute_result",
          "data": {
            "text/plain": [
              "[('Hassanal Bolkiah', 'Australia'),\n",
              " ('Hassanal Bolkiah', 'Brunei'),\n",
              " ('Hassanal Bolkiah', 'Chile'),\n",
              " ('Hassanal Bolkiah', 'Egypt'),\n",
              " ('Hassanal Bolkiah', 'India'),\n",
              " ('Hassanal Bolkiah', 'Norway'),\n",
              " ('Hassanal Bolkiah', 'Oman'),\n",
              " ('Hassanal Bolkiah', 'Pakistan'),\n",
              " ('Hassanal Bolkiah', 'Portugal'),\n",
              " ('Hassanal Bolkiah', 'Uruguay'),\n",
              " ('Hassanal Bolkiah', 'USA'),\n",
              " ('Harald V', 'Australia'),\n",
              " ('Harald V', 'Brunei'),\n",
              " ('Harald V', 'Chile'),\n",
              " ('Harald V', 'Egypt'),\n",
              " ('Harald V', 'India'),\n",
              " ('Harald V', 'Norway'),\n",
              " ('Harald V', 'Oman'),\n",
              " ('Harald V', 'Pakistan'),\n",
              " ('Harald V', 'Portugal'),\n",
              " ('Harald V', 'Uruguay'),\n",
              " ('Harald V', 'USA'),\n",
              " ('Haitham bin Tarik', 'Australia'),\n",
              " ('Haitham bin Tarik', 'Brunei'),\n",
              " ('Haitham bin Tarik', 'Chile'),\n",
              " ('Haitham bin Tarik', 'Egypt'),\n",
              " ('Haitham bin Tarik', 'India'),\n",
              " ('Haitham bin Tarik', 'Norway'),\n",
              " ('Haitham bin Tarik', 'Oman'),\n",
              " ('Haitham bin Tarik', 'Pakistan'),\n",
              " ('Haitham bin Tarik', 'Portugal'),\n",
              " ('Haitham bin Tarik', 'Uruguay'),\n",
              " ('Haitham bin Tarik', 'USA'),\n",
              " ('Queen Elizabeth II', 'Australia'),\n",
              " ('Queen Elizabeth II', 'Brunei'),\n",
              " ('Queen Elizabeth II', 'Chile'),\n",
              " ('Queen Elizabeth II', 'Egypt'),\n",
              " ('Queen Elizabeth II', 'India'),\n",
              " ('Queen Elizabeth II', 'Norway'),\n",
              " ('Queen Elizabeth II', 'Oman'),\n",
              " ('Queen Elizabeth II', 'Pakistan'),\n",
              " ('Queen Elizabeth II', 'Portugal'),\n",
              " ('Queen Elizabeth II', 'Uruguay'),\n",
              " ('Queen Elizabeth II', 'USA')]"
            ],
            "text/html": [
              "<table>\n",
              "    <thead>\n",
              "        <tr>\n",
              "            <th>monarch</th>\n",
              "            <th>country</th>\n",
              "        </tr>\n",
              "    </thead>\n",
              "    <tbody>\n",
              "        <tr>\n",
              "            <td>Hassanal Bolkiah</td>\n",
              "            <td>Australia</td>\n",
              "        </tr>\n",
              "        <tr>\n",
              "            <td>Hassanal Bolkiah</td>\n",
              "            <td>Brunei</td>\n",
              "        </tr>\n",
              "        <tr>\n",
              "            <td>Hassanal Bolkiah</td>\n",
              "            <td>Chile</td>\n",
              "        </tr>\n",
              "        <tr>\n",
              "            <td>Hassanal Bolkiah</td>\n",
              "            <td>Egypt</td>\n",
              "        </tr>\n",
              "        <tr>\n",
              "            <td>Hassanal Bolkiah</td>\n",
              "            <td>India</td>\n",
              "        </tr>\n",
              "        <tr>\n",
              "            <td>Hassanal Bolkiah</td>\n",
              "            <td>Norway</td>\n",
              "        </tr>\n",
              "        <tr>\n",
              "            <td>Hassanal Bolkiah</td>\n",
              "            <td>Oman</td>\n",
              "        </tr>\n",
              "        <tr>\n",
              "            <td>Hassanal Bolkiah</td>\n",
              "            <td>Pakistan</td>\n",
              "        </tr>\n",
              "        <tr>\n",
              "            <td>Hassanal Bolkiah</td>\n",
              "            <td>Portugal</td>\n",
              "        </tr>\n",
              "        <tr>\n",
              "            <td>Hassanal Bolkiah</td>\n",
              "            <td>Uruguay</td>\n",
              "        </tr>\n",
              "        <tr>\n",
              "            <td>Hassanal Bolkiah</td>\n",
              "            <td>USA</td>\n",
              "        </tr>\n",
              "        <tr>\n",
              "            <td>Harald V</td>\n",
              "            <td>Australia</td>\n",
              "        </tr>\n",
              "        <tr>\n",
              "            <td>Harald V</td>\n",
              "            <td>Brunei</td>\n",
              "        </tr>\n",
              "        <tr>\n",
              "            <td>Harald V</td>\n",
              "            <td>Chile</td>\n",
              "        </tr>\n",
              "        <tr>\n",
              "            <td>Harald V</td>\n",
              "            <td>Egypt</td>\n",
              "        </tr>\n",
              "        <tr>\n",
              "            <td>Harald V</td>\n",
              "            <td>India</td>\n",
              "        </tr>\n",
              "        <tr>\n",
              "            <td>Harald V</td>\n",
              "            <td>Norway</td>\n",
              "        </tr>\n",
              "        <tr>\n",
              "            <td>Harald V</td>\n",
              "            <td>Oman</td>\n",
              "        </tr>\n",
              "        <tr>\n",
              "            <td>Harald V</td>\n",
              "            <td>Pakistan</td>\n",
              "        </tr>\n",
              "        <tr>\n",
              "            <td>Harald V</td>\n",
              "            <td>Portugal</td>\n",
              "        </tr>\n",
              "        <tr>\n",
              "            <td>Harald V</td>\n",
              "            <td>Uruguay</td>\n",
              "        </tr>\n",
              "        <tr>\n",
              "            <td>Harald V</td>\n",
              "            <td>USA</td>\n",
              "        </tr>\n",
              "        <tr>\n",
              "            <td>Haitham bin Tarik</td>\n",
              "            <td>Australia</td>\n",
              "        </tr>\n",
              "        <tr>\n",
              "            <td>Haitham bin Tarik</td>\n",
              "            <td>Brunei</td>\n",
              "        </tr>\n",
              "        <tr>\n",
              "            <td>Haitham bin Tarik</td>\n",
              "            <td>Chile</td>\n",
              "        </tr>\n",
              "        <tr>\n",
              "            <td>Haitham bin Tarik</td>\n",
              "            <td>Egypt</td>\n",
              "        </tr>\n",
              "        <tr>\n",
              "            <td>Haitham bin Tarik</td>\n",
              "            <td>India</td>\n",
              "        </tr>\n",
              "        <tr>\n",
              "            <td>Haitham bin Tarik</td>\n",
              "            <td>Norway</td>\n",
              "        </tr>\n",
              "        <tr>\n",
              "            <td>Haitham bin Tarik</td>\n",
              "            <td>Oman</td>\n",
              "        </tr>\n",
              "        <tr>\n",
              "            <td>Haitham bin Tarik</td>\n",
              "            <td>Pakistan</td>\n",
              "        </tr>\n",
              "        <tr>\n",
              "            <td>Haitham bin Tarik</td>\n",
              "            <td>Portugal</td>\n",
              "        </tr>\n",
              "        <tr>\n",
              "            <td>Haitham bin Tarik</td>\n",
              "            <td>Uruguay</td>\n",
              "        </tr>\n",
              "        <tr>\n",
              "            <td>Haitham bin Tarik</td>\n",
              "            <td>USA</td>\n",
              "        </tr>\n",
              "        <tr>\n",
              "            <td>Queen Elizabeth II</td>\n",
              "            <td>Australia</td>\n",
              "        </tr>\n",
              "        <tr>\n",
              "            <td>Queen Elizabeth II</td>\n",
              "            <td>Brunei</td>\n",
              "        </tr>\n",
              "        <tr>\n",
              "            <td>Queen Elizabeth II</td>\n",
              "            <td>Chile</td>\n",
              "        </tr>\n",
              "        <tr>\n",
              "            <td>Queen Elizabeth II</td>\n",
              "            <td>Egypt</td>\n",
              "        </tr>\n",
              "        <tr>\n",
              "            <td>Queen Elizabeth II</td>\n",
              "            <td>India</td>\n",
              "        </tr>\n",
              "        <tr>\n",
              "            <td>Queen Elizabeth II</td>\n",
              "            <td>Norway</td>\n",
              "        </tr>\n",
              "        <tr>\n",
              "            <td>Queen Elizabeth II</td>\n",
              "            <td>Oman</td>\n",
              "        </tr>\n",
              "        <tr>\n",
              "            <td>Queen Elizabeth II</td>\n",
              "            <td>Pakistan</td>\n",
              "        </tr>\n",
              "        <tr>\n",
              "            <td>Queen Elizabeth II</td>\n",
              "            <td>Portugal</td>\n",
              "        </tr>\n",
              "        <tr>\n",
              "            <td>Queen Elizabeth II</td>\n",
              "            <td>Uruguay</td>\n",
              "        </tr>\n",
              "        <tr>\n",
              "            <td>Queen Elizabeth II</td>\n",
              "            <td>USA</td>\n",
              "        </tr>\n",
              "    </tbody>\n",
              "</table>"
            ]
          },
          "metadata": {},
          "execution_count": 88
        }
      ]
    },
    {
      "cell_type": "code",
      "source": [
        "%%sql SELECT country, p2.prime_minister, pm_start\n",
        "FROM prime_minister_terms AS p1\n",
        "INNER JOIN prime_ministers AS p2\n",
        "ON p1.prime_minister = p2.prime_minister\n",
        "WHERE pm_start > 2000;"
      ],
      "metadata": {
        "colab": {
          "base_uri": "https://localhost:8080/",
          "height": 267
        },
        "id": "zIi1rLHe32Fg",
        "outputId": "4a5ebb3c-0c45-4e60-bc69-58c8256666f2"
      },
      "execution_count": 96,
      "outputs": [
        {
          "output_type": "stream",
          "name": "stdout",
          "text": [
            " * sqlite://\n",
            "Done.\n"
          ]
        },
        {
          "output_type": "execute_result",
          "data": {
            "text/plain": [
              "[('Egypt', 'Mostafa Madbouly', 2018),\n",
              " ('Portugal', 'António Costa', 2015),\n",
              " ('Pakistan', 'Shehbaz Sharif', 2022),\n",
              " ('United Kingdom', 'Boris Johnson', 2019),\n",
              " ('India', 'Narendra Modi', 2014),\n",
              " ('Australia', 'Scott Morrison', 2018),\n",
              " ('Norway', 'Jonas Gahr Støre', 2021),\n",
              " ('Oman', 'Haitham bin Tarik', 2020),\n",
              " ('New Zealand', 'Jacinda Ardern', 2017)]"
            ],
            "text/html": [
              "<table>\n",
              "    <thead>\n",
              "        <tr>\n",
              "            <th>country</th>\n",
              "            <th>prime_minister</th>\n",
              "            <th>pm_start</th>\n",
              "        </tr>\n",
              "    </thead>\n",
              "    <tbody>\n",
              "        <tr>\n",
              "            <td>Egypt</td>\n",
              "            <td>Mostafa Madbouly</td>\n",
              "            <td>2018</td>\n",
              "        </tr>\n",
              "        <tr>\n",
              "            <td>Portugal</td>\n",
              "            <td>António Costa</td>\n",
              "            <td>2015</td>\n",
              "        </tr>\n",
              "        <tr>\n",
              "            <td>Pakistan</td>\n",
              "            <td>Shehbaz Sharif</td>\n",
              "            <td>2022</td>\n",
              "        </tr>\n",
              "        <tr>\n",
              "            <td>United Kingdom</td>\n",
              "            <td>Boris Johnson</td>\n",
              "            <td>2019</td>\n",
              "        </tr>\n",
              "        <tr>\n",
              "            <td>India</td>\n",
              "            <td>Narendra Modi</td>\n",
              "            <td>2014</td>\n",
              "        </tr>\n",
              "        <tr>\n",
              "            <td>Australia</td>\n",
              "            <td>Scott Morrison</td>\n",
              "            <td>2018</td>\n",
              "        </tr>\n",
              "        <tr>\n",
              "            <td>Norway</td>\n",
              "            <td>Jonas Gahr Støre</td>\n",
              "            <td>2021</td>\n",
              "        </tr>\n",
              "        <tr>\n",
              "            <td>Oman</td>\n",
              "            <td>Haitham bin Tarik</td>\n",
              "            <td>2020</td>\n",
              "        </tr>\n",
              "        <tr>\n",
              "            <td>New Zealand</td>\n",
              "            <td>Jacinda Ardern</td>\n",
              "            <td>2017</td>\n",
              "        </tr>\n",
              "    </tbody>\n",
              "</table>"
            ]
          },
          "metadata": {},
          "execution_count": 96
        }
      ]
    },
    {
      "cell_type": "code",
      "source": [
        "%%sql SELECT country\n",
        "FROM states\n",
        "EXCEPT\n",
        "SELECT country\n",
        "FROM presidents;"
      ],
      "metadata": {
        "colab": {
          "base_uri": "https://localhost:8080/",
          "height": 161
        },
        "id": "7VZLN0384tbs",
        "outputId": "44525966-a377-4492-e41c-5b884fddbfae"
      },
      "execution_count": 97,
      "outputs": [
        {
          "output_type": "stream",
          "name": "stdout",
          "text": [
            " * sqlite://\n",
            "Done.\n"
          ]
        },
        {
          "output_type": "execute_result",
          "data": {
            "text/plain": [
              "[('Australia',), ('Brunei',), ('Norway',), ('Oman',)]"
            ],
            "text/html": [
              "<table>\n",
              "    <thead>\n",
              "        <tr>\n",
              "            <th>country</th>\n",
              "        </tr>\n",
              "    </thead>\n",
              "    <tbody>\n",
              "        <tr>\n",
              "            <td>Australia</td>\n",
              "        </tr>\n",
              "        <tr>\n",
              "            <td>Brunei</td>\n",
              "        </tr>\n",
              "        <tr>\n",
              "            <td>Norway</td>\n",
              "        </tr>\n",
              "        <tr>\n",
              "            <td>Oman</td>\n",
              "        </tr>\n",
              "    </tbody>\n",
              "</table>"
            ]
          },
          "metadata": {},
          "execution_count": 97
        }
      ]
    },
    {
      "cell_type": "code",
      "source": [
        "%%sql SELECT country\n",
        "FROM states\n",
        "WHERE country NOT IN (SELECT country\n",
        "                      FROM presidents);"
      ],
      "metadata": {
        "colab": {
          "base_uri": "https://localhost:8080/",
          "height": 161
        },
        "id": "tj9n08Iy9FSU",
        "outputId": "39a98e65-dd04-474d-99d8-9c300b6b48b0"
      },
      "execution_count": 99,
      "outputs": [
        {
          "output_type": "stream",
          "name": "stdout",
          "text": [
            " * sqlite://\n",
            "Done.\n"
          ]
        },
        {
          "output_type": "execute_result",
          "data": {
            "text/plain": [
              "[('Australia',), ('Brunei',), ('Norway',), ('Oman',)]"
            ],
            "text/html": [
              "<table>\n",
              "    <thead>\n",
              "        <tr>\n",
              "            <th>country</th>\n",
              "        </tr>\n",
              "    </thead>\n",
              "    <tbody>\n",
              "        <tr>\n",
              "            <td>Australia</td>\n",
              "        </tr>\n",
              "        <tr>\n",
              "            <td>Brunei</td>\n",
              "        </tr>\n",
              "        <tr>\n",
              "            <td>Norway</td>\n",
              "        </tr>\n",
              "        <tr>\n",
              "            <td>Oman</td>\n",
              "        </tr>\n",
              "    </tbody>\n",
              "</table>"
            ]
          },
          "metadata": {},
          "execution_count": 99
        }
      ]
    },
    {
      "cell_type": "code",
      "source": [
        "%%sql SELECT country, pm_start\n",
        "FROM prime_minister_terms AS p1\n",
        "INNER JOIN prime_ministers AS p2\n",
        "ON p1.prime_minister = p2.prime_minister\n",
        "ORDER BY pm_start;"
      ],
      "metadata": {
        "colab": {
          "base_uri": "https://localhost:8080/",
          "height": 289
        },
        "id": "U0r78_op9Z7e",
        "outputId": "8d8505eb-21f2-4ba1-9f3f-0359eca51cd0"
      },
      "execution_count": 100,
      "outputs": [
        {
          "output_type": "stream",
          "name": "stdout",
          "text": [
            " * sqlite://\n",
            "Done.\n"
          ]
        },
        {
          "output_type": "execute_result",
          "data": {
            "text/plain": [
              "[('Brunei', 1984),\n",
              " ('India', 2014),\n",
              " ('Portugal', 2015),\n",
              " ('New Zealand', 2017),\n",
              " ('Egypt', 2018),\n",
              " ('Australia', 2018),\n",
              " ('United Kingdom', 2019),\n",
              " ('Oman', 2020),\n",
              " ('Norway', 2021),\n",
              " ('Pakistan', 2022)]"
            ],
            "text/html": [
              "<table>\n",
              "    <thead>\n",
              "        <tr>\n",
              "            <th>country</th>\n",
              "            <th>pm_start</th>\n",
              "        </tr>\n",
              "    </thead>\n",
              "    <tbody>\n",
              "        <tr>\n",
              "            <td>Brunei</td>\n",
              "            <td>1984</td>\n",
              "        </tr>\n",
              "        <tr>\n",
              "            <td>India</td>\n",
              "            <td>2014</td>\n",
              "        </tr>\n",
              "        <tr>\n",
              "            <td>Portugal</td>\n",
              "            <td>2015</td>\n",
              "        </tr>\n",
              "        <tr>\n",
              "            <td>New Zealand</td>\n",
              "            <td>2017</td>\n",
              "        </tr>\n",
              "        <tr>\n",
              "            <td>Egypt</td>\n",
              "            <td>2018</td>\n",
              "        </tr>\n",
              "        <tr>\n",
              "            <td>Australia</td>\n",
              "            <td>2018</td>\n",
              "        </tr>\n",
              "        <tr>\n",
              "            <td>United Kingdom</td>\n",
              "            <td>2019</td>\n",
              "        </tr>\n",
              "        <tr>\n",
              "            <td>Oman</td>\n",
              "            <td>2020</td>\n",
              "        </tr>\n",
              "        <tr>\n",
              "            <td>Norway</td>\n",
              "            <td>2021</td>\n",
              "        </tr>\n",
              "        <tr>\n",
              "            <td>Pakistan</td>\n",
              "            <td>2022</td>\n",
              "        </tr>\n",
              "    </tbody>\n",
              "</table>"
            ]
          },
          "metadata": {},
          "execution_count": 100
        }
      ]
    },
    {
      "cell_type": "code",
      "source": [
        "%%sql SELECT monarch, prime_minister, pm_start + 2 AS year\n",
        "FROM monarchs\n",
        "CROSS JOIN prime_minister_terms\n",
        "ORDER BY pm_start;"
      ],
      "metadata": {
        "colab": {
          "base_uri": "https://localhost:8080/",
          "height": 929
        },
        "id": "11hh0rIC9zFF",
        "outputId": "37b3449f-d09c-4d6c-a50f-75f3ffc41d54"
      },
      "execution_count": 102,
      "outputs": [
        {
          "output_type": "stream",
          "name": "stdout",
          "text": [
            " * sqlite://\n",
            "Done.\n"
          ]
        },
        {
          "output_type": "execute_result",
          "data": {
            "text/plain": [
              "[('Hassanal Bolkiah', 'Hassanal Bolkiah', 1986),\n",
              " ('Harald V', 'Hassanal Bolkiah', 1986),\n",
              " ('Haitham bin Tarik', 'Hassanal Bolkiah', 1986),\n",
              " ('Queen Elizabeth II', 'Hassanal Bolkiah', 1986),\n",
              " ('Hassanal Bolkiah', 'Narendra Modi', 2016),\n",
              " ('Harald V', 'Narendra Modi', 2016),\n",
              " ('Haitham bin Tarik', 'Narendra Modi', 2016),\n",
              " ('Queen Elizabeth II', 'Narendra Modi', 2016),\n",
              " ('Hassanal Bolkiah', 'António Costa', 2017),\n",
              " ('Harald V', 'António Costa', 2017),\n",
              " ('Haitham bin Tarik', 'António Costa', 2017),\n",
              " ('Queen Elizabeth II', 'António Costa', 2017),\n",
              " ('Hassanal Bolkiah', 'Jacinda Ardern', 2019),\n",
              " ('Harald V', 'Jacinda Ardern', 2019),\n",
              " ('Haitham bin Tarik', 'Jacinda Ardern', 2019),\n",
              " ('Queen Elizabeth II', 'Jacinda Ardern', 2019),\n",
              " ('Hassanal Bolkiah', 'Mostafa Madbouly', 2020),\n",
              " ('Hassanal Bolkiah', 'Scott Morrison', 2020),\n",
              " ('Harald V', 'Mostafa Madbouly', 2020),\n",
              " ('Harald V', 'Scott Morrison', 2020),\n",
              " ('Haitham bin Tarik', 'Mostafa Madbouly', 2020),\n",
              " ('Haitham bin Tarik', 'Scott Morrison', 2020),\n",
              " ('Queen Elizabeth II', 'Mostafa Madbouly', 2020),\n",
              " ('Queen Elizabeth II', 'Scott Morrison', 2020),\n",
              " ('Hassanal Bolkiah', 'Boris Johnson', 2021),\n",
              " ('Harald V', 'Boris Johnson', 2021),\n",
              " ('Haitham bin Tarik', 'Boris Johnson', 2021),\n",
              " ('Queen Elizabeth II', 'Boris Johnson', 2021),\n",
              " ('Hassanal Bolkiah', 'Haitham bin Tarik', 2022),\n",
              " ('Harald V', 'Haitham bin Tarik', 2022),\n",
              " ('Haitham bin Tarik', 'Haitham bin Tarik', 2022),\n",
              " ('Queen Elizabeth II', 'Haitham bin Tarik', 2022),\n",
              " ('Hassanal Bolkiah', 'Jonas Gahr Støre', 2023),\n",
              " ('Harald V', 'Jonas Gahr Støre', 2023),\n",
              " ('Haitham bin Tarik', 'Jonas Gahr Støre', 2023),\n",
              " ('Queen Elizabeth II', 'Jonas Gahr Støre', 2023),\n",
              " ('Hassanal Bolkiah', 'Shehbaz Sharif', 2024),\n",
              " ('Harald V', 'Shehbaz Sharif', 2024),\n",
              " ('Haitham bin Tarik', 'Shehbaz Sharif', 2024),\n",
              " ('Queen Elizabeth II', 'Shehbaz Sharif', 2024)]"
            ],
            "text/html": [
              "<table>\n",
              "    <thead>\n",
              "        <tr>\n",
              "            <th>monarch</th>\n",
              "            <th>prime_minister</th>\n",
              "            <th>year</th>\n",
              "        </tr>\n",
              "    </thead>\n",
              "    <tbody>\n",
              "        <tr>\n",
              "            <td>Hassanal Bolkiah</td>\n",
              "            <td>Hassanal Bolkiah</td>\n",
              "            <td>1986</td>\n",
              "        </tr>\n",
              "        <tr>\n",
              "            <td>Harald V</td>\n",
              "            <td>Hassanal Bolkiah</td>\n",
              "            <td>1986</td>\n",
              "        </tr>\n",
              "        <tr>\n",
              "            <td>Haitham bin Tarik</td>\n",
              "            <td>Hassanal Bolkiah</td>\n",
              "            <td>1986</td>\n",
              "        </tr>\n",
              "        <tr>\n",
              "            <td>Queen Elizabeth II</td>\n",
              "            <td>Hassanal Bolkiah</td>\n",
              "            <td>1986</td>\n",
              "        </tr>\n",
              "        <tr>\n",
              "            <td>Hassanal Bolkiah</td>\n",
              "            <td>Narendra Modi</td>\n",
              "            <td>2016</td>\n",
              "        </tr>\n",
              "        <tr>\n",
              "            <td>Harald V</td>\n",
              "            <td>Narendra Modi</td>\n",
              "            <td>2016</td>\n",
              "        </tr>\n",
              "        <tr>\n",
              "            <td>Haitham bin Tarik</td>\n",
              "            <td>Narendra Modi</td>\n",
              "            <td>2016</td>\n",
              "        </tr>\n",
              "        <tr>\n",
              "            <td>Queen Elizabeth II</td>\n",
              "            <td>Narendra Modi</td>\n",
              "            <td>2016</td>\n",
              "        </tr>\n",
              "        <tr>\n",
              "            <td>Hassanal Bolkiah</td>\n",
              "            <td>António Costa</td>\n",
              "            <td>2017</td>\n",
              "        </tr>\n",
              "        <tr>\n",
              "            <td>Harald V</td>\n",
              "            <td>António Costa</td>\n",
              "            <td>2017</td>\n",
              "        </tr>\n",
              "        <tr>\n",
              "            <td>Haitham bin Tarik</td>\n",
              "            <td>António Costa</td>\n",
              "            <td>2017</td>\n",
              "        </tr>\n",
              "        <tr>\n",
              "            <td>Queen Elizabeth II</td>\n",
              "            <td>António Costa</td>\n",
              "            <td>2017</td>\n",
              "        </tr>\n",
              "        <tr>\n",
              "            <td>Hassanal Bolkiah</td>\n",
              "            <td>Jacinda Ardern</td>\n",
              "            <td>2019</td>\n",
              "        </tr>\n",
              "        <tr>\n",
              "            <td>Harald V</td>\n",
              "            <td>Jacinda Ardern</td>\n",
              "            <td>2019</td>\n",
              "        </tr>\n",
              "        <tr>\n",
              "            <td>Haitham bin Tarik</td>\n",
              "            <td>Jacinda Ardern</td>\n",
              "            <td>2019</td>\n",
              "        </tr>\n",
              "        <tr>\n",
              "            <td>Queen Elizabeth II</td>\n",
              "            <td>Jacinda Ardern</td>\n",
              "            <td>2019</td>\n",
              "        </tr>\n",
              "        <tr>\n",
              "            <td>Hassanal Bolkiah</td>\n",
              "            <td>Mostafa Madbouly</td>\n",
              "            <td>2020</td>\n",
              "        </tr>\n",
              "        <tr>\n",
              "            <td>Hassanal Bolkiah</td>\n",
              "            <td>Scott Morrison</td>\n",
              "            <td>2020</td>\n",
              "        </tr>\n",
              "        <tr>\n",
              "            <td>Harald V</td>\n",
              "            <td>Mostafa Madbouly</td>\n",
              "            <td>2020</td>\n",
              "        </tr>\n",
              "        <tr>\n",
              "            <td>Harald V</td>\n",
              "            <td>Scott Morrison</td>\n",
              "            <td>2020</td>\n",
              "        </tr>\n",
              "        <tr>\n",
              "            <td>Haitham bin Tarik</td>\n",
              "            <td>Mostafa Madbouly</td>\n",
              "            <td>2020</td>\n",
              "        </tr>\n",
              "        <tr>\n",
              "            <td>Haitham bin Tarik</td>\n",
              "            <td>Scott Morrison</td>\n",
              "            <td>2020</td>\n",
              "        </tr>\n",
              "        <tr>\n",
              "            <td>Queen Elizabeth II</td>\n",
              "            <td>Mostafa Madbouly</td>\n",
              "            <td>2020</td>\n",
              "        </tr>\n",
              "        <tr>\n",
              "            <td>Queen Elizabeth II</td>\n",
              "            <td>Scott Morrison</td>\n",
              "            <td>2020</td>\n",
              "        </tr>\n",
              "        <tr>\n",
              "            <td>Hassanal Bolkiah</td>\n",
              "            <td>Boris Johnson</td>\n",
              "            <td>2021</td>\n",
              "        </tr>\n",
              "        <tr>\n",
              "            <td>Harald V</td>\n",
              "            <td>Boris Johnson</td>\n",
              "            <td>2021</td>\n",
              "        </tr>\n",
              "        <tr>\n",
              "            <td>Haitham bin Tarik</td>\n",
              "            <td>Boris Johnson</td>\n",
              "            <td>2021</td>\n",
              "        </tr>\n",
              "        <tr>\n",
              "            <td>Queen Elizabeth II</td>\n",
              "            <td>Boris Johnson</td>\n",
              "            <td>2021</td>\n",
              "        </tr>\n",
              "        <tr>\n",
              "            <td>Hassanal Bolkiah</td>\n",
              "            <td>Haitham bin Tarik</td>\n",
              "            <td>2022</td>\n",
              "        </tr>\n",
              "        <tr>\n",
              "            <td>Harald V</td>\n",
              "            <td>Haitham bin Tarik</td>\n",
              "            <td>2022</td>\n",
              "        </tr>\n",
              "        <tr>\n",
              "            <td>Haitham bin Tarik</td>\n",
              "            <td>Haitham bin Tarik</td>\n",
              "            <td>2022</td>\n",
              "        </tr>\n",
              "        <tr>\n",
              "            <td>Queen Elizabeth II</td>\n",
              "            <td>Haitham bin Tarik</td>\n",
              "            <td>2022</td>\n",
              "        </tr>\n",
              "        <tr>\n",
              "            <td>Hassanal Bolkiah</td>\n",
              "            <td>Jonas Gahr Støre</td>\n",
              "            <td>2023</td>\n",
              "        </tr>\n",
              "        <tr>\n",
              "            <td>Harald V</td>\n",
              "            <td>Jonas Gahr Støre</td>\n",
              "            <td>2023</td>\n",
              "        </tr>\n",
              "        <tr>\n",
              "            <td>Haitham bin Tarik</td>\n",
              "            <td>Jonas Gahr Støre</td>\n",
              "            <td>2023</td>\n",
              "        </tr>\n",
              "        <tr>\n",
              "            <td>Queen Elizabeth II</td>\n",
              "            <td>Jonas Gahr Støre</td>\n",
              "            <td>2023</td>\n",
              "        </tr>\n",
              "        <tr>\n",
              "            <td>Hassanal Bolkiah</td>\n",
              "            <td>Shehbaz Sharif</td>\n",
              "            <td>2024</td>\n",
              "        </tr>\n",
              "        <tr>\n",
              "            <td>Harald V</td>\n",
              "            <td>Shehbaz Sharif</td>\n",
              "            <td>2024</td>\n",
              "        </tr>\n",
              "        <tr>\n",
              "            <td>Haitham bin Tarik</td>\n",
              "            <td>Shehbaz Sharif</td>\n",
              "            <td>2024</td>\n",
              "        </tr>\n",
              "        <tr>\n",
              "            <td>Queen Elizabeth II</td>\n",
              "            <td>Shehbaz Sharif</td>\n",
              "            <td>2024</td>\n",
              "        </tr>\n",
              "    </tbody>\n",
              "</table>"
            ]
          },
          "metadata": {},
          "execution_count": 102
        }
      ]
    },
    {
      "cell_type": "code",
      "source": [
        "%%sql SELECT s.continent,\n",
        "             s.country,\n",
        "             pr.president AS president,\n",
        "             pm.prime_minister AS prime_minister\n",
        "FROM states AS s, prime_ministers AS pm\n",
        "LEFT JOIN presidents AS pr\n",
        "ON pr.country = s.country OR s.country = pm.country"
      ],
      "metadata": {
        "colab": {
          "base_uri": "https://localhost:8080/",
          "height": 1000
        },
        "id": "RKSRL37dDwti",
        "outputId": "312c7989-9488-40f5-94a3-1fd5eeb51592"
      },
      "execution_count": 109,
      "outputs": [
        {
          "output_type": "stream",
          "name": "stdout",
          "text": [
            " * sqlite://\n",
            "Done.\n"
          ]
        },
        {
          "output_type": "execute_result",
          "data": {
            "text/plain": [
              "[('Oceania', 'Australia', None, 'Mostafa Madbouly'),\n",
              " ('Oceania', 'Australia', None, 'António Costa'),\n",
              " ('Oceania', 'Australia', None, 'Shehbaz Sharif'),\n",
              " ('Oceania', 'Australia', None, 'Boris Johnson'),\n",
              " ('Oceania', 'Australia', None, 'Narendra Modi'),\n",
              " ('Oceania', 'Australia', 'Abdel Fattah el-Sisi', 'Scott Morrison'),\n",
              " ('Oceania', 'Australia', 'Marcelo Rebelo de Sousa', 'Scott Morrison'),\n",
              " ('Oceania', 'Australia', 'Joe Biden', 'Scott Morrison'),\n",
              " ('Oceania', 'Australia', 'Luis Lacalle Pou', 'Scott Morrison'),\n",
              " ('Oceania', 'Australia', 'Arif Alvi', 'Scott Morrison'),\n",
              " ('Oceania', 'Australia', 'Gabriel Boric', 'Scott Morrison'),\n",
              " ('Oceania', 'Australia', 'Ram Nath Kovind', 'Scott Morrison'),\n",
              " ('Oceania', 'Australia', None, 'Jonas Gahr Støre'),\n",
              " ('Oceania', 'Australia', None, 'Hassanal Bolkiah'),\n",
              " ('Oceania', 'Australia', None, 'Haitham bin Tarik'),\n",
              " ('Oceania', 'Australia', None, 'Jacinda Ardern'),\n",
              " ('Asia', 'Brunei', None, 'Mostafa Madbouly'),\n",
              " ('Asia', 'Brunei', None, 'António Costa'),\n",
              " ('Asia', 'Brunei', None, 'Shehbaz Sharif'),\n",
              " ('Asia', 'Brunei', None, 'Boris Johnson'),\n",
              " ('Asia', 'Brunei', None, 'Narendra Modi'),\n",
              " ('Asia', 'Brunei', None, 'Scott Morrison'),\n",
              " ('Asia', 'Brunei', None, 'Jonas Gahr Støre'),\n",
              " ('Asia', 'Brunei', 'Abdel Fattah el-Sisi', 'Hassanal Bolkiah'),\n",
              " ('Asia', 'Brunei', 'Marcelo Rebelo de Sousa', 'Hassanal Bolkiah'),\n",
              " ('Asia', 'Brunei', 'Joe Biden', 'Hassanal Bolkiah'),\n",
              " ('Asia', 'Brunei', 'Luis Lacalle Pou', 'Hassanal Bolkiah'),\n",
              " ('Asia', 'Brunei', 'Arif Alvi', 'Hassanal Bolkiah'),\n",
              " ('Asia', 'Brunei', 'Gabriel Boric', 'Hassanal Bolkiah'),\n",
              " ('Asia', 'Brunei', 'Ram Nath Kovind', 'Hassanal Bolkiah'),\n",
              " ('Asia', 'Brunei', None, 'Haitham bin Tarik'),\n",
              " ('Asia', 'Brunei', None, 'Jacinda Ardern'),\n",
              " ('South America', 'Chile', 'Gabriel Boric', 'Mostafa Madbouly'),\n",
              " ('South America', 'Chile', 'Gabriel Boric', 'António Costa'),\n",
              " ('South America', 'Chile', 'Gabriel Boric', 'Shehbaz Sharif'),\n",
              " ('South America', 'Chile', 'Gabriel Boric', 'Boris Johnson'),\n",
              " ('South America', 'Chile', 'Gabriel Boric', 'Narendra Modi'),\n",
              " ('South America', 'Chile', 'Gabriel Boric', 'Scott Morrison'),\n",
              " ('South America', 'Chile', 'Gabriel Boric', 'Jonas Gahr Støre'),\n",
              " ('South America', 'Chile', 'Gabriel Boric', 'Hassanal Bolkiah'),\n",
              " ('South America', 'Chile', 'Gabriel Boric', 'Haitham bin Tarik'),\n",
              " ('South America', 'Chile', 'Gabriel Boric', 'Jacinda Ardern'),\n",
              " ('Africa', 'Egypt', 'Abdel Fattah el-Sisi', 'Mostafa Madbouly'),\n",
              " ('Africa', 'Egypt', 'Marcelo Rebelo de Sousa', 'Mostafa Madbouly'),\n",
              " ('Africa', 'Egypt', 'Joe Biden', 'Mostafa Madbouly'),\n",
              " ('Africa', 'Egypt', 'Luis Lacalle Pou', 'Mostafa Madbouly'),\n",
              " ('Africa', 'Egypt', 'Arif Alvi', 'Mostafa Madbouly'),\n",
              " ('Africa', 'Egypt', 'Gabriel Boric', 'Mostafa Madbouly'),\n",
              " ('Africa', 'Egypt', 'Ram Nath Kovind', 'Mostafa Madbouly'),\n",
              " ('Africa', 'Egypt', 'Abdel Fattah el-Sisi', 'António Costa'),\n",
              " ('Africa', 'Egypt', 'Abdel Fattah el-Sisi', 'Shehbaz Sharif'),\n",
              " ('Africa', 'Egypt', 'Abdel Fattah el-Sisi', 'Boris Johnson'),\n",
              " ('Africa', 'Egypt', 'Abdel Fattah el-Sisi', 'Narendra Modi'),\n",
              " ('Africa', 'Egypt', 'Abdel Fattah el-Sisi', 'Scott Morrison'),\n",
              " ('Africa', 'Egypt', 'Abdel Fattah el-Sisi', 'Jonas Gahr Støre'),\n",
              " ('Africa', 'Egypt', 'Abdel Fattah el-Sisi', 'Hassanal Bolkiah'),\n",
              " ('Africa', 'Egypt', 'Abdel Fattah el-Sisi', 'Haitham bin Tarik'),\n",
              " ('Africa', 'Egypt', 'Abdel Fattah el-Sisi', 'Jacinda Ardern'),\n",
              " ('Asia', 'India', 'Ram Nath Kovind', 'Mostafa Madbouly'),\n",
              " ('Asia', 'India', 'Ram Nath Kovind', 'António Costa'),\n",
              " ('Asia', 'India', 'Ram Nath Kovind', 'Shehbaz Sharif'),\n",
              " ('Asia', 'India', 'Ram Nath Kovind', 'Boris Johnson'),\n",
              " ('Asia', 'India', 'Abdel Fattah el-Sisi', 'Narendra Modi'),\n",
              " ('Asia', 'India', 'Marcelo Rebelo de Sousa', 'Narendra Modi'),\n",
              " ('Asia', 'India', 'Joe Biden', 'Narendra Modi'),\n",
              " ('Asia', 'India', 'Luis Lacalle Pou', 'Narendra Modi'),\n",
              " ('Asia', 'India', 'Arif Alvi', 'Narendra Modi'),\n",
              " ('Asia', 'India', 'Gabriel Boric', 'Narendra Modi'),\n",
              " ('Asia', 'India', 'Ram Nath Kovind', 'Narendra Modi'),\n",
              " ('Asia', 'India', 'Ram Nath Kovind', 'Scott Morrison'),\n",
              " ('Asia', 'India', 'Ram Nath Kovind', 'Jonas Gahr Støre'),\n",
              " ('Asia', 'India', 'Ram Nath Kovind', 'Hassanal Bolkiah'),\n",
              " ('Asia', 'India', 'Ram Nath Kovind', 'Haitham bin Tarik'),\n",
              " ('Asia', 'India', 'Ram Nath Kovind', 'Jacinda Ardern'),\n",
              " ('Europe', 'Norway', None, 'Mostafa Madbouly'),\n",
              " ('Europe', 'Norway', None, 'António Costa'),\n",
              " ('Europe', 'Norway', None, 'Shehbaz Sharif'),\n",
              " ('Europe', 'Norway', None, 'Boris Johnson'),\n",
              " ('Europe', 'Norway', None, 'Narendra Modi'),\n",
              " ('Europe', 'Norway', None, 'Scott Morrison'),\n",
              " ('Europe', 'Norway', 'Abdel Fattah el-Sisi', 'Jonas Gahr Støre'),\n",
              " ('Europe', 'Norway', 'Marcelo Rebelo de Sousa', 'Jonas Gahr Støre'),\n",
              " ('Europe', 'Norway', 'Joe Biden', 'Jonas Gahr Støre'),\n",
              " ('Europe', 'Norway', 'Luis Lacalle Pou', 'Jonas Gahr Støre'),\n",
              " ('Europe', 'Norway', 'Arif Alvi', 'Jonas Gahr Støre'),\n",
              " ('Europe', 'Norway', 'Gabriel Boric', 'Jonas Gahr Støre'),\n",
              " ('Europe', 'Norway', 'Ram Nath Kovind', 'Jonas Gahr Støre'),\n",
              " ('Europe', 'Norway', None, 'Hassanal Bolkiah'),\n",
              " ('Europe', 'Norway', None, 'Haitham bin Tarik'),\n",
              " ('Europe', 'Norway', None, 'Jacinda Ardern'),\n",
              " ('Asia', 'Oman', None, 'Mostafa Madbouly'),\n",
              " ('Asia', 'Oman', None, 'António Costa'),\n",
              " ('Asia', 'Oman', None, 'Shehbaz Sharif'),\n",
              " ('Asia', 'Oman', None, 'Boris Johnson'),\n",
              " ('Asia', 'Oman', None, 'Narendra Modi'),\n",
              " ('Asia', 'Oman', None, 'Scott Morrison'),\n",
              " ('Asia', 'Oman', None, 'Jonas Gahr Støre'),\n",
              " ('Asia', 'Oman', None, 'Hassanal Bolkiah'),\n",
              " ('Asia', 'Oman', 'Abdel Fattah el-Sisi', 'Haitham bin Tarik'),\n",
              " ('Asia', 'Oman', 'Marcelo Rebelo de Sousa', 'Haitham bin Tarik'),\n",
              " ('Asia', 'Oman', 'Joe Biden', 'Haitham bin Tarik'),\n",
              " ('Asia', 'Oman', 'Luis Lacalle Pou', 'Haitham bin Tarik'),\n",
              " ('Asia', 'Oman', 'Arif Alvi', 'Haitham bin Tarik'),\n",
              " ('Asia', 'Oman', 'Gabriel Boric', 'Haitham bin Tarik'),\n",
              " ('Asia', 'Oman', 'Ram Nath Kovind', 'Haitham bin Tarik'),\n",
              " ('Asia', 'Oman', None, 'Jacinda Ardern'),\n",
              " ('Asia', 'Pakistan', 'Arif Alvi', 'Mostafa Madbouly'),\n",
              " ('Asia', 'Pakistan', 'Arif Alvi', 'António Costa'),\n",
              " ('Asia', 'Pakistan', 'Abdel Fattah el-Sisi', 'Shehbaz Sharif'),\n",
              " ('Asia', 'Pakistan', 'Marcelo Rebelo de Sousa', 'Shehbaz Sharif'),\n",
              " ('Asia', 'Pakistan', 'Joe Biden', 'Shehbaz Sharif'),\n",
              " ('Asia', 'Pakistan', 'Luis Lacalle Pou', 'Shehbaz Sharif'),\n",
              " ('Asia', 'Pakistan', 'Arif Alvi', 'Shehbaz Sharif'),\n",
              " ('Asia', 'Pakistan', 'Gabriel Boric', 'Shehbaz Sharif'),\n",
              " ('Asia', 'Pakistan', 'Ram Nath Kovind', 'Shehbaz Sharif'),\n",
              " ('Asia', 'Pakistan', 'Arif Alvi', 'Boris Johnson'),\n",
              " ('Asia', 'Pakistan', 'Arif Alvi', 'Narendra Modi'),\n",
              " ('Asia', 'Pakistan', 'Arif Alvi', 'Scott Morrison'),\n",
              " ('Asia', 'Pakistan', 'Arif Alvi', 'Jonas Gahr Støre'),\n",
              " ('Asia', 'Pakistan', 'Arif Alvi', 'Hassanal Bolkiah'),\n",
              " ('Asia', 'Pakistan', 'Arif Alvi', 'Haitham bin Tarik'),\n",
              " ('Asia', 'Pakistan', 'Arif Alvi', 'Jacinda Ardern'),\n",
              " ('Europe', 'Portugal', 'Marcelo Rebelo de Sousa', 'Mostafa Madbouly'),\n",
              " ('Europe', 'Portugal', 'Abdel Fattah el-Sisi', 'António Costa'),\n",
              " ('Europe', 'Portugal', 'Marcelo Rebelo de Sousa', 'António Costa'),\n",
              " ('Europe', 'Portugal', 'Joe Biden', 'António Costa'),\n",
              " ('Europe', 'Portugal', 'Luis Lacalle Pou', 'António Costa'),\n",
              " ('Europe', 'Portugal', 'Arif Alvi', 'António Costa'),\n",
              " ('Europe', 'Portugal', 'Gabriel Boric', 'António Costa'),\n",
              " ('Europe', 'Portugal', 'Ram Nath Kovind', 'António Costa'),\n",
              " ('Europe', 'Portugal', 'Marcelo Rebelo de Sousa', 'Shehbaz Sharif'),\n",
              " ('Europe', 'Portugal', 'Marcelo Rebelo de Sousa', 'Boris Johnson'),\n",
              " ('Europe', 'Portugal', 'Marcelo Rebelo de Sousa', 'Narendra Modi'),\n",
              " ('Europe', 'Portugal', 'Marcelo Rebelo de Sousa', 'Scott Morrison'),\n",
              " ('Europe', 'Portugal', 'Marcelo Rebelo de Sousa', 'Jonas Gahr Støre'),\n",
              " ('Europe', 'Portugal', 'Marcelo Rebelo de Sousa', 'Hassanal Bolkiah'),\n",
              " ('Europe', 'Portugal', 'Marcelo Rebelo de Sousa', 'Haitham bin Tarik'),\n",
              " ('Europe', 'Portugal', 'Marcelo Rebelo de Sousa', 'Jacinda Ardern'),\n",
              " ('South America', 'Uruguay', 'Luis Lacalle Pou', 'Mostafa Madbouly'),\n",
              " ('South America', 'Uruguay', 'Luis Lacalle Pou', 'António Costa'),\n",
              " ('South America', 'Uruguay', 'Luis Lacalle Pou', 'Shehbaz Sharif'),\n",
              " ('South America', 'Uruguay', 'Luis Lacalle Pou', 'Boris Johnson'),\n",
              " ('South America', 'Uruguay', 'Luis Lacalle Pou', 'Narendra Modi'),\n",
              " ('South America', 'Uruguay', 'Luis Lacalle Pou', 'Scott Morrison'),\n",
              " ('South America', 'Uruguay', 'Luis Lacalle Pou', 'Jonas Gahr Støre'),\n",
              " ('South America', 'Uruguay', 'Luis Lacalle Pou', 'Hassanal Bolkiah'),\n",
              " ('South America', 'Uruguay', 'Luis Lacalle Pou', 'Haitham bin Tarik'),\n",
              " ('South America', 'Uruguay', 'Luis Lacalle Pou', 'Jacinda Ardern'),\n",
              " ('North America', 'USA', 'Joe Biden', 'Mostafa Madbouly'),\n",
              " ('North America', 'USA', 'Joe Biden', 'António Costa'),\n",
              " ('North America', 'USA', 'Joe Biden', 'Shehbaz Sharif'),\n",
              " ('North America', 'USA', 'Joe Biden', 'Boris Johnson'),\n",
              " ('North America', 'USA', 'Joe Biden', 'Narendra Modi'),\n",
              " ('North America', 'USA', 'Joe Biden', 'Scott Morrison'),\n",
              " ('North America', 'USA', 'Joe Biden', 'Jonas Gahr Støre'),\n",
              " ('North America', 'USA', 'Joe Biden', 'Hassanal Bolkiah'),\n",
              " ('North America', 'USA', 'Joe Biden', 'Haitham bin Tarik'),\n",
              " ('North America', 'USA', 'Joe Biden', 'Jacinda Ardern')]"
            ],
            "text/html": [
              "<table>\n",
              "    <thead>\n",
              "        <tr>\n",
              "            <th>continent</th>\n",
              "            <th>country</th>\n",
              "            <th>president</th>\n",
              "            <th>prime_minister</th>\n",
              "        </tr>\n",
              "    </thead>\n",
              "    <tbody>\n",
              "        <tr>\n",
              "            <td>Oceania</td>\n",
              "            <td>Australia</td>\n",
              "            <td>None</td>\n",
              "            <td>Mostafa Madbouly</td>\n",
              "        </tr>\n",
              "        <tr>\n",
              "            <td>Oceania</td>\n",
              "            <td>Australia</td>\n",
              "            <td>None</td>\n",
              "            <td>António Costa</td>\n",
              "        </tr>\n",
              "        <tr>\n",
              "            <td>Oceania</td>\n",
              "            <td>Australia</td>\n",
              "            <td>None</td>\n",
              "            <td>Shehbaz Sharif</td>\n",
              "        </tr>\n",
              "        <tr>\n",
              "            <td>Oceania</td>\n",
              "            <td>Australia</td>\n",
              "            <td>None</td>\n",
              "            <td>Boris Johnson</td>\n",
              "        </tr>\n",
              "        <tr>\n",
              "            <td>Oceania</td>\n",
              "            <td>Australia</td>\n",
              "            <td>None</td>\n",
              "            <td>Narendra Modi</td>\n",
              "        </tr>\n",
              "        <tr>\n",
              "            <td>Oceania</td>\n",
              "            <td>Australia</td>\n",
              "            <td>Abdel Fattah el-Sisi</td>\n",
              "            <td>Scott Morrison</td>\n",
              "        </tr>\n",
              "        <tr>\n",
              "            <td>Oceania</td>\n",
              "            <td>Australia</td>\n",
              "            <td>Marcelo Rebelo de Sousa</td>\n",
              "            <td>Scott Morrison</td>\n",
              "        </tr>\n",
              "        <tr>\n",
              "            <td>Oceania</td>\n",
              "            <td>Australia</td>\n",
              "            <td>Joe Biden</td>\n",
              "            <td>Scott Morrison</td>\n",
              "        </tr>\n",
              "        <tr>\n",
              "            <td>Oceania</td>\n",
              "            <td>Australia</td>\n",
              "            <td>Luis Lacalle Pou</td>\n",
              "            <td>Scott Morrison</td>\n",
              "        </tr>\n",
              "        <tr>\n",
              "            <td>Oceania</td>\n",
              "            <td>Australia</td>\n",
              "            <td>Arif Alvi</td>\n",
              "            <td>Scott Morrison</td>\n",
              "        </tr>\n",
              "        <tr>\n",
              "            <td>Oceania</td>\n",
              "            <td>Australia</td>\n",
              "            <td>Gabriel Boric</td>\n",
              "            <td>Scott Morrison</td>\n",
              "        </tr>\n",
              "        <tr>\n",
              "            <td>Oceania</td>\n",
              "            <td>Australia</td>\n",
              "            <td>Ram Nath Kovind</td>\n",
              "            <td>Scott Morrison</td>\n",
              "        </tr>\n",
              "        <tr>\n",
              "            <td>Oceania</td>\n",
              "            <td>Australia</td>\n",
              "            <td>None</td>\n",
              "            <td>Jonas Gahr Støre</td>\n",
              "        </tr>\n",
              "        <tr>\n",
              "            <td>Oceania</td>\n",
              "            <td>Australia</td>\n",
              "            <td>None</td>\n",
              "            <td>Hassanal Bolkiah</td>\n",
              "        </tr>\n",
              "        <tr>\n",
              "            <td>Oceania</td>\n",
              "            <td>Australia</td>\n",
              "            <td>None</td>\n",
              "            <td>Haitham bin Tarik</td>\n",
              "        </tr>\n",
              "        <tr>\n",
              "            <td>Oceania</td>\n",
              "            <td>Australia</td>\n",
              "            <td>None</td>\n",
              "            <td>Jacinda Ardern</td>\n",
              "        </tr>\n",
              "        <tr>\n",
              "            <td>Asia</td>\n",
              "            <td>Brunei</td>\n",
              "            <td>None</td>\n",
              "            <td>Mostafa Madbouly</td>\n",
              "        </tr>\n",
              "        <tr>\n",
              "            <td>Asia</td>\n",
              "            <td>Brunei</td>\n",
              "            <td>None</td>\n",
              "            <td>António Costa</td>\n",
              "        </tr>\n",
              "        <tr>\n",
              "            <td>Asia</td>\n",
              "            <td>Brunei</td>\n",
              "            <td>None</td>\n",
              "            <td>Shehbaz Sharif</td>\n",
              "        </tr>\n",
              "        <tr>\n",
              "            <td>Asia</td>\n",
              "            <td>Brunei</td>\n",
              "            <td>None</td>\n",
              "            <td>Boris Johnson</td>\n",
              "        </tr>\n",
              "        <tr>\n",
              "            <td>Asia</td>\n",
              "            <td>Brunei</td>\n",
              "            <td>None</td>\n",
              "            <td>Narendra Modi</td>\n",
              "        </tr>\n",
              "        <tr>\n",
              "            <td>Asia</td>\n",
              "            <td>Brunei</td>\n",
              "            <td>None</td>\n",
              "            <td>Scott Morrison</td>\n",
              "        </tr>\n",
              "        <tr>\n",
              "            <td>Asia</td>\n",
              "            <td>Brunei</td>\n",
              "            <td>None</td>\n",
              "            <td>Jonas Gahr Støre</td>\n",
              "        </tr>\n",
              "        <tr>\n",
              "            <td>Asia</td>\n",
              "            <td>Brunei</td>\n",
              "            <td>Abdel Fattah el-Sisi</td>\n",
              "            <td>Hassanal Bolkiah</td>\n",
              "        </tr>\n",
              "        <tr>\n",
              "            <td>Asia</td>\n",
              "            <td>Brunei</td>\n",
              "            <td>Marcelo Rebelo de Sousa</td>\n",
              "            <td>Hassanal Bolkiah</td>\n",
              "        </tr>\n",
              "        <tr>\n",
              "            <td>Asia</td>\n",
              "            <td>Brunei</td>\n",
              "            <td>Joe Biden</td>\n",
              "            <td>Hassanal Bolkiah</td>\n",
              "        </tr>\n",
              "        <tr>\n",
              "            <td>Asia</td>\n",
              "            <td>Brunei</td>\n",
              "            <td>Luis Lacalle Pou</td>\n",
              "            <td>Hassanal Bolkiah</td>\n",
              "        </tr>\n",
              "        <tr>\n",
              "            <td>Asia</td>\n",
              "            <td>Brunei</td>\n",
              "            <td>Arif Alvi</td>\n",
              "            <td>Hassanal Bolkiah</td>\n",
              "        </tr>\n",
              "        <tr>\n",
              "            <td>Asia</td>\n",
              "            <td>Brunei</td>\n",
              "            <td>Gabriel Boric</td>\n",
              "            <td>Hassanal Bolkiah</td>\n",
              "        </tr>\n",
              "        <tr>\n",
              "            <td>Asia</td>\n",
              "            <td>Brunei</td>\n",
              "            <td>Ram Nath Kovind</td>\n",
              "            <td>Hassanal Bolkiah</td>\n",
              "        </tr>\n",
              "        <tr>\n",
              "            <td>Asia</td>\n",
              "            <td>Brunei</td>\n",
              "            <td>None</td>\n",
              "            <td>Haitham bin Tarik</td>\n",
              "        </tr>\n",
              "        <tr>\n",
              "            <td>Asia</td>\n",
              "            <td>Brunei</td>\n",
              "            <td>None</td>\n",
              "            <td>Jacinda Ardern</td>\n",
              "        </tr>\n",
              "        <tr>\n",
              "            <td>South America</td>\n",
              "            <td>Chile</td>\n",
              "            <td>Gabriel Boric</td>\n",
              "            <td>Mostafa Madbouly</td>\n",
              "        </tr>\n",
              "        <tr>\n",
              "            <td>South America</td>\n",
              "            <td>Chile</td>\n",
              "            <td>Gabriel Boric</td>\n",
              "            <td>António Costa</td>\n",
              "        </tr>\n",
              "        <tr>\n",
              "            <td>South America</td>\n",
              "            <td>Chile</td>\n",
              "            <td>Gabriel Boric</td>\n",
              "            <td>Shehbaz Sharif</td>\n",
              "        </tr>\n",
              "        <tr>\n",
              "            <td>South America</td>\n",
              "            <td>Chile</td>\n",
              "            <td>Gabriel Boric</td>\n",
              "            <td>Boris Johnson</td>\n",
              "        </tr>\n",
              "        <tr>\n",
              "            <td>South America</td>\n",
              "            <td>Chile</td>\n",
              "            <td>Gabriel Boric</td>\n",
              "            <td>Narendra Modi</td>\n",
              "        </tr>\n",
              "        <tr>\n",
              "            <td>South America</td>\n",
              "            <td>Chile</td>\n",
              "            <td>Gabriel Boric</td>\n",
              "            <td>Scott Morrison</td>\n",
              "        </tr>\n",
              "        <tr>\n",
              "            <td>South America</td>\n",
              "            <td>Chile</td>\n",
              "            <td>Gabriel Boric</td>\n",
              "            <td>Jonas Gahr Støre</td>\n",
              "        </tr>\n",
              "        <tr>\n",
              "            <td>South America</td>\n",
              "            <td>Chile</td>\n",
              "            <td>Gabriel Boric</td>\n",
              "            <td>Hassanal Bolkiah</td>\n",
              "        </tr>\n",
              "        <tr>\n",
              "            <td>South America</td>\n",
              "            <td>Chile</td>\n",
              "            <td>Gabriel Boric</td>\n",
              "            <td>Haitham bin Tarik</td>\n",
              "        </tr>\n",
              "        <tr>\n",
              "            <td>South America</td>\n",
              "            <td>Chile</td>\n",
              "            <td>Gabriel Boric</td>\n",
              "            <td>Jacinda Ardern</td>\n",
              "        </tr>\n",
              "        <tr>\n",
              "            <td>Africa</td>\n",
              "            <td>Egypt</td>\n",
              "            <td>Abdel Fattah el-Sisi</td>\n",
              "            <td>Mostafa Madbouly</td>\n",
              "        </tr>\n",
              "        <tr>\n",
              "            <td>Africa</td>\n",
              "            <td>Egypt</td>\n",
              "            <td>Marcelo Rebelo de Sousa</td>\n",
              "            <td>Mostafa Madbouly</td>\n",
              "        </tr>\n",
              "        <tr>\n",
              "            <td>Africa</td>\n",
              "            <td>Egypt</td>\n",
              "            <td>Joe Biden</td>\n",
              "            <td>Mostafa Madbouly</td>\n",
              "        </tr>\n",
              "        <tr>\n",
              "            <td>Africa</td>\n",
              "            <td>Egypt</td>\n",
              "            <td>Luis Lacalle Pou</td>\n",
              "            <td>Mostafa Madbouly</td>\n",
              "        </tr>\n",
              "        <tr>\n",
              "            <td>Africa</td>\n",
              "            <td>Egypt</td>\n",
              "            <td>Arif Alvi</td>\n",
              "            <td>Mostafa Madbouly</td>\n",
              "        </tr>\n",
              "        <tr>\n",
              "            <td>Africa</td>\n",
              "            <td>Egypt</td>\n",
              "            <td>Gabriel Boric</td>\n",
              "            <td>Mostafa Madbouly</td>\n",
              "        </tr>\n",
              "        <tr>\n",
              "            <td>Africa</td>\n",
              "            <td>Egypt</td>\n",
              "            <td>Ram Nath Kovind</td>\n",
              "            <td>Mostafa Madbouly</td>\n",
              "        </tr>\n",
              "        <tr>\n",
              "            <td>Africa</td>\n",
              "            <td>Egypt</td>\n",
              "            <td>Abdel Fattah el-Sisi</td>\n",
              "            <td>António Costa</td>\n",
              "        </tr>\n",
              "        <tr>\n",
              "            <td>Africa</td>\n",
              "            <td>Egypt</td>\n",
              "            <td>Abdel Fattah el-Sisi</td>\n",
              "            <td>Shehbaz Sharif</td>\n",
              "        </tr>\n",
              "        <tr>\n",
              "            <td>Africa</td>\n",
              "            <td>Egypt</td>\n",
              "            <td>Abdel Fattah el-Sisi</td>\n",
              "            <td>Boris Johnson</td>\n",
              "        </tr>\n",
              "        <tr>\n",
              "            <td>Africa</td>\n",
              "            <td>Egypt</td>\n",
              "            <td>Abdel Fattah el-Sisi</td>\n",
              "            <td>Narendra Modi</td>\n",
              "        </tr>\n",
              "        <tr>\n",
              "            <td>Africa</td>\n",
              "            <td>Egypt</td>\n",
              "            <td>Abdel Fattah el-Sisi</td>\n",
              "            <td>Scott Morrison</td>\n",
              "        </tr>\n",
              "        <tr>\n",
              "            <td>Africa</td>\n",
              "            <td>Egypt</td>\n",
              "            <td>Abdel Fattah el-Sisi</td>\n",
              "            <td>Jonas Gahr Støre</td>\n",
              "        </tr>\n",
              "        <tr>\n",
              "            <td>Africa</td>\n",
              "            <td>Egypt</td>\n",
              "            <td>Abdel Fattah el-Sisi</td>\n",
              "            <td>Hassanal Bolkiah</td>\n",
              "        </tr>\n",
              "        <tr>\n",
              "            <td>Africa</td>\n",
              "            <td>Egypt</td>\n",
              "            <td>Abdel Fattah el-Sisi</td>\n",
              "            <td>Haitham bin Tarik</td>\n",
              "        </tr>\n",
              "        <tr>\n",
              "            <td>Africa</td>\n",
              "            <td>Egypt</td>\n",
              "            <td>Abdel Fattah el-Sisi</td>\n",
              "            <td>Jacinda Ardern</td>\n",
              "        </tr>\n",
              "        <tr>\n",
              "            <td>Asia</td>\n",
              "            <td>India</td>\n",
              "            <td>Ram Nath Kovind</td>\n",
              "            <td>Mostafa Madbouly</td>\n",
              "        </tr>\n",
              "        <tr>\n",
              "            <td>Asia</td>\n",
              "            <td>India</td>\n",
              "            <td>Ram Nath Kovind</td>\n",
              "            <td>António Costa</td>\n",
              "        </tr>\n",
              "        <tr>\n",
              "            <td>Asia</td>\n",
              "            <td>India</td>\n",
              "            <td>Ram Nath Kovind</td>\n",
              "            <td>Shehbaz Sharif</td>\n",
              "        </tr>\n",
              "        <tr>\n",
              "            <td>Asia</td>\n",
              "            <td>India</td>\n",
              "            <td>Ram Nath Kovind</td>\n",
              "            <td>Boris Johnson</td>\n",
              "        </tr>\n",
              "        <tr>\n",
              "            <td>Asia</td>\n",
              "            <td>India</td>\n",
              "            <td>Abdel Fattah el-Sisi</td>\n",
              "            <td>Narendra Modi</td>\n",
              "        </tr>\n",
              "        <tr>\n",
              "            <td>Asia</td>\n",
              "            <td>India</td>\n",
              "            <td>Marcelo Rebelo de Sousa</td>\n",
              "            <td>Narendra Modi</td>\n",
              "        </tr>\n",
              "        <tr>\n",
              "            <td>Asia</td>\n",
              "            <td>India</td>\n",
              "            <td>Joe Biden</td>\n",
              "            <td>Narendra Modi</td>\n",
              "        </tr>\n",
              "        <tr>\n",
              "            <td>Asia</td>\n",
              "            <td>India</td>\n",
              "            <td>Luis Lacalle Pou</td>\n",
              "            <td>Narendra Modi</td>\n",
              "        </tr>\n",
              "        <tr>\n",
              "            <td>Asia</td>\n",
              "            <td>India</td>\n",
              "            <td>Arif Alvi</td>\n",
              "            <td>Narendra Modi</td>\n",
              "        </tr>\n",
              "        <tr>\n",
              "            <td>Asia</td>\n",
              "            <td>India</td>\n",
              "            <td>Gabriel Boric</td>\n",
              "            <td>Narendra Modi</td>\n",
              "        </tr>\n",
              "        <tr>\n",
              "            <td>Asia</td>\n",
              "            <td>India</td>\n",
              "            <td>Ram Nath Kovind</td>\n",
              "            <td>Narendra Modi</td>\n",
              "        </tr>\n",
              "        <tr>\n",
              "            <td>Asia</td>\n",
              "            <td>India</td>\n",
              "            <td>Ram Nath Kovind</td>\n",
              "            <td>Scott Morrison</td>\n",
              "        </tr>\n",
              "        <tr>\n",
              "            <td>Asia</td>\n",
              "            <td>India</td>\n",
              "            <td>Ram Nath Kovind</td>\n",
              "            <td>Jonas Gahr Støre</td>\n",
              "        </tr>\n",
              "        <tr>\n",
              "            <td>Asia</td>\n",
              "            <td>India</td>\n",
              "            <td>Ram Nath Kovind</td>\n",
              "            <td>Hassanal Bolkiah</td>\n",
              "        </tr>\n",
              "        <tr>\n",
              "            <td>Asia</td>\n",
              "            <td>India</td>\n",
              "            <td>Ram Nath Kovind</td>\n",
              "            <td>Haitham bin Tarik</td>\n",
              "        </tr>\n",
              "        <tr>\n",
              "            <td>Asia</td>\n",
              "            <td>India</td>\n",
              "            <td>Ram Nath Kovind</td>\n",
              "            <td>Jacinda Ardern</td>\n",
              "        </tr>\n",
              "        <tr>\n",
              "            <td>Europe</td>\n",
              "            <td>Norway</td>\n",
              "            <td>None</td>\n",
              "            <td>Mostafa Madbouly</td>\n",
              "        </tr>\n",
              "        <tr>\n",
              "            <td>Europe</td>\n",
              "            <td>Norway</td>\n",
              "            <td>None</td>\n",
              "            <td>António Costa</td>\n",
              "        </tr>\n",
              "        <tr>\n",
              "            <td>Europe</td>\n",
              "            <td>Norway</td>\n",
              "            <td>None</td>\n",
              "            <td>Shehbaz Sharif</td>\n",
              "        </tr>\n",
              "        <tr>\n",
              "            <td>Europe</td>\n",
              "            <td>Norway</td>\n",
              "            <td>None</td>\n",
              "            <td>Boris Johnson</td>\n",
              "        </tr>\n",
              "        <tr>\n",
              "            <td>Europe</td>\n",
              "            <td>Norway</td>\n",
              "            <td>None</td>\n",
              "            <td>Narendra Modi</td>\n",
              "        </tr>\n",
              "        <tr>\n",
              "            <td>Europe</td>\n",
              "            <td>Norway</td>\n",
              "            <td>None</td>\n",
              "            <td>Scott Morrison</td>\n",
              "        </tr>\n",
              "        <tr>\n",
              "            <td>Europe</td>\n",
              "            <td>Norway</td>\n",
              "            <td>Abdel Fattah el-Sisi</td>\n",
              "            <td>Jonas Gahr Støre</td>\n",
              "        </tr>\n",
              "        <tr>\n",
              "            <td>Europe</td>\n",
              "            <td>Norway</td>\n",
              "            <td>Marcelo Rebelo de Sousa</td>\n",
              "            <td>Jonas Gahr Støre</td>\n",
              "        </tr>\n",
              "        <tr>\n",
              "            <td>Europe</td>\n",
              "            <td>Norway</td>\n",
              "            <td>Joe Biden</td>\n",
              "            <td>Jonas Gahr Støre</td>\n",
              "        </tr>\n",
              "        <tr>\n",
              "            <td>Europe</td>\n",
              "            <td>Norway</td>\n",
              "            <td>Luis Lacalle Pou</td>\n",
              "            <td>Jonas Gahr Støre</td>\n",
              "        </tr>\n",
              "        <tr>\n",
              "            <td>Europe</td>\n",
              "            <td>Norway</td>\n",
              "            <td>Arif Alvi</td>\n",
              "            <td>Jonas Gahr Støre</td>\n",
              "        </tr>\n",
              "        <tr>\n",
              "            <td>Europe</td>\n",
              "            <td>Norway</td>\n",
              "            <td>Gabriel Boric</td>\n",
              "            <td>Jonas Gahr Støre</td>\n",
              "        </tr>\n",
              "        <tr>\n",
              "            <td>Europe</td>\n",
              "            <td>Norway</td>\n",
              "            <td>Ram Nath Kovind</td>\n",
              "            <td>Jonas Gahr Støre</td>\n",
              "        </tr>\n",
              "        <tr>\n",
              "            <td>Europe</td>\n",
              "            <td>Norway</td>\n",
              "            <td>None</td>\n",
              "            <td>Hassanal Bolkiah</td>\n",
              "        </tr>\n",
              "        <tr>\n",
              "            <td>Europe</td>\n",
              "            <td>Norway</td>\n",
              "            <td>None</td>\n",
              "            <td>Haitham bin Tarik</td>\n",
              "        </tr>\n",
              "        <tr>\n",
              "            <td>Europe</td>\n",
              "            <td>Norway</td>\n",
              "            <td>None</td>\n",
              "            <td>Jacinda Ardern</td>\n",
              "        </tr>\n",
              "        <tr>\n",
              "            <td>Asia</td>\n",
              "            <td>Oman</td>\n",
              "            <td>None</td>\n",
              "            <td>Mostafa Madbouly</td>\n",
              "        </tr>\n",
              "        <tr>\n",
              "            <td>Asia</td>\n",
              "            <td>Oman</td>\n",
              "            <td>None</td>\n",
              "            <td>António Costa</td>\n",
              "        </tr>\n",
              "        <tr>\n",
              "            <td>Asia</td>\n",
              "            <td>Oman</td>\n",
              "            <td>None</td>\n",
              "            <td>Shehbaz Sharif</td>\n",
              "        </tr>\n",
              "        <tr>\n",
              "            <td>Asia</td>\n",
              "            <td>Oman</td>\n",
              "            <td>None</td>\n",
              "            <td>Boris Johnson</td>\n",
              "        </tr>\n",
              "        <tr>\n",
              "            <td>Asia</td>\n",
              "            <td>Oman</td>\n",
              "            <td>None</td>\n",
              "            <td>Narendra Modi</td>\n",
              "        </tr>\n",
              "        <tr>\n",
              "            <td>Asia</td>\n",
              "            <td>Oman</td>\n",
              "            <td>None</td>\n",
              "            <td>Scott Morrison</td>\n",
              "        </tr>\n",
              "        <tr>\n",
              "            <td>Asia</td>\n",
              "            <td>Oman</td>\n",
              "            <td>None</td>\n",
              "            <td>Jonas Gahr Støre</td>\n",
              "        </tr>\n",
              "        <tr>\n",
              "            <td>Asia</td>\n",
              "            <td>Oman</td>\n",
              "            <td>None</td>\n",
              "            <td>Hassanal Bolkiah</td>\n",
              "        </tr>\n",
              "        <tr>\n",
              "            <td>Asia</td>\n",
              "            <td>Oman</td>\n",
              "            <td>Abdel Fattah el-Sisi</td>\n",
              "            <td>Haitham bin Tarik</td>\n",
              "        </tr>\n",
              "        <tr>\n",
              "            <td>Asia</td>\n",
              "            <td>Oman</td>\n",
              "            <td>Marcelo Rebelo de Sousa</td>\n",
              "            <td>Haitham bin Tarik</td>\n",
              "        </tr>\n",
              "        <tr>\n",
              "            <td>Asia</td>\n",
              "            <td>Oman</td>\n",
              "            <td>Joe Biden</td>\n",
              "            <td>Haitham bin Tarik</td>\n",
              "        </tr>\n",
              "        <tr>\n",
              "            <td>Asia</td>\n",
              "            <td>Oman</td>\n",
              "            <td>Luis Lacalle Pou</td>\n",
              "            <td>Haitham bin Tarik</td>\n",
              "        </tr>\n",
              "        <tr>\n",
              "            <td>Asia</td>\n",
              "            <td>Oman</td>\n",
              "            <td>Arif Alvi</td>\n",
              "            <td>Haitham bin Tarik</td>\n",
              "        </tr>\n",
              "        <tr>\n",
              "            <td>Asia</td>\n",
              "            <td>Oman</td>\n",
              "            <td>Gabriel Boric</td>\n",
              "            <td>Haitham bin Tarik</td>\n",
              "        </tr>\n",
              "        <tr>\n",
              "            <td>Asia</td>\n",
              "            <td>Oman</td>\n",
              "            <td>Ram Nath Kovind</td>\n",
              "            <td>Haitham bin Tarik</td>\n",
              "        </tr>\n",
              "        <tr>\n",
              "            <td>Asia</td>\n",
              "            <td>Oman</td>\n",
              "            <td>None</td>\n",
              "            <td>Jacinda Ardern</td>\n",
              "        </tr>\n",
              "        <tr>\n",
              "            <td>Asia</td>\n",
              "            <td>Pakistan</td>\n",
              "            <td>Arif Alvi</td>\n",
              "            <td>Mostafa Madbouly</td>\n",
              "        </tr>\n",
              "        <tr>\n",
              "            <td>Asia</td>\n",
              "            <td>Pakistan</td>\n",
              "            <td>Arif Alvi</td>\n",
              "            <td>António Costa</td>\n",
              "        </tr>\n",
              "        <tr>\n",
              "            <td>Asia</td>\n",
              "            <td>Pakistan</td>\n",
              "            <td>Abdel Fattah el-Sisi</td>\n",
              "            <td>Shehbaz Sharif</td>\n",
              "        </tr>\n",
              "        <tr>\n",
              "            <td>Asia</td>\n",
              "            <td>Pakistan</td>\n",
              "            <td>Marcelo Rebelo de Sousa</td>\n",
              "            <td>Shehbaz Sharif</td>\n",
              "        </tr>\n",
              "        <tr>\n",
              "            <td>Asia</td>\n",
              "            <td>Pakistan</td>\n",
              "            <td>Joe Biden</td>\n",
              "            <td>Shehbaz Sharif</td>\n",
              "        </tr>\n",
              "        <tr>\n",
              "            <td>Asia</td>\n",
              "            <td>Pakistan</td>\n",
              "            <td>Luis Lacalle Pou</td>\n",
              "            <td>Shehbaz Sharif</td>\n",
              "        </tr>\n",
              "        <tr>\n",
              "            <td>Asia</td>\n",
              "            <td>Pakistan</td>\n",
              "            <td>Arif Alvi</td>\n",
              "            <td>Shehbaz Sharif</td>\n",
              "        </tr>\n",
              "        <tr>\n",
              "            <td>Asia</td>\n",
              "            <td>Pakistan</td>\n",
              "            <td>Gabriel Boric</td>\n",
              "            <td>Shehbaz Sharif</td>\n",
              "        </tr>\n",
              "        <tr>\n",
              "            <td>Asia</td>\n",
              "            <td>Pakistan</td>\n",
              "            <td>Ram Nath Kovind</td>\n",
              "            <td>Shehbaz Sharif</td>\n",
              "        </tr>\n",
              "        <tr>\n",
              "            <td>Asia</td>\n",
              "            <td>Pakistan</td>\n",
              "            <td>Arif Alvi</td>\n",
              "            <td>Boris Johnson</td>\n",
              "        </tr>\n",
              "        <tr>\n",
              "            <td>Asia</td>\n",
              "            <td>Pakistan</td>\n",
              "            <td>Arif Alvi</td>\n",
              "            <td>Narendra Modi</td>\n",
              "        </tr>\n",
              "        <tr>\n",
              "            <td>Asia</td>\n",
              "            <td>Pakistan</td>\n",
              "            <td>Arif Alvi</td>\n",
              "            <td>Scott Morrison</td>\n",
              "        </tr>\n",
              "        <tr>\n",
              "            <td>Asia</td>\n",
              "            <td>Pakistan</td>\n",
              "            <td>Arif Alvi</td>\n",
              "            <td>Jonas Gahr Støre</td>\n",
              "        </tr>\n",
              "        <tr>\n",
              "            <td>Asia</td>\n",
              "            <td>Pakistan</td>\n",
              "            <td>Arif Alvi</td>\n",
              "            <td>Hassanal Bolkiah</td>\n",
              "        </tr>\n",
              "        <tr>\n",
              "            <td>Asia</td>\n",
              "            <td>Pakistan</td>\n",
              "            <td>Arif Alvi</td>\n",
              "            <td>Haitham bin Tarik</td>\n",
              "        </tr>\n",
              "        <tr>\n",
              "            <td>Asia</td>\n",
              "            <td>Pakistan</td>\n",
              "            <td>Arif Alvi</td>\n",
              "            <td>Jacinda Ardern</td>\n",
              "        </tr>\n",
              "        <tr>\n",
              "            <td>Europe</td>\n",
              "            <td>Portugal</td>\n",
              "            <td>Marcelo Rebelo de Sousa</td>\n",
              "            <td>Mostafa Madbouly</td>\n",
              "        </tr>\n",
              "        <tr>\n",
              "            <td>Europe</td>\n",
              "            <td>Portugal</td>\n",
              "            <td>Abdel Fattah el-Sisi</td>\n",
              "            <td>António Costa</td>\n",
              "        </tr>\n",
              "        <tr>\n",
              "            <td>Europe</td>\n",
              "            <td>Portugal</td>\n",
              "            <td>Marcelo Rebelo de Sousa</td>\n",
              "            <td>António Costa</td>\n",
              "        </tr>\n",
              "        <tr>\n",
              "            <td>Europe</td>\n",
              "            <td>Portugal</td>\n",
              "            <td>Joe Biden</td>\n",
              "            <td>António Costa</td>\n",
              "        </tr>\n",
              "        <tr>\n",
              "            <td>Europe</td>\n",
              "            <td>Portugal</td>\n",
              "            <td>Luis Lacalle Pou</td>\n",
              "            <td>António Costa</td>\n",
              "        </tr>\n",
              "        <tr>\n",
              "            <td>Europe</td>\n",
              "            <td>Portugal</td>\n",
              "            <td>Arif Alvi</td>\n",
              "            <td>António Costa</td>\n",
              "        </tr>\n",
              "        <tr>\n",
              "            <td>Europe</td>\n",
              "            <td>Portugal</td>\n",
              "            <td>Gabriel Boric</td>\n",
              "            <td>António Costa</td>\n",
              "        </tr>\n",
              "        <tr>\n",
              "            <td>Europe</td>\n",
              "            <td>Portugal</td>\n",
              "            <td>Ram Nath Kovind</td>\n",
              "            <td>António Costa</td>\n",
              "        </tr>\n",
              "        <tr>\n",
              "            <td>Europe</td>\n",
              "            <td>Portugal</td>\n",
              "            <td>Marcelo Rebelo de Sousa</td>\n",
              "            <td>Shehbaz Sharif</td>\n",
              "        </tr>\n",
              "        <tr>\n",
              "            <td>Europe</td>\n",
              "            <td>Portugal</td>\n",
              "            <td>Marcelo Rebelo de Sousa</td>\n",
              "            <td>Boris Johnson</td>\n",
              "        </tr>\n",
              "        <tr>\n",
              "            <td>Europe</td>\n",
              "            <td>Portugal</td>\n",
              "            <td>Marcelo Rebelo de Sousa</td>\n",
              "            <td>Narendra Modi</td>\n",
              "        </tr>\n",
              "        <tr>\n",
              "            <td>Europe</td>\n",
              "            <td>Portugal</td>\n",
              "            <td>Marcelo Rebelo de Sousa</td>\n",
              "            <td>Scott Morrison</td>\n",
              "        </tr>\n",
              "        <tr>\n",
              "            <td>Europe</td>\n",
              "            <td>Portugal</td>\n",
              "            <td>Marcelo Rebelo de Sousa</td>\n",
              "            <td>Jonas Gahr Støre</td>\n",
              "        </tr>\n",
              "        <tr>\n",
              "            <td>Europe</td>\n",
              "            <td>Portugal</td>\n",
              "            <td>Marcelo Rebelo de Sousa</td>\n",
              "            <td>Hassanal Bolkiah</td>\n",
              "        </tr>\n",
              "        <tr>\n",
              "            <td>Europe</td>\n",
              "            <td>Portugal</td>\n",
              "            <td>Marcelo Rebelo de Sousa</td>\n",
              "            <td>Haitham bin Tarik</td>\n",
              "        </tr>\n",
              "        <tr>\n",
              "            <td>Europe</td>\n",
              "            <td>Portugal</td>\n",
              "            <td>Marcelo Rebelo de Sousa</td>\n",
              "            <td>Jacinda Ardern</td>\n",
              "        </tr>\n",
              "        <tr>\n",
              "            <td>South America</td>\n",
              "            <td>Uruguay</td>\n",
              "            <td>Luis Lacalle Pou</td>\n",
              "            <td>Mostafa Madbouly</td>\n",
              "        </tr>\n",
              "        <tr>\n",
              "            <td>South America</td>\n",
              "            <td>Uruguay</td>\n",
              "            <td>Luis Lacalle Pou</td>\n",
              "            <td>António Costa</td>\n",
              "        </tr>\n",
              "        <tr>\n",
              "            <td>South America</td>\n",
              "            <td>Uruguay</td>\n",
              "            <td>Luis Lacalle Pou</td>\n",
              "            <td>Shehbaz Sharif</td>\n",
              "        </tr>\n",
              "        <tr>\n",
              "            <td>South America</td>\n",
              "            <td>Uruguay</td>\n",
              "            <td>Luis Lacalle Pou</td>\n",
              "            <td>Boris Johnson</td>\n",
              "        </tr>\n",
              "        <tr>\n",
              "            <td>South America</td>\n",
              "            <td>Uruguay</td>\n",
              "            <td>Luis Lacalle Pou</td>\n",
              "            <td>Narendra Modi</td>\n",
              "        </tr>\n",
              "        <tr>\n",
              "            <td>South America</td>\n",
              "            <td>Uruguay</td>\n",
              "            <td>Luis Lacalle Pou</td>\n",
              "            <td>Scott Morrison</td>\n",
              "        </tr>\n",
              "        <tr>\n",
              "            <td>South America</td>\n",
              "            <td>Uruguay</td>\n",
              "            <td>Luis Lacalle Pou</td>\n",
              "            <td>Jonas Gahr Støre</td>\n",
              "        </tr>\n",
              "        <tr>\n",
              "            <td>South America</td>\n",
              "            <td>Uruguay</td>\n",
              "            <td>Luis Lacalle Pou</td>\n",
              "            <td>Hassanal Bolkiah</td>\n",
              "        </tr>\n",
              "        <tr>\n",
              "            <td>South America</td>\n",
              "            <td>Uruguay</td>\n",
              "            <td>Luis Lacalle Pou</td>\n",
              "            <td>Haitham bin Tarik</td>\n",
              "        </tr>\n",
              "        <tr>\n",
              "            <td>South America</td>\n",
              "            <td>Uruguay</td>\n",
              "            <td>Luis Lacalle Pou</td>\n",
              "            <td>Jacinda Ardern</td>\n",
              "        </tr>\n",
              "        <tr>\n",
              "            <td>North America</td>\n",
              "            <td>USA</td>\n",
              "            <td>Joe Biden</td>\n",
              "            <td>Mostafa Madbouly</td>\n",
              "        </tr>\n",
              "        <tr>\n",
              "            <td>North America</td>\n",
              "            <td>USA</td>\n",
              "            <td>Joe Biden</td>\n",
              "            <td>António Costa</td>\n",
              "        </tr>\n",
              "        <tr>\n",
              "            <td>North America</td>\n",
              "            <td>USA</td>\n",
              "            <td>Joe Biden</td>\n",
              "            <td>Shehbaz Sharif</td>\n",
              "        </tr>\n",
              "        <tr>\n",
              "            <td>North America</td>\n",
              "            <td>USA</td>\n",
              "            <td>Joe Biden</td>\n",
              "            <td>Boris Johnson</td>\n",
              "        </tr>\n",
              "        <tr>\n",
              "            <td>North America</td>\n",
              "            <td>USA</td>\n",
              "            <td>Joe Biden</td>\n",
              "            <td>Narendra Modi</td>\n",
              "        </tr>\n",
              "        <tr>\n",
              "            <td>North America</td>\n",
              "            <td>USA</td>\n",
              "            <td>Joe Biden</td>\n",
              "            <td>Scott Morrison</td>\n",
              "        </tr>\n",
              "        <tr>\n",
              "            <td>North America</td>\n",
              "            <td>USA</td>\n",
              "            <td>Joe Biden</td>\n",
              "            <td>Jonas Gahr Støre</td>\n",
              "        </tr>\n",
              "        <tr>\n",
              "            <td>North America</td>\n",
              "            <td>USA</td>\n",
              "            <td>Joe Biden</td>\n",
              "            <td>Hassanal Bolkiah</td>\n",
              "        </tr>\n",
              "        <tr>\n",
              "            <td>North America</td>\n",
              "            <td>USA</td>\n",
              "            <td>Joe Biden</td>\n",
              "            <td>Haitham bin Tarik</td>\n",
              "        </tr>\n",
              "        <tr>\n",
              "            <td>North America</td>\n",
              "            <td>USA</td>\n",
              "            <td>Joe Biden</td>\n",
              "            <td>Jacinda Ardern</td>\n",
              "        </tr>\n",
              "    </tbody>\n",
              "</table>"
            ]
          },
          "metadata": {},
          "execution_count": 109
        }
      ]
    },
    {
      "cell_type": "code",
      "source": [
        "%%sql SELECT s.continent,\n",
        "             s.country,\n",
        "             pr.president AS president,\n",
        "             pm.prime_minister AS prime_minister\n",
        "FROM states AS s\n",
        "LEFT JOIN presidents AS pr\n",
        "ON pr.country = s.country\n",
        "LEFT JOIN prime_ministers AS pm\n",
        "ON s.country = pm.country;"
      ],
      "metadata": {
        "colab": {
          "base_uri": "https://localhost:8080/",
          "height": 310
        },
        "id": "Q6V6uzajFUvS",
        "outputId": "75bfedeb-1e00-4734-cf7b-d5522404df42"
      },
      "execution_count": 111,
      "outputs": [
        {
          "output_type": "stream",
          "name": "stdout",
          "text": [
            " * sqlite://\n",
            "Done.\n"
          ]
        },
        {
          "output_type": "execute_result",
          "data": {
            "text/plain": [
              "[('Oceania', 'Australia', None, 'Scott Morrison'),\n",
              " ('Asia', 'Brunei', None, 'Hassanal Bolkiah'),\n",
              " ('South America', 'Chile', 'Gabriel Boric', None),\n",
              " ('Africa', 'Egypt', 'Abdel Fattah el-Sisi', 'Mostafa Madbouly'),\n",
              " ('Asia', 'India', 'Ram Nath Kovind', 'Narendra Modi'),\n",
              " ('Europe', 'Norway', None, 'Jonas Gahr Støre'),\n",
              " ('Asia', 'Oman', None, 'Haitham bin Tarik'),\n",
              " ('Asia', 'Pakistan', 'Arif Alvi', 'Shehbaz Sharif'),\n",
              " ('Europe', 'Portugal', 'Marcelo Rebelo de Sousa', 'António Costa'),\n",
              " ('South America', 'Uruguay', 'Luis Lacalle Pou', None),\n",
              " ('North America', 'USA', 'Joe Biden', None)]"
            ],
            "text/html": [
              "<table>\n",
              "    <thead>\n",
              "        <tr>\n",
              "            <th>continent</th>\n",
              "            <th>country</th>\n",
              "            <th>president</th>\n",
              "            <th>prime_minister</th>\n",
              "        </tr>\n",
              "    </thead>\n",
              "    <tbody>\n",
              "        <tr>\n",
              "            <td>Oceania</td>\n",
              "            <td>Australia</td>\n",
              "            <td>None</td>\n",
              "            <td>Scott Morrison</td>\n",
              "        </tr>\n",
              "        <tr>\n",
              "            <td>Asia</td>\n",
              "            <td>Brunei</td>\n",
              "            <td>None</td>\n",
              "            <td>Hassanal Bolkiah</td>\n",
              "        </tr>\n",
              "        <tr>\n",
              "            <td>South America</td>\n",
              "            <td>Chile</td>\n",
              "            <td>Gabriel Boric</td>\n",
              "            <td>None</td>\n",
              "        </tr>\n",
              "        <tr>\n",
              "            <td>Africa</td>\n",
              "            <td>Egypt</td>\n",
              "            <td>Abdel Fattah el-Sisi</td>\n",
              "            <td>Mostafa Madbouly</td>\n",
              "        </tr>\n",
              "        <tr>\n",
              "            <td>Asia</td>\n",
              "            <td>India</td>\n",
              "            <td>Ram Nath Kovind</td>\n",
              "            <td>Narendra Modi</td>\n",
              "        </tr>\n",
              "        <tr>\n",
              "            <td>Europe</td>\n",
              "            <td>Norway</td>\n",
              "            <td>None</td>\n",
              "            <td>Jonas Gahr Støre</td>\n",
              "        </tr>\n",
              "        <tr>\n",
              "            <td>Asia</td>\n",
              "            <td>Oman</td>\n",
              "            <td>None</td>\n",
              "            <td>Haitham bin Tarik</td>\n",
              "        </tr>\n",
              "        <tr>\n",
              "            <td>Asia</td>\n",
              "            <td>Pakistan</td>\n",
              "            <td>Arif Alvi</td>\n",
              "            <td>Shehbaz Sharif</td>\n",
              "        </tr>\n",
              "        <tr>\n",
              "            <td>Europe</td>\n",
              "            <td>Portugal</td>\n",
              "            <td>Marcelo Rebelo de Sousa</td>\n",
              "            <td>António Costa</td>\n",
              "        </tr>\n",
              "        <tr>\n",
              "            <td>South America</td>\n",
              "            <td>Uruguay</td>\n",
              "            <td>Luis Lacalle Pou</td>\n",
              "            <td>None</td>\n",
              "        </tr>\n",
              "        <tr>\n",
              "            <td>North America</td>\n",
              "            <td>USA</td>\n",
              "            <td>Joe Biden</td>\n",
              "            <td>None</td>\n",
              "        </tr>\n",
              "    </tbody>\n",
              "</table>"
            ]
          },
          "metadata": {},
          "execution_count": 111
        }
      ]
    },
    {
      "cell_type": "code",
      "source": [
        "%%sql SELECT p1.continent,\n",
        "             p2.prime_minister,\n",
        "             (SELECT AVG(pm_start)\n",
        "             FROM prime_ministers AS p3\n",
        "             WHERE p3.continent = p1.continent) AS avg_term\n",
        "FROM prime_ministers AS p1\n",
        "CROSS JOIN prime_minister_terms AS p2"
      ],
      "metadata": {
        "colab": {
          "base_uri": "https://localhost:8080/",
          "height": 96
        },
        "id": "Xp90Vt7wGhyH",
        "outputId": "6358142a-0473-4e52-af02-793c0be3840f"
      },
      "execution_count": 128,
      "outputs": [
        {
          "output_type": "stream",
          "name": "stdout",
          "text": [
            " * sqlite://\n",
            "Done.\n"
          ]
        },
        {
          "output_type": "execute_result",
          "data": {
            "text/plain": [
              "[('Africa', 'Mostafa Madbouly', 2014.8)]"
            ],
            "text/html": [
              "<table>\n",
              "    <thead>\n",
              "        <tr>\n",
              "            <th>continent</th>\n",
              "            <th>prime_minister</th>\n",
              "            <th>avg_term</th>\n",
              "        </tr>\n",
              "    </thead>\n",
              "    <tbody>\n",
              "        <tr>\n",
              "            <td>Africa</td>\n",
              "            <td>Mostafa Madbouly</td>\n",
              "            <td>2014.8</td>\n",
              "        </tr>\n",
              "    </tbody>\n",
              "</table>"
            ]
          },
          "metadata": {},
          "execution_count": 128
        }
      ]
    },
    {
      "cell_type": "code",
      "source": [
        "%%sql SELECT s.continent,\n",
        "             p1.prime_minister,\n",
        "             (SELECT AVG(pm_start)\n",
        "             FROM prime_ministers AS p2\n",
        "             WHERE p2.continent = s.continent) AS avg_term\n",
        "FROM states AS s\n",
        "CROSS JOIN prime_minister_terms AS p1;"
      ],
      "metadata": {
        "colab": {
          "base_uri": "https://localhost:8080/",
          "height": 96
        },
        "id": "BeceaJs8ImMZ",
        "outputId": "9017e6a8-72e6-4b55-b170-1da2923b1f36"
      },
      "execution_count": 133,
      "outputs": [
        {
          "output_type": "stream",
          "name": "stdout",
          "text": [
            " * sqlite://\n",
            "Done.\n"
          ]
        },
        {
          "output_type": "execute_result",
          "data": {
            "text/plain": [
              "[('Oceania', 'Mostafa Madbouly', 2014.8)]"
            ],
            "text/html": [
              "<table>\n",
              "    <thead>\n",
              "        <tr>\n",
              "            <th>continent</th>\n",
              "            <th>prime_minister</th>\n",
              "            <th>avg_term</th>\n",
              "        </tr>\n",
              "    </thead>\n",
              "    <tbody>\n",
              "        <tr>\n",
              "            <td>Oceania</td>\n",
              "            <td>Mostafa Madbouly</td>\n",
              "            <td>2014.8</td>\n",
              "        </tr>\n",
              "    </tbody>\n",
              "</table>"
            ]
          },
          "metadata": {},
          "execution_count": 133
        }
      ]
    },
    {
      "cell_type": "code",
      "source": [
        "%%sql SELECT continent, AVG(pm_start) AS avg_term\n",
        "FROM prime_minister_terms\n",
        "CROSS JOIN prime_ministers\n",
        "GROUP BY continent;"
      ],
      "metadata": {
        "colab": {
          "base_uri": "https://localhost:8080/",
          "height": 161
        },
        "id": "bCW-mWhOKZ-v",
        "outputId": "c83d5d42-092f-48e5-fa41-341eeec8c6d2"
      },
      "execution_count": 134,
      "outputs": [
        {
          "output_type": "stream",
          "name": "stdout",
          "text": [
            " * sqlite://\n",
            "Done.\n"
          ]
        },
        {
          "output_type": "execute_result",
          "data": {
            "text/plain": [
              "[('Africa', 2014.8), ('Asia', 2014.8), ('Europe', 2014.8), ('Oceania', 2014.8)]"
            ],
            "text/html": [
              "<table>\n",
              "    <thead>\n",
              "        <tr>\n",
              "            <th>continent</th>\n",
              "            <th>avg_term</th>\n",
              "        </tr>\n",
              "    </thead>\n",
              "    <tbody>\n",
              "        <tr>\n",
              "            <td>Africa</td>\n",
              "            <td>2014.8</td>\n",
              "        </tr>\n",
              "        <tr>\n",
              "            <td>Asia</td>\n",
              "            <td>2014.8</td>\n",
              "        </tr>\n",
              "        <tr>\n",
              "            <td>Europe</td>\n",
              "            <td>2014.8</td>\n",
              "        </tr>\n",
              "        <tr>\n",
              "            <td>Oceania</td>\n",
              "            <td>2014.8</td>\n",
              "        </tr>\n",
              "    </tbody>\n",
              "</table>"
            ]
          },
          "metadata": {},
          "execution_count": 134
        }
      ]
    }
  ]
}