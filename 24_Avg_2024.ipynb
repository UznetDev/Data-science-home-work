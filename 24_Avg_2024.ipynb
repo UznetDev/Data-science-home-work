{
  "nbformat": 4,
  "nbformat_minor": 0,
  "metadata": {
    "colab": {
      "provenance": [],
      "collapsed_sections": [
        "4yHz4zewqni4",
        "NS6j93AQiH7B"
      ],
      "authorship_tag": "ABX9TyN+lHne0Yi2VmMvofJoAodo",
      "include_colab_link": true
    },
    "kernelspec": {
      "name": "python3",
      "display_name": "Python 3"
    },
    "language_info": {
      "name": "python"
    }
  },
  "cells": [
    {
      "cell_type": "markdown",
      "metadata": {
        "id": "view-in-github",
        "colab_type": "text"
      },
      "source": [
        "<a href=\"https://colab.research.google.com/github/UznetDev/Data-science-home-work/blob/main/24_Avg_2024.ipynb\" target=\"_parent\"><img src=\"https://colab.research.google.com/assets/colab-badge.svg\" alt=\"Open In Colab\"/></a>"
      ]
    },
    {
      "cell_type": "markdown",
      "source": [
        "# **SQL**"
      ],
      "metadata": {
        "id": "GZxK2bDnj6_Q"
      }
    },
    {
      "cell_type": "markdown",
      "source": [
        "### Import librares"
      ],
      "metadata": {
        "id": "4yHz4zewqni4"
      }
    },
    {
      "cell_type": "code",
      "execution_count": 20,
      "metadata": {
        "id": "zpHxL5F4hVc9"
      },
      "outputs": [],
      "source": [
        "import pandas as pd"
      ]
    },
    {
      "cell_type": "markdown",
      "source": [
        "### Set-up for SQL"
      ],
      "metadata": {
        "id": "NS6j93AQiH7B"
      }
    },
    {
      "cell_type": "code",
      "source": [
        "%load_ext sql\n",
        "%sql sqlite://"
      ],
      "metadata": {
        "id": "_cyIAPu-iBED",
        "colab": {
          "base_uri": "https://localhost:8080/"
        },
        "outputId": "1a344dc7-1c5d-4675-df29-98510266e24c"
      },
      "execution_count": 21,
      "outputs": [
        {
          "output_type": "stream",
          "name": "stdout",
          "text": [
            "The sql extension is already loaded. To reload it, use:\n",
            "  %reload_ext sql\n"
          ]
        }
      ]
    },
    {
      "cell_type": "markdown",
      "source": [
        "##### Load dataset"
      ],
      "metadata": {
        "id": "qlhev4g0_TQD"
      }
    },
    {
      "cell_type": "code",
      "source": [
        "monarchs = pd.read_csv('monarchs.csv')\n",
        "presidents = pd.read_csv('presidents.csv')\n",
        "prime_minister_terms = pd.read_csv('prime_minister_terms.csv')\n",
        "prime_ministers = pd.read_csv('prime_ministers.csv')\n",
        "states = pd.read_csv('states.csv')"
      ],
      "metadata": {
        "id": "fWsxJNZ2ir-H"
      },
      "execution_count": 22,
      "outputs": []
    },
    {
      "cell_type": "markdown",
      "source": [
        "##### Upload dataset to SQL"
      ],
      "metadata": {
        "id": "aunGHMzJ_bSy"
      }
    },
    {
      "cell_type": "code",
      "source": [
        "%sql DROP TABLE IF EXISTS monarchs;\n",
        "%sql --persist monarchs\n",
        "\n",
        "%sql DROP TABLE IF EXISTS presidents;\n",
        "%sql --persist presidents\n",
        "\n",
        "%sql DROP TABLE IF EXISTS prime_minister_terms;\n",
        "%sql --persist prime_minister_terms\n",
        "\n",
        "%sql DROP TABLE IF EXISTS prime_ministers;\n",
        "%sql --persist prime_ministers\n",
        "\n",
        "%sql DROP TABLE IF EXISTS states;\n",
        "%sql --persist states"
      ],
      "metadata": {
        "colab": {
          "base_uri": "https://localhost:8080/",
          "height": 0
        },
        "id": "gCxdrMMXi34q",
        "outputId": "56a28bda-fad6-4315-bdef-c4e2f7aebf9c"
      },
      "execution_count": 23,
      "outputs": [
        {
          "output_type": "stream",
          "name": "stdout",
          "text": [
            " * sqlite://\n",
            "Done.\n",
            " * sqlite://\n",
            " * sqlite://\n",
            "Done.\n",
            " * sqlite://\n",
            " * sqlite://\n",
            "Done.\n",
            " * sqlite://\n",
            " * sqlite://\n",
            "Done.\n",
            " * sqlite://\n",
            " * sqlite://\n",
            "Done.\n",
            " * sqlite://\n"
          ]
        },
        {
          "output_type": "execute_result",
          "data": {
            "text/plain": [
              "'Persisted states'"
            ],
            "application/vnd.google.colaboratory.intrinsic+json": {
              "type": "string"
            }
          },
          "metadata": {},
          "execution_count": 23
        }
      ]
    },
    {
      "cell_type": "markdown",
      "source": [
        "### Class work"
      ],
      "metadata": {
        "id": "Xp8q7BO4lq4q"
      }
    },
    {
      "cell_type": "markdown",
      "source": [
        "#### Part 1"
      ],
      "metadata": {
        "id": "Ds4KXfUIlsXa"
      }
    },
    {
      "cell_type": "code",
      "source": [
        "%%sql\n",
        "SELECT continent, COUNT(country) AS number_of_countries\n",
        "FROM states\n",
        "GROUP BY continent\n",
        "ORDER BY number_of_countries DESC"
      ],
      "metadata": {
        "colab": {
          "base_uri": "https://localhost:8080/",
          "height": 203
        },
        "id": "dORf5X68lyU2",
        "outputId": "f50a46aa-39e8-4f3e-f54c-6341de86bc72"
      },
      "execution_count": 25,
      "outputs": [
        {
          "output_type": "stream",
          "name": "stdout",
          "text": [
            " * sqlite://\n",
            "Done.\n"
          ]
        },
        {
          "output_type": "execute_result",
          "data": {
            "text/plain": [
              "[('Asia', 4),\n",
              " ('South America', 2),\n",
              " ('Europe', 2),\n",
              " ('Oceania', 1),\n",
              " ('North America', 1),\n",
              " ('Africa', 1)]"
            ],
            "text/html": [
              "<table>\n",
              "    <thead>\n",
              "        <tr>\n",
              "            <th>continent</th>\n",
              "            <th>number_of_countries</th>\n",
              "        </tr>\n",
              "    </thead>\n",
              "    <tbody>\n",
              "        <tr>\n",
              "            <td>Asia</td>\n",
              "            <td>4</td>\n",
              "        </tr>\n",
              "        <tr>\n",
              "            <td>South America</td>\n",
              "            <td>2</td>\n",
              "        </tr>\n",
              "        <tr>\n",
              "            <td>Europe</td>\n",
              "            <td>2</td>\n",
              "        </tr>\n",
              "        <tr>\n",
              "            <td>Oceania</td>\n",
              "            <td>1</td>\n",
              "        </tr>\n",
              "        <tr>\n",
              "            <td>North America</td>\n",
              "            <td>1</td>\n",
              "        </tr>\n",
              "        <tr>\n",
              "            <td>Africa</td>\n",
              "            <td>1</td>\n",
              "        </tr>\n",
              "    </tbody>\n",
              "</table>"
            ]
          },
          "metadata": {},
          "execution_count": 25
        }
      ]
    },
    {
      "cell_type": "code",
      "source": [
        "%%sql SELECT AVG(indep_year)\n",
        "FROM states;"
      ],
      "metadata": {
        "colab": {
          "base_uri": "https://localhost:8080/",
          "height": 96
        },
        "id": "bk0z9gvVmAvL",
        "outputId": "cb0c802c-faa8-442b-ae2a-df07bb6d74b9"
      },
      "execution_count": 27,
      "outputs": [
        {
          "output_type": "stream",
          "name": "stdout",
          "text": [
            " * sqlite://\n",
            "Done.\n"
          ]
        },
        {
          "output_type": "execute_result",
          "data": {
            "text/plain": [
              "[(1829.0,)]"
            ],
            "text/html": [
              "<table>\n",
              "    <thead>\n",
              "        <tr>\n",
              "            <th>AVG(indep_year)</th>\n",
              "        </tr>\n",
              "    </thead>\n",
              "    <tbody>\n",
              "        <tr>\n",
              "            <td>1829.0</td>\n",
              "        </tr>\n",
              "    </tbody>\n",
              "</table>"
            ]
          },
          "metadata": {},
          "execution_count": 27
        }
      ]
    },
    {
      "cell_type": "code",
      "source": [
        "%%sql SELECT AVG(indep_year)\n",
        "FROM states\n",
        "WHERE indep_year > 200;"
      ],
      "metadata": {
        "colab": {
          "base_uri": "https://localhost:8080/",
          "height": 96
        },
        "id": "oTAQUZZumNgm",
        "outputId": "5ffa8b23-e424-4e1c-ddb4-aaeb747f6684"
      },
      "execution_count": 28,
      "outputs": [
        {
          "output_type": "stream",
          "name": "stdout",
          "text": [
            " * sqlite://\n",
            "Done.\n"
          ]
        },
        {
          "output_type": "execute_result",
          "data": {
            "text/plain": [
              "[(1829.0,)]"
            ],
            "text/html": [
              "<table>\n",
              "    <thead>\n",
              "        <tr>\n",
              "            <th>AVG(indep_year)</th>\n",
              "        </tr>\n",
              "    </thead>\n",
              "    <tbody>\n",
              "        <tr>\n",
              "            <td>1829.0</td>\n",
              "        </tr>\n",
              "    </tbody>\n",
              "</table>"
            ]
          },
          "metadata": {},
          "execution_count": 28
        }
      ]
    },
    {
      "cell_type": "code",
      "source": [
        "%%sql SELECT continent, COUNT(prime_minister) AS number_of_prime_ministers\n",
        "FROM prime_ministers\n",
        "GROUP BY continent\n",
        "ORDER BY number_of_prime_ministers DESC;"
      ],
      "metadata": {
        "colab": {
          "base_uri": "https://localhost:8080/",
          "height": 161
        },
        "id": "muWJ4VBDmVrH",
        "outputId": "a56640d0-e54b-45ee-c7bf-c15356b4fa78"
      },
      "execution_count": 31,
      "outputs": [
        {
          "output_type": "stream",
          "name": "stdout",
          "text": [
            " * sqlite://\n",
            "Done.\n"
          ]
        },
        {
          "output_type": "execute_result",
          "data": {
            "text/plain": [
              "[('Asia', 4), ('Europe', 3), ('Oceania', 2), ('Africa', 1)]"
            ],
            "text/html": [
              "<table>\n",
              "    <thead>\n",
              "        <tr>\n",
              "            <th>continent</th>\n",
              "            <th>number_of_prime_ministers</th>\n",
              "        </tr>\n",
              "    </thead>\n",
              "    <tbody>\n",
              "        <tr>\n",
              "            <td>Asia</td>\n",
              "            <td>4</td>\n",
              "        </tr>\n",
              "        <tr>\n",
              "            <td>Europe</td>\n",
              "            <td>3</td>\n",
              "        </tr>\n",
              "        <tr>\n",
              "            <td>Oceania</td>\n",
              "            <td>2</td>\n",
              "        </tr>\n",
              "        <tr>\n",
              "            <td>Africa</td>\n",
              "            <td>1</td>\n",
              "        </tr>\n",
              "    </tbody>\n",
              "</table>"
            ]
          },
          "metadata": {},
          "execution_count": 31
        }
      ]
    },
    {
      "cell_type": "code",
      "source": [
        "%%sql SELECT continent, COUNT(prime_minister) AS number_of_prime_ministers\n",
        "FROM prime_ministers\n",
        "GROUP BY continent\n",
        "HAVING number_of_prime_ministers > 10\n",
        "ORDER BY number_of_prime_ministers DESC;"
      ],
      "metadata": {
        "colab": {
          "base_uri": "https://localhost:8080/",
          "height": 75
        },
        "id": "9HBr4Kz0mmNN",
        "outputId": "76238428-2b55-4eae-d8b4-330d890ccde1"
      },
      "execution_count": 32,
      "outputs": [
        {
          "output_type": "stream",
          "name": "stdout",
          "text": [
            " * sqlite://\n",
            "Done.\n"
          ]
        },
        {
          "output_type": "execute_result",
          "data": {
            "text/plain": [
              "[]"
            ],
            "text/html": [
              "<table>\n",
              "    <thead>\n",
              "        <tr>\n",
              "            <th>continent</th>\n",
              "            <th>number_of_prime_ministers</th>\n",
              "        </tr>\n",
              "    </thead>\n",
              "    <tbody>\n",
              "    </tbody>\n",
              "</table>"
            ]
          },
          "metadata": {},
          "execution_count": 32
        }
      ]
    },
    {
      "cell_type": "code",
      "source": [
        "%%sql SELECT prime_minister, pm_start\n",
        "FROM prime_minister_terms\n",
        "ORDER BY pm_start DESC\n",
        "LIMIT 1;"
      ],
      "metadata": {
        "colab": {
          "base_uri": "https://localhost:8080/",
          "height": 96
        },
        "id": "0lukc5y8m4jU",
        "outputId": "2aa9f10c-2e9c-49b5-e3d6-92d9361cb668"
      },
      "execution_count": 34,
      "outputs": [
        {
          "output_type": "stream",
          "name": "stdout",
          "text": [
            " * sqlite://\n",
            "Done.\n"
          ]
        },
        {
          "output_type": "execute_result",
          "data": {
            "text/plain": [
              "[('Shehbaz Sharif', 2022)]"
            ],
            "text/html": [
              "<table>\n",
              "    <thead>\n",
              "        <tr>\n",
              "            <th>prime_minister</th>\n",
              "            <th>pm_start</th>\n",
              "        </tr>\n",
              "    </thead>\n",
              "    <tbody>\n",
              "        <tr>\n",
              "            <td>Shehbaz Sharif</td>\n",
              "            <td>2022</td>\n",
              "        </tr>\n",
              "    </tbody>\n",
              "</table>"
            ]
          },
          "metadata": {},
          "execution_count": 34
        }
      ]
    },
    {
      "cell_type": "code",
      "source": [
        "%%sql SELECT prime_minister, MAX(pm_start)\n",
        "FROM prime_minister_terms;"
      ],
      "metadata": {
        "colab": {
          "base_uri": "https://localhost:8080/",
          "height": 96
        },
        "id": "lYqxVKbmnTiw",
        "outputId": "31624227-89ab-46d5-b9f6-55f21634a539"
      },
      "execution_count": 36,
      "outputs": [
        {
          "output_type": "stream",
          "name": "stdout",
          "text": [
            " * sqlite://\n",
            "Done.\n"
          ]
        },
        {
          "output_type": "execute_result",
          "data": {
            "text/plain": [
              "[('Shehbaz Sharif', 2022)]"
            ],
            "text/html": [
              "<table>\n",
              "    <thead>\n",
              "        <tr>\n",
              "            <th>prime_minister</th>\n",
              "            <th>MAX(pm_start)</th>\n",
              "        </tr>\n",
              "    </thead>\n",
              "    <tbody>\n",
              "        <tr>\n",
              "            <td>Shehbaz Sharif</td>\n",
              "            <td>2022</td>\n",
              "        </tr>\n",
              "    </tbody>\n",
              "</table>"
            ]
          },
          "metadata": {},
          "execution_count": 36
        }
      ]
    },
    {
      "cell_type": "code",
      "source": [
        "%%sql SELECT continent, COUNT(*) AS number_of_states\n",
        "FROM monarchs\n",
        "GROUP BY continent\n",
        "ORDER BY number_of_states;"
      ],
      "metadata": {
        "colab": {
          "base_uri": "https://localhost:8080/",
          "height": 118
        },
        "id": "1RY89DuYnnQ2",
        "outputId": "37984de0-d9c3-4810-b8ed-434f4cbc0d43"
      },
      "execution_count": 37,
      "outputs": [
        {
          "output_type": "stream",
          "name": "stdout",
          "text": [
            " * sqlite://\n",
            "Done.\n"
          ]
        },
        {
          "output_type": "execute_result",
          "data": {
            "text/plain": [
              "[('Asia', 2), ('Europe', 2)]"
            ],
            "text/html": [
              "<table>\n",
              "    <thead>\n",
              "        <tr>\n",
              "            <th>continent</th>\n",
              "            <th>number_of_states</th>\n",
              "        </tr>\n",
              "    </thead>\n",
              "    <tbody>\n",
              "        <tr>\n",
              "            <td>Asia</td>\n",
              "            <td>2</td>\n",
              "        </tr>\n",
              "        <tr>\n",
              "            <td>Europe</td>\n",
              "            <td>2</td>\n",
              "        </tr>\n",
              "    </tbody>\n",
              "</table>"
            ]
          },
          "metadata": {},
          "execution_count": 37
        }
      ]
    },
    {
      "cell_type": "code",
      "source": [
        "%%sql SELECT continent,\n",
        "      (SELECT COUNT(*)\n",
        "       FROM monarchs\n",
        "       WHERE monarchs.continent = states.continent) AS number_of_states\n",
        "FROM states\n",
        "GROUP BY continent\n",
        "ORDER BY number_of_states;"
      ],
      "metadata": {
        "colab": {
          "base_uri": "https://localhost:8080/",
          "height": 203
        },
        "id": "d-h6JzUwn_Eg",
        "outputId": "5d0d3c2d-1263-4b10-f826-82e39f527679"
      },
      "execution_count": 38,
      "outputs": [
        {
          "output_type": "stream",
          "name": "stdout",
          "text": [
            " * sqlite://\n",
            "Done.\n"
          ]
        },
        {
          "output_type": "execute_result",
          "data": {
            "text/plain": [
              "[('Africa', 0),\n",
              " ('North America', 0),\n",
              " ('Oceania', 0),\n",
              " ('South America', 0),\n",
              " ('Asia', 2),\n",
              " ('Europe', 2)]"
            ],
            "text/html": [
              "<table>\n",
              "    <thead>\n",
              "        <tr>\n",
              "            <th>continent</th>\n",
              "            <th>number_of_states</th>\n",
              "        </tr>\n",
              "    </thead>\n",
              "    <tbody>\n",
              "        <tr>\n",
              "            <td>Africa</td>\n",
              "            <td>0</td>\n",
              "        </tr>\n",
              "        <tr>\n",
              "            <td>North America</td>\n",
              "            <td>0</td>\n",
              "        </tr>\n",
              "        <tr>\n",
              "            <td>Oceania</td>\n",
              "            <td>0</td>\n",
              "        </tr>\n",
              "        <tr>\n",
              "            <td>South America</td>\n",
              "            <td>0</td>\n",
              "        </tr>\n",
              "        <tr>\n",
              "            <td>Asia</td>\n",
              "            <td>2</td>\n",
              "        </tr>\n",
              "        <tr>\n",
              "            <td>Europe</td>\n",
              "            <td>2</td>\n",
              "        </tr>\n",
              "    </tbody>\n",
              "</table>"
            ]
          },
          "metadata": {},
          "execution_count": 38
        }
      ]
    },
    {
      "cell_type": "code",
      "source": [
        "%%sql SELECT continent,\n",
        "      (SELECT COUNT(*)\n",
        "       FROM monarchs\n",
        "       WHERE monarchs.continent = states.continent) AS number_of_states\n",
        "FROM states\n",
        "GROUP BY continent\n",
        "ORDER BY number_of_states DESC;"
      ],
      "metadata": {
        "colab": {
          "base_uri": "https://localhost:8080/",
          "height": 203
        },
        "id": "8HF0bgHRpW8l",
        "outputId": "384dfb8c-9465-4a3a-e4ff-f0cd6c19ff86"
      },
      "execution_count": 40,
      "outputs": [
        {
          "output_type": "stream",
          "name": "stdout",
          "text": [
            " * sqlite://\n",
            "Done.\n"
          ]
        },
        {
          "output_type": "execute_result",
          "data": {
            "text/plain": [
              "[('Europe', 2),\n",
              " ('Asia', 2),\n",
              " ('South America', 0),\n",
              " ('Oceania', 0),\n",
              " ('North America', 0),\n",
              " ('Africa', 0)]"
            ],
            "text/html": [
              "<table>\n",
              "    <thead>\n",
              "        <tr>\n",
              "            <th>continent</th>\n",
              "            <th>number_of_states</th>\n",
              "        </tr>\n",
              "    </thead>\n",
              "    <tbody>\n",
              "        <tr>\n",
              "            <td>Europe</td>\n",
              "            <td>2</td>\n",
              "        </tr>\n",
              "        <tr>\n",
              "            <td>Asia</td>\n",
              "            <td>2</td>\n",
              "        </tr>\n",
              "        <tr>\n",
              "            <td>South America</td>\n",
              "            <td>0</td>\n",
              "        </tr>\n",
              "        <tr>\n",
              "            <td>Oceania</td>\n",
              "            <td>0</td>\n",
              "        </tr>\n",
              "        <tr>\n",
              "            <td>North America</td>\n",
              "            <td>0</td>\n",
              "        </tr>\n",
              "        <tr>\n",
              "            <td>Africa</td>\n",
              "            <td>0</td>\n",
              "        </tr>\n",
              "    </tbody>\n",
              "</table>"
            ]
          },
          "metadata": {},
          "execution_count": 40
        }
      ]
    },
    {
      "cell_type": "code",
      "source": [
        "%%sql SELECT prime_minister, MAX(pm_start) AS last_term\n",
        "FROM prime_minister_terms\n",
        "GROUP BY prime_minister\n",
        "HAVING last_term > 2000;"
      ],
      "metadata": {
        "colab": {
          "base_uri": "https://localhost:8080/",
          "height": 267
        },
        "id": "faTXzQpwqNRy",
        "outputId": "f3a93c48-ff22-4540-e188-efa68401453e"
      },
      "execution_count": 43,
      "outputs": [
        {
          "output_type": "stream",
          "name": "stdout",
          "text": [
            " * sqlite://\n",
            "Done.\n"
          ]
        },
        {
          "output_type": "execute_result",
          "data": {
            "text/plain": [
              "[('António Costa', 2015),\n",
              " ('Boris Johnson', 2019),\n",
              " ('Haitham bin Tarik', 2020),\n",
              " ('Jacinda Ardern', 2017),\n",
              " ('Jonas Gahr Støre', 2021),\n",
              " ('Mostafa Madbouly', 2018),\n",
              " ('Narendra Modi', 2014),\n",
              " ('Scott Morrison', 2018),\n",
              " ('Shehbaz Sharif', 2022)]"
            ],
            "text/html": [
              "<table>\n",
              "    <thead>\n",
              "        <tr>\n",
              "            <th>prime_minister</th>\n",
              "            <th>last_term</th>\n",
              "        </tr>\n",
              "    </thead>\n",
              "    <tbody>\n",
              "        <tr>\n",
              "            <td>António Costa</td>\n",
              "            <td>2015</td>\n",
              "        </tr>\n",
              "        <tr>\n",
              "            <td>Boris Johnson</td>\n",
              "            <td>2019</td>\n",
              "        </tr>\n",
              "        <tr>\n",
              "            <td>Haitham bin Tarik</td>\n",
              "            <td>2020</td>\n",
              "        </tr>\n",
              "        <tr>\n",
              "            <td>Jacinda Ardern</td>\n",
              "            <td>2017</td>\n",
              "        </tr>\n",
              "        <tr>\n",
              "            <td>Jonas Gahr Støre</td>\n",
              "            <td>2021</td>\n",
              "        </tr>\n",
              "        <tr>\n",
              "            <td>Mostafa Madbouly</td>\n",
              "            <td>2018</td>\n",
              "        </tr>\n",
              "        <tr>\n",
              "            <td>Narendra Modi</td>\n",
              "            <td>2014</td>\n",
              "        </tr>\n",
              "        <tr>\n",
              "            <td>Scott Morrison</td>\n",
              "            <td>2018</td>\n",
              "        </tr>\n",
              "        <tr>\n",
              "            <td>Shehbaz Sharif</td>\n",
              "            <td>2022</td>\n",
              "        </tr>\n",
              "    </tbody>\n",
              "</table>"
            ]
          },
          "metadata": {},
          "execution_count": 43
        }
      ]
    },
    {
      "cell_type": "code",
      "source": [
        "%%sql SELECT prime_minister, MAX(pm_start) AS last_term\n",
        "FROM prime_minister_terms\n",
        "GROUP BY prime_minister;"
      ],
      "metadata": {
        "colab": {
          "base_uri": "https://localhost:8080/",
          "height": 289
        },
        "id": "VKXhrCBprI8k",
        "outputId": "aaf1ba89-4d4a-4288-c71b-c6919d4a69bb"
      },
      "execution_count": 44,
      "outputs": [
        {
          "output_type": "stream",
          "name": "stdout",
          "text": [
            " * sqlite://\n",
            "Done.\n"
          ]
        },
        {
          "output_type": "execute_result",
          "data": {
            "text/plain": [
              "[('António Costa', 2015),\n",
              " ('Boris Johnson', 2019),\n",
              " ('Haitham bin Tarik', 2020),\n",
              " ('Hassanal Bolkiah', 1984),\n",
              " ('Jacinda Ardern', 2017),\n",
              " ('Jonas Gahr Støre', 2021),\n",
              " ('Mostafa Madbouly', 2018),\n",
              " ('Narendra Modi', 2014),\n",
              " ('Scott Morrison', 2018),\n",
              " ('Shehbaz Sharif', 2022)]"
            ],
            "text/html": [
              "<table>\n",
              "    <thead>\n",
              "        <tr>\n",
              "            <th>prime_minister</th>\n",
              "            <th>last_term</th>\n",
              "        </tr>\n",
              "    </thead>\n",
              "    <tbody>\n",
              "        <tr>\n",
              "            <td>António Costa</td>\n",
              "            <td>2015</td>\n",
              "        </tr>\n",
              "        <tr>\n",
              "            <td>Boris Johnson</td>\n",
              "            <td>2019</td>\n",
              "        </tr>\n",
              "        <tr>\n",
              "            <td>Haitham bin Tarik</td>\n",
              "            <td>2020</td>\n",
              "        </tr>\n",
              "        <tr>\n",
              "            <td>Hassanal Bolkiah</td>\n",
              "            <td>1984</td>\n",
              "        </tr>\n",
              "        <tr>\n",
              "            <td>Jacinda Ardern</td>\n",
              "            <td>2017</td>\n",
              "        </tr>\n",
              "        <tr>\n",
              "            <td>Jonas Gahr Støre</td>\n",
              "            <td>2021</td>\n",
              "        </tr>\n",
              "        <tr>\n",
              "            <td>Mostafa Madbouly</td>\n",
              "            <td>2018</td>\n",
              "        </tr>\n",
              "        <tr>\n",
              "            <td>Narendra Modi</td>\n",
              "            <td>2014</td>\n",
              "        </tr>\n",
              "        <tr>\n",
              "            <td>Scott Morrison</td>\n",
              "            <td>2018</td>\n",
              "        </tr>\n",
              "        <tr>\n",
              "            <td>Shehbaz Sharif</td>\n",
              "            <td>2022</td>\n",
              "        </tr>\n",
              "    </tbody>\n",
              "</table>"
            ]
          },
          "metadata": {},
          "execution_count": 44
        }
      ]
    },
    {
      "cell_type": "code",
      "source": [
        "%%sql SELECT prime_minister, MAX(pm_start) AS last_term\n",
        "FROM prime_minister_terms\n",
        "GROUP BY prime_minister\n",
        "HAVING pm_start > 2000;"
      ],
      "metadata": {
        "colab": {
          "base_uri": "https://localhost:8080/",
          "height": 267
        },
        "id": "pFIcm2WLrSMW",
        "outputId": "a7f21b56-ea98-45aa-e50d-df005d74d51c"
      },
      "execution_count": 45,
      "outputs": [
        {
          "output_type": "stream",
          "name": "stdout",
          "text": [
            " * sqlite://\n",
            "Done.\n"
          ]
        },
        {
          "output_type": "execute_result",
          "data": {
            "text/plain": [
              "[('António Costa', 2015),\n",
              " ('Boris Johnson', 2019),\n",
              " ('Haitham bin Tarik', 2020),\n",
              " ('Jacinda Ardern', 2017),\n",
              " ('Jonas Gahr Støre', 2021),\n",
              " ('Mostafa Madbouly', 2018),\n",
              " ('Narendra Modi', 2014),\n",
              " ('Scott Morrison', 2018),\n",
              " ('Shehbaz Sharif', 2022)]"
            ],
            "text/html": [
              "<table>\n",
              "    <thead>\n",
              "        <tr>\n",
              "            <th>prime_minister</th>\n",
              "            <th>last_term</th>\n",
              "        </tr>\n",
              "    </thead>\n",
              "    <tbody>\n",
              "        <tr>\n",
              "            <td>António Costa</td>\n",
              "            <td>2015</td>\n",
              "        </tr>\n",
              "        <tr>\n",
              "            <td>Boris Johnson</td>\n",
              "            <td>2019</td>\n",
              "        </tr>\n",
              "        <tr>\n",
              "            <td>Haitham bin Tarik</td>\n",
              "            <td>2020</td>\n",
              "        </tr>\n",
              "        <tr>\n",
              "            <td>Jacinda Ardern</td>\n",
              "            <td>2017</td>\n",
              "        </tr>\n",
              "        <tr>\n",
              "            <td>Jonas Gahr Støre</td>\n",
              "            <td>2021</td>\n",
              "        </tr>\n",
              "        <tr>\n",
              "            <td>Mostafa Madbouly</td>\n",
              "            <td>2018</td>\n",
              "        </tr>\n",
              "        <tr>\n",
              "            <td>Narendra Modi</td>\n",
              "            <td>2014</td>\n",
              "        </tr>\n",
              "        <tr>\n",
              "            <td>Scott Morrison</td>\n",
              "            <td>2018</td>\n",
              "        </tr>\n",
              "        <tr>\n",
              "            <td>Shehbaz Sharif</td>\n",
              "            <td>2022</td>\n",
              "        </tr>\n",
              "    </tbody>\n",
              "</table>"
            ]
          },
          "metadata": {},
          "execution_count": 45
        }
      ]
    },
    {
      "cell_type": "code",
      "source": [
        "%%sql SELECT continent, COUNT(country) AS number_of_states\n",
        "FROM prime_ministers\n",
        "WHERE country LIKE '%a%'\n",
        "GROUP BY continent;"
      ],
      "metadata": {
        "colab": {
          "base_uri": "https://localhost:8080/",
          "height": 139
        },
        "id": "DCCYyxxwum4p",
        "outputId": "789ba9f3-69b2-44a1-8d83-9ca9cda60209"
      },
      "execution_count": 56,
      "outputs": [
        {
          "output_type": "stream",
          "name": "stdout",
          "text": [
            " * sqlite://\n",
            "Done.\n"
          ]
        },
        {
          "output_type": "execute_result",
          "data": {
            "text/plain": [
              "[('Asia', 3), ('Europe', 2), ('Oceania', 2)]"
            ],
            "text/html": [
              "<table>\n",
              "    <thead>\n",
              "        <tr>\n",
              "            <th>continent</th>\n",
              "            <th>number_of_states</th>\n",
              "        </tr>\n",
              "    </thead>\n",
              "    <tbody>\n",
              "        <tr>\n",
              "            <td>Asia</td>\n",
              "            <td>3</td>\n",
              "        </tr>\n",
              "        <tr>\n",
              "            <td>Europe</td>\n",
              "            <td>2</td>\n",
              "        </tr>\n",
              "        <tr>\n",
              "            <td>Oceania</td>\n",
              "            <td>2</td>\n",
              "        </tr>\n",
              "    </tbody>\n",
              "</table>"
            ]
          },
          "metadata": {},
          "execution_count": 56
        }
      ]
    },
    {
      "cell_type": "code",
      "source": [
        "%%sql SELECT continent, COUNT(country) AS number_of_states\n",
        "FROM states\n",
        "WHERE indep_year IS NULL\n",
        "GROUP BY continent;"
      ],
      "metadata": {
        "colab": {
          "base_uri": "https://localhost:8080/",
          "height": 75
        },
        "id": "sEThY2Rpu3R1",
        "outputId": "7588a109-f611-40bb-b76e-65d7b56b6a87"
      },
      "execution_count": 51,
      "outputs": [
        {
          "output_type": "stream",
          "name": "stdout",
          "text": [
            " * sqlite://\n",
            "Done.\n"
          ]
        },
        {
          "output_type": "execute_result",
          "data": {
            "text/plain": [
              "[]"
            ],
            "text/html": [
              "<table>\n",
              "    <thead>\n",
              "        <tr>\n",
              "            <th>continent</th>\n",
              "            <th>number_of_states</th>\n",
              "        </tr>\n",
              "    </thead>\n",
              "    <tbody>\n",
              "    </tbody>\n",
              "</table>"
            ]
          },
          "metadata": {},
          "execution_count": 51
        }
      ]
    },
    {
      "cell_type": "code",
      "source": [
        "%%sql SELECT continent, COUNT(prime_minister) AS number_of_prime_ministers\n",
        "FROM prime_ministers\n",
        "WHERE prime_minister LIKE 'e%'\n",
        "GROUP BY continent;"
      ],
      "metadata": {
        "colab": {
          "base_uri": "https://localhost:8080/",
          "height": 75
        },
        "id": "En40-LyJvJ24",
        "outputId": "b57a3a47-b5d4-4173-fa70-aab3dfa2689f"
      },
      "execution_count": 54,
      "outputs": [
        {
          "output_type": "stream",
          "name": "stdout",
          "text": [
            " * sqlite://\n",
            "Done.\n"
          ]
        },
        {
          "output_type": "execute_result",
          "data": {
            "text/plain": [
              "[]"
            ],
            "text/html": [
              "<table>\n",
              "    <thead>\n",
              "        <tr>\n",
              "            <th>continent</th>\n",
              "            <th>number_of_prime_ministers</th>\n",
              "        </tr>\n",
              "    </thead>\n",
              "    <tbody>\n",
              "    </tbody>\n",
              "</table>"
            ]
          },
          "metadata": {},
          "execution_count": 54
        }
      ]
    },
    {
      "cell_type": "code",
      "source": [
        "%%sql SELECT continent, MIN(indep_year) AS first_independence\n",
        "FROM states\n",
        "GROUP BY continent\n",
        "ORDER BY first_independence;"
      ],
      "metadata": {
        "colab": {
          "base_uri": "https://localhost:8080/",
          "height": 203
        },
        "id": "JSF207hPwUt9",
        "outputId": "2857d2d6-972d-4824-f478-64e2a2034e0a"
      },
      "execution_count": 58,
      "outputs": [
        {
          "output_type": "stream",
          "name": "stdout",
          "text": [
            " * sqlite://\n",
            "Done.\n"
          ]
        },
        {
          "output_type": "execute_result",
          "data": {
            "text/plain": [
              "[('Europe', 1143),\n",
              " ('North America', 1776),\n",
              " ('South America', 1818),\n",
              " ('Oceania', 1901),\n",
              " ('Africa', 1922),\n",
              " ('Asia', 1947)]"
            ],
            "text/html": [
              "<table>\n",
              "    <thead>\n",
              "        <tr>\n",
              "            <th>continent</th>\n",
              "            <th>first_independence</th>\n",
              "        </tr>\n",
              "    </thead>\n",
              "    <tbody>\n",
              "        <tr>\n",
              "            <td>Europe</td>\n",
              "            <td>1143</td>\n",
              "        </tr>\n",
              "        <tr>\n",
              "            <td>North America</td>\n",
              "            <td>1776</td>\n",
              "        </tr>\n",
              "        <tr>\n",
              "            <td>South America</td>\n",
              "            <td>1818</td>\n",
              "        </tr>\n",
              "        <tr>\n",
              "            <td>Oceania</td>\n",
              "            <td>1901</td>\n",
              "        </tr>\n",
              "        <tr>\n",
              "            <td>Africa</td>\n",
              "            <td>1922</td>\n",
              "        </tr>\n",
              "        <tr>\n",
              "            <td>Asia</td>\n",
              "            <td>1947</td>\n",
              "        </tr>\n",
              "    </tbody>\n",
              "</table>"
            ]
          },
          "metadata": {},
          "execution_count": 58
        }
      ]
    },
    {
      "cell_type": "code",
      "source": [
        "%%sql SELECT continent, MIN(indep_year) AS first_independence\n",
        "FROM states\n",
        "WHERE indep_year > 1900\n",
        "GROUP BY continent\n",
        "ORDER BY first_independence;"
      ],
      "metadata": {
        "colab": {
          "base_uri": "https://localhost:8080/",
          "height": 161
        },
        "id": "928s51mpwpFh",
        "outputId": "4f5a86b1-9d94-4e00-8398-2abf7b2cc292"
      },
      "execution_count": 59,
      "outputs": [
        {
          "output_type": "stream",
          "name": "stdout",
          "text": [
            " * sqlite://\n",
            "Done.\n"
          ]
        },
        {
          "output_type": "execute_result",
          "data": {
            "text/plain": [
              "[('Oceania', 1901), ('Europe', 1905), ('Africa', 1922), ('Asia', 1947)]"
            ],
            "text/html": [
              "<table>\n",
              "    <thead>\n",
              "        <tr>\n",
              "            <th>continent</th>\n",
              "            <th>first_independence</th>\n",
              "        </tr>\n",
              "    </thead>\n",
              "    <tbody>\n",
              "        <tr>\n",
              "            <td>Oceania</td>\n",
              "            <td>1901</td>\n",
              "        </tr>\n",
              "        <tr>\n",
              "            <td>Europe</td>\n",
              "            <td>1905</td>\n",
              "        </tr>\n",
              "        <tr>\n",
              "            <td>Africa</td>\n",
              "            <td>1922</td>\n",
              "        </tr>\n",
              "        <tr>\n",
              "            <td>Asia</td>\n",
              "            <td>1947</td>\n",
              "        </tr>\n",
              "    </tbody>\n",
              "</table>"
            ]
          },
          "metadata": {},
          "execution_count": 59
        }
      ]
    },
    {
      "cell_type": "code",
      "source": [
        "%%sql SELECT continent, country, MIN(indep_year) AS first_independence\n",
        "FROM states\n",
        "WHERE indep_year > 1900\n",
        "GROUP BY continent, country\n",
        "HAVING first_independence = indep_year\n",
        "ORDER BY first_independence;"
      ],
      "metadata": {
        "colab": {
          "base_uri": "https://localhost:8080/",
          "height": 225
        },
        "id": "bCHVBeJ5w2Sd",
        "outputId": "d0862aa3-9225-4574-9e69-d71671854417"
      },
      "execution_count": 62,
      "outputs": [
        {
          "output_type": "stream",
          "name": "stdout",
          "text": [
            " * sqlite://\n",
            "Done.\n"
          ]
        },
        {
          "output_type": "execute_result",
          "data": {
            "text/plain": [
              "[('Oceania', 'Australia', 1901),\n",
              " ('Europe', 'Norway', 1905),\n",
              " ('Africa', 'Egypt', 1922),\n",
              " ('Asia', 'India', 1947),\n",
              " ('Asia', 'Pakistan', 1947),\n",
              " ('Asia', 'Oman', 1951),\n",
              " ('Asia', 'Brunei', 1984)]"
            ],
            "text/html": [
              "<table>\n",
              "    <thead>\n",
              "        <tr>\n",
              "            <th>continent</th>\n",
              "            <th>country</th>\n",
              "            <th>first_independence</th>\n",
              "        </tr>\n",
              "    </thead>\n",
              "    <tbody>\n",
              "        <tr>\n",
              "            <td>Oceania</td>\n",
              "            <td>Australia</td>\n",
              "            <td>1901</td>\n",
              "        </tr>\n",
              "        <tr>\n",
              "            <td>Europe</td>\n",
              "            <td>Norway</td>\n",
              "            <td>1905</td>\n",
              "        </tr>\n",
              "        <tr>\n",
              "            <td>Africa</td>\n",
              "            <td>Egypt</td>\n",
              "            <td>1922</td>\n",
              "        </tr>\n",
              "        <tr>\n",
              "            <td>Asia</td>\n",
              "            <td>India</td>\n",
              "            <td>1947</td>\n",
              "        </tr>\n",
              "        <tr>\n",
              "            <td>Asia</td>\n",
              "            <td>Pakistan</td>\n",
              "            <td>1947</td>\n",
              "        </tr>\n",
              "        <tr>\n",
              "            <td>Asia</td>\n",
              "            <td>Oman</td>\n",
              "            <td>1951</td>\n",
              "        </tr>\n",
              "        <tr>\n",
              "            <td>Asia</td>\n",
              "            <td>Brunei</td>\n",
              "            <td>1984</td>\n",
              "        </tr>\n",
              "    </tbody>\n",
              "</table>"
            ]
          },
          "metadata": {},
          "execution_count": 62
        }
      ]
    },
    {
      "cell_type": "markdown",
      "source": [
        "#### Part 2\n"
      ],
      "metadata": {
        "id": "gBMm9gr0xz-U"
      }
    },
    {
      "cell_type": "code",
      "source": [
        "%%sql SELECT s.country, p.president, s.indep_year\n",
        "FROM states AS s\n",
        "INNER JOIN presidents AS p\n",
        "ON s.country = p.country\n",
        "WHERE s.indep_year IS NOT NULL\n",
        "ORDER BY s.indep_year;"
      ],
      "metadata": {
        "colab": {
          "base_uri": "https://localhost:8080/",
          "height": 225
        },
        "id": "vsd2Pg9Lx59G",
        "outputId": "a3e06ccc-1c25-4798-f9c5-0bf436e59258"
      },
      "execution_count": 74,
      "outputs": [
        {
          "output_type": "stream",
          "name": "stdout",
          "text": [
            " * sqlite://\n",
            "Done.\n"
          ]
        },
        {
          "output_type": "execute_result",
          "data": {
            "text/plain": [
              "[('Portugal', 'Marcelo Rebelo de Sousa', 1143),\n",
              " ('USA', 'Joe Biden', 1776),\n",
              " ('Chile', 'Gabriel Boric', 1818),\n",
              " ('Uruguay', 'Luis Lacalle Pou', 1825),\n",
              " ('Egypt', 'Abdel Fattah el-Sisi', 1922),\n",
              " ('India', 'Ram Nath Kovind', 1947),\n",
              " ('Pakistan', 'Arif Alvi', 1947)]"
            ],
            "text/html": [
              "<table>\n",
              "    <thead>\n",
              "        <tr>\n",
              "            <th>country</th>\n",
              "            <th>president</th>\n",
              "            <th>indep_year</th>\n",
              "        </tr>\n",
              "    </thead>\n",
              "    <tbody>\n",
              "        <tr>\n",
              "            <td>Portugal</td>\n",
              "            <td>Marcelo Rebelo de Sousa</td>\n",
              "            <td>1143</td>\n",
              "        </tr>\n",
              "        <tr>\n",
              "            <td>USA</td>\n",
              "            <td>Joe Biden</td>\n",
              "            <td>1776</td>\n",
              "        </tr>\n",
              "        <tr>\n",
              "            <td>Chile</td>\n",
              "            <td>Gabriel Boric</td>\n",
              "            <td>1818</td>\n",
              "        </tr>\n",
              "        <tr>\n",
              "            <td>Uruguay</td>\n",
              "            <td>Luis Lacalle Pou</td>\n",
              "            <td>1825</td>\n",
              "        </tr>\n",
              "        <tr>\n",
              "            <td>Egypt</td>\n",
              "            <td>Abdel Fattah el-Sisi</td>\n",
              "            <td>1922</td>\n",
              "        </tr>\n",
              "        <tr>\n",
              "            <td>India</td>\n",
              "            <td>Ram Nath Kovind</td>\n",
              "            <td>1947</td>\n",
              "        </tr>\n",
              "        <tr>\n",
              "            <td>Pakistan</td>\n",
              "            <td>Arif Alvi</td>\n",
              "            <td>1947</td>\n",
              "        </tr>\n",
              "    </tbody>\n",
              "</table>"
            ]
          },
          "metadata": {},
          "execution_count": 74
        }
      ]
    },
    {
      "cell_type": "code",
      "source": [],
      "metadata": {
        "id": "y9btW5mP0voI"
      },
      "execution_count": 74,
      "outputs": []
    }
  ]
}