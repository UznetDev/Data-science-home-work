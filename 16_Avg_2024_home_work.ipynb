{
  "nbformat": 4,
  "nbformat_minor": 0,
  "metadata": {
    "colab": {
      "provenance": [],
      "gpuType": "T4",
      "authorship_tag": "ABX9TyPjWX/gUeA4dVf13K/e6msP",
      "include_colab_link": true
    },
    "kernelspec": {
      "name": "python3",
      "display_name": "Python 3"
    },
    "language_info": {
      "name": "python"
    }
  },
  "cells": [
    {
      "cell_type": "markdown",
      "metadata": {
        "id": "view-in-github",
        "colab_type": "text"
      },
      "source": [
        "<a href=\"https://colab.research.google.com/github/UznetDev/Data-science-home-work/blob/main/16_Avg_2024_home_work.ipynb\" target=\"_parent\"><img src=\"https://colab.research.google.com/assets/colab-badge.svg\" alt=\"Open In Colab\"/></a>"
      ]
    },
    {
      "cell_type": "code",
      "source": [
        "# Set-up\n",
        "%load_ext sql\n",
        "%sql sqlite://"
      ],
      "metadata": {
        "colab": {
          "base_uri": "https://localhost:8080/"
        },
        "id": "eb2mheD8qEiK",
        "outputId": "bd26626d-3cf2-4c5f-9a7f-812efe201939"
      },
      "execution_count": 8,
      "outputs": [
        {
          "output_type": "stream",
          "name": "stdout",
          "text": [
            "The sql extension is already loaded. To reload it, use:\n",
            "  %reload_ext sql\n"
          ]
        }
      ]
    },
    {
      "cell_type": "code",
      "execution_count": 9,
      "metadata": {
        "id": "jYxWk1B2a3QZ"
      },
      "outputs": [],
      "source": [
        "import pandas as pd\n",
        "import numpy as np\n",
        "from sklearn.metrics import *\n",
        "from sklearn.model_selection import *\n",
        "from sklearn.linear_model import *\n",
        "from sklearn.datasets import *"
      ]
    },
    {
      "cell_type": "code",
      "source": [
        "# Load the California Housing dataset and save it as CSV\n",
        "california_housing = fetch_california_housing(as_frame=True)\n",
        "df = california_housing.frame\n",
        "df.to_csv('Dataset.csv', index=False)\n",
        "\n",
        "# Open and load the CSV into a pandas DataFrame\n",
        "with open('Dataset.csv') as f:\n",
        "    california = pd.read_csv(f, encoding='unicode_escape')\n",
        "\n",
        "# Drop the table if it exists, then persist the DataFrame to the SQL database\n",
        "%sql DROP TABLE IF EXISTS california;\n",
        "%sql --persist california"
      ],
      "metadata": {
        "colab": {
          "base_uri": "https://localhost:8080/",
          "height": 87
        },
        "id": "5jUvGGOCqmaI",
        "outputId": "e01852a5-78e2-4869-fa44-6a25a3d734e5"
      },
      "execution_count": 10,
      "outputs": [
        {
          "output_type": "stream",
          "name": "stdout",
          "text": [
            " * sqlite://\n",
            "Done.\n",
            " * sqlite://\n"
          ]
        },
        {
          "output_type": "execute_result",
          "data": {
            "text/plain": [
              "'Persisted california'"
            ],
            "application/vnd.google.colaboratory.intrinsic+json": {
              "type": "string"
            }
          },
          "metadata": {},
          "execution_count": 10
        }
      ]
    },
    {
      "cell_type": "code",
      "source": [
        "%%sql SELECT * FROM california LIMIT 5"
      ],
      "metadata": {
        "colab": {
          "base_uri": "https://localhost:8080/",
          "height": 180
        },
        "id": "Bbnr2iryrMNK",
        "outputId": "30c0ab5a-7130-47a7-fd1e-f092dd222a76"
      },
      "execution_count": 11,
      "outputs": [
        {
          "output_type": "stream",
          "name": "stdout",
          "text": [
            " * sqlite://\n",
            "Done.\n"
          ]
        },
        {
          "output_type": "execute_result",
          "data": {
            "text/plain": [
              "[(0, 8.3252, 41.0, 6.984126984126984, 1.0238095238095235, 322.0, 2.555555555555556, 37.88, -122.23, 4.526),\n",
              " (1, 8.3014, 21.0, 6.238137082601054, 0.9718804920913884, 2401.0, 2.109841827768014, 37.86, -122.22, 3.585),\n",
              " (2, 7.2574, 52.0, 8.288135593220339, 1.073446327683616, 496.0, 2.8022598870056497, 37.85, -122.24, 3.521),\n",
              " (3, 5.6431, 52.0, 5.817351598173516, 1.0730593607305936, 558.0, 2.547945205479452, 37.85, -122.25, 3.413),\n",
              " (4, 3.8462, 52.0, 6.281853281853282, 1.0810810810810811, 565.0, 2.1814671814671813, 37.85, -122.25, 3.422)]"
            ],
            "text/html": [
              "<table>\n",
              "    <thead>\n",
              "        <tr>\n",
              "            <th>index</th>\n",
              "            <th>MedInc</th>\n",
              "            <th>HouseAge</th>\n",
              "            <th>AveRooms</th>\n",
              "            <th>AveBedrms</th>\n",
              "            <th>Population</th>\n",
              "            <th>AveOccup</th>\n",
              "            <th>Latitude</th>\n",
              "            <th>Longitude</th>\n",
              "            <th>MedHouseVal</th>\n",
              "        </tr>\n",
              "    </thead>\n",
              "    <tbody>\n",
              "        <tr>\n",
              "            <td>0</td>\n",
              "            <td>8.3252</td>\n",
              "            <td>41.0</td>\n",
              "            <td>6.984126984126984</td>\n",
              "            <td>1.0238095238095235</td>\n",
              "            <td>322.0</td>\n",
              "            <td>2.555555555555556</td>\n",
              "            <td>37.88</td>\n",
              "            <td>-122.23</td>\n",
              "            <td>4.526</td>\n",
              "        </tr>\n",
              "        <tr>\n",
              "            <td>1</td>\n",
              "            <td>8.3014</td>\n",
              "            <td>21.0</td>\n",
              "            <td>6.238137082601054</td>\n",
              "            <td>0.9718804920913884</td>\n",
              "            <td>2401.0</td>\n",
              "            <td>2.109841827768014</td>\n",
              "            <td>37.86</td>\n",
              "            <td>-122.22</td>\n",
              "            <td>3.585</td>\n",
              "        </tr>\n",
              "        <tr>\n",
              "            <td>2</td>\n",
              "            <td>7.2574</td>\n",
              "            <td>52.0</td>\n",
              "            <td>8.288135593220339</td>\n",
              "            <td>1.073446327683616</td>\n",
              "            <td>496.0</td>\n",
              "            <td>2.8022598870056497</td>\n",
              "            <td>37.85</td>\n",
              "            <td>-122.24</td>\n",
              "            <td>3.521</td>\n",
              "        </tr>\n",
              "        <tr>\n",
              "            <td>3</td>\n",
              "            <td>5.6431</td>\n",
              "            <td>52.0</td>\n",
              "            <td>5.817351598173516</td>\n",
              "            <td>1.0730593607305936</td>\n",
              "            <td>558.0</td>\n",
              "            <td>2.547945205479452</td>\n",
              "            <td>37.85</td>\n",
              "            <td>-122.25</td>\n",
              "            <td>3.413</td>\n",
              "        </tr>\n",
              "        <tr>\n",
              "            <td>4</td>\n",
              "            <td>3.8462</td>\n",
              "            <td>52.0</td>\n",
              "            <td>6.281853281853282</td>\n",
              "            <td>1.0810810810810811</td>\n",
              "            <td>565.0</td>\n",
              "            <td>2.1814671814671813</td>\n",
              "            <td>37.85</td>\n",
              "            <td>-122.25</td>\n",
              "            <td>3.422</td>\n",
              "        </tr>\n",
              "    </tbody>\n",
              "</table>"
            ]
          },
          "metadata": {},
          "execution_count": 11
        }
      ]
    },
    {
      "cell_type": "code",
      "source": [
        "%%sql SELECT * FROM\n",
        "california LIMIT 5;"
      ],
      "metadata": {
        "id": "fGpr3UyQr29V",
        "outputId": "8987626c-f0b4-4baf-fbac-c0a4ec30b513",
        "colab": {
          "base_uri": "https://localhost:8080/",
          "height": 180
        }
      },
      "execution_count": 12,
      "outputs": [
        {
          "output_type": "stream",
          "name": "stdout",
          "text": [
            " * sqlite://\n",
            "Done.\n"
          ]
        },
        {
          "output_type": "execute_result",
          "data": {
            "text/plain": [
              "[(0, 8.3252, 41.0, 6.984126984126984, 1.0238095238095235, 322.0, 2.555555555555556, 37.88, -122.23, 4.526),\n",
              " (1, 8.3014, 21.0, 6.238137082601054, 0.9718804920913884, 2401.0, 2.109841827768014, 37.86, -122.22, 3.585),\n",
              " (2, 7.2574, 52.0, 8.288135593220339, 1.073446327683616, 496.0, 2.8022598870056497, 37.85, -122.24, 3.521),\n",
              " (3, 5.6431, 52.0, 5.817351598173516, 1.0730593607305936, 558.0, 2.547945205479452, 37.85, -122.25, 3.413),\n",
              " (4, 3.8462, 52.0, 6.281853281853282, 1.0810810810810811, 565.0, 2.1814671814671813, 37.85, -122.25, 3.422)]"
            ],
            "text/html": [
              "<table>\n",
              "    <thead>\n",
              "        <tr>\n",
              "            <th>index</th>\n",
              "            <th>MedInc</th>\n",
              "            <th>HouseAge</th>\n",
              "            <th>AveRooms</th>\n",
              "            <th>AveBedrms</th>\n",
              "            <th>Population</th>\n",
              "            <th>AveOccup</th>\n",
              "            <th>Latitude</th>\n",
              "            <th>Longitude</th>\n",
              "            <th>MedHouseVal</th>\n",
              "        </tr>\n",
              "    </thead>\n",
              "    <tbody>\n",
              "        <tr>\n",
              "            <td>0</td>\n",
              "            <td>8.3252</td>\n",
              "            <td>41.0</td>\n",
              "            <td>6.984126984126984</td>\n",
              "            <td>1.0238095238095235</td>\n",
              "            <td>322.0</td>\n",
              "            <td>2.555555555555556</td>\n",
              "            <td>37.88</td>\n",
              "            <td>-122.23</td>\n",
              "            <td>4.526</td>\n",
              "        </tr>\n",
              "        <tr>\n",
              "            <td>1</td>\n",
              "            <td>8.3014</td>\n",
              "            <td>21.0</td>\n",
              "            <td>6.238137082601054</td>\n",
              "            <td>0.9718804920913884</td>\n",
              "            <td>2401.0</td>\n",
              "            <td>2.109841827768014</td>\n",
              "            <td>37.86</td>\n",
              "            <td>-122.22</td>\n",
              "            <td>3.585</td>\n",
              "        </tr>\n",
              "        <tr>\n",
              "            <td>2</td>\n",
              "            <td>7.2574</td>\n",
              "            <td>52.0</td>\n",
              "            <td>8.288135593220339</td>\n",
              "            <td>1.073446327683616</td>\n",
              "            <td>496.0</td>\n",
              "            <td>2.8022598870056497</td>\n",
              "            <td>37.85</td>\n",
              "            <td>-122.24</td>\n",
              "            <td>3.521</td>\n",
              "        </tr>\n",
              "        <tr>\n",
              "            <td>3</td>\n",
              "            <td>5.6431</td>\n",
              "            <td>52.0</td>\n",
              "            <td>5.817351598173516</td>\n",
              "            <td>1.0730593607305936</td>\n",
              "            <td>558.0</td>\n",
              "            <td>2.547945205479452</td>\n",
              "            <td>37.85</td>\n",
              "            <td>-122.25</td>\n",
              "            <td>3.413</td>\n",
              "        </tr>\n",
              "        <tr>\n",
              "            <td>4</td>\n",
              "            <td>3.8462</td>\n",
              "            <td>52.0</td>\n",
              "            <td>6.281853281853282</td>\n",
              "            <td>1.0810810810810811</td>\n",
              "            <td>565.0</td>\n",
              "            <td>2.1814671814671813</td>\n",
              "            <td>37.85</td>\n",
              "            <td>-122.25</td>\n",
              "            <td>3.422</td>\n",
              "        </tr>\n",
              "    </tbody>\n",
              "</table>"
            ]
          },
          "metadata": {},
          "execution_count": 12
        }
      ]
    },
    {
      "cell_type": "code",
      "source": [
        "%%sql SELECT `HouseAge`, `index`, `Latitude`, `Longitude`  FROM\n",
        "`california` LIMIT 5;"
      ],
      "metadata": {
        "colab": {
          "base_uri": "https://localhost:8080/",
          "height": 180
        },
        "id": "Cx71RujduYFu",
        "outputId": "620d347b-9332-4bd6-c198-161eb989f3c5"
      },
      "execution_count": 13,
      "outputs": [
        {
          "output_type": "stream",
          "name": "stdout",
          "text": [
            " * sqlite://\n",
            "Done.\n"
          ]
        },
        {
          "output_type": "execute_result",
          "data": {
            "text/plain": [
              "[(41.0, 0, 37.88, -122.23),\n",
              " (21.0, 1, 37.86, -122.22),\n",
              " (52.0, 2, 37.85, -122.24),\n",
              " (52.0, 3, 37.85, -122.25),\n",
              " (52.0, 4, 37.85, -122.25)]"
            ],
            "text/html": [
              "<table>\n",
              "    <thead>\n",
              "        <tr>\n",
              "            <th>HouseAge</th>\n",
              "            <th>index</th>\n",
              "            <th>Latitude</th>\n",
              "            <th>Longitude</th>\n",
              "        </tr>\n",
              "    </thead>\n",
              "    <tbody>\n",
              "        <tr>\n",
              "            <td>41.0</td>\n",
              "            <td>0</td>\n",
              "            <td>37.88</td>\n",
              "            <td>-122.23</td>\n",
              "        </tr>\n",
              "        <tr>\n",
              "            <td>21.0</td>\n",
              "            <td>1</td>\n",
              "            <td>37.86</td>\n",
              "            <td>-122.22</td>\n",
              "        </tr>\n",
              "        <tr>\n",
              "            <td>52.0</td>\n",
              "            <td>2</td>\n",
              "            <td>37.85</td>\n",
              "            <td>-122.24</td>\n",
              "        </tr>\n",
              "        <tr>\n",
              "            <td>52.0</td>\n",
              "            <td>3</td>\n",
              "            <td>37.85</td>\n",
              "            <td>-122.25</td>\n",
              "        </tr>\n",
              "        <tr>\n",
              "            <td>52.0</td>\n",
              "            <td>4</td>\n",
              "            <td>37.85</td>\n",
              "            <td>-122.25</td>\n",
              "        </tr>\n",
              "    </tbody>\n",
              "</table>"
            ]
          },
          "metadata": {},
          "execution_count": 13
        }
      ]
    },
    {
      "cell_type": "code",
      "source": [
        "# Read datasets from CSV files\n",
        "films = pd.read_csv('films.csv', header=None)\n",
        "films = films.rename(columns={0: 'id',\n",
        "                              1: 'title',\n",
        "                              2: 'releas_date',\n",
        "                              3: 'country',\n",
        "                              4: 'duratioon',\n",
        "                              5: 'language',\n",
        "                              6: 'certificatipon',\n",
        "                              7: 'gross',\n",
        "                              8: 'budget'})\n",
        "reviews = pd.read_csv('reviews.csv', header=None)\n",
        "reviews = reviews.rename(columns={0: 'id',\n",
        "                                  1: 'film_id',\n",
        "                                  2: 'num_user',\n",
        "                                  3: 'num_critic',\n",
        "                                  4: 'imdb_score',\n",
        "                                  5: 'num_votes',\n",
        "                                  6: 'facebook_likes'})\n",
        "people = pd.read_csv('people.csv', header=None)\n",
        "people = people.rename(columns={0: 'id',\n",
        "                                1: 'name',\n",
        "                                2: 'birthdate',\n",
        "                                3: 'deathdate'})\n",
        "roles = pd.read_csv('roles.csv', header=None)\n",
        "roles = roles.rename(columns={0: 'id',\n",
        "                              1: 'film_id',\n",
        "                              2: 'person_id',\n",
        "                              3: 'role'})\n",
        "\n",
        "# Drop tables if they exist, then persist the DataFrames to the SQL database\n",
        "%sql DROP TABLE IF EXISTS films;\n",
        "%sql --persist films\n",
        "\n",
        "%sql DROP TABLE IF EXISTS reviews;\n",
        "%sql --persist reviews\n",
        "\n",
        "%sql DROP TABLE IF EXISTS people;\n",
        "%sql --persist people\n",
        "\n",
        "%sql DROP TABLE IF EXISTS roles;\n",
        "%sql --persist roles"
      ],
      "metadata": {
        "colab": {
          "base_uri": "https://localhost:8080/",
          "height": 244
        },
        "id": "mxH2PZm-z9TK",
        "outputId": "b6b820c6-4d83-4139-bc7e-9a7f94769a8e"
      },
      "execution_count": 14,
      "outputs": [
        {
          "output_type": "stream",
          "name": "stdout",
          "text": [
            " * sqlite://\n",
            "Done.\n",
            " * sqlite://\n",
            " * sqlite://\n",
            "Done.\n",
            " * sqlite://\n",
            " * sqlite://\n",
            "Done.\n",
            " * sqlite://\n",
            " * sqlite://\n",
            "Done.\n",
            " * sqlite://\n"
          ]
        },
        {
          "output_type": "execute_result",
          "data": {
            "text/plain": [
              "'Persisted roles'"
            ],
            "application/vnd.google.colaboratory.intrinsic+json": {
              "type": "string"
            }
          },
          "metadata": {},
          "execution_count": 14
        }
      ]
    },
    {
      "cell_type": "code",
      "source": [
        "%%sql SELECT *\n",
        "FROM films\n",
        "LIMIT 2;"
      ],
      "metadata": {
        "colab": {
          "base_uri": "https://localhost:8080/",
          "height": 117
        },
        "id": "L0JfOU8W0lVs",
        "outputId": "39142725-ef1a-4d44-db7f-5552f3415dff"
      },
      "execution_count": 27,
      "outputs": [
        {
          "output_type": "stream",
          "name": "stdout",
          "text": [
            " * sqlite://\n",
            "Done.\n"
          ]
        },
        {
          "output_type": "execute_result",
          "data": {
            "text/plain": [
              "[(0, 1, \"Intolerance: Love's Struggle Throughout the Ages\", 1916.0, 'USA', 123.0, None, 'Not Rated', None, 385907.0),\n",
              " (1, 2, 'Over the Hill to the Poorhouse', 1920.0, 'USA', 110.0, None, None, 3000000.0, 100000.0)]"
            ],
            "text/html": [
              "<table>\n",
              "    <thead>\n",
              "        <tr>\n",
              "            <th>index</th>\n",
              "            <th>id</th>\n",
              "            <th>title</th>\n",
              "            <th>releas_date</th>\n",
              "            <th>country</th>\n",
              "            <th>duratioon</th>\n",
              "            <th>language</th>\n",
              "            <th>certificatipon</th>\n",
              "            <th>gross</th>\n",
              "            <th>budget</th>\n",
              "        </tr>\n",
              "    </thead>\n",
              "    <tbody>\n",
              "        <tr>\n",
              "            <td>0</td>\n",
              "            <td>1</td>\n",
              "            <td>Intolerance: Love&#x27;s Struggle Throughout the Ages</td>\n",
              "            <td>1916.0</td>\n",
              "            <td>USA</td>\n",
              "            <td>123.0</td>\n",
              "            <td>None</td>\n",
              "            <td>Not Rated</td>\n",
              "            <td>None</td>\n",
              "            <td>385907.0</td>\n",
              "        </tr>\n",
              "        <tr>\n",
              "            <td>1</td>\n",
              "            <td>2</td>\n",
              "            <td>Over the Hill to the Poorhouse</td>\n",
              "            <td>1920.0</td>\n",
              "            <td>USA</td>\n",
              "            <td>110.0</td>\n",
              "            <td>None</td>\n",
              "            <td>None</td>\n",
              "            <td>3000000.0</td>\n",
              "            <td>100000.0</td>\n",
              "        </tr>\n",
              "    </tbody>\n",
              "</table>"
            ]
          },
          "metadata": {},
          "execution_count": 27
        }
      ]
    },
    {
      "cell_type": "code",
      "source": [
        "%%sql SELECT *\n",
        "FROM reviews\n",
        "LIMIT 2;"
      ],
      "metadata": {
        "colab": {
          "base_uri": "https://localhost:8080/",
          "height": 117
        },
        "id": "rubOfPXD06Je",
        "outputId": "b50cd474-67be-4787-9e39-f5bdcce59139"
      },
      "execution_count": 28,
      "outputs": [
        {
          "output_type": "stream",
          "name": "stdout",
          "text": [
            " * sqlite://\n",
            "Done.\n"
          ]
        },
        {
          "output_type": "execute_result",
          "data": {
            "text/plain": [
              "[(0, 3934, 588.0, 432.0, 7.0999999, 203461, 46000),\n",
              " (1, 3405, 285.0, 267.0, 6.4000001, 149998, 0)]"
            ],
            "text/html": [
              "<table>\n",
              "    <thead>\n",
              "        <tr>\n",
              "            <th>index</th>\n",
              "            <th>id</th>\n",
              "            <th>film_id</th>\n",
              "            <th>num_user</th>\n",
              "            <th>num_critic</th>\n",
              "            <th>imdb_score</th>\n",
              "            <th>num_votes</th>\n",
              "        </tr>\n",
              "    </thead>\n",
              "    <tbody>\n",
              "        <tr>\n",
              "            <td>0</td>\n",
              "            <td>3934</td>\n",
              "            <td>588.0</td>\n",
              "            <td>432.0</td>\n",
              "            <td>7.0999999</td>\n",
              "            <td>203461</td>\n",
              "            <td>46000</td>\n",
              "        </tr>\n",
              "        <tr>\n",
              "            <td>1</td>\n",
              "            <td>3405</td>\n",
              "            <td>285.0</td>\n",
              "            <td>267.0</td>\n",
              "            <td>6.4000001</td>\n",
              "            <td>149998</td>\n",
              "            <td>0</td>\n",
              "        </tr>\n",
              "    </tbody>\n",
              "</table>"
            ]
          },
          "metadata": {},
          "execution_count": 28
        }
      ]
    },
    {
      "cell_type": "code",
      "source": [
        "%%sql SELECT *\n",
        "FROM people\n",
        "LIMIT 2;"
      ],
      "metadata": {
        "colab": {
          "base_uri": "https://localhost:8080/",
          "height": 117
        },
        "id": "M9A8wG3_0-l8",
        "outputId": "5c7deae7-22a6-45ba-b28b-b7b6eaceb81b"
      },
      "execution_count": 75,
      "outputs": [
        {
          "output_type": "stream",
          "name": "stdout",
          "text": [
            " * sqlite://\n",
            "Done.\n"
          ]
        },
        {
          "output_type": "execute_result",
          "data": {
            "text/plain": [
              "[(0, 1, '50 Cent', '1975-07-06', None),\n",
              " (1, 2, 'A. Michael Baldwin', '1963-04-04', None)]"
            ],
            "text/html": [
              "<table>\n",
              "    <thead>\n",
              "        <tr>\n",
              "            <th>index</th>\n",
              "            <th>id</th>\n",
              "            <th>name</th>\n",
              "            <th>birthdate</th>\n",
              "            <th>deathdate</th>\n",
              "        </tr>\n",
              "    </thead>\n",
              "    <tbody>\n",
              "        <tr>\n",
              "            <td>0</td>\n",
              "            <td>1</td>\n",
              "            <td>50 Cent</td>\n",
              "            <td>1975-07-06</td>\n",
              "            <td>None</td>\n",
              "        </tr>\n",
              "        <tr>\n",
              "            <td>1</td>\n",
              "            <td>2</td>\n",
              "            <td>A. Michael Baldwin</td>\n",
              "            <td>1963-04-04</td>\n",
              "            <td>None</td>\n",
              "        </tr>\n",
              "    </tbody>\n",
              "</table>"
            ]
          },
          "metadata": {},
          "execution_count": 75
        }
      ]
    },
    {
      "cell_type": "code",
      "source": [
        "%%sql SELECT *\n",
        "FROM roles LIMIT 2;"
      ],
      "metadata": {
        "colab": {
          "base_uri": "https://localhost:8080/",
          "height": 117
        },
        "id": "5XalvsXy0_H1",
        "outputId": "c2c68b94-be78-4ad0-df77-982fc409aca1"
      },
      "execution_count": 30,
      "outputs": [
        {
          "output_type": "stream",
          "name": "stdout",
          "text": [
            " * sqlite://\n",
            "Done.\n"
          ]
        },
        {
          "output_type": "execute_result",
          "data": {
            "text/plain": [
              "[(0, 1, 1, 1630, 'director'), (1, 2, 1, 4843, 'actor')]"
            ],
            "text/html": [
              "<table>\n",
              "    <thead>\n",
              "        <tr>\n",
              "            <th>index</th>\n",
              "            <th>id</th>\n",
              "            <th>film_id</th>\n",
              "            <th>person_id</th>\n",
              "            <th>role</th>\n",
              "        </tr>\n",
              "    </thead>\n",
              "    <tbody>\n",
              "        <tr>\n",
              "            <td>0</td>\n",
              "            <td>1</td>\n",
              "            <td>1</td>\n",
              "            <td>1630</td>\n",
              "            <td>director</td>\n",
              "        </tr>\n",
              "        <tr>\n",
              "            <td>1</td>\n",
              "            <td>2</td>\n",
              "            <td>1</td>\n",
              "            <td>4843</td>\n",
              "            <td>actor</td>\n",
              "        </tr>\n",
              "    </tbody>\n",
              "</table>"
            ]
          },
          "metadata": {},
          "execution_count": 30
        }
      ]
    },
    {
      "cell_type": "code",
      "source": [
        "%%sql SELECT *\n",
        "FROM films AS fm\n",
        "INNER JOIN reviews AS rv\n",
        "on fm.id = rv.film_id\n",
        "INNER JOIN roles AS rl\n",
        "on fm.id = rl.film_id\n",
        "INNER JOIN people AS ps\n",
        "on rl.person_id = ps.id\n",
        "LIMIT 2;"
      ],
      "metadata": {
        "colab": {
          "base_uri": "https://localhost:8080/",
          "height": 276
        },
        "id": "bAuZSwYR3RNJ",
        "outputId": "aea80f99-dc73-4801-f4fa-2fb7edfd3f52"
      },
      "execution_count": 31,
      "outputs": [
        {
          "output_type": "stream",
          "name": "stdout",
          "text": [
            " * sqlite://\n",
            "Done.\n"
          ]
        },
        {
          "output_type": "execute_result",
          "data": {
            "text/plain": [
              "[(0, 1, \"Intolerance: Love's Struggle Throughout the Ages\", 1916.0, 'USA', 123.0, None, 'Not Rated', None, 385907.0, 63, 3016, 1.0, 5.0, 7.4000001, 59, 18, 0, 1, 1, 1630, 'director', 1629, 1630, 'D.W. Griffith', '1875-01-22', '1948-07-23'),\n",
              " (0, 1, \"Intolerance: Love's Struggle Throughout the Ages\", 1916.0, 'USA', 123.0, None, 'Not Rated', None, 385907.0, 63, 3016, 1.0, 5.0, 7.4000001, 59, 18, 1, 2, 1, 4843, 'actor', 4842, 4843, 'Lillian Gish', '1893-10-14', '1993-02-27')]"
            ],
            "text/html": [
              "<table>\n",
              "    <thead>\n",
              "        <tr>\n",
              "            <th>index</th>\n",
              "            <th>id</th>\n",
              "            <th>title</th>\n",
              "            <th>releas_date</th>\n",
              "            <th>country</th>\n",
              "            <th>duratioon</th>\n",
              "            <th>language</th>\n",
              "            <th>certificatipon</th>\n",
              "            <th>gross</th>\n",
              "            <th>budget</th>\n",
              "            <th>index_1</th>\n",
              "            <th>id_1</th>\n",
              "            <th>film_id</th>\n",
              "            <th>num_user</th>\n",
              "            <th>num_critic</th>\n",
              "            <th>imdb_score</th>\n",
              "            <th>num_votes</th>\n",
              "            <th>index_2</th>\n",
              "            <th>id_2</th>\n",
              "            <th>film_id_1</th>\n",
              "            <th>person_id</th>\n",
              "            <th>role</th>\n",
              "            <th>index_3</th>\n",
              "            <th>id_3</th>\n",
              "            <th>name</th>\n",
              "            <th>birthdate</th>\n",
              "            <th>deathdate</th>\n",
              "        </tr>\n",
              "    </thead>\n",
              "    <tbody>\n",
              "        <tr>\n",
              "            <td>0</td>\n",
              "            <td>1</td>\n",
              "            <td>Intolerance: Love&#x27;s Struggle Throughout the Ages</td>\n",
              "            <td>1916.0</td>\n",
              "            <td>USA</td>\n",
              "            <td>123.0</td>\n",
              "            <td>None</td>\n",
              "            <td>Not Rated</td>\n",
              "            <td>None</td>\n",
              "            <td>385907.0</td>\n",
              "            <td>63</td>\n",
              "            <td>3016</td>\n",
              "            <td>1.0</td>\n",
              "            <td>5.0</td>\n",
              "            <td>7.4000001</td>\n",
              "            <td>59</td>\n",
              "            <td>18</td>\n",
              "            <td>0</td>\n",
              "            <td>1</td>\n",
              "            <td>1</td>\n",
              "            <td>1630</td>\n",
              "            <td>director</td>\n",
              "            <td>1629</td>\n",
              "            <td>1630</td>\n",
              "            <td>D.W. Griffith</td>\n",
              "            <td>1875-01-22</td>\n",
              "            <td>1948-07-23</td>\n",
              "        </tr>\n",
              "        <tr>\n",
              "            <td>0</td>\n",
              "            <td>1</td>\n",
              "            <td>Intolerance: Love&#x27;s Struggle Throughout the Ages</td>\n",
              "            <td>1916.0</td>\n",
              "            <td>USA</td>\n",
              "            <td>123.0</td>\n",
              "            <td>None</td>\n",
              "            <td>Not Rated</td>\n",
              "            <td>None</td>\n",
              "            <td>385907.0</td>\n",
              "            <td>63</td>\n",
              "            <td>3016</td>\n",
              "            <td>1.0</td>\n",
              "            <td>5.0</td>\n",
              "            <td>7.4000001</td>\n",
              "            <td>59</td>\n",
              "            <td>18</td>\n",
              "            <td>1</td>\n",
              "            <td>2</td>\n",
              "            <td>1</td>\n",
              "            <td>4843</td>\n",
              "            <td>actor</td>\n",
              "            <td>4842</td>\n",
              "            <td>4843</td>\n",
              "            <td>Lillian Gish</td>\n",
              "            <td>1893-10-14</td>\n",
              "            <td>1993-02-27</td>\n",
              "        </tr>\n",
              "    </tbody>\n",
              "</table>"
            ]
          },
          "metadata": {},
          "execution_count": 31
        }
      ]
    },
    {
      "cell_type": "code",
      "source": [
        "%%sql SELECT COUNT(*) FROM people;"
      ],
      "metadata": {
        "colab": {
          "base_uri": "https://localhost:8080/",
          "height": 96
        },
        "id": "dcGdAGzG3ZCR",
        "outputId": "1696b461-cbd8-4622-baa8-6cb455b54910"
      },
      "execution_count": 32,
      "outputs": [
        {
          "output_type": "stream",
          "name": "stdout",
          "text": [
            " * sqlite://\n",
            "Done.\n"
          ]
        },
        {
          "output_type": "execute_result",
          "data": {
            "text/plain": [
              "[(8397,)]"
            ],
            "text/html": [
              "<table>\n",
              "    <thead>\n",
              "        <tr>\n",
              "            <th>COUNT(*)</th>\n",
              "        </tr>\n",
              "    </thead>\n",
              "    <tbody>\n",
              "        <tr>\n",
              "            <td>8397</td>\n",
              "        </tr>\n",
              "    </tbody>\n",
              "</table>"
            ]
          },
          "metadata": {},
          "execution_count": 32
        }
      ]
    },
    {
      "cell_type": "code",
      "source": [
        "%%sql SELECT COUNT(DISTINCT birthdate)\n",
        "FROM people;"
      ],
      "metadata": {
        "colab": {
          "base_uri": "https://localhost:8080/",
          "height": 96
        },
        "id": "SbbQEj-t5NfK",
        "outputId": "e72445c3-438f-46b2-a108-9d5288558d70"
      },
      "execution_count": 33,
      "outputs": [
        {
          "output_type": "stream",
          "name": "stdout",
          "text": [
            " * sqlite://\n",
            "Done.\n"
          ]
        },
        {
          "output_type": "execute_result",
          "data": {
            "text/plain": [
              "[(5398,)]"
            ],
            "text/html": [
              "<table>\n",
              "    <thead>\n",
              "        <tr>\n",
              "            <th>COUNT(DISTINCT birthdate)</th>\n",
              "        </tr>\n",
              "    </thead>\n",
              "    <tbody>\n",
              "        <tr>\n",
              "            <td>5398</td>\n",
              "        </tr>\n",
              "    </tbody>\n",
              "</table>"
            ]
          },
          "metadata": {},
          "execution_count": 33
        }
      ]
    },
    {
      "cell_type": "code",
      "source": [
        "%%sql SELECT * FROM films\n",
        "WHERE releas_date BETWEEN '1960.0' AND '1970.0'\n",
        "LIMIT 5;"
      ],
      "metadata": {
        "colab": {
          "base_uri": "https://localhost:8080/",
          "height": 180
        },
        "id": "RDWpeO9453bm",
        "outputId": "5fcf48db-dfb0-44f1-e0e6-a12611b48415"
      },
      "execution_count": 26,
      "outputs": [
        {
          "output_type": "stream",
          "name": "stdout",
          "text": [
            " * sqlite://\n",
            "Done.\n"
          ]
        },
        {
          "output_type": "execute_result",
          "data": {
            "text/plain": [
              "[(74, 75, 'Elmer Gantry', 1960.0, 'USA', 146.0, 'English', 'Approved', None, 3000000.0),\n",
              " (75, 76, 'Psycho', 1960.0, 'USA', 108.0, 'English', 'R', 32000000.0, 806947.0),\n",
              " (76, 77, 'The Apartment', 1960.0, 'USA', 125.0, 'English', 'Approved', None, 3000000.0),\n",
              " (77, 78, 'Judgment at Nuremberg', 1961.0, 'USA', 186.0, 'English', 'Not Rated', None, 3000000.0),\n",
              " (78, 79, 'Pocketful of Miracles', 1961.0, 'USA', 136.0, 'English', 'Approved', None, 2900000.0)]"
            ],
            "text/html": [
              "<table>\n",
              "    <thead>\n",
              "        <tr>\n",
              "            <th>index</th>\n",
              "            <th>id</th>\n",
              "            <th>title</th>\n",
              "            <th>releas_date</th>\n",
              "            <th>country</th>\n",
              "            <th>duratioon</th>\n",
              "            <th>language</th>\n",
              "            <th>certificatipon</th>\n",
              "            <th>gross</th>\n",
              "            <th>budget</th>\n",
              "        </tr>\n",
              "    </thead>\n",
              "    <tbody>\n",
              "        <tr>\n",
              "            <td>74</td>\n",
              "            <td>75</td>\n",
              "            <td>Elmer Gantry</td>\n",
              "            <td>1960.0</td>\n",
              "            <td>USA</td>\n",
              "            <td>146.0</td>\n",
              "            <td>English</td>\n",
              "            <td>Approved</td>\n",
              "            <td>None</td>\n",
              "            <td>3000000.0</td>\n",
              "        </tr>\n",
              "        <tr>\n",
              "            <td>75</td>\n",
              "            <td>76</td>\n",
              "            <td>Psycho</td>\n",
              "            <td>1960.0</td>\n",
              "            <td>USA</td>\n",
              "            <td>108.0</td>\n",
              "            <td>English</td>\n",
              "            <td>R</td>\n",
              "            <td>32000000.0</td>\n",
              "            <td>806947.0</td>\n",
              "        </tr>\n",
              "        <tr>\n",
              "            <td>76</td>\n",
              "            <td>77</td>\n",
              "            <td>The Apartment</td>\n",
              "            <td>1960.0</td>\n",
              "            <td>USA</td>\n",
              "            <td>125.0</td>\n",
              "            <td>English</td>\n",
              "            <td>Approved</td>\n",
              "            <td>None</td>\n",
              "            <td>3000000.0</td>\n",
              "        </tr>\n",
              "        <tr>\n",
              "            <td>77</td>\n",
              "            <td>78</td>\n",
              "            <td>Judgment at Nuremberg</td>\n",
              "            <td>1961.0</td>\n",
              "            <td>USA</td>\n",
              "            <td>186.0</td>\n",
              "            <td>English</td>\n",
              "            <td>Not Rated</td>\n",
              "            <td>None</td>\n",
              "            <td>3000000.0</td>\n",
              "        </tr>\n",
              "        <tr>\n",
              "            <td>78</td>\n",
              "            <td>79</td>\n",
              "            <td>Pocketful of Miracles</td>\n",
              "            <td>1961.0</td>\n",
              "            <td>USA</td>\n",
              "            <td>136.0</td>\n",
              "            <td>English</td>\n",
              "            <td>Approved</td>\n",
              "            <td>None</td>\n",
              "            <td>2900000.0</td>\n",
              "        </tr>\n",
              "    </tbody>\n",
              "</table>"
            ]
          },
          "metadata": {},
          "execution_count": 26
        }
      ]
    },
    {
      "cell_type": "code",
      "source": [
        "%%sql SELECT *\n",
        "FROM films\n",
        "WHERE releas_date = '1960.0';"
      ],
      "metadata": {
        "colab": {
          "base_uri": "https://localhost:8080/",
          "height": 138
        },
        "id": "8NRMXM769yhw",
        "outputId": "fcd4efed-a577-48c9-d78d-1485be6f7e9e"
      },
      "execution_count": 35,
      "outputs": [
        {
          "output_type": "stream",
          "name": "stdout",
          "text": [
            " * sqlite://\n",
            "Done.\n"
          ]
        },
        {
          "output_type": "execute_result",
          "data": {
            "text/plain": [
              "[(74, 75, 'Elmer Gantry', 1960.0, 'USA', 146.0, 'English', 'Approved', None, 3000000.0),\n",
              " (75, 76, 'Psycho', 1960.0, 'USA', 108.0, 'English', 'R', 32000000.0, 806947.0),\n",
              " (76, 77, 'The Apartment', 1960.0, 'USA', 125.0, 'English', 'Approved', None, 3000000.0)]"
            ],
            "text/html": [
              "<table>\n",
              "    <thead>\n",
              "        <tr>\n",
              "            <th>index</th>\n",
              "            <th>id</th>\n",
              "            <th>title</th>\n",
              "            <th>releas_date</th>\n",
              "            <th>country</th>\n",
              "            <th>duratioon</th>\n",
              "            <th>language</th>\n",
              "            <th>certificatipon</th>\n",
              "            <th>gross</th>\n",
              "            <th>budget</th>\n",
              "        </tr>\n",
              "    </thead>\n",
              "    <tbody>\n",
              "        <tr>\n",
              "            <td>74</td>\n",
              "            <td>75</td>\n",
              "            <td>Elmer Gantry</td>\n",
              "            <td>1960.0</td>\n",
              "            <td>USA</td>\n",
              "            <td>146.0</td>\n",
              "            <td>English</td>\n",
              "            <td>Approved</td>\n",
              "            <td>None</td>\n",
              "            <td>3000000.0</td>\n",
              "        </tr>\n",
              "        <tr>\n",
              "            <td>75</td>\n",
              "            <td>76</td>\n",
              "            <td>Psycho</td>\n",
              "            <td>1960.0</td>\n",
              "            <td>USA</td>\n",
              "            <td>108.0</td>\n",
              "            <td>English</td>\n",
              "            <td>R</td>\n",
              "            <td>32000000.0</td>\n",
              "            <td>806947.0</td>\n",
              "        </tr>\n",
              "        <tr>\n",
              "            <td>76</td>\n",
              "            <td>77</td>\n",
              "            <td>The Apartment</td>\n",
              "            <td>1960.0</td>\n",
              "            <td>USA</td>\n",
              "            <td>125.0</td>\n",
              "            <td>English</td>\n",
              "            <td>Approved</td>\n",
              "            <td>None</td>\n",
              "            <td>3000000.0</td>\n",
              "        </tr>\n",
              "    </tbody>\n",
              "</table>"
            ]
          },
          "metadata": {},
          "execution_count": 35
        }
      ]
    },
    {
      "cell_type": "code",
      "source": [
        "%%sql SELECT * FROM people\n",
        "LIMIT 5;"
      ],
      "metadata": {
        "colab": {
          "base_uri": "https://localhost:8080/",
          "height": 180
        },
        "id": "kISrEr4q-kQm",
        "outputId": "c2c0e547-26e7-4377-c652-2fd71cb27003"
      },
      "execution_count": 42,
      "outputs": [
        {
          "output_type": "stream",
          "name": "stdout",
          "text": [
            " * sqlite://\n",
            "Done.\n"
          ]
        },
        {
          "output_type": "execute_result",
          "data": {
            "text/plain": [
              "[(0, 1, '50 Cent', '1975-07-06', None),\n",
              " (1, 2, 'A. Michael Baldwin', '1963-04-04', None),\n",
              " (2, 3, 'A. Raven Cruz', None, None),\n",
              " (3, 4, 'A.J. Buckley', '1978-02-09', None),\n",
              " (4, 5, 'A.J. DeLucia', None, None)]"
            ],
            "text/html": [
              "<table>\n",
              "    <thead>\n",
              "        <tr>\n",
              "            <th>index</th>\n",
              "            <th>id</th>\n",
              "            <th>name</th>\n",
              "            <th>birthdate</th>\n",
              "            <th>deathdate</th>\n",
              "        </tr>\n",
              "    </thead>\n",
              "    <tbody>\n",
              "        <tr>\n",
              "            <td>0</td>\n",
              "            <td>1</td>\n",
              "            <td>50 Cent</td>\n",
              "            <td>1975-07-06</td>\n",
              "            <td>None</td>\n",
              "        </tr>\n",
              "        <tr>\n",
              "            <td>1</td>\n",
              "            <td>2</td>\n",
              "            <td>A. Michael Baldwin</td>\n",
              "            <td>1963-04-04</td>\n",
              "            <td>None</td>\n",
              "        </tr>\n",
              "        <tr>\n",
              "            <td>2</td>\n",
              "            <td>3</td>\n",
              "            <td>A. Raven Cruz</td>\n",
              "            <td>None</td>\n",
              "            <td>None</td>\n",
              "        </tr>\n",
              "        <tr>\n",
              "            <td>3</td>\n",
              "            <td>4</td>\n",
              "            <td>A.J. Buckley</td>\n",
              "            <td>1978-02-09</td>\n",
              "            <td>None</td>\n",
              "        </tr>\n",
              "        <tr>\n",
              "            <td>4</td>\n",
              "            <td>5</td>\n",
              "            <td>A.J. DeLucia</td>\n",
              "            <td>None</td>\n",
              "            <td>None</td>\n",
              "        </tr>\n",
              "    </tbody>\n",
              "</table>"
            ]
          },
          "metadata": {},
          "execution_count": 42
        }
      ]
    },
    {
      "cell_type": "code",
      "source": [
        "%%sql SELECT *\n",
        "FROM films\n",
        "LIMIT 1;"
      ],
      "metadata": {
        "id": "Z8yK2Lwc-yq0",
        "colab": {
          "base_uri": "https://localhost:8080/",
          "height": 96
        },
        "outputId": "60cbb2bf-d22a-458d-cca8-06d98f657051"
      },
      "execution_count": 40,
      "outputs": [
        {
          "output_type": "stream",
          "name": "stdout",
          "text": [
            " * sqlite://\n",
            "Done.\n"
          ]
        },
        {
          "output_type": "execute_result",
          "data": {
            "text/plain": [
              "[(0, 1, \"Intolerance: Love's Struggle Throughout the Ages\", 1916.0, 'USA', 123.0, None, 'Not Rated', None, 385907.0)]"
            ],
            "text/html": [
              "<table>\n",
              "    <thead>\n",
              "        <tr>\n",
              "            <th>index</th>\n",
              "            <th>id</th>\n",
              "            <th>title</th>\n",
              "            <th>releas_date</th>\n",
              "            <th>country</th>\n",
              "            <th>duratioon</th>\n",
              "            <th>language</th>\n",
              "            <th>certificatipon</th>\n",
              "            <th>gross</th>\n",
              "            <th>budget</th>\n",
              "        </tr>\n",
              "    </thead>\n",
              "    <tbody>\n",
              "        <tr>\n",
              "            <td>0</td>\n",
              "            <td>1</td>\n",
              "            <td>Intolerance: Love&#x27;s Struggle Throughout the Ages</td>\n",
              "            <td>1916.0</td>\n",
              "            <td>USA</td>\n",
              "            <td>123.0</td>\n",
              "            <td>None</td>\n",
              "            <td>Not Rated</td>\n",
              "            <td>None</td>\n",
              "            <td>385907.0</td>\n",
              "        </tr>\n",
              "    </tbody>\n",
              "</table>"
            ]
          },
          "metadata": {},
          "execution_count": 40
        }
      ]
    },
    {
      "cell_type": "code",
      "source": [
        "%%sql SELECT *\n",
        "FROM roles\n",
        "LIMIT 1;"
      ],
      "metadata": {
        "colab": {
          "base_uri": "https://localhost:8080/",
          "height": 96
        },
        "id": "CNzWDgXdqzet",
        "outputId": "27fde012-b1c7-41b4-f64a-7ea640e45de9"
      },
      "execution_count": 43,
      "outputs": [
        {
          "output_type": "stream",
          "name": "stdout",
          "text": [
            " * sqlite://\n",
            "Done.\n"
          ]
        },
        {
          "output_type": "execute_result",
          "data": {
            "text/plain": [
              "[(0, 1, 1, 1630, 'director')]"
            ],
            "text/html": [
              "<table>\n",
              "    <thead>\n",
              "        <tr>\n",
              "            <th>index</th>\n",
              "            <th>id</th>\n",
              "            <th>film_id</th>\n",
              "            <th>person_id</th>\n",
              "            <th>role</th>\n",
              "        </tr>\n",
              "    </thead>\n",
              "    <tbody>\n",
              "        <tr>\n",
              "            <td>0</td>\n",
              "            <td>1</td>\n",
              "            <td>1</td>\n",
              "            <td>1630</td>\n",
              "            <td>director</td>\n",
              "        </tr>\n",
              "    </tbody>\n",
              "</table>"
            ]
          },
          "metadata": {},
          "execution_count": 43
        }
      ]
    },
    {
      "cell_type": "code",
      "source": [
        "%%sql SELECT *\n",
        "FROM reviews\n",
        "LIMIT 1;"
      ],
      "metadata": {
        "colab": {
          "base_uri": "https://localhost:8080/",
          "height": 96
        },
        "id": "HBa30DTFrJCF",
        "outputId": "8b6c4954-2543-4fdb-9100-30bf25640c80"
      },
      "execution_count": 45,
      "outputs": [
        {
          "output_type": "stream",
          "name": "stdout",
          "text": [
            " * sqlite://\n",
            "Done.\n"
          ]
        },
        {
          "output_type": "execute_result",
          "data": {
            "text/plain": [
              "[(0, 3934, 588.0, 432.0, 7.0999999, 203461, 46000)]"
            ],
            "text/html": [
              "<table>\n",
              "    <thead>\n",
              "        <tr>\n",
              "            <th>index</th>\n",
              "            <th>id</th>\n",
              "            <th>film_id</th>\n",
              "            <th>num_user</th>\n",
              "            <th>num_critic</th>\n",
              "            <th>imdb_score</th>\n",
              "            <th>num_votes</th>\n",
              "        </tr>\n",
              "    </thead>\n",
              "    <tbody>\n",
              "        <tr>\n",
              "            <td>0</td>\n",
              "            <td>3934</td>\n",
              "            <td>588.0</td>\n",
              "            <td>432.0</td>\n",
              "            <td>7.0999999</td>\n",
              "            <td>203461</td>\n",
              "            <td>46000</td>\n",
              "        </tr>\n",
              "    </tbody>\n",
              "</table>"
            ]
          },
          "metadata": {},
          "execution_count": 45
        }
      ]
    },
    {
      "cell_type": "markdown",
      "source": [
        "### Eng kup filmlar chiqqan yil"
      ],
      "metadata": {
        "id": "6bYm76eQrdWX"
      }
    },
    {
      "cell_type": "code",
      "source": [
        "%%sql SELECT releas_date, COUNT(*) as film_count\n",
        "FROM films\n",
        "GROUP BY releas_date\n",
        "ORDER BY film_count DESC\n",
        "LIMIT 1;"
      ],
      "metadata": {
        "colab": {
          "base_uri": "https://localhost:8080/",
          "height": 96
        },
        "id": "YXZ0sSGIrZrx",
        "outputId": "c3ecd07a-f0cb-4ff1-b4de-8967107038c4"
      },
      "execution_count": 53,
      "outputs": [
        {
          "output_type": "stream",
          "name": "stdout",
          "text": [
            " * sqlite://\n",
            "Done.\n"
          ]
        },
        {
          "output_type": "execute_result",
          "data": {
            "text/plain": [
              "[(2009.0, 260)]"
            ],
            "text/html": [
              "<table>\n",
              "    <thead>\n",
              "        <tr>\n",
              "            <th>releas_date</th>\n",
              "            <th>film_count</th>\n",
              "        </tr>\n",
              "    </thead>\n",
              "    <tbody>\n",
              "        <tr>\n",
              "            <td>2009.0</td>\n",
              "            <td>260</td>\n",
              "        </tr>\n",
              "    </tbody>\n",
              "</table>"
            ]
          },
          "metadata": {},
          "execution_count": 53
        }
      ]
    },
    {
      "cell_type": "markdown",
      "source": [
        "Eng kup kino chiqargan top 5 davlat"
      ],
      "metadata": {
        "id": "O71uXeaptDNo"
      }
    },
    {
      "cell_type": "code",
      "source": [
        "%%sql SELECT country, COUNT(*) as film_count\n",
        "FROM films\n",
        "GROUP BY country\n",
        "ORDER BY film_count DESC\n",
        "LIMIT 5;"
      ],
      "metadata": {
        "colab": {
          "base_uri": "https://localhost:8080/",
          "height": 180
        },
        "id": "0uTG2DePs_ka",
        "outputId": "1e920fe8-2d87-4a9e-85d3-8640df25a625"
      },
      "execution_count": 65,
      "outputs": [
        {
          "output_type": "stream",
          "name": "stdout",
          "text": [
            " * sqlite://\n",
            "Done.\n"
          ]
        },
        {
          "output_type": "execute_result",
          "data": {
            "text/plain": [
              "[('USA', 3750), ('UK', 443), ('France', 153), ('Canada', 123), ('Germany', 97)]"
            ],
            "text/html": [
              "<table>\n",
              "    <thead>\n",
              "        <tr>\n",
              "            <th>country</th>\n",
              "            <th>film_count</th>\n",
              "        </tr>\n",
              "    </thead>\n",
              "    <tbody>\n",
              "        <tr>\n",
              "            <td>USA</td>\n",
              "            <td>3750</td>\n",
              "        </tr>\n",
              "        <tr>\n",
              "            <td>UK</td>\n",
              "            <td>443</td>\n",
              "        </tr>\n",
              "        <tr>\n",
              "            <td>France</td>\n",
              "            <td>153</td>\n",
              "        </tr>\n",
              "        <tr>\n",
              "            <td>Canada</td>\n",
              "            <td>123</td>\n",
              "        </tr>\n",
              "        <tr>\n",
              "            <td>Germany</td>\n",
              "            <td>97</td>\n",
              "        </tr>\n",
              "    </tbody>\n",
              "</table>"
            ]
          },
          "metadata": {},
          "execution_count": 65
        }
      ]
    },
    {
      "cell_type": "markdown",
      "source": [
        "Eng kup budejtga ega top 5 film"
      ],
      "metadata": {
        "id": "xL-8kw1otZ7k"
      }
    },
    {
      "cell_type": "code",
      "source": [
        "%%sql SELECT *\n",
        "FROM films\n",
        "ORDER BY budget DESC\n",
        "LIMIT 5;"
      ],
      "metadata": {
        "colab": {
          "base_uri": "https://localhost:8080/",
          "height": 180
        },
        "id": "cSnjN90WtHuG",
        "outputId": "f5436747-b74e-43f2-a564-c54bc2e010b6"
      },
      "execution_count": 66,
      "outputs": [
        {
          "output_type": "stream",
          "name": "stdout",
          "text": [
            " * sqlite://\n",
            "Done.\n"
          ]
        },
        {
          "output_type": "execute_result",
          "data": {
            "text/plain": [
              "[(2703, 2704, 'The Host', 2006.0, 'South Korea', 110.0, 'Korean', 'R', 2201412.0, 12215500000.0),\n",
              " (2376, 2377, 'Lady Vengeance', 2005.0, 'South Korea', 112.0, 'Korean', 'R', 211667.0, 4200000000.0),\n",
              " (2336, 2337, 'Fateless', 2005.0, 'Hungary', 134.0, 'Hungarian', 'R', 195888.0, 2500000000.0),\n",
              " (985, 986, 'Princess Mononoke', 1997.0, 'Japan', 134.0, 'Japanese', 'PG-13', 2298191.0, 2400000000.0),\n",
              " (2222, 2223, 'Steamboy', 2004.0, 'Japan', 103.0, 'Japanese', 'PG-13', 410388.0, 2127519898.0)]"
            ],
            "text/html": [
              "<table>\n",
              "    <thead>\n",
              "        <tr>\n",
              "            <th>index</th>\n",
              "            <th>id</th>\n",
              "            <th>title</th>\n",
              "            <th>releas_date</th>\n",
              "            <th>country</th>\n",
              "            <th>duratioon</th>\n",
              "            <th>language</th>\n",
              "            <th>certificatipon</th>\n",
              "            <th>gross</th>\n",
              "            <th>budget</th>\n",
              "        </tr>\n",
              "    </thead>\n",
              "    <tbody>\n",
              "        <tr>\n",
              "            <td>2703</td>\n",
              "            <td>2704</td>\n",
              "            <td>The Host</td>\n",
              "            <td>2006.0</td>\n",
              "            <td>South Korea</td>\n",
              "            <td>110.0</td>\n",
              "            <td>Korean</td>\n",
              "            <td>R</td>\n",
              "            <td>2201412.0</td>\n",
              "            <td>12215500000.0</td>\n",
              "        </tr>\n",
              "        <tr>\n",
              "            <td>2376</td>\n",
              "            <td>2377</td>\n",
              "            <td>Lady Vengeance</td>\n",
              "            <td>2005.0</td>\n",
              "            <td>South Korea</td>\n",
              "            <td>112.0</td>\n",
              "            <td>Korean</td>\n",
              "            <td>R</td>\n",
              "            <td>211667.0</td>\n",
              "            <td>4200000000.0</td>\n",
              "        </tr>\n",
              "        <tr>\n",
              "            <td>2336</td>\n",
              "            <td>2337</td>\n",
              "            <td>Fateless</td>\n",
              "            <td>2005.0</td>\n",
              "            <td>Hungary</td>\n",
              "            <td>134.0</td>\n",
              "            <td>Hungarian</td>\n",
              "            <td>R</td>\n",
              "            <td>195888.0</td>\n",
              "            <td>2500000000.0</td>\n",
              "        </tr>\n",
              "        <tr>\n",
              "            <td>985</td>\n",
              "            <td>986</td>\n",
              "            <td>Princess Mononoke</td>\n",
              "            <td>1997.0</td>\n",
              "            <td>Japan</td>\n",
              "            <td>134.0</td>\n",
              "            <td>Japanese</td>\n",
              "            <td>PG-13</td>\n",
              "            <td>2298191.0</td>\n",
              "            <td>2400000000.0</td>\n",
              "        </tr>\n",
              "        <tr>\n",
              "            <td>2222</td>\n",
              "            <td>2223</td>\n",
              "            <td>Steamboy</td>\n",
              "            <td>2004.0</td>\n",
              "            <td>Japan</td>\n",
              "            <td>103.0</td>\n",
              "            <td>Japanese</td>\n",
              "            <td>PG-13</td>\n",
              "            <td>410388.0</td>\n",
              "            <td>2127519898.0</td>\n",
              "        </tr>\n",
              "    </tbody>\n",
              "</table>"
            ]
          },
          "metadata": {},
          "execution_count": 66
        }
      ]
    },
    {
      "cell_type": "markdown",
      "source": [
        "Kinolarda eng kup qatnashgan aktyor"
      ],
      "metadata": {
        "id": "LY34lMKdtvj5"
      }
    },
    {
      "cell_type": "code",
      "source": [
        "%%sql SELECT ps.name, COUNT(*) as role_count\n",
        "FROM people AS ps\n",
        "INNER JOIN roles AS rl\n",
        "ON ps.id = rl.person_id\n",
        "WHERE rl.role = 'actor'\n",
        "GROUP BY ps.name\n",
        "ORDER BY role_count DESC\n",
        "LIMIT 5;"
      ],
      "metadata": {
        "colab": {
          "base_uri": "https://localhost:8080/",
          "height": 180
        },
        "id": "dnEDlabjtzrW",
        "outputId": "0697f2b8-646a-4bf6-d666-0e708f442662"
      },
      "execution_count": 67,
      "outputs": [
        {
          "output_type": "stream",
          "name": "stdout",
          "text": [
            " * sqlite://\n",
            "Done.\n"
          ]
        },
        {
          "output_type": "execute_result",
          "data": {
            "text/plain": [
              "[('Robert De Niro', 54),\n",
              " ('Morgan Freeman', 47),\n",
              " ('Johnny Depp', 41),\n",
              " ('Bruce Willis', 40),\n",
              " ('Matt Damon', 38)]"
            ],
            "text/html": [
              "<table>\n",
              "    <thead>\n",
              "        <tr>\n",
              "            <th>name</th>\n",
              "            <th>role_count</th>\n",
              "        </tr>\n",
              "    </thead>\n",
              "    <tbody>\n",
              "        <tr>\n",
              "            <td>Robert De Niro</td>\n",
              "            <td>54</td>\n",
              "        </tr>\n",
              "        <tr>\n",
              "            <td>Morgan Freeman</td>\n",
              "            <td>47</td>\n",
              "        </tr>\n",
              "        <tr>\n",
              "            <td>Johnny Depp</td>\n",
              "            <td>41</td>\n",
              "        </tr>\n",
              "        <tr>\n",
              "            <td>Bruce Willis</td>\n",
              "            <td>40</td>\n",
              "        </tr>\n",
              "        <tr>\n",
              "            <td>Matt Damon</td>\n",
              "            <td>38</td>\n",
              "        </tr>\n",
              "    </tbody>\n",
              "</table>"
            ]
          },
          "metadata": {},
          "execution_count": 67
        }
      ]
    },
    {
      "cell_type": "markdown",
      "source": [
        "Eng kup bal yig'a olgan top 5 filmlar"
      ],
      "metadata": {
        "id": "cBiLlf5tur_O"
      }
    },
    {
      "cell_type": "code",
      "source": [
        "%%sql SELECT fm.title, rv.imdb_score\n",
        "FROM films AS fm\n",
        "INNER JOIN reviews AS rv\n",
        "ON fm.id = rv.film_id\n",
        "ORDER BY rv.imdb_score DESC\n",
        "LIMIT 5;"
      ],
      "metadata": {
        "colab": {
          "base_uri": "https://localhost:8080/",
          "height": 180
        },
        "id": "vqfQbTYwt_N6",
        "outputId": "466f79eb-efe8-4bf2-e334-271b0b477027"
      },
      "execution_count": 68,
      "outputs": [
        {
          "output_type": "stream",
          "name": "stdout",
          "text": [
            " * sqlite://\n",
            "Done.\n"
          ]
        },
        {
          "output_type": "execute_result",
          "data": {
            "text/plain": [
              "[('Bending Steel', 1689764),\n",
              " ('Freeheld', 1676169),\n",
              " ('Finishing the Game: The Search for a New Bruce Lee', 1468200),\n",
              " ('Bolt', 1347461),\n",
              " ('Peace, Propaganda & the Promised Land', 1324680)]"
            ],
            "text/html": [
              "<table>\n",
              "    <thead>\n",
              "        <tr>\n",
              "            <th>title</th>\n",
              "            <th>imdb_score</th>\n",
              "        </tr>\n",
              "    </thead>\n",
              "    <tbody>\n",
              "        <tr>\n",
              "            <td>Bending Steel</td>\n",
              "            <td>1689764</td>\n",
              "        </tr>\n",
              "        <tr>\n",
              "            <td>Freeheld</td>\n",
              "            <td>1676169</td>\n",
              "        </tr>\n",
              "        <tr>\n",
              "            <td>Finishing the Game: The Search for a New Bruce Lee</td>\n",
              "            <td>1468200</td>\n",
              "        </tr>\n",
              "        <tr>\n",
              "            <td>Bolt</td>\n",
              "            <td>1347461</td>\n",
              "        </tr>\n",
              "        <tr>\n",
              "            <td>Peace, Propaganda &amp; the Promised Land</td>\n",
              "            <td>1324680</td>\n",
              "        </tr>\n",
              "    </tbody>\n",
              "</table>"
            ]
          },
          "metadata": {},
          "execution_count": 68
        }
      ]
    },
    {
      "cell_type": "markdown",
      "source": [
        "Har bir davlat uchun eng top filmlari"
      ],
      "metadata": {
        "id": "K1fHk766vCPs"
      }
    },
    {
      "cell_type": "code",
      "source": [
        "%%sql SELECT fm.country, fm.title, rv.imdb_score\n",
        "FROM films AS fm\n",
        "INNER JOIN reviews AS rv\n",
        "ON fm.id = rv.film_id\n",
        "WHERE rv.imdb_score = (\n",
        "    SELECT MAX(rv_inner.imdb_score)\n",
        "    FROM reviews AS rv_inner\n",
        "    INNER JOIN films AS fm_inner ON fm_inner.id = rv_inner.film_id\n",
        "    WHERE fm_inner.country = fm.country\n",
        ")\n",
        "GROUP BY fm.country, fm.title, rv.imdb_score;"
      ],
      "metadata": {
        "colab": {
          "base_uri": "https://localhost:8080/",
          "height": 559
        },
        "id": "OHCiEqQrvA15",
        "outputId": "55058b38-b035-484c-a38b-71e315bea0d5"
      },
      "execution_count": 72,
      "outputs": [
        {
          "output_type": "stream",
          "name": "stdout",
          "text": [
            " * sqlite://\n",
            "Done.\n"
          ]
        },
        {
          "output_type": "execute_result",
          "data": {
            "text/plain": [
              "[('Afghanistan', 'Osama', 254111),\n",
              " ('Argentina', 'Nine Queens', 782437),\n",
              " ('Australia', 'Babe', 514125),\n",
              " ('Brazil', 'Gabriela', 175196),\n",
              " ('Canada', 'Class of 1984', 258186),\n",
              " ('China', 'A Woman, a Gun and a Noodle Shop', 1215718),\n",
              " ('Denmark', 'Ordet', 63625),\n",
              " ('France', 'Joyeux Noel', 982637),\n",
              " ('Germany', 'Run Lola Run', 563827),\n",
              " ('Hong Kong', 'The Legend of Drunken Master', 306336),\n",
              " ('India', 'Hum To Mohabbat Karega', 1251222),\n",
              " ('Iran', 'Caravans', 131831),\n",
              " ('Italy', 'Once Upon a Time in America', 266636),\n",
              " ('Japan', 'Princess Mononoke', 277172),\n",
              " ('Libya', 'Lion of the Desert', 115687),\n",
              " ('Netherlands', 'Character', 512749),\n",
              " ('New Zealand', 'Whale Rider', 383071),\n",
              " ('South Korea', 'Inchon', 128285),\n",
              " ('Soviet Union', 'Solaris', 106790),\n",
              " ('Sweden', 'Cries & Whispers', 156898),\n",
              " ('UK', 'The History Boys', 1144337),\n",
              " ('USA', 'Bending Steel', 1689764),\n",
              " ('West Germany', 'The NeverEnding Story', 189249)]"
            ],
            "text/html": [
              "<table>\n",
              "    <thead>\n",
              "        <tr>\n",
              "            <th>country</th>\n",
              "            <th>title</th>\n",
              "            <th>imdb_score</th>\n",
              "        </tr>\n",
              "    </thead>\n",
              "    <tbody>\n",
              "        <tr>\n",
              "            <td>Afghanistan</td>\n",
              "            <td>Osama</td>\n",
              "            <td>254111</td>\n",
              "        </tr>\n",
              "        <tr>\n",
              "            <td>Argentina</td>\n",
              "            <td>Nine Queens</td>\n",
              "            <td>782437</td>\n",
              "        </tr>\n",
              "        <tr>\n",
              "            <td>Australia</td>\n",
              "            <td>Babe</td>\n",
              "            <td>514125</td>\n",
              "        </tr>\n",
              "        <tr>\n",
              "            <td>Brazil</td>\n",
              "            <td>Gabriela</td>\n",
              "            <td>175196</td>\n",
              "        </tr>\n",
              "        <tr>\n",
              "            <td>Canada</td>\n",
              "            <td>Class of 1984</td>\n",
              "            <td>258186</td>\n",
              "        </tr>\n",
              "        <tr>\n",
              "            <td>China</td>\n",
              "            <td>A Woman, a Gun and a Noodle Shop</td>\n",
              "            <td>1215718</td>\n",
              "        </tr>\n",
              "        <tr>\n",
              "            <td>Denmark</td>\n",
              "            <td>Ordet</td>\n",
              "            <td>63625</td>\n",
              "        </tr>\n",
              "        <tr>\n",
              "            <td>France</td>\n",
              "            <td>Joyeux Noel</td>\n",
              "            <td>982637</td>\n",
              "        </tr>\n",
              "        <tr>\n",
              "            <td>Germany</td>\n",
              "            <td>Run Lola Run</td>\n",
              "            <td>563827</td>\n",
              "        </tr>\n",
              "        <tr>\n",
              "            <td>Hong Kong</td>\n",
              "            <td>The Legend of Drunken Master</td>\n",
              "            <td>306336</td>\n",
              "        </tr>\n",
              "        <tr>\n",
              "            <td>India</td>\n",
              "            <td>Hum To Mohabbat Karega</td>\n",
              "            <td>1251222</td>\n",
              "        </tr>\n",
              "        <tr>\n",
              "            <td>Iran</td>\n",
              "            <td>Caravans</td>\n",
              "            <td>131831</td>\n",
              "        </tr>\n",
              "        <tr>\n",
              "            <td>Italy</td>\n",
              "            <td>Once Upon a Time in America</td>\n",
              "            <td>266636</td>\n",
              "        </tr>\n",
              "        <tr>\n",
              "            <td>Japan</td>\n",
              "            <td>Princess Mononoke</td>\n",
              "            <td>277172</td>\n",
              "        </tr>\n",
              "        <tr>\n",
              "            <td>Libya</td>\n",
              "            <td>Lion of the Desert</td>\n",
              "            <td>115687</td>\n",
              "        </tr>\n",
              "        <tr>\n",
              "            <td>Netherlands</td>\n",
              "            <td>Character</td>\n",
              "            <td>512749</td>\n",
              "        </tr>\n",
              "        <tr>\n",
              "            <td>New Zealand</td>\n",
              "            <td>Whale Rider</td>\n",
              "            <td>383071</td>\n",
              "        </tr>\n",
              "        <tr>\n",
              "            <td>South Korea</td>\n",
              "            <td>Inchon</td>\n",
              "            <td>128285</td>\n",
              "        </tr>\n",
              "        <tr>\n",
              "            <td>Soviet Union</td>\n",
              "            <td>Solaris</td>\n",
              "            <td>106790</td>\n",
              "        </tr>\n",
              "        <tr>\n",
              "            <td>Sweden</td>\n",
              "            <td>Cries &amp; Whispers</td>\n",
              "            <td>156898</td>\n",
              "        </tr>\n",
              "        <tr>\n",
              "            <td>UK</td>\n",
              "            <td>The History Boys</td>\n",
              "            <td>1144337</td>\n",
              "        </tr>\n",
              "        <tr>\n",
              "            <td>USA</td>\n",
              "            <td>Bending Steel</td>\n",
              "            <td>1689764</td>\n",
              "        </tr>\n",
              "        <tr>\n",
              "            <td>West Germany</td>\n",
              "            <td>The NeverEnding Story</td>\n",
              "            <td>189249</td>\n",
              "        </tr>\n",
              "    </tbody>\n",
              "</table>"
            ]
          },
          "metadata": {},
          "execution_count": 72
        }
      ]
    },
    {
      "cell_type": "markdown",
      "source": [
        "Qaysi davlatlar film uchun qancha budjet sarflaydi urtacha"
      ],
      "metadata": {
        "id": "sRt_wBZov-Ix"
      }
    },
    {
      "cell_type": "code",
      "source": [
        "%%sql SELECT country, AVG(budget) as total_budget\n",
        "FROM films\n",
        "GROUP BY country\n",
        "ORDER BY total_budget DESC;"
      ],
      "metadata": {
        "colab": {
          "base_uri": "https://localhost:8080/",
          "height": 1000
        },
        "id": "VOVA20-QwIb_",
        "outputId": "430aba14-6b63-4084-8493-540e45a9a11b"
      },
      "execution_count": 74,
      "outputs": [
        {
          "output_type": "stream",
          "name": "stdout",
          "text": [
            " * sqlite://\n",
            "Done.\n"
          ]
        },
        {
          "output_type": "execute_result",
          "data": {
            "text/plain": [
              "[('South Korea', 1383960000.0),\n",
              " ('Hungary', 1260000000.0),\n",
              " ('Japan', 368416836.7368421),\n",
              " ('Thailand', 227250000.0),\n",
              " ('India', 97973355.15789473),\n",
              " ('New Line', 90000000.0),\n",
              " ('New Zealand', 81526923.07692307),\n",
              " ('China', 62219000.0),\n",
              " ('Czech Republic', 48816666.666666664),\n",
              " ('Peru', 45000000.0),\n",
              " ('Spain', 42816666.666666664),\n",
              " ('USA', 35922721.93055159),\n",
              " ('Libya', 35000000.0),\n",
              " ('Aruba', 35000000.0),\n",
              " ('Germany', 33389000.0),\n",
              " ('Australia', 31172110.46),\n",
              " ('France', 30672034.615384616),\n",
              " ('UK', 27666066.298153035),\n",
              " ('Chile', 26000000.0),\n",
              " ('Hong Kong', 24873333.333333332),\n",
              " ('Belgium', 24500000.0),\n",
              " ('West Germany', 20500000.0),\n",
              " ('Panama', 20000000.0),\n",
              " ('Georgia', 20000000.0),\n",
              " ('Norway', 19014285.714285713),\n",
              " ('Greece', 18000000.0),\n",
              " ('Russia', 17270000.0),\n",
              " ('Sweden', 16800000.0),\n",
              " ('South Africa', 15750000.0),\n",
              " ('Taiwan', 15000000.0),\n",
              " ('Canada', 14798458.71559633),\n",
              " ('Denmark', 13922222.222222222),\n",
              " ('Italy', 13067500.0),\n",
              " ('Ireland', 12398750.0),\n",
              " ('Switzerland', 11666666.666666666),\n",
              " ('Netherlands', 10010000.0),\n",
              " ('Turkey', 8300000.0),\n",
              " ('Nigeria', 7500000.0),\n",
              " ('Bulgaria', 7000000.0),\n",
              " ('Iceland', 6900000.0),\n",
              " ('Mexico', 5508483.928571428),\n",
              " ('Bahamas', 5000000.0),\n",
              " ('Romania', 4439500.0),\n",
              " ('Brazil', 4171428.5714285714),\n",
              " ('Finland', 3850000.0),\n",
              " ('Iran', 3672500.0),\n",
              " (None, 3500000.0),\n",
              " ('Colombia', 3000000.0),\n",
              " ('Poland', 2400000.0),\n",
              " ('Egypt', 1500000.0),\n",
              " ('Argentina', 1425000.0),\n",
              " ('Kyrgyzstan', 1400000.0),\n",
              " ('Israel', 1150000.0),\n",
              " ('Indonesia', 1100000.0),\n",
              " ('Soviet Union', 1000000.0),\n",
              " ('Pakistan', 1000000.0),\n",
              " ('Slovenia', 500000.0),\n",
              " ('Dominican Republic', 500000.0),\n",
              " ('United Arab Emirates', 125000.0),\n",
              " ('Afghanistan', 46000.0),\n",
              " ('Kenya', 15000.0),\n",
              " ('Philippines', 7000.0),\n",
              " ('Slovakia', None),\n",
              " ('Cameroon', None),\n",
              " ('Cambodia', None)]"
            ],
            "text/html": [
              "<table>\n",
              "    <thead>\n",
              "        <tr>\n",
              "            <th>country</th>\n",
              "            <th>total_budget</th>\n",
              "        </tr>\n",
              "    </thead>\n",
              "    <tbody>\n",
              "        <tr>\n",
              "            <td>South Korea</td>\n",
              "            <td>1383960000.0</td>\n",
              "        </tr>\n",
              "        <tr>\n",
              "            <td>Hungary</td>\n",
              "            <td>1260000000.0</td>\n",
              "        </tr>\n",
              "        <tr>\n",
              "            <td>Japan</td>\n",
              "            <td>368416836.7368421</td>\n",
              "        </tr>\n",
              "        <tr>\n",
              "            <td>Thailand</td>\n",
              "            <td>227250000.0</td>\n",
              "        </tr>\n",
              "        <tr>\n",
              "            <td>India</td>\n",
              "            <td>97973355.15789473</td>\n",
              "        </tr>\n",
              "        <tr>\n",
              "            <td>New Line</td>\n",
              "            <td>90000000.0</td>\n",
              "        </tr>\n",
              "        <tr>\n",
              "            <td>New Zealand</td>\n",
              "            <td>81526923.07692307</td>\n",
              "        </tr>\n",
              "        <tr>\n",
              "            <td>China</td>\n",
              "            <td>62219000.0</td>\n",
              "        </tr>\n",
              "        <tr>\n",
              "            <td>Czech Republic</td>\n",
              "            <td>48816666.666666664</td>\n",
              "        </tr>\n",
              "        <tr>\n",
              "            <td>Peru</td>\n",
              "            <td>45000000.0</td>\n",
              "        </tr>\n",
              "        <tr>\n",
              "            <td>Spain</td>\n",
              "            <td>42816666.666666664</td>\n",
              "        </tr>\n",
              "        <tr>\n",
              "            <td>USA</td>\n",
              "            <td>35922721.93055159</td>\n",
              "        </tr>\n",
              "        <tr>\n",
              "            <td>Libya</td>\n",
              "            <td>35000000.0</td>\n",
              "        </tr>\n",
              "        <tr>\n",
              "            <td>Aruba</td>\n",
              "            <td>35000000.0</td>\n",
              "        </tr>\n",
              "        <tr>\n",
              "            <td>Germany</td>\n",
              "            <td>33389000.0</td>\n",
              "        </tr>\n",
              "        <tr>\n",
              "            <td>Australia</td>\n",
              "            <td>31172110.46</td>\n",
              "        </tr>\n",
              "        <tr>\n",
              "            <td>France</td>\n",
              "            <td>30672034.615384616</td>\n",
              "        </tr>\n",
              "        <tr>\n",
              "            <td>UK</td>\n",
              "            <td>27666066.298153035</td>\n",
              "        </tr>\n",
              "        <tr>\n",
              "            <td>Chile</td>\n",
              "            <td>26000000.0</td>\n",
              "        </tr>\n",
              "        <tr>\n",
              "            <td>Hong Kong</td>\n",
              "            <td>24873333.333333332</td>\n",
              "        </tr>\n",
              "        <tr>\n",
              "            <td>Belgium</td>\n",
              "            <td>24500000.0</td>\n",
              "        </tr>\n",
              "        <tr>\n",
              "            <td>West Germany</td>\n",
              "            <td>20500000.0</td>\n",
              "        </tr>\n",
              "        <tr>\n",
              "            <td>Panama</td>\n",
              "            <td>20000000.0</td>\n",
              "        </tr>\n",
              "        <tr>\n",
              "            <td>Georgia</td>\n",
              "            <td>20000000.0</td>\n",
              "        </tr>\n",
              "        <tr>\n",
              "            <td>Norway</td>\n",
              "            <td>19014285.714285713</td>\n",
              "        </tr>\n",
              "        <tr>\n",
              "            <td>Greece</td>\n",
              "            <td>18000000.0</td>\n",
              "        </tr>\n",
              "        <tr>\n",
              "            <td>Russia</td>\n",
              "            <td>17270000.0</td>\n",
              "        </tr>\n",
              "        <tr>\n",
              "            <td>Sweden</td>\n",
              "            <td>16800000.0</td>\n",
              "        </tr>\n",
              "        <tr>\n",
              "            <td>South Africa</td>\n",
              "            <td>15750000.0</td>\n",
              "        </tr>\n",
              "        <tr>\n",
              "            <td>Taiwan</td>\n",
              "            <td>15000000.0</td>\n",
              "        </tr>\n",
              "        <tr>\n",
              "            <td>Canada</td>\n",
              "            <td>14798458.71559633</td>\n",
              "        </tr>\n",
              "        <tr>\n",
              "            <td>Denmark</td>\n",
              "            <td>13922222.222222222</td>\n",
              "        </tr>\n",
              "        <tr>\n",
              "            <td>Italy</td>\n",
              "            <td>13067500.0</td>\n",
              "        </tr>\n",
              "        <tr>\n",
              "            <td>Ireland</td>\n",
              "            <td>12398750.0</td>\n",
              "        </tr>\n",
              "        <tr>\n",
              "            <td>Switzerland</td>\n",
              "            <td>11666666.666666666</td>\n",
              "        </tr>\n",
              "        <tr>\n",
              "            <td>Netherlands</td>\n",
              "            <td>10010000.0</td>\n",
              "        </tr>\n",
              "        <tr>\n",
              "            <td>Turkey</td>\n",
              "            <td>8300000.0</td>\n",
              "        </tr>\n",
              "        <tr>\n",
              "            <td>Nigeria</td>\n",
              "            <td>7500000.0</td>\n",
              "        </tr>\n",
              "        <tr>\n",
              "            <td>Bulgaria</td>\n",
              "            <td>7000000.0</td>\n",
              "        </tr>\n",
              "        <tr>\n",
              "            <td>Iceland</td>\n",
              "            <td>6900000.0</td>\n",
              "        </tr>\n",
              "        <tr>\n",
              "            <td>Mexico</td>\n",
              "            <td>5508483.928571428</td>\n",
              "        </tr>\n",
              "        <tr>\n",
              "            <td>Bahamas</td>\n",
              "            <td>5000000.0</td>\n",
              "        </tr>\n",
              "        <tr>\n",
              "            <td>Romania</td>\n",
              "            <td>4439500.0</td>\n",
              "        </tr>\n",
              "        <tr>\n",
              "            <td>Brazil</td>\n",
              "            <td>4171428.5714285714</td>\n",
              "        </tr>\n",
              "        <tr>\n",
              "            <td>Finland</td>\n",
              "            <td>3850000.0</td>\n",
              "        </tr>\n",
              "        <tr>\n",
              "            <td>Iran</td>\n",
              "            <td>3672500.0</td>\n",
              "        </tr>\n",
              "        <tr>\n",
              "            <td>None</td>\n",
              "            <td>3500000.0</td>\n",
              "        </tr>\n",
              "        <tr>\n",
              "            <td>Colombia</td>\n",
              "            <td>3000000.0</td>\n",
              "        </tr>\n",
              "        <tr>\n",
              "            <td>Poland</td>\n",
              "            <td>2400000.0</td>\n",
              "        </tr>\n",
              "        <tr>\n",
              "            <td>Egypt</td>\n",
              "            <td>1500000.0</td>\n",
              "        </tr>\n",
              "        <tr>\n",
              "            <td>Argentina</td>\n",
              "            <td>1425000.0</td>\n",
              "        </tr>\n",
              "        <tr>\n",
              "            <td>Kyrgyzstan</td>\n",
              "            <td>1400000.0</td>\n",
              "        </tr>\n",
              "        <tr>\n",
              "            <td>Israel</td>\n",
              "            <td>1150000.0</td>\n",
              "        </tr>\n",
              "        <tr>\n",
              "            <td>Indonesia</td>\n",
              "            <td>1100000.0</td>\n",
              "        </tr>\n",
              "        <tr>\n",
              "            <td>Soviet Union</td>\n",
              "            <td>1000000.0</td>\n",
              "        </tr>\n",
              "        <tr>\n",
              "            <td>Pakistan</td>\n",
              "            <td>1000000.0</td>\n",
              "        </tr>\n",
              "        <tr>\n",
              "            <td>Slovenia</td>\n",
              "            <td>500000.0</td>\n",
              "        </tr>\n",
              "        <tr>\n",
              "            <td>Dominican Republic</td>\n",
              "            <td>500000.0</td>\n",
              "        </tr>\n",
              "        <tr>\n",
              "            <td>United Arab Emirates</td>\n",
              "            <td>125000.0</td>\n",
              "        </tr>\n",
              "        <tr>\n",
              "            <td>Afghanistan</td>\n",
              "            <td>46000.0</td>\n",
              "        </tr>\n",
              "        <tr>\n",
              "            <td>Kenya</td>\n",
              "            <td>15000.0</td>\n",
              "        </tr>\n",
              "        <tr>\n",
              "            <td>Philippines</td>\n",
              "            <td>7000.0</td>\n",
              "        </tr>\n",
              "        <tr>\n",
              "            <td>Slovakia</td>\n",
              "            <td>None</td>\n",
              "        </tr>\n",
              "        <tr>\n",
              "            <td>Cameroon</td>\n",
              "            <td>None</td>\n",
              "        </tr>\n",
              "        <tr>\n",
              "            <td>Cambodia</td>\n",
              "            <td>None</td>\n",
              "        </tr>\n",
              "    </tbody>\n",
              "</table>"
            ]
          },
          "metadata": {},
          "execution_count": 74
        }
      ]
    },
    {
      "cell_type": "markdown",
      "source": [
        "Kinolari imdbda yaxshi bal yig'a olgan top 5 ta aktyor"
      ],
      "metadata": {
        "id": "iOzgxTEdwqKd"
      }
    },
    {
      "cell_type": "code",
      "source": [
        "%%sql SELECT ps.name, AVG(rv.imdb_score) AS avg_imdb_score\n",
        "FROM people AS ps\n",
        "INNER JOIN roles AS rl\n",
        "ON ps.id = rl.person_id\n",
        "INNER JOIN reviews AS rv\n",
        "ON rl.film_id = rv.film_id\n",
        "GROUP BY ps.name\n",
        "ORDER BY avg_imdb_score DESC\n",
        "LIMIT 5;"
      ],
      "metadata": {
        "colab": {
          "base_uri": "https://localhost:8080/",
          "height": 180
        },
        "id": "OaxGffwvxiaR",
        "outputId": "fcb3d0ac-e707-46f7-a5d0-f7a451adc6c9"
      },
      "execution_count": 79,
      "outputs": [
        {
          "output_type": "stream",
          "name": "stdout",
          "text": [
            " * sqlite://\n",
            "Done.\n"
          ]
        },
        {
          "output_type": "execute_result",
          "data": {
            "text/plain": [
              "[('Dave Carroll', 1689764.0),\n",
              " (\"Chris 'Wonder' Schoeck\", 1689764.0),\n",
              " ('Steve Carell', 1676169.0),\n",
              " ('Peter Sollett', 1676169.0),\n",
              " ('Luke Grimes', 1676169.0)]"
            ],
            "text/html": [
              "<table>\n",
              "    <thead>\n",
              "        <tr>\n",
              "            <th>name</th>\n",
              "            <th>avg_imdb_score</th>\n",
              "        </tr>\n",
              "    </thead>\n",
              "    <tbody>\n",
              "        <tr>\n",
              "            <td>Dave Carroll</td>\n",
              "            <td>1689764.0</td>\n",
              "        </tr>\n",
              "        <tr>\n",
              "            <td>Chris &#x27;Wonder&#x27; Schoeck</td>\n",
              "            <td>1689764.0</td>\n",
              "        </tr>\n",
              "        <tr>\n",
              "            <td>Steve Carell</td>\n",
              "            <td>1676169.0</td>\n",
              "        </tr>\n",
              "        <tr>\n",
              "            <td>Peter Sollett</td>\n",
              "            <td>1676169.0</td>\n",
              "        </tr>\n",
              "        <tr>\n",
              "            <td>Luke Grimes</td>\n",
              "            <td>1676169.0</td>\n",
              "        </tr>\n",
              "    </tbody>\n",
              "</table>"
            ]
          },
          "metadata": {},
          "execution_count": 79
        }
      ]
    },
    {
      "cell_type": "markdown",
      "source": [
        "Top 5 eng kup daromad keltirgan filmlar"
      ],
      "metadata": {
        "id": "jN3YFTxJyMzp"
      }
    },
    {
      "cell_type": "code",
      "source": [
        "%%sql SELECT fm.title, fm.gross\n",
        "FROM films AS fm\n",
        "ORDER BY fm.gross DESC\n",
        "LIMIT 5;"
      ],
      "metadata": {
        "colab": {
          "base_uri": "https://localhost:8080/",
          "height": 180
        },
        "id": "nRaGVLmRyQlC",
        "outputId": "3b1c4084-ec30-4329-94d0-8a634c74d034"
      },
      "execution_count": 80,
      "outputs": [
        {
          "output_type": "stream",
          "name": "stdout",
          "text": [
            " * sqlite://\n",
            "Done.\n"
          ]
        },
        {
          "output_type": "execute_result",
          "data": {
            "text/plain": [
              "[('Star Wars: Episode VII - The Force Awakens', 936627416.0),\n",
              " ('Avatar', 760505847.0),\n",
              " ('Titanic', 658672302.0),\n",
              " ('Jurassic World', 652177271.0),\n",
              " ('The Avengers', 623279547.0)]"
            ],
            "text/html": [
              "<table>\n",
              "    <thead>\n",
              "        <tr>\n",
              "            <th>title</th>\n",
              "            <th>gross</th>\n",
              "        </tr>\n",
              "    </thead>\n",
              "    <tbody>\n",
              "        <tr>\n",
              "            <td>Star Wars: Episode VII - The Force Awakens</td>\n",
              "            <td>936627416.0</td>\n",
              "        </tr>\n",
              "        <tr>\n",
              "            <td>Avatar</td>\n",
              "            <td>760505847.0</td>\n",
              "        </tr>\n",
              "        <tr>\n",
              "            <td>Titanic</td>\n",
              "            <td>658672302.0</td>\n",
              "        </tr>\n",
              "        <tr>\n",
              "            <td>Jurassic World</td>\n",
              "            <td>652177271.0</td>\n",
              "        </tr>\n",
              "        <tr>\n",
              "            <td>The Avengers</td>\n",
              "            <td>623279547.0</td>\n",
              "        </tr>\n",
              "    </tbody>\n",
              "</table>"
            ]
          },
          "metadata": {},
          "execution_count": 80
        }
      ]
    },
    {
      "cell_type": "markdown",
      "source": [
        "Enh kup daromad keltirgan filmlarda uynagan top aktyorlar"
      ],
      "metadata": {
        "id": "ACOk8ft8yeRY"
      }
    },
    {
      "cell_type": "code",
      "source": [
        "%%sql SELECT ps.name, fm.title, fm.gross\n",
        "FROM people AS ps\n",
        "INNER JOIN roles AS rl\n",
        "ON ps.id = rl.person_id\n",
        "INNER JOIN films AS fm\n",
        "ON rl.film_id = fm.id\n",
        "ORDER BY fm.gross DESC\n",
        "LIMIT 5;"
      ],
      "metadata": {
        "colab": {
          "base_uri": "https://localhost:8080/",
          "height": 180
        },
        "id": "5oR8iiiByk_j",
        "outputId": "cda0ce04-5df4-442f-da44-267f0d18b227"
      },
      "execution_count": 83,
      "outputs": [
        {
          "output_type": "stream",
          "name": "stdout",
          "text": [
            " * sqlite://\n",
            "Done.\n"
          ]
        },
        {
          "output_type": "execute_result",
          "data": {
            "text/plain": [
              "[('Daisy Ridley', 'Star Wars: Episode VII - The Force Awakens', 936627416.0),\n",
              " ('J.J. Abrams', 'Star Wars: Episode VII - The Force Awakens', 936627416.0),\n",
              " ('John Boyega', 'Star Wars: Episode VII - The Force Awakens', 936627416.0),\n",
              " ('Oscar Isaac', 'Star Wars: Episode VII - The Force Awakens', 936627416.0),\n",
              " ('CCH Pounder', 'Avatar', 760505847.0)]"
            ],
            "text/html": [
              "<table>\n",
              "    <thead>\n",
              "        <tr>\n",
              "            <th>name</th>\n",
              "            <th>title</th>\n",
              "            <th>gross</th>\n",
              "        </tr>\n",
              "    </thead>\n",
              "    <tbody>\n",
              "        <tr>\n",
              "            <td>Daisy Ridley</td>\n",
              "            <td>Star Wars: Episode VII - The Force Awakens</td>\n",
              "            <td>936627416.0</td>\n",
              "        </tr>\n",
              "        <tr>\n",
              "            <td>J.J. Abrams</td>\n",
              "            <td>Star Wars: Episode VII - The Force Awakens</td>\n",
              "            <td>936627416.0</td>\n",
              "        </tr>\n",
              "        <tr>\n",
              "            <td>John Boyega</td>\n",
              "            <td>Star Wars: Episode VII - The Force Awakens</td>\n",
              "            <td>936627416.0</td>\n",
              "        </tr>\n",
              "        <tr>\n",
              "            <td>Oscar Isaac</td>\n",
              "            <td>Star Wars: Episode VII - The Force Awakens</td>\n",
              "            <td>936627416.0</td>\n",
              "        </tr>\n",
              "        <tr>\n",
              "            <td>CCH Pounder</td>\n",
              "            <td>Avatar</td>\n",
              "            <td>760505847.0</td>\n",
              "        </tr>\n",
              "    </tbody>\n",
              "</table>"
            ]
          },
          "metadata": {},
          "execution_count": 83
        }
      ]
    },
    {
      "cell_type": "markdown",
      "source": [
        "har bir davlat uchun eng kup daromad keltira olgan kino"
      ],
      "metadata": {
        "id": "j4BdLowVy0eo"
      }
    },
    {
      "cell_type": "code",
      "source": [
        "%%sql SELECT fm.country, fm.title, fm.gross\n",
        "FROM films AS fm\n",
        "WHERE fm.gross = (\n",
        "    SELECT MAX(fm_inner.gross)\n",
        "    FROM films AS fm_inner\n",
        "    WHERE fm_inner.country = fm.country\n",
        ")"
      ],
      "metadata": {
        "colab": {
          "base_uri": "https://localhost:8080/",
          "height": 1000
        },
        "id": "Fox4jVGryt5N",
        "outputId": "14e2f6cb-866e-4624-a25b-524094be1e35"
      },
      "execution_count": 84,
      "outputs": [
        {
          "output_type": "stream",
          "name": "stdout",
          "text": [
            " * sqlite://\n",
            "Done.\n"
          ]
        },
        {
          "output_type": "execute_result",
          "data": {
            "text/plain": [
              "[('West Germany', 'Das Boot', 11433134.0),\n",
              " ('Peru', 'The Specialist', 57362581.0),\n",
              " ('Aruba', 'Knock Off', 10076136.0),\n",
              " ('Czech Republic', 'Ravenous', 2060953.0),\n",
              " ('Germany', 'Stuart Little', 140015224.0),\n",
              " ('Italy', 'Tea with Mussolini', 14348123.0),\n",
              " ('Taiwan', 'Crouching Tiger, Hidden Dragon', 128067808.0),\n",
              " ('Denmark', 'Dancer in the Dark', 4157491.0),\n",
              " ('India', 'Monsoon Wedding', 13876974.0),\n",
              " ('New Zealand', 'The Lord of the Rings: The Fellowship of the Ring', 313837577.0),\n",
              " ('New Line', 'Town & Country', 6712451.0),\n",
              " ('Brazil', 'City of God', 7563397.0),\n",
              " ('Afghanistan', 'Osama', 1127331.0),\n",
              " ('Colombia', 'Maria Full of Grace', 6517198.0),\n",
              " ('Romania', 'Seed of Chucky', 17016190.0),\n",
              " ('Philippines', 'Cavite', 70071.0),\n",
              " ('Cameroon', 'Sisters in Law', 32631.0),\n",
              " ('Thailand', 'The Protector', 11905519.0),\n",
              " ('Netherlands', 'Black Book', 4398392.0),\n",
              " ('Canada', 'X-Men: The Last Stand', 234360014.0),\n",
              " ('South Korea', 'Dragon Wars: D-War', 10956379.0),\n",
              " ('Hong Kong', 'TMNT', 54132596.0),\n",
              " ('France', 'Taken', 145000989.0),\n",
              " ('South Africa', 'District 9', 115646235.0),\n",
              " ('Iceland', 'The Good Heart', 19959.0),\n",
              " ('Argentina', 'The Secret in Their Eyes', 20167424.0),\n",
              " ('Sweden', 'Easy Money', 188870.0),\n",
              " ('Georgia', '5 Days of War', 17149.0),\n",
              " ('Iran', 'A Separation', 7098492.0),\n",
              " ('Ireland', 'Haywire', 18934858.0),\n",
              " ('Norway', 'Headhunters', 1196752.0),\n",
              " ('Finland', 'Le Havre', 611709.0),\n",
              " ('Spain', 'Midnight in Paris', 56816662.0),\n",
              " ('Hungary', 'Monte Carlo', 23179303.0),\n",
              " ('Belgium', \"The Devil's Double\", 1357042.0),\n",
              " ('Indonesia', 'The Raid: Redemption', 4105123.0),\n",
              " ('Israel', 'The Gatekeepers', 2408553.0),\n",
              " ('Poland', 'Ida', 3826455.0),\n",
              " ('Mexico', 'Instructions Not Included', 44456509.0),\n",
              " ('Russia', 'Machete Kills', 7268659.0),\n",
              " ('Australia', 'The Lego Movie', 257756197.0),\n",
              " ('China', 'Mission: Impossible - Rogue Nation', 195000874.0),\n",
              " ('USA', 'Star Wars: Episode VII - The Force Awakens', 936627416.0),\n",
              " ('Chile', 'The 33', 12188642.0),\n",
              " ('Greece', 'Midnight Special', 3707794.0),\n",
              " ('UK', 'The Jungle Book', 362645141.0),\n",
              " ('UK', 'The Jungle Book', 362645141.0),\n",
              " ('Japan', 'The Secret Life of Pets', 323505540.0)]"
            ],
            "text/html": [
              "<table>\n",
              "    <thead>\n",
              "        <tr>\n",
              "            <th>country</th>\n",
              "            <th>title</th>\n",
              "            <th>gross</th>\n",
              "        </tr>\n",
              "    </thead>\n",
              "    <tbody>\n",
              "        <tr>\n",
              "            <td>West Germany</td>\n",
              "            <td>Das Boot</td>\n",
              "            <td>11433134.0</td>\n",
              "        </tr>\n",
              "        <tr>\n",
              "            <td>Peru</td>\n",
              "            <td>The Specialist</td>\n",
              "            <td>57362581.0</td>\n",
              "        </tr>\n",
              "        <tr>\n",
              "            <td>Aruba</td>\n",
              "            <td>Knock Off</td>\n",
              "            <td>10076136.0</td>\n",
              "        </tr>\n",
              "        <tr>\n",
              "            <td>Czech Republic</td>\n",
              "            <td>Ravenous</td>\n",
              "            <td>2060953.0</td>\n",
              "        </tr>\n",
              "        <tr>\n",
              "            <td>Germany</td>\n",
              "            <td>Stuart Little</td>\n",
              "            <td>140015224.0</td>\n",
              "        </tr>\n",
              "        <tr>\n",
              "            <td>Italy</td>\n",
              "            <td>Tea with Mussolini</td>\n",
              "            <td>14348123.0</td>\n",
              "        </tr>\n",
              "        <tr>\n",
              "            <td>Taiwan</td>\n",
              "            <td>Crouching Tiger, Hidden Dragon</td>\n",
              "            <td>128067808.0</td>\n",
              "        </tr>\n",
              "        <tr>\n",
              "            <td>Denmark</td>\n",
              "            <td>Dancer in the Dark</td>\n",
              "            <td>4157491.0</td>\n",
              "        </tr>\n",
              "        <tr>\n",
              "            <td>India</td>\n",
              "            <td>Monsoon Wedding</td>\n",
              "            <td>13876974.0</td>\n",
              "        </tr>\n",
              "        <tr>\n",
              "            <td>New Zealand</td>\n",
              "            <td>The Lord of the Rings: The Fellowship of the Ring</td>\n",
              "            <td>313837577.0</td>\n",
              "        </tr>\n",
              "        <tr>\n",
              "            <td>New Line</td>\n",
              "            <td>Town &amp; Country</td>\n",
              "            <td>6712451.0</td>\n",
              "        </tr>\n",
              "        <tr>\n",
              "            <td>Brazil</td>\n",
              "            <td>City of God</td>\n",
              "            <td>7563397.0</td>\n",
              "        </tr>\n",
              "        <tr>\n",
              "            <td>Afghanistan</td>\n",
              "            <td>Osama</td>\n",
              "            <td>1127331.0</td>\n",
              "        </tr>\n",
              "        <tr>\n",
              "            <td>Colombia</td>\n",
              "            <td>Maria Full of Grace</td>\n",
              "            <td>6517198.0</td>\n",
              "        </tr>\n",
              "        <tr>\n",
              "            <td>Romania</td>\n",
              "            <td>Seed of Chucky</td>\n",
              "            <td>17016190.0</td>\n",
              "        </tr>\n",
              "        <tr>\n",
              "            <td>Philippines</td>\n",
              "            <td>Cavite</td>\n",
              "            <td>70071.0</td>\n",
              "        </tr>\n",
              "        <tr>\n",
              "            <td>Cameroon</td>\n",
              "            <td>Sisters in Law</td>\n",
              "            <td>32631.0</td>\n",
              "        </tr>\n",
              "        <tr>\n",
              "            <td>Thailand</td>\n",
              "            <td>The Protector</td>\n",
              "            <td>11905519.0</td>\n",
              "        </tr>\n",
              "        <tr>\n",
              "            <td>Netherlands</td>\n",
              "            <td>Black Book</td>\n",
              "            <td>4398392.0</td>\n",
              "        </tr>\n",
              "        <tr>\n",
              "            <td>Canada</td>\n",
              "            <td>X-Men: The Last Stand</td>\n",
              "            <td>234360014.0</td>\n",
              "        </tr>\n",
              "        <tr>\n",
              "            <td>South Korea</td>\n",
              "            <td>Dragon Wars: D-War</td>\n",
              "            <td>10956379.0</td>\n",
              "        </tr>\n",
              "        <tr>\n",
              "            <td>Hong Kong</td>\n",
              "            <td>TMNT</td>\n",
              "            <td>54132596.0</td>\n",
              "        </tr>\n",
              "        <tr>\n",
              "            <td>France</td>\n",
              "            <td>Taken</td>\n",
              "            <td>145000989.0</td>\n",
              "        </tr>\n",
              "        <tr>\n",
              "            <td>South Africa</td>\n",
              "            <td>District 9</td>\n",
              "            <td>115646235.0</td>\n",
              "        </tr>\n",
              "        <tr>\n",
              "            <td>Iceland</td>\n",
              "            <td>The Good Heart</td>\n",
              "            <td>19959.0</td>\n",
              "        </tr>\n",
              "        <tr>\n",
              "            <td>Argentina</td>\n",
              "            <td>The Secret in Their Eyes</td>\n",
              "            <td>20167424.0</td>\n",
              "        </tr>\n",
              "        <tr>\n",
              "            <td>Sweden</td>\n",
              "            <td>Easy Money</td>\n",
              "            <td>188870.0</td>\n",
              "        </tr>\n",
              "        <tr>\n",
              "            <td>Georgia</td>\n",
              "            <td>5 Days of War</td>\n",
              "            <td>17149.0</td>\n",
              "        </tr>\n",
              "        <tr>\n",
              "            <td>Iran</td>\n",
              "            <td>A Separation</td>\n",
              "            <td>7098492.0</td>\n",
              "        </tr>\n",
              "        <tr>\n",
              "            <td>Ireland</td>\n",
              "            <td>Haywire</td>\n",
              "            <td>18934858.0</td>\n",
              "        </tr>\n",
              "        <tr>\n",
              "            <td>Norway</td>\n",
              "            <td>Headhunters</td>\n",
              "            <td>1196752.0</td>\n",
              "        </tr>\n",
              "        <tr>\n",
              "            <td>Finland</td>\n",
              "            <td>Le Havre</td>\n",
              "            <td>611709.0</td>\n",
              "        </tr>\n",
              "        <tr>\n",
              "            <td>Spain</td>\n",
              "            <td>Midnight in Paris</td>\n",
              "            <td>56816662.0</td>\n",
              "        </tr>\n",
              "        <tr>\n",
              "            <td>Hungary</td>\n",
              "            <td>Monte Carlo</td>\n",
              "            <td>23179303.0</td>\n",
              "        </tr>\n",
              "        <tr>\n",
              "            <td>Belgium</td>\n",
              "            <td>The Devil&#x27;s Double</td>\n",
              "            <td>1357042.0</td>\n",
              "        </tr>\n",
              "        <tr>\n",
              "            <td>Indonesia</td>\n",
              "            <td>The Raid: Redemption</td>\n",
              "            <td>4105123.0</td>\n",
              "        </tr>\n",
              "        <tr>\n",
              "            <td>Israel</td>\n",
              "            <td>The Gatekeepers</td>\n",
              "            <td>2408553.0</td>\n",
              "        </tr>\n",
              "        <tr>\n",
              "            <td>Poland</td>\n",
              "            <td>Ida</td>\n",
              "            <td>3826455.0</td>\n",
              "        </tr>\n",
              "        <tr>\n",
              "            <td>Mexico</td>\n",
              "            <td>Instructions Not Included</td>\n",
              "            <td>44456509.0</td>\n",
              "        </tr>\n",
              "        <tr>\n",
              "            <td>Russia</td>\n",
              "            <td>Machete Kills</td>\n",
              "            <td>7268659.0</td>\n",
              "        </tr>\n",
              "        <tr>\n",
              "            <td>Australia</td>\n",
              "            <td>The Lego Movie</td>\n",
              "            <td>257756197.0</td>\n",
              "        </tr>\n",
              "        <tr>\n",
              "            <td>China</td>\n",
              "            <td>Mission: Impossible - Rogue Nation</td>\n",
              "            <td>195000874.0</td>\n",
              "        </tr>\n",
              "        <tr>\n",
              "            <td>USA</td>\n",
              "            <td>Star Wars: Episode VII - The Force Awakens</td>\n",
              "            <td>936627416.0</td>\n",
              "        </tr>\n",
              "        <tr>\n",
              "            <td>Chile</td>\n",
              "            <td>The 33</td>\n",
              "            <td>12188642.0</td>\n",
              "        </tr>\n",
              "        <tr>\n",
              "            <td>Greece</td>\n",
              "            <td>Midnight Special</td>\n",
              "            <td>3707794.0</td>\n",
              "        </tr>\n",
              "        <tr>\n",
              "            <td>UK</td>\n",
              "            <td>The Jungle Book</td>\n",
              "            <td>362645141.0</td>\n",
              "        </tr>\n",
              "        <tr>\n",
              "            <td>UK</td>\n",
              "            <td>The Jungle Book</td>\n",
              "            <td>362645141.0</td>\n",
              "        </tr>\n",
              "        <tr>\n",
              "            <td>Japan</td>\n",
              "            <td>The Secret Life of Pets</td>\n",
              "            <td>323505540.0</td>\n",
              "        </tr>\n",
              "    </tbody>\n",
              "</table>"
            ]
          },
          "metadata": {},
          "execution_count": 84
        }
      ]
    }
  ]
}