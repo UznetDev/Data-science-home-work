{
  "nbformat": 4,
  "nbformat_minor": 0,
  "metadata": {
    "colab": {
      "provenance": [],
      "authorship_tag": "ABX9TyOtRGMpSv2xwh4KZr5v44OH",
      "include_colab_link": true
    },
    "kernelspec": {
      "name": "python3",
      "display_name": "Python 3"
    },
    "language_info": {
      "name": "python"
    }
  },
  "cells": [
    {
      "cell_type": "markdown",
      "metadata": {
        "id": "view-in-github",
        "colab_type": "text"
      },
      "source": [
        "<a href=\"https://colab.research.google.com/github/UznetDev/Data-science-home-work/blob/main/27_Iyul%2C_2024.ipynb\" target=\"_parent\"><img src=\"https://colab.research.google.com/assets/colab-badge.svg\" alt=\"Open In Colab\"/></a>"
      ]
    },
    {
      "cell_type": "code",
      "execution_count": 2,
      "metadata": {
        "id": "jbzgGIfQPu47"
      },
      "outputs": [],
      "source": [
        "import pandas as pd\n",
        "from sklearn.preprocessing import PolynomialFeatures, MinMaxScaler, StandardScaler\n",
        "from sklearn.linear_model import Ridge, Lasso, ElasticNet\n",
        "from sklearn.model_selection import cross_val_score, KFold\n",
        "from sklearn.metrics import mean_squared_error\n",
        "from sklearn.datasets import fetch_california_housing\n",
        "import numpy as np\n",
        "from scipy.spatial import distance\n",
        "import warnings\n",
        "warnings.filterwarnings('ignore')"
      ]
    },
    {
      "cell_type": "code",
      "source": [
        "df = pd.read_csv('coliforniya_housing.csv').dropna()"
      ],
      "metadata": {
        "id": "1d27NpHgQLpi"
      },
      "execution_count": 3,
      "outputs": []
    },
    {
      "cell_type": "markdown",
      "source": [
        "### Distansiyani hisoblash\n"
      ],
      "metadata": {
        "id": "j97shfwcijX0"
      }
    },
    {
      "cell_type": "code",
      "source": [
        "\n",
        "df['Location'] = list(zip(df['Latitude'], df['Longitude']))\n",
        "\n",
        "most_common_location = df['Location'].mode()[0]\n",
        "\n",
        "center_latitude, center_longitude = most_common_location\n",
        "\n",
        "def get_distance(row):\n",
        "    house_coordinates = (row['Latitude'], row['Longitude'])\n",
        "    return distance.euclidean(house_coordinates, (center_latitude, center_longitude))\n",
        "\n",
        "df['distance'] = df.agg(get_distance, axis=1)"
      ],
      "metadata": {
        "id": "AyIG9EjGSHn4"
      },
      "execution_count": 4,
      "outputs": []
    },
    {
      "cell_type": "markdown",
      "source": [
        "### PolynomialFeatures ishlatib kuramiz va 3 ta modelni snab kuramiz"
      ],
      "metadata": {
        "id": "L2CyljNKkf8-"
      }
    },
    {
      "cell_type": "markdown",
      "source": [
        "#### 'distance' siz predict qilib kuramiz"
      ],
      "metadata": {
        "id": "41tN281Ykrff"
      }
    },
    {
      "cell_type": "code",
      "source": [
        "X = df.drop(columns=['Unnamed: 0',\n",
        "                     'PRICE',\n",
        "                     'Location',\n",
        "                     'Longitude',\n",
        "                     'Latitude',\n",
        "                     'distance'])\n",
        "\n",
        "y = df['PRICE'].copy()\n",
        "\n",
        "poly = PolynomialFeatures(degree=3, include_bias=False)\n",
        "poly_x = poly.fit_transform(X)\n",
        "\n",
        "ElasticNet_model = ElasticNet(alpha=1.0, l1_ratio=0.1)\n",
        "Lasso_model = Lasso(alpha=1.0)\n",
        "Ridge_model = Ridge(alpha=0.1)\n",
        "\n",
        "kf = KFold(n_splits=6, shuffle=True, random_state=42)\n",
        "\n",
        "ElasticNet_rmse = -cross_val_score(ElasticNet_model, poly_x.copy(), y.copy(), scoring='neg_mean_squared_error', cv=kf)\n",
        "Lasso_rmse = -cross_val_score(Lasso_model, poly_x.copy(), y.copy(), scoring='neg_mean_squared_error', cv=kf)\n",
        "Ridge_rmse = -cross_val_score(Ridge_model, poly_x.copy(), y.copy(), scoring='neg_mean_squared_error', cv=kf)\n",
        "\n",
        "print('Ridge: ', np.sqrt(Ridge_rmse.mean()))\n",
        "print('Lasso: ', np.sqrt(Lasso_rmse.mean()))\n",
        "print('ElasticNet: ', np.sqrt(ElasticNet_rmse.mean()))"
      ],
      "metadata": {
        "colab": {
          "base_uri": "https://localhost:8080/"
        },
        "id": "bbJ9qhy3P596",
        "outputId": "a077b61e-f4b7-47a0-b6d4-75c48ea29b4d"
      },
      "execution_count": 5,
      "outputs": [
        {
          "output_type": "stream",
          "name": "stdout",
          "text": [
            "Ridge:  86.38924338026838\n",
            "Lasso:  1.3989379777525957\n",
            "ElasticNet:  1.0342974028663006\n"
          ]
        }
      ]
    },
    {
      "cell_type": "markdown",
      "source": [
        "#### 'distance' blan qilib kuramiz"
      ],
      "metadata": {
        "id": "PkF0HFPOkxH-"
      }
    },
    {
      "cell_type": "code",
      "source": [
        "X = df.drop(columns=['Unnamed: 0',\n",
        "                     'PRICE',\n",
        "                     'Location',\n",
        "                     'Longitude',\n",
        "                     'Latitude',\n",
        "                    #  'distance'\n",
        "                     ])\n",
        "\n",
        "y = df['PRICE'].copy()\n",
        "\n",
        "poly = PolynomialFeatures(degree=3, include_bias=False)\n",
        "poly_x = poly.fit_transform(X)\n",
        "\n",
        "ElasticNet_model = ElasticNet()\n",
        "Lasso_model = Lasso()\n",
        "Ridge_model = Ridge()\n",
        "\n",
        "kf = KFold(n_splits=6, shuffle=True, random_state=42)\n",
        "\n",
        "ElasticNet_rmse = -cross_val_score(ElasticNet_model, poly_x.copy(), y.copy(), scoring='neg_mean_squared_error', cv=kf)\n",
        "Lasso_rmse = -cross_val_score(Lasso_model, poly_x.copy(), y.copy(), scoring='neg_mean_squared_error', cv=kf)\n",
        "Ridge_rmse = -cross_val_score(Ridge_model, poly_x.copy(), y.copy(), scoring='neg_mean_squared_error', cv=kf)\n",
        "\n",
        "print('Ridge: ', np.sqrt(Ridge_rmse.mean()))\n",
        "print('Lasso: ', np.sqrt(Lasso_rmse.mean()))\n",
        "print('ElasticNet: ', np.sqrt(ElasticNet_rmse.mean()))"
      ],
      "metadata": {
        "colab": {
          "base_uri": "https://localhost:8080/"
        },
        "id": "ryApeMgoSF93",
        "outputId": "e51ed10a-b019-4851-e3c9-6156b7316002"
      },
      "execution_count": 7,
      "outputs": [
        {
          "output_type": "stream",
          "name": "stdout",
          "text": [
            "Ridge:  74.24249256679632\n",
            "Lasso:  1.0283137705582805\n",
            "ElasticNet:  1.3956004055372346\n"
          ]
        }
      ]
    },
    {
      "cell_type": "markdown",
      "source": [
        "### MinMaxScaler qilib kuramiz"
      ],
      "metadata": {
        "id": "sHlf8pIAk1bp"
      }
    },
    {
      "cell_type": "code",
      "source": [
        "X = df.drop(columns=['Unnamed: 0',\n",
        "                     'PRICE',\n",
        "                     'Location',\n",
        "                     'Longitude',\n",
        "                     'Latitude',\n",
        "                    #  'distance'\n",
        "                     ])\n",
        "scaler = MinMaxScaler(feature_range=(-1, 1))\n",
        "\n",
        "normalized_data = scaler.fit_transform(X)\n",
        "\n",
        "X = pd.DataFrame(normalized_data, columns=X.columns)\n",
        "\n",
        "y = df['PRICE'].copy()\n",
        "\n",
        "poly = PolynomialFeatures(degree=3, include_bias=False)\n",
        "poly_x = poly.fit_transform(X)\n",
        "\n",
        "\n",
        "\n",
        "ElasticNet_model = ElasticNet()\n",
        "Lasso_model = Lasso()\n",
        "Ridge_model = Ridge()\n",
        "\n",
        "kf = KFold(n_splits=6, shuffle=True, random_state=42)\n",
        "\n",
        "ElasticNet_rmse = -cross_val_score(ElasticNet_model, poly_x.copy(), y.copy(), scoring='neg_mean_squared_error', cv=kf)\n",
        "Lasso_rmse = -cross_val_score(Lasso_model, poly_x.copy(), y.copy(), scoring='neg_mean_squared_error', cv=kf)\n",
        "Ridge_rmse = -cross_val_score(Ridge_model, poly_x.copy(), y.copy(), scoring='neg_mean_squared_error', cv=kf)\n",
        "\n",
        "print('Ridge: ', np.sqrt(Ridge_rmse.mean()))\n",
        "print('Lasso: ', np.sqrt(Lasso_rmse.mean()))\n",
        "print('ElasticNet: ', np.sqrt(ElasticNet_rmse.mean()))"
      ],
      "metadata": {
        "colab": {
          "base_uri": "https://localhost:8080/"
        },
        "id": "3gn5PRiVT5co",
        "outputId": "a9d853d9-f85d-47ca-e803-04cc66546344"
      },
      "execution_count": 9,
      "outputs": [
        {
          "output_type": "stream",
          "name": "stdout",
          "text": [
            "Ridge:  74.24249256679632\n",
            "Lasso:  1.0283137705582805\n",
            "ElasticNet:  1.3956004055372346\n"
          ]
        }
      ]
    },
    {
      "cell_type": "markdown",
      "source": [
        "### Bu yirda ustuz uzimham tushunmadim RMSE bunchalik farq qilganini"
      ],
      "metadata": {
        "id": "0GYSqcRzqMel"
      }
    }
  ]
}