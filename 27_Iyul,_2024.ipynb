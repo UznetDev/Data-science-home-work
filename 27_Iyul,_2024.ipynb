{
  "nbformat": 4,
  "nbformat_minor": 0,
  "metadata": {
    "colab": {
      "provenance": [],
      "authorship_tag": "ABX9TyPMeURQgapgzSVzZ1BCjU3S",
      "include_colab_link": true
    },
    "kernelspec": {
      "name": "python3",
      "display_name": "Python 3"
    },
    "language_info": {
      "name": "python"
    }
  },
  "cells": [
    {
      "cell_type": "markdown",
      "metadata": {
        "id": "view-in-github",
        "colab_type": "text"
      },
      "source": [
        "<a href=\"https://colab.research.google.com/github/UznetDev/Data-science-home-work/blob/main/27_Iyul%2C_2024.ipynb\" target=\"_parent\"><img src=\"https://colab.research.google.com/assets/colab-badge.svg\" alt=\"Open In Colab\"/></a>"
      ]
    },
    {
      "cell_type": "code",
      "execution_count": 9,
      "metadata": {
        "id": "jbzgGIfQPu47"
      },
      "outputs": [],
      "source": [
        "import pandas as pd\n",
        "from sklearn.preprocessing import PolynomialFeatures, MinMaxScaler, StandardScaler\n",
        "from sklearn.linear_model import Ridge, Lasso, ElasticNet\n",
        "from sklearn.model_selection import cross_val_score, KFold\n",
        "from sklearn.metrics import mean_squared_error\n",
        "from sklearn.datasets import fetch_california_housing\n",
        "import numpy as np\n",
        "from scipy.spatial import distance\n",
        "import warnings\n",
        "warnings.filterwarnings('ignore')"
      ]
    },
    {
      "cell_type": "code",
      "source": [
        "df = pd.read_csv('coliforniya_housing.csv').dropna()"
      ],
      "metadata": {
        "id": "1d27NpHgQLpi"
      },
      "execution_count": 10,
      "outputs": []
    },
    {
      "cell_type": "code",
      "source": [
        "\n",
        "df['Location'] = list(zip(df['Latitude'], df['Longitude']))\n",
        "\n",
        "most_common_location = df['Location'].mode()[0]\n",
        "\n",
        "center_latitude, center_longitude = most_common_location\n",
        "\n",
        "def get_distance(row):\n",
        "    house_coordinates = (row['Latitude'], row['Longitude'])\n",
        "    return distance.euclidean(house_coordinates, (center_latitude, center_longitude))\n",
        "\n",
        "df['distance'] = df.agg(get_distance, axis=1)"
      ],
      "metadata": {
        "id": "AyIG9EjGSHn4"
      },
      "execution_count": 11,
      "outputs": []
    },
    {
      "cell_type": "code",
      "source": [
        "X = df.drop(columns=['Unnamed: 0',\n",
        "                     'PRICE',\n",
        "                     'Location',\n",
        "                     'Longitude',\n",
        "                     'Latitude',\n",
        "                     'distance'])\n",
        "\n",
        "y = df['PRICE']\n",
        "\n",
        "poly = PolynomialFeatures(degree=3, include_bias=False)\n",
        "poly_x = poly.fit_transform(X)\n",
        "\n",
        "ElasticNet_model = ElasticNet()\n",
        "Lasso_model = Lasso()\n",
        "Ridge_model = Ridge()\n",
        "\n",
        "kf = KFold(n_splits=6, shuffle=True, random_state=42)\n",
        "\n",
        "ElasticNet_rmse = -cross_val_score(ElasticNet_model, poly_x, y, scoring='neg_mean_squared_error', cv=kf)\n",
        "Lasso_rmse = -cross_val_score(Lasso_model, poly_x, y, scoring='neg_mean_squared_error', cv=kf)\n",
        "Ridge_rmse = -cross_val_score(Ridge_model, poly_x, y, scoring='neg_mean_squared_error', cv=kf)\n",
        "\n",
        "print('Ridge: ', np.sqrt(Ridge_rmse.mean()))\n",
        "print('Lasso: ', np.sqrt(Lasso_rmse.mean()))\n",
        "print('ElasticNet: ', np.sqrt(ElasticNet_rmse.mean()))"
      ],
      "metadata": {
        "colab": {
          "base_uri": "https://localhost:8080/"
        },
        "id": "bbJ9qhy3P596",
        "outputId": "77a77190-cc4f-402b-bc2d-58a081bc90ad"
      },
      "execution_count": 12,
      "outputs": [
        {
          "output_type": "stream",
          "name": "stdout",
          "text": [
            "Ridge:  93.50399045556065\n",
            "Lasso:  1.3989379777525957\n",
            "ElasticNet:  1.0824389769825475\n"
          ]
        }
      ]
    },
    {
      "cell_type": "code",
      "source": [
        "X = df.drop(columns=['Unnamed: 0',\n",
        "                     'PRICE',\n",
        "                     'Location',\n",
        "                     'Longitude',\n",
        "                     'Latitude',\n",
        "                    #  'distance'\n",
        "                     ])\n",
        "\n",
        "y = df['PRICE']\n",
        "\n",
        "poly = PolynomialFeatures(degree=3, include_bias=False)\n",
        "poly_x = poly.fit_transform(X)\n",
        "\n",
        "ElasticNet_model = ElasticNet()\n",
        "Lasso_model = Lasso()\n",
        "Ridge_model = Ridge()\n",
        "\n",
        "kf = KFold(n_splits=6, shuffle=True, random_state=42)\n",
        "\n",
        "ElasticNet_rmse = -cross_val_score(ElasticNet_model, poly_x, y, scoring='neg_mean_squared_error', cv=kf)\n",
        "Lasso_rmse = -cross_val_score(Lasso_model, poly_x, y, scoring='neg_mean_squared_error', cv=kf)\n",
        "Ridge_rmse = -cross_val_score(Ridge_model, poly_x, y, scoring='neg_mean_squared_error', cv=kf)\n",
        "\n",
        "print('Ridge: ', np.sqrt(Ridge_rmse.mean()))\n",
        "print('Lasso: ', np.sqrt(Lasso_rmse.mean()))\n",
        "print('ElasticNet: ', np.sqrt(ElasticNet_rmse.mean()))"
      ],
      "metadata": {
        "colab": {
          "base_uri": "https://localhost:8080/"
        },
        "id": "ryApeMgoSF93",
        "outputId": "19ba600a-21e8-42c7-ce43-437f081f0293"
      },
      "execution_count": 13,
      "outputs": [
        {
          "output_type": "stream",
          "name": "stdout",
          "text": [
            "Ridge:  74.24249256679632\n",
            "Lasso:  1.0283137705582805\n",
            "ElasticNet:  1.3956004055372346\n"
          ]
        }
      ]
    },
    {
      "cell_type": "code",
      "source": [
        "X = df.drop(columns=['Unnamed: 0',\n",
        "                     'PRICE',\n",
        "                     'Location',\n",
        "                     'Longitude',\n",
        "                     'Latitude',\n",
        "                    #  'distance'\n",
        "                     ])\n",
        "scaler = MinMaxScaler(feature_range=(-1, 1))\n",
        "\n",
        "normalized_data = scaler.fit_transform(X)\n",
        "\n",
        "X = pd.DataFrame(normalized_data, columns=X.columns)\n",
        "\n",
        "y = df['PRICE']\n",
        "\n",
        "poly = PolynomialFeatures(degree=3, include_bias=False)\n",
        "poly_x = poly.fit_transform(X)\n",
        "\n",
        "ElasticNet_model = ElasticNet()\n",
        "Lasso_model = Lasso()\n",
        "Ridge_model = Ridge()\n",
        "\n",
        "kf = KFold(n_splits=6, shuffle=True, random_state=42)\n",
        "\n",
        "ElasticNet_rmse = -cross_val_score(ElasticNet_model, poly_x, y, scoring='neg_mean_squared_error', cv=kf)\n",
        "Lasso_rmse = -cross_val_score(Lasso_model, poly_x, y, scoring='neg_mean_squared_error', cv=kf)\n",
        "Ridge_rmse = -cross_val_score(Ridge_model, poly_x, y, scoring='neg_mean_squared_error', cv=kf)\n",
        "\n",
        "print('Ridge: ', np.sqrt(Ridge_rmse.mean()))\n",
        "print('Lasso: ', np.sqrt(Lasso_rmse.mean()))\n",
        "print('ElasticNet: ', np.sqrt(ElasticNet_rmse.mean()))"
      ],
      "metadata": {
        "colab": {
          "base_uri": "https://localhost:8080/"
        },
        "id": "3gn5PRiVT5co",
        "outputId": "deb11791-f2dd-43b2-e283-88703967b641"
      },
      "execution_count": 14,
      "outputs": [
        {
          "output_type": "stream",
          "name": "stdout",
          "text": [
            "Ridge:  0.7162753888826475\n",
            "Lasso:  1.1539624105089932\n",
            "ElasticNet:  1.1539624105089932\n"
          ]
        }
      ]
    }
  ]
}