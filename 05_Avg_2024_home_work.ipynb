{
  "nbformat": 4,
  "nbformat_minor": 0,
  "metadata": {
    "colab": {
      "provenance": [],
      "include_colab_link": true
    },
    "kernelspec": {
      "name": "python3",
      "display_name": "Python 3"
    },
    "language_info": {
      "name": "python"
    }
  },
  "cells": [
    {
      "cell_type": "markdown",
      "metadata": {
        "id": "view-in-github",
        "colab_type": "text"
      },
      "source": [
        "<a href=\"https://colab.research.google.com/github/UznetDev/Data-science-home-work/blob/main/05_Avg_2024_home_work.ipynb\" target=\"_parent\"><img src=\"https://colab.research.google.com/assets/colab-badge.svg\" alt=\"Open In Colab\"/></a>"
      ]
    },
    {
      "cell_type": "code",
      "execution_count": 1,
      "metadata": {
        "id": "7BgpMTO5akG_"
      },
      "outputs": [],
      "source": [
        "import numpy as np\n",
        "import pandas as pd\n",
        "from sklearn.datasets import fetch_california_housing\n",
        "from sklearn.linear_model import *\n",
        "from sklearn.model_selection import cross_val_score, KFold, train_test_split\n",
        "from sklearn.metrics import mean_squared_error, mean_absolute_error, r2_score, median_absolute_error\n",
        "from sklearn.preprocessing import OrdinalEncoder\n",
        "from sklearn.pipeline import Pipeline\n",
        "from sklearn.model_selection import GridSearchCV, train_test_split, RandomizedSearchCV\n",
        "from sklearn.preprocessing import PolynomialFeatures\n",
        "from sklearn.feature_selection import RFE, RFECV\n",
        "import warnings\n",
        "import re\n",
        "import seaborn as sns\n",
        "import plotly.express as px\n",
        "import matplotlib.pyplot as plt\n",
        "warnings.filterwarnings('ignore')"
      ]
    },
    {
      "cell_type": "code",
      "source": [
        "df = pd.read_csv('car_prices.csv')\n",
        "df.shape"
      ],
      "metadata": {
        "colab": {
          "base_uri": "https://localhost:8080/",
          "height": 321
        },
        "id": "MCMNLdMXbvR9",
        "outputId": "5df24c4c-4235-4afd-c05d-810286e69fb1"
      },
      "execution_count": 2,
      "outputs": [
        {
          "output_type": "error",
          "ename": "FileNotFoundError",
          "evalue": "[Errno 2] No such file or directory: 'car_prices.csv'",
          "traceback": [
            "\u001b[0;31m---------------------------------------------------------------------------\u001b[0m",
            "\u001b[0;31mFileNotFoundError\u001b[0m                         Traceback (most recent call last)",
            "\u001b[0;32m<ipython-input-2-2d5694f2d646>\u001b[0m in \u001b[0;36m<cell line: 1>\u001b[0;34m()\u001b[0m\n\u001b[0;32m----> 1\u001b[0;31m \u001b[0mdf\u001b[0m \u001b[0;34m=\u001b[0m \u001b[0mpd\u001b[0m\u001b[0;34m.\u001b[0m\u001b[0mread_csv\u001b[0m\u001b[0;34m(\u001b[0m\u001b[0;34m'car_prices.csv'\u001b[0m\u001b[0;34m)\u001b[0m\u001b[0;34m\u001b[0m\u001b[0;34m\u001b[0m\u001b[0m\n\u001b[0m\u001b[1;32m      2\u001b[0m \u001b[0mdf\u001b[0m\u001b[0;34m.\u001b[0m\u001b[0mshape\u001b[0m\u001b[0;34m\u001b[0m\u001b[0;34m\u001b[0m\u001b[0m\n",
            "\u001b[0;32m/usr/local/lib/python3.10/dist-packages/pandas/io/parsers/readers.py\u001b[0m in \u001b[0;36mread_csv\u001b[0;34m(filepath_or_buffer, sep, delimiter, header, names, index_col, usecols, dtype, engine, converters, true_values, false_values, skipinitialspace, skiprows, skipfooter, nrows, na_values, keep_default_na, na_filter, verbose, skip_blank_lines, parse_dates, infer_datetime_format, keep_date_col, date_parser, date_format, dayfirst, cache_dates, iterator, chunksize, compression, thousands, decimal, lineterminator, quotechar, quoting, doublequote, escapechar, comment, encoding, encoding_errors, dialect, on_bad_lines, delim_whitespace, low_memory, memory_map, float_precision, storage_options, dtype_backend)\u001b[0m\n\u001b[1;32m    946\u001b[0m     \u001b[0mkwds\u001b[0m\u001b[0;34m.\u001b[0m\u001b[0mupdate\u001b[0m\u001b[0;34m(\u001b[0m\u001b[0mkwds_defaults\u001b[0m\u001b[0;34m)\u001b[0m\u001b[0;34m\u001b[0m\u001b[0;34m\u001b[0m\u001b[0m\n\u001b[1;32m    947\u001b[0m \u001b[0;34m\u001b[0m\u001b[0m\n\u001b[0;32m--> 948\u001b[0;31m     \u001b[0;32mreturn\u001b[0m \u001b[0m_read\u001b[0m\u001b[0;34m(\u001b[0m\u001b[0mfilepath_or_buffer\u001b[0m\u001b[0;34m,\u001b[0m \u001b[0mkwds\u001b[0m\u001b[0;34m)\u001b[0m\u001b[0;34m\u001b[0m\u001b[0;34m\u001b[0m\u001b[0m\n\u001b[0m\u001b[1;32m    949\u001b[0m \u001b[0;34m\u001b[0m\u001b[0m\n\u001b[1;32m    950\u001b[0m \u001b[0;34m\u001b[0m\u001b[0m\n",
            "\u001b[0;32m/usr/local/lib/python3.10/dist-packages/pandas/io/parsers/readers.py\u001b[0m in \u001b[0;36m_read\u001b[0;34m(filepath_or_buffer, kwds)\u001b[0m\n\u001b[1;32m    609\u001b[0m \u001b[0;34m\u001b[0m\u001b[0m\n\u001b[1;32m    610\u001b[0m     \u001b[0;31m# Create the parser.\u001b[0m\u001b[0;34m\u001b[0m\u001b[0;34m\u001b[0m\u001b[0m\n\u001b[0;32m--> 611\u001b[0;31m     \u001b[0mparser\u001b[0m \u001b[0;34m=\u001b[0m \u001b[0mTextFileReader\u001b[0m\u001b[0;34m(\u001b[0m\u001b[0mfilepath_or_buffer\u001b[0m\u001b[0;34m,\u001b[0m \u001b[0;34m**\u001b[0m\u001b[0mkwds\u001b[0m\u001b[0;34m)\u001b[0m\u001b[0;34m\u001b[0m\u001b[0;34m\u001b[0m\u001b[0m\n\u001b[0m\u001b[1;32m    612\u001b[0m \u001b[0;34m\u001b[0m\u001b[0m\n\u001b[1;32m    613\u001b[0m     \u001b[0;32mif\u001b[0m \u001b[0mchunksize\u001b[0m \u001b[0;32mor\u001b[0m \u001b[0miterator\u001b[0m\u001b[0;34m:\u001b[0m\u001b[0;34m\u001b[0m\u001b[0;34m\u001b[0m\u001b[0m\n",
            "\u001b[0;32m/usr/local/lib/python3.10/dist-packages/pandas/io/parsers/readers.py\u001b[0m in \u001b[0;36m__init__\u001b[0;34m(self, f, engine, **kwds)\u001b[0m\n\u001b[1;32m   1446\u001b[0m \u001b[0;34m\u001b[0m\u001b[0m\n\u001b[1;32m   1447\u001b[0m         \u001b[0mself\u001b[0m\u001b[0;34m.\u001b[0m\u001b[0mhandles\u001b[0m\u001b[0;34m:\u001b[0m \u001b[0mIOHandles\u001b[0m \u001b[0;34m|\u001b[0m \u001b[0;32mNone\u001b[0m \u001b[0;34m=\u001b[0m \u001b[0;32mNone\u001b[0m\u001b[0;34m\u001b[0m\u001b[0;34m\u001b[0m\u001b[0m\n\u001b[0;32m-> 1448\u001b[0;31m         \u001b[0mself\u001b[0m\u001b[0;34m.\u001b[0m\u001b[0m_engine\u001b[0m \u001b[0;34m=\u001b[0m \u001b[0mself\u001b[0m\u001b[0;34m.\u001b[0m\u001b[0m_make_engine\u001b[0m\u001b[0;34m(\u001b[0m\u001b[0mf\u001b[0m\u001b[0;34m,\u001b[0m \u001b[0mself\u001b[0m\u001b[0;34m.\u001b[0m\u001b[0mengine\u001b[0m\u001b[0;34m)\u001b[0m\u001b[0;34m\u001b[0m\u001b[0;34m\u001b[0m\u001b[0m\n\u001b[0m\u001b[1;32m   1449\u001b[0m \u001b[0;34m\u001b[0m\u001b[0m\n\u001b[1;32m   1450\u001b[0m     \u001b[0;32mdef\u001b[0m \u001b[0mclose\u001b[0m\u001b[0;34m(\u001b[0m\u001b[0mself\u001b[0m\u001b[0;34m)\u001b[0m \u001b[0;34m->\u001b[0m \u001b[0;32mNone\u001b[0m\u001b[0;34m:\u001b[0m\u001b[0;34m\u001b[0m\u001b[0;34m\u001b[0m\u001b[0m\n",
            "\u001b[0;32m/usr/local/lib/python3.10/dist-packages/pandas/io/parsers/readers.py\u001b[0m in \u001b[0;36m_make_engine\u001b[0;34m(self, f, engine)\u001b[0m\n\u001b[1;32m   1703\u001b[0m                 \u001b[0;32mif\u001b[0m \u001b[0;34m\"b\"\u001b[0m \u001b[0;32mnot\u001b[0m \u001b[0;32min\u001b[0m \u001b[0mmode\u001b[0m\u001b[0;34m:\u001b[0m\u001b[0;34m\u001b[0m\u001b[0;34m\u001b[0m\u001b[0m\n\u001b[1;32m   1704\u001b[0m                     \u001b[0mmode\u001b[0m \u001b[0;34m+=\u001b[0m \u001b[0;34m\"b\"\u001b[0m\u001b[0;34m\u001b[0m\u001b[0;34m\u001b[0m\u001b[0m\n\u001b[0;32m-> 1705\u001b[0;31m             self.handles = get_handle(\n\u001b[0m\u001b[1;32m   1706\u001b[0m                 \u001b[0mf\u001b[0m\u001b[0;34m,\u001b[0m\u001b[0;34m\u001b[0m\u001b[0;34m\u001b[0m\u001b[0m\n\u001b[1;32m   1707\u001b[0m                 \u001b[0mmode\u001b[0m\u001b[0;34m,\u001b[0m\u001b[0;34m\u001b[0m\u001b[0;34m\u001b[0m\u001b[0m\n",
            "\u001b[0;32m/usr/local/lib/python3.10/dist-packages/pandas/io/common.py\u001b[0m in \u001b[0;36mget_handle\u001b[0;34m(path_or_buf, mode, encoding, compression, memory_map, is_text, errors, storage_options)\u001b[0m\n\u001b[1;32m    861\u001b[0m         \u001b[0;32mif\u001b[0m \u001b[0mioargs\u001b[0m\u001b[0;34m.\u001b[0m\u001b[0mencoding\u001b[0m \u001b[0;32mand\u001b[0m \u001b[0;34m\"b\"\u001b[0m \u001b[0;32mnot\u001b[0m \u001b[0;32min\u001b[0m \u001b[0mioargs\u001b[0m\u001b[0;34m.\u001b[0m\u001b[0mmode\u001b[0m\u001b[0;34m:\u001b[0m\u001b[0;34m\u001b[0m\u001b[0;34m\u001b[0m\u001b[0m\n\u001b[1;32m    862\u001b[0m             \u001b[0;31m# Encoding\u001b[0m\u001b[0;34m\u001b[0m\u001b[0;34m\u001b[0m\u001b[0m\n\u001b[0;32m--> 863\u001b[0;31m             handle = open(\n\u001b[0m\u001b[1;32m    864\u001b[0m                 \u001b[0mhandle\u001b[0m\u001b[0;34m,\u001b[0m\u001b[0;34m\u001b[0m\u001b[0;34m\u001b[0m\u001b[0m\n\u001b[1;32m    865\u001b[0m                 \u001b[0mioargs\u001b[0m\u001b[0;34m.\u001b[0m\u001b[0mmode\u001b[0m\u001b[0;34m,\u001b[0m\u001b[0;34m\u001b[0m\u001b[0;34m\u001b[0m\u001b[0m\n",
            "\u001b[0;31mFileNotFoundError\u001b[0m: [Errno 2] No such file or directory: 'car_prices.csv'"
          ]
        }
      ]
    },
    {
      "cell_type": "code",
      "source": [
        "df.head()"
      ],
      "metadata": {
        "id": "i7qRV8k2by1Q"
      },
      "execution_count": null,
      "outputs": []
    },
    {
      "cell_type": "code",
      "source": [
        "for col in df.columns:\n",
        "    print(f'{col}: {df[col].nunique()}')"
      ],
      "metadata": {
        "id": "1mtrFicscB1q"
      },
      "execution_count": null,
      "outputs": []
    },
    {
      "cell_type": "markdown",
      "source": [
        "#### Kerakliy funksiyalarni yozamiz"
      ],
      "metadata": {
        "id": "TZG3KlJ3hVAY"
      }
    },
    {
      "cell_type": "code",
      "source": [
        "def parse_engine_info(engine):\n",
        "    # engine ustunidan ma'lumotlarni ajratib olamiz\n",
        "    if pd.isna(engine):\n",
        "        return pd.Series([np.nan, np.nan, np.nan, np.nan, np.nan])\n",
        "\n",
        "    hp = re.search(r'(\\d+\\.?\\d*)HP', engine)\n",
        "    liter = re.search(r'(\\d+\\.?\\d*)L', engine)\n",
        "    motor = re.search(r'(Straight|V)\\s*\\d*', engine)\n",
        "    cylinder = re.search(r'(\\d+)\\s*Cylinder', engine)\n",
        "    fuel = re.search(r'(Gasoline|Hybrid|Flex|Diesel)', engine)\n",
        "\n",
        "    return pd.Series([\n",
        "        hp.group(1) if hp else np.nan,\n",
        "        liter.group(1) if liter else np.nan,\n",
        "        motor.group(0) if motor else np.nan,\n",
        "        cylinder.group(1) if cylinder else np.nan,\n",
        "        fuel.group(1) if fuel else np.nan\n",
        "    ])\n",
        "\n",
        "\n",
        "def fill_nan_mean(df, col, columns):\n",
        "    # numeric ustunlar uchun fill nall funcsiya\n",
        "    print(f\"Col: {col}, Columns: {columns}, Nan: {df[col].isna().sum()}\", end='')\n",
        "    value = df[df[col].notna()].groupby(by=columns)[col].mean().reset_index()\n",
        "    df = pd.merge(df, value, on=columns, how='left', suffixes=('', '_mean'))\n",
        "    df[col] = df[col].fillna(df[col + '_mean'])\n",
        "    df.drop(columns=[col + '_mean'], inplace=True)\n",
        "    print(f\", After Clean: {df[col].isna().sum()}\")\n",
        "    return df\n",
        "\n",
        "\n",
        "def fill_nan_mode(df, col, columns):\n",
        "    # object ustunlar uchun fill nall funcsiya\n",
        "    print(f\"Col: {col}, Columns: {columns}, Nan: {df[col].isna().sum()}\", end='')\n",
        "    mode_values = df.groupby(columns)[col].apply(lambda x: x.mode().iloc[0] if not x.mode().empty else pd.NA).reset_index()\n",
        "    df = pd.merge(df, mode_values, on=columns, how='left', suffixes=('', '_mode'))\n",
        "    df[col] = df[col].fillna(df[col + '_mode'])\n",
        "    df.drop(columns=[col + '_mode'], inplace=True)\n",
        "\n",
        "    print(f\", After Clean: {df[col].isna().sum()}\")\n",
        "    return df\n",
        "\n",
        "def to_numeric(x):\n",
        "    try:\n",
        "        return float(x)\n",
        "    except ValueError as err:\n",
        "        print(err)\n",
        "        return np.nan\n",
        "\n",
        "\n",
        "def ordinal_encoder(df, column, on):\n",
        "    # object ustunlni 'price' ustuniga soslanib sortlayb raqamga aylantiradi va yangi ustun yaratadi\n",
        "    avg_prices = df.groupby(column)[on].mean().reset_index()\n",
        "    avg_prices.columns = [column, 'avg_price']\n",
        "    avg_prices = avg_prices.sort_values(by='avg_price').reset_index(drop=True)\n",
        "    avg_prices[column+'_rank'] = avg_prices.index + 1\n",
        "    return pd.merge(df, avg_prices[[column, column+'_rank']], on=column, how='left')"
      ],
      "metadata": {
        "id": "IA-a78IouyrN"
      },
      "execution_count": null,
      "outputs": []
    },
    {
      "cell_type": "markdown",
      "source": [
        "#### engine ustunidagi ma'lumotlarni ajratib olamiz"
      ],
      "metadata": {
        "id": "dj7m4xGIi87m"
      }
    },
    {
      "cell_type": "code",
      "source": [
        "new_columns = ['hp', 'litr', 'motor', 'Cylinder', 'fuel']\n",
        "df[new_columns] = df['engine'].apply(parse_engine_info)"
      ],
      "metadata": {
        "id": "9frPtiYNg_ub"
      },
      "execution_count": null,
      "outputs": []
    },
    {
      "cell_type": "markdown",
      "source": [
        "#### bizga keragsiz data"
      ],
      "metadata": {
        "id": "csS5K9umjDLq"
      }
    },
    {
      "cell_type": "code",
      "source": [
        "df = df.drop(columns=['clean_title', 'id'])"
      ],
      "metadata": {
        "id": "coAGL5SWhVuJ"
      },
      "execution_count": null,
      "outputs": []
    },
    {
      "cell_type": "code",
      "source": [
        "df.head(1)"
      ],
      "metadata": {
        "id": "jXus0b0VhMX5"
      },
      "execution_count": null,
      "outputs": []
    },
    {
      "cell_type": "code",
      "source": [
        "df[new_columns].isna().sum()"
      ],
      "metadata": {
        "id": "PYmeIIjsj8bq"
      },
      "execution_count": null,
      "outputs": []
    },
    {
      "cell_type": "markdown",
      "source": [
        "#### Nan qiymatlarni tuldirib chiqamiz"
      ],
      "metadata": {
        "id": "9PHaSqgBjGqt"
      }
    },
    {
      "cell_type": "code",
      "source": [
        "df['hp'] = df['hp'].agg(to_numeric)\n",
        "\n",
        "df = fill_nan_mean(df.copy(), 'hp', ['motor', 'Cylinder', 'litr'])\n",
        "df = fill_nan_mean(df.copy(), 'hp', ['motor', 'litr'])\n",
        "df = fill_nan_mean(df.copy(), 'hp', ['brand', 'model'])\n",
        "df = fill_nan_mean(df.copy(), 'hp', ['litr', 'fuel_type'])\n",
        "df = fill_nan_mean(df.copy(), 'hp', ['model'])\n",
        "df = fill_nan_mean(df.copy(), 'hp', ['motor'])\n",
        "df = fill_nan_mean(df.copy(), 'hp', ['price', 'brand'])\n",
        "df = fill_nan_mean(df.copy(), 'hp', ['price', 'fuel_type'])\n",
        "df = fill_nan_mean(df.copy(), 'hp', ['engine'])\n",
        "\n",
        "\n",
        "\n",
        "print(df['hp'].isna().sum())"
      ],
      "metadata": {
        "id": "q75N2_RxvPQB"
      },
      "execution_count": null,
      "outputs": []
    },
    {
      "cell_type": "code",
      "source": [
        "df['litr'] = df['litr'].agg(to_numeric)\n",
        "\n",
        "\n",
        "df = fill_nan_mean(df.copy(), 'litr', ['motor', 'Cylinder', 'hp'])\n",
        "# df = fill_nan_mean(df.copy(), 'litr', ['Cylinder', 'hp'])\n",
        "# df = fill_nan_mean(df.copy(), 'litr', ['motor', 'hp'])\n",
        "df = fill_nan_mean(df.copy(), 'litr', ['hp', 'fuel_type'])\n",
        "df = fill_nan_mean(df.copy(), 'litr', ['model'])\n",
        "df = fill_nan_mean(df.copy(), 'litr', ['engine'])\n",
        "df = fill_nan_mean(df.copy(), 'litr', ['price', 'fuel_type'])\n",
        "df = fill_nan_mean(df.copy(), 'litr', ['price', 'transmission'])\n",
        "\n",
        "\n",
        "print(df['litr'].isna().sum())"
      ],
      "metadata": {
        "id": "ov01mu7S16Tb"
      },
      "execution_count": null,
      "outputs": []
    },
    {
      "cell_type": "code",
      "source": [
        "df['Cylinder'] = df['Cylinder'].agg(to_numeric)\n",
        "\n",
        "df = fill_nan_mean(df.copy(), 'Cylinder', ['litr', 'hp'])\n",
        "df = fill_nan_mean(df.copy(), 'Cylinder', ['litr', 'model'])\n",
        "df = fill_nan_mean(df.copy(), 'Cylinder', ['hp', 'model'])\n",
        "df = fill_nan_mean(df.copy(), 'Cylinder', ['model'])\n",
        "df = fill_nan_mean(df.copy(), 'Cylinder', ['hp', 'fuel_type'])\n",
        "df = fill_nan_mean(df.copy(), 'Cylinder', ['price', 'fuel_type'])\n",
        "df = fill_nan_mean(df.copy(), 'Cylinder', ['price', 'transmission'])\n",
        "df = fill_nan_mean(df.copy(), 'Cylinder', ['litr', 'fuel_type'])\n",
        "df = fill_nan_mean(df.copy(), 'Cylinder', ['engine'])\n",
        "\n",
        "\n",
        "print(df['Cylinder'].isna().sum())"
      ],
      "metadata": {
        "id": "OTor3ZGhZzjY"
      },
      "execution_count": null,
      "outputs": []
    },
    {
      "cell_type": "code",
      "source": [
        "df.columns"
      ],
      "metadata": {
        "id": "044j9S1WtZ6h"
      },
      "execution_count": null,
      "outputs": []
    },
    {
      "cell_type": "code",
      "source": [
        "df.head(1)"
      ],
      "metadata": {
        "id": "doX-eUI3tpRd"
      },
      "execution_count": null,
      "outputs": []
    },
    {
      "cell_type": "code",
      "source": [
        "df = fill_nan_mode(df.copy(), 'motor', ['litr', 'hp', 'Cylinder', 'model'])\n",
        "df = fill_nan_mode(df.copy(), 'motor', ['litr', 'hp', 'Cylinder'])\n",
        "df = fill_nan_mode(df.copy(), 'motor', ['litr', 'hp'])\n",
        "df = fill_nan_mode(df.copy(), 'motor', ['model'])\n",
        "df = fill_nan_mode(df.copy(), 'motor', ['engine'])\n",
        "df = fill_nan_mode(df.copy(), 'motor', ['fuel_type', 'hp'])\n",
        "df = fill_nan_mode(df.copy(), 'motor', ['litr', 'Cylinder'])\n",
        "df = fill_nan_mode(df.copy(), 'motor', ['Cylinder', 'price'])\n",
        "df = fill_nan_mode(df.copy(), 'motor', ['Cylinder', 'brand'])\n",
        "df = fill_nan_mode(df.copy(), 'motor', ['litr', 'brand'])\n",
        "df = fill_nan_mode(df.copy(), 'motor', ['hp', 'brand'])\n",
        "df = fill_nan_mode(df.copy(), 'motor', ['hp', 'fuel'])\n",
        "df = fill_nan_mode(df.copy(), 'motor', ['brand', 'price'])\n",
        "df = fill_nan_mode(df.copy(), 'motor', ['brand', 'price'])\n",
        "df = fill_nan_mode(df.copy(), 'motor', ['brand', 'fuel_type'])\n",
        "\n",
        "\n",
        "print(df['motor'].isna().sum())"
      ],
      "metadata": {
        "id": "dFPVNG3ql0z9"
      },
      "execution_count": null,
      "outputs": []
    },
    {
      "cell_type": "code",
      "source": [
        "df = fill_nan_mode(df.copy(), 'fuel', ['litr', 'hp', 'Cylinder', 'model'])\n",
        "df = fill_nan_mode(df.copy(), 'fuel', ['litr', 'hp', 'model'])\n",
        "df = fill_nan_mode(df.copy(), 'fuel', ['hp', 'model'])\n",
        "df = fill_nan_mode(df.copy(), 'fuel', ['model'])\n",
        "df = fill_nan_mode(df.copy(), 'fuel', ['motor', 'hp'])\n",
        "df = fill_nan_mode(df.copy(), 'fuel', ['motor', 'hp'])\n",
        "df = fill_nan_mode(df.copy(), 'fuel', ['motor', 'Cylinder'])\n",
        "df = fill_nan_mode(df.copy(), 'fuel', ['motor', 'litr'])\n",
        "df = fill_nan_mode(df.copy(), 'fuel', ['motor'])\n",
        "\n",
        "print(df['fuel'].isna().sum())"
      ],
      "metadata": {
        "id": "vtQWPzkf61VO"
      },
      "execution_count": null,
      "outputs": []
    },
    {
      "cell_type": "code",
      "source": [
        "df.head(1)"
      ],
      "metadata": {
        "id": "U0ravVNZ7RRI"
      },
      "execution_count": null,
      "outputs": []
    },
    {
      "cell_type": "code",
      "source": [
        "df[new_columns].isna().sum()"
      ],
      "metadata": {
        "id": "MopkB3sH1DvI"
      },
      "execution_count": null,
      "outputs": []
    },
    {
      "cell_type": "code",
      "source": [
        "df.select_dtypes(include='object').columns"
      ],
      "metadata": {
        "id": "poC2puoxtyFQ"
      },
      "execution_count": null,
      "outputs": []
    },
    {
      "cell_type": "code",
      "source": [
        "for col in df.select_dtypes(include='object').columns:\n",
        "    df = ordinal_encoder(df.copy(), col, 'price')"
      ],
      "metadata": {
        "id": "D_1o-Age1NpN"
      },
      "execution_count": null,
      "outputs": []
    },
    {
      "cell_type": "code",
      "source": [
        "df.head(1)"
      ],
      "metadata": {
        "id": "SH0UgTZD1e-H"
      },
      "execution_count": null,
      "outputs": []
    },
    {
      "cell_type": "markdown",
      "source": [
        "### Birinchi model"
      ],
      "metadata": {
        "id": "FUnFt_QVjMch"
      }
    },
    {
      "cell_type": "code",
      "source": [
        "columns = ['model_year',\n",
        "           'milage',\n",
        "           'hp',\n",
        "           'litr',\n",
        "           'Cylinder',\n",
        "           'brand_rank',\n",
        "           'model_rank',\n",
        "           'fuel_type_rank',\n",
        "           'engine_rank',\n",
        "           'transmission_rank',\n",
        "           'ext_col_rank',\n",
        "           'int_col_rank',\n",
        "           'accident_rank',\n",
        "           'motor_rank',\n",
        "           'fuel_rank'\n",
        "           ]\n",
        "\n",
        "X = df[columns]\n",
        "y = df['price']\n",
        "\n",
        "X_train, X_test, y_train, y_test = train_test_split(X, y, test_size=0.37, random_state=125)\n",
        "\n",
        "model = LinearRegression()\n",
        "\n",
        "cv = KFold(n_splits=5, shuffle=True, random_state=42)\n",
        "cv_rmse = np.sqrt(np.mean((-cross_val_score(model, X_train, y_train, cv=cv, scoring='neg_mean_squared_error'))))\n",
        "\n",
        "model.fit(X_train, y_train)\n",
        "\n",
        "y_pred = model.predict(X_test)\n",
        "\n",
        "rmse = mean_squared_error(y_test, y_pred, squared=False)\n",
        "mae = mean_absolute_error(y_test, y_pred)\n",
        "r2 = r2_score(y_test, y_pred)\n",
        "\n",
        "print(f'CV RMSE: {cv_rmse}')\n",
        "print(f'RMSE: {rmse}')\n",
        "print(f'MAE: {mae}')\n",
        "print(f'R2: {r2}')"
      ],
      "metadata": {
        "id": "-4TcAR3j2RiZ"
      },
      "execution_count": null,
      "outputs": []
    },
    {
      "cell_type": "markdown",
      "source": [
        "### PolynomialFeatures"
      ],
      "metadata": {
        "id": "j4OUyInpjQb1"
      }
    },
    {
      "cell_type": "code",
      "source": [
        "poly = PolynomialFeatures(degree=2, include_bias=False)\n",
        "X_poly = poly.fit_transform(X)\n",
        "\n",
        "\n",
        "X_train, X_test, y_train, y_test = train_test_split(X_poly, y, test_size=0.37, random_state=125)\n",
        "\n",
        "model = LinearRegression()\n",
        "\n",
        "cv = KFold(n_splits=5, shuffle=True, random_state=42)\n",
        "cv_rmse = np.sqrt(np.mean((-cross_val_score(model, X_train, y_train, cv=cv, scoring='neg_mean_squared_error'))))\n",
        "\n",
        "model.fit(X_train, y_train)\n",
        "\n",
        "y_pred = model.predict(X_test)\n",
        "\n",
        "rmse = mean_squared_error(y_test, y_pred, squared=False)\n",
        "mae = mean_absolute_error(y_test, y_pred)\n",
        "r2 = r2_score(y_test, y_pred)\n",
        "\n",
        "print(f'CV RMSE: {cv_rmse}')\n",
        "print(f'RMSE: {rmse}')\n",
        "print(f'MAE: {mae}')\n",
        "print(f'R2: {r2}')"
      ],
      "metadata": {
        "id": "ZQ59wQje4fjc"
      },
      "execution_count": null,
      "outputs": []
    },
    {
      "cell_type": "markdown",
      "source": [
        "#### Outlierlarni tashlab kuramiz"
      ],
      "metadata": {
        "id": "Jrn6bDEq49Ln"
      }
    },
    {
      "cell_type": "code",
      "source": [
        "data = df[df['price'] <= df['price'].quantile(0.95)]"
      ],
      "metadata": {
        "id": "aJSvBGxs5Ck8"
      },
      "execution_count": null,
      "outputs": []
    },
    {
      "cell_type": "code",
      "source": [
        "X = data[columns]\n",
        "y = data['price']"
      ],
      "metadata": {
        "id": "IqG6P2jt5POw"
      },
      "execution_count": null,
      "outputs": []
    },
    {
      "cell_type": "code",
      "source": [
        "poly = PolynomialFeatures(degree=2, include_bias=False)\n",
        "X_poly = poly.fit_transform(X)\n",
        "\n",
        "\n",
        "X_train, X_test, y_train, y_test = train_test_split(X_poly, y, test_size=0.37, random_state=125)\n",
        "\n",
        "model = LinearRegression()\n",
        "\n",
        "cv = KFold(n_splits=5, shuffle=True, random_state=42)\n",
        "cv_rmse = np.sqrt(np.mean((-cross_val_score(model, X_train, y_train, cv=cv, scoring='neg_mean_squared_error'))))\n",
        "\n",
        "model.fit(X_train, y_train)\n",
        "\n",
        "y_pred = model.predict(X_test)\n",
        "\n",
        "rmse = mean_squared_error(y_test, y_pred, squared=False)\n",
        "mae = mean_absolute_error(y_test, y_pred)\n",
        "r2 = r2_score(y_test, y_pred)\n",
        "\n",
        "print(f'CV RMSE: {cv_rmse}')\n",
        "print(f'RMSE: {rmse}')\n",
        "print(f'MAE: {mae}')\n",
        "print(f'R2: {r2}')"
      ],
      "metadata": {
        "id": "uhf-pFR_5KcO"
      },
      "execution_count": null,
      "outputs": []
    },
    {
      "cell_type": "code",
      "source": [
        "linear_model = LinearRegression()\n",
        "linear_model.fit(X, y)\n",
        "\n",
        "tail = TheilSenRegressor()\n",
        "tail.fit(X, y)\n",
        "\n",
        "huber = HuberRegressor()\n",
        "huber.fit(X, y)\n",
        "\n",
        "ransac = RANSACRegressor()\n",
        "ransac.fit(X, y)\n",
        "\n",
        "\n",
        "linear_rmse = np.sqrt(mean_squared_error(y, linear_model.predict(X)))\n",
        "tail_rmse = np.sqrt(mean_squared_error(y, tail.predict(X)))\n",
        "huber_rmse = np.sqrt(mean_squared_error(y, huber.predict(X)))\n",
        "ransac_rmse = np.sqrt(mean_squared_error(y, ransac.predict(X)))\n",
        "\n",
        "mae_linear = mean_absolute_error(y, linear_model.predict(X))\n",
        "mae_tail = mean_absolute_error(y, tail.predict(X))\n",
        "mae_huber = mean_absolute_error(y, huber.predict(X))\n",
        "mae_ransac = mean_absolute_error(y, ransac.predict(X))\n",
        "\n",
        "\n",
        "median_error = median_absolute_error(y, linear_model.predict(X))\n",
        "median_error_tail = median_absolute_error(y, tail.predict(X))\n",
        "median_error_huber = median_absolute_error(y, huber.predict(X))\n",
        "median_error_ransac = median_absolute_error(y, ransac.predict(X))\n",
        "\n",
        "print('Median Error Linear:', median_error)\n",
        "print('Linear MAE:', mae_linear)\n",
        "print('Linear RMSE:', linear_rmse)\n",
        "print()\n",
        "print('Median Error RANSAC:', median_error_ransac)\n",
        "print('RANSAC MAE:', mae_ransac)\n",
        "print('RANSAC RMSE:', ransac_rmse)\n",
        "print()\n",
        "print('Median Error Tail:', median_error_tail)\n",
        "print('Theil MAE:', mae_tail)\n",
        "print('Theil RMSE:', tail_rmse)\n",
        "print()\n",
        "print('Median Error Huber:', median_error_huber)\n",
        "print('Huber MAE:', mae_huber)\n",
        "print('Huber RMSE:', huber_rmse)"
      ],
      "metadata": {
        "id": "ZDQtdJ9z4out"
      },
      "execution_count": null,
      "outputs": []
    },
    {
      "cell_type": "markdown",
      "source": [
        "#### PolynomialFeatures"
      ],
      "metadata": {
        "id": "nGDPoEzZ5aAT"
      }
    },
    {
      "cell_type": "code",
      "source": [
        "linear_model = LinearRegression()\n",
        "linear_model.fit(X_poly, y)\n",
        "\n",
        "tail = TheilSenRegressor()\n",
        "tail.fit(X_poly, y)\n",
        "\n",
        "huber = HuberRegressor()\n",
        "huber.fit(X_poly, y)\n",
        "\n",
        "ransac = RANSACRegressor()\n",
        "ransac.fit(X_poly, y)\n",
        "\n",
        "\n",
        "linear_rmse = np.sqrt(mean_squared_error(y, linear_model.predict(X_poly)))\n",
        "tail_rmse = np.sqrt(mean_squared_error(y, tail.predict(X_poly)))\n",
        "huber_rmse = np.sqrt(mean_squared_error(y, huber.predict(X_poly)))\n",
        "ransac_rmse = np.sqrt(mean_squared_error(y, ransac.predict(X_poly)))\n",
        "\n",
        "mae_linear = mean_absolute_error(y, linear_model.predict(X_poly))\n",
        "mae_tail = mean_absolute_error(y, tail.predict(X_poly))\n",
        "mae_huber = mean_absolute_error(y, huber.predict(X_poly))\n",
        "mae_ransac = mean_absolute_error(y, ransac.predict(X_poly))\n",
        "\n",
        "\n",
        "median_error = median_absolute_error(y, linear_model.predict(X_poly))\n",
        "median_error_tail = median_absolute_error(y, tail.predict(X_poly))\n",
        "median_error_huber = median_absolute_error(y, huber.predict(X_poly))\n",
        "median_error_ransac = median_absolute_error(y, ransac.predict(X_poly))\n",
        "\n",
        "print('Median Error Linear:', median_error)\n",
        "print('Linear MAE:', mae_linear)\n",
        "print('Linear RMSE:', linear_rmse)\n",
        "print()\n",
        "print('Median Error RANSAC:', median_error_ransac)\n",
        "print('RANSAC MAE:', mae_ransac)\n",
        "print('RANSAC RMSE:', ransac_rmse)\n",
        "print()\n",
        "print('Median Error Tail:', median_error_tail)\n",
        "print('Theil MAE:', mae_tail)\n",
        "print('Theil RMSE:', tail_rmse)\n",
        "print()\n",
        "print('Median Error Huber:', median_error_huber)\n",
        "print('Huber MAE:', mae_huber)\n",
        "print('Huber RMSE:', huber_rmse)"
      ],
      "metadata": {
        "id": "qNuwwaYi5QL8"
      },
      "execution_count": null,
      "outputs": []
    },
    {
      "cell_type": "markdown",
      "source": [
        "#### RFECV orqaliy eng yaxshi parametrlarni aniqlab olamiz\n"
      ],
      "metadata": {
        "id": "vX6PgjoBF9Ok"
      }
    },
    {
      "cell_type": "code",
      "source": [
        "X = data[columns]\n",
        "y = data['price']\n",
        "poly = PolynomialFeatures(degree=2, include_bias=False)\n",
        "X_poly = pd.DataFrame(poly.fit_transform(X), columns=poly.get_feature_names_out(X.columns))\n",
        "\n",
        "\n",
        "cv = KFold(n_splits=6, shuffle=True, random_state=42)\n",
        "\n",
        "linear_model = LinearRegression()\n",
        "\n",
        "rfecv = RFECV(estimator=linear_model, step=1, cv=cv, scoring='neg_mean_squared_error', verbose=2)\n",
        "\n",
        "rfecv.fit(X_poly, y)\n",
        "optimal_num_features = rfecv.n_features_\n",
        "selected_features = X_poly.columns[rfecv.support_]\n",
        "\n",
        "print(\"Optimal number of features:\", optimal_num_features)\n",
        "print(\"Selected features:\", selected_features.tolist())"
      ],
      "metadata": {
        "id": "QDU9amjd50OI"
      },
      "execution_count": null,
      "outputs": []
    },
    {
      "cell_type": "code",
      "source": [],
      "metadata": {
        "id": "l3UwYfE38Y6W"
      },
      "execution_count": null,
      "outputs": []
    },
    {
      "cell_type": "markdown",
      "source": [
        "#### 3 ta modelni 3 xil metrika blan snab kuramiz"
      ],
      "metadata": {
        "id": "fMgQuzvGFur5"
      }
    },
    {
      "cell_type": "code",
      "source": [
        "X_poly = pd.DataFrame(poly.fit_transform(X), columns=poly.get_feature_names_out(X.columns))\n",
        "X = X_poly[selected_features]\n",
        "y = data['price']\n",
        "\n",
        "linear_model = LinearRegression()\n",
        "linear_model.fit(X, y)\n",
        "\n",
        "tail = TheilSenRegressor()\n",
        "tail.fit(X, y)\n",
        "\n",
        "huber = HuberRegressor()\n",
        "huber.fit(X, y)\n",
        "\n",
        "ransac = RANSACRegressor()\n",
        "ransac.fit(X, y)\n",
        "\n",
        "\n",
        "linear_rmse = np.sqrt(mean_squared_error(y, linear_model.predict(X)))\n",
        "tail_rmse = np.sqrt(mean_squared_error(y, tail.predict(X)))\n",
        "huber_rmse = np.sqrt(mean_squared_error(y, huber.predict(X)))\n",
        "ransac_rmse = np.sqrt(mean_squared_error(y, ransac.predict(X)))\n",
        "\n",
        "mae_linear = mean_absolute_error(y, linear_model.predict(X))\n",
        "mae_tail = mean_absolute_error(y, tail.predict(X))\n",
        "mae_huber = mean_absolute_error(y, huber.predict(X))\n",
        "mae_ransac = mean_absolute_error(y, ransac.predict(X))\n",
        "\n",
        "\n",
        "median_error = median_absolute_error(y, linear_model.predict(X))\n",
        "median_error_tail = median_absolute_error(y, tail.predict(X))\n",
        "median_error_huber = median_absolute_error(y, huber.predict(X))\n",
        "median_error_ransac = median_absolute_error(y, ransac.predict(X))\n",
        "\n",
        "print('Median Error Linear:', median_error)\n",
        "print('Linear MAE:', mae_linear)\n",
        "print('Linear RMSE:', linear_rmse)\n",
        "print()\n",
        "print('Median Error RANSAC:', median_error_ransac)\n",
        "print('RANSAC MAE:', mae_ransac)\n",
        "print('RANSAC RMSE:', ransac_rmse)\n",
        "print()\n",
        "print('Median Error Tail:', median_error_tail)\n",
        "print('Theil MAE:', mae_tail)\n",
        "print('Theil RMSE:', tail_rmse)\n",
        "print()\n",
        "print('Median Error Huber:', median_error_huber)\n",
        "print('Huber MAE:', mae_huber)\n",
        "print('Huber RMSE:', huber_rmse)"
      ],
      "metadata": {
        "id": "p6SWxa3YEMho"
      },
      "execution_count": null,
      "outputs": []
    },
    {
      "cell_type": "markdown",
      "source": [
        "#### Outlier blan birga"
      ],
      "metadata": {
        "id": "jduayjZ1T8vn"
      }
    },
    {
      "cell_type": "code",
      "source": [
        "X = df[columns]\n",
        "y = df['price']\n",
        "poly = PolynomialFeatures(degree=2, include_bias=False)\n",
        "X_poly = pd.DataFrame(poly.fit_transform(X), columns=poly.get_feature_names_out(X.columns))\n",
        "X = X_poly[selected_features]\n",
        "\n",
        "linear_model = LinearRegression()\n",
        "linear_model.fit(X, y)\n",
        "\n",
        "tail = TheilSenRegressor()\n",
        "tail.fit(X, y)\n",
        "\n",
        "huber = HuberRegressor()\n",
        "huber.fit(X, y)\n",
        "\n",
        "ransac = RANSACRegressor()\n",
        "ransac.fit(X, y)\n",
        "\n",
        "\n",
        "linear_rmse = np.sqrt(mean_squared_error(y, linear_model.predict(X)))\n",
        "tail_rmse = np.sqrt(mean_squared_error(y, tail.predict(X)))\n",
        "huber_rmse = np.sqrt(mean_squared_error(y, huber.predict(X)))\n",
        "ransac_rmse = np.sqrt(mean_squared_error(y, ransac.predict(X)))\n",
        "\n",
        "mae_linear = mean_absolute_error(y, linear_model.predict(X))\n",
        "mae_tail = mean_absolute_error(y, tail.predict(X))\n",
        "mae_huber = mean_absolute_error(y, huber.predict(X))\n",
        "mae_ransac = mean_absolute_error(y, ransac.predict(X))\n",
        "\n",
        "\n",
        "median_error = median_absolute_error(y, linear_model.predict(X))\n",
        "median_error_tail = median_absolute_error(y, tail.predict(X))\n",
        "median_error_huber = median_absolute_error(y, huber.predict(X))\n",
        "median_error_ransac = median_absolute_error(y, ransac.predict(X))\n",
        "\n",
        "print('Median Error Linear:', median_error)\n",
        "print('Linear MAE:', mae_linear)\n",
        "print('Linear RMSE:', linear_rmse)\n",
        "print()\n",
        "print('Median Error RANSAC:', median_error_ransac)\n",
        "print('RANSAC MAE:', mae_ransac)\n",
        "print('RANSAC RMSE:', ransac_rmse)\n",
        "print()\n",
        "print('Median Error Tail:', median_error_tail)\n",
        "print('Theil MAE:', mae_tail)\n",
        "print('Theil RMSE:', tail_rmse)\n",
        "print()\n",
        "print('Median Error Huber:', median_error_huber)\n",
        "print('Huber MAE:', mae_huber)\n",
        "print('Huber RMSE:', huber_rmse)"
      ],
      "metadata": {
        "id": "6w4M_IbCT1f_"
      },
      "execution_count": null,
      "outputs": []
    },
    {
      "cell_type": "code",
      "source": [
        "X_train, X_test, y_train, y_test = train_test_split(X, y, test_size=0.3, random_state=0)\n",
        "\n",
        "model = LinearRegression()\n",
        "model.fit(X_train, y_train)\n",
        "\n",
        "y_pred = model.predict(X_test)\n",
        "\n",
        "rmse = np.sqrt(mean_squared_error(y_test, y_pred))\n",
        "\n",
        "mae = mean_absolute_error(y_test, y_pred)\n",
        "\n",
        "medae = median_absolute_error(y_test, y_pred)\n",
        "\n",
        "r2 = r2_score(y_test, y_pred)\n",
        "\n",
        "n = X_test.shape[0]\n",
        "p = X_test.shape[1]\n",
        "adjusted_r2 = (1 - (1 - r2) * (n - 1) / (n - p - 1))\n",
        "\n",
        "mape = (np.mean(np.abs((y_test - y_pred) / y_test)) * 100)\n",
        "\n",
        "smape = (np.mean(2 * np.abs(y_test - y_pred) / (np.abs(y_test) + np.abs(y_pred))) * 100)\n",
        "\n",
        "medape = (np.median(np.abs((y_test - y_pred) / y_test)) * 100)\n",
        "\n",
        "smedape = (np.median(2 * np.abs(y_test - y_pred) / (np.abs(y_test) + np.abs(y_pred))) * 100)\n",
        "\n",
        "print(f'RMSE: {rmse}')\n",
        "print(f'MAE: {mae}')\n",
        "print(f'Median Absolute Error: {medae}')\n",
        "print(f'R²: {r2}')\n",
        "print(f'Adjusted R²: {adjusted_r2}')\n",
        "print(f'MAPE: {mape}')\n",
        "print(f'sMAPE: {smape}')\n",
        "print(f'MedAPE: {medape}')\n",
        "print(f'sMedAPE: {smedape}')\n"
      ],
      "metadata": {
        "id": "qlomWsjg8dPG"
      },
      "execution_count": null,
      "outputs": []
    }
  ]
}