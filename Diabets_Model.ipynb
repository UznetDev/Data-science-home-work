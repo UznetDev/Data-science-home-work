{
  "nbformat": 4,
  "nbformat_minor": 0,
  "metadata": {
    "colab": {
      "provenance": [],
      "gpuType": "T4",
      "authorship_tag": "ABX9TyOY7s6dJsqhCGZvtvaC8WZu",
      "include_colab_link": true
    },
    "kernelspec": {
      "name": "python3",
      "display_name": "Python 3"
    },
    "language_info": {
      "name": "python"
    },
    "accelerator": "GPU"
  },
  "cells": [
    {
      "cell_type": "markdown",
      "metadata": {
        "id": "view-in-github",
        "colab_type": "text"
      },
      "source": [
        "<a href=\"https://colab.research.google.com/github/UznetDev/Data-science-home-work/blob/main/Diabets_Model.ipynb\" target=\"_parent\"><img src=\"https://colab.research.google.com/assets/colab-badge.svg\" alt=\"Open In Colab\"/></a>"
      ]
    },
    {
      "cell_type": "markdown",
      "source": [
        "## Import and install necessary model"
      ],
      "metadata": {
        "id": "026bajRXFDsP"
      }
    },
    {
      "cell_type": "code",
      "source": [
        "# !nvidia-smi"
      ],
      "metadata": {
        "id": "qmk4LSpuEao2"
      },
      "execution_count": 1,
      "outputs": []
    },
    {
      "cell_type": "code",
      "source": [
        "!pip install lightgbm --install-option=--gpu"
      ],
      "metadata": {
        "colab": {
          "base_uri": "https://localhost:8080/"
        },
        "id": "SUpyQ3qJEyEy",
        "outputId": "a486d967-677f-4ac3-c0f3-40296810fee6"
      },
      "execution_count": 2,
      "outputs": [
        {
          "output_type": "stream",
          "name": "stdout",
          "text": [
            "\n",
            "Usage:   \n",
            "  pip3 install [options] <requirement specifier> [package-index-options] ...\n",
            "  pip3 install [options] -r <requirements file> [package-index-options] ...\n",
            "  pip3 install [options] [-e] <vcs project url> ...\n",
            "  pip3 install [options] [-e] <local project path> ...\n",
            "  pip3 install [options] <archive url/path> ...\n",
            "\n",
            "no such option: --install-option\n"
          ]
        }
      ]
    },
    {
      "cell_type": "code",
      "source": [
        "!pip install catboost"
      ],
      "metadata": {
        "colab": {
          "base_uri": "https://localhost:8080/"
        },
        "id": "pFW4Z-uxEfsI",
        "outputId": "0e719021-a975-42a4-bfa3-d342782d01f2"
      },
      "execution_count": 3,
      "outputs": [
        {
          "output_type": "stream",
          "name": "stdout",
          "text": [
            "Collecting catboost\n",
            "  Downloading catboost-1.2.7-cp310-cp310-manylinux2014_x86_64.whl.metadata (1.2 kB)\n",
            "Requirement already satisfied: graphviz in /usr/local/lib/python3.10/dist-packages (from catboost) (0.20.3)\n",
            "Requirement already satisfied: matplotlib in /usr/local/lib/python3.10/dist-packages (from catboost) (3.8.0)\n",
            "Requirement already satisfied: numpy<2.0,>=1.16.0 in /usr/local/lib/python3.10/dist-packages (from catboost) (1.26.4)\n",
            "Requirement already satisfied: pandas>=0.24 in /usr/local/lib/python3.10/dist-packages (from catboost) (2.2.2)\n",
            "Requirement already satisfied: scipy in /usr/local/lib/python3.10/dist-packages (from catboost) (1.13.1)\n",
            "Requirement already satisfied: plotly in /usr/local/lib/python3.10/dist-packages (from catboost) (5.24.1)\n",
            "Requirement already satisfied: six in /usr/local/lib/python3.10/dist-packages (from catboost) (1.16.0)\n",
            "Requirement already satisfied: python-dateutil>=2.8.2 in /usr/local/lib/python3.10/dist-packages (from pandas>=0.24->catboost) (2.8.2)\n",
            "Requirement already satisfied: pytz>=2020.1 in /usr/local/lib/python3.10/dist-packages (from pandas>=0.24->catboost) (2024.2)\n",
            "Requirement already satisfied: tzdata>=2022.7 in /usr/local/lib/python3.10/dist-packages (from pandas>=0.24->catboost) (2024.2)\n",
            "Requirement already satisfied: contourpy>=1.0.1 in /usr/local/lib/python3.10/dist-packages (from matplotlib->catboost) (1.3.1)\n",
            "Requirement already satisfied: cycler>=0.10 in /usr/local/lib/python3.10/dist-packages (from matplotlib->catboost) (0.12.1)\n",
            "Requirement already satisfied: fonttools>=4.22.0 in /usr/local/lib/python3.10/dist-packages (from matplotlib->catboost) (4.54.1)\n",
            "Requirement already satisfied: kiwisolver>=1.0.1 in /usr/local/lib/python3.10/dist-packages (from matplotlib->catboost) (1.4.7)\n",
            "Requirement already satisfied: packaging>=20.0 in /usr/local/lib/python3.10/dist-packages (from matplotlib->catboost) (24.2)\n",
            "Requirement already satisfied: pillow>=6.2.0 in /usr/local/lib/python3.10/dist-packages (from matplotlib->catboost) (11.0.0)\n",
            "Requirement already satisfied: pyparsing>=2.3.1 in /usr/local/lib/python3.10/dist-packages (from matplotlib->catboost) (3.2.0)\n",
            "Requirement already satisfied: tenacity>=6.2.0 in /usr/local/lib/python3.10/dist-packages (from plotly->catboost) (9.0.0)\n",
            "Downloading catboost-1.2.7-cp310-cp310-manylinux2014_x86_64.whl (98.7 MB)\n",
            "\u001b[2K   \u001b[90m━━━━━━━━━━━━━━━━━━━━━━━━━━━━━━━━━━━━━━━━\u001b[0m \u001b[32m98.7/98.7 MB\u001b[0m \u001b[31m9.6 MB/s\u001b[0m eta \u001b[36m0:00:00\u001b[0m\n",
            "\u001b[?25hInstalling collected packages: catboost\n",
            "Successfully installed catboost-1.2.7\n"
          ]
        }
      ]
    },
    {
      "cell_type": "code",
      "source": [
        "!pip install dill"
      ],
      "metadata": {
        "colab": {
          "base_uri": "https://localhost:8080/"
        },
        "id": "_SkqgqNmE3iN",
        "outputId": "12fe731b-0ca2-4702-91bf-49f3899bc659"
      },
      "execution_count": 4,
      "outputs": [
        {
          "output_type": "stream",
          "name": "stdout",
          "text": [
            "Collecting dill\n",
            "  Downloading dill-0.3.9-py3-none-any.whl.metadata (10 kB)\n",
            "Downloading dill-0.3.9-py3-none-any.whl (119 kB)\n",
            "\u001b[?25l   \u001b[90m━━━━━━━━━━━━━━━━━━━━━━━━━━━━━━━━━━━━━━━━\u001b[0m \u001b[32m0.0/119.4 kB\u001b[0m \u001b[31m?\u001b[0m eta \u001b[36m-:--:--\u001b[0m\r\u001b[2K   \u001b[90m━━━━━━━━━━━━━━━━━━━━━━━━━━━━━━━━━━━━━━━━\u001b[0m \u001b[32m119.4/119.4 kB\u001b[0m \u001b[31m9.6 MB/s\u001b[0m eta \u001b[36m0:00:00\u001b[0m\n",
            "\u001b[?25hInstalling collected packages: dill\n",
            "Successfully installed dill-0.3.9\n"
          ]
        }
      ]
    },
    {
      "cell_type": "code",
      "execution_count": 5,
      "metadata": {
        "colab": {
          "base_uri": "https://localhost:8080/"
        },
        "id": "xmgLMhMCELpK",
        "outputId": "f6ecd7c7-f4fe-4a64-bae9-67c676b6cf84"
      },
      "outputs": [
        {
          "output_type": "stream",
          "name": "stderr",
          "text": [
            "/usr/local/lib/python3.10/dist-packages/dask/dataframe/__init__.py:42: FutureWarning: \n",
            "Dask dataframe query planning is disabled because dask-expr is not installed.\n",
            "\n",
            "You can install it with `pip install dask[dataframe]` or `conda install dask`.\n",
            "This will raise in a future version.\n",
            "\n",
            "  warnings.warn(msg, FutureWarning)\n"
          ]
        }
      ],
      "source": [
        "import pandas as pd\n",
        "import numpy as np\n",
        "from sklearn.model_selection import train_test_split, cross_val_score, StratifiedKFold\n",
        "from sklearn.metrics import mean_absolute_error, mean_squared_error, r2_score\n",
        "from sklearn.pipeline import Pipeline\n",
        "from sklearn.base import BaseEstimator, TransformerMixin\n",
        "from sklearn.inspection import permutation_importance\n",
        "from sklearn.linear_model import LogisticRegression\n",
        "from sklearn.ensemble import RandomForestClassifier, GradientBoostingClassifier, StackingClassifier\n",
        "from catboost import CatBoostClassifier, Pool\n",
        "from sklearn.preprocessing import StandardScaler, PolynomialFeatures\n",
        "from sklearn.pipeline import Pipeline\n",
        "from lightgbm import LGBMClassifier\n",
        "from xgboost import XGBClassifier\n",
        "from sklearn.impute import SimpleImputer\n",
        "import joblib\n",
        "import dill as pickle\n",
        "import joblib\n",
        "import matplotlib.pyplot as plt\n",
        "import seaborn as sns"
      ]
    },
    {
      "cell_type": "markdown",
      "source": [
        "## Train dataset"
      ],
      "metadata": {
        "id": "pcjGVpfyFIKI"
      }
    },
    {
      "cell_type": "code",
      "source": [
        "df = pd.read_csv('/content/diabetes.csv')\n",
        "df.head()"
      ],
      "metadata": {
        "colab": {
          "base_uri": "https://localhost:8080/",
          "height": 0
        },
        "id": "kY_bnjLhFUo2",
        "outputId": "2281afc0-e16f-459c-b651-c6c813b0d856"
      },
      "execution_count": 6,
      "outputs": [
        {
          "output_type": "execute_result",
          "data": {
            "text/plain": [
              "   Pregnancies  Glucose  BloodPressure  SkinThickness  Insulin   BMI  \\\n",
              "0            6      148             72             35        0  33.6   \n",
              "1            1       85             66             29        0  26.6   \n",
              "2            8      183             64              0        0  23.3   \n",
              "3            1       89             66             23       94  28.1   \n",
              "4            0      137             40             35      168  43.1   \n",
              "\n",
              "   DiabetesPedigreeFunction  Age  Outcome  \n",
              "0                     0.627   50        1  \n",
              "1                     0.351   31        0  \n",
              "2                     0.672   32        1  \n",
              "3                     0.167   21        0  \n",
              "4                     2.288   33        1  "
            ],
            "text/html": [
              "\n",
              "  <div id=\"df-0f0d69b9-47bc-4b20-a70e-9fca2715a2cd\" class=\"colab-df-container\">\n",
              "    <div>\n",
              "<style scoped>\n",
              "    .dataframe tbody tr th:only-of-type {\n",
              "        vertical-align: middle;\n",
              "    }\n",
              "\n",
              "    .dataframe tbody tr th {\n",
              "        vertical-align: top;\n",
              "    }\n",
              "\n",
              "    .dataframe thead th {\n",
              "        text-align: right;\n",
              "    }\n",
              "</style>\n",
              "<table border=\"1\" class=\"dataframe\">\n",
              "  <thead>\n",
              "    <tr style=\"text-align: right;\">\n",
              "      <th></th>\n",
              "      <th>Pregnancies</th>\n",
              "      <th>Glucose</th>\n",
              "      <th>BloodPressure</th>\n",
              "      <th>SkinThickness</th>\n",
              "      <th>Insulin</th>\n",
              "      <th>BMI</th>\n",
              "      <th>DiabetesPedigreeFunction</th>\n",
              "      <th>Age</th>\n",
              "      <th>Outcome</th>\n",
              "    </tr>\n",
              "  </thead>\n",
              "  <tbody>\n",
              "    <tr>\n",
              "      <th>0</th>\n",
              "      <td>6</td>\n",
              "      <td>148</td>\n",
              "      <td>72</td>\n",
              "      <td>35</td>\n",
              "      <td>0</td>\n",
              "      <td>33.6</td>\n",
              "      <td>0.627</td>\n",
              "      <td>50</td>\n",
              "      <td>1</td>\n",
              "    </tr>\n",
              "    <tr>\n",
              "      <th>1</th>\n",
              "      <td>1</td>\n",
              "      <td>85</td>\n",
              "      <td>66</td>\n",
              "      <td>29</td>\n",
              "      <td>0</td>\n",
              "      <td>26.6</td>\n",
              "      <td>0.351</td>\n",
              "      <td>31</td>\n",
              "      <td>0</td>\n",
              "    </tr>\n",
              "    <tr>\n",
              "      <th>2</th>\n",
              "      <td>8</td>\n",
              "      <td>183</td>\n",
              "      <td>64</td>\n",
              "      <td>0</td>\n",
              "      <td>0</td>\n",
              "      <td>23.3</td>\n",
              "      <td>0.672</td>\n",
              "      <td>32</td>\n",
              "      <td>1</td>\n",
              "    </tr>\n",
              "    <tr>\n",
              "      <th>3</th>\n",
              "      <td>1</td>\n",
              "      <td>89</td>\n",
              "      <td>66</td>\n",
              "      <td>23</td>\n",
              "      <td>94</td>\n",
              "      <td>28.1</td>\n",
              "      <td>0.167</td>\n",
              "      <td>21</td>\n",
              "      <td>0</td>\n",
              "    </tr>\n",
              "    <tr>\n",
              "      <th>4</th>\n",
              "      <td>0</td>\n",
              "      <td>137</td>\n",
              "      <td>40</td>\n",
              "      <td>35</td>\n",
              "      <td>168</td>\n",
              "      <td>43.1</td>\n",
              "      <td>2.288</td>\n",
              "      <td>33</td>\n",
              "      <td>1</td>\n",
              "    </tr>\n",
              "  </tbody>\n",
              "</table>\n",
              "</div>\n",
              "    <div class=\"colab-df-buttons\">\n",
              "\n",
              "  <div class=\"colab-df-container\">\n",
              "    <button class=\"colab-df-convert\" onclick=\"convertToInteractive('df-0f0d69b9-47bc-4b20-a70e-9fca2715a2cd')\"\n",
              "            title=\"Convert this dataframe to an interactive table.\"\n",
              "            style=\"display:none;\">\n",
              "\n",
              "  <svg xmlns=\"http://www.w3.org/2000/svg\" height=\"24px\" viewBox=\"0 -960 960 960\">\n",
              "    <path d=\"M120-120v-720h720v720H120Zm60-500h600v-160H180v160Zm220 220h160v-160H400v160Zm0 220h160v-160H400v160ZM180-400h160v-160H180v160Zm440 0h160v-160H620v160ZM180-180h160v-160H180v160Zm440 0h160v-160H620v160Z\"/>\n",
              "  </svg>\n",
              "    </button>\n",
              "\n",
              "  <style>\n",
              "    .colab-df-container {\n",
              "      display:flex;\n",
              "      gap: 12px;\n",
              "    }\n",
              "\n",
              "    .colab-df-convert {\n",
              "      background-color: #E8F0FE;\n",
              "      border: none;\n",
              "      border-radius: 50%;\n",
              "      cursor: pointer;\n",
              "      display: none;\n",
              "      fill: #1967D2;\n",
              "      height: 32px;\n",
              "      padding: 0 0 0 0;\n",
              "      width: 32px;\n",
              "    }\n",
              "\n",
              "    .colab-df-convert:hover {\n",
              "      background-color: #E2EBFA;\n",
              "      box-shadow: 0px 1px 2px rgba(60, 64, 67, 0.3), 0px 1px 3px 1px rgba(60, 64, 67, 0.15);\n",
              "      fill: #174EA6;\n",
              "    }\n",
              "\n",
              "    .colab-df-buttons div {\n",
              "      margin-bottom: 4px;\n",
              "    }\n",
              "\n",
              "    [theme=dark] .colab-df-convert {\n",
              "      background-color: #3B4455;\n",
              "      fill: #D2E3FC;\n",
              "    }\n",
              "\n",
              "    [theme=dark] .colab-df-convert:hover {\n",
              "      background-color: #434B5C;\n",
              "      box-shadow: 0px 1px 3px 1px rgba(0, 0, 0, 0.15);\n",
              "      filter: drop-shadow(0px 1px 2px rgba(0, 0, 0, 0.3));\n",
              "      fill: #FFFFFF;\n",
              "    }\n",
              "  </style>\n",
              "\n",
              "    <script>\n",
              "      const buttonEl =\n",
              "        document.querySelector('#df-0f0d69b9-47bc-4b20-a70e-9fca2715a2cd button.colab-df-convert');\n",
              "      buttonEl.style.display =\n",
              "        google.colab.kernel.accessAllowed ? 'block' : 'none';\n",
              "\n",
              "      async function convertToInteractive(key) {\n",
              "        const element = document.querySelector('#df-0f0d69b9-47bc-4b20-a70e-9fca2715a2cd');\n",
              "        const dataTable =\n",
              "          await google.colab.kernel.invokeFunction('convertToInteractive',\n",
              "                                                    [key], {});\n",
              "        if (!dataTable) return;\n",
              "\n",
              "        const docLinkHtml = 'Like what you see? Visit the ' +\n",
              "          '<a target=\"_blank\" href=https://colab.research.google.com/notebooks/data_table.ipynb>data table notebook</a>'\n",
              "          + ' to learn more about interactive tables.';\n",
              "        element.innerHTML = '';\n",
              "        dataTable['output_type'] = 'display_data';\n",
              "        await google.colab.output.renderOutput(dataTable, element);\n",
              "        const docLink = document.createElement('div');\n",
              "        docLink.innerHTML = docLinkHtml;\n",
              "        element.appendChild(docLink);\n",
              "      }\n",
              "    </script>\n",
              "  </div>\n",
              "\n",
              "\n",
              "<div id=\"df-1515b140-17d5-4027-a18b-1a80f6608d93\">\n",
              "  <button class=\"colab-df-quickchart\" onclick=\"quickchart('df-1515b140-17d5-4027-a18b-1a80f6608d93')\"\n",
              "            title=\"Suggest charts\"\n",
              "            style=\"display:none;\">\n",
              "\n",
              "<svg xmlns=\"http://www.w3.org/2000/svg\" height=\"24px\"viewBox=\"0 0 24 24\"\n",
              "     width=\"24px\">\n",
              "    <g>\n",
              "        <path d=\"M19 3H5c-1.1 0-2 .9-2 2v14c0 1.1.9 2 2 2h14c1.1 0 2-.9 2-2V5c0-1.1-.9-2-2-2zM9 17H7v-7h2v7zm4 0h-2V7h2v10zm4 0h-2v-4h2v4z\"/>\n",
              "    </g>\n",
              "</svg>\n",
              "  </button>\n",
              "\n",
              "<style>\n",
              "  .colab-df-quickchart {\n",
              "      --bg-color: #E8F0FE;\n",
              "      --fill-color: #1967D2;\n",
              "      --hover-bg-color: #E2EBFA;\n",
              "      --hover-fill-color: #174EA6;\n",
              "      --disabled-fill-color: #AAA;\n",
              "      --disabled-bg-color: #DDD;\n",
              "  }\n",
              "\n",
              "  [theme=dark] .colab-df-quickchart {\n",
              "      --bg-color: #3B4455;\n",
              "      --fill-color: #D2E3FC;\n",
              "      --hover-bg-color: #434B5C;\n",
              "      --hover-fill-color: #FFFFFF;\n",
              "      --disabled-bg-color: #3B4455;\n",
              "      --disabled-fill-color: #666;\n",
              "  }\n",
              "\n",
              "  .colab-df-quickchart {\n",
              "    background-color: var(--bg-color);\n",
              "    border: none;\n",
              "    border-radius: 50%;\n",
              "    cursor: pointer;\n",
              "    display: none;\n",
              "    fill: var(--fill-color);\n",
              "    height: 32px;\n",
              "    padding: 0;\n",
              "    width: 32px;\n",
              "  }\n",
              "\n",
              "  .colab-df-quickchart:hover {\n",
              "    background-color: var(--hover-bg-color);\n",
              "    box-shadow: 0 1px 2px rgba(60, 64, 67, 0.3), 0 1px 3px 1px rgba(60, 64, 67, 0.15);\n",
              "    fill: var(--button-hover-fill-color);\n",
              "  }\n",
              "\n",
              "  .colab-df-quickchart-complete:disabled,\n",
              "  .colab-df-quickchart-complete:disabled:hover {\n",
              "    background-color: var(--disabled-bg-color);\n",
              "    fill: var(--disabled-fill-color);\n",
              "    box-shadow: none;\n",
              "  }\n",
              "\n",
              "  .colab-df-spinner {\n",
              "    border: 2px solid var(--fill-color);\n",
              "    border-color: transparent;\n",
              "    border-bottom-color: var(--fill-color);\n",
              "    animation:\n",
              "      spin 1s steps(1) infinite;\n",
              "  }\n",
              "\n",
              "  @keyframes spin {\n",
              "    0% {\n",
              "      border-color: transparent;\n",
              "      border-bottom-color: var(--fill-color);\n",
              "      border-left-color: var(--fill-color);\n",
              "    }\n",
              "    20% {\n",
              "      border-color: transparent;\n",
              "      border-left-color: var(--fill-color);\n",
              "      border-top-color: var(--fill-color);\n",
              "    }\n",
              "    30% {\n",
              "      border-color: transparent;\n",
              "      border-left-color: var(--fill-color);\n",
              "      border-top-color: var(--fill-color);\n",
              "      border-right-color: var(--fill-color);\n",
              "    }\n",
              "    40% {\n",
              "      border-color: transparent;\n",
              "      border-right-color: var(--fill-color);\n",
              "      border-top-color: var(--fill-color);\n",
              "    }\n",
              "    60% {\n",
              "      border-color: transparent;\n",
              "      border-right-color: var(--fill-color);\n",
              "    }\n",
              "    80% {\n",
              "      border-color: transparent;\n",
              "      border-right-color: var(--fill-color);\n",
              "      border-bottom-color: var(--fill-color);\n",
              "    }\n",
              "    90% {\n",
              "      border-color: transparent;\n",
              "      border-bottom-color: var(--fill-color);\n",
              "    }\n",
              "  }\n",
              "</style>\n",
              "\n",
              "  <script>\n",
              "    async function quickchart(key) {\n",
              "      const quickchartButtonEl =\n",
              "        document.querySelector('#' + key + ' button');\n",
              "      quickchartButtonEl.disabled = true;  // To prevent multiple clicks.\n",
              "      quickchartButtonEl.classList.add('colab-df-spinner');\n",
              "      try {\n",
              "        const charts = await google.colab.kernel.invokeFunction(\n",
              "            'suggestCharts', [key], {});\n",
              "      } catch (error) {\n",
              "        console.error('Error during call to suggestCharts:', error);\n",
              "      }\n",
              "      quickchartButtonEl.classList.remove('colab-df-spinner');\n",
              "      quickchartButtonEl.classList.add('colab-df-quickchart-complete');\n",
              "    }\n",
              "    (() => {\n",
              "      let quickchartButtonEl =\n",
              "        document.querySelector('#df-1515b140-17d5-4027-a18b-1a80f6608d93 button');\n",
              "      quickchartButtonEl.style.display =\n",
              "        google.colab.kernel.accessAllowed ? 'block' : 'none';\n",
              "    })();\n",
              "  </script>\n",
              "</div>\n",
              "\n",
              "    </div>\n",
              "  </div>\n"
            ],
            "application/vnd.google.colaboratory.intrinsic+json": {
              "type": "dataframe",
              "variable_name": "df",
              "summary": "{\n  \"name\": \"df\",\n  \"rows\": 768,\n  \"fields\": [\n    {\n      \"column\": \"Pregnancies\",\n      \"properties\": {\n        \"dtype\": \"number\",\n        \"std\": 3,\n        \"min\": 0,\n        \"max\": 17,\n        \"num_unique_values\": 17,\n        \"samples\": [\n          6,\n          1,\n          3\n        ],\n        \"semantic_type\": \"\",\n        \"description\": \"\"\n      }\n    },\n    {\n      \"column\": \"Glucose\",\n      \"properties\": {\n        \"dtype\": \"number\",\n        \"std\": 31,\n        \"min\": 0,\n        \"max\": 199,\n        \"num_unique_values\": 136,\n        \"samples\": [\n          151,\n          101,\n          112\n        ],\n        \"semantic_type\": \"\",\n        \"description\": \"\"\n      }\n    },\n    {\n      \"column\": \"BloodPressure\",\n      \"properties\": {\n        \"dtype\": \"number\",\n        \"std\": 19,\n        \"min\": 0,\n        \"max\": 122,\n        \"num_unique_values\": 47,\n        \"samples\": [\n          86,\n          46,\n          85\n        ],\n        \"semantic_type\": \"\",\n        \"description\": \"\"\n      }\n    },\n    {\n      \"column\": \"SkinThickness\",\n      \"properties\": {\n        \"dtype\": \"number\",\n        \"std\": 15,\n        \"min\": 0,\n        \"max\": 99,\n        \"num_unique_values\": 51,\n        \"samples\": [\n          7,\n          12,\n          48\n        ],\n        \"semantic_type\": \"\",\n        \"description\": \"\"\n      }\n    },\n    {\n      \"column\": \"Insulin\",\n      \"properties\": {\n        \"dtype\": \"number\",\n        \"std\": 115,\n        \"min\": 0,\n        \"max\": 846,\n        \"num_unique_values\": 186,\n        \"samples\": [\n          52,\n          41,\n          183\n        ],\n        \"semantic_type\": \"\",\n        \"description\": \"\"\n      }\n    },\n    {\n      \"column\": \"BMI\",\n      \"properties\": {\n        \"dtype\": \"number\",\n        \"std\": 7.8841603203754405,\n        \"min\": 0.0,\n        \"max\": 67.1,\n        \"num_unique_values\": 248,\n        \"samples\": [\n          19.9,\n          31.0,\n          38.1\n        ],\n        \"semantic_type\": \"\",\n        \"description\": \"\"\n      }\n    },\n    {\n      \"column\": \"DiabetesPedigreeFunction\",\n      \"properties\": {\n        \"dtype\": \"number\",\n        \"std\": 0.33132859501277484,\n        \"min\": 0.078,\n        \"max\": 2.42,\n        \"num_unique_values\": 517,\n        \"samples\": [\n          1.731,\n          0.426,\n          0.138\n        ],\n        \"semantic_type\": \"\",\n        \"description\": \"\"\n      }\n    },\n    {\n      \"column\": \"Age\",\n      \"properties\": {\n        \"dtype\": \"number\",\n        \"std\": 11,\n        \"min\": 21,\n        \"max\": 81,\n        \"num_unique_values\": 52,\n        \"samples\": [\n          60,\n          47,\n          72\n        ],\n        \"semantic_type\": \"\",\n        \"description\": \"\"\n      }\n    },\n    {\n      \"column\": \"Outcome\",\n      \"properties\": {\n        \"dtype\": \"number\",\n        \"std\": 0,\n        \"min\": 0,\n        \"max\": 1,\n        \"num_unique_values\": 2,\n        \"samples\": [\n          0,\n          1\n        ],\n        \"semantic_type\": \"\",\n        \"description\": \"\"\n      }\n    }\n  ]\n}"
            }
          },
          "metadata": {},
          "execution_count": 6
        }
      ]
    },
    {
      "cell_type": "markdown",
      "source": [
        "## Transformers"
      ],
      "metadata": {
        "id": "QCW7SV40GjgP"
      }
    },
    {
      "cell_type": "code",
      "source": [
        "class FeatureEngineering(BaseEstimator, TransformerMixin):\n",
        "    def __init__(self):\n",
        "        self.w = 0.00001\n",
        "\n",
        "    def fit(self, X, y=None):\n",
        "        return self\n",
        "\n",
        "    def transform(self, X):\n",
        "        data = X.copy()\n",
        "        data['Pregnancies_rank'] = data['Pregnancies'].rank()\n",
        "\n",
        "        data['AgeGroup'] = pd.cut(data['Age'], bins=[20, 30, 50, 100], labels=[1, 2, 3], right=False)\n",
        "        data['AgeGroup'] = pd.to_numeric(data['AgeGroup'], errors='coerce')\n",
        "        data['PregnancyRatio'] = data['Pregnancies'] / (data['Age'] + self.w)\n",
        "        data['BMICategory'] = pd.cut(data['BMI'], bins=[0, 18.5, 25, 30, 70],\n",
        "                                     labels=[-1, 0, 2, 3], right=False)\n",
        "        data['BMICategory'] = pd.to_numeric(data['BMICategory'], errors='coerce')\n",
        "        data['GlucoseCategory'] = pd.cut(data['Glucose'], bins=[0, 90, 140, 200],\n",
        "                                         labels=[-1, 0, 1], right=False)\n",
        "        data['GlucoseCategory'] = pd.to_numeric(data['GlucoseCategory'], errors='coerce')\n",
        "        data['RiskScore'] = (0.5 * data['Glucose'] +\n",
        "                             0.3 * data['BMI'] +\n",
        "                             0.2 * data['Age'])\n",
        "        data['InsulinEfficiency'] = ((data['Insulin'] + self.w) /\n",
        "                                     (data['Glucose'] + self.w)).fillna(0)\n",
        "        data['Glucose_BMI'] = (data['Glucose'] + self.w) / (data['BMI'] + self.w)\n",
        "        data['BMI_Age'] = data['BMI'] * data['Age']\n",
        "\n",
        "        return data\n",
        "\n",
        "\n",
        "class WoEEncoding(BaseEstimator, TransformerMixin):\n",
        "    def __init__(self):\n",
        "        self.feature_bins = {\n",
        "            'Pregnancies': [-np.inf, 1.7, 5.1, 8.5, np.inf],\n",
        "            'Glucose': [-np.inf, 90.6, 119.4, 159.2, np.inf],\n",
        "            'BMI': [-np.inf, 26.84, 38.26, np.inf],\n",
        "            'PregnancyRatio': [-np.inf, 0.0737, 0.221, np.inf],\n",
        "            'RiskScore': [-np.inf, 55.61, 77.51, 99.41, np.inf],\n",
        "            'BMI_Age': [-np.inf, 539.4, 1078.8, 1618.2, np.inf]\n",
        "        }\n",
        "        self.woe_mappings = {}\n",
        "\n",
        "    def fit(self, X, y):\n",
        "        y = pd.Series(y, name='target')\n",
        "\n",
        "        for feature, bins in self.feature_bins.items():\n",
        "            X[f'{feature}_cat'] = pd.cut(X[feature], bins=bins)\n",
        "            woe_df = self._calculate_woe(X, f'{feature}_cat', y)\n",
        "            self.woe_mappings[feature] = {\n",
        "                'woe': woe_df.set_index(f'{feature}_cat')['WOE'].to_dict(),\n",
        "                'rank': woe_df.set_index(f'{feature}_cat')['rank'].to_dict()\n",
        "            }\n",
        "\n",
        "        return self\n",
        "\n",
        "    def transform(self, X):\n",
        "        data = X.copy()\n",
        "        for feature in self.feature_bins.keys():\n",
        "            data[f'{feature}_cat'] = pd.cut(data[feature], bins=self.feature_bins[feature])\n",
        "            data[f'{feature}_woe'] = data[f'{feature}_cat'].map(self.woe_mappings[feature]['woe'])\n",
        "            data[f'{feature}_rank'] = data[f'{feature}_cat'].map(self.woe_mappings[feature]['rank'])\n",
        "            data[f'{feature}_woe'] = pd.to_numeric(data[f'{feature}_woe'], errors='coerce')\n",
        "            data[f'{feature}_rank'] = pd.to_numeric(data[f'{feature}_rank'], errors='coerce')\n",
        "            data.drop(columns=[f'{feature}_cat'], inplace=True)\n",
        "\n",
        "        return data\n",
        "\n",
        "    def _calculate_woe(self, data, feature_name, y):\n",
        "        data = data.copy()\n",
        "        data['target'] = y\n",
        "        grouped = data.groupby(feature_name, observed=False)['target'].value_counts().unstack(fill_value=0)\n",
        "\n",
        "        grouped = grouped.rename(columns={1: '# of events', 0: '# of non-events'})\n",
        "        grouped['Percentage events'] = grouped['# of events'] / grouped['# of events'].sum()\n",
        "        grouped['Percentage non-events'] = grouped['# of non-events'] / grouped['# of non-events'].sum()\n",
        "        grouped['WOE'] = np.log(grouped['Percentage events'] / grouped['Percentage non-events'])\n",
        "        grouped['rank'] = grouped['WOE'].rank()\n",
        "        return grouped.reset_index()"
      ],
      "metadata": {
        "id": "nYG-wauPG54I"
      },
      "execution_count": 44,
      "outputs": []
    },
    {
      "cell_type": "code",
      "source": [
        "class ColumnSelector(BaseEstimator, TransformerMixin):\n",
        "    def __init__(self, columns):\n",
        "        self.columns = columns\n",
        "\n",
        "    def fit(self, X, y=None):\n",
        "        return self\n",
        "\n",
        "    def transform(self, X):\n",
        "        return X[self.columns]"
      ],
      "metadata": {
        "id": "4nvqiQyDH_Xa"
      },
      "execution_count": 8,
      "outputs": []
    },
    {
      "cell_type": "markdown",
      "source": [
        "## Model"
      ],
      "metadata": {
        "id": "ax7R5-KUHhL3"
      }
    },
    {
      "cell_type": "code",
      "source": [
        "X = df.drop(columns=['Outcome'])\n",
        "y = df['Outcome']\n",
        "X_train, X_test, y_train, y_test = train_test_split(X, y, test_size=0.2, random_state=42, stratify=y)\n",
        "cv = StratifiedKFold(n_splits=5,\n",
        "                     shuffle=True,\n",
        "                     random_state=42)"
      ],
      "metadata": {
        "id": "zLkCifwnQx46"
      },
      "execution_count": 9,
      "outputs": []
    },
    {
      "cell_type": "code",
      "source": [
        "rf_col = ['Pregnancies', 'Glucose', 'BloodPressure', 'BMI', 'DiabetesPedigreeFunction',\n",
        "          'Age', 'PregnancyRatio', 'RiskScore', 'InsulinEfficiency', 'Glucose_BMI',\n",
        "          'BMI_Age', 'Glucose_rank', 'Glucose_woe', 'RiskScore_rank', 'RiskScore_woe']\n",
        "rf_model = Pipeline(\n",
        "    [('colum_selector', ColumnSelector(rf_col)),\n",
        "     ('rf_model', RandomForestClassifier(max_depth=6,\n",
        "                                      n_estimators=300,\n",
        "                                      criterion='entropy'))])\n",
        "\n",
        "gb_col = ['BMI', 'DiabetesPedigreeFunction', 'PregnancyRatio', 'RiskScore', 'Glucose_BMI', 'BMI_Age']\n",
        "gb_model = Pipeline(\n",
        "    [('colum_selector', ColumnSelector(gb_col)),\n",
        "     ('gb_model', GradientBoostingClassifier(\n",
        "              n_estimators=177,\n",
        "              learning_rate=0.03324793834648156,\n",
        "              max_depth=3,\n",
        "              min_samples_split=17,\n",
        "              min_samples_leaf=2,\n",
        "              max_features='sqrt',\n",
        "              subsample=0.5158427523434093,\n",
        "              min_impurity_decrease=0.03,\n",
        "              criterion='friedman_mse',\n",
        "              random_state=42\n",
        "      ))])\n",
        "\n",
        "lg_col = ['Pregnancies', 'BloodPressure', 'BMI', 'DiabetesPedigreeFunction', 'Age',\n",
        "          'Pregnancies_rank', 'AgeGroup', 'PregnancyRatio', 'BMICategory', 'GlucoseCategory',\n",
        "          'RiskScore', 'InsulinEfficiency', 'Pregnancies_woe', 'Glucose_rank', 'Glucose_woe',\n",
        "          'BMI_rank', 'BMI_woe', 'PregnancyRatio_rank', 'PregnancyRatio_woe', 'RiskScore_rank',\n",
        "          'RiskScore_woe', 'BMI_Age_rank', 'BMI_Age_woe']\n",
        "ln_model = Pipeline(\n",
        "    [('colum_selector', ColumnSelector(lg_col)),\n",
        "     ('scaler', StandardScaler()),\n",
        "     ('ln_model', LogisticRegression(max_iter=1000,\n",
        "                              penalty='l2',\n",
        "                              C=0.12165146592065838,\n",
        "                              solver='lbfgs'))])\n",
        "xgb_col = ['Pregnancies', 'BMI', 'RiskScore', 'BMI_Age']\n",
        "xgb_model = Pipeline(\n",
        "    [('colum_selector', ColumnSelector(xgb_col)),\n",
        "     ('xgb_model', XGBClassifier(\n",
        "            n_estimators=947,\n",
        "            max_depth=4,\n",
        "            learning_rate=0.016838244125398805,\n",
        "            subsample=0.780145921505157,\n",
        "            colsample_bytree=0.9314800015785268,\n",
        "            colsample_bylevel=0.5367494060666282,\n",
        "            colsample_bynode=0.5416300057586382,\n",
        "            min_child_weight=1,\n",
        "            gamma=3.249425146724733,\n",
        "            reg_alpha=0.05071259830380429,\n",
        "            reg_lambda=0.0006700960560036836,\n",
        "            scale_pos_weight=4.085968523187387,\n",
        "            random_state=42,\n",
        "            use_label_encoder=False,\n",
        "            tree_method='gpu_hist',\n",
        "            predictor='gpu_predictor'\n",
        "        ))])\n",
        "\n",
        "cat_gb_col = ['BMI', 'DiabetesPedigreeFunction', 'PregnancyRatio', 'RiskScore', 'Glucose_BMI', 'BMI_Age']\n",
        "catboost_model = Pipeline(\n",
        "    [\n",
        "        ('colum_selector', ColumnSelector(cat_gb_col)),\n",
        "        ('cat_model', CatBoostClassifier(\n",
        "            iterations=184,\n",
        "            learning_rate=0.024348893731335558,\n",
        "            depth=9,\n",
        "            l2_leaf_reg=1.6550796085362447,\n",
        "            border_count=207,\n",
        "            bagging_temperature=0.2639628599253254,\n",
        "            random_strength=6.501714632959864,\n",
        "            scale_pos_weight=1.8796468107471038,\n",
        "            # subsample=0.7680238761358753,\n",
        "            # bootstrap_type='Bernoulli',\n",
        "            task_type=\"GPU\",\n",
        "            devices='0',\n",
        "            loss_function='Logloss',\n",
        "            random_seed=42\n",
        "        ))\n",
        "    ]\n",
        ")\n",
        "\n",
        "lgb_col = ['BMI', 'DiabetesPedigreeFunction', 'PregnancyRatio', 'RiskScore', 'InsulinEfficiency', 'Glucose_BMI', 'BMI_Age']\n",
        "lgb_model = Pipeline(\n",
        "    [\n",
        "        ('colum_selector', ColumnSelector(lgb_col)),\n",
        "        ('lgb_model', LGBMClassifier(\n",
        "            n_estimators=20,\n",
        "            random_state=42,\n",
        "            learning_rate=0.005))\n",
        "    ])\n",
        "\n",
        "\n",
        "estemators = [\n",
        "    ('rf_model', rf_model),\n",
        "    # ('gb_model', gb_model),\n",
        "    # ('ln_model', ln_model), ---\n",
        "    # ('xgb_model', xgb_model), -----\n",
        "    # ('cat_model', catboost_model),\n",
        "    # ('lgb_model', lgb_model)\n",
        "]\n",
        "\n",
        "stacking_model = Pipeline(\n",
        "    [('feature_engineering', FeatureEngineering()),\n",
        "     ('woe_encoding', WoEEncoding()),\n",
        "     ('stacking', StackingClassifier(\n",
        "              estimators=estemators,\n",
        "              cv=cv,\n",
        "              final_estimator=RandomForestClassifier(max_depth=6,\n",
        "                                                    n_estimators=300,\n",
        "                                                    criterion='entropy'),\n",
        "    passthrough=True\n",
        "              ))]\n",
        ")\n",
        "cv_roc_auc = cross_val_score(stacking_model, X, y, cv=cv, scoring='roc_auc')"
      ],
      "metadata": {
        "id": "QicaQuNSHSou"
      },
      "execution_count": 49,
      "outputs": []
    },
    {
      "cell_type": "code",
      "source": [
        "cv_roc_auc.mean()"
      ],
      "metadata": {
        "colab": {
          "base_uri": "https://localhost:8080/"
        },
        "id": "6hRI6E-0HwSe",
        "outputId": "0f9255b0-e018-4a1f-ec82-1ab329a86cd8"
      },
      "execution_count": 50,
      "outputs": [
        {
          "output_type": "execute_result",
          "data": {
            "text/plain": [
              "0.8349706498951782"
            ]
          },
          "metadata": {},
          "execution_count": 50
        }
      ]
    },
    {
      "cell_type": "code",
      "source": [],
      "metadata": {
        "colab": {
          "base_uri": "https://localhost:8080/"
        },
        "id": "NTJsad6uSOHo",
        "outputId": "0c0aec3e-52c9-4f57-e52c-93ec9574e320"
      },
      "execution_count": 52,
      "outputs": [
        {
          "output_type": "execute_result",
          "data": {
            "text/plain": [
              "0.8432990915443745"
            ]
          },
          "metadata": {},
          "execution_count": 52
        }
      ]
    },
    {
      "cell_type": "code",
      "source": [],
      "metadata": {
        "id": "6EVqZWWmWSuQ"
      },
      "execution_count": null,
      "outputs": []
    }
  ]
}