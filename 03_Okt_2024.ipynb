{
  "nbformat": 4,
  "nbformat_minor": 0,
  "metadata": {
    "colab": {
      "provenance": [],
      "authorship_tag": "ABX9TyPdpVxgL7KhQCCrbry6oHU0",
      "include_colab_link": true
    },
    "kernelspec": {
      "name": "python3",
      "display_name": "Python 3"
    },
    "language_info": {
      "name": "python"
    }
  },
  "cells": [
    {
      "cell_type": "markdown",
      "metadata": {
        "id": "view-in-github",
        "colab_type": "text"
      },
      "source": [
        "<a href=\"https://colab.research.google.com/github/UznetDev/Data-science-home-work/blob/main/03_Okt_2024.ipynb\" target=\"_parent\"><img src=\"https://colab.research.google.com/assets/colab-badge.svg\" alt=\"Open In Colab\"/></a>"
      ]
    },
    {
      "cell_type": "code",
      "execution_count": 1,
      "metadata": {
        "id": "-g3cbFpjd5xA"
      },
      "outputs": [],
      "source": [
        "import numpy\n",
        "import pandas\n",
        "import warnings\n",
        "warnings.filterwarnings(\"ignore\")"
      ]
    },
    {
      "cell_type": "markdown",
      "source": [
        "Phi coefficient va Cramer's V uchun alohida faqat dataframe va 2 ta ustun qabul qiluvchi functsiyani yasash. Funktsiyalar uchun pandas va math kutubxonalaridan boshqalarni ishlatmaslik kerak. Tekshirish uchun bemalol tayyor funktsiyalardan foydalaninglar"
      ],
      "metadata": {
        "id": "QIaevtwsxB1q"
      }
    },
    {
      "cell_type": "code",
      "source": [],
      "metadata": {
        "id": "b7pmvVIrqhE6"
      },
      "execution_count": null,
      "outputs": []
    }
  ]
}