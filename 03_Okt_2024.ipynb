{
  "nbformat": 4,
  "nbformat_minor": 0,
  "metadata": {
    "colab": {
      "provenance": [],
      "authorship_tag": "ABX9TyOBcNgxXuewXgMq0yZhA3YA",
      "include_colab_link": true
    },
    "kernelspec": {
      "name": "python3",
      "display_name": "Python 3"
    },
    "language_info": {
      "name": "python"
    }
  },
  "cells": [
    {
      "cell_type": "markdown",
      "metadata": {
        "id": "view-in-github",
        "colab_type": "text"
      },
      "source": [
        "<a href=\"https://colab.research.google.com/github/UznetDev/Data-science-home-work/blob/main/03_Okt_2024.ipynb\" target=\"_parent\"><img src=\"https://colab.research.google.com/assets/colab-badge.svg\" alt=\"Open In Colab\"/></a>"
      ]
    },
    {
      "cell_type": "code",
      "execution_count": 19,
      "metadata": {
        "id": "-g3cbFpjd5xA"
      },
      "outputs": [],
      "source": [
        "import numpy as np\n",
        "import pandas as pd\n",
        "from scipy import stats\n",
        "import warnings\n",
        "warnings.filterwarnings(\"ignore\")"
      ]
    },
    {
      "cell_type": "markdown",
      "source": [
        "Phi coefficient va Cramer's V uchun alohida faqat dataframe va 2 ta ustun qabul qiluvchi functsiyani yasash. Funktsiyalar uchun pandas va math kutubxonalaridan boshqalarni ishlatmaslik kerak. Tekshirish uchun bemalol tayyor funktsiyalardan foydalaninglar"
      ],
      "metadata": {
        "id": "QIaevtwsxB1q"
      }
    },
    {
      "cell_type": "code",
      "source": [
        "n = 10000\n",
        "binary_data = np.random.randint(2, size=(n, 2))\n",
        "categories = np.random.choice([5, 8, 10], size=n)\n",
        "numerical_data = np.random.randint(10, 100, size=n)\n",
        "categorical_data = np.column_stack((categories, numerical_data))"
      ],
      "metadata": {
        "id": "b7pmvVIrqhE6"
      },
      "execution_count": 20,
      "outputs": []
    },
    {
      "cell_type": "code",
      "source": [
        "class Correlation:\n",
        "    def __init__(self,\n",
        "                 x: np.ndarray | pd.Series | pd.DataFrame,\n",
        "                 y: np.ndarray | pd.Series | pd.DataFrame,\n",
        "                 none=False):\n",
        "\n",
        "        self.x = self._check_input(x)\n",
        "        self.y = self._check_input(y)\n",
        "\n",
        "        check = ~np.isnan(self.x) & ~np.isnan(self.y)\n",
        "        self.x = self.x[check]\n",
        "        self.y = self.y[check]\n",
        "\n",
        "        if self.x.shape != self.y.shape:\n",
        "            raise ValueError(\"x and y must have the same shape\")\n",
        "\n",
        "        self.len = len(self.x)\n",
        "        self.mean_x = self._mean(self.x)\n",
        "        self.mean_y = self._mean(self.y)\n",
        "        self.variance_x = self._variance(self.x, self.mean_x)\n",
        "        self.variance_y = self._variance(self.y, self.mean_y)\n",
        "        self.std_x = np.sqrt(self.variance_x)\n",
        "        self.std_y = np.sqrt(self.variance_y)\n",
        "        self.covariance = self._covariance()\n",
        "        self.correlation = self._pearson_correlation()\n",
        "        self.pearson_correlation = self._pearson_correlation()\n",
        "        self.spearman_correlation = self._spearman_correlation()\n",
        "        self.contingency_table = self._get_contingency_table(self.x, self.y)\n",
        "        self._chi2_contingency = self._chi2_contingency()\n",
        "        self.cramers_v = self._cramers_v()\n",
        "        self.phi_coefficient = self._phi_coefficient()\n",
        "\n",
        "\n",
        "\n",
        "    def _check_input(self, data) -> float:\n",
        "        if isinstance(data, pd.DataFrame):\n",
        "            if data.shape[1] > 1:\n",
        "                print(f\"Only the first column is taken from the DataFrame: ({data.shape[1]})\")\n",
        "            data = data.iloc[:, 0]\n",
        "        return np.array(data)\n",
        "\n",
        "    def _mean(self, data) -> float:\n",
        "        return sum(data) / len(data)\n",
        "\n",
        "    def _variance(self, data, mean) -> float:\n",
        "        return sum((x - mean) ** 2 for x in data) / (len(data) - 1)\n",
        "\n",
        "    def _covariance(self) -> float:\n",
        "        c = sum((xi - self.mean_x) * (yi - self.mean_y) for xi, yi in zip(self.x, self.y)) \\\n",
        "            / (len(self.x) - 1)\n",
        "        return c\n",
        "\n",
        "    def _pearson_correlation(self) -> float:\n",
        "        return self.covariance / (self.std_x * self.std_y)\n",
        "\n",
        "    def _rank(self, data):\n",
        "        sort_value = sorted((val, i) for i, val in enumerate(data))\n",
        "        r = [0] * len(data)\n",
        "        i = 0\n",
        "        while i < len(sort_value):\n",
        "            y, k = sort_value[i]\n",
        "            same_value = [k]\n",
        "            j = i + 1\n",
        "            while j < len(sort_value) and sort_value[j][0] == y:\n",
        "                same_value.append(sort_value[j][1])\n",
        "                j += 1\n",
        "            avg = (i + 1 + j) / 2.0\n",
        "            for idx in same_value:\n",
        "                r[idx] = avg\n",
        "            i = j\n",
        "        return r\n",
        "\n",
        "    def _spearman_correlation(self) -> float:\n",
        "        x = self._rank(self.x)\n",
        "        y = self._rank(self.y)\n",
        "        mean_x = self._mean(x)\n",
        "        mean_y = self._mean(y)\n",
        "        v_x = self._variance(x, mean_x)\n",
        "        v_y = self._variance(y, mean_y)\n",
        "        std_x = np.sqrt(v_x)\n",
        "        std_y = np.sqrt(v_y)\n",
        "        return sum((xi - mean_x) * (yi - mean_y) for xi, yi in zip(x, y)) / (len(x) - 1) / (std_x * std_y)\n",
        "\n",
        "    def _get_contingency_table(self, x, y) -> np.array:\n",
        "        unique_x = np.unique(x)\n",
        "        unique_y = np.unique(y)\n",
        "        table = np.zeros((len(unique_x), len(unique_y)), dtype=int)\n",
        "        for i in range(len(x)):\n",
        "            row_idx = np.where(unique_x == x[i])[0][0]\n",
        "            col_idx = np.where(unique_y == y[i])[0][0]\n",
        "            table[row_idx, col_idx] += 1\n",
        "\n",
        "        return table\n",
        "    def _chi2_contingency(self) -> float:\n",
        "        n = np.sum(self.contingency_table)\n",
        "        ex = np.zeros_like(self.contingency_table, dtype=float)\n",
        "\n",
        "        for i in range(len(self.contingency_table)):\n",
        "            for j in range(len(self.contingency_table[i])):\n",
        "                ex[i, j] = (np.sum(self.contingency_table[i, :]) * np.sum(self.contingency_table[:, j])) / n\n",
        "        return np.sum(((self.contingency_table - ex) ** 2) / ex)\n",
        "\n",
        "    def _cramers_v(self) -> float:\n",
        "        return np.sqrt(self._chi2_contingency / (self.len * (min(self.contingency_table.shape) - 1)))\n",
        "\n",
        "    def _phi_coefficient(self) -> float:\n",
        "        if self.contingency_table.shape != (2, 2):\n",
        "            return \"Phi coefficient is only for binarry data\"\n",
        "        else:\n",
        "          return (self.contingency_table[0, 0] * self.contingency_table[1, 1] - \\\n",
        "                  self.contingency_table[0, 1] * self.contingency_table[1, 0]) / \\\n",
        "                 np.sqrt((self.contingency_table[0, :] * self.contingency_table[:, 1]).sum() * \\\n",
        "                         (self.contingency_table[0, :] * self.contingency_table[:, 0]).sum())\n",
        "\n",
        "    def __str__(self) -> str:\n",
        "        text = f\"\"\"\n",
        "        Correlation: {self.correlation}\n",
        "        Pearson correlation: {self.pearson_correlation}\n",
        "        Spearman correlation: {self.spearman_correlation}\n",
        "        Phi coefficient: {self.phi_coefficient}\n",
        "        Cramer's V: {self.cramers_v}\n",
        "        \"\"\"\n",
        "        return text\n",
        "\n",
        "    def __repr__(self) -> str:\n",
        "        return self.__str__()\n",
        "\n",
        "\n",
        "Correlation(binary_data[:, 0], binary_data[:, 1])"
      ],
      "metadata": {
        "colab": {
          "base_uri": "https://localhost:8080/"
        },
        "id": "Q5t5IBJzHb0O",
        "outputId": "27bd9c07-7489-446a-ec55-1630ed63404f"
      },
      "execution_count": 21,
      "outputs": [
        {
          "output_type": "execute_result",
          "data": {
            "text/plain": [
              "\n",
              "        Correlation: 0.017789395327598437\n",
              "        Pearson correlation: 0.017789395327598437\n",
              "        Spearman correlation: 0.017789395327595568\n",
              "        Phi coefficient: 0.03544833349950903\n",
              "        Cramer's V: 0.01778939532759555\n",
              "        "
            ]
          },
          "metadata": {},
          "execution_count": 21
        }
      ]
    },
    {
      "cell_type": "code",
      "source": [
        "Correlation(categorical_data[:, 0], categorical_data[:, 1])"
      ],
      "metadata": {
        "colab": {
          "base_uri": "https://localhost:8080/"
        },
        "id": "ElBkIkqGvJvG",
        "outputId": "2f11f070-b0e8-4a84-ee40-8f1455665846"
      },
      "execution_count": 22,
      "outputs": [
        {
          "output_type": "execute_result",
          "data": {
            "text/plain": [
              "\n",
              "        Correlation: -0.01204775686018055\n",
              "        Pearson correlation: -0.01204775686018055\n",
              "        Spearman correlation: -0.012394403285048514\n",
              "        Phi coefficient: Phi coefficient is only for binarry data\n",
              "        Cramer's V: 0.10355156776852849\n",
              "        "
            ]
          },
          "metadata": {},
          "execution_count": 22
        }
      ]
    }
  ]
}