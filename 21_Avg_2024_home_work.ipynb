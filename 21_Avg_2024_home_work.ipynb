{
  "nbformat": 4,
  "nbformat_minor": 0,
  "metadata": {
    "colab": {
      "provenance": [],
      "authorship_tag": "ABX9TyMpW1ph/8ExbLqxKWLDNwHV",
      "include_colab_link": true
    },
    "kernelspec": {
      "name": "python3",
      "display_name": "Python 3"
    },
    "language_info": {
      "name": "python"
    }
  },
  "cells": [
    {
      "cell_type": "markdown",
      "metadata": {
        "id": "view-in-github",
        "colab_type": "text"
      },
      "source": [
        "<a href=\"https://colab.research.google.com/github/UznetDev/Data-science-home-work/blob/main/21_Avg_2024_home_work.ipynb\" target=\"_parent\"><img src=\"https://colab.research.google.com/assets/colab-badge.svg\" alt=\"Open In Colab\"/></a>"
      ]
    },
    {
      "cell_type": "markdown",
      "source": [
        "# JOINS"
      ],
      "metadata": {
        "id": "WEOGZNGWQ6CA"
      }
    },
    {
      "cell_type": "code",
      "execution_count": 1,
      "metadata": {
        "id": "nm-zHb9MNb1u"
      },
      "outputs": [],
      "source": [
        "import pandas as pd"
      ]
    },
    {
      "cell_type": "code",
      "source": [
        "# Set-up\n",
        "%load_ext sql\n",
        "%sql sqlite://"
      ],
      "metadata": {
        "id": "p3FYTYJHNh6C"
      },
      "execution_count": 2,
      "outputs": []
    },
    {
      "cell_type": "markdown",
      "source": [
        "## Load date"
      ],
      "metadata": {
        "id": "rgSfVa5MkQDh"
      }
    },
    {
      "cell_type": "code",
      "source": [
        "monarchs = pd.read_csv('monarchs.csv')\n",
        "presidents = pd.read_csv('presidents.csv')\n",
        "prime_minister_terms = pd.read_csv('prime_minister_terms.csv')\n",
        "prime_ministers = pd.read_csv('prime_ministers.csv')\n",
        "states = pd.read_csv('states.csv')"
      ],
      "metadata": {
        "id": "VrX542IrOc5z"
      },
      "execution_count": 3,
      "outputs": []
    },
    {
      "cell_type": "code",
      "source": [
        "%sql DROP TABLE IF EXISTS monarchs;\n",
        "%sql --persist monarchs\n",
        "\n",
        "%sql DROP TABLE IF EXISTS presidents;\n",
        "%sql --persist presidents\n",
        "\n",
        "%sql DROP TABLE IF EXISTS prime_minister_terms;\n",
        "%sql --persist prime_minister_terms\n",
        "\n",
        "%sql DROP TABLE IF EXISTS prime_ministers;\n",
        "%sql --persist prime_ministers\n",
        "\n",
        "%sql DROP TABLE IF EXISTS states;\n",
        "%sql --persist states"
      ],
      "metadata": {
        "colab": {
          "base_uri": "https://localhost:8080/",
          "height": 296
        },
        "id": "AVjtoEzAOv4d",
        "outputId": "517d2b98-a2fa-4200-b5e4-7c94902ce56a"
      },
      "execution_count": 4,
      "outputs": [
        {
          "output_type": "stream",
          "name": "stdout",
          "text": [
            " * sqlite://\n",
            "Done.\n",
            " * sqlite://\n",
            " * sqlite://\n",
            "Done.\n",
            " * sqlite://\n",
            " * sqlite://\n",
            "Done.\n",
            " * sqlite://\n",
            " * sqlite://\n",
            "Done.\n",
            " * sqlite://\n",
            " * sqlite://\n",
            "Done.\n",
            " * sqlite://\n"
          ]
        },
        {
          "output_type": "execute_result",
          "data": {
            "text/plain": [
              "'Persisted states'"
            ],
            "application/vnd.google.colaboratory.intrinsic+json": {
              "type": "string"
            }
          },
          "metadata": {},
          "execution_count": 4
        }
      ]
    },
    {
      "cell_type": "markdown",
      "source": [
        "## monarchs"
      ],
      "metadata": {
        "id": "RB_tUyVqRpDk"
      }
    },
    {
      "cell_type": "code",
      "source": [
        "%%sql SELECT * FROM monarchs LIMIT 1;"
      ],
      "metadata": {
        "colab": {
          "base_uri": "https://localhost:8080/",
          "height": 96
        },
        "id": "JXnELm3uOj_W",
        "outputId": "63028c36-e1a9-46aa-d35c-950a5f8d81df"
      },
      "execution_count": 5,
      "outputs": [
        {
          "output_type": "stream",
          "name": "stdout",
          "text": [
            " * sqlite://\n",
            "Done.\n"
          ]
        },
        {
          "output_type": "execute_result",
          "data": {
            "text/plain": [
              "[(0, 'Brunei', 'Asia', 'Hassanal Bolkiah')]"
            ],
            "text/html": [
              "<table>\n",
              "    <thead>\n",
              "        <tr>\n",
              "            <th>index</th>\n",
              "            <th>country</th>\n",
              "            <th>continent</th>\n",
              "            <th>monarch</th>\n",
              "        </tr>\n",
              "    </thead>\n",
              "    <tbody>\n",
              "        <tr>\n",
              "            <td>0</td>\n",
              "            <td>Brunei</td>\n",
              "            <td>Asia</td>\n",
              "            <td>Hassanal Bolkiah</td>\n",
              "        </tr>\n",
              "    </tbody>\n",
              "</table>"
            ]
          },
          "metadata": {},
          "execution_count": 5
        }
      ]
    },
    {
      "cell_type": "markdown",
      "source": [
        "## presidents"
      ],
      "metadata": {
        "id": "nOeKUuPARnk4"
      }
    },
    {
      "cell_type": "code",
      "source": [
        "%%sql SELECT * FROM presidents LIMIT 1;"
      ],
      "metadata": {
        "colab": {
          "base_uri": "https://localhost:8080/",
          "height": 96
        },
        "id": "sv4jA4o0PMnM",
        "outputId": "a87e261e-e1ab-4be0-a3ef-fdb12fa82296"
      },
      "execution_count": 6,
      "outputs": [
        {
          "output_type": "stream",
          "name": "stdout",
          "text": [
            " * sqlite://\n",
            "Done.\n"
          ]
        },
        {
          "output_type": "execute_result",
          "data": {
            "text/plain": [
              "[(0, 'Egypt', 'Africa', 'Abdel Fattah el-Sisi')]"
            ],
            "text/html": [
              "<table>\n",
              "    <thead>\n",
              "        <tr>\n",
              "            <th>index</th>\n",
              "            <th>country</th>\n",
              "            <th>continent</th>\n",
              "            <th>president</th>\n",
              "        </tr>\n",
              "    </thead>\n",
              "    <tbody>\n",
              "        <tr>\n",
              "            <td>0</td>\n",
              "            <td>Egypt</td>\n",
              "            <td>Africa</td>\n",
              "            <td>Abdel Fattah el-Sisi</td>\n",
              "        </tr>\n",
              "    </tbody>\n",
              "</table>"
            ]
          },
          "metadata": {},
          "execution_count": 6
        }
      ]
    },
    {
      "cell_type": "markdown",
      "source": [
        "## prime_minister_terms"
      ],
      "metadata": {
        "id": "MQnIq3UVRlis"
      }
    },
    {
      "cell_type": "code",
      "source": [
        "%%sql SELECT * FROM prime_minister_terms LIMIT 1;"
      ],
      "metadata": {
        "colab": {
          "base_uri": "https://localhost:8080/",
          "height": 96
        },
        "id": "TiRT_QDYPPPm",
        "outputId": "5d04485c-3813-4fe6-c40b-53183752f04d"
      },
      "execution_count": 7,
      "outputs": [
        {
          "output_type": "stream",
          "name": "stdout",
          "text": [
            " * sqlite://\n",
            "Done.\n"
          ]
        },
        {
          "output_type": "execute_result",
          "data": {
            "text/plain": [
              "[(0, 'Mostafa Madbouly', 2018)]"
            ],
            "text/html": [
              "<table>\n",
              "    <thead>\n",
              "        <tr>\n",
              "            <th>index</th>\n",
              "            <th>prime_minister</th>\n",
              "            <th>pm_start</th>\n",
              "        </tr>\n",
              "    </thead>\n",
              "    <tbody>\n",
              "        <tr>\n",
              "            <td>0</td>\n",
              "            <td>Mostafa Madbouly</td>\n",
              "            <td>2018</td>\n",
              "        </tr>\n",
              "    </tbody>\n",
              "</table>"
            ]
          },
          "metadata": {},
          "execution_count": 7
        }
      ]
    },
    {
      "cell_type": "markdown",
      "source": [
        "## prime_ministers"
      ],
      "metadata": {
        "id": "Xqf2fEboRjk3"
      }
    },
    {
      "cell_type": "code",
      "source": [
        "%%sql SELECT * FROM prime_ministers LIMIT 1;"
      ],
      "metadata": {
        "colab": {
          "base_uri": "https://localhost:8080/",
          "height": 96
        },
        "id": "J6WhllexPQzS",
        "outputId": "afd5549e-410a-4fba-c874-f41865dd9f81"
      },
      "execution_count": 8,
      "outputs": [
        {
          "output_type": "stream",
          "name": "stdout",
          "text": [
            " * sqlite://\n",
            "Done.\n"
          ]
        },
        {
          "output_type": "execute_result",
          "data": {
            "text/plain": [
              "[(0, 'Egypt', 'Africa', 'Mostafa Madbouly')]"
            ],
            "text/html": [
              "<table>\n",
              "    <thead>\n",
              "        <tr>\n",
              "            <th>index</th>\n",
              "            <th>country</th>\n",
              "            <th>continent</th>\n",
              "            <th>prime_minister</th>\n",
              "        </tr>\n",
              "    </thead>\n",
              "    <tbody>\n",
              "        <tr>\n",
              "            <td>0</td>\n",
              "            <td>Egypt</td>\n",
              "            <td>Africa</td>\n",
              "            <td>Mostafa Madbouly</td>\n",
              "        </tr>\n",
              "    </tbody>\n",
              "</table>"
            ]
          },
          "metadata": {},
          "execution_count": 8
        }
      ]
    },
    {
      "cell_type": "markdown",
      "source": [
        "## states"
      ],
      "metadata": {
        "id": "YOtnJZAvRgQP"
      }
    },
    {
      "cell_type": "code",
      "source": [
        "%%sql SELECT * FROM states LIMIT 1;"
      ],
      "metadata": {
        "colab": {
          "base_uri": "https://localhost:8080/",
          "height": 96
        },
        "id": "x_cq_XCNPUn0",
        "outputId": "e2807c86-799c-4c38-f89c-8ba3361dd13e"
      },
      "execution_count": 9,
      "outputs": [
        {
          "output_type": "stream",
          "name": "stdout",
          "text": [
            " * sqlite://\n",
            "Done.\n"
          ]
        },
        {
          "output_type": "execute_result",
          "data": {
            "text/plain": [
              "[(0, 'Australia', 'Oceania', 1901)]"
            ],
            "text/html": [
              "<table>\n",
              "    <thead>\n",
              "        <tr>\n",
              "            <th>index</th>\n",
              "            <th>country</th>\n",
              "            <th>continent</th>\n",
              "            <th>indep_year</th>\n",
              "        </tr>\n",
              "    </thead>\n",
              "    <tbody>\n",
              "        <tr>\n",
              "            <td>0</td>\n",
              "            <td>Australia</td>\n",
              "            <td>Oceania</td>\n",
              "            <td>1901</td>\n",
              "        </tr>\n",
              "    </tbody>\n",
              "</table>"
            ]
          },
          "metadata": {},
          "execution_count": 9
        }
      ]
    },
    {
      "cell_type": "code",
      "source": [
        "%%sql SELECT *\n",
        "FROM presidents AS p\n",
        "INNER JOIN prime_ministers AS pt\n",
        "ON p.country = pt.country\n",
        "LIMIT 5;"
      ],
      "metadata": {
        "colab": {
          "base_uri": "https://localhost:8080/",
          "height": 159
        },
        "id": "wYNwtpLhP5u6",
        "outputId": "9eab027a-68d3-4b8c-bb86-58e980683215"
      },
      "execution_count": 10,
      "outputs": [
        {
          "output_type": "stream",
          "name": "stdout",
          "text": [
            " * sqlite://\n",
            "Done.\n"
          ]
        },
        {
          "output_type": "execute_result",
          "data": {
            "text/plain": [
              "[(0, 'Egypt', 'Africa', 'Abdel Fattah el-Sisi', 0, 'Egypt', 'Africa', 'Mostafa Madbouly'),\n",
              " (1, 'Portugal', 'Europe', 'Marcelo Rebelo de Sousa', 1, 'Portugal', 'Europe', 'António Costa'),\n",
              " (4, 'Pakistan', 'Asia', 'Arif Alvi', 2, 'Pakistan', 'Asia', 'Shehbaz Sharif'),\n",
              " (6, 'India', 'Asia', 'Ram Nath Kovind', 4, 'India', 'Asia', 'Narendra Modi')]"
            ],
            "text/html": [
              "<table>\n",
              "    <thead>\n",
              "        <tr>\n",
              "            <th>index</th>\n",
              "            <th>country</th>\n",
              "            <th>continent</th>\n",
              "            <th>president</th>\n",
              "            <th>index_1</th>\n",
              "            <th>country_1</th>\n",
              "            <th>continent_1</th>\n",
              "            <th>prime_minister</th>\n",
              "        </tr>\n",
              "    </thead>\n",
              "    <tbody>\n",
              "        <tr>\n",
              "            <td>0</td>\n",
              "            <td>Egypt</td>\n",
              "            <td>Africa</td>\n",
              "            <td>Abdel Fattah el-Sisi</td>\n",
              "            <td>0</td>\n",
              "            <td>Egypt</td>\n",
              "            <td>Africa</td>\n",
              "            <td>Mostafa Madbouly</td>\n",
              "        </tr>\n",
              "        <tr>\n",
              "            <td>1</td>\n",
              "            <td>Portugal</td>\n",
              "            <td>Europe</td>\n",
              "            <td>Marcelo Rebelo de Sousa</td>\n",
              "            <td>1</td>\n",
              "            <td>Portugal</td>\n",
              "            <td>Europe</td>\n",
              "            <td>António Costa</td>\n",
              "        </tr>\n",
              "        <tr>\n",
              "            <td>4</td>\n",
              "            <td>Pakistan</td>\n",
              "            <td>Asia</td>\n",
              "            <td>Arif Alvi</td>\n",
              "            <td>2</td>\n",
              "            <td>Pakistan</td>\n",
              "            <td>Asia</td>\n",
              "            <td>Shehbaz Sharif</td>\n",
              "        </tr>\n",
              "        <tr>\n",
              "            <td>6</td>\n",
              "            <td>India</td>\n",
              "            <td>Asia</td>\n",
              "            <td>Ram Nath Kovind</td>\n",
              "            <td>4</td>\n",
              "            <td>India</td>\n",
              "            <td>Asia</td>\n",
              "            <td>Narendra Modi</td>\n",
              "        </tr>\n",
              "    </tbody>\n",
              "</table>"
            ]
          },
          "metadata": {},
          "execution_count": 10
        }
      ]
    },
    {
      "cell_type": "code",
      "source": [
        "%%sql SELECT *\n",
        "FROM presidents AS p\n",
        "INNER JOIN prime_ministers AS pt\n",
        "USING(country)\n",
        "LIMIT 5;"
      ],
      "metadata": {
        "colab": {
          "base_uri": "https://localhost:8080/",
          "height": 159
        },
        "id": "9GXaLaSHSHLY",
        "outputId": "705ae3c7-0d9e-41fc-849c-b1f9cb30e5c6"
      },
      "execution_count": 11,
      "outputs": [
        {
          "output_type": "stream",
          "name": "stdout",
          "text": [
            " * sqlite://\n",
            "Done.\n"
          ]
        },
        {
          "output_type": "execute_result",
          "data": {
            "text/plain": [
              "[(0, 'Egypt', 'Africa', 'Abdel Fattah el-Sisi', 0, 'Africa', 'Mostafa Madbouly'),\n",
              " (1, 'Portugal', 'Europe', 'Marcelo Rebelo de Sousa', 1, 'Europe', 'António Costa'),\n",
              " (4, 'Pakistan', 'Asia', 'Arif Alvi', 2, 'Asia', 'Shehbaz Sharif'),\n",
              " (6, 'India', 'Asia', 'Ram Nath Kovind', 4, 'Asia', 'Narendra Modi')]"
            ],
            "text/html": [
              "<table>\n",
              "    <thead>\n",
              "        <tr>\n",
              "            <th>index</th>\n",
              "            <th>country</th>\n",
              "            <th>continent</th>\n",
              "            <th>president</th>\n",
              "            <th>index_1</th>\n",
              "            <th>continent_1</th>\n",
              "            <th>prime_minister</th>\n",
              "        </tr>\n",
              "    </thead>\n",
              "    <tbody>\n",
              "        <tr>\n",
              "            <td>0</td>\n",
              "            <td>Egypt</td>\n",
              "            <td>Africa</td>\n",
              "            <td>Abdel Fattah el-Sisi</td>\n",
              "            <td>0</td>\n",
              "            <td>Africa</td>\n",
              "            <td>Mostafa Madbouly</td>\n",
              "        </tr>\n",
              "        <tr>\n",
              "            <td>1</td>\n",
              "            <td>Portugal</td>\n",
              "            <td>Europe</td>\n",
              "            <td>Marcelo Rebelo de Sousa</td>\n",
              "            <td>1</td>\n",
              "            <td>Europe</td>\n",
              "            <td>António Costa</td>\n",
              "        </tr>\n",
              "        <tr>\n",
              "            <td>4</td>\n",
              "            <td>Pakistan</td>\n",
              "            <td>Asia</td>\n",
              "            <td>Arif Alvi</td>\n",
              "            <td>2</td>\n",
              "            <td>Asia</td>\n",
              "            <td>Shehbaz Sharif</td>\n",
              "        </tr>\n",
              "        <tr>\n",
              "            <td>6</td>\n",
              "            <td>India</td>\n",
              "            <td>Asia</td>\n",
              "            <td>Ram Nath Kovind</td>\n",
              "            <td>4</td>\n",
              "            <td>Asia</td>\n",
              "            <td>Narendra Modi</td>\n",
              "        </tr>\n",
              "    </tbody>\n",
              "</table>"
            ]
          },
          "metadata": {},
          "execution_count": 11
        }
      ]
    },
    {
      "cell_type": "code",
      "source": [
        "%%sql SELECT *\n",
        "FROM presidents AS p\n",
        "LEFT JOIN prime_ministers AS pt\n",
        "ON p.country = pt.country\n",
        "LIMIT 5;"
      ],
      "metadata": {
        "colab": {
          "base_uri": "https://localhost:8080/",
          "height": 180
        },
        "id": "zV0_9UC0Tq-o",
        "outputId": "63dde859-62e7-4786-d3b7-584212354152"
      },
      "execution_count": 12,
      "outputs": [
        {
          "output_type": "stream",
          "name": "stdout",
          "text": [
            " * sqlite://\n",
            "Done.\n"
          ]
        },
        {
          "output_type": "execute_result",
          "data": {
            "text/plain": [
              "[(0, 'Egypt', 'Africa', 'Abdel Fattah el-Sisi', 0, 'Egypt', 'Africa', 'Mostafa Madbouly'),\n",
              " (1, 'Portugal', 'Europe', 'Marcelo Rebelo de Sousa', 1, 'Portugal', 'Europe', 'António Costa'),\n",
              " (2, 'USA', 'North America', 'Joe Biden', None, None, None, None),\n",
              " (3, 'Uruguay', 'South America', 'Luis Lacalle Pou', None, None, None, None),\n",
              " (4, 'Pakistan', 'Asia', 'Arif Alvi', 2, 'Pakistan', 'Asia', 'Shehbaz Sharif')]"
            ],
            "text/html": [
              "<table>\n",
              "    <thead>\n",
              "        <tr>\n",
              "            <th>index</th>\n",
              "            <th>country</th>\n",
              "            <th>continent</th>\n",
              "            <th>president</th>\n",
              "            <th>index_1</th>\n",
              "            <th>country_1</th>\n",
              "            <th>continent_1</th>\n",
              "            <th>prime_minister</th>\n",
              "        </tr>\n",
              "    </thead>\n",
              "    <tbody>\n",
              "        <tr>\n",
              "            <td>0</td>\n",
              "            <td>Egypt</td>\n",
              "            <td>Africa</td>\n",
              "            <td>Abdel Fattah el-Sisi</td>\n",
              "            <td>0</td>\n",
              "            <td>Egypt</td>\n",
              "            <td>Africa</td>\n",
              "            <td>Mostafa Madbouly</td>\n",
              "        </tr>\n",
              "        <tr>\n",
              "            <td>1</td>\n",
              "            <td>Portugal</td>\n",
              "            <td>Europe</td>\n",
              "            <td>Marcelo Rebelo de Sousa</td>\n",
              "            <td>1</td>\n",
              "            <td>Portugal</td>\n",
              "            <td>Europe</td>\n",
              "            <td>António Costa</td>\n",
              "        </tr>\n",
              "        <tr>\n",
              "            <td>2</td>\n",
              "            <td>USA</td>\n",
              "            <td>North America</td>\n",
              "            <td>Joe Biden</td>\n",
              "            <td>None</td>\n",
              "            <td>None</td>\n",
              "            <td>None</td>\n",
              "            <td>None</td>\n",
              "        </tr>\n",
              "        <tr>\n",
              "            <td>3</td>\n",
              "            <td>Uruguay</td>\n",
              "            <td>South America</td>\n",
              "            <td>Luis Lacalle Pou</td>\n",
              "            <td>None</td>\n",
              "            <td>None</td>\n",
              "            <td>None</td>\n",
              "            <td>None</td>\n",
              "        </tr>\n",
              "        <tr>\n",
              "            <td>4</td>\n",
              "            <td>Pakistan</td>\n",
              "            <td>Asia</td>\n",
              "            <td>Arif Alvi</td>\n",
              "            <td>2</td>\n",
              "            <td>Pakistan</td>\n",
              "            <td>Asia</td>\n",
              "            <td>Shehbaz Sharif</td>\n",
              "        </tr>\n",
              "    </tbody>\n",
              "</table>"
            ]
          },
          "metadata": {},
          "execution_count": 12
        }
      ]
    },
    {
      "cell_type": "code",
      "source": [
        "%%sql SELECT *\n",
        "FROM prime_ministers AS p1\n",
        "INNER JOIN presidents AS p2\n",
        "USING(country)\n",
        "LIMIT 5;"
      ],
      "metadata": {
        "colab": {
          "base_uri": "https://localhost:8080/",
          "height": 159
        },
        "id": "NKhfJ0AJUK0w",
        "outputId": "618e66b6-b17b-4cd7-9bff-17e03a526cae"
      },
      "execution_count": 13,
      "outputs": [
        {
          "output_type": "stream",
          "name": "stdout",
          "text": [
            " * sqlite://\n",
            "Done.\n"
          ]
        },
        {
          "output_type": "execute_result",
          "data": {
            "text/plain": [
              "[(0, 'Egypt', 'Africa', 'Mostafa Madbouly', 0, 'Africa', 'Abdel Fattah el-Sisi'),\n",
              " (1, 'Portugal', 'Europe', 'António Costa', 1, 'Europe', 'Marcelo Rebelo de Sousa'),\n",
              " (2, 'Pakistan', 'Asia', 'Shehbaz Sharif', 4, 'Asia', 'Arif Alvi'),\n",
              " (4, 'India', 'Asia', 'Narendra Modi', 6, 'Asia', 'Ram Nath Kovind')]"
            ],
            "text/html": [
              "<table>\n",
              "    <thead>\n",
              "        <tr>\n",
              "            <th>index</th>\n",
              "            <th>country</th>\n",
              "            <th>continent</th>\n",
              "            <th>prime_minister</th>\n",
              "            <th>index_1</th>\n",
              "            <th>continent_1</th>\n",
              "            <th>president</th>\n",
              "        </tr>\n",
              "    </thead>\n",
              "    <tbody>\n",
              "        <tr>\n",
              "            <td>0</td>\n",
              "            <td>Egypt</td>\n",
              "            <td>Africa</td>\n",
              "            <td>Mostafa Madbouly</td>\n",
              "            <td>0</td>\n",
              "            <td>Africa</td>\n",
              "            <td>Abdel Fattah el-Sisi</td>\n",
              "        </tr>\n",
              "        <tr>\n",
              "            <td>1</td>\n",
              "            <td>Portugal</td>\n",
              "            <td>Europe</td>\n",
              "            <td>António Costa</td>\n",
              "            <td>1</td>\n",
              "            <td>Europe</td>\n",
              "            <td>Marcelo Rebelo de Sousa</td>\n",
              "        </tr>\n",
              "        <tr>\n",
              "            <td>2</td>\n",
              "            <td>Pakistan</td>\n",
              "            <td>Asia</td>\n",
              "            <td>Shehbaz Sharif</td>\n",
              "            <td>4</td>\n",
              "            <td>Asia</td>\n",
              "            <td>Arif Alvi</td>\n",
              "        </tr>\n",
              "        <tr>\n",
              "            <td>4</td>\n",
              "            <td>India</td>\n",
              "            <td>Asia</td>\n",
              "            <td>Narendra Modi</td>\n",
              "            <td>6</td>\n",
              "            <td>Asia</td>\n",
              "            <td>Ram Nath Kovind</td>\n",
              "        </tr>\n",
              "    </tbody>\n",
              "</table>"
            ]
          },
          "metadata": {},
          "execution_count": 13
        }
      ]
    },
    {
      "cell_type": "code",
      "source": [
        "%%sql SELECT *\n",
        "FROM prime_ministers AS p1\n",
        "INNER JOIN presidents AS p2\n",
        "USING(country)\n",
        "INNER JOIN prime_minister_terms AS p3\n",
        "ON p1.country = p2.country\n",
        "LIMIT 5;"
      ],
      "metadata": {
        "colab": {
          "base_uri": "https://localhost:8080/",
          "height": 180
        },
        "id": "yeep2cQBYMXh",
        "outputId": "044dcc5c-e9ae-4fb3-df1f-258221e1aa6f"
      },
      "execution_count": 14,
      "outputs": [
        {
          "output_type": "stream",
          "name": "stdout",
          "text": [
            " * sqlite://\n",
            "Done.\n"
          ]
        },
        {
          "output_type": "execute_result",
          "data": {
            "text/plain": [
              "[(0, 'Egypt', 'Africa', 'Mostafa Madbouly', 0, 'Africa', 'Abdel Fattah el-Sisi', 0, 'Mostafa Madbouly', 2018),\n",
              " (0, 'Egypt', 'Africa', 'Mostafa Madbouly', 0, 'Africa', 'Abdel Fattah el-Sisi', 1, 'António Costa', 2015),\n",
              " (0, 'Egypt', 'Africa', 'Mostafa Madbouly', 0, 'Africa', 'Abdel Fattah el-Sisi', 2, 'Shehbaz Sharif', 2022),\n",
              " (0, 'Egypt', 'Africa', 'Mostafa Madbouly', 0, 'Africa', 'Abdel Fattah el-Sisi', 3, 'Boris Johnson', 2019),\n",
              " (0, 'Egypt', 'Africa', 'Mostafa Madbouly', 0, 'Africa', 'Abdel Fattah el-Sisi', 4, 'Narendra Modi', 2014)]"
            ],
            "text/html": [
              "<table>\n",
              "    <thead>\n",
              "        <tr>\n",
              "            <th>index</th>\n",
              "            <th>country</th>\n",
              "            <th>continent</th>\n",
              "            <th>prime_minister</th>\n",
              "            <th>index_1</th>\n",
              "            <th>continent_1</th>\n",
              "            <th>president</th>\n",
              "            <th>index_2</th>\n",
              "            <th>prime_minister_1</th>\n",
              "            <th>pm_start</th>\n",
              "        </tr>\n",
              "    </thead>\n",
              "    <tbody>\n",
              "        <tr>\n",
              "            <td>0</td>\n",
              "            <td>Egypt</td>\n",
              "            <td>Africa</td>\n",
              "            <td>Mostafa Madbouly</td>\n",
              "            <td>0</td>\n",
              "            <td>Africa</td>\n",
              "            <td>Abdel Fattah el-Sisi</td>\n",
              "            <td>0</td>\n",
              "            <td>Mostafa Madbouly</td>\n",
              "            <td>2018</td>\n",
              "        </tr>\n",
              "        <tr>\n",
              "            <td>0</td>\n",
              "            <td>Egypt</td>\n",
              "            <td>Africa</td>\n",
              "            <td>Mostafa Madbouly</td>\n",
              "            <td>0</td>\n",
              "            <td>Africa</td>\n",
              "            <td>Abdel Fattah el-Sisi</td>\n",
              "            <td>1</td>\n",
              "            <td>António Costa</td>\n",
              "            <td>2015</td>\n",
              "        </tr>\n",
              "        <tr>\n",
              "            <td>0</td>\n",
              "            <td>Egypt</td>\n",
              "            <td>Africa</td>\n",
              "            <td>Mostafa Madbouly</td>\n",
              "            <td>0</td>\n",
              "            <td>Africa</td>\n",
              "            <td>Abdel Fattah el-Sisi</td>\n",
              "            <td>2</td>\n",
              "            <td>Shehbaz Sharif</td>\n",
              "            <td>2022</td>\n",
              "        </tr>\n",
              "        <tr>\n",
              "            <td>0</td>\n",
              "            <td>Egypt</td>\n",
              "            <td>Africa</td>\n",
              "            <td>Mostafa Madbouly</td>\n",
              "            <td>0</td>\n",
              "            <td>Africa</td>\n",
              "            <td>Abdel Fattah el-Sisi</td>\n",
              "            <td>3</td>\n",
              "            <td>Boris Johnson</td>\n",
              "            <td>2019</td>\n",
              "        </tr>\n",
              "        <tr>\n",
              "            <td>0</td>\n",
              "            <td>Egypt</td>\n",
              "            <td>Africa</td>\n",
              "            <td>Mostafa Madbouly</td>\n",
              "            <td>0</td>\n",
              "            <td>Africa</td>\n",
              "            <td>Abdel Fattah el-Sisi</td>\n",
              "            <td>4</td>\n",
              "            <td>Narendra Modi</td>\n",
              "            <td>2014</td>\n",
              "        </tr>\n",
              "    </tbody>\n",
              "</table>"
            ]
          },
          "metadata": {},
          "execution_count": 14
        }
      ]
    },
    {
      "cell_type": "code",
      "source": [
        "%%sql SELECT *\n",
        "FROM prime_ministers AS p1\n",
        "INNER JOIN presidents AS p2\n",
        "USING(country)\n",
        "INNER JOIN prime_minister_terms AS p3\n",
        "USING(prime_minister)\n",
        "LIMIT 5;"
      ],
      "metadata": {
        "colab": {
          "base_uri": "https://localhost:8080/",
          "height": 159
        },
        "id": "ZdvMMdnyY8S4",
        "outputId": "8cb97511-7487-454b-fdaf-189b90c63e23"
      },
      "execution_count": 15,
      "outputs": [
        {
          "output_type": "stream",
          "name": "stdout",
          "text": [
            " * sqlite://\n",
            "Done.\n"
          ]
        },
        {
          "output_type": "execute_result",
          "data": {
            "text/plain": [
              "[(0, 'Egypt', 'Africa', 'Mostafa Madbouly', 0, 'Africa', 'Abdel Fattah el-Sisi', 0, 2018),\n",
              " (1, 'Portugal', 'Europe', 'António Costa', 1, 'Europe', 'Marcelo Rebelo de Sousa', 1, 2015),\n",
              " (2, 'Pakistan', 'Asia', 'Shehbaz Sharif', 4, 'Asia', 'Arif Alvi', 2, 2022),\n",
              " (4, 'India', 'Asia', 'Narendra Modi', 6, 'Asia', 'Ram Nath Kovind', 4, 2014)]"
            ],
            "text/html": [
              "<table>\n",
              "    <thead>\n",
              "        <tr>\n",
              "            <th>index</th>\n",
              "            <th>country</th>\n",
              "            <th>continent</th>\n",
              "            <th>prime_minister</th>\n",
              "            <th>index_1</th>\n",
              "            <th>continent_1</th>\n",
              "            <th>president</th>\n",
              "            <th>index_2</th>\n",
              "            <th>pm_start</th>\n",
              "        </tr>\n",
              "    </thead>\n",
              "    <tbody>\n",
              "        <tr>\n",
              "            <td>0</td>\n",
              "            <td>Egypt</td>\n",
              "            <td>Africa</td>\n",
              "            <td>Mostafa Madbouly</td>\n",
              "            <td>0</td>\n",
              "            <td>Africa</td>\n",
              "            <td>Abdel Fattah el-Sisi</td>\n",
              "            <td>0</td>\n",
              "            <td>2018</td>\n",
              "        </tr>\n",
              "        <tr>\n",
              "            <td>1</td>\n",
              "            <td>Portugal</td>\n",
              "            <td>Europe</td>\n",
              "            <td>António Costa</td>\n",
              "            <td>1</td>\n",
              "            <td>Europe</td>\n",
              "            <td>Marcelo Rebelo de Sousa</td>\n",
              "            <td>1</td>\n",
              "            <td>2015</td>\n",
              "        </tr>\n",
              "        <tr>\n",
              "            <td>2</td>\n",
              "            <td>Pakistan</td>\n",
              "            <td>Asia</td>\n",
              "            <td>Shehbaz Sharif</td>\n",
              "            <td>4</td>\n",
              "            <td>Asia</td>\n",
              "            <td>Arif Alvi</td>\n",
              "            <td>2</td>\n",
              "            <td>2022</td>\n",
              "        </tr>\n",
              "        <tr>\n",
              "            <td>4</td>\n",
              "            <td>India</td>\n",
              "            <td>Asia</td>\n",
              "            <td>Narendra Modi</td>\n",
              "            <td>6</td>\n",
              "            <td>Asia</td>\n",
              "            <td>Ram Nath Kovind</td>\n",
              "            <td>4</td>\n",
              "            <td>2014</td>\n",
              "        </tr>\n",
              "    </tbody>\n",
              "</table>"
            ]
          },
          "metadata": {},
          "execution_count": 15
        }
      ]
    },
    {
      "cell_type": "code",
      "source": [
        "%%sql SELECT *\n",
        "FROM presidents AS p\n",
        "INNER JOIN prime_ministers AS pt\n",
        "ON p.country = pt.country\n",
        "OR p.continent = pt.continent\n",
        "LIMIT 5;"
      ],
      "metadata": {
        "colab": {
          "base_uri": "https://localhost:8080/",
          "height": 180
        },
        "id": "w-KeP_mjZESh",
        "outputId": "e349f0f2-4dbd-421e-e2d1-9aa551bb3013"
      },
      "execution_count": 16,
      "outputs": [
        {
          "output_type": "stream",
          "name": "stdout",
          "text": [
            " * sqlite://\n",
            "Done.\n"
          ]
        },
        {
          "output_type": "execute_result",
          "data": {
            "text/plain": [
              "[(0, 'Egypt', 'Africa', 'Abdel Fattah el-Sisi', 0, 'Egypt', 'Africa', 'Mostafa Madbouly'),\n",
              " (1, 'Portugal', 'Europe', 'Marcelo Rebelo de Sousa', 1, 'Portugal', 'Europe', 'António Costa'),\n",
              " (1, 'Portugal', 'Europe', 'Marcelo Rebelo de Sousa', 3, 'United Kingdom', 'Europe', 'Boris Johnson'),\n",
              " (1, 'Portugal', 'Europe', 'Marcelo Rebelo de Sousa', 6, 'Norway', 'Europe', 'Jonas Gahr Støre'),\n",
              " (4, 'Pakistan', 'Asia', 'Arif Alvi', 2, 'Pakistan', 'Asia', 'Shehbaz Sharif')]"
            ],
            "text/html": [
              "<table>\n",
              "    <thead>\n",
              "        <tr>\n",
              "            <th>index</th>\n",
              "            <th>country</th>\n",
              "            <th>continent</th>\n",
              "            <th>president</th>\n",
              "            <th>index_1</th>\n",
              "            <th>country_1</th>\n",
              "            <th>continent_1</th>\n",
              "            <th>prime_minister</th>\n",
              "        </tr>\n",
              "    </thead>\n",
              "    <tbody>\n",
              "        <tr>\n",
              "            <td>0</td>\n",
              "            <td>Egypt</td>\n",
              "            <td>Africa</td>\n",
              "            <td>Abdel Fattah el-Sisi</td>\n",
              "            <td>0</td>\n",
              "            <td>Egypt</td>\n",
              "            <td>Africa</td>\n",
              "            <td>Mostafa Madbouly</td>\n",
              "        </tr>\n",
              "        <tr>\n",
              "            <td>1</td>\n",
              "            <td>Portugal</td>\n",
              "            <td>Europe</td>\n",
              "            <td>Marcelo Rebelo de Sousa</td>\n",
              "            <td>1</td>\n",
              "            <td>Portugal</td>\n",
              "            <td>Europe</td>\n",
              "            <td>António Costa</td>\n",
              "        </tr>\n",
              "        <tr>\n",
              "            <td>1</td>\n",
              "            <td>Portugal</td>\n",
              "            <td>Europe</td>\n",
              "            <td>Marcelo Rebelo de Sousa</td>\n",
              "            <td>3</td>\n",
              "            <td>United Kingdom</td>\n",
              "            <td>Europe</td>\n",
              "            <td>Boris Johnson</td>\n",
              "        </tr>\n",
              "        <tr>\n",
              "            <td>1</td>\n",
              "            <td>Portugal</td>\n",
              "            <td>Europe</td>\n",
              "            <td>Marcelo Rebelo de Sousa</td>\n",
              "            <td>6</td>\n",
              "            <td>Norway</td>\n",
              "            <td>Europe</td>\n",
              "            <td>Jonas Gahr Støre</td>\n",
              "        </tr>\n",
              "        <tr>\n",
              "            <td>4</td>\n",
              "            <td>Pakistan</td>\n",
              "            <td>Asia</td>\n",
              "            <td>Arif Alvi</td>\n",
              "            <td>2</td>\n",
              "            <td>Pakistan</td>\n",
              "            <td>Asia</td>\n",
              "            <td>Shehbaz Sharif</td>\n",
              "        </tr>\n",
              "    </tbody>\n",
              "</table>"
            ]
          },
          "metadata": {},
          "execution_count": 16
        }
      ]
    },
    {
      "cell_type": "code",
      "source": [
        "%%sql SELECT *\n",
        "FROM presidents AS p\n",
        "JOIN prime_ministers AS pt\n",
        "LIMIT 5;"
      ],
      "metadata": {
        "colab": {
          "base_uri": "https://localhost:8080/",
          "height": 180
        },
        "id": "x6RrIPo7bR1N",
        "outputId": "9dad18a1-fde8-47ac-9dbd-0123bdde57bb"
      },
      "execution_count": 17,
      "outputs": [
        {
          "output_type": "stream",
          "name": "stdout",
          "text": [
            " * sqlite://\n",
            "Done.\n"
          ]
        },
        {
          "output_type": "execute_result",
          "data": {
            "text/plain": [
              "[(0, 'Egypt', 'Africa', 'Abdel Fattah el-Sisi', 0, 'Egypt', 'Africa', 'Mostafa Madbouly'),\n",
              " (0, 'Egypt', 'Africa', 'Abdel Fattah el-Sisi', 1, 'Portugal', 'Europe', 'António Costa'),\n",
              " (0, 'Egypt', 'Africa', 'Abdel Fattah el-Sisi', 2, 'Pakistan', 'Asia', 'Shehbaz Sharif'),\n",
              " (0, 'Egypt', 'Africa', 'Abdel Fattah el-Sisi', 3, 'United Kingdom', 'Europe', 'Boris Johnson'),\n",
              " (0, 'Egypt', 'Africa', 'Abdel Fattah el-Sisi', 4, 'India', 'Asia', 'Narendra Modi')]"
            ],
            "text/html": [
              "<table>\n",
              "    <thead>\n",
              "        <tr>\n",
              "            <th>index</th>\n",
              "            <th>country</th>\n",
              "            <th>continent</th>\n",
              "            <th>president</th>\n",
              "            <th>index_1</th>\n",
              "            <th>country_1</th>\n",
              "            <th>continent_1</th>\n",
              "            <th>prime_minister</th>\n",
              "        </tr>\n",
              "    </thead>\n",
              "    <tbody>\n",
              "        <tr>\n",
              "            <td>0</td>\n",
              "            <td>Egypt</td>\n",
              "            <td>Africa</td>\n",
              "            <td>Abdel Fattah el-Sisi</td>\n",
              "            <td>0</td>\n",
              "            <td>Egypt</td>\n",
              "            <td>Africa</td>\n",
              "            <td>Mostafa Madbouly</td>\n",
              "        </tr>\n",
              "        <tr>\n",
              "            <td>0</td>\n",
              "            <td>Egypt</td>\n",
              "            <td>Africa</td>\n",
              "            <td>Abdel Fattah el-Sisi</td>\n",
              "            <td>1</td>\n",
              "            <td>Portugal</td>\n",
              "            <td>Europe</td>\n",
              "            <td>António Costa</td>\n",
              "        </tr>\n",
              "        <tr>\n",
              "            <td>0</td>\n",
              "            <td>Egypt</td>\n",
              "            <td>Africa</td>\n",
              "            <td>Abdel Fattah el-Sisi</td>\n",
              "            <td>2</td>\n",
              "            <td>Pakistan</td>\n",
              "            <td>Asia</td>\n",
              "            <td>Shehbaz Sharif</td>\n",
              "        </tr>\n",
              "        <tr>\n",
              "            <td>0</td>\n",
              "            <td>Egypt</td>\n",
              "            <td>Africa</td>\n",
              "            <td>Abdel Fattah el-Sisi</td>\n",
              "            <td>3</td>\n",
              "            <td>United Kingdom</td>\n",
              "            <td>Europe</td>\n",
              "            <td>Boris Johnson</td>\n",
              "        </tr>\n",
              "        <tr>\n",
              "            <td>0</td>\n",
              "            <td>Egypt</td>\n",
              "            <td>Africa</td>\n",
              "            <td>Abdel Fattah el-Sisi</td>\n",
              "            <td>4</td>\n",
              "            <td>India</td>\n",
              "            <td>Asia</td>\n",
              "            <td>Narendra Modi</td>\n",
              "        </tr>\n",
              "    </tbody>\n",
              "</table>"
            ]
          },
          "metadata": {},
          "execution_count": 17
        }
      ]
    },
    {
      "cell_type": "code",
      "source": [
        "%%sql SELECT *\n",
        "FROM presidents AS p\n",
        "CROSS JOIN prime_ministers AS pt\n",
        "LIMIT 5;"
      ],
      "metadata": {
        "colab": {
          "base_uri": "https://localhost:8080/",
          "height": 180
        },
        "id": "IvjvYDhYbTuP",
        "outputId": "0bbc398e-b802-42b9-a85f-2d16da0d22ca"
      },
      "execution_count": 18,
      "outputs": [
        {
          "output_type": "stream",
          "name": "stdout",
          "text": [
            " * sqlite://\n",
            "Done.\n"
          ]
        },
        {
          "output_type": "execute_result",
          "data": {
            "text/plain": [
              "[(0, 'Egypt', 'Africa', 'Abdel Fattah el-Sisi', 0, 'Egypt', 'Africa', 'Mostafa Madbouly'),\n",
              " (0, 'Egypt', 'Africa', 'Abdel Fattah el-Sisi', 1, 'Portugal', 'Europe', 'António Costa'),\n",
              " (0, 'Egypt', 'Africa', 'Abdel Fattah el-Sisi', 2, 'Pakistan', 'Asia', 'Shehbaz Sharif'),\n",
              " (0, 'Egypt', 'Africa', 'Abdel Fattah el-Sisi', 3, 'United Kingdom', 'Europe', 'Boris Johnson'),\n",
              " (0, 'Egypt', 'Africa', 'Abdel Fattah el-Sisi', 4, 'India', 'Asia', 'Narendra Modi')]"
            ],
            "text/html": [
              "<table>\n",
              "    <thead>\n",
              "        <tr>\n",
              "            <th>index</th>\n",
              "            <th>country</th>\n",
              "            <th>continent</th>\n",
              "            <th>president</th>\n",
              "            <th>index_1</th>\n",
              "            <th>country_1</th>\n",
              "            <th>continent_1</th>\n",
              "            <th>prime_minister</th>\n",
              "        </tr>\n",
              "    </thead>\n",
              "    <tbody>\n",
              "        <tr>\n",
              "            <td>0</td>\n",
              "            <td>Egypt</td>\n",
              "            <td>Africa</td>\n",
              "            <td>Abdel Fattah el-Sisi</td>\n",
              "            <td>0</td>\n",
              "            <td>Egypt</td>\n",
              "            <td>Africa</td>\n",
              "            <td>Mostafa Madbouly</td>\n",
              "        </tr>\n",
              "        <tr>\n",
              "            <td>0</td>\n",
              "            <td>Egypt</td>\n",
              "            <td>Africa</td>\n",
              "            <td>Abdel Fattah el-Sisi</td>\n",
              "            <td>1</td>\n",
              "            <td>Portugal</td>\n",
              "            <td>Europe</td>\n",
              "            <td>António Costa</td>\n",
              "        </tr>\n",
              "        <tr>\n",
              "            <td>0</td>\n",
              "            <td>Egypt</td>\n",
              "            <td>Africa</td>\n",
              "            <td>Abdel Fattah el-Sisi</td>\n",
              "            <td>2</td>\n",
              "            <td>Pakistan</td>\n",
              "            <td>Asia</td>\n",
              "            <td>Shehbaz Sharif</td>\n",
              "        </tr>\n",
              "        <tr>\n",
              "            <td>0</td>\n",
              "            <td>Egypt</td>\n",
              "            <td>Africa</td>\n",
              "            <td>Abdel Fattah el-Sisi</td>\n",
              "            <td>3</td>\n",
              "            <td>United Kingdom</td>\n",
              "            <td>Europe</td>\n",
              "            <td>Boris Johnson</td>\n",
              "        </tr>\n",
              "        <tr>\n",
              "            <td>0</td>\n",
              "            <td>Egypt</td>\n",
              "            <td>Africa</td>\n",
              "            <td>Abdel Fattah el-Sisi</td>\n",
              "            <td>4</td>\n",
              "            <td>India</td>\n",
              "            <td>Asia</td>\n",
              "            <td>Narendra Modi</td>\n",
              "        </tr>\n",
              "    </tbody>\n",
              "</table>"
            ]
          },
          "metadata": {},
          "execution_count": 18
        }
      ]
    },
    {
      "cell_type": "code",
      "source": [
        "%%sql SELECT *\n",
        "FROM presidents AS p\n",
        "CROSS JOIN prime_ministers AS pt\n",
        "CROSS JOIN prime_minister_terms AS p3\n",
        "LIMIT 5;"
      ],
      "metadata": {
        "colab": {
          "base_uri": "https://localhost:8080/",
          "height": 180
        },
        "id": "saepYcX6exkk",
        "outputId": "9d3bf6a1-92ec-4923-8d03-4aaefcfe6e0a"
      },
      "execution_count": 19,
      "outputs": [
        {
          "output_type": "stream",
          "name": "stdout",
          "text": [
            " * sqlite://\n",
            "Done.\n"
          ]
        },
        {
          "output_type": "execute_result",
          "data": {
            "text/plain": [
              "[(0, 'Egypt', 'Africa', 'Abdel Fattah el-Sisi', 0, 'Egypt', 'Africa', 'Mostafa Madbouly', 0, 'Mostafa Madbouly', 2018),\n",
              " (0, 'Egypt', 'Africa', 'Abdel Fattah el-Sisi', 0, 'Egypt', 'Africa', 'Mostafa Madbouly', 1, 'António Costa', 2015),\n",
              " (0, 'Egypt', 'Africa', 'Abdel Fattah el-Sisi', 0, 'Egypt', 'Africa', 'Mostafa Madbouly', 2, 'Shehbaz Sharif', 2022),\n",
              " (0, 'Egypt', 'Africa', 'Abdel Fattah el-Sisi', 0, 'Egypt', 'Africa', 'Mostafa Madbouly', 3, 'Boris Johnson', 2019),\n",
              " (0, 'Egypt', 'Africa', 'Abdel Fattah el-Sisi', 0, 'Egypt', 'Africa', 'Mostafa Madbouly', 4, 'Narendra Modi', 2014)]"
            ],
            "text/html": [
              "<table>\n",
              "    <thead>\n",
              "        <tr>\n",
              "            <th>index</th>\n",
              "            <th>country</th>\n",
              "            <th>continent</th>\n",
              "            <th>president</th>\n",
              "            <th>index_1</th>\n",
              "            <th>country_1</th>\n",
              "            <th>continent_1</th>\n",
              "            <th>prime_minister</th>\n",
              "            <th>index_2</th>\n",
              "            <th>prime_minister_1</th>\n",
              "            <th>pm_start</th>\n",
              "        </tr>\n",
              "    </thead>\n",
              "    <tbody>\n",
              "        <tr>\n",
              "            <td>0</td>\n",
              "            <td>Egypt</td>\n",
              "            <td>Africa</td>\n",
              "            <td>Abdel Fattah el-Sisi</td>\n",
              "            <td>0</td>\n",
              "            <td>Egypt</td>\n",
              "            <td>Africa</td>\n",
              "            <td>Mostafa Madbouly</td>\n",
              "            <td>0</td>\n",
              "            <td>Mostafa Madbouly</td>\n",
              "            <td>2018</td>\n",
              "        </tr>\n",
              "        <tr>\n",
              "            <td>0</td>\n",
              "            <td>Egypt</td>\n",
              "            <td>Africa</td>\n",
              "            <td>Abdel Fattah el-Sisi</td>\n",
              "            <td>0</td>\n",
              "            <td>Egypt</td>\n",
              "            <td>Africa</td>\n",
              "            <td>Mostafa Madbouly</td>\n",
              "            <td>1</td>\n",
              "            <td>António Costa</td>\n",
              "            <td>2015</td>\n",
              "        </tr>\n",
              "        <tr>\n",
              "            <td>0</td>\n",
              "            <td>Egypt</td>\n",
              "            <td>Africa</td>\n",
              "            <td>Abdel Fattah el-Sisi</td>\n",
              "            <td>0</td>\n",
              "            <td>Egypt</td>\n",
              "            <td>Africa</td>\n",
              "            <td>Mostafa Madbouly</td>\n",
              "            <td>2</td>\n",
              "            <td>Shehbaz Sharif</td>\n",
              "            <td>2022</td>\n",
              "        </tr>\n",
              "        <tr>\n",
              "            <td>0</td>\n",
              "            <td>Egypt</td>\n",
              "            <td>Africa</td>\n",
              "            <td>Abdel Fattah el-Sisi</td>\n",
              "            <td>0</td>\n",
              "            <td>Egypt</td>\n",
              "            <td>Africa</td>\n",
              "            <td>Mostafa Madbouly</td>\n",
              "            <td>3</td>\n",
              "            <td>Boris Johnson</td>\n",
              "            <td>2019</td>\n",
              "        </tr>\n",
              "        <tr>\n",
              "            <td>0</td>\n",
              "            <td>Egypt</td>\n",
              "            <td>Africa</td>\n",
              "            <td>Abdel Fattah el-Sisi</td>\n",
              "            <td>0</td>\n",
              "            <td>Egypt</td>\n",
              "            <td>Africa</td>\n",
              "            <td>Mostafa Madbouly</td>\n",
              "            <td>4</td>\n",
              "            <td>Narendra Modi</td>\n",
              "            <td>2014</td>\n",
              "        </tr>\n",
              "    </tbody>\n",
              "</table>"
            ]
          },
          "metadata": {},
          "execution_count": 19
        }
      ]
    },
    {
      "cell_type": "code",
      "source": [
        "%%sql SELECT p1.country,\n",
        "             p2.country,\n",
        "             p1.continent\n",
        "FROM prime_ministers AS p1\n",
        "INNER JOIN prime_ministers AS p2\n",
        "USING(continent);"
      ],
      "metadata": {
        "colab": {
          "base_uri": "https://localhost:8080/",
          "height": 707
        },
        "id": "pVnEuUC8loA6",
        "outputId": "062011ca-316c-47c1-e2cb-f639120bafea"
      },
      "execution_count": 20,
      "outputs": [
        {
          "output_type": "stream",
          "name": "stdout",
          "text": [
            " * sqlite://\n",
            "Done.\n"
          ]
        },
        {
          "output_type": "execute_result",
          "data": {
            "text/plain": [
              "[('Egypt', 'Egypt', 'Africa'),\n",
              " ('Portugal', 'Norway', 'Europe'),\n",
              " ('Portugal', 'Portugal', 'Europe'),\n",
              " ('Portugal', 'United Kingdom', 'Europe'),\n",
              " ('Pakistan', 'Brunei', 'Asia'),\n",
              " ('Pakistan', 'India', 'Asia'),\n",
              " ('Pakistan', 'Oman', 'Asia'),\n",
              " ('Pakistan', 'Pakistan', 'Asia'),\n",
              " ('United Kingdom', 'Norway', 'Europe'),\n",
              " ('United Kingdom', 'Portugal', 'Europe'),\n",
              " ('United Kingdom', 'United Kingdom', 'Europe'),\n",
              " ('India', 'Brunei', 'Asia'),\n",
              " ('India', 'India', 'Asia'),\n",
              " ('India', 'Oman', 'Asia'),\n",
              " ('India', 'Pakistan', 'Asia'),\n",
              " ('Australia', 'Australia', 'Oceania'),\n",
              " ('Australia', 'New Zealand', 'Oceania'),\n",
              " ('Norway', 'Norway', 'Europe'),\n",
              " ('Norway', 'Portugal', 'Europe'),\n",
              " ('Norway', 'United Kingdom', 'Europe'),\n",
              " ('Brunei', 'Brunei', 'Asia'),\n",
              " ('Brunei', 'India', 'Asia'),\n",
              " ('Brunei', 'Oman', 'Asia'),\n",
              " ('Brunei', 'Pakistan', 'Asia'),\n",
              " ('Oman', 'Brunei', 'Asia'),\n",
              " ('Oman', 'India', 'Asia'),\n",
              " ('Oman', 'Oman', 'Asia'),\n",
              " ('Oman', 'Pakistan', 'Asia'),\n",
              " ('New Zealand', 'Australia', 'Oceania'),\n",
              " ('New Zealand', 'New Zealand', 'Oceania')]"
            ],
            "text/html": [
              "<table>\n",
              "    <thead>\n",
              "        <tr>\n",
              "            <th>country</th>\n",
              "            <th>country_1</th>\n",
              "            <th>continent</th>\n",
              "        </tr>\n",
              "    </thead>\n",
              "    <tbody>\n",
              "        <tr>\n",
              "            <td>Egypt</td>\n",
              "            <td>Egypt</td>\n",
              "            <td>Africa</td>\n",
              "        </tr>\n",
              "        <tr>\n",
              "            <td>Portugal</td>\n",
              "            <td>Norway</td>\n",
              "            <td>Europe</td>\n",
              "        </tr>\n",
              "        <tr>\n",
              "            <td>Portugal</td>\n",
              "            <td>Portugal</td>\n",
              "            <td>Europe</td>\n",
              "        </tr>\n",
              "        <tr>\n",
              "            <td>Portugal</td>\n",
              "            <td>United Kingdom</td>\n",
              "            <td>Europe</td>\n",
              "        </tr>\n",
              "        <tr>\n",
              "            <td>Pakistan</td>\n",
              "            <td>Brunei</td>\n",
              "            <td>Asia</td>\n",
              "        </tr>\n",
              "        <tr>\n",
              "            <td>Pakistan</td>\n",
              "            <td>India</td>\n",
              "            <td>Asia</td>\n",
              "        </tr>\n",
              "        <tr>\n",
              "            <td>Pakistan</td>\n",
              "            <td>Oman</td>\n",
              "            <td>Asia</td>\n",
              "        </tr>\n",
              "        <tr>\n",
              "            <td>Pakistan</td>\n",
              "            <td>Pakistan</td>\n",
              "            <td>Asia</td>\n",
              "        </tr>\n",
              "        <tr>\n",
              "            <td>United Kingdom</td>\n",
              "            <td>Norway</td>\n",
              "            <td>Europe</td>\n",
              "        </tr>\n",
              "        <tr>\n",
              "            <td>United Kingdom</td>\n",
              "            <td>Portugal</td>\n",
              "            <td>Europe</td>\n",
              "        </tr>\n",
              "        <tr>\n",
              "            <td>United Kingdom</td>\n",
              "            <td>United Kingdom</td>\n",
              "            <td>Europe</td>\n",
              "        </tr>\n",
              "        <tr>\n",
              "            <td>India</td>\n",
              "            <td>Brunei</td>\n",
              "            <td>Asia</td>\n",
              "        </tr>\n",
              "        <tr>\n",
              "            <td>India</td>\n",
              "            <td>India</td>\n",
              "            <td>Asia</td>\n",
              "        </tr>\n",
              "        <tr>\n",
              "            <td>India</td>\n",
              "            <td>Oman</td>\n",
              "            <td>Asia</td>\n",
              "        </tr>\n",
              "        <tr>\n",
              "            <td>India</td>\n",
              "            <td>Pakistan</td>\n",
              "            <td>Asia</td>\n",
              "        </tr>\n",
              "        <tr>\n",
              "            <td>Australia</td>\n",
              "            <td>Australia</td>\n",
              "            <td>Oceania</td>\n",
              "        </tr>\n",
              "        <tr>\n",
              "            <td>Australia</td>\n",
              "            <td>New Zealand</td>\n",
              "            <td>Oceania</td>\n",
              "        </tr>\n",
              "        <tr>\n",
              "            <td>Norway</td>\n",
              "            <td>Norway</td>\n",
              "            <td>Europe</td>\n",
              "        </tr>\n",
              "        <tr>\n",
              "            <td>Norway</td>\n",
              "            <td>Portugal</td>\n",
              "            <td>Europe</td>\n",
              "        </tr>\n",
              "        <tr>\n",
              "            <td>Norway</td>\n",
              "            <td>United Kingdom</td>\n",
              "            <td>Europe</td>\n",
              "        </tr>\n",
              "        <tr>\n",
              "            <td>Brunei</td>\n",
              "            <td>Brunei</td>\n",
              "            <td>Asia</td>\n",
              "        </tr>\n",
              "        <tr>\n",
              "            <td>Brunei</td>\n",
              "            <td>India</td>\n",
              "            <td>Asia</td>\n",
              "        </tr>\n",
              "        <tr>\n",
              "            <td>Brunei</td>\n",
              "            <td>Oman</td>\n",
              "            <td>Asia</td>\n",
              "        </tr>\n",
              "        <tr>\n",
              "            <td>Brunei</td>\n",
              "            <td>Pakistan</td>\n",
              "            <td>Asia</td>\n",
              "        </tr>\n",
              "        <tr>\n",
              "            <td>Oman</td>\n",
              "            <td>Brunei</td>\n",
              "            <td>Asia</td>\n",
              "        </tr>\n",
              "        <tr>\n",
              "            <td>Oman</td>\n",
              "            <td>India</td>\n",
              "            <td>Asia</td>\n",
              "        </tr>\n",
              "        <tr>\n",
              "            <td>Oman</td>\n",
              "            <td>Oman</td>\n",
              "            <td>Asia</td>\n",
              "        </tr>\n",
              "        <tr>\n",
              "            <td>Oman</td>\n",
              "            <td>Pakistan</td>\n",
              "            <td>Asia</td>\n",
              "        </tr>\n",
              "        <tr>\n",
              "            <td>New Zealand</td>\n",
              "            <td>Australia</td>\n",
              "            <td>Oceania</td>\n",
              "        </tr>\n",
              "        <tr>\n",
              "            <td>New Zealand</td>\n",
              "            <td>New Zealand</td>\n",
              "            <td>Oceania</td>\n",
              "        </tr>\n",
              "    </tbody>\n",
              "</table>"
            ]
          },
          "metadata": {},
          "execution_count": 20
        }
      ]
    },
    {
      "cell_type": "code",
      "source": [
        "%%sql SELECT p1.country,\n",
        "             p2.country,\n",
        "             p1.continent\n",
        "FROM prime_ministers AS p1\n",
        "INNER JOIN prime_ministers AS p2\n",
        "USING(continent);"
      ],
      "metadata": {
        "colab": {
          "base_uri": "https://localhost:8080/",
          "height": 707
        },
        "id": "OpDGIPFml8Fi",
        "outputId": "ae945c0f-8dbe-48b9-e905-da00b4a2b4c3"
      },
      "execution_count": 21,
      "outputs": [
        {
          "output_type": "stream",
          "name": "stdout",
          "text": [
            " * sqlite://\n",
            "Done.\n"
          ]
        },
        {
          "output_type": "execute_result",
          "data": {
            "text/plain": [
              "[('Egypt', 'Egypt', 'Africa'),\n",
              " ('Portugal', 'Norway', 'Europe'),\n",
              " ('Portugal', 'Portugal', 'Europe'),\n",
              " ('Portugal', 'United Kingdom', 'Europe'),\n",
              " ('Pakistan', 'Brunei', 'Asia'),\n",
              " ('Pakistan', 'India', 'Asia'),\n",
              " ('Pakistan', 'Oman', 'Asia'),\n",
              " ('Pakistan', 'Pakistan', 'Asia'),\n",
              " ('United Kingdom', 'Norway', 'Europe'),\n",
              " ('United Kingdom', 'Portugal', 'Europe'),\n",
              " ('United Kingdom', 'United Kingdom', 'Europe'),\n",
              " ('India', 'Brunei', 'Asia'),\n",
              " ('India', 'India', 'Asia'),\n",
              " ('India', 'Oman', 'Asia'),\n",
              " ('India', 'Pakistan', 'Asia'),\n",
              " ('Australia', 'Australia', 'Oceania'),\n",
              " ('Australia', 'New Zealand', 'Oceania'),\n",
              " ('Norway', 'Norway', 'Europe'),\n",
              " ('Norway', 'Portugal', 'Europe'),\n",
              " ('Norway', 'United Kingdom', 'Europe'),\n",
              " ('Brunei', 'Brunei', 'Asia'),\n",
              " ('Brunei', 'India', 'Asia'),\n",
              " ('Brunei', 'Oman', 'Asia'),\n",
              " ('Brunei', 'Pakistan', 'Asia'),\n",
              " ('Oman', 'Brunei', 'Asia'),\n",
              " ('Oman', 'India', 'Asia'),\n",
              " ('Oman', 'Oman', 'Asia'),\n",
              " ('Oman', 'Pakistan', 'Asia'),\n",
              " ('New Zealand', 'Australia', 'Oceania'),\n",
              " ('New Zealand', 'New Zealand', 'Oceania')]"
            ],
            "text/html": [
              "<table>\n",
              "    <thead>\n",
              "        <tr>\n",
              "            <th>country</th>\n",
              "            <th>country_1</th>\n",
              "            <th>continent</th>\n",
              "        </tr>\n",
              "    </thead>\n",
              "    <tbody>\n",
              "        <tr>\n",
              "            <td>Egypt</td>\n",
              "            <td>Egypt</td>\n",
              "            <td>Africa</td>\n",
              "        </tr>\n",
              "        <tr>\n",
              "            <td>Portugal</td>\n",
              "            <td>Norway</td>\n",
              "            <td>Europe</td>\n",
              "        </tr>\n",
              "        <tr>\n",
              "            <td>Portugal</td>\n",
              "            <td>Portugal</td>\n",
              "            <td>Europe</td>\n",
              "        </tr>\n",
              "        <tr>\n",
              "            <td>Portugal</td>\n",
              "            <td>United Kingdom</td>\n",
              "            <td>Europe</td>\n",
              "        </tr>\n",
              "        <tr>\n",
              "            <td>Pakistan</td>\n",
              "            <td>Brunei</td>\n",
              "            <td>Asia</td>\n",
              "        </tr>\n",
              "        <tr>\n",
              "            <td>Pakistan</td>\n",
              "            <td>India</td>\n",
              "            <td>Asia</td>\n",
              "        </tr>\n",
              "        <tr>\n",
              "            <td>Pakistan</td>\n",
              "            <td>Oman</td>\n",
              "            <td>Asia</td>\n",
              "        </tr>\n",
              "        <tr>\n",
              "            <td>Pakistan</td>\n",
              "            <td>Pakistan</td>\n",
              "            <td>Asia</td>\n",
              "        </tr>\n",
              "        <tr>\n",
              "            <td>United Kingdom</td>\n",
              "            <td>Norway</td>\n",
              "            <td>Europe</td>\n",
              "        </tr>\n",
              "        <tr>\n",
              "            <td>United Kingdom</td>\n",
              "            <td>Portugal</td>\n",
              "            <td>Europe</td>\n",
              "        </tr>\n",
              "        <tr>\n",
              "            <td>United Kingdom</td>\n",
              "            <td>United Kingdom</td>\n",
              "            <td>Europe</td>\n",
              "        </tr>\n",
              "        <tr>\n",
              "            <td>India</td>\n",
              "            <td>Brunei</td>\n",
              "            <td>Asia</td>\n",
              "        </tr>\n",
              "        <tr>\n",
              "            <td>India</td>\n",
              "            <td>India</td>\n",
              "            <td>Asia</td>\n",
              "        </tr>\n",
              "        <tr>\n",
              "            <td>India</td>\n",
              "            <td>Oman</td>\n",
              "            <td>Asia</td>\n",
              "        </tr>\n",
              "        <tr>\n",
              "            <td>India</td>\n",
              "            <td>Pakistan</td>\n",
              "            <td>Asia</td>\n",
              "        </tr>\n",
              "        <tr>\n",
              "            <td>Australia</td>\n",
              "            <td>Australia</td>\n",
              "            <td>Oceania</td>\n",
              "        </tr>\n",
              "        <tr>\n",
              "            <td>Australia</td>\n",
              "            <td>New Zealand</td>\n",
              "            <td>Oceania</td>\n",
              "        </tr>\n",
              "        <tr>\n",
              "            <td>Norway</td>\n",
              "            <td>Norway</td>\n",
              "            <td>Europe</td>\n",
              "        </tr>\n",
              "        <tr>\n",
              "            <td>Norway</td>\n",
              "            <td>Portugal</td>\n",
              "            <td>Europe</td>\n",
              "        </tr>\n",
              "        <tr>\n",
              "            <td>Norway</td>\n",
              "            <td>United Kingdom</td>\n",
              "            <td>Europe</td>\n",
              "        </tr>\n",
              "        <tr>\n",
              "            <td>Brunei</td>\n",
              "            <td>Brunei</td>\n",
              "            <td>Asia</td>\n",
              "        </tr>\n",
              "        <tr>\n",
              "            <td>Brunei</td>\n",
              "            <td>India</td>\n",
              "            <td>Asia</td>\n",
              "        </tr>\n",
              "        <tr>\n",
              "            <td>Brunei</td>\n",
              "            <td>Oman</td>\n",
              "            <td>Asia</td>\n",
              "        </tr>\n",
              "        <tr>\n",
              "            <td>Brunei</td>\n",
              "            <td>Pakistan</td>\n",
              "            <td>Asia</td>\n",
              "        </tr>\n",
              "        <tr>\n",
              "            <td>Oman</td>\n",
              "            <td>Brunei</td>\n",
              "            <td>Asia</td>\n",
              "        </tr>\n",
              "        <tr>\n",
              "            <td>Oman</td>\n",
              "            <td>India</td>\n",
              "            <td>Asia</td>\n",
              "        </tr>\n",
              "        <tr>\n",
              "            <td>Oman</td>\n",
              "            <td>Oman</td>\n",
              "            <td>Asia</td>\n",
              "        </tr>\n",
              "        <tr>\n",
              "            <td>Oman</td>\n",
              "            <td>Pakistan</td>\n",
              "            <td>Asia</td>\n",
              "        </tr>\n",
              "        <tr>\n",
              "            <td>New Zealand</td>\n",
              "            <td>Australia</td>\n",
              "            <td>Oceania</td>\n",
              "        </tr>\n",
              "        <tr>\n",
              "            <td>New Zealand</td>\n",
              "            <td>New Zealand</td>\n",
              "            <td>Oceania</td>\n",
              "        </tr>\n",
              "    </tbody>\n",
              "</table>"
            ]
          },
          "metadata": {},
          "execution_count": 21
        }
      ]
    },
    {
      "cell_type": "code",
      "source": [
        "%%sql SELECT p1.country,\n",
        "             p2.country,\n",
        "             p1.continent\n",
        "FROM prime_ministers AS p1\n",
        "INNER JOIN prime_ministers AS p2\n",
        "ON p1.continent=p2.continent AND  p1.country != p2.country;"
      ],
      "metadata": {
        "colab": {
          "base_uri": "https://localhost:8080/",
          "height": 496
        },
        "id": "c0pVCn4Sm_P-",
        "outputId": "dda820b5-d9c4-41ef-c427-3a64a3e7d4e3"
      },
      "execution_count": 22,
      "outputs": [
        {
          "output_type": "stream",
          "name": "stdout",
          "text": [
            " * sqlite://\n",
            "Done.\n"
          ]
        },
        {
          "output_type": "execute_result",
          "data": {
            "text/plain": [
              "[('Portugal', 'Norway', 'Europe'),\n",
              " ('Portugal', 'United Kingdom', 'Europe'),\n",
              " ('Pakistan', 'Brunei', 'Asia'),\n",
              " ('Pakistan', 'India', 'Asia'),\n",
              " ('Pakistan', 'Oman', 'Asia'),\n",
              " ('United Kingdom', 'Norway', 'Europe'),\n",
              " ('United Kingdom', 'Portugal', 'Europe'),\n",
              " ('India', 'Brunei', 'Asia'),\n",
              " ('India', 'Oman', 'Asia'),\n",
              " ('India', 'Pakistan', 'Asia'),\n",
              " ('Australia', 'New Zealand', 'Oceania'),\n",
              " ('Norway', 'Portugal', 'Europe'),\n",
              " ('Norway', 'United Kingdom', 'Europe'),\n",
              " ('Brunei', 'India', 'Asia'),\n",
              " ('Brunei', 'Oman', 'Asia'),\n",
              " ('Brunei', 'Pakistan', 'Asia'),\n",
              " ('Oman', 'Brunei', 'Asia'),\n",
              " ('Oman', 'India', 'Asia'),\n",
              " ('Oman', 'Pakistan', 'Asia'),\n",
              " ('New Zealand', 'Australia', 'Oceania')]"
            ],
            "text/html": [
              "<table>\n",
              "    <thead>\n",
              "        <tr>\n",
              "            <th>country</th>\n",
              "            <th>country_1</th>\n",
              "            <th>continent</th>\n",
              "        </tr>\n",
              "    </thead>\n",
              "    <tbody>\n",
              "        <tr>\n",
              "            <td>Portugal</td>\n",
              "            <td>Norway</td>\n",
              "            <td>Europe</td>\n",
              "        </tr>\n",
              "        <tr>\n",
              "            <td>Portugal</td>\n",
              "            <td>United Kingdom</td>\n",
              "            <td>Europe</td>\n",
              "        </tr>\n",
              "        <tr>\n",
              "            <td>Pakistan</td>\n",
              "            <td>Brunei</td>\n",
              "            <td>Asia</td>\n",
              "        </tr>\n",
              "        <tr>\n",
              "            <td>Pakistan</td>\n",
              "            <td>India</td>\n",
              "            <td>Asia</td>\n",
              "        </tr>\n",
              "        <tr>\n",
              "            <td>Pakistan</td>\n",
              "            <td>Oman</td>\n",
              "            <td>Asia</td>\n",
              "        </tr>\n",
              "        <tr>\n",
              "            <td>United Kingdom</td>\n",
              "            <td>Norway</td>\n",
              "            <td>Europe</td>\n",
              "        </tr>\n",
              "        <tr>\n",
              "            <td>United Kingdom</td>\n",
              "            <td>Portugal</td>\n",
              "            <td>Europe</td>\n",
              "        </tr>\n",
              "        <tr>\n",
              "            <td>India</td>\n",
              "            <td>Brunei</td>\n",
              "            <td>Asia</td>\n",
              "        </tr>\n",
              "        <tr>\n",
              "            <td>India</td>\n",
              "            <td>Oman</td>\n",
              "            <td>Asia</td>\n",
              "        </tr>\n",
              "        <tr>\n",
              "            <td>India</td>\n",
              "            <td>Pakistan</td>\n",
              "            <td>Asia</td>\n",
              "        </tr>\n",
              "        <tr>\n",
              "            <td>Australia</td>\n",
              "            <td>New Zealand</td>\n",
              "            <td>Oceania</td>\n",
              "        </tr>\n",
              "        <tr>\n",
              "            <td>Norway</td>\n",
              "            <td>Portugal</td>\n",
              "            <td>Europe</td>\n",
              "        </tr>\n",
              "        <tr>\n",
              "            <td>Norway</td>\n",
              "            <td>United Kingdom</td>\n",
              "            <td>Europe</td>\n",
              "        </tr>\n",
              "        <tr>\n",
              "            <td>Brunei</td>\n",
              "            <td>India</td>\n",
              "            <td>Asia</td>\n",
              "        </tr>\n",
              "        <tr>\n",
              "            <td>Brunei</td>\n",
              "            <td>Oman</td>\n",
              "            <td>Asia</td>\n",
              "        </tr>\n",
              "        <tr>\n",
              "            <td>Brunei</td>\n",
              "            <td>Pakistan</td>\n",
              "            <td>Asia</td>\n",
              "        </tr>\n",
              "        <tr>\n",
              "            <td>Oman</td>\n",
              "            <td>Brunei</td>\n",
              "            <td>Asia</td>\n",
              "        </tr>\n",
              "        <tr>\n",
              "            <td>Oman</td>\n",
              "            <td>India</td>\n",
              "            <td>Asia</td>\n",
              "        </tr>\n",
              "        <tr>\n",
              "            <td>Oman</td>\n",
              "            <td>Pakistan</td>\n",
              "            <td>Asia</td>\n",
              "        </tr>\n",
              "        <tr>\n",
              "            <td>New Zealand</td>\n",
              "            <td>Australia</td>\n",
              "            <td>Oceania</td>\n",
              "        </tr>\n",
              "    </tbody>\n",
              "</table>"
            ]
          },
          "metadata": {},
          "execution_count": 22
        }
      ]
    },
    {
      "cell_type": "code",
      "source": [
        "%%sql SELECT p1.country,\n",
        "             p2.country,\n",
        "             p1.continent\n",
        "FROM prime_ministers AS p1\n",
        "INNER JOIN prime_ministers AS p2\n",
        "USING(continent)\n",
        "WHERE p1.country != p2.country;"
      ],
      "metadata": {
        "colab": {
          "base_uri": "https://localhost:8080/",
          "height": 496
        },
        "id": "Nm-Uv7MbnIWU",
        "outputId": "69c7f10b-b63c-431d-bbd2-fbd85d43fda9"
      },
      "execution_count": 23,
      "outputs": [
        {
          "output_type": "stream",
          "name": "stdout",
          "text": [
            " * sqlite://\n",
            "Done.\n"
          ]
        },
        {
          "output_type": "execute_result",
          "data": {
            "text/plain": [
              "[('Portugal', 'Norway', 'Europe'),\n",
              " ('Portugal', 'United Kingdom', 'Europe'),\n",
              " ('Pakistan', 'Brunei', 'Asia'),\n",
              " ('Pakistan', 'India', 'Asia'),\n",
              " ('Pakistan', 'Oman', 'Asia'),\n",
              " ('United Kingdom', 'Norway', 'Europe'),\n",
              " ('United Kingdom', 'Portugal', 'Europe'),\n",
              " ('India', 'Brunei', 'Asia'),\n",
              " ('India', 'Oman', 'Asia'),\n",
              " ('India', 'Pakistan', 'Asia'),\n",
              " ('Australia', 'New Zealand', 'Oceania'),\n",
              " ('Norway', 'Portugal', 'Europe'),\n",
              " ('Norway', 'United Kingdom', 'Europe'),\n",
              " ('Brunei', 'India', 'Asia'),\n",
              " ('Brunei', 'Oman', 'Asia'),\n",
              " ('Brunei', 'Pakistan', 'Asia'),\n",
              " ('Oman', 'Brunei', 'Asia'),\n",
              " ('Oman', 'India', 'Asia'),\n",
              " ('Oman', 'Pakistan', 'Asia'),\n",
              " ('New Zealand', 'Australia', 'Oceania')]"
            ],
            "text/html": [
              "<table>\n",
              "    <thead>\n",
              "        <tr>\n",
              "            <th>country</th>\n",
              "            <th>country_1</th>\n",
              "            <th>continent</th>\n",
              "        </tr>\n",
              "    </thead>\n",
              "    <tbody>\n",
              "        <tr>\n",
              "            <td>Portugal</td>\n",
              "            <td>Norway</td>\n",
              "            <td>Europe</td>\n",
              "        </tr>\n",
              "        <tr>\n",
              "            <td>Portugal</td>\n",
              "            <td>United Kingdom</td>\n",
              "            <td>Europe</td>\n",
              "        </tr>\n",
              "        <tr>\n",
              "            <td>Pakistan</td>\n",
              "            <td>Brunei</td>\n",
              "            <td>Asia</td>\n",
              "        </tr>\n",
              "        <tr>\n",
              "            <td>Pakistan</td>\n",
              "            <td>India</td>\n",
              "            <td>Asia</td>\n",
              "        </tr>\n",
              "        <tr>\n",
              "            <td>Pakistan</td>\n",
              "            <td>Oman</td>\n",
              "            <td>Asia</td>\n",
              "        </tr>\n",
              "        <tr>\n",
              "            <td>United Kingdom</td>\n",
              "            <td>Norway</td>\n",
              "            <td>Europe</td>\n",
              "        </tr>\n",
              "        <tr>\n",
              "            <td>United Kingdom</td>\n",
              "            <td>Portugal</td>\n",
              "            <td>Europe</td>\n",
              "        </tr>\n",
              "        <tr>\n",
              "            <td>India</td>\n",
              "            <td>Brunei</td>\n",
              "            <td>Asia</td>\n",
              "        </tr>\n",
              "        <tr>\n",
              "            <td>India</td>\n",
              "            <td>Oman</td>\n",
              "            <td>Asia</td>\n",
              "        </tr>\n",
              "        <tr>\n",
              "            <td>India</td>\n",
              "            <td>Pakistan</td>\n",
              "            <td>Asia</td>\n",
              "        </tr>\n",
              "        <tr>\n",
              "            <td>Australia</td>\n",
              "            <td>New Zealand</td>\n",
              "            <td>Oceania</td>\n",
              "        </tr>\n",
              "        <tr>\n",
              "            <td>Norway</td>\n",
              "            <td>Portugal</td>\n",
              "            <td>Europe</td>\n",
              "        </tr>\n",
              "        <tr>\n",
              "            <td>Norway</td>\n",
              "            <td>United Kingdom</td>\n",
              "            <td>Europe</td>\n",
              "        </tr>\n",
              "        <tr>\n",
              "            <td>Brunei</td>\n",
              "            <td>India</td>\n",
              "            <td>Asia</td>\n",
              "        </tr>\n",
              "        <tr>\n",
              "            <td>Brunei</td>\n",
              "            <td>Oman</td>\n",
              "            <td>Asia</td>\n",
              "        </tr>\n",
              "        <tr>\n",
              "            <td>Brunei</td>\n",
              "            <td>Pakistan</td>\n",
              "            <td>Asia</td>\n",
              "        </tr>\n",
              "        <tr>\n",
              "            <td>Oman</td>\n",
              "            <td>Brunei</td>\n",
              "            <td>Asia</td>\n",
              "        </tr>\n",
              "        <tr>\n",
              "            <td>Oman</td>\n",
              "            <td>India</td>\n",
              "            <td>Asia</td>\n",
              "        </tr>\n",
              "        <tr>\n",
              "            <td>Oman</td>\n",
              "            <td>Pakistan</td>\n",
              "            <td>Asia</td>\n",
              "        </tr>\n",
              "        <tr>\n",
              "            <td>New Zealand</td>\n",
              "            <td>Australia</td>\n",
              "            <td>Oceania</td>\n",
              "        </tr>\n",
              "    </tbody>\n",
              "</table>"
            ]
          },
          "metadata": {},
          "execution_count": 23
        }
      ]
    },
    {
      "cell_type": "code",
      "source": [
        "%%sql SELECT monarch AS leader,\n",
        "             country\n",
        "FROM monarchs\n",
        "UNION\n",
        "SELECT prime_minister AS leader,\n",
        "             country\n",
        "FROM prime_ministers\n",
        "ORDER BY country, leader\n",
        "LIMIT 10;"
      ],
      "metadata": {
        "colab": {
          "base_uri": "https://localhost:8080/",
          "height": 285
        },
        "id": "7Ihp-tyknZjv",
        "outputId": "47d4bab0-92d5-4ea5-8bef-63edcc28e9c5"
      },
      "execution_count": 24,
      "outputs": [
        {
          "output_type": "stream",
          "name": "stdout",
          "text": [
            " * sqlite://\n",
            "Done.\n"
          ]
        },
        {
          "output_type": "execute_result",
          "data": {
            "text/plain": [
              "[('Scott Morrison', 'Australia'),\n",
              " ('Hassanal Bolkiah', 'Brunei'),\n",
              " ('Mostafa Madbouly', 'Egypt'),\n",
              " ('Narendra Modi', 'India'),\n",
              " ('Jacinda Ardern', 'New Zealand'),\n",
              " ('Harald V', 'Norway'),\n",
              " ('Jonas Gahr Støre', 'Norway'),\n",
              " ('Haitham bin Tarik', 'Oman'),\n",
              " ('Shehbaz Sharif', 'Pakistan'),\n",
              " ('António Costa', 'Portugal')]"
            ],
            "text/html": [
              "<table>\n",
              "    <thead>\n",
              "        <tr>\n",
              "            <th>leader</th>\n",
              "            <th>country</th>\n",
              "        </tr>\n",
              "    </thead>\n",
              "    <tbody>\n",
              "        <tr>\n",
              "            <td>Scott Morrison</td>\n",
              "            <td>Australia</td>\n",
              "        </tr>\n",
              "        <tr>\n",
              "            <td>Hassanal Bolkiah</td>\n",
              "            <td>Brunei</td>\n",
              "        </tr>\n",
              "        <tr>\n",
              "            <td>Mostafa Madbouly</td>\n",
              "            <td>Egypt</td>\n",
              "        </tr>\n",
              "        <tr>\n",
              "            <td>Narendra Modi</td>\n",
              "            <td>India</td>\n",
              "        </tr>\n",
              "        <tr>\n",
              "            <td>Jacinda Ardern</td>\n",
              "            <td>New Zealand</td>\n",
              "        </tr>\n",
              "        <tr>\n",
              "            <td>Harald V</td>\n",
              "            <td>Norway</td>\n",
              "        </tr>\n",
              "        <tr>\n",
              "            <td>Jonas Gahr Støre</td>\n",
              "            <td>Norway</td>\n",
              "        </tr>\n",
              "        <tr>\n",
              "            <td>Haitham bin Tarik</td>\n",
              "            <td>Oman</td>\n",
              "        </tr>\n",
              "        <tr>\n",
              "            <td>Shehbaz Sharif</td>\n",
              "            <td>Pakistan</td>\n",
              "        </tr>\n",
              "        <tr>\n",
              "            <td>António Costa</td>\n",
              "            <td>Portugal</td>\n",
              "        </tr>\n",
              "    </tbody>\n",
              "</table>"
            ]
          },
          "metadata": {},
          "execution_count": 24
        }
      ]
    },
    {
      "cell_type": "code",
      "source": [
        "%%sql SELECT prime_minister AS leader,\n",
        "             pm_start\n",
        "FROM prime_minister_terms\n",
        "UNION\n",
        "SELECT prime_minister AS leader,\n",
        "             country\n",
        "FROM prime_ministers\n",
        "ORDER BY country, leader;"
      ],
      "metadata": {
        "colab": {
          "base_uri": "https://localhost:8080/",
          "height": 496
        },
        "id": "w-LLqqUVoMM7",
        "outputId": "0ffbb09e-297e-4b3c-b65f-0b6c62602090"
      },
      "execution_count": 25,
      "outputs": [
        {
          "output_type": "stream",
          "name": "stdout",
          "text": [
            " * sqlite://\n",
            "Done.\n"
          ]
        },
        {
          "output_type": "execute_result",
          "data": {
            "text/plain": [
              "[('Hassanal Bolkiah', 1984),\n",
              " ('Narendra Modi', 2014),\n",
              " ('António Costa', 2015),\n",
              " ('Jacinda Ardern', 2017),\n",
              " ('Mostafa Madbouly', 2018),\n",
              " ('Scott Morrison', 2018),\n",
              " ('Boris Johnson', 2019),\n",
              " ('Haitham bin Tarik', 2020),\n",
              " ('Jonas Gahr Støre', 2021),\n",
              " ('Shehbaz Sharif', 2022),\n",
              " ('Scott Morrison', 'Australia'),\n",
              " ('Hassanal Bolkiah', 'Brunei'),\n",
              " ('Mostafa Madbouly', 'Egypt'),\n",
              " ('Narendra Modi', 'India'),\n",
              " ('Jacinda Ardern', 'New Zealand'),\n",
              " ('Jonas Gahr Støre', 'Norway'),\n",
              " ('Haitham bin Tarik', 'Oman'),\n",
              " ('Shehbaz Sharif', 'Pakistan'),\n",
              " ('António Costa', 'Portugal'),\n",
              " ('Boris Johnson', 'United Kingdom')]"
            ],
            "text/html": [
              "<table>\n",
              "    <thead>\n",
              "        <tr>\n",
              "            <th>leader</th>\n",
              "            <th>pm_start</th>\n",
              "        </tr>\n",
              "    </thead>\n",
              "    <tbody>\n",
              "        <tr>\n",
              "            <td>Hassanal Bolkiah</td>\n",
              "            <td>1984</td>\n",
              "        </tr>\n",
              "        <tr>\n",
              "            <td>Narendra Modi</td>\n",
              "            <td>2014</td>\n",
              "        </tr>\n",
              "        <tr>\n",
              "            <td>António Costa</td>\n",
              "            <td>2015</td>\n",
              "        </tr>\n",
              "        <tr>\n",
              "            <td>Jacinda Ardern</td>\n",
              "            <td>2017</td>\n",
              "        </tr>\n",
              "        <tr>\n",
              "            <td>Mostafa Madbouly</td>\n",
              "            <td>2018</td>\n",
              "        </tr>\n",
              "        <tr>\n",
              "            <td>Scott Morrison</td>\n",
              "            <td>2018</td>\n",
              "        </tr>\n",
              "        <tr>\n",
              "            <td>Boris Johnson</td>\n",
              "            <td>2019</td>\n",
              "        </tr>\n",
              "        <tr>\n",
              "            <td>Haitham bin Tarik</td>\n",
              "            <td>2020</td>\n",
              "        </tr>\n",
              "        <tr>\n",
              "            <td>Jonas Gahr Støre</td>\n",
              "            <td>2021</td>\n",
              "        </tr>\n",
              "        <tr>\n",
              "            <td>Shehbaz Sharif</td>\n",
              "            <td>2022</td>\n",
              "        </tr>\n",
              "        <tr>\n",
              "            <td>Scott Morrison</td>\n",
              "            <td>Australia</td>\n",
              "        </tr>\n",
              "        <tr>\n",
              "            <td>Hassanal Bolkiah</td>\n",
              "            <td>Brunei</td>\n",
              "        </tr>\n",
              "        <tr>\n",
              "            <td>Mostafa Madbouly</td>\n",
              "            <td>Egypt</td>\n",
              "        </tr>\n",
              "        <tr>\n",
              "            <td>Narendra Modi</td>\n",
              "            <td>India</td>\n",
              "        </tr>\n",
              "        <tr>\n",
              "            <td>Jacinda Ardern</td>\n",
              "            <td>New Zealand</td>\n",
              "        </tr>\n",
              "        <tr>\n",
              "            <td>Jonas Gahr Støre</td>\n",
              "            <td>Norway</td>\n",
              "        </tr>\n",
              "        <tr>\n",
              "            <td>Haitham bin Tarik</td>\n",
              "            <td>Oman</td>\n",
              "        </tr>\n",
              "        <tr>\n",
              "            <td>Shehbaz Sharif</td>\n",
              "            <td>Pakistan</td>\n",
              "        </tr>\n",
              "        <tr>\n",
              "            <td>António Costa</td>\n",
              "            <td>Portugal</td>\n",
              "        </tr>\n",
              "        <tr>\n",
              "            <td>Boris Johnson</td>\n",
              "            <td>United Kingdom</td>\n",
              "        </tr>\n",
              "    </tbody>\n",
              "</table>"
            ]
          },
          "metadata": {},
          "execution_count": 25
        }
      ]
    },
    {
      "cell_type": "code",
      "source": [
        "%%sql\n",
        "SELECT country FROM presidents\n",
        "INTERSECT\n",
        "SELECT country FROM prime_ministers"
      ],
      "metadata": {
        "colab": {
          "base_uri": "https://localhost:8080/",
          "height": 159
        },
        "id": "ls-6q3F1q0dE",
        "outputId": "6a27bfff-c6c1-4dd4-a496-3c3921379572"
      },
      "execution_count": 26,
      "outputs": [
        {
          "output_type": "stream",
          "name": "stdout",
          "text": [
            " * sqlite://\n",
            "Done.\n"
          ]
        },
        {
          "output_type": "execute_result",
          "data": {
            "text/plain": [
              "[('Egypt',), ('India',), ('Pakistan',), ('Portugal',)]"
            ],
            "text/html": [
              "<table>\n",
              "    <thead>\n",
              "        <tr>\n",
              "            <th>country</th>\n",
              "        </tr>\n",
              "    </thead>\n",
              "    <tbody>\n",
              "        <tr>\n",
              "            <td>Egypt</td>\n",
              "        </tr>\n",
              "        <tr>\n",
              "            <td>India</td>\n",
              "        </tr>\n",
              "        <tr>\n",
              "            <td>Pakistan</td>\n",
              "        </tr>\n",
              "        <tr>\n",
              "            <td>Portugal</td>\n",
              "        </tr>\n",
              "    </tbody>\n",
              "</table>"
            ]
          },
          "metadata": {},
          "execution_count": 26
        }
      ]
    },
    {
      "cell_type": "code",
      "source": [
        "%%sql SELECT country AS intercept_country\n",
        "FROM prime_ministers\n",
        "INTERSECT\n",
        "SELECT country FROM presidents;"
      ],
      "metadata": {
        "colab": {
          "base_uri": "https://localhost:8080/",
          "height": 159
        },
        "id": "dTOUfbtysVL4",
        "outputId": "692521f0-3f0c-4e18-8968-fec6601b2d0b"
      },
      "execution_count": 27,
      "outputs": [
        {
          "output_type": "stream",
          "name": "stdout",
          "text": [
            " * sqlite://\n",
            "Done.\n"
          ]
        },
        {
          "output_type": "execute_result",
          "data": {
            "text/plain": [
              "[('Egypt',), ('India',), ('Pakistan',), ('Portugal',)]"
            ],
            "text/html": [
              "<table>\n",
              "    <thead>\n",
              "        <tr>\n",
              "            <th>intercept_country</th>\n",
              "        </tr>\n",
              "    </thead>\n",
              "    <tbody>\n",
              "        <tr>\n",
              "            <td>Egypt</td>\n",
              "        </tr>\n",
              "        <tr>\n",
              "            <td>India</td>\n",
              "        </tr>\n",
              "        <tr>\n",
              "            <td>Pakistan</td>\n",
              "        </tr>\n",
              "        <tr>\n",
              "            <td>Portugal</td>\n",
              "        </tr>\n",
              "    </tbody>\n",
              "</table>"
            ]
          },
          "metadata": {},
          "execution_count": 27
        }
      ]
    },
    {
      "cell_type": "code",
      "source": [
        "%%sql SELECT country, prime_minister AS leader\n",
        "FROM prime_ministers\n",
        "INTERSECT\n",
        "SELECT country, monarch\n",
        "FROM monarchs;"
      ],
      "metadata": {
        "colab": {
          "base_uri": "https://localhost:8080/",
          "height": 117
        },
        "id": "5V___2BtsnmR",
        "outputId": "895c3167-8e93-4177-c43d-d66f30817725"
      },
      "execution_count": 28,
      "outputs": [
        {
          "output_type": "stream",
          "name": "stdout",
          "text": [
            " * sqlite://\n",
            "Done.\n"
          ]
        },
        {
          "output_type": "execute_result",
          "data": {
            "text/plain": [
              "[('Brunei', 'Hassanal Bolkiah'), ('Oman', 'Haitham bin Tarik')]"
            ],
            "text/html": [
              "<table>\n",
              "    <thead>\n",
              "        <tr>\n",
              "            <th>country</th>\n",
              "            <th>leader</th>\n",
              "        </tr>\n",
              "    </thead>\n",
              "    <tbody>\n",
              "        <tr>\n",
              "            <td>Brunei</td>\n",
              "            <td>Hassanal Bolkiah</td>\n",
              "        </tr>\n",
              "        <tr>\n",
              "            <td>Oman</td>\n",
              "            <td>Haitham bin Tarik</td>\n",
              "        </tr>\n",
              "    </tbody>\n",
              "</table>"
            ]
          },
          "metadata": {},
          "execution_count": 28
        }
      ]
    },
    {
      "cell_type": "markdown",
      "source": [
        "## Ham monarxi va ham prime_ministri bulgan davlatlar"
      ],
      "metadata": {
        "id": "hMtk1NtCFo9l"
      }
    },
    {
      "cell_type": "code",
      "source": [
        "%%sql SELECT country, prime_minister AS leader\n",
        "FROM prime_ministers\n",
        "INTERSECT\n",
        "SELECT country, monarch\n",
        "FROM monarchs;"
      ],
      "metadata": {
        "colab": {
          "base_uri": "https://localhost:8080/",
          "height": 117
        },
        "id": "DHWev0EDFxmP",
        "outputId": "2092ab75-69bc-4e20-dc17-d09576b3e563"
      },
      "execution_count": 33,
      "outputs": [
        {
          "output_type": "stream",
          "name": "stdout",
          "text": [
            " * sqlite://\n",
            "Done.\n"
          ]
        },
        {
          "output_type": "execute_result",
          "data": {
            "text/plain": [
              "[('Brunei', 'Hassanal Bolkiah'), ('Oman', 'Haitham bin Tarik')]"
            ],
            "text/html": [
              "<table>\n",
              "    <thead>\n",
              "        <tr>\n",
              "            <th>country</th>\n",
              "            <th>leader</th>\n",
              "        </tr>\n",
              "    </thead>\n",
              "    <tbody>\n",
              "        <tr>\n",
              "            <td>Brunei</td>\n",
              "            <td>Hassanal Bolkiah</td>\n",
              "        </tr>\n",
              "        <tr>\n",
              "            <td>Oman</td>\n",
              "            <td>Haitham bin Tarik</td>\n",
              "        </tr>\n",
              "    </tbody>\n",
              "</table>"
            ]
          },
          "metadata": {},
          "execution_count": 33
        }
      ]
    }
  ]
}