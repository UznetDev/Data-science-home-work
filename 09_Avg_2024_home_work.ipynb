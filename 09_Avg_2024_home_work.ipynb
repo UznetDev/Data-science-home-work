{
  "nbformat": 4,
  "nbformat_minor": 0,
  "metadata": {
    "colab": {
      "provenance": [],
      "authorship_tag": "ABX9TyNbFV+FGm94irRj+vvC2hGm",
      "include_colab_link": true
    },
    "kernelspec": {
      "name": "python3",
      "display_name": "Python 3"
    },
    "language_info": {
      "name": "python"
    }
  },
  "cells": [
    {
      "cell_type": "markdown",
      "metadata": {
        "id": "view-in-github",
        "colab_type": "text"
      },
      "source": [
        "<a href=\"https://colab.research.google.com/github/UznetDev/Data-science-home-work/blob/main/09_Avg_2024_home_work.ipynb\" target=\"_parent\"><img src=\"https://colab.research.google.com/assets/colab-badge.svg\" alt=\"Open In Colab\"/></a>"
      ]
    },
    {
      "cell_type": "code",
      "execution_count": 73,
      "metadata": {
        "id": "dnIhkUv_zMjq"
      },
      "outputs": [],
      "source": [
        "import numpy as np\n",
        "import warnings\n",
        "warnings.filterwarnings('ignore')"
      ]
    },
    {
      "cell_type": "code",
      "source": [
        "class LinearRegression():\n",
        "    def __init__(self, step=0.001, n_iters=10000):\n",
        "        self.__k = 0\n",
        "        self.step = step\n",
        "        self.n_iters = n_iters\n",
        "        self._slope_ = 0\n",
        "        self._intercept_ = 0\n",
        "        self.__m_ = 0\n",
        "        self.__n_ = 0\n",
        "\n",
        "    def fit(self, X, y):\n",
        "        self.__n_ = len(X)\n",
        "\n",
        "        if isinstance(X[0], list):\n",
        "            self.__m_ = len(X[0])\n",
        "        else:\n",
        "            self.__m_ = 1\n",
        "            X = [[x] for x in X]\n",
        "\n",
        "        if self.__n_ != len(y):\n",
        "            raise ValueError(f\"X and y must have the same number of samples: {(self.__n_, len(y))}\")\n",
        "\n",
        "        self._slope_ = [0] * self.__m_\n",
        "        self._intercept_ = 0\n",
        "\n",
        "        for _ in range(self.n_iters):\n",
        "            y_pred = self.predict(X)\n",
        "\n",
        "            for j in range(self.__m_):\n",
        "                self._slope_[j] -= self.step * (-(2/self.__n_) * sum((y[i] - y_pred[i]) * X[i][j] for i in range(self.__n_)))\n",
        "            self._intercept_ -= self.step * (-(2/self.__n_) * sum(y[i] - y_pred[i] for i in range(self.__n_)))\n",
        "\n",
        "    def predict(self, X):\n",
        "        if isinstance(X[0], list):\n",
        "            m = len(X[0])\n",
        "        else:\n",
        "            m = 1\n",
        "            X = [[x] for x in X]\n",
        "        n = len(X)\n",
        "        if m != self.__m_ or n != self.__n_:\n",
        "            raise ValueError(f\"X must have the same number of features as the training data: {(m, n)}, Except: {(self.__m_, self.__n_)}\")\n",
        "\n",
        "        y_pred = []\n",
        "        for i in range(len(X)):\n",
        "            y_pred.append(sum(self._slope_[j] * X[i][j] for j in range(m)) + self._intercept_)\n",
        "\n",
        "        return y_pred\n",
        "\n",
        "    def MSE(self, y, y_pred):\n",
        "        return sum((y[i] - y_pred[i]) ** 2 for i in range(len(y))) / len(y)"
      ],
      "metadata": {
        "id": "ppTV_skKJyDf"
      },
      "execution_count": 74,
      "outputs": []
    },
    {
      "cell_type": "code",
      "source": [
        "X = np.array([1, 2, 3, 4, 5])\n",
        "y = np.array([30, 50, 70, 100, 120])\n",
        "\n",
        "\n",
        "model = LinearRegression()\n",
        "model.fit(X, y)\n",
        "predictions = model.predict(X)\n",
        "mse = model.MSE(np.array(y), predictions)\n",
        "print(f\"Weights: {model._slope_}, Bias: {model._intercept_}\")\n",
        "print(f\"Predictions: {predictions}\")\n",
        "print(f\"MSE: {mse}\")"
      ],
      "metadata": {
        "colab": {
          "base_uri": "https://localhost:8080/"
        },
        "id": "0tKw3ZMj1asB",
        "outputId": "c1aab0cc-3330-4e3e-b55a-7e41d1640a89"
      },
      "execution_count": 75,
      "outputs": [
        {
          "output_type": "stream",
          "name": "stdout",
          "text": [
            "Weights: [22.988013539672327], Bias: 5.043274925066143\n",
            "Predictions: [28.03128846473847, 51.0193020044108, 74.00731554408313, 96.99532908375545, 119.98334262342777]\n",
            "MSE: 6.000340867647612\n"
          ]
        }
      ]
    },
    {
      "cell_type": "code",
      "source": [
        "X = [[1, 2], [2, 3], [3, 4], [4, 5]]\n",
        "\n",
        "y = [30, 50, 70, 90]\n",
        "\n",
        "model = LinearRegression(step=0.01, n_iters=1000)\n",
        "model.fit(X, y)\n",
        "\n",
        "y_pred = model.predict(X)\n",
        "\n",
        "print(\"Slope:\", model._slope_)\n",
        "print(\"Intercept:\", model._intercept_)\n",
        "print(\"MSE:\", model.MSE(y, y_pred))\n",
        "print(\"Predict:\", y_pred)"
      ],
      "metadata": {
        "colab": {
          "base_uri": "https://localhost:8080/"
        },
        "id": "rmL-N7Cv7XEi",
        "outputId": "a984a7bd-b355-4d72-b665-9d03c47ed99c"
      },
      "execution_count": 76,
      "outputs": [
        {
          "output_type": "stream",
          "name": "stdout",
          "text": [
            "Slope: [9.936033878904194, 10.024707318098303]\n",
            "Intercept: 0.08867343919412221\n",
            "MSE: 0.0021586341489243477\n",
            "Predict: [30.07412195429492, 50.03486315129742, 69.99560434829992, 89.95634554530241]\n"
          ]
        }
      ]
    }
  ]
}