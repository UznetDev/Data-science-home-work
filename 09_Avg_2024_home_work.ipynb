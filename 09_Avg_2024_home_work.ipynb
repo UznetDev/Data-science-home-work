{
  "nbformat": 4,
  "nbformat_minor": 0,
  "metadata": {
    "colab": {
      "provenance": [],
      "authorship_tag": "ABX9TyMf/AiemCFN2iSXikETuc0R",
      "include_colab_link": true
    },
    "kernelspec": {
      "name": "python3",
      "display_name": "Python 3"
    },
    "language_info": {
      "name": "python"
    }
  },
  "cells": [
    {
      "cell_type": "markdown",
      "metadata": {
        "id": "view-in-github",
        "colab_type": "text"
      },
      "source": [
        "<a href=\"https://colab.research.google.com/github/UznetDev/Data-science-home-work/blob/main/09_Avg_2024_home_work.ipynb\" target=\"_parent\"><img src=\"https://colab.research.google.com/assets/colab-badge.svg\" alt=\"Open In Colab\"/></a>"
      ]
    },
    {
      "cell_type": "code",
      "execution_count": 2,
      "metadata": {
        "id": "dnIhkUv_zMjq"
      },
      "outputs": [],
      "source": [
        "import numpy as np\n",
        "import pandas as pd\n",
        "import warnings\n",
        "warnings.filterwarnings('ignore')"
      ]
    },
    {
      "cell_type": "code",
      "source": [
        "X = np.array([1, 2, 3, 4, 5])\n",
        "y = np.array([30, 50, 70, 100, 120])\n",
        "\n",
        "class LinearRegression():\n",
        "    def __init__(self, lr=0.001, n_iters=10000):\n",
        "        self.lr = lr\n",
        "        self.n_iters = n_iters\n",
        "        self.weights = 0\n",
        "        self.bias = 0\n",
        "\n",
        "    def fit(self, X, y):\n",
        "        n_samples = len(X)\n",
        "\n",
        "        for _ in range(self.n_iters):\n",
        "            y_pred = self.predict(X)\n",
        "\n",
        "            dw = -(2/n_samples) * np.sum(X * (y - y_pred))\n",
        "            db = -(2/n_samples) * np.sum(y - y_pred)\n",
        "\n",
        "            self.weights -= self.lr * dw\n",
        "            self.bias -= self.lr * db\n",
        "\n",
        "    def predict(self, X):\n",
        "        return (self.weights * X) + self.bias\n",
        "\n",
        "    def MSE(self, y, y_pred):\n",
        "        return np.mean((y - y_pred)**2)\n",
        "\n",
        "\n",
        "model = LinearRegression()\n",
        "model.fit(X, y)\n",
        "predictions = model.predict(X)\n",
        "mse = model.MSE(np.array(y), predictions)\n",
        "print(f\"Weights: {model.weights}, Bias: {model.bias}\")\n",
        "print(f\"Predictions: {predictions}\")\n",
        "print(f\"MSE: {mse}\")"
      ],
      "metadata": {
        "colab": {
          "base_uri": "https://localhost:8080/"
        },
        "id": "0tKw3ZMj1asB",
        "outputId": "e10ea506-b1ba-423f-c5f2-9cf13dfe921e"
      },
      "execution_count": 15,
      "outputs": [
        {
          "output_type": "stream",
          "name": "stdout",
          "text": [
            "Weights: 22.988013539672327, Bias: 5.043274925066143\n",
            "Predictions: [ 28.03128846  51.019302    74.00731554  96.99532908 119.98334262]\n",
            "MSE: 6.000340867647612\n"
          ]
        }
      ]
    },
    {
      "cell_type": "code",
      "source": [],
      "metadata": {
        "id": "rmL-N7Cv7XEi"
      },
      "execution_count": null,
      "outputs": []
    }
  ]
}