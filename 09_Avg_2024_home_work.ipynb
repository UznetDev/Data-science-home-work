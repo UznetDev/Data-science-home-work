{
  "nbformat": 4,
  "nbformat_minor": 0,
  "metadata": {
    "colab": {
      "provenance": [],
      "authorship_tag": "ABX9TyMyTrSzMM6f+1xRxXT639kq",
      "include_colab_link": true
    },
    "kernelspec": {
      "name": "python3",
      "display_name": "Python 3"
    },
    "language_info": {
      "name": "python"
    }
  },
  "cells": [
    {
      "cell_type": "markdown",
      "metadata": {
        "id": "view-in-github",
        "colab_type": "text"
      },
      "source": [
        "<a href=\"https://colab.research.google.com/github/UznetDev/Data-science-home-work/blob/main/09_Avg_2024_home_work.ipynb\" target=\"_parent\"><img src=\"https://colab.research.google.com/assets/colab-badge.svg\" alt=\"Open In Colab\"/></a>"
      ]
    },
    {
      "cell_type": "code",
      "execution_count": 2,
      "metadata": {
        "id": "dnIhkUv_zMjq"
      },
      "outputs": [],
      "source": [
        "import numpy as np\n",
        "import pandas as pd\n",
        "import warnings\n",
        "warnings.filterwarnings('ignore')"
      ]
    },
    {
      "cell_type": "code",
      "source": [
        "X = np.array([1, 2, 3, 4, 5])\n",
        "y = np.array([30, 50, 70, 100, 120])\n",
        "\n",
        "class LinearRegression():\n",
        "    def __init__(self, step=0.001, n_iters=10000):\n",
        "        self.step = step\n",
        "        self.n_iters = n_iters\n",
        "        self.weights_ = 0\n",
        "        self.bias_ = 0\n",
        "\n",
        "    def fit(self, X, y):\n",
        "        n = len(X)\n",
        "\n",
        "        for _ in range(self.n_iters):\n",
        "            y_pred = self.predict(X)\n",
        "\n",
        "            self.weights_ -= self.step * (-(2/n) * np.sum(X * (y - y_pred)))\n",
        "\n",
        "            self.bias_ -= self.step * (-(2/n) * np.sum(y - y_pred))\n",
        "\n",
        "\n",
        "\n",
        "    def predict(self, X):\n",
        "        # y = wx+b\n",
        "        return (self.weights_ * X) + self.bias_\n",
        "\n",
        "    def MSE(self, y, y_pred):\n",
        "        return np.mean((y - y_pred)**2)\n",
        "\n",
        "\n",
        "model = LinearRegression()\n",
        "model.fit(X, y)\n",
        "predictions = model.predict(X)\n",
        "mse = model.MSE(np.array(y), predictions)\n",
        "print(f\"Weights: {model.weights_}, Bias: {model.bias_}\")\n",
        "print(f\"Predictions: {predictions}\")\n",
        "print(f\"MSE: {mse}\")"
      ],
      "metadata": {
        "colab": {
          "base_uri": "https://localhost:8080/"
        },
        "id": "0tKw3ZMj1asB",
        "outputId": "1ce7af2f-019d-4407-f0b7-c700bc16ed68"
      },
      "execution_count": 26,
      "outputs": [
        {
          "output_type": "stream",
          "name": "stdout",
          "text": [
            "Weights: 22.988013539672327, Bias: 5.043274925066143\n",
            "Predictions: [ 28.03128846  51.019302    74.00731554  96.99532908 119.98334262]\n",
            "MSE: 6.000340867647612\n"
          ]
        }
      ]
    },
    {
      "cell_type": "code",
      "source": [
        "class LinearRegression():\n",
        "    def __init__(self, lr=0.001, n_iters=1000):\n",
        "        # Klassni o'rnatish (initialization) jarayonida learning rate (o'rganish tezligi) va n_iters (iteratsiyalar soni) ni o'rnatamiz.\n",
        "        self.lr = lr  # o'rganish tezligi, gradientlarni qanchalik katta qadamlar bilan yangilashni belgilaydi.\n",
        "        self.n_iters = n_iters  # Iteratsiyalar soni, gradient pasayishi qanchalik marta takrorlanishini belgilaydi.\n",
        "        self.weights = 0  # Boshlang'ich vazn (weights), hozircha nolga teng.\n",
        "        self.bias = 0  # Boshlang'ich bias, hozircha nolga teng.\n",
        "\n",
        "    def fit(self, X, y):\n",
        "        n_samples = len(X)  # n_samples o'zgaruvchisi ma'lumotlar to'plamidagi nuqtalar sonini (sample) ifodalaydi.\n",
        "\n",
        "        # Gradient pasayishi algoritmini n_iters marta bajarish uchun loop tashkil qilamiz.\n",
        "        for _ in range(self.n_iters):\n",
        "            y_pred = self.predict(X)  # Hozirgi vazn va bias bilan bashorat qilingan y qiymatlarini topamiz.\n",
        "\n",
        "            # Gradientlarni hisoblaymiz:\n",
        "            dw = -(2/n_samples) * np.sum(X * (y - y_pred))\n",
        "            # dw - vaznning gradienti, bu qiymat vaznni qanday yangilash kerakligini belgilaydi.\n",
        "            # X * (y - y_pred) yordamida asl y qiymati bilan bashorat qilingan\n",
        "            # y qiymati orasidagi farqni hisoblaymiz,\n",
        "            # so'ng bu farqni X ga ko'paytirib gradientni topamiz.\n",
        "\n",
        "            db = -(2/n_samples) * np.sum(y - y_pred)\n",
        "            # db - biasning gradienti, bu qiymat biasni qanday yangilash kerakligini belgilaydi.\n",
        "            # Bu yerda faqat (y - y_pred) orqali gradientni topamiz.\n",
        "\n",
        "            # Vazn va biasni yangilaymiz:\n",
        "            self.weights -= self.lr * dw  # Vaznni yangilash: eski vazndan o'rganish tezligi bo'yicha gradientni ayiramiz.\n",
        "            self.bias -= self.lr * db  # Biasni yangilash: eski biasdan o'rganish tezligi bo'yicha gradientni ayiramiz.\n",
        "\n",
        "    def predict(self, X):\n",
        "        # X kirish ma'lumotlariga mos ravishda y qiymatlarini bashorat qiladi.\n",
        "        # Bu y = mx + b tenglamasiga asoslanadi, bu yerda self.weights - m va self.bias - b.\n",
        "        return (self.weights * X) + self.bias\n",
        "\n",
        "    def MSE(self, y, y_pred):\n",
        "        # MSE - Mean Squared Error (o'rtacha kvadrat xatolik) ni hisoblaydi.\n",
        "        # Bu ko'rsatkich modelning qanday yaxshi ishlayotganini aniqlashda ishlatiladi.\n",
        "        return np.mean((y - y_pred)**2)  # Asl y va bashorat qilingan y orasidagi farqning kvadratini o'rtacha qiymatini hisoblaymiz.\n"
      ],
      "metadata": {
        "id": "rmL-N7Cv7XEi"
      },
      "execution_count": null,
      "outputs": []
    }
  ]
}