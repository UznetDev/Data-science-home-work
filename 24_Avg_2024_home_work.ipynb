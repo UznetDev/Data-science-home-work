{
  "nbformat": 4,
  "nbformat_minor": 0,
  "metadata": {
    "colab": {
      "provenance": [],
      "collapsed_sections": [
        "4yHz4zewqni4"
      ],
      "authorship_tag": "ABX9TyNQcPJl1PdCMvuyrPknKrhN",
      "include_colab_link": true
    },
    "kernelspec": {
      "name": "python3",
      "display_name": "Python 3"
    },
    "language_info": {
      "name": "python"
    }
  },
  "cells": [
    {
      "cell_type": "markdown",
      "metadata": {
        "id": "view-in-github",
        "colab_type": "text"
      },
      "source": [
        "<a href=\"https://colab.research.google.com/github/UznetDev/Data-science-home-work/blob/main/24_Avg_2024_home_work.ipynb\" target=\"_parent\"><img src=\"https://colab.research.google.com/assets/colab-badge.svg\" alt=\"Open In Colab\"/></a>"
      ]
    },
    {
      "cell_type": "markdown",
      "source": [
        "# **SQL**"
      ],
      "metadata": {
        "id": "GZxK2bDnj6_Q"
      }
    },
    {
      "cell_type": "markdown",
      "source": [
        "### Import librares"
      ],
      "metadata": {
        "id": "4yHz4zewqni4"
      }
    },
    {
      "cell_type": "code",
      "execution_count": null,
      "metadata": {
        "id": "zpHxL5F4hVc9"
      },
      "outputs": [],
      "source": [
        "import pandas as pd"
      ]
    },
    {
      "cell_type": "markdown",
      "source": [
        "### Set-up for SQL"
      ],
      "metadata": {
        "id": "NS6j93AQiH7B"
      }
    },
    {
      "cell_type": "code",
      "source": [
        "%load_ext sql\n",
        "%sql sqlite://"
      ],
      "metadata": {
        "id": "_cyIAPu-iBED"
      },
      "execution_count": null,
      "outputs": []
    },
    {
      "cell_type": "markdown",
      "source": [
        "##### Load dataset"
      ],
      "metadata": {
        "id": "qlhev4g0_TQD"
      }
    },
    {
      "cell_type": "code",
      "source": [
        "monarchs = pd.read_csv('monarchs.csv')\n",
        "presidents = pd.read_csv('presidents.csv')\n",
        "prime_minister_terms = pd.read_csv('prime_minister_terms.csv')\n",
        "prime_ministers = pd.read_csv('prime_ministers.csv')\n",
        "states = pd.read_csv('states.csv')"
      ],
      "metadata": {
        "id": "fWsxJNZ2ir-H"
      },
      "execution_count": null,
      "outputs": []
    },
    {
      "cell_type": "markdown",
      "source": [
        "##### Upload dataset to SQL"
      ],
      "metadata": {
        "id": "aunGHMzJ_bSy"
      }
    },
    {
      "cell_type": "code",
      "source": [
        "%sql DROP TABLE IF EXISTS monarchs;\n",
        "%sql --persist monarchs\n",
        "\n",
        "%sql DROP TABLE IF EXISTS presidents;\n",
        "%sql --persist presidents\n",
        "\n",
        "%sql DROP TABLE IF EXISTS prime_minister_terms;\n",
        "%sql --persist prime_minister_terms\n",
        "\n",
        "%sql DROP TABLE IF EXISTS prime_ministers;\n",
        "%sql --persist prime_ministers\n",
        "\n",
        "%sql DROP TABLE IF EXISTS states;\n",
        "%sql --persist states"
      ],
      "metadata": {
        "colab": {
          "base_uri": "https://localhost:8080/",
          "height": 296
        },
        "id": "gCxdrMMXi34q",
        "outputId": "061d0904-c768-4f35-930d-d6a634270935"
      },
      "execution_count": null,
      "outputs": [
        {
          "output_type": "stream",
          "name": "stdout",
          "text": [
            " * sqlite://\n",
            "Done.\n",
            " * sqlite://\n",
            " * sqlite://\n",
            "Done.\n",
            " * sqlite://\n",
            " * sqlite://\n",
            "Done.\n",
            " * sqlite://\n",
            " * sqlite://\n",
            "Done.\n",
            " * sqlite://\n",
            " * sqlite://\n",
            "Done.\n",
            " * sqlite://\n"
          ]
        },
        {
          "output_type": "execute_result",
          "data": {
            "text/plain": [
              "'Persisted states'"
            ],
            "application/vnd.google.colaboratory.intrinsic+json": {
              "type": "string"
            }
          },
          "metadata": {},
          "execution_count": 5
        }
      ]
    },
    {
      "cell_type": "markdown",
      "source": [
        "### Home work"
      ],
      "metadata": {
        "id": "Xp8q7BO4lq4q"
      }
    },
    {
      "cell_type": "markdown",
      "source": [
        "CASE WHEN and GROUP BY Write a query to list each continent and the number of countries it contains. Additionally, categorize each continent as 'Small' if it has fewer than 10 countries, 'Medium' if it has between 10 and 20 countries, and 'Large' if it has more than 20 countries. Use CASE WHEN in the SELECT clause and GROUP BY the continent."
      ],
      "metadata": {
        "id": "lvAeO0rqAO0g"
      }
    },
    {
      "cell_type": "code",
      "source": [
        "%%sql\n",
        "SELECT continent,\n",
        "    COUNT(*) AS country_count,\n",
        "    CASE\n",
        "        WHEN COUNT(*) < 10 THEN 'Small'\n",
        "        WHEN COUNT(*) BETWEEN 10 AND 20 THEN 'Medium'\n",
        "        ELSE 'Large'\n",
        "    END AS continent_size\n",
        "FROM states\n",
        "GROUP BY continent;"
      ],
      "metadata": {
        "colab": {
          "base_uri": "https://localhost:8080/",
          "height": 201
        },
        "id": "E3wG8UUTAMwu",
        "outputId": "82b537ed-419a-4121-95b9-73752681758b"
      },
      "execution_count": null,
      "outputs": [
        {
          "output_type": "stream",
          "name": "stdout",
          "text": [
            " * sqlite://\n",
            "Done.\n"
          ]
        },
        {
          "output_type": "execute_result",
          "data": {
            "text/plain": [
              "[('Africa', 1, 'Small'),\n",
              " ('Asia', 4, 'Small'),\n",
              " ('Europe', 2, 'Small'),\n",
              " ('North America', 1, 'Small'),\n",
              " ('Oceania', 1, 'Small'),\n",
              " ('South America', 2, 'Small')]"
            ],
            "text/html": [
              "<table>\n",
              "    <thead>\n",
              "        <tr>\n",
              "            <th>continent</th>\n",
              "            <th>country_count</th>\n",
              "            <th>continent_size</th>\n",
              "        </tr>\n",
              "    </thead>\n",
              "    <tbody>\n",
              "        <tr>\n",
              "            <td>Africa</td>\n",
              "            <td>1</td>\n",
              "            <td>Small</td>\n",
              "        </tr>\n",
              "        <tr>\n",
              "            <td>Asia</td>\n",
              "            <td>4</td>\n",
              "            <td>Small</td>\n",
              "        </tr>\n",
              "        <tr>\n",
              "            <td>Europe</td>\n",
              "            <td>2</td>\n",
              "            <td>Small</td>\n",
              "        </tr>\n",
              "        <tr>\n",
              "            <td>North America</td>\n",
              "            <td>1</td>\n",
              "            <td>Small</td>\n",
              "        </tr>\n",
              "        <tr>\n",
              "            <td>Oceania</td>\n",
              "            <td>1</td>\n",
              "            <td>Small</td>\n",
              "        </tr>\n",
              "        <tr>\n",
              "            <td>South America</td>\n",
              "            <td>2</td>\n",
              "            <td>Small</td>\n",
              "        </tr>\n",
              "    </tbody>\n",
              "</table>"
            ]
          },
          "metadata": {},
          "execution_count": 7
        }
      ]
    },
    {
      "cell_type": "markdown",
      "source": [
        "Window Functions: ROW_NUMBER() and ORDER BY Write a query to list all countries along with their prime ministers and assign a unique row number to each prime minister within each country, ordered by the start year (pm_start). Use the ROW_NUMBER() window function and ORDER BY in your query."
      ],
      "metadata": {
        "id": "wrjW77yOBOO9"
      }
    },
    {
      "cell_type": "code",
      "source": [
        "%%sql\n",
        "SELECT country, prime_minister, pm_start,\n",
        "    ROW_NUMBER()\n",
        "      OVER (PARTITION BY country\n",
        "            ORDER BY pm_start) AS row_num\n",
        "FROM prime_minister_terms AS p1\n",
        "INNER JOIN prime_ministers AS p2\n",
        "USING(prime_minister)\n",
        "ORDER BY country, pm_start;"
      ],
      "metadata": {
        "colab": {
          "base_uri": "https://localhost:8080/",
          "height": 285
        },
        "id": "JlpQZgUrAORi",
        "outputId": "e7436a16-86bd-4109-efcf-91f3547fad9f"
      },
      "execution_count": null,
      "outputs": [
        {
          "output_type": "stream",
          "name": "stdout",
          "text": [
            " * sqlite://\n",
            "Done.\n"
          ]
        },
        {
          "output_type": "execute_result",
          "data": {
            "text/plain": [
              "[('Australia', 'Scott Morrison', 2018, 1),\n",
              " ('Brunei', 'Hassanal Bolkiah', 1984, 1),\n",
              " ('Egypt', 'Mostafa Madbouly', 2018, 1),\n",
              " ('India', 'Narendra Modi', 2014, 1),\n",
              " ('New Zealand', 'Jacinda Ardern', 2017, 1),\n",
              " ('Norway', 'Jonas Gahr Støre', 2021, 1),\n",
              " ('Oman', 'Haitham bin Tarik', 2020, 1),\n",
              " ('Pakistan', 'Shehbaz Sharif', 2022, 1),\n",
              " ('Portugal', 'António Costa', 2015, 1),\n",
              " ('United Kingdom', 'Boris Johnson', 2019, 1)]"
            ],
            "text/html": [
              "<table>\n",
              "    <thead>\n",
              "        <tr>\n",
              "            <th>country</th>\n",
              "            <th>prime_minister</th>\n",
              "            <th>pm_start</th>\n",
              "            <th>row_num</th>\n",
              "        </tr>\n",
              "    </thead>\n",
              "    <tbody>\n",
              "        <tr>\n",
              "            <td>Australia</td>\n",
              "            <td>Scott Morrison</td>\n",
              "            <td>2018</td>\n",
              "            <td>1</td>\n",
              "        </tr>\n",
              "        <tr>\n",
              "            <td>Brunei</td>\n",
              "            <td>Hassanal Bolkiah</td>\n",
              "            <td>1984</td>\n",
              "            <td>1</td>\n",
              "        </tr>\n",
              "        <tr>\n",
              "            <td>Egypt</td>\n",
              "            <td>Mostafa Madbouly</td>\n",
              "            <td>2018</td>\n",
              "            <td>1</td>\n",
              "        </tr>\n",
              "        <tr>\n",
              "            <td>India</td>\n",
              "            <td>Narendra Modi</td>\n",
              "            <td>2014</td>\n",
              "            <td>1</td>\n",
              "        </tr>\n",
              "        <tr>\n",
              "            <td>New Zealand</td>\n",
              "            <td>Jacinda Ardern</td>\n",
              "            <td>2017</td>\n",
              "            <td>1</td>\n",
              "        </tr>\n",
              "        <tr>\n",
              "            <td>Norway</td>\n",
              "            <td>Jonas Gahr Støre</td>\n",
              "            <td>2021</td>\n",
              "            <td>1</td>\n",
              "        </tr>\n",
              "        <tr>\n",
              "            <td>Oman</td>\n",
              "            <td>Haitham bin Tarik</td>\n",
              "            <td>2020</td>\n",
              "            <td>1</td>\n",
              "        </tr>\n",
              "        <tr>\n",
              "            <td>Pakistan</td>\n",
              "            <td>Shehbaz Sharif</td>\n",
              "            <td>2022</td>\n",
              "            <td>1</td>\n",
              "        </tr>\n",
              "        <tr>\n",
              "            <td>Portugal</td>\n",
              "            <td>António Costa</td>\n",
              "            <td>2015</td>\n",
              "            <td>1</td>\n",
              "        </tr>\n",
              "        <tr>\n",
              "            <td>United Kingdom</td>\n",
              "            <td>Boris Johnson</td>\n",
              "            <td>2019</td>\n",
              "            <td>1</td>\n",
              "        </tr>\n",
              "    </tbody>\n",
              "</table>"
            ]
          },
          "metadata": {},
          "execution_count": 13
        }
      ]
    },
    {
      "cell_type": "markdown",
      "source": [
        "Simple Subquery with WHERE Write a query to list all countries where the president's name is the same as the prime minister's name. Use a simple subquery within the WHERE clause to compare the names."
      ],
      "metadata": {
        "id": "79a90NGZCgju"
      }
    },
    {
      "cell_type": "code",
      "source": [
        "%%sql\n",
        "SELECT DISTINCT country\n",
        "FROM presidents\n",
        "WHERE president IN (\n",
        "  SELECT prime_minister\n",
        "  FROM prime_minister_terms);"
      ],
      "metadata": {
        "colab": {
          "base_uri": "https://localhost:8080/",
          "height": 75
        },
        "id": "bk_slcvBChJn",
        "outputId": "06294a41-a622-43e3-d76d-1d6a0911a19e"
      },
      "execution_count": null,
      "outputs": [
        {
          "output_type": "stream",
          "name": "stdout",
          "text": [
            " * sqlite://\n",
            "Done.\n"
          ]
        },
        {
          "output_type": "execute_result",
          "data": {
            "text/plain": [
              "[]"
            ],
            "text/html": [
              "<table>\n",
              "    <thead>\n",
              "        <tr>\n",
              "            <th>country</th>\n",
              "        </tr>\n",
              "    </thead>\n",
              "    <tbody>\n",
              "    </tbody>\n",
              "</table>"
            ]
          },
          "metadata": {},
          "execution_count": 15
        }
      ]
    },
    {
      "cell_type": "markdown",
      "source": [
        "Correlated Subquery with SELECT Write a query to list all countries along with their continent and the most recent pm_start year for each country. Use a correlated subquery within the SELECT clause to find the most recent pm_start for each country."
      ],
      "metadata": {
        "id": "IY4wUPfjC0dm"
      }
    },
    {
      "cell_type": "code",
      "source": [
        "%%sql\n",
        "SELECT country, continent,\n",
        "  (SELECT MAX(pm_start)\n",
        "   FROM prime_minister_terms AS p1\n",
        "   INNER JOIN prime_ministers AS p2\n",
        "   USING(prime_minister)\n",
        "   WHERE p.country = p2.country) AS max_pm_start\n",
        "FROM states AS p;"
      ],
      "metadata": {
        "colab": {
          "base_uri": "https://localhost:8080/",
          "height": 306
        },
        "id": "1ZAhUX45C1Hv",
        "outputId": "8ff1ffba-b568-463a-be22-ad46885fc494"
      },
      "execution_count": null,
      "outputs": [
        {
          "output_type": "stream",
          "name": "stdout",
          "text": [
            " * sqlite://\n",
            "Done.\n"
          ]
        },
        {
          "output_type": "execute_result",
          "data": {
            "text/plain": [
              "[('Australia', 'Oceania', 2018),\n",
              " ('Brunei', 'Asia', 1984),\n",
              " ('Chile', 'South America', None),\n",
              " ('Egypt', 'Africa', 2018),\n",
              " ('India', 'Asia', 2014),\n",
              " ('Norway', 'Europe', 2021),\n",
              " ('Oman', 'Asia', 2020),\n",
              " ('Pakistan', 'Asia', 2022),\n",
              " ('Portugal', 'Europe', 2015),\n",
              " ('Uruguay', 'South America', None),\n",
              " ('USA', 'North America', None)]"
            ],
            "text/html": [
              "<table>\n",
              "    <thead>\n",
              "        <tr>\n",
              "            <th>country</th>\n",
              "            <th>continent</th>\n",
              "            <th>max_pm_start</th>\n",
              "        </tr>\n",
              "    </thead>\n",
              "    <tbody>\n",
              "        <tr>\n",
              "            <td>Australia</td>\n",
              "            <td>Oceania</td>\n",
              "            <td>2018</td>\n",
              "        </tr>\n",
              "        <tr>\n",
              "            <td>Brunei</td>\n",
              "            <td>Asia</td>\n",
              "            <td>1984</td>\n",
              "        </tr>\n",
              "        <tr>\n",
              "            <td>Chile</td>\n",
              "            <td>South America</td>\n",
              "            <td>None</td>\n",
              "        </tr>\n",
              "        <tr>\n",
              "            <td>Egypt</td>\n",
              "            <td>Africa</td>\n",
              "            <td>2018</td>\n",
              "        </tr>\n",
              "        <tr>\n",
              "            <td>India</td>\n",
              "            <td>Asia</td>\n",
              "            <td>2014</td>\n",
              "        </tr>\n",
              "        <tr>\n",
              "            <td>Norway</td>\n",
              "            <td>Europe</td>\n",
              "            <td>2021</td>\n",
              "        </tr>\n",
              "        <tr>\n",
              "            <td>Oman</td>\n",
              "            <td>Asia</td>\n",
              "            <td>2020</td>\n",
              "        </tr>\n",
              "        <tr>\n",
              "            <td>Pakistan</td>\n",
              "            <td>Asia</td>\n",
              "            <td>2022</td>\n",
              "        </tr>\n",
              "        <tr>\n",
              "            <td>Portugal</td>\n",
              "            <td>Europe</td>\n",
              "            <td>2015</td>\n",
              "        </tr>\n",
              "        <tr>\n",
              "            <td>Uruguay</td>\n",
              "            <td>South America</td>\n",
              "            <td>None</td>\n",
              "        </tr>\n",
              "        <tr>\n",
              "            <td>USA</td>\n",
              "            <td>North America</td>\n",
              "            <td>None</td>\n",
              "        </tr>\n",
              "    </tbody>\n",
              "</table>"
            ]
          },
          "metadata": {},
          "execution_count": 19
        }
      ]
    },
    {
      "cell_type": "markdown",
      "source": [
        "INNER JOIN and CASE WHEN Write a query to list all countries along with their president's name and indicate whether the country has a prime minister ('Yes' or 'No'). Use an INNER JOIN between states and presidents, and a CASE WHEN clause to check for the presence of a prime minister."
      ],
      "metadata": {
        "id": "GmniTHh_Dsqz"
      }
    },
    {
      "cell_type": "code",
      "source": [
        "%%sql\n",
        "SELECT country, president,\n",
        "  CASE\n",
        "    WHEN country IN (SELECT country\n",
        "    FROM prime_minister_terms) THEN 'Yes'\n",
        "    ELSE 'No'\n",
        "  END AS has_prime_minister\n",
        "FROM states\n",
        "INNER JOIN presidents\n",
        "USING(country);"
      ],
      "metadata": {
        "colab": {
          "base_uri": "https://localhost:8080/",
          "height": 222
        },
        "id": "3iViFztFDuAj",
        "outputId": "0905f38f-efc9-4378-ef8f-3332e8379f55"
      },
      "execution_count": null,
      "outputs": [
        {
          "output_type": "stream",
          "name": "stdout",
          "text": [
            " * sqlite://\n",
            "Done.\n"
          ]
        },
        {
          "output_type": "execute_result",
          "data": {
            "text/plain": [
              "[('Chile', 'Gabriel Boric', 'Yes'),\n",
              " ('Egypt', 'Abdel Fattah el-Sisi', 'Yes'),\n",
              " ('India', 'Ram Nath Kovind', 'Yes'),\n",
              " ('Pakistan', 'Arif Alvi', 'Yes'),\n",
              " ('Portugal', 'Marcelo Rebelo de Sousa', 'Yes'),\n",
              " ('Uruguay', 'Luis Lacalle Pou', 'Yes'),\n",
              " ('USA', 'Joe Biden', 'Yes')]"
            ],
            "text/html": [
              "<table>\n",
              "    <thead>\n",
              "        <tr>\n",
              "            <th>country</th>\n",
              "            <th>president</th>\n",
              "            <th>has_prime_minister</th>\n",
              "        </tr>\n",
              "    </thead>\n",
              "    <tbody>\n",
              "        <tr>\n",
              "            <td>Chile</td>\n",
              "            <td>Gabriel Boric</td>\n",
              "            <td>Yes</td>\n",
              "        </tr>\n",
              "        <tr>\n",
              "            <td>Egypt</td>\n",
              "            <td>Abdel Fattah el-Sisi</td>\n",
              "            <td>Yes</td>\n",
              "        </tr>\n",
              "        <tr>\n",
              "            <td>India</td>\n",
              "            <td>Ram Nath Kovind</td>\n",
              "            <td>Yes</td>\n",
              "        </tr>\n",
              "        <tr>\n",
              "            <td>Pakistan</td>\n",
              "            <td>Arif Alvi</td>\n",
              "            <td>Yes</td>\n",
              "        </tr>\n",
              "        <tr>\n",
              "            <td>Portugal</td>\n",
              "            <td>Marcelo Rebelo de Sousa</td>\n",
              "            <td>Yes</td>\n",
              "        </tr>\n",
              "        <tr>\n",
              "            <td>Uruguay</td>\n",
              "            <td>Luis Lacalle Pou</td>\n",
              "            <td>Yes</td>\n",
              "        </tr>\n",
              "        <tr>\n",
              "            <td>USA</td>\n",
              "            <td>Joe Biden</td>\n",
              "            <td>Yes</td>\n",
              "        </tr>\n",
              "    </tbody>\n",
              "</table>"
            ]
          },
          "metadata": {},
          "execution_count": 23
        }
      ]
    },
    {
      "cell_type": "markdown",
      "source": [
        "LEFT JOIN with Aggregates Write a query to list all countries along with the total number of prime ministers each country has had. Include all countries even if they have never had a prime minister by using a LEFT JOIN between states and prime_ministers, and aggregate the results."
      ],
      "metadata": {
        "id": "9BKuyfRSElO2"
      }
    },
    {
      "cell_type": "code",
      "source": [
        "%%sql\n",
        "SELECT s.country,\n",
        "  COUNT(prime_minister) AS count_pm\n",
        "FROM states AS s\n",
        "LEFT JOIN prime_ministers AS p\n",
        "USING(country)\n",
        "GROUP BY country;"
      ],
      "metadata": {
        "id": "tLsE0kPGERsX",
        "colab": {
          "base_uri": "https://localhost:8080/",
          "height": 306
        },
        "outputId": "190920ce-74f3-47d4-d85f-99820eb5f62f"
      },
      "execution_count": 28,
      "outputs": [
        {
          "output_type": "stream",
          "name": "stdout",
          "text": [
            " * sqlite://\n",
            "Done.\n"
          ]
        },
        {
          "output_type": "execute_result",
          "data": {
            "text/plain": [
              "[('Australia', 1),\n",
              " ('Brunei', 1),\n",
              " ('Chile', 0),\n",
              " ('Egypt', 1),\n",
              " ('India', 1),\n",
              " ('Norway', 1),\n",
              " ('Oman', 1),\n",
              " ('Pakistan', 1),\n",
              " ('Portugal', 1),\n",
              " ('USA', 0),\n",
              " ('Uruguay', 0)]"
            ],
            "text/html": [
              "<table>\n",
              "    <thead>\n",
              "        <tr>\n",
              "            <th>country</th>\n",
              "            <th>count_pm</th>\n",
              "        </tr>\n",
              "    </thead>\n",
              "    <tbody>\n",
              "        <tr>\n",
              "            <td>Australia</td>\n",
              "            <td>1</td>\n",
              "        </tr>\n",
              "        <tr>\n",
              "            <td>Brunei</td>\n",
              "            <td>1</td>\n",
              "        </tr>\n",
              "        <tr>\n",
              "            <td>Chile</td>\n",
              "            <td>0</td>\n",
              "        </tr>\n",
              "        <tr>\n",
              "            <td>Egypt</td>\n",
              "            <td>1</td>\n",
              "        </tr>\n",
              "        <tr>\n",
              "            <td>India</td>\n",
              "            <td>1</td>\n",
              "        </tr>\n",
              "        <tr>\n",
              "            <td>Norway</td>\n",
              "            <td>1</td>\n",
              "        </tr>\n",
              "        <tr>\n",
              "            <td>Oman</td>\n",
              "            <td>1</td>\n",
              "        </tr>\n",
              "        <tr>\n",
              "            <td>Pakistan</td>\n",
              "            <td>1</td>\n",
              "        </tr>\n",
              "        <tr>\n",
              "            <td>Portugal</td>\n",
              "            <td>1</td>\n",
              "        </tr>\n",
              "        <tr>\n",
              "            <td>USA</td>\n",
              "            <td>0</td>\n",
              "        </tr>\n",
              "        <tr>\n",
              "            <td>Uruguay</td>\n",
              "            <td>0</td>\n",
              "        </tr>\n",
              "    </tbody>\n",
              "</table>"
            ]
          },
          "metadata": {},
          "execution_count": 28
        }
      ]
    },
    {
      "cell_type": "markdown",
      "source": [
        "GROUP BY with HAVING Write a query to list all continents and the total number of countries in each, but only include continents that have more than 5 countries. Use GROUP BY to group by continent and HAVING to filter the results."
      ],
      "metadata": {
        "id": "wXbs5fwjFZdH"
      }
    },
    {
      "cell_type": "code",
      "source": [
        "%%sql\n",
        "SELECT continent, COUNT(*) AS country_count\n",
        "FROM states\n",
        "GROUP BY continent\n",
        "HAVING country_count > 1;"
      ],
      "metadata": {
        "colab": {
          "base_uri": "https://localhost:8080/",
          "height": 138
        },
        "id": "R7TiBCrdFCaa",
        "outputId": "ddb3c877-01d5-4e89-9743-88fb2d4db2e7"
      },
      "execution_count": 32,
      "outputs": [
        {
          "output_type": "stream",
          "name": "stdout",
          "text": [
            " * sqlite://\n",
            "Done.\n"
          ]
        },
        {
          "output_type": "execute_result",
          "data": {
            "text/plain": [
              "[('Asia', 4), ('Europe', 2), ('South America', 2)]"
            ],
            "text/html": [
              "<table>\n",
              "    <thead>\n",
              "        <tr>\n",
              "            <th>continent</th>\n",
              "            <th>country_count</th>\n",
              "        </tr>\n",
              "    </thead>\n",
              "    <tbody>\n",
              "        <tr>\n",
              "            <td>Asia</td>\n",
              "            <td>4</td>\n",
              "        </tr>\n",
              "        <tr>\n",
              "            <td>Europe</td>\n",
              "            <td>2</td>\n",
              "        </tr>\n",
              "        <tr>\n",
              "            <td>South America</td>\n",
              "            <td>2</td>\n",
              "        </tr>\n",
              "    </tbody>\n",
              "</table>"
            ]
          },
          "metadata": {},
          "execution_count": 32
        }
      ]
    },
    {
      "cell_type": "code",
      "source": [
        "%%sql\n",
        "SELECT continent, COUNT(*) AS country_count\n",
        "FROM states\n",
        "GROUP BY continent\n",
        "HAVING country_count > 5;"
      ],
      "metadata": {
        "colab": {
          "base_uri": "https://localhost:8080/",
          "height": 75
        },
        "id": "yrzLb452FmMV",
        "outputId": "17670de7-1213-4fea-abbc-c97f79f41450"
      },
      "execution_count": 33,
      "outputs": [
        {
          "output_type": "stream",
          "name": "stdout",
          "text": [
            " * sqlite://\n",
            "Done.\n"
          ]
        },
        {
          "output_type": "execute_result",
          "data": {
            "text/plain": [
              "[]"
            ],
            "text/html": [
              "<table>\n",
              "    <thead>\n",
              "        <tr>\n",
              "            <th>continent</th>\n",
              "            <th>country_count</th>\n",
              "        </tr>\n",
              "    </thead>\n",
              "    <tbody>\n",
              "    </tbody>\n",
              "</table>"
            ]
          },
          "metadata": {},
          "execution_count": 33
        }
      ]
    },
    {
      "cell_type": "markdown",
      "source": [
        "Window Functions: RANK() with ORDER BY Write a query to list all countries along with their continent and the rank of their prime minister based on the start year (pm_start), ordered from the earliest to the latest. Use the RANK() window function to rank the prime ministers within each continent and ORDER BY to sort the results."
      ],
      "metadata": {
        "id": "cZYbWvTOFt23"
      }
    },
    {
      "cell_type": "code",
      "source": [
        "%%sql\n",
        "SELECT country,\n",
        "  continent,\n",
        "  prime_minister,\n",
        "  pm_start,\n",
        "  RANK()\n",
        "    OVER (PARTITION BY continent\n",
        "          ORDER BY pm_start) AS pm_rank\n",
        "FROM prime_minister_terms AS p1\n",
        "INNER JOIN prime_ministers AS p2\n",
        "USING(prime_minister)\n",
        "ORDER BY continent, pm_rank;"
      ],
      "metadata": {
        "colab": {
          "base_uri": "https://localhost:8080/",
          "height": 285
        },
        "id": "XAEjHmeGFkwh",
        "outputId": "a0feb63c-b43e-45fb-f302-07478cfc21fe"
      },
      "execution_count": 35,
      "outputs": [
        {
          "output_type": "stream",
          "name": "stdout",
          "text": [
            " * sqlite://\n",
            "Done.\n"
          ]
        },
        {
          "output_type": "execute_result",
          "data": {
            "text/plain": [
              "[('Egypt', 'Africa', 'Mostafa Madbouly', 2018, 1),\n",
              " ('Brunei', 'Asia', 'Hassanal Bolkiah', 1984, 1),\n",
              " ('India', 'Asia', 'Narendra Modi', 2014, 2),\n",
              " ('Oman', 'Asia', 'Haitham bin Tarik', 2020, 3),\n",
              " ('Pakistan', 'Asia', 'Shehbaz Sharif', 2022, 4),\n",
              " ('Portugal', 'Europe', 'António Costa', 2015, 1),\n",
              " ('United Kingdom', 'Europe', 'Boris Johnson', 2019, 2),\n",
              " ('Norway', 'Europe', 'Jonas Gahr Støre', 2021, 3),\n",
              " ('New Zealand', 'Oceania', 'Jacinda Ardern', 2017, 1),\n",
              " ('Australia', 'Oceania', 'Scott Morrison', 2018, 2)]"
            ],
            "text/html": [
              "<table>\n",
              "    <thead>\n",
              "        <tr>\n",
              "            <th>country</th>\n",
              "            <th>continent</th>\n",
              "            <th>prime_minister</th>\n",
              "            <th>pm_start</th>\n",
              "            <th>pm_rank</th>\n",
              "        </tr>\n",
              "    </thead>\n",
              "    <tbody>\n",
              "        <tr>\n",
              "            <td>Egypt</td>\n",
              "            <td>Africa</td>\n",
              "            <td>Mostafa Madbouly</td>\n",
              "            <td>2018</td>\n",
              "            <td>1</td>\n",
              "        </tr>\n",
              "        <tr>\n",
              "            <td>Brunei</td>\n",
              "            <td>Asia</td>\n",
              "            <td>Hassanal Bolkiah</td>\n",
              "            <td>1984</td>\n",
              "            <td>1</td>\n",
              "        </tr>\n",
              "        <tr>\n",
              "            <td>India</td>\n",
              "            <td>Asia</td>\n",
              "            <td>Narendra Modi</td>\n",
              "            <td>2014</td>\n",
              "            <td>2</td>\n",
              "        </tr>\n",
              "        <tr>\n",
              "            <td>Oman</td>\n",
              "            <td>Asia</td>\n",
              "            <td>Haitham bin Tarik</td>\n",
              "            <td>2020</td>\n",
              "            <td>3</td>\n",
              "        </tr>\n",
              "        <tr>\n",
              "            <td>Pakistan</td>\n",
              "            <td>Asia</td>\n",
              "            <td>Shehbaz Sharif</td>\n",
              "            <td>2022</td>\n",
              "            <td>4</td>\n",
              "        </tr>\n",
              "        <tr>\n",
              "            <td>Portugal</td>\n",
              "            <td>Europe</td>\n",
              "            <td>António Costa</td>\n",
              "            <td>2015</td>\n",
              "            <td>1</td>\n",
              "        </tr>\n",
              "        <tr>\n",
              "            <td>United Kingdom</td>\n",
              "            <td>Europe</td>\n",
              "            <td>Boris Johnson</td>\n",
              "            <td>2019</td>\n",
              "            <td>2</td>\n",
              "        </tr>\n",
              "        <tr>\n",
              "            <td>Norway</td>\n",
              "            <td>Europe</td>\n",
              "            <td>Jonas Gahr Støre</td>\n",
              "            <td>2021</td>\n",
              "            <td>3</td>\n",
              "        </tr>\n",
              "        <tr>\n",
              "            <td>New Zealand</td>\n",
              "            <td>Oceania</td>\n",
              "            <td>Jacinda Ardern</td>\n",
              "            <td>2017</td>\n",
              "            <td>1</td>\n",
              "        </tr>\n",
              "        <tr>\n",
              "            <td>Australia</td>\n",
              "            <td>Oceania</td>\n",
              "            <td>Scott Morrison</td>\n",
              "            <td>2018</td>\n",
              "            <td>2</td>\n",
              "        </tr>\n",
              "    </tbody>\n",
              "</table>"
            ]
          },
          "metadata": {},
          "execution_count": 35
        }
      ]
    },
    {
      "cell_type": "markdown",
      "source": [
        "Simple Subquery in SELECT Write a query to list all countries along with their continent and the earliest pm_start year for each country. Use a simple subquery within the SELECT clause to find the earliest pm_start for each country."
      ],
      "metadata": {
        "id": "0mpoO2kbGVA2"
      }
    },
    {
      "cell_type": "code",
      "source": [
        "%%sql\n",
        "SELECT country, continent,\n",
        "  (SELECT MIN(pm_start)\n",
        "   FROM prime_minister_terms AS p1\n",
        "   INNER JOIN prime_ministers AS p2\n",
        "   USING(prime_minister)\n",
        "   WHERE p.country = p2.country\n",
        "   GROUP BY country) AS min_pm_start\n",
        "FROM states AS p;"
      ],
      "metadata": {
        "colab": {
          "base_uri": "https://localhost:8080/",
          "height": 306
        },
        "id": "Oo78x3g6GVnG",
        "outputId": "647fb0bb-35f9-4393-e696-2ec9d03c6cae"
      },
      "execution_count": 36,
      "outputs": [
        {
          "output_type": "stream",
          "name": "stdout",
          "text": [
            " * sqlite://\n",
            "Done.\n"
          ]
        },
        {
          "output_type": "execute_result",
          "data": {
            "text/plain": [
              "[('Australia', 'Oceania', 2018),\n",
              " ('Brunei', 'Asia', 1984),\n",
              " ('Chile', 'South America', None),\n",
              " ('Egypt', 'Africa', 2018),\n",
              " ('India', 'Asia', 2014),\n",
              " ('Norway', 'Europe', 2021),\n",
              " ('Oman', 'Asia', 2020),\n",
              " ('Pakistan', 'Asia', 2022),\n",
              " ('Portugal', 'Europe', 2015),\n",
              " ('Uruguay', 'South America', None),\n",
              " ('USA', 'North America', None)]"
            ],
            "text/html": [
              "<table>\n",
              "    <thead>\n",
              "        <tr>\n",
              "            <th>country</th>\n",
              "            <th>continent</th>\n",
              "            <th>min_pm_start</th>\n",
              "        </tr>\n",
              "    </thead>\n",
              "    <tbody>\n",
              "        <tr>\n",
              "            <td>Australia</td>\n",
              "            <td>Oceania</td>\n",
              "            <td>2018</td>\n",
              "        </tr>\n",
              "        <tr>\n",
              "            <td>Brunei</td>\n",
              "            <td>Asia</td>\n",
              "            <td>1984</td>\n",
              "        </tr>\n",
              "        <tr>\n",
              "            <td>Chile</td>\n",
              "            <td>South America</td>\n",
              "            <td>None</td>\n",
              "        </tr>\n",
              "        <tr>\n",
              "            <td>Egypt</td>\n",
              "            <td>Africa</td>\n",
              "            <td>2018</td>\n",
              "        </tr>\n",
              "        <tr>\n",
              "            <td>India</td>\n",
              "            <td>Asia</td>\n",
              "            <td>2014</td>\n",
              "        </tr>\n",
              "        <tr>\n",
              "            <td>Norway</td>\n",
              "            <td>Europe</td>\n",
              "            <td>2021</td>\n",
              "        </tr>\n",
              "        <tr>\n",
              "            <td>Oman</td>\n",
              "            <td>Asia</td>\n",
              "            <td>2020</td>\n",
              "        </tr>\n",
              "        <tr>\n",
              "            <td>Pakistan</td>\n",
              "            <td>Asia</td>\n",
              "            <td>2022</td>\n",
              "        </tr>\n",
              "        <tr>\n",
              "            <td>Portugal</td>\n",
              "            <td>Europe</td>\n",
              "            <td>2015</td>\n",
              "        </tr>\n",
              "        <tr>\n",
              "            <td>Uruguay</td>\n",
              "            <td>South America</td>\n",
              "            <td>None</td>\n",
              "        </tr>\n",
              "        <tr>\n",
              "            <td>USA</td>\n",
              "            <td>North America</td>\n",
              "            <td>None</td>\n",
              "        </tr>\n",
              "    </tbody>\n",
              "</table>"
            ]
          },
          "metadata": {},
          "execution_count": 36
        }
      ]
    },
    {
      "cell_type": "markdown",
      "source": [
        "Nested Subquery with WHERE Write a query to list all countries where the president's name matches the prime minister's name in the continent that has the highest average independence year. Use nested subqueries in the WHERE clause to filter the countries."
      ],
      "metadata": {
        "id": "zipe7FHMHMeI"
      }
    },
    {
      "cell_type": "code",
      "source": [
        "%%sql\n",
        "WITH mcha AS (\n",
        "    SELECT continent\n",
        "    FROM states\n",
        "    GROUP BY continent\n",
        "    ORDER BY AVG(indep_year) DESC\n",
        "    LIMIT 1\n",
        ")\n",
        "\n",
        "SELECT country, continent\n",
        "FROM states AS s\n",
        "WHERE continent IN mcha\n",
        "AND country in (\n",
        "    SELECT p.country\n",
        "    FROM presidents AS p\n",
        "    INNER JOIN prime_ministers AS pm\n",
        "    ON p.country = pm.country\n",
        "    WHERE p.president = pm.prime_minister\n",
        "    AND p.country = s.country\n",
        ")"
      ],
      "metadata": {
        "colab": {
          "base_uri": "https://localhost:8080/",
          "height": 75
        },
        "id": "HmFtGRMBHNLV",
        "outputId": "7816d7fd-0a6d-4d00-e772-d4b60c047f3c"
      },
      "execution_count": 39,
      "outputs": [
        {
          "output_type": "stream",
          "name": "stdout",
          "text": [
            " * sqlite://\n",
            "Done.\n"
          ]
        },
        {
          "output_type": "execute_result",
          "data": {
            "text/plain": [
              "[]"
            ],
            "text/html": [
              "<table>\n",
              "    <thead>\n",
              "        <tr>\n",
              "            <th>country</th>\n",
              "            <th>continent</th>\n",
              "        </tr>\n",
              "    </thead>\n",
              "    <tbody>\n",
              "    </tbody>\n",
              "</table>"
            ]
          },
          "metadata": {},
          "execution_count": 39
        }
      ]
    },
    {
      "cell_type": "markdown",
      "source": [
        "#END"
      ],
      "metadata": {
        "id": "DCmswRajIZxR"
      }
    }
  ]
}