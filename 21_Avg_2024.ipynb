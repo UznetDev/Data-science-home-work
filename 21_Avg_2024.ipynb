{
  "nbformat": 4,
  "nbformat_minor": 0,
  "metadata": {
    "colab": {
      "provenance": [],
      "authorship_tag": "ABX9TyP4enJMNoxFg85iOZ4heDUP",
      "include_colab_link": true
    },
    "kernelspec": {
      "name": "python3",
      "display_name": "Python 3"
    },
    "language_info": {
      "name": "python"
    }
  },
  "cells": [
    {
      "cell_type": "markdown",
      "metadata": {
        "id": "view-in-github",
        "colab_type": "text"
      },
      "source": [
        "<a href=\"https://colab.research.google.com/github/UznetDev/Data-science-home-work/blob/main/21_Avg_2024.ipynb\" target=\"_parent\"><img src=\"https://colab.research.google.com/assets/colab-badge.svg\" alt=\"Open In Colab\"/></a>"
      ]
    },
    {
      "cell_type": "markdown",
      "source": [
        "# JOINS"
      ],
      "metadata": {
        "id": "WEOGZNGWQ6CA"
      }
    },
    {
      "cell_type": "code",
      "execution_count": 16,
      "metadata": {
        "id": "nm-zHb9MNb1u"
      },
      "outputs": [],
      "source": [
        "import pandas as pd"
      ]
    },
    {
      "cell_type": "code",
      "source": [
        "# Set-up\n",
        "%load_ext sql\n",
        "%sql sqlite://"
      ],
      "metadata": {
        "colab": {
          "base_uri": "https://localhost:8080/"
        },
        "id": "p3FYTYJHNh6C",
        "outputId": "c43950a1-8a2e-4441-d227-0b67e7b5a8b5"
      },
      "execution_count": 17,
      "outputs": [
        {
          "output_type": "stream",
          "name": "stdout",
          "text": [
            "The sql extension is already loaded. To reload it, use:\n",
            "  %reload_ext sql\n"
          ]
        }
      ]
    },
    {
      "cell_type": "code",
      "source": [
        "monarchs = pd.read_csv('monarchs.csv')\n",
        "presidents = pd.read_csv('presidents.csv')\n",
        "prime_minister_terms = pd.read_csv('prime_minister_terms.csv')\n",
        "prime_ministers = pd.read_csv('prime_ministers.csv')\n",
        "states = pd.read_csv('states.csv')"
      ],
      "metadata": {
        "id": "VrX542IrOc5z"
      },
      "execution_count": 18,
      "outputs": []
    },
    {
      "cell_type": "code",
      "source": [
        "%sql DROP TABLE IF EXISTS monarchs;\n",
        "%sql --persist monarchs\n",
        "\n",
        "%sql DROP TABLE IF EXISTS presidents;\n",
        "%sql --persist presidents\n",
        "\n",
        "%sql DROP TABLE IF EXISTS prime_minister_terms;\n",
        "%sql --persist prime_minister_terms\n",
        "\n",
        "%sql DROP TABLE IF EXISTS prime_ministers;\n",
        "%sql --persist prime_ministers\n",
        "\n",
        "%sql DROP TABLE IF EXISTS states;\n",
        "%sql --persist states"
      ],
      "metadata": {
        "colab": {
          "base_uri": "https://localhost:8080/",
          "height": 296
        },
        "id": "AVjtoEzAOv4d",
        "outputId": "cd3778ea-0ef6-486f-9782-dcd7e5e7bee8"
      },
      "execution_count": 19,
      "outputs": [
        {
          "output_type": "stream",
          "name": "stdout",
          "text": [
            " * sqlite://\n",
            "Done.\n",
            " * sqlite://\n",
            " * sqlite://\n",
            "Done.\n",
            " * sqlite://\n",
            " * sqlite://\n",
            "Done.\n",
            " * sqlite://\n",
            " * sqlite://\n",
            "Done.\n",
            " * sqlite://\n",
            " * sqlite://\n",
            "Done.\n",
            " * sqlite://\n"
          ]
        },
        {
          "output_type": "execute_result",
          "data": {
            "text/plain": [
              "'Persisted states'"
            ],
            "application/vnd.google.colaboratory.intrinsic+json": {
              "type": "string"
            }
          },
          "metadata": {},
          "execution_count": 19
        }
      ]
    },
    {
      "cell_type": "markdown",
      "source": [
        "## monarchs"
      ],
      "metadata": {
        "id": "RB_tUyVqRpDk"
      }
    },
    {
      "cell_type": "code",
      "source": [
        "%%sql SELECT * FROM monarchs LIMIT 1;"
      ],
      "metadata": {
        "colab": {
          "base_uri": "https://localhost:8080/",
          "height": 96
        },
        "id": "JXnELm3uOj_W",
        "outputId": "81425012-0c6d-4b2b-f3fc-fdf73f793ba9"
      },
      "execution_count": 20,
      "outputs": [
        {
          "output_type": "stream",
          "name": "stdout",
          "text": [
            " * sqlite://\n",
            "Done.\n"
          ]
        },
        {
          "output_type": "execute_result",
          "data": {
            "text/plain": [
              "[(0, 'Brunei', 'Asia', 'Hassanal Bolkiah')]"
            ],
            "text/html": [
              "<table>\n",
              "    <thead>\n",
              "        <tr>\n",
              "            <th>index</th>\n",
              "            <th>country</th>\n",
              "            <th>continent</th>\n",
              "            <th>monarch</th>\n",
              "        </tr>\n",
              "    </thead>\n",
              "    <tbody>\n",
              "        <tr>\n",
              "            <td>0</td>\n",
              "            <td>Brunei</td>\n",
              "            <td>Asia</td>\n",
              "            <td>Hassanal Bolkiah</td>\n",
              "        </tr>\n",
              "    </tbody>\n",
              "</table>"
            ]
          },
          "metadata": {},
          "execution_count": 20
        }
      ]
    },
    {
      "cell_type": "markdown",
      "source": [
        "## presidents"
      ],
      "metadata": {
        "id": "nOeKUuPARnk4"
      }
    },
    {
      "cell_type": "code",
      "source": [
        "%%sql SELECT * FROM presidents LIMIT 1;"
      ],
      "metadata": {
        "colab": {
          "base_uri": "https://localhost:8080/",
          "height": 96
        },
        "id": "sv4jA4o0PMnM",
        "outputId": "fa286d8e-b289-4c6f-a7b1-2d5f6789b6ce"
      },
      "execution_count": 21,
      "outputs": [
        {
          "output_type": "stream",
          "name": "stdout",
          "text": [
            " * sqlite://\n",
            "Done.\n"
          ]
        },
        {
          "output_type": "execute_result",
          "data": {
            "text/plain": [
              "[(0, 'Egypt', 'Africa', 'Abdel Fattah el-Sisi')]"
            ],
            "text/html": [
              "<table>\n",
              "    <thead>\n",
              "        <tr>\n",
              "            <th>index</th>\n",
              "            <th>country</th>\n",
              "            <th>continent</th>\n",
              "            <th>president</th>\n",
              "        </tr>\n",
              "    </thead>\n",
              "    <tbody>\n",
              "        <tr>\n",
              "            <td>0</td>\n",
              "            <td>Egypt</td>\n",
              "            <td>Africa</td>\n",
              "            <td>Abdel Fattah el-Sisi</td>\n",
              "        </tr>\n",
              "    </tbody>\n",
              "</table>"
            ]
          },
          "metadata": {},
          "execution_count": 21
        }
      ]
    },
    {
      "cell_type": "markdown",
      "source": [
        "## prime_minister_terms"
      ],
      "metadata": {
        "id": "MQnIq3UVRlis"
      }
    },
    {
      "cell_type": "code",
      "source": [
        "%%sql SELECT * FROM prime_minister_terms LIMIT 1;"
      ],
      "metadata": {
        "colab": {
          "base_uri": "https://localhost:8080/",
          "height": 96
        },
        "id": "TiRT_QDYPPPm",
        "outputId": "fc58b6d5-6c69-409a-cf25-649956013c31"
      },
      "execution_count": 22,
      "outputs": [
        {
          "output_type": "stream",
          "name": "stdout",
          "text": [
            " * sqlite://\n",
            "Done.\n"
          ]
        },
        {
          "output_type": "execute_result",
          "data": {
            "text/plain": [
              "[(0, 'Mostafa Madbouly', 2018)]"
            ],
            "text/html": [
              "<table>\n",
              "    <thead>\n",
              "        <tr>\n",
              "            <th>index</th>\n",
              "            <th>prime_minister</th>\n",
              "            <th>pm_start</th>\n",
              "        </tr>\n",
              "    </thead>\n",
              "    <tbody>\n",
              "        <tr>\n",
              "            <td>0</td>\n",
              "            <td>Mostafa Madbouly</td>\n",
              "            <td>2018</td>\n",
              "        </tr>\n",
              "    </tbody>\n",
              "</table>"
            ]
          },
          "metadata": {},
          "execution_count": 22
        }
      ]
    },
    {
      "cell_type": "markdown",
      "source": [
        "## prime_ministers"
      ],
      "metadata": {
        "id": "Xqf2fEboRjk3"
      }
    },
    {
      "cell_type": "code",
      "source": [
        "%%sql SELECT * FROM prime_ministers LIMIT 1;"
      ],
      "metadata": {
        "colab": {
          "base_uri": "https://localhost:8080/",
          "height": 96
        },
        "id": "J6WhllexPQzS",
        "outputId": "d6c0cd6c-bcbc-446f-e05a-98745ecefa35"
      },
      "execution_count": 23,
      "outputs": [
        {
          "output_type": "stream",
          "name": "stdout",
          "text": [
            " * sqlite://\n",
            "Done.\n"
          ]
        },
        {
          "output_type": "execute_result",
          "data": {
            "text/plain": [
              "[(0, 'Egypt', 'Africa', 'Mostafa Madbouly')]"
            ],
            "text/html": [
              "<table>\n",
              "    <thead>\n",
              "        <tr>\n",
              "            <th>index</th>\n",
              "            <th>country</th>\n",
              "            <th>continent</th>\n",
              "            <th>prime_minister</th>\n",
              "        </tr>\n",
              "    </thead>\n",
              "    <tbody>\n",
              "        <tr>\n",
              "            <td>0</td>\n",
              "            <td>Egypt</td>\n",
              "            <td>Africa</td>\n",
              "            <td>Mostafa Madbouly</td>\n",
              "        </tr>\n",
              "    </tbody>\n",
              "</table>"
            ]
          },
          "metadata": {},
          "execution_count": 23
        }
      ]
    },
    {
      "cell_type": "markdown",
      "source": [
        "## states"
      ],
      "metadata": {
        "id": "YOtnJZAvRgQP"
      }
    },
    {
      "cell_type": "code",
      "source": [
        "%%sql SELECT * FROM states LIMIT 1;"
      ],
      "metadata": {
        "colab": {
          "base_uri": "https://localhost:8080/",
          "height": 96
        },
        "id": "x_cq_XCNPUn0",
        "outputId": "7d12bbde-fd67-49cb-d78b-3351d949b26f"
      },
      "execution_count": 24,
      "outputs": [
        {
          "output_type": "stream",
          "name": "stdout",
          "text": [
            " * sqlite://\n",
            "Done.\n"
          ]
        },
        {
          "output_type": "execute_result",
          "data": {
            "text/plain": [
              "[(0, 'Australia', 'Oceania', 1901)]"
            ],
            "text/html": [
              "<table>\n",
              "    <thead>\n",
              "        <tr>\n",
              "            <th>index</th>\n",
              "            <th>country</th>\n",
              "            <th>continent</th>\n",
              "            <th>indep_year</th>\n",
              "        </tr>\n",
              "    </thead>\n",
              "    <tbody>\n",
              "        <tr>\n",
              "            <td>0</td>\n",
              "            <td>Australia</td>\n",
              "            <td>Oceania</td>\n",
              "            <td>1901</td>\n",
              "        </tr>\n",
              "    </tbody>\n",
              "</table>"
            ]
          },
          "metadata": {},
          "execution_count": 24
        }
      ]
    },
    {
      "cell_type": "code",
      "source": [
        "%%sql SELECT *\n",
        "FROM presidents AS p\n",
        "INNER JOIN prime_ministers AS pt\n",
        "ON p.country = pt.country\n",
        "LIMIT 5;"
      ],
      "metadata": {
        "colab": {
          "base_uri": "https://localhost:8080/",
          "height": 161
        },
        "id": "wYNwtpLhP5u6",
        "outputId": "20e114ad-6511-4736-c639-0c9be7aa9223"
      },
      "execution_count": 28,
      "outputs": [
        {
          "output_type": "stream",
          "name": "stdout",
          "text": [
            " * sqlite://\n",
            "Done.\n"
          ]
        },
        {
          "output_type": "execute_result",
          "data": {
            "text/plain": [
              "[(0, 'Egypt', 'Africa', 'Abdel Fattah el-Sisi', 0, 'Egypt', 'Africa', 'Mostafa Madbouly'),\n",
              " (1, 'Portugal', 'Europe', 'Marcelo Rebelo de Sousa', 1, 'Portugal', 'Europe', 'António Costa'),\n",
              " (4, 'Pakistan', 'Asia', 'Arif Alvi', 2, 'Pakistan', 'Asia', 'Shehbaz Sharif'),\n",
              " (6, 'India', 'Asia', 'Ram Nath Kovind', 4, 'India', 'Asia', 'Narendra Modi')]"
            ],
            "text/html": [
              "<table>\n",
              "    <thead>\n",
              "        <tr>\n",
              "            <th>index</th>\n",
              "            <th>country</th>\n",
              "            <th>continent</th>\n",
              "            <th>president</th>\n",
              "            <th>index_1</th>\n",
              "            <th>country_1</th>\n",
              "            <th>continent_1</th>\n",
              "            <th>prime_minister</th>\n",
              "        </tr>\n",
              "    </thead>\n",
              "    <tbody>\n",
              "        <tr>\n",
              "            <td>0</td>\n",
              "            <td>Egypt</td>\n",
              "            <td>Africa</td>\n",
              "            <td>Abdel Fattah el-Sisi</td>\n",
              "            <td>0</td>\n",
              "            <td>Egypt</td>\n",
              "            <td>Africa</td>\n",
              "            <td>Mostafa Madbouly</td>\n",
              "        </tr>\n",
              "        <tr>\n",
              "            <td>1</td>\n",
              "            <td>Portugal</td>\n",
              "            <td>Europe</td>\n",
              "            <td>Marcelo Rebelo de Sousa</td>\n",
              "            <td>1</td>\n",
              "            <td>Portugal</td>\n",
              "            <td>Europe</td>\n",
              "            <td>António Costa</td>\n",
              "        </tr>\n",
              "        <tr>\n",
              "            <td>4</td>\n",
              "            <td>Pakistan</td>\n",
              "            <td>Asia</td>\n",
              "            <td>Arif Alvi</td>\n",
              "            <td>2</td>\n",
              "            <td>Pakistan</td>\n",
              "            <td>Asia</td>\n",
              "            <td>Shehbaz Sharif</td>\n",
              "        </tr>\n",
              "        <tr>\n",
              "            <td>6</td>\n",
              "            <td>India</td>\n",
              "            <td>Asia</td>\n",
              "            <td>Ram Nath Kovind</td>\n",
              "            <td>4</td>\n",
              "            <td>India</td>\n",
              "            <td>Asia</td>\n",
              "            <td>Narendra Modi</td>\n",
              "        </tr>\n",
              "    </tbody>\n",
              "</table>"
            ]
          },
          "metadata": {},
          "execution_count": 28
        }
      ]
    },
    {
      "cell_type": "code",
      "source": [
        "%%sql SELECT *\n",
        "FROM presidents AS p\n",
        "INNER JOIN prime_ministers AS pt\n",
        "USING(country)\n",
        "LIMIT 5;"
      ],
      "metadata": {
        "colab": {
          "base_uri": "https://localhost:8080/",
          "height": 161
        },
        "id": "9GXaLaSHSHLY",
        "outputId": "607e1004-0b77-4134-a85a-b452b3222ba1"
      },
      "execution_count": 31,
      "outputs": [
        {
          "output_type": "stream",
          "name": "stdout",
          "text": [
            " * sqlite://\n",
            "Done.\n"
          ]
        },
        {
          "output_type": "execute_result",
          "data": {
            "text/plain": [
              "[(0, 'Egypt', 'Africa', 'Abdel Fattah el-Sisi', 0, 'Africa', 'Mostafa Madbouly'),\n",
              " (1, 'Portugal', 'Europe', 'Marcelo Rebelo de Sousa', 1, 'Europe', 'António Costa'),\n",
              " (4, 'Pakistan', 'Asia', 'Arif Alvi', 2, 'Asia', 'Shehbaz Sharif'),\n",
              " (6, 'India', 'Asia', 'Ram Nath Kovind', 4, 'Asia', 'Narendra Modi')]"
            ],
            "text/html": [
              "<table>\n",
              "    <thead>\n",
              "        <tr>\n",
              "            <th>index</th>\n",
              "            <th>country</th>\n",
              "            <th>continent</th>\n",
              "            <th>president</th>\n",
              "            <th>index_1</th>\n",
              "            <th>continent_1</th>\n",
              "            <th>prime_minister</th>\n",
              "        </tr>\n",
              "    </thead>\n",
              "    <tbody>\n",
              "        <tr>\n",
              "            <td>0</td>\n",
              "            <td>Egypt</td>\n",
              "            <td>Africa</td>\n",
              "            <td>Abdel Fattah el-Sisi</td>\n",
              "            <td>0</td>\n",
              "            <td>Africa</td>\n",
              "            <td>Mostafa Madbouly</td>\n",
              "        </tr>\n",
              "        <tr>\n",
              "            <td>1</td>\n",
              "            <td>Portugal</td>\n",
              "            <td>Europe</td>\n",
              "            <td>Marcelo Rebelo de Sousa</td>\n",
              "            <td>1</td>\n",
              "            <td>Europe</td>\n",
              "            <td>António Costa</td>\n",
              "        </tr>\n",
              "        <tr>\n",
              "            <td>4</td>\n",
              "            <td>Pakistan</td>\n",
              "            <td>Asia</td>\n",
              "            <td>Arif Alvi</td>\n",
              "            <td>2</td>\n",
              "            <td>Asia</td>\n",
              "            <td>Shehbaz Sharif</td>\n",
              "        </tr>\n",
              "        <tr>\n",
              "            <td>6</td>\n",
              "            <td>India</td>\n",
              "            <td>Asia</td>\n",
              "            <td>Ram Nath Kovind</td>\n",
              "            <td>4</td>\n",
              "            <td>Asia</td>\n",
              "            <td>Narendra Modi</td>\n",
              "        </tr>\n",
              "    </tbody>\n",
              "</table>"
            ]
          },
          "metadata": {},
          "execution_count": 31
        }
      ]
    },
    {
      "cell_type": "code",
      "source": [
        "%%sql SELECT *\n",
        "FROM presidents AS p\n",
        "LEFT JOIN prime_ministers AS pt\n",
        "ON p.country = pt.country\n",
        "LIMIT 5;"
      ],
      "metadata": {
        "colab": {
          "base_uri": "https://localhost:8080/",
          "height": 182
        },
        "id": "zV0_9UC0Tq-o",
        "outputId": "946b3c90-cc81-4299-e0a4-a80b5e5222db"
      },
      "execution_count": 34,
      "outputs": [
        {
          "output_type": "stream",
          "name": "stdout",
          "text": [
            " * sqlite://\n",
            "Done.\n"
          ]
        },
        {
          "output_type": "execute_result",
          "data": {
            "text/plain": [
              "[(0, 'Egypt', 'Africa', 'Abdel Fattah el-Sisi', 0, 'Egypt', 'Africa', 'Mostafa Madbouly'),\n",
              " (1, 'Portugal', 'Europe', 'Marcelo Rebelo de Sousa', 1, 'Portugal', 'Europe', 'António Costa'),\n",
              " (2, 'USA', 'North America', 'Joe Biden', None, None, None, None),\n",
              " (3, 'Uruguay', 'South America', 'Luis Lacalle Pou', None, None, None, None),\n",
              " (4, 'Pakistan', 'Asia', 'Arif Alvi', 2, 'Pakistan', 'Asia', 'Shehbaz Sharif')]"
            ],
            "text/html": [
              "<table>\n",
              "    <thead>\n",
              "        <tr>\n",
              "            <th>index</th>\n",
              "            <th>country</th>\n",
              "            <th>continent</th>\n",
              "            <th>president</th>\n",
              "            <th>index_1</th>\n",
              "            <th>country_1</th>\n",
              "            <th>continent_1</th>\n",
              "            <th>prime_minister</th>\n",
              "        </tr>\n",
              "    </thead>\n",
              "    <tbody>\n",
              "        <tr>\n",
              "            <td>0</td>\n",
              "            <td>Egypt</td>\n",
              "            <td>Africa</td>\n",
              "            <td>Abdel Fattah el-Sisi</td>\n",
              "            <td>0</td>\n",
              "            <td>Egypt</td>\n",
              "            <td>Africa</td>\n",
              "            <td>Mostafa Madbouly</td>\n",
              "        </tr>\n",
              "        <tr>\n",
              "            <td>1</td>\n",
              "            <td>Portugal</td>\n",
              "            <td>Europe</td>\n",
              "            <td>Marcelo Rebelo de Sousa</td>\n",
              "            <td>1</td>\n",
              "            <td>Portugal</td>\n",
              "            <td>Europe</td>\n",
              "            <td>António Costa</td>\n",
              "        </tr>\n",
              "        <tr>\n",
              "            <td>2</td>\n",
              "            <td>USA</td>\n",
              "            <td>North America</td>\n",
              "            <td>Joe Biden</td>\n",
              "            <td>None</td>\n",
              "            <td>None</td>\n",
              "            <td>None</td>\n",
              "            <td>None</td>\n",
              "        </tr>\n",
              "        <tr>\n",
              "            <td>3</td>\n",
              "            <td>Uruguay</td>\n",
              "            <td>South America</td>\n",
              "            <td>Luis Lacalle Pou</td>\n",
              "            <td>None</td>\n",
              "            <td>None</td>\n",
              "            <td>None</td>\n",
              "            <td>None</td>\n",
              "        </tr>\n",
              "        <tr>\n",
              "            <td>4</td>\n",
              "            <td>Pakistan</td>\n",
              "            <td>Asia</td>\n",
              "            <td>Arif Alvi</td>\n",
              "            <td>2</td>\n",
              "            <td>Pakistan</td>\n",
              "            <td>Asia</td>\n",
              "            <td>Shehbaz Sharif</td>\n",
              "        </tr>\n",
              "    </tbody>\n",
              "</table>"
            ]
          },
          "metadata": {},
          "execution_count": 34
        }
      ]
    },
    {
      "cell_type": "code",
      "source": [
        "%%sql SELECT *\n",
        "FROM prime_ministers AS p1\n",
        "INNER JOIN presidents AS p2\n",
        "USING(country)\n",
        "LIMIT 5;"
      ],
      "metadata": {
        "colab": {
          "base_uri": "https://localhost:8080/",
          "height": 161
        },
        "id": "NKhfJ0AJUK0w",
        "outputId": "c476d5f0-e6db-422c-e926-d12476f197b5"
      },
      "execution_count": 38,
      "outputs": [
        {
          "output_type": "stream",
          "name": "stdout",
          "text": [
            " * sqlite://\n",
            "Done.\n"
          ]
        },
        {
          "output_type": "execute_result",
          "data": {
            "text/plain": [
              "[(0, 'Egypt', 'Africa', 'Mostafa Madbouly', 0, 'Africa', 'Abdel Fattah el-Sisi'),\n",
              " (1, 'Portugal', 'Europe', 'António Costa', 1, 'Europe', 'Marcelo Rebelo de Sousa'),\n",
              " (2, 'Pakistan', 'Asia', 'Shehbaz Sharif', 4, 'Asia', 'Arif Alvi'),\n",
              " (4, 'India', 'Asia', 'Narendra Modi', 6, 'Asia', 'Ram Nath Kovind')]"
            ],
            "text/html": [
              "<table>\n",
              "    <thead>\n",
              "        <tr>\n",
              "            <th>index</th>\n",
              "            <th>country</th>\n",
              "            <th>continent</th>\n",
              "            <th>prime_minister</th>\n",
              "            <th>index_1</th>\n",
              "            <th>continent_1</th>\n",
              "            <th>president</th>\n",
              "        </tr>\n",
              "    </thead>\n",
              "    <tbody>\n",
              "        <tr>\n",
              "            <td>0</td>\n",
              "            <td>Egypt</td>\n",
              "            <td>Africa</td>\n",
              "            <td>Mostafa Madbouly</td>\n",
              "            <td>0</td>\n",
              "            <td>Africa</td>\n",
              "            <td>Abdel Fattah el-Sisi</td>\n",
              "        </tr>\n",
              "        <tr>\n",
              "            <td>1</td>\n",
              "            <td>Portugal</td>\n",
              "            <td>Europe</td>\n",
              "            <td>António Costa</td>\n",
              "            <td>1</td>\n",
              "            <td>Europe</td>\n",
              "            <td>Marcelo Rebelo de Sousa</td>\n",
              "        </tr>\n",
              "        <tr>\n",
              "            <td>2</td>\n",
              "            <td>Pakistan</td>\n",
              "            <td>Asia</td>\n",
              "            <td>Shehbaz Sharif</td>\n",
              "            <td>4</td>\n",
              "            <td>Asia</td>\n",
              "            <td>Arif Alvi</td>\n",
              "        </tr>\n",
              "        <tr>\n",
              "            <td>4</td>\n",
              "            <td>India</td>\n",
              "            <td>Asia</td>\n",
              "            <td>Narendra Modi</td>\n",
              "            <td>6</td>\n",
              "            <td>Asia</td>\n",
              "            <td>Ram Nath Kovind</td>\n",
              "        </tr>\n",
              "    </tbody>\n",
              "</table>"
            ]
          },
          "metadata": {},
          "execution_count": 38
        }
      ]
    },
    {
      "cell_type": "code",
      "source": [
        "%%sql SELECT *\n",
        "FROM prime_ministers AS p1\n",
        "INNER JOIN presidents AS p2\n",
        "USING(country)\n",
        "INNER JOIN prime_minister_terms AS p3\n",
        "ON p1.country = p2.country\n",
        "LIMIT 5;"
      ],
      "metadata": {
        "colab": {
          "base_uri": "https://localhost:8080/",
          "height": 182
        },
        "id": "yeep2cQBYMXh",
        "outputId": "c30a2719-7b2a-406a-8962-fdfdb01d0546"
      },
      "execution_count": 43,
      "outputs": [
        {
          "output_type": "stream",
          "name": "stdout",
          "text": [
            " * sqlite://\n",
            "Done.\n"
          ]
        },
        {
          "output_type": "execute_result",
          "data": {
            "text/plain": [
              "[(0, 'Egypt', 'Africa', 'Mostafa Madbouly', 0, 'Africa', 'Abdel Fattah el-Sisi', 0, 'Mostafa Madbouly', 2018),\n",
              " (0, 'Egypt', 'Africa', 'Mostafa Madbouly', 0, 'Africa', 'Abdel Fattah el-Sisi', 1, 'António Costa', 2015),\n",
              " (0, 'Egypt', 'Africa', 'Mostafa Madbouly', 0, 'Africa', 'Abdel Fattah el-Sisi', 2, 'Shehbaz Sharif', 2022),\n",
              " (0, 'Egypt', 'Africa', 'Mostafa Madbouly', 0, 'Africa', 'Abdel Fattah el-Sisi', 3, 'Boris Johnson', 2019),\n",
              " (0, 'Egypt', 'Africa', 'Mostafa Madbouly', 0, 'Africa', 'Abdel Fattah el-Sisi', 4, 'Narendra Modi', 2014)]"
            ],
            "text/html": [
              "<table>\n",
              "    <thead>\n",
              "        <tr>\n",
              "            <th>index</th>\n",
              "            <th>country</th>\n",
              "            <th>continent</th>\n",
              "            <th>prime_minister</th>\n",
              "            <th>index_1</th>\n",
              "            <th>continent_1</th>\n",
              "            <th>president</th>\n",
              "            <th>index_2</th>\n",
              "            <th>prime_minister_1</th>\n",
              "            <th>pm_start</th>\n",
              "        </tr>\n",
              "    </thead>\n",
              "    <tbody>\n",
              "        <tr>\n",
              "            <td>0</td>\n",
              "            <td>Egypt</td>\n",
              "            <td>Africa</td>\n",
              "            <td>Mostafa Madbouly</td>\n",
              "            <td>0</td>\n",
              "            <td>Africa</td>\n",
              "            <td>Abdel Fattah el-Sisi</td>\n",
              "            <td>0</td>\n",
              "            <td>Mostafa Madbouly</td>\n",
              "            <td>2018</td>\n",
              "        </tr>\n",
              "        <tr>\n",
              "            <td>0</td>\n",
              "            <td>Egypt</td>\n",
              "            <td>Africa</td>\n",
              "            <td>Mostafa Madbouly</td>\n",
              "            <td>0</td>\n",
              "            <td>Africa</td>\n",
              "            <td>Abdel Fattah el-Sisi</td>\n",
              "            <td>1</td>\n",
              "            <td>António Costa</td>\n",
              "            <td>2015</td>\n",
              "        </tr>\n",
              "        <tr>\n",
              "            <td>0</td>\n",
              "            <td>Egypt</td>\n",
              "            <td>Africa</td>\n",
              "            <td>Mostafa Madbouly</td>\n",
              "            <td>0</td>\n",
              "            <td>Africa</td>\n",
              "            <td>Abdel Fattah el-Sisi</td>\n",
              "            <td>2</td>\n",
              "            <td>Shehbaz Sharif</td>\n",
              "            <td>2022</td>\n",
              "        </tr>\n",
              "        <tr>\n",
              "            <td>0</td>\n",
              "            <td>Egypt</td>\n",
              "            <td>Africa</td>\n",
              "            <td>Mostafa Madbouly</td>\n",
              "            <td>0</td>\n",
              "            <td>Africa</td>\n",
              "            <td>Abdel Fattah el-Sisi</td>\n",
              "            <td>3</td>\n",
              "            <td>Boris Johnson</td>\n",
              "            <td>2019</td>\n",
              "        </tr>\n",
              "        <tr>\n",
              "            <td>0</td>\n",
              "            <td>Egypt</td>\n",
              "            <td>Africa</td>\n",
              "            <td>Mostafa Madbouly</td>\n",
              "            <td>0</td>\n",
              "            <td>Africa</td>\n",
              "            <td>Abdel Fattah el-Sisi</td>\n",
              "            <td>4</td>\n",
              "            <td>Narendra Modi</td>\n",
              "            <td>2014</td>\n",
              "        </tr>\n",
              "    </tbody>\n",
              "</table>"
            ]
          },
          "metadata": {},
          "execution_count": 43
        }
      ]
    },
    {
      "cell_type": "code",
      "source": [
        "%%sql SELECT *\n",
        "FROM prime_ministers AS p1\n",
        "INNER JOIN presidents AS p2\n",
        "USING(country)\n",
        "INNER JOIN prime_minister_terms AS p3\n",
        "USING(prime_minister)\n",
        "LIMIT 5;"
      ],
      "metadata": {
        "colab": {
          "base_uri": "https://localhost:8080/",
          "height": 161
        },
        "id": "ZdvMMdnyY8S4",
        "outputId": "2eeea994-4db5-4238-80bc-b59626b1d57c"
      },
      "execution_count": 45,
      "outputs": [
        {
          "output_type": "stream",
          "name": "stdout",
          "text": [
            " * sqlite://\n",
            "Done.\n"
          ]
        },
        {
          "output_type": "execute_result",
          "data": {
            "text/plain": [
              "[(0, 'Egypt', 'Africa', 'Mostafa Madbouly', 0, 'Africa', 'Abdel Fattah el-Sisi', 0, 2018),\n",
              " (1, 'Portugal', 'Europe', 'António Costa', 1, 'Europe', 'Marcelo Rebelo de Sousa', 1, 2015),\n",
              " (2, 'Pakistan', 'Asia', 'Shehbaz Sharif', 4, 'Asia', 'Arif Alvi', 2, 2022),\n",
              " (4, 'India', 'Asia', 'Narendra Modi', 6, 'Asia', 'Ram Nath Kovind', 4, 2014)]"
            ],
            "text/html": [
              "<table>\n",
              "    <thead>\n",
              "        <tr>\n",
              "            <th>index</th>\n",
              "            <th>country</th>\n",
              "            <th>continent</th>\n",
              "            <th>prime_minister</th>\n",
              "            <th>index_1</th>\n",
              "            <th>continent_1</th>\n",
              "            <th>president</th>\n",
              "            <th>index_2</th>\n",
              "            <th>pm_start</th>\n",
              "        </tr>\n",
              "    </thead>\n",
              "    <tbody>\n",
              "        <tr>\n",
              "            <td>0</td>\n",
              "            <td>Egypt</td>\n",
              "            <td>Africa</td>\n",
              "            <td>Mostafa Madbouly</td>\n",
              "            <td>0</td>\n",
              "            <td>Africa</td>\n",
              "            <td>Abdel Fattah el-Sisi</td>\n",
              "            <td>0</td>\n",
              "            <td>2018</td>\n",
              "        </tr>\n",
              "        <tr>\n",
              "            <td>1</td>\n",
              "            <td>Portugal</td>\n",
              "            <td>Europe</td>\n",
              "            <td>António Costa</td>\n",
              "            <td>1</td>\n",
              "            <td>Europe</td>\n",
              "            <td>Marcelo Rebelo de Sousa</td>\n",
              "            <td>1</td>\n",
              "            <td>2015</td>\n",
              "        </tr>\n",
              "        <tr>\n",
              "            <td>2</td>\n",
              "            <td>Pakistan</td>\n",
              "            <td>Asia</td>\n",
              "            <td>Shehbaz Sharif</td>\n",
              "            <td>4</td>\n",
              "            <td>Asia</td>\n",
              "            <td>Arif Alvi</td>\n",
              "            <td>2</td>\n",
              "            <td>2022</td>\n",
              "        </tr>\n",
              "        <tr>\n",
              "            <td>4</td>\n",
              "            <td>India</td>\n",
              "            <td>Asia</td>\n",
              "            <td>Narendra Modi</td>\n",
              "            <td>6</td>\n",
              "            <td>Asia</td>\n",
              "            <td>Ram Nath Kovind</td>\n",
              "            <td>4</td>\n",
              "            <td>2014</td>\n",
              "        </tr>\n",
              "    </tbody>\n",
              "</table>"
            ]
          },
          "metadata": {},
          "execution_count": 45
        }
      ]
    },
    {
      "cell_type": "code",
      "source": [
        "%%sql SELECT *"
      ],
      "metadata": {
        "id": "w-KeP_mjZESh"
      },
      "execution_count": null,
      "outputs": []
    }
  ]
}