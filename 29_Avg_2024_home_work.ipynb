{
  "nbformat": 4,
  "nbformat_minor": 0,
  "metadata": {
    "colab": {
      "provenance": [],
      "authorship_tag": "ABX9TyPH3Xaq4vM8OgricodVht+3",
      "include_colab_link": true
    },
    "kernelspec": {
      "name": "python3",
      "display_name": "Python 3"
    },
    "language_info": {
      "name": "python"
    }
  },
  "cells": [
    {
      "cell_type": "markdown",
      "metadata": {
        "id": "view-in-github",
        "colab_type": "text"
      },
      "source": [
        "<a href=\"https://colab.research.google.com/github/UznetDev/Data-science-home-work/blob/main/29_Avg_2024_home_work.ipynb\" target=\"_parent\"><img src=\"https://colab.research.google.com/assets/colab-badge.svg\" alt=\"Open In Colab\"/></a>"
      ]
    },
    {
      "cell_type": "markdown",
      "source": [
        "# SQL Home work"
      ],
      "metadata": {
        "id": "quFgwgLl75Xh"
      }
    },
    {
      "cell_type": "markdown",
      "source": [
        "## Set-up"
      ],
      "metadata": {
        "id": "QV11EXpY8AIZ"
      }
    },
    {
      "cell_type": "code",
      "source": [
        "# Set-up\n",
        "%load_ext sql\n",
        "%sql sqlite://"
      ],
      "metadata": {
        "id": "XKxrroos32eA"
      },
      "execution_count": 1,
      "outputs": []
    },
    {
      "cell_type": "markdown",
      "source": [
        "## Create table"
      ],
      "metadata": {
        "id": "lGO0dgmE8LMR"
      }
    },
    {
      "cell_type": "code",
      "execution_count": 4,
      "metadata": {
        "colab": {
          "base_uri": "https://localhost:8080/"
        },
        "id": "IV520Op03XFw",
        "outputId": "1a6621ef-c523-4974-e0eb-7f912c6911c3"
      },
      "outputs": [
        {
          "output_type": "stream",
          "name": "stdout",
          "text": [
            " * sqlite://\n",
            "Done.\n"
          ]
        },
        {
          "output_type": "execute_result",
          "data": {
            "text/plain": [
              "[]"
            ]
          },
          "metadata": {},
          "execution_count": 4
        }
      ],
      "source": [
        "%%sql\n",
        "CREATE TABLE IF NOT EXISTS MESSAGES (\n",
        "ID           integer      NOT NULL,\n",
        "MESSAGE_ID   integer      NOT NULL,\n",
        "USER_ID      varchar(10)  NOT NULL,\n",
        "MESSAGE_TYPE varchar(10)  NOT NULL,\n",
        "QUERY        varchar(40)  NOT NULL,\n",
        "CREATED      timestamp    NOT NULL);"
      ]
    },
    {
      "cell_type": "markdown",
      "source": [
        "## INSERT data"
      ],
      "metadata": {
        "id": "rge9TXpM8fYo"
      }
    },
    {
      "cell_type": "code",
      "source": [
        "%%sql\n",
        "INSERT INTO MESSAGES VALUES\n",
        "(1,\t111, 'user_1',\t'REQUEST',\t'привет', '2021-07-21 12:51:39.0000'),\n",
        "(2,\t222, 'user_2',\t'REQUEST',\t'перевод', '2021-07-21 12:52:03.0000'),\n",
        "(3,\t111, 'user_1',\t'RESPONSE',\t'Приветствую тебя!', '2021-07-21 12:52:48.0000'),\n",
        "(4,\t333, 'user_3',\t'REQUEST',\t'включи yputube', '2021-07-21 12:53:57.0000'),\n",
        "(5,\t444, 'user_1',\t'REQUEST',\t'как дела', '2021-07-21 13:05:13.0000');"
      ],
      "metadata": {
        "colab": {
          "base_uri": "https://localhost:8080/"
        },
        "id": "KdVsl5t_8iwv",
        "outputId": "6bfb45ad-3ba0-4fbb-d8d1-76c88d7aa326"
      },
      "execution_count": 6,
      "outputs": [
        {
          "output_type": "stream",
          "name": "stdout",
          "text": [
            " * sqlite://\n",
            "5 rows affected.\n"
          ]
        },
        {
          "output_type": "execute_result",
          "data": {
            "text/plain": [
              "[]"
            ]
          },
          "metadata": {},
          "execution_count": 6
        }
      ]
    },
    {
      "cell_type": "markdown",
      "source": [
        "## Quiry"
      ],
      "metadata": {
        "id": "9WBnrBE78Qgs"
      }
    },
    {
      "cell_type": "code",
      "source": [
        "%%sql\n",
        "WITH LastRequest AS (SELECT USER_ID, MESSAGE_ID, QUERY, CREATED, ROW_NUMBER() OVER (PARTITION BY USER_ID ORDER BY CREATED DESC) AS row_num\n",
        "FROM MESSAGES\n",
        "WHERE MESSAGE_TYPE = 'REQUEST')\n",
        "\n",
        "SELECT lr.USER_ID, lr.MESSAGE_ID, lr.QUERY AS LAST_Request, res.QUERY AS Last_Response\n",
        "FROM LastRequest lr\n",
        "JOIN (\n",
        "  SELECT MESSAGE_ID, QUERY\n",
        "  FROM MESSAGES\n",
        "  WHERE MESSAGE_TYPE = 'RESPONSE'\n",
        ") res\n",
        "ON lr.MESSAGE_ID = res.MESSAGE_ID\n",
        "WHERE lr.row_num = 1\n",
        "ORDER BY lr.USER_ID;"
      ],
      "metadata": {
        "colab": {
          "base_uri": "https://localhost:8080/",
          "height": 75
        },
        "id": "lCb7Epol5Jas",
        "outputId": "fea13b57-9d91-4b3c-b144-f44e7d3d5090"
      },
      "execution_count": 5,
      "outputs": [
        {
          "output_type": "stream",
          "name": "stdout",
          "text": [
            " * sqlite://\n",
            "Done.\n"
          ]
        },
        {
          "output_type": "execute_result",
          "data": {
            "text/plain": [
              "[]"
            ],
            "text/html": [
              "<table>\n",
              "    <thead>\n",
              "        <tr>\n",
              "            <th>USER_ID</th>\n",
              "            <th>MESSAGE_ID</th>\n",
              "            <th>LAST_Request</th>\n",
              "            <th>Last_Response</th>\n",
              "        </tr>\n",
              "    </thead>\n",
              "    <tbody>\n",
              "    </tbody>\n",
              "</table>"
            ]
          },
          "metadata": {},
          "execution_count": 5
        }
      ]
    },
    {
      "cell_type": "code",
      "source": [
        "%%sql\n",
        "WITH LastRequest AS (\n",
        "  SELECT USER_ID,\n",
        "         MESSAGE_ID,\n",
        "         QUERY,\n",
        "         CREATED,\n",
        "         ROW_NUMBER()\n",
        "          OVER (\n",
        "            PARTITION BY USER_ID\n",
        "            ORDER BY CREATED DESC) AS row_num\n",
        "FROM MESSAGES\n",
        "WHERE MESSAGE_TYPE = 'REQUEST')\n",
        "\n",
        "SELECT lr.USER_ID,\n",
        "  lr.MESSAGE_ID,\n",
        "  lr.QUERY AS LAST_Request,\n",
        "  res.QUERY AS Last_Response\n",
        "FROM LastRequest lr\n",
        "JOIN (\n",
        "  SELECT MESSAGE_ID, QUERY\n",
        "  FROM MESSAGES\n",
        "  WHERE MESSAGE_TYPE = 'RESPONSE'\n",
        ") res\n",
        "ON lr.MESSAGE_ID = res.MESSAGE_ID\n",
        "WHERE lr.row_num = 1\n",
        "ORDER BY lr.USER_ID;"
      ],
      "metadata": {
        "colab": {
          "base_uri": "https://localhost:8080/",
          "height": 75
        },
        "id": "hNvh-uhK9x06",
        "outputId": "94a3dfbe-bffa-4f55-fec7-0889c7a7492d"
      },
      "execution_count": 7,
      "outputs": [
        {
          "output_type": "stream",
          "name": "stdout",
          "text": [
            " * sqlite://\n",
            "Done.\n"
          ]
        },
        {
          "output_type": "execute_result",
          "data": {
            "text/plain": [
              "[]"
            ],
            "text/html": [
              "<table>\n",
              "    <thead>\n",
              "        <tr>\n",
              "            <th>USER_ID</th>\n",
              "            <th>MESSAGE_ID</th>\n",
              "            <th>LAST_Request</th>\n",
              "            <th>Last_Response</th>\n",
              "        </tr>\n",
              "    </thead>\n",
              "    <tbody>\n",
              "    </tbody>\n",
              "</table>"
            ]
          },
          "metadata": {},
          "execution_count": 7
        }
      ]
    }
  ]
}