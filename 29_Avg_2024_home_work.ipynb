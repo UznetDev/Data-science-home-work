{
  "nbformat": 4,
  "nbformat_minor": 0,
  "metadata": {
    "colab": {
      "provenance": [],
      "authorship_tag": "ABX9TyNteG/BMdFnI+CK5J/A4YDh",
      "include_colab_link": true
    },
    "kernelspec": {
      "name": "python3",
      "display_name": "Python 3"
    },
    "language_info": {
      "name": "python"
    }
  },
  "cells": [
    {
      "cell_type": "markdown",
      "metadata": {
        "id": "view-in-github",
        "colab_type": "text"
      },
      "source": [
        "<a href=\"https://colab.research.google.com/github/UznetDev/Data-science-home-work/blob/main/29_Avg_2024_home_work.ipynb\" target=\"_parent\"><img src=\"https://colab.research.google.com/assets/colab-badge.svg\" alt=\"Open In Colab\"/></a>"
      ]
    },
    {
      "cell_type": "code",
      "source": [
        "# Set-up\n",
        "%load_ext sql\n",
        "%sql sqlite://"
      ],
      "metadata": {
        "id": "XKxrroos32eA"
      },
      "execution_count": 1,
      "outputs": []
    },
    {
      "cell_type": "code",
      "execution_count": 2,
      "metadata": {
        "colab": {
          "base_uri": "https://localhost:8080/"
        },
        "id": "IV520Op03XFw",
        "outputId": "66a403fb-fbca-4981-f697-ddddba20c87c"
      },
      "outputs": [
        {
          "output_type": "stream",
          "name": "stdout",
          "text": [
            " * sqlite://\n",
            "Done.\n"
          ]
        },
        {
          "output_type": "execute_result",
          "data": {
            "text/plain": [
              "[]"
            ]
          },
          "metadata": {},
          "execution_count": 2
        }
      ],
      "source": [
        "%%sql\n",
        "CREATE TABLE MESSAGES (\n",
        "ID           integer      NOT NULL,\n",
        "MESSAGE_ID   integer      NOT NULL,\n",
        "USER_ID      varchar(10)  NOT NULL,\n",
        "MESSAGE_TYPE varchar(10)  NOT NULL,\n",
        "QUERY        varchar(40)  NOT NULL,\n",
        "CREATED      timestamp    NOT NULL)\n",
        ";"
      ]
    },
    {
      "cell_type": "code",
      "source": [
        "%%sql\n",
        "INSERT INTO MESSAGES VALUES\n",
        "(1,\t111, 'user_1',\t'REQUEST',\t'привет', '2021-07-21 12:51:39.0000'),\n",
        "(2,\t222, 'user_2',\t'REQUEST',\t'перевод', '2021-07-21 12:52:03.0000'),\n",
        "(3,\t111, 'user_1',\t'RESPONSE',\t'Приветствую тебя!', '2021-07-21 12:52:48.0000'),\n",
        "(4,\t333, 'user_3',\t'REQUEST',\t'включи yputube', '2021-07-21 12:53:57.0000'),\n",
        "(5,\t444, 'user_1',\t'REQUEST',\t'как дела', '2021-07-21 13:05:13.0000');"
      ],
      "metadata": {
        "colab": {
          "base_uri": "https://localhost:8080/"
        },
        "id": "BeKEmZiT3_NU",
        "outputId": "90d28022-fa28-4de0-9538-9ad508c75262"
      },
      "execution_count": 3,
      "outputs": [
        {
          "output_type": "stream",
          "name": "stdout",
          "text": [
            " * sqlite://\n",
            "5 rows affected.\n"
          ]
        },
        {
          "output_type": "execute_result",
          "data": {
            "text/plain": [
              "[]"
            ]
          },
          "metadata": {},
          "execution_count": 3
        }
      ]
    }
  ]
}