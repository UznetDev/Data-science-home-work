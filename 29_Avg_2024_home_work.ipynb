{
  "nbformat": 4,
  "nbformat_minor": 0,
  "metadata": {
    "colab": {
      "provenance": [],
      "authorship_tag": "ABX9TyN2t0vZoEFgI8c8ozwSIjoV",
      "include_colab_link": true
    },
    "kernelspec": {
      "name": "python3",
      "display_name": "Python 3"
    },
    "language_info": {
      "name": "python"
    }
  },
  "cells": [
    {
      "cell_type": "markdown",
      "metadata": {
        "id": "view-in-github",
        "colab_type": "text"
      },
      "source": [
        "<a href=\"https://colab.research.google.com/github/UznetDev/Data-science-home-work/blob/main/29_Avg_2024_home_work.ipynb\" target=\"_parent\"><img src=\"https://colab.research.google.com/assets/colab-badge.svg\" alt=\"Open In Colab\"/></a>"
      ]
    },
    {
      "cell_type": "markdown",
      "source": [
        "# SQL Home work"
      ],
      "metadata": {
        "id": "quFgwgLl75Xh"
      }
    },
    {
      "cell_type": "markdown",
      "source": [
        "## Set-up"
      ],
      "metadata": {
        "id": "QV11EXpY8AIZ"
      }
    },
    {
      "cell_type": "code",
      "source": [
        "# Set-up\n",
        "%load_ext sql\n",
        "%sql sqlite://"
      ],
      "metadata": {
        "id": "XKxrroos32eA"
      },
      "execution_count": 1,
      "outputs": []
    },
    {
      "cell_type": "markdown",
      "source": [
        "## Create table"
      ],
      "metadata": {
        "id": "lGO0dgmE8LMR"
      }
    },
    {
      "cell_type": "code",
      "execution_count": 4,
      "metadata": {
        "colab": {
          "base_uri": "https://localhost:8080/"
        },
        "id": "IV520Op03XFw",
        "outputId": "1a6621ef-c523-4974-e0eb-7f912c6911c3"
      },
      "outputs": [
        {
          "output_type": "stream",
          "name": "stdout",
          "text": [
            " * sqlite://\n",
            "Done.\n"
          ]
        },
        {
          "output_type": "execute_result",
          "data": {
            "text/plain": [
              "[]"
            ]
          },
          "metadata": {},
          "execution_count": 4
        }
      ],
      "source": [
        "%%sql\n",
        "CREATE TABLE IF NOT EXISTS MESSAGES (\n",
        "ID           integer      NOT NULL,\n",
        "MESSAGE_ID   integer      NOT NULL,\n",
        "USER_ID      varchar(10)  NOT NULL,\n",
        "MESSAGE_TYPE varchar(10)  NOT NULL,\n",
        "QUERY        varchar(40)  NOT NULL,\n",
        "CREATED      timestamp    NOT NULL);"
      ]
    },
    {
      "cell_type": "markdown",
      "source": [
        "## INSERT data"
      ],
      "metadata": {
        "id": "rge9TXpM8fYo"
      }
    },
    {
      "cell_type": "code",
      "source": [
        "%%sql\n",
        "INSERT INTO MESSAGES VALUES\n",
        "(1,\t111, 'user_1',\t'REQUEST',\t'привет', '2021-07-21 12:51:39.0000'),\n",
        "(2,\t222, 'user_2',\t'REQUEST',\t'перевод', '2021-07-21 12:52:03.0000'),\n",
        "(3,\t111, 'user_1',\t'RESPONSE',\t'Приветствую тебя!', '2021-07-21 12:52:48.0000'),\n",
        "(4,\t333, 'user_3',\t'REQUEST',\t'включи yputube', '2021-07-21 12:53:57.0000'),\n",
        "(5,\t444, 'user_1',\t'REQUEST',\t'как дела', '2021-07-21 13:05:13.0000');"
      ],
      "metadata": {
        "colab": {
          "base_uri": "https://localhost:8080/"
        },
        "id": "KdVsl5t_8iwv",
        "outputId": "6bfb45ad-3ba0-4fbb-d8d1-76c88d7aa326"
      },
      "execution_count": 6,
      "outputs": [
        {
          "output_type": "stream",
          "name": "stdout",
          "text": [
            " * sqlite://\n",
            "5 rows affected.\n"
          ]
        },
        {
          "output_type": "execute_result",
          "data": {
            "text/plain": [
              "[]"
            ]
          },
          "metadata": {},
          "execution_count": 6
        }
      ]
    },
    {
      "cell_type": "markdown",
      "source": [
        "## Quiry"
      ],
      "metadata": {
        "id": "9WBnrBE78Qgs"
      }
    },
    {
      "cell_type": "markdown",
      "source": [
        "### **Задание 2.**"
      ],
      "metadata": {
        "id": "BWAjwux-_b9X"
      }
    },
    {
      "cell_type": "markdown",
      "source": [
        "#### Вывести идентификаторы пользователей и последнюю пару вопрос-ответ по каждому пользователю, где есть текстовый ответ ассистента."
      ],
      "metadata": {
        "id": "d6LoIkcEBR-J"
      }
    },
    {
      "cell_type": "markdown",
      "source": [
        "##### 1.1"
      ],
      "metadata": {
        "id": "3WFYs-5-_x4k"
      }
    },
    {
      "cell_type": "code",
      "source": [
        "%%sql\n",
        "WITH LastRequest AS (SELECT USER_ID, MESSAGE_ID, QUERY, CREATED, ROW_NUMBER() OVER (PARTITION BY USER_ID ORDER BY CREATED DESC) AS row_num\n",
        "FROM MESSAGES\n",
        "WHERE MESSAGE_TYPE = 'REQUEST')\n",
        "\n",
        "SELECT lr.USER_ID, lr.MESSAGE_ID, lr.QUERY AS LAST_Request, res.QUERY AS Last_Response\n",
        "FROM LastRequest lr\n",
        "JOIN (\n",
        "  SELECT MESSAGE_ID, QUERY\n",
        "  FROM MESSAGES\n",
        "  WHERE MESSAGE_TYPE = 'RESPONSE'\n",
        ") res\n",
        "ON lr.MESSAGE_ID = res.MESSAGE_ID\n",
        "WHERE lr.row_num = 1\n",
        "ORDER BY lr.USER_ID;"
      ],
      "metadata": {
        "colab": {
          "base_uri": "https://localhost:8080/",
          "height": 75
        },
        "id": "lCb7Epol5Jas",
        "outputId": "fea13b57-9d91-4b3c-b144-f44e7d3d5090"
      },
      "execution_count": 5,
      "outputs": [
        {
          "output_type": "stream",
          "name": "stdout",
          "text": [
            " * sqlite://\n",
            "Done.\n"
          ]
        },
        {
          "output_type": "execute_result",
          "data": {
            "text/plain": [
              "[]"
            ],
            "text/html": [
              "<table>\n",
              "    <thead>\n",
              "        <tr>\n",
              "            <th>USER_ID</th>\n",
              "            <th>MESSAGE_ID</th>\n",
              "            <th>LAST_Request</th>\n",
              "            <th>Last_Response</th>\n",
              "        </tr>\n",
              "    </thead>\n",
              "    <tbody>\n",
              "    </tbody>\n",
              "</table>"
            ]
          },
          "metadata": {},
          "execution_count": 5
        }
      ]
    },
    {
      "cell_type": "markdown",
      "source": [
        "##### 1.2"
      ],
      "metadata": {
        "id": "pkGnw7HH_02X"
      }
    },
    {
      "cell_type": "code",
      "source": [
        "%%sql\n",
        "WITH LastRequest AS (\n",
        "  SELECT USER_ID,\n",
        "         MESSAGE_ID,\n",
        "         QUERY,\n",
        "         CREATED,\n",
        "         ROW_NUMBER()\n",
        "          OVER (\n",
        "            PARTITION BY USER_ID\n",
        "            ORDER BY CREATED DESC) AS row_num\n",
        "  FROM MESSAGES\n",
        "  WHERE MESSAGE_TYPE = 'REQUEST'),\n",
        "LastResponse AS (\n",
        "    SELECT MESSAGE_ID,\n",
        "          QUERY\n",
        "    FROM MESSAGES\n",
        "    WHERE MESSAGE_TYPE = 'RESPONSE')\n",
        "\n",
        "SELECT lr.USER_ID,\n",
        "  lr.MESSAGE_ID,\n",
        "  lr.QUERY AS LAST_Request,\n",
        "  res.QUERY AS Last_Response\n",
        "FROM LastRequest AS lr\n",
        "JOIN LastResponse AS res\n",
        "ON lr.MESSAGE_ID = res.MESSAGE_ID\n",
        "WHERE lr.row_num = 1\n",
        "ORDER BY lr.USER_ID;"
      ],
      "metadata": {
        "colab": {
          "base_uri": "https://localhost:8080/",
          "height": 75
        },
        "id": "hNvh-uhK9x06",
        "outputId": "ba49bafd-6dfb-4e73-92c0-2a5b93233965"
      },
      "execution_count": 11,
      "outputs": [
        {
          "output_type": "stream",
          "name": "stdout",
          "text": [
            " * sqlite://\n",
            "Done.\n"
          ]
        },
        {
          "output_type": "execute_result",
          "data": {
            "text/plain": [
              "[]"
            ],
            "text/html": [
              "<table>\n",
              "    <thead>\n",
              "        <tr>\n",
              "            <th>USER_ID</th>\n",
              "            <th>MESSAGE_ID</th>\n",
              "            <th>LAST_Request</th>\n",
              "            <th>Last_Response</th>\n",
              "        </tr>\n",
              "    </thead>\n",
              "    <tbody>\n",
              "    </tbody>\n",
              "</table>"
            ]
          },
          "metadata": {},
          "execution_count": 11
        }
      ]
    },
    {
      "cell_type": "markdown",
      "source": [
        "##### 1.3"
      ],
      "metadata": {
        "id": "3a9Y9V5iDW7x"
      }
    },
    {
      "cell_type": "code",
      "source": [
        "%%sql\n",
        "WITH LastRequest AS (\n",
        "  SELECT USER_ID,\n",
        "         MESSAGE_ID,\n",
        "         QUERY,\n",
        "         CREATED,\n",
        "         ROW_NUMBER()\n",
        "          OVER (\n",
        "            PARTITION BY USER_ID\n",
        "            ORDER BY CREATED DESC) AS row_num\n",
        "  FROM MESSAGES\n",
        "  WHERE MESSAGE_TYPE = 'REQUEST'),\n",
        "LastResponse AS (\n",
        "    SELECT MESSAGE_ID,\n",
        "          QUERY\n",
        "    FROM MESSAGES\n",
        "    WHERE MESSAGE_TYPE = 'RESPONSE')\n",
        "\n",
        "SELECT lr.USER_ID,\n",
        "  lr.MESSAGE_ID,\n",
        "  lr.QUERY AS LAST_Request,\n",
        "  res.QUERY AS Last_Response\n",
        "FROM LastRequest AS lr\n",
        "JOIN LastResponse AS res\n",
        "ON lr.MESSAGE_ID = res.MESSAGE_ID\n",
        "WHERE lr.row_num = 1\n",
        "ORDER BY lr.USER_ID;"
      ],
      "metadata": {
        "id": "j5gWn58yDaFb"
      },
      "execution_count": null,
      "outputs": []
    },
    {
      "cell_type": "markdown",
      "source": [
        "### **Задание 3.**"
      ],
      "metadata": {
        "id": "J1HvwHQNABM6"
      }
    },
    {
      "cell_type": "markdown",
      "source": [
        "#### Есть две таблицы:\n",
        "\n",
        "#### Orders (order_id – PK, promocode_id – FK) - заказы\n",
        "\n",
        "#### Promocodes (promocode_id – PK, name – UQ, discount) – промокоды\n",
        "\n",
        "##### Вопросы:\n",
        "\n",
        "1.   Какая доля заказов с промокодами?\n",
        "2.   Какой самый популярный промокод (название) и число его использований?"
      ],
      "metadata": {
        "id": "JgC17l6HBZxs"
      }
    },
    {
      "cell_type": "markdown",
      "source": [
        "##### 1.1"
      ],
      "metadata": {
        "id": "sgA0VkmXB3ep"
      }
    },
    {
      "cell_type": "code",
      "source": [
        "%%sql\n",
        "SELECT p.name AS name_promocode, COUNT(*) AS usage_count\n",
        "FROM orders o\n",
        "JOIN promocodes p ON o.promocode_id = p.promocode_id\n",
        "GROUP BY p.promocode_id, p.name\n",
        "ORDER BY usage_count DESC\n",
        "LIMIT 1;"
      ],
      "metadata": {
        "colab": {
          "base_uri": "https://localhost:8080/"
        },
        "id": "7_nOvUMLAb77",
        "outputId": "90071262-25dc-4d47-b9b1-03075ac459a8"
      },
      "execution_count": 8,
      "outputs": [
        {
          "output_type": "stream",
          "name": "stdout",
          "text": [
            " * sqlite://\n",
            "(sqlite3.OperationalError) no such table: orders\n",
            "[SQL: SELECT p.name AS name_promocode, COUNT(*) AS usage_count\n",
            "FROM orders o\n",
            "JOIN promocodes p ON o.promocode_id = p.promocode_id\n",
            "GROUP BY p.promocode_id, p.name\n",
            "ORDER BY usage_count DESC\n",
            "LIMIT 1;]\n",
            "(Background on this error at: https://sqlalche.me/e/20/e3q8)\n"
          ]
        }
      ]
    },
    {
      "cell_type": "markdown",
      "source": [
        "##### 1.2"
      ],
      "metadata": {
        "id": "WUodGBq5B5ue"
      }
    },
    {
      "cell_type": "code",
      "source": [
        "%%sql\n",
        "SELECT p.name AS name_promocode, COUNT(*) AS usage_count\n",
        "FROM orders o\n",
        "JOIN promocodes p ON o.promocode_id = p.promocode_id\n",
        "GROUP BY p.promocode_id, p.name\n",
        "ORDER BY usage_count DESC\n",
        "LIMIT 1;"
      ],
      "metadata": {
        "colab": {
          "base_uri": "https://localhost:8080/"
        },
        "id": "mHY71UL3B12n",
        "outputId": "119d9238-9c8f-49b2-da26-d34e99f68885"
      },
      "execution_count": 10,
      "outputs": [
        {
          "output_type": "stream",
          "name": "stdout",
          "text": [
            " * sqlite://\n",
            "(sqlite3.OperationalError) no such table: orders\n",
            "[SQL: SELECT p.name AS name_promocode, COUNT(*) AS usage_count\n",
            "FROM orders o\n",
            "JOIN promocodes p ON o.promocode_id = p.promocode_id\n",
            "GROUP BY p.promocode_id, p.name\n",
            "ORDER BY usage_count DESC\n",
            "LIMIT 1;]\n",
            "(Background on this error at: https://sqlalche.me/e/20/e3q8)\n"
          ]
        }
      ]
    },
    {
      "cell_type": "code",
      "source": [],
      "metadata": {
        "id": "HIHQKwlpCAo-"
      },
      "execution_count": null,
      "outputs": []
    }
  ]
}