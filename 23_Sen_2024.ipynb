{
  "nbformat": 4,
  "nbformat_minor": 0,
  "metadata": {
    "colab": {
      "provenance": [],
      "authorship_tag": "ABX9TyPWcR+6n1fGcMA8VDC2P4Eq",
      "include_colab_link": true
    },
    "kernelspec": {
      "name": "python3",
      "display_name": "Python 3"
    },
    "language_info": {
      "name": "python"
    }
  },
  "cells": [
    {
      "cell_type": "markdown",
      "metadata": {
        "id": "view-in-github",
        "colab_type": "text"
      },
      "source": [
        "<a href=\"https://colab.research.google.com/github/UznetDev/Data-science-home-work/blob/main/23_Sen_2024.ipynb\" target=\"_parent\"><img src=\"https://colab.research.google.com/assets/colab-badge.svg\" alt=\"Open In Colab\"/></a>"
      ]
    },
    {
      "cell_type": "code",
      "execution_count": 1,
      "metadata": {
        "id": "pi7XjIDeBbmm"
      },
      "outputs": [],
      "source": [
        "import pandas as pd\n",
        "import numpy as np\n",
        "import matplotlib.pyplot as plt\n",
        "import seaborn as sns\n",
        "import joblib\n",
        "import re\n",
        "from sklearn.model_selection import *\n",
        "from sklearn.linear_model import *\n",
        "from sklearn.preprocessing import *\n",
        "from sklearn.feature_selection import *\n",
        "from sklearn.metrics import *\n",
        "from sklearn.ensemble import *\n",
        "from sklearn.pipeline import *\n",
        "from sklearn.compose import *\n",
        "from sklearn.impute import *\n",
        "from sklearn.base import *"
      ]
    },
    {
      "cell_type": "code",
      "source": [
        "df = pd.read_csv('/content/train.csv')"
      ],
      "metadata": {
        "id": "GzZylW2yBroW"
      },
      "execution_count": 2,
      "outputs": []
    }
  ]
}