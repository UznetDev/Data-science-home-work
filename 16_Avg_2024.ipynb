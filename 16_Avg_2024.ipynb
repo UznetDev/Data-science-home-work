{
  "nbformat": 4,
  "nbformat_minor": 0,
  "metadata": {
    "colab": {
      "provenance": [],
      "gpuType": "T4",
      "authorship_tag": "ABX9TyOOK4i3O1bV5GkvUcpytVUt",
      "include_colab_link": true
    },
    "kernelspec": {
      "name": "python3",
      "display_name": "Python 3"
    },
    "language_info": {
      "name": "python"
    },
    "accelerator": "GPU"
  },
  "cells": [
    {
      "cell_type": "markdown",
      "metadata": {
        "id": "view-in-github",
        "colab_type": "text"
      },
      "source": [
        "<a href=\"https://colab.research.google.com/github/UznetDev/Data-science-home-work/blob/main/16_Avg_2024.ipynb\" target=\"_parent\"><img src=\"https://colab.research.google.com/assets/colab-badge.svg\" alt=\"Open In Colab\"/></a>"
      ]
    },
    {
      "cell_type": "code",
      "source": [
        "# Set-up\n",
        "%load_ext sql\n",
        "%sql sqlite://"
      ],
      "metadata": {
        "colab": {
          "base_uri": "https://localhost:8080/"
        },
        "id": "eb2mheD8qEiK",
        "outputId": "4272cca5-2334-4b30-ba2c-7e635db73f89"
      },
      "execution_count": 17,
      "outputs": [
        {
          "output_type": "stream",
          "name": "stdout",
          "text": [
            "The sql extension is already loaded. To reload it, use:\n",
            "  %reload_ext sql\n"
          ]
        }
      ]
    },
    {
      "cell_type": "code",
      "execution_count": 18,
      "metadata": {
        "id": "jYxWk1B2a3QZ"
      },
      "outputs": [],
      "source": [
        "import pandas as pd\n",
        "import numpy as np\n",
        "from sklearn.metrics import *\n",
        "from sklearn.model_selection import *\n",
        "from sklearn.linear_model import *\n",
        "from sklearn.datasets import *"
      ]
    },
    {
      "cell_type": "code",
      "source": [
        "# Load the California Housing dataset and save it as CSV\n",
        "california_housing = fetch_california_housing(as_frame=True)\n",
        "df = california_housing.frame\n",
        "df.to_csv('Dataset.csv', index=False)\n",
        "\n",
        "# Open and load the CSV into a pandas DataFrame\n",
        "with open('Dataset.csv') as f:\n",
        "    california = pd.read_csv(f, encoding='unicode_escape')\n",
        "\n",
        "# Drop the table if it exists, then persist the DataFrame to the SQL database\n",
        "%sql DROP TABLE IF EXISTS california;\n",
        "%sql --persist california"
      ],
      "metadata": {
        "colab": {
          "base_uri": "https://localhost:8080/",
          "height": 87
        },
        "id": "5jUvGGOCqmaI",
        "outputId": "7c557513-44cd-4e64-d864-339c2c4f5b3a"
      },
      "execution_count": 19,
      "outputs": [
        {
          "output_type": "stream",
          "name": "stdout",
          "text": [
            " * sqlite://\n",
            "Done.\n",
            " * sqlite://\n"
          ]
        },
        {
          "output_type": "execute_result",
          "data": {
            "text/plain": [
              "'Persisted california'"
            ],
            "application/vnd.google.colaboratory.intrinsic+json": {
              "type": "string"
            }
          },
          "metadata": {},
          "execution_count": 19
        }
      ]
    },
    {
      "cell_type": "code",
      "source": [
        "%%sql SELECT * FROM california LIMIT 5"
      ],
      "metadata": {
        "colab": {
          "base_uri": "https://localhost:8080/",
          "height": 180
        },
        "id": "Bbnr2iryrMNK",
        "outputId": "44230e37-0cec-474b-f27a-e63f93d7bc5e"
      },
      "execution_count": 20,
      "outputs": [
        {
          "output_type": "stream",
          "name": "stdout",
          "text": [
            " * sqlite://\n",
            "Done.\n"
          ]
        },
        {
          "output_type": "execute_result",
          "data": {
            "text/plain": [
              "[(0, 8.3252, 41.0, 6.984126984126984, 1.0238095238095235, 322.0, 2.555555555555556, 37.88, -122.23, 4.526),\n",
              " (1, 8.3014, 21.0, 6.238137082601054, 0.9718804920913884, 2401.0, 2.109841827768014, 37.86, -122.22, 3.585),\n",
              " (2, 7.2574, 52.0, 8.288135593220339, 1.073446327683616, 496.0, 2.8022598870056497, 37.85, -122.24, 3.521),\n",
              " (3, 5.6431, 52.0, 5.817351598173516, 1.0730593607305936, 558.0, 2.547945205479452, 37.85, -122.25, 3.413),\n",
              " (4, 3.8462, 52.0, 6.281853281853282, 1.0810810810810811, 565.0, 2.1814671814671813, 37.85, -122.25, 3.422)]"
            ],
            "text/html": [
              "<table>\n",
              "    <thead>\n",
              "        <tr>\n",
              "            <th>index</th>\n",
              "            <th>MedInc</th>\n",
              "            <th>HouseAge</th>\n",
              "            <th>AveRooms</th>\n",
              "            <th>AveBedrms</th>\n",
              "            <th>Population</th>\n",
              "            <th>AveOccup</th>\n",
              "            <th>Latitude</th>\n",
              "            <th>Longitude</th>\n",
              "            <th>MedHouseVal</th>\n",
              "        </tr>\n",
              "    </thead>\n",
              "    <tbody>\n",
              "        <tr>\n",
              "            <td>0</td>\n",
              "            <td>8.3252</td>\n",
              "            <td>41.0</td>\n",
              "            <td>6.984126984126984</td>\n",
              "            <td>1.0238095238095235</td>\n",
              "            <td>322.0</td>\n",
              "            <td>2.555555555555556</td>\n",
              "            <td>37.88</td>\n",
              "            <td>-122.23</td>\n",
              "            <td>4.526</td>\n",
              "        </tr>\n",
              "        <tr>\n",
              "            <td>1</td>\n",
              "            <td>8.3014</td>\n",
              "            <td>21.0</td>\n",
              "            <td>6.238137082601054</td>\n",
              "            <td>0.9718804920913884</td>\n",
              "            <td>2401.0</td>\n",
              "            <td>2.109841827768014</td>\n",
              "            <td>37.86</td>\n",
              "            <td>-122.22</td>\n",
              "            <td>3.585</td>\n",
              "        </tr>\n",
              "        <tr>\n",
              "            <td>2</td>\n",
              "            <td>7.2574</td>\n",
              "            <td>52.0</td>\n",
              "            <td>8.288135593220339</td>\n",
              "            <td>1.073446327683616</td>\n",
              "            <td>496.0</td>\n",
              "            <td>2.8022598870056497</td>\n",
              "            <td>37.85</td>\n",
              "            <td>-122.24</td>\n",
              "            <td>3.521</td>\n",
              "        </tr>\n",
              "        <tr>\n",
              "            <td>3</td>\n",
              "            <td>5.6431</td>\n",
              "            <td>52.0</td>\n",
              "            <td>5.817351598173516</td>\n",
              "            <td>1.0730593607305936</td>\n",
              "            <td>558.0</td>\n",
              "            <td>2.547945205479452</td>\n",
              "            <td>37.85</td>\n",
              "            <td>-122.25</td>\n",
              "            <td>3.413</td>\n",
              "        </tr>\n",
              "        <tr>\n",
              "            <td>4</td>\n",
              "            <td>3.8462</td>\n",
              "            <td>52.0</td>\n",
              "            <td>6.281853281853282</td>\n",
              "            <td>1.0810810810810811</td>\n",
              "            <td>565.0</td>\n",
              "            <td>2.1814671814671813</td>\n",
              "            <td>37.85</td>\n",
              "            <td>-122.25</td>\n",
              "            <td>3.422</td>\n",
              "        </tr>\n",
              "    </tbody>\n",
              "</table>"
            ]
          },
          "metadata": {},
          "execution_count": 20
        }
      ]
    },
    {
      "cell_type": "code",
      "source": [
        "%%sql SELECT * FROM\n",
        "california LIMIT 5;"
      ],
      "metadata": {
        "id": "fGpr3UyQr29V",
        "outputId": "8b218a74-0d15-469b-a3b0-5b999560b28f",
        "colab": {
          "base_uri": "https://localhost:8080/",
          "height": 180
        }
      },
      "execution_count": 21,
      "outputs": [
        {
          "output_type": "stream",
          "name": "stdout",
          "text": [
            " * sqlite://\n",
            "Done.\n"
          ]
        },
        {
          "output_type": "execute_result",
          "data": {
            "text/plain": [
              "[(0, 8.3252, 41.0, 6.984126984126984, 1.0238095238095235, 322.0, 2.555555555555556, 37.88, -122.23, 4.526),\n",
              " (1, 8.3014, 21.0, 6.238137082601054, 0.9718804920913884, 2401.0, 2.109841827768014, 37.86, -122.22, 3.585),\n",
              " (2, 7.2574, 52.0, 8.288135593220339, 1.073446327683616, 496.0, 2.8022598870056497, 37.85, -122.24, 3.521),\n",
              " (3, 5.6431, 52.0, 5.817351598173516, 1.0730593607305936, 558.0, 2.547945205479452, 37.85, -122.25, 3.413),\n",
              " (4, 3.8462, 52.0, 6.281853281853282, 1.0810810810810811, 565.0, 2.1814671814671813, 37.85, -122.25, 3.422)]"
            ],
            "text/html": [
              "<table>\n",
              "    <thead>\n",
              "        <tr>\n",
              "            <th>index</th>\n",
              "            <th>MedInc</th>\n",
              "            <th>HouseAge</th>\n",
              "            <th>AveRooms</th>\n",
              "            <th>AveBedrms</th>\n",
              "            <th>Population</th>\n",
              "            <th>AveOccup</th>\n",
              "            <th>Latitude</th>\n",
              "            <th>Longitude</th>\n",
              "            <th>MedHouseVal</th>\n",
              "        </tr>\n",
              "    </thead>\n",
              "    <tbody>\n",
              "        <tr>\n",
              "            <td>0</td>\n",
              "            <td>8.3252</td>\n",
              "            <td>41.0</td>\n",
              "            <td>6.984126984126984</td>\n",
              "            <td>1.0238095238095235</td>\n",
              "            <td>322.0</td>\n",
              "            <td>2.555555555555556</td>\n",
              "            <td>37.88</td>\n",
              "            <td>-122.23</td>\n",
              "            <td>4.526</td>\n",
              "        </tr>\n",
              "        <tr>\n",
              "            <td>1</td>\n",
              "            <td>8.3014</td>\n",
              "            <td>21.0</td>\n",
              "            <td>6.238137082601054</td>\n",
              "            <td>0.9718804920913884</td>\n",
              "            <td>2401.0</td>\n",
              "            <td>2.109841827768014</td>\n",
              "            <td>37.86</td>\n",
              "            <td>-122.22</td>\n",
              "            <td>3.585</td>\n",
              "        </tr>\n",
              "        <tr>\n",
              "            <td>2</td>\n",
              "            <td>7.2574</td>\n",
              "            <td>52.0</td>\n",
              "            <td>8.288135593220339</td>\n",
              "            <td>1.073446327683616</td>\n",
              "            <td>496.0</td>\n",
              "            <td>2.8022598870056497</td>\n",
              "            <td>37.85</td>\n",
              "            <td>-122.24</td>\n",
              "            <td>3.521</td>\n",
              "        </tr>\n",
              "        <tr>\n",
              "            <td>3</td>\n",
              "            <td>5.6431</td>\n",
              "            <td>52.0</td>\n",
              "            <td>5.817351598173516</td>\n",
              "            <td>1.0730593607305936</td>\n",
              "            <td>558.0</td>\n",
              "            <td>2.547945205479452</td>\n",
              "            <td>37.85</td>\n",
              "            <td>-122.25</td>\n",
              "            <td>3.413</td>\n",
              "        </tr>\n",
              "        <tr>\n",
              "            <td>4</td>\n",
              "            <td>3.8462</td>\n",
              "            <td>52.0</td>\n",
              "            <td>6.281853281853282</td>\n",
              "            <td>1.0810810810810811</td>\n",
              "            <td>565.0</td>\n",
              "            <td>2.1814671814671813</td>\n",
              "            <td>37.85</td>\n",
              "            <td>-122.25</td>\n",
              "            <td>3.422</td>\n",
              "        </tr>\n",
              "    </tbody>\n",
              "</table>"
            ]
          },
          "metadata": {},
          "execution_count": 21
        }
      ]
    },
    {
      "cell_type": "code",
      "source": [
        "%%sql SELECT `HouseAge`, `index`, `Latitude`, `Longitude`  FROM\n",
        "`california` LIMIT 5;"
      ],
      "metadata": {
        "colab": {
          "base_uri": "https://localhost:8080/",
          "height": 180
        },
        "id": "Cx71RujduYFu",
        "outputId": "f3085fe0-a5c6-469e-df70-4d818a6ed235"
      },
      "execution_count": 34,
      "outputs": [
        {
          "output_type": "stream",
          "name": "stdout",
          "text": [
            " * sqlite://\n",
            "Done.\n"
          ]
        },
        {
          "output_type": "execute_result",
          "data": {
            "text/plain": [
              "[(41.0, 0, 37.88, -122.23),\n",
              " (21.0, 1, 37.86, -122.22),\n",
              " (52.0, 2, 37.85, -122.24),\n",
              " (52.0, 3, 37.85, -122.25),\n",
              " (52.0, 4, 37.85, -122.25)]"
            ],
            "text/html": [
              "<table>\n",
              "    <thead>\n",
              "        <tr>\n",
              "            <th>HouseAge</th>\n",
              "            <th>index</th>\n",
              "            <th>Latitude</th>\n",
              "            <th>Longitude</th>\n",
              "        </tr>\n",
              "    </thead>\n",
              "    <tbody>\n",
              "        <tr>\n",
              "            <td>41.0</td>\n",
              "            <td>0</td>\n",
              "            <td>37.88</td>\n",
              "            <td>-122.23</td>\n",
              "        </tr>\n",
              "        <tr>\n",
              "            <td>21.0</td>\n",
              "            <td>1</td>\n",
              "            <td>37.86</td>\n",
              "            <td>-122.22</td>\n",
              "        </tr>\n",
              "        <tr>\n",
              "            <td>52.0</td>\n",
              "            <td>2</td>\n",
              "            <td>37.85</td>\n",
              "            <td>-122.24</td>\n",
              "        </tr>\n",
              "        <tr>\n",
              "            <td>52.0</td>\n",
              "            <td>3</td>\n",
              "            <td>37.85</td>\n",
              "            <td>-122.25</td>\n",
              "        </tr>\n",
              "        <tr>\n",
              "            <td>52.0</td>\n",
              "            <td>4</td>\n",
              "            <td>37.85</td>\n",
              "            <td>-122.25</td>\n",
              "        </tr>\n",
              "    </tbody>\n",
              "</table>"
            ]
          },
          "metadata": {},
          "execution_count": 34
        }
      ]
    },
    {
      "cell_type": "code",
      "source": [
        "# Read datasets from CSV files\n",
        "films = pd.read_csv('films.csv', header=None)\n",
        "films = films.rename(columns={0: 'id',\n",
        "                              1: 'title',\n",
        "                              2: 'releas_date',\n",
        "                              3: 'country',\n",
        "                              4: 'duratioon',\n",
        "                              5: 'language',\n",
        "                              6: 'certificatipon',\n",
        "                              7: 'gross',\n",
        "                              8: 'budget'})\n",
        "reviews = pd.read_csv('reviews.csv', header=None)\n",
        "reviews = reviews.rename(columns={0: 'id',\n",
        "                                  1: 'film_id',\n",
        "                                  2: 'num_user',\n",
        "                                  3: 'num_critic',\n",
        "                                  4: 'imdb_score',\n",
        "                                  5: 'num_votes',\n",
        "                                  6: 'facebook_likes'})\n",
        "people = pd.read_csv('people.csv', header=None)\n",
        "people = people.rename(columns={0: 'id',\n",
        "                                1: 'name',\n",
        "                                2: 'birthdate',\n",
        "                                3: 'deathdate'})\n",
        "roles = pd.read_csv('roles.csv', header=None)\n",
        "roles = roles.rename(columns={0: 'id',\n",
        "                              1: 'film_id',\n",
        "                              2: 'person_id',\n",
        "                              3: 'role'})\n",
        "\n",
        "# Drop tables if they exist, then persist the DataFrames to the SQL database\n",
        "%sql DROP TABLE IF EXISTS films;\n",
        "%sql --persist films\n",
        "\n",
        "%sql DROP TABLE IF EXISTS reviews;\n",
        "%sql --persist reviews\n",
        "\n",
        "%sql DROP TABLE IF EXISTS people;\n",
        "%sql --persist people\n",
        "\n",
        "%sql DROP TABLE IF EXISTS roles;\n",
        "%sql --persist roles"
      ],
      "metadata": {
        "colab": {
          "base_uri": "https://localhost:8080/",
          "height": 244
        },
        "id": "mxH2PZm-z9TK",
        "outputId": "5fd2d56a-141d-4001-a4d7-48e1600fba2c"
      },
      "execution_count": 55,
      "outputs": [
        {
          "output_type": "stream",
          "name": "stdout",
          "text": [
            " * sqlite://\n",
            "Done.\n",
            " * sqlite://\n",
            " * sqlite://\n",
            "Done.\n",
            " * sqlite://\n",
            " * sqlite://\n",
            "Done.\n",
            " * sqlite://\n",
            " * sqlite://\n",
            "Done.\n",
            " * sqlite://\n"
          ]
        },
        {
          "output_type": "execute_result",
          "data": {
            "text/plain": [
              "'Persisted roles'"
            ],
            "application/vnd.google.colaboratory.intrinsic+json": {
              "type": "string"
            }
          },
          "metadata": {},
          "execution_count": 55
        }
      ]
    },
    {
      "cell_type": "code",
      "source": [
        "%%sql select * from films limit 2"
      ],
      "metadata": {
        "colab": {
          "base_uri": "https://localhost:8080/",
          "height": 117
        },
        "id": "L0JfOU8W0lVs",
        "outputId": "83c20693-6646-42ad-d15c-69d335b49721"
      },
      "execution_count": 47,
      "outputs": [
        {
          "output_type": "stream",
          "name": "stdout",
          "text": [
            " * sqlite://\n",
            "Done.\n"
          ]
        },
        {
          "output_type": "execute_result",
          "data": {
            "text/plain": [
              "[(0, 1, \"Intolerance: Love's Struggle Throughout the Ages\", 1916.0, 'USA', 123.0, None, 'Not Rated', None, 385907.0),\n",
              " (1, 2, 'Over the Hill to the Poorhouse', 1920.0, 'USA', 110.0, None, None, 3000000.0, 100000.0)]"
            ],
            "text/html": [
              "<table>\n",
              "    <thead>\n",
              "        <tr>\n",
              "            <th>index</th>\n",
              "            <th>id</th>\n",
              "            <th>title</th>\n",
              "            <th>releas_date</th>\n",
              "            <th>country</th>\n",
              "            <th>duratioon</th>\n",
              "            <th>language</th>\n",
              "            <th>certificatipon</th>\n",
              "            <th>gross</th>\n",
              "            <th>budget</th>\n",
              "        </tr>\n",
              "    </thead>\n",
              "    <tbody>\n",
              "        <tr>\n",
              "            <td>0</td>\n",
              "            <td>1</td>\n",
              "            <td>Intolerance: Love&#x27;s Struggle Throughout the Ages</td>\n",
              "            <td>1916.0</td>\n",
              "            <td>USA</td>\n",
              "            <td>123.0</td>\n",
              "            <td>None</td>\n",
              "            <td>Not Rated</td>\n",
              "            <td>None</td>\n",
              "            <td>385907.0</td>\n",
              "        </tr>\n",
              "        <tr>\n",
              "            <td>1</td>\n",
              "            <td>2</td>\n",
              "            <td>Over the Hill to the Poorhouse</td>\n",
              "            <td>1920.0</td>\n",
              "            <td>USA</td>\n",
              "            <td>110.0</td>\n",
              "            <td>None</td>\n",
              "            <td>None</td>\n",
              "            <td>3000000.0</td>\n",
              "            <td>100000.0</td>\n",
              "        </tr>\n",
              "    </tbody>\n",
              "</table>"
            ]
          },
          "metadata": {},
          "execution_count": 47
        }
      ]
    },
    {
      "cell_type": "code",
      "source": [
        "%%sql select * from reviews limit 2"
      ],
      "metadata": {
        "colab": {
          "base_uri": "https://localhost:8080/",
          "height": 117
        },
        "id": "rubOfPXD06Je",
        "outputId": "ca7117d5-0f60-4d40-d12d-3a044e210941"
      },
      "execution_count": 48,
      "outputs": [
        {
          "output_type": "stream",
          "name": "stdout",
          "text": [
            " * sqlite://\n",
            "Done.\n"
          ]
        },
        {
          "output_type": "execute_result",
          "data": {
            "text/plain": [
              "[(0, 3934, 588.0, 432.0, 7.0999999, 203461, 46000),\n",
              " (1, 3405, 285.0, 267.0, 6.4000001, 149998, 0)]"
            ],
            "text/html": [
              "<table>\n",
              "    <thead>\n",
              "        <tr>\n",
              "            <th>index</th>\n",
              "            <th>id</th>\n",
              "            <th>film_id</th>\n",
              "            <th>num_user</th>\n",
              "            <th>num_critic</th>\n",
              "            <th>imdb_score</th>\n",
              "            <th>num_votes</th>\n",
              "        </tr>\n",
              "    </thead>\n",
              "    <tbody>\n",
              "        <tr>\n",
              "            <td>0</td>\n",
              "            <td>3934</td>\n",
              "            <td>588.0</td>\n",
              "            <td>432.0</td>\n",
              "            <td>7.0999999</td>\n",
              "            <td>203461</td>\n",
              "            <td>46000</td>\n",
              "        </tr>\n",
              "        <tr>\n",
              "            <td>1</td>\n",
              "            <td>3405</td>\n",
              "            <td>285.0</td>\n",
              "            <td>267.0</td>\n",
              "            <td>6.4000001</td>\n",
              "            <td>149998</td>\n",
              "            <td>0</td>\n",
              "        </tr>\n",
              "    </tbody>\n",
              "</table>"
            ]
          },
          "metadata": {},
          "execution_count": 48
        }
      ]
    },
    {
      "cell_type": "code",
      "source": [
        "%%sql select * from people limit 2"
      ],
      "metadata": {
        "colab": {
          "base_uri": "https://localhost:8080/",
          "height": 117
        },
        "id": "M9A8wG3_0-l8",
        "outputId": "c9dbb803-36d2-448f-e52f-6678f2a4c7c2"
      },
      "execution_count": 49,
      "outputs": [
        {
          "output_type": "stream",
          "name": "stdout",
          "text": [
            " * sqlite://\n",
            "Done.\n"
          ]
        },
        {
          "output_type": "execute_result",
          "data": {
            "text/plain": [
              "[(0, 1, '50 Cent', '1975-07-06', None),\n",
              " (1, 2, 'A. Michael Baldwin', '1963-04-04', None)]"
            ],
            "text/html": [
              "<table>\n",
              "    <thead>\n",
              "        <tr>\n",
              "            <th>index</th>\n",
              "            <th>id</th>\n",
              "            <th>name</th>\n",
              "            <th>birthdate</th>\n",
              "            <th>deathdate</th>\n",
              "        </tr>\n",
              "    </thead>\n",
              "    <tbody>\n",
              "        <tr>\n",
              "            <td>0</td>\n",
              "            <td>1</td>\n",
              "            <td>50 Cent</td>\n",
              "            <td>1975-07-06</td>\n",
              "            <td>None</td>\n",
              "        </tr>\n",
              "        <tr>\n",
              "            <td>1</td>\n",
              "            <td>2</td>\n",
              "            <td>A. Michael Baldwin</td>\n",
              "            <td>1963-04-04</td>\n",
              "            <td>None</td>\n",
              "        </tr>\n",
              "    </tbody>\n",
              "</table>"
            ]
          },
          "metadata": {},
          "execution_count": 49
        }
      ]
    },
    {
      "cell_type": "code",
      "source": [
        "%%sql select * from roles limit 2"
      ],
      "metadata": {
        "colab": {
          "base_uri": "https://localhost:8080/",
          "height": 117
        },
        "id": "5XalvsXy0_H1",
        "outputId": "7b8f07c0-522d-4888-8e8f-c1d7425e7ee4"
      },
      "execution_count": 51,
      "outputs": [
        {
          "output_type": "stream",
          "name": "stdout",
          "text": [
            " * sqlite://\n",
            "Done.\n"
          ]
        },
        {
          "output_type": "execute_result",
          "data": {
            "text/plain": [
              "[(0, 1, 1, 1630, 'director'), (1, 2, 1, 4843, 'actor')]"
            ],
            "text/html": [
              "<table>\n",
              "    <thead>\n",
              "        <tr>\n",
              "            <th>index</th>\n",
              "            <th>id</th>\n",
              "            <th>film_id</th>\n",
              "            <th>person_id</th>\n",
              "            <th>role</th>\n",
              "        </tr>\n",
              "    </thead>\n",
              "    <tbody>\n",
              "        <tr>\n",
              "            <td>0</td>\n",
              "            <td>1</td>\n",
              "            <td>1</td>\n",
              "            <td>1630</td>\n",
              "            <td>director</td>\n",
              "        </tr>\n",
              "        <tr>\n",
              "            <td>1</td>\n",
              "            <td>2</td>\n",
              "            <td>1</td>\n",
              "            <td>4843</td>\n",
              "            <td>actor</td>\n",
              "        </tr>\n",
              "    </tbody>\n",
              "</table>"
            ]
          },
          "metadata": {},
          "execution_count": 51
        }
      ]
    },
    {
      "cell_type": "code",
      "source": [
        "%%sql select * from films as fm\n",
        "inner join reviews as rv\n",
        "on fm.id = rv.film_id\n",
        "inner join roles as rl\n",
        "on fm.id = rl.film_id\n",
        "inner join people as ps\n",
        "on rl.person_id = ps.id\n",
        "limit 2"
      ],
      "metadata": {
        "colab": {
          "base_uri": "https://localhost:8080/",
          "height": 276
        },
        "id": "bAuZSwYR3RNJ",
        "outputId": "521d66f1-0f42-42bc-e49c-33a6a0759f9d"
      },
      "execution_count": 56,
      "outputs": [
        {
          "output_type": "stream",
          "name": "stdout",
          "text": [
            " * sqlite://\n",
            "Done.\n"
          ]
        },
        {
          "output_type": "execute_result",
          "data": {
            "text/plain": [
              "[(0, 1, \"Intolerance: Love's Struggle Throughout the Ages\", 1916.0, 'USA', 123.0, None, 'Not Rated', None, 385907.0, 63, 3016, 1.0, 5.0, 7.4000001, 59, 18, 0, 1, 1, 1630, 'director', 1629, 1630, 'D.W. Griffith', '1875-01-22', '1948-07-23'),\n",
              " (0, 1, \"Intolerance: Love's Struggle Throughout the Ages\", 1916.0, 'USA', 123.0, None, 'Not Rated', None, 385907.0, 63, 3016, 1.0, 5.0, 7.4000001, 59, 18, 1, 2, 1, 4843, 'actor', 4842, 4843, 'Lillian Gish', '1893-10-14', '1993-02-27')]"
            ],
            "text/html": [
              "<table>\n",
              "    <thead>\n",
              "        <tr>\n",
              "            <th>index</th>\n",
              "            <th>id</th>\n",
              "            <th>title</th>\n",
              "            <th>releas_date</th>\n",
              "            <th>country</th>\n",
              "            <th>duratioon</th>\n",
              "            <th>language</th>\n",
              "            <th>certificatipon</th>\n",
              "            <th>gross</th>\n",
              "            <th>budget</th>\n",
              "            <th>index_1</th>\n",
              "            <th>id_1</th>\n",
              "            <th>film_id</th>\n",
              "            <th>num_user</th>\n",
              "            <th>num_critic</th>\n",
              "            <th>imdb_score</th>\n",
              "            <th>num_votes</th>\n",
              "            <th>index_2</th>\n",
              "            <th>id_2</th>\n",
              "            <th>film_id_1</th>\n",
              "            <th>person_id</th>\n",
              "            <th>role</th>\n",
              "            <th>index_3</th>\n",
              "            <th>id_3</th>\n",
              "            <th>name</th>\n",
              "            <th>birthdate</th>\n",
              "            <th>deathdate</th>\n",
              "        </tr>\n",
              "    </thead>\n",
              "    <tbody>\n",
              "        <tr>\n",
              "            <td>0</td>\n",
              "            <td>1</td>\n",
              "            <td>Intolerance: Love&#x27;s Struggle Throughout the Ages</td>\n",
              "            <td>1916.0</td>\n",
              "            <td>USA</td>\n",
              "            <td>123.0</td>\n",
              "            <td>None</td>\n",
              "            <td>Not Rated</td>\n",
              "            <td>None</td>\n",
              "            <td>385907.0</td>\n",
              "            <td>63</td>\n",
              "            <td>3016</td>\n",
              "            <td>1.0</td>\n",
              "            <td>5.0</td>\n",
              "            <td>7.4000001</td>\n",
              "            <td>59</td>\n",
              "            <td>18</td>\n",
              "            <td>0</td>\n",
              "            <td>1</td>\n",
              "            <td>1</td>\n",
              "            <td>1630</td>\n",
              "            <td>director</td>\n",
              "            <td>1629</td>\n",
              "            <td>1630</td>\n",
              "            <td>D.W. Griffith</td>\n",
              "            <td>1875-01-22</td>\n",
              "            <td>1948-07-23</td>\n",
              "        </tr>\n",
              "        <tr>\n",
              "            <td>0</td>\n",
              "            <td>1</td>\n",
              "            <td>Intolerance: Love&#x27;s Struggle Throughout the Ages</td>\n",
              "            <td>1916.0</td>\n",
              "            <td>USA</td>\n",
              "            <td>123.0</td>\n",
              "            <td>None</td>\n",
              "            <td>Not Rated</td>\n",
              "            <td>None</td>\n",
              "            <td>385907.0</td>\n",
              "            <td>63</td>\n",
              "            <td>3016</td>\n",
              "            <td>1.0</td>\n",
              "            <td>5.0</td>\n",
              "            <td>7.4000001</td>\n",
              "            <td>59</td>\n",
              "            <td>18</td>\n",
              "            <td>1</td>\n",
              "            <td>2</td>\n",
              "            <td>1</td>\n",
              "            <td>4843</td>\n",
              "            <td>actor</td>\n",
              "            <td>4842</td>\n",
              "            <td>4843</td>\n",
              "            <td>Lillian Gish</td>\n",
              "            <td>1893-10-14</td>\n",
              "            <td>1993-02-27</td>\n",
              "        </tr>\n",
              "    </tbody>\n",
              "</table>"
            ]
          },
          "metadata": {},
          "execution_count": 56
        }
      ]
    },
    {
      "cell_type": "code",
      "source": [],
      "metadata": {
        "id": "dcGdAGzG3ZCR"
      },
      "execution_count": null,
      "outputs": []
    }
  ]
}