{
  "nbformat": 4,
  "nbformat_minor": 0,
  "metadata": {
    "colab": {
      "provenance": [],
      "gpuType": "T4",
      "authorship_tag": "ABX9TyMy811lGgQGG1HXcnuHt1WR",
      "include_colab_link": true
    },
    "kernelspec": {
      "name": "python3",
      "display_name": "Python 3"
    },
    "language_info": {
      "name": "python"
    },
    "accelerator": "GPU"
  },
  "cells": [
    {
      "cell_type": "markdown",
      "metadata": {
        "id": "view-in-github",
        "colab_type": "text"
      },
      "source": [
        "<a href=\"https://colab.research.google.com/github/UznetDev/Data-science-home-work/blob/main/16_Avg_2024.ipynb\" target=\"_parent\"><img src=\"https://colab.research.google.com/assets/colab-badge.svg\" alt=\"Open In Colab\"/></a>"
      ]
    },
    {
      "cell_type": "code",
      "source": [
        "# Set-up\n",
        "%load_ext sql\n",
        "%sql sqlite://"
      ],
      "metadata": {
        "colab": {
          "base_uri": "https://localhost:8080/"
        },
        "id": "eb2mheD8qEiK",
        "outputId": "87a31fed-1cc6-435c-c1f0-f37d348dc78a"
      },
      "execution_count": 8,
      "outputs": [
        {
          "output_type": "stream",
          "name": "stdout",
          "text": [
            "The sql extension is already loaded. To reload it, use:\n",
            "  %reload_ext sql\n"
          ]
        }
      ]
    },
    {
      "cell_type": "code",
      "execution_count": 4,
      "metadata": {
        "id": "jYxWk1B2a3QZ"
      },
      "outputs": [],
      "source": [
        "import pandas as pd\n",
        "import numpy as np\n",
        "from sklearn.metrics import *\n",
        "from sklearn.model_selection import *\n",
        "from sklearn.linear_model import *\n",
        "from sklearn.datasets import *"
      ]
    },
    {
      "cell_type": "code",
      "source": [
        "# Load the California Housing dataset and save it as CSV\n",
        "california_housing = fetch_california_housing(as_frame=True)\n",
        "df = california_housing.frame\n",
        "df.to_csv('Dataset.csv', index=False)\n",
        "\n",
        "# Open and load the CSV into a pandas DataFrame\n",
        "with open('Dataset.csv') as f:\n",
        "    california = pd.read_csv(f, encoding='unicode_escape')\n",
        "\n",
        "# Drop the table if it exists, then persist the DataFrame to the SQL database\n",
        "%sql DROP TABLE IF EXISTS california;\n",
        "%sql --persist california"
      ],
      "metadata": {
        "colab": {
          "base_uri": "https://localhost:8080/",
          "height": 87
        },
        "id": "5jUvGGOCqmaI",
        "outputId": "519e5c52-5a34-4bc6-f7a5-37daa6a6ab5a"
      },
      "execution_count": 10,
      "outputs": [
        {
          "output_type": "stream",
          "name": "stdout",
          "text": [
            " * sqlite://\n",
            "Done.\n",
            " * sqlite://\n"
          ]
        },
        {
          "output_type": "execute_result",
          "data": {
            "text/plain": [
              "'Persisted california'"
            ],
            "application/vnd.google.colaboratory.intrinsic+json": {
              "type": "string"
            }
          },
          "metadata": {},
          "execution_count": 10
        }
      ]
    },
    {
      "cell_type": "code",
      "source": [
        "%%sql SELECT * FROM california LIMIT 5"
      ],
      "metadata": {
        "colab": {
          "base_uri": "https://localhost:8080/",
          "height": 180
        },
        "id": "Bbnr2iryrMNK",
        "outputId": "46d5d3ba-77ee-4350-cddf-017f28c046b1"
      },
      "execution_count": 12,
      "outputs": [
        {
          "output_type": "stream",
          "name": "stdout",
          "text": [
            " * sqlite://\n",
            "Done.\n"
          ]
        },
        {
          "output_type": "execute_result",
          "data": {
            "text/plain": [
              "[(0, 8.3252, 41.0, 6.984126984126984, 1.0238095238095235, 322.0, 2.555555555555556, 37.88, -122.23, 4.526),\n",
              " (1, 8.3014, 21.0, 6.238137082601054, 0.9718804920913884, 2401.0, 2.109841827768014, 37.86, -122.22, 3.585),\n",
              " (2, 7.2574, 52.0, 8.288135593220339, 1.073446327683616, 496.0, 2.8022598870056497, 37.85, -122.24, 3.521),\n",
              " (3, 5.6431, 52.0, 5.817351598173516, 1.0730593607305936, 558.0, 2.547945205479452, 37.85, -122.25, 3.413),\n",
              " (4, 3.8462, 52.0, 6.281853281853282, 1.0810810810810811, 565.0, 2.1814671814671813, 37.85, -122.25, 3.422)]"
            ],
            "text/html": [
              "<table>\n",
              "    <thead>\n",
              "        <tr>\n",
              "            <th>index</th>\n",
              "            <th>MedInc</th>\n",
              "            <th>HouseAge</th>\n",
              "            <th>AveRooms</th>\n",
              "            <th>AveBedrms</th>\n",
              "            <th>Population</th>\n",
              "            <th>AveOccup</th>\n",
              "            <th>Latitude</th>\n",
              "            <th>Longitude</th>\n",
              "            <th>MedHouseVal</th>\n",
              "        </tr>\n",
              "    </thead>\n",
              "    <tbody>\n",
              "        <tr>\n",
              "            <td>0</td>\n",
              "            <td>8.3252</td>\n",
              "            <td>41.0</td>\n",
              "            <td>6.984126984126984</td>\n",
              "            <td>1.0238095238095235</td>\n",
              "            <td>322.0</td>\n",
              "            <td>2.555555555555556</td>\n",
              "            <td>37.88</td>\n",
              "            <td>-122.23</td>\n",
              "            <td>4.526</td>\n",
              "        </tr>\n",
              "        <tr>\n",
              "            <td>1</td>\n",
              "            <td>8.3014</td>\n",
              "            <td>21.0</td>\n",
              "            <td>6.238137082601054</td>\n",
              "            <td>0.9718804920913884</td>\n",
              "            <td>2401.0</td>\n",
              "            <td>2.109841827768014</td>\n",
              "            <td>37.86</td>\n",
              "            <td>-122.22</td>\n",
              "            <td>3.585</td>\n",
              "        </tr>\n",
              "        <tr>\n",
              "            <td>2</td>\n",
              "            <td>7.2574</td>\n",
              "            <td>52.0</td>\n",
              "            <td>8.288135593220339</td>\n",
              "            <td>1.073446327683616</td>\n",
              "            <td>496.0</td>\n",
              "            <td>2.8022598870056497</td>\n",
              "            <td>37.85</td>\n",
              "            <td>-122.24</td>\n",
              "            <td>3.521</td>\n",
              "        </tr>\n",
              "        <tr>\n",
              "            <td>3</td>\n",
              "            <td>5.6431</td>\n",
              "            <td>52.0</td>\n",
              "            <td>5.817351598173516</td>\n",
              "            <td>1.0730593607305936</td>\n",
              "            <td>558.0</td>\n",
              "            <td>2.547945205479452</td>\n",
              "            <td>37.85</td>\n",
              "            <td>-122.25</td>\n",
              "            <td>3.413</td>\n",
              "        </tr>\n",
              "        <tr>\n",
              "            <td>4</td>\n",
              "            <td>3.8462</td>\n",
              "            <td>52.0</td>\n",
              "            <td>6.281853281853282</td>\n",
              "            <td>1.0810810810810811</td>\n",
              "            <td>565.0</td>\n",
              "            <td>2.1814671814671813</td>\n",
              "            <td>37.85</td>\n",
              "            <td>-122.25</td>\n",
              "            <td>3.422</td>\n",
              "        </tr>\n",
              "    </tbody>\n",
              "</table>"
            ]
          },
          "metadata": {},
          "execution_count": 12
        }
      ]
    }
  ]
}