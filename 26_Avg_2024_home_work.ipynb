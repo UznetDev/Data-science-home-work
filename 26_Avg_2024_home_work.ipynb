{
  "nbformat": 4,
  "nbformat_minor": 0,
  "metadata": {
    "colab": {
      "provenance": [],
      "collapsed_sections": [
        "4yHz4zewqni4",
        "NS6j93AQiH7B"
      ],
      "authorship_tag": "ABX9TyMjhfq8Udr0DDDXwD0vSqB2",
      "include_colab_link": true
    },
    "kernelspec": {
      "name": "python3",
      "display_name": "Python 3"
    },
    "language_info": {
      "name": "python"
    }
  },
  "cells": [
    {
      "cell_type": "markdown",
      "metadata": {
        "id": "view-in-github",
        "colab_type": "text"
      },
      "source": [
        "<a href=\"https://colab.research.google.com/github/UznetDev/Data-science-home-work/blob/main/26_Avg_2024_home_work.ipynb\" target=\"_parent\"><img src=\"https://colab.research.google.com/assets/colab-badge.svg\" alt=\"Open In Colab\"/></a>"
      ]
    },
    {
      "cell_type": "markdown",
      "source": [
        "# **SQL**"
      ],
      "metadata": {
        "id": "GZxK2bDnj6_Q"
      }
    },
    {
      "cell_type": "markdown",
      "source": [
        "### Import librares"
      ],
      "metadata": {
        "id": "4yHz4zewqni4"
      }
    },
    {
      "cell_type": "code",
      "execution_count": 1,
      "metadata": {
        "id": "zpHxL5F4hVc9"
      },
      "outputs": [],
      "source": [
        "import pandas as pd"
      ]
    },
    {
      "cell_type": "markdown",
      "source": [
        "### Set-up for SQL"
      ],
      "metadata": {
        "id": "NS6j93AQiH7B"
      }
    },
    {
      "cell_type": "code",
      "source": [
        "%load_ext sql\n",
        "%sql sqlite://"
      ],
      "metadata": {
        "id": "_cyIAPu-iBED"
      },
      "execution_count": 2,
      "outputs": []
    },
    {
      "cell_type": "markdown",
      "source": [
        "##### Load dataset"
      ],
      "metadata": {
        "id": "qlhev4g0_TQD"
      }
    },
    {
      "cell_type": "code",
      "source": [
        "monarchs = pd.read_csv('monarchs.csv')\n",
        "presidents = pd.read_csv('presidents.csv')\n",
        "prime_minister_terms = pd.read_csv('prime_minister_terms.csv')\n",
        "prime_ministers = pd.read_csv('prime_ministers.csv')\n",
        "states = pd.read_csv('states.csv')"
      ],
      "metadata": {
        "id": "fWsxJNZ2ir-H"
      },
      "execution_count": 3,
      "outputs": []
    },
    {
      "cell_type": "markdown",
      "source": [
        "##### Upload dataset to SQL"
      ],
      "metadata": {
        "id": "aunGHMzJ_bSy"
      }
    },
    {
      "cell_type": "code",
      "source": [
        "%sql DROP TABLE IF EXISTS monarchs;\n",
        "%sql --persist monarchs\n",
        "\n",
        "%sql DROP TABLE IF EXISTS presidents;\n",
        "%sql --persist presidents\n",
        "\n",
        "%sql DROP TABLE IF EXISTS prime_minister_terms;\n",
        "%sql --persist prime_minister_terms\n",
        "\n",
        "%sql DROP TABLE IF EXISTS prime_ministers;\n",
        "%sql --persist prime_ministers\n",
        "\n",
        "%sql DROP TABLE IF EXISTS states;\n",
        "%sql --persist states"
      ],
      "metadata": {
        "colab": {
          "base_uri": "https://localhost:8080/",
          "height": 0
        },
        "id": "gCxdrMMXi34q",
        "outputId": "b1a4bf3f-fdb3-4459-ecd0-e1971b5157ef"
      },
      "execution_count": 4,
      "outputs": [
        {
          "output_type": "stream",
          "name": "stdout",
          "text": [
            " * sqlite://\n",
            "Done.\n",
            " * sqlite://\n",
            " * sqlite://\n",
            "Done.\n",
            " * sqlite://\n",
            " * sqlite://\n",
            "Done.\n",
            " * sqlite://\n",
            " * sqlite://\n",
            "Done.\n",
            " * sqlite://\n",
            " * sqlite://\n",
            "Done.\n",
            " * sqlite://\n"
          ]
        },
        {
          "output_type": "execute_result",
          "data": {
            "text/plain": [
              "'Persisted states'"
            ],
            "application/vnd.google.colaboratory.intrinsic+json": {
              "type": "string"
            }
          },
          "metadata": {},
          "execution_count": 4
        }
      ]
    },
    {
      "cell_type": "markdown",
      "source": [
        "### Home work"
      ],
      "metadata": {
        "id": "Xp8q7BO4lq4q"
      }
    },
    {
      "cell_type": "markdown",
      "source": [
        "##### View all table"
      ],
      "metadata": {
        "id": "aQGDCsg5zYWE"
      }
    },
    {
      "cell_type": "code",
      "source": [
        "%%sql SELECT * FROM monarchs LIMIT 1;"
      ],
      "metadata": {
        "colab": {
          "base_uri": "https://localhost:8080/",
          "height": 0
        },
        "id": "zW9n_4Dmvn2W",
        "outputId": "2c61f523-b53e-40fc-ab24-623c0ab1a08e"
      },
      "execution_count": 5,
      "outputs": [
        {
          "output_type": "stream",
          "name": "stdout",
          "text": [
            " * sqlite://\n",
            "Done.\n"
          ]
        },
        {
          "output_type": "execute_result",
          "data": {
            "text/plain": [
              "[(0, 'Brunei', 'Asia', 'Hassanal Bolkiah')]"
            ],
            "text/html": [
              "<table>\n",
              "    <thead>\n",
              "        <tr>\n",
              "            <th>index</th>\n",
              "            <th>country</th>\n",
              "            <th>continent</th>\n",
              "            <th>monarch</th>\n",
              "        </tr>\n",
              "    </thead>\n",
              "    <tbody>\n",
              "        <tr>\n",
              "            <td>0</td>\n",
              "            <td>Brunei</td>\n",
              "            <td>Asia</td>\n",
              "            <td>Hassanal Bolkiah</td>\n",
              "        </tr>\n",
              "    </tbody>\n",
              "</table>"
            ]
          },
          "metadata": {},
          "execution_count": 5
        }
      ]
    },
    {
      "cell_type": "code",
      "source": [
        "%%sql SELECT * FROM presidents LIMIT 1;"
      ],
      "metadata": {
        "colab": {
          "base_uri": "https://localhost:8080/",
          "height": 0
        },
        "id": "Kpz_vjp0wsMC",
        "outputId": "9e2e1cc5-963e-40d3-ac48-30bdf7b48c0a"
      },
      "execution_count": 6,
      "outputs": [
        {
          "output_type": "stream",
          "name": "stdout",
          "text": [
            " * sqlite://\n",
            "Done.\n"
          ]
        },
        {
          "output_type": "execute_result",
          "data": {
            "text/plain": [
              "[(0, 'Egypt', 'Africa', 'Abdel Fattah el-Sisi')]"
            ],
            "text/html": [
              "<table>\n",
              "    <thead>\n",
              "        <tr>\n",
              "            <th>index</th>\n",
              "            <th>country</th>\n",
              "            <th>continent</th>\n",
              "            <th>president</th>\n",
              "        </tr>\n",
              "    </thead>\n",
              "    <tbody>\n",
              "        <tr>\n",
              "            <td>0</td>\n",
              "            <td>Egypt</td>\n",
              "            <td>Africa</td>\n",
              "            <td>Abdel Fattah el-Sisi</td>\n",
              "        </tr>\n",
              "    </tbody>\n",
              "</table>"
            ]
          },
          "metadata": {},
          "execution_count": 6
        }
      ]
    },
    {
      "cell_type": "code",
      "source": [
        "%%sql SELECT * FROM prime_minister_terms LIMIT 1;"
      ],
      "metadata": {
        "colab": {
          "base_uri": "https://localhost:8080/",
          "height": 0
        },
        "id": "PFGEsAS-w2_2",
        "outputId": "7665c8dc-e6fe-4c41-d22c-06003b08e5d1"
      },
      "execution_count": 7,
      "outputs": [
        {
          "output_type": "stream",
          "name": "stdout",
          "text": [
            " * sqlite://\n",
            "Done.\n"
          ]
        },
        {
          "output_type": "execute_result",
          "data": {
            "text/plain": [
              "[(0, 'Mostafa Madbouly', 2018)]"
            ],
            "text/html": [
              "<table>\n",
              "    <thead>\n",
              "        <tr>\n",
              "            <th>index</th>\n",
              "            <th>prime_minister</th>\n",
              "            <th>pm_start</th>\n",
              "        </tr>\n",
              "    </thead>\n",
              "    <tbody>\n",
              "        <tr>\n",
              "            <td>0</td>\n",
              "            <td>Mostafa Madbouly</td>\n",
              "            <td>2018</td>\n",
              "        </tr>\n",
              "    </tbody>\n",
              "</table>"
            ]
          },
          "metadata": {},
          "execution_count": 7
        }
      ]
    },
    {
      "cell_type": "code",
      "source": [
        "%%sql SELECT * FROM prime_ministers LIMIT 1;"
      ],
      "metadata": {
        "colab": {
          "base_uri": "https://localhost:8080/",
          "height": 0
        },
        "id": "ORSrRnzhw_L5",
        "outputId": "31a38dfa-37d0-4152-e2d3-a345908023a0"
      },
      "execution_count": 8,
      "outputs": [
        {
          "output_type": "stream",
          "name": "stdout",
          "text": [
            " * sqlite://\n",
            "Done.\n"
          ]
        },
        {
          "output_type": "execute_result",
          "data": {
            "text/plain": [
              "[(0, 'Egypt', 'Africa', 'Mostafa Madbouly')]"
            ],
            "text/html": [
              "<table>\n",
              "    <thead>\n",
              "        <tr>\n",
              "            <th>index</th>\n",
              "            <th>country</th>\n",
              "            <th>continent</th>\n",
              "            <th>prime_minister</th>\n",
              "        </tr>\n",
              "    </thead>\n",
              "    <tbody>\n",
              "        <tr>\n",
              "            <td>0</td>\n",
              "            <td>Egypt</td>\n",
              "            <td>Africa</td>\n",
              "            <td>Mostafa Madbouly</td>\n",
              "        </tr>\n",
              "    </tbody>\n",
              "</table>"
            ]
          },
          "metadata": {},
          "execution_count": 8
        }
      ]
    },
    {
      "cell_type": "code",
      "source": [
        "%%sql SELECT * FROM states LIMIT 1;"
      ],
      "metadata": {
        "colab": {
          "base_uri": "https://localhost:8080/",
          "height": 0
        },
        "id": "hKjRhXHbxDOi",
        "outputId": "4be210b5-17ef-4b52-8ea7-0e1a77ebea67"
      },
      "execution_count": 9,
      "outputs": [
        {
          "output_type": "stream",
          "name": "stdout",
          "text": [
            " * sqlite://\n",
            "Done.\n"
          ]
        },
        {
          "output_type": "execute_result",
          "data": {
            "text/plain": [
              "[(0, 'Australia', 'Oceania', 1901)]"
            ],
            "text/html": [
              "<table>\n",
              "    <thead>\n",
              "        <tr>\n",
              "            <th>index</th>\n",
              "            <th>country</th>\n",
              "            <th>continent</th>\n",
              "            <th>indep_year</th>\n",
              "        </tr>\n",
              "    </thead>\n",
              "    <tbody>\n",
              "        <tr>\n",
              "            <td>0</td>\n",
              "            <td>Australia</td>\n",
              "            <td>Oceania</td>\n",
              "            <td>1901</td>\n",
              "        </tr>\n",
              "    </tbody>\n",
              "</table>"
            ]
          },
          "metadata": {},
          "execution_count": 9
        }
      ]
    },
    {
      "cell_type": "markdown",
      "source": [
        "##### Result"
      ],
      "metadata": {
        "id": "oepkXvTNzoEY"
      }
    },
    {
      "cell_type": "markdown",
      "source": [
        "**Basic CASE WHEN in SELECT**\n",
        "\n",
        "Write a query to list all countries along with a column that indicates whether the country gained independence before or after 1950. Use CASE WHEN in the SELECT clause to label countries as 'Before 1950' or 'After 1950' based on their indep_year.\n"
      ],
      "metadata": {
        "id": "0hFCvnhjy4E6"
      }
    },
    {
      "cell_type": "code",
      "source": [
        "%%sql\n",
        "SELECT country,\n",
        "       CASE WHEN indep_year < 1950 THEN 'Before 1950'\n",
        "            ELSE 'After 1950'\n",
        "       END AS indep_year_label\n",
        "FROM states;"
      ],
      "metadata": {
        "colab": {
          "base_uri": "https://localhost:8080/",
          "height": 306
        },
        "id": "ef30RH51yrh7",
        "outputId": "18ceef10-5076-4d46-8495-ee40e6a94008"
      },
      "execution_count": 10,
      "outputs": [
        {
          "output_type": "stream",
          "name": "stdout",
          "text": [
            " * sqlite://\n",
            "Done.\n"
          ]
        },
        {
          "output_type": "execute_result",
          "data": {
            "text/plain": [
              "[('Australia', 'Before 1950'),\n",
              " ('Brunei', 'After 1950'),\n",
              " ('Chile', 'Before 1950'),\n",
              " ('Egypt', 'Before 1950'),\n",
              " ('India', 'Before 1950'),\n",
              " ('Norway', 'Before 1950'),\n",
              " ('Oman', 'After 1950'),\n",
              " ('Pakistan', 'Before 1950'),\n",
              " ('Portugal', 'Before 1950'),\n",
              " ('Uruguay', 'Before 1950'),\n",
              " ('USA', 'Before 1950')]"
            ],
            "text/html": [
              "<table>\n",
              "    <thead>\n",
              "        <tr>\n",
              "            <th>country</th>\n",
              "            <th>indep_year_label</th>\n",
              "        </tr>\n",
              "    </thead>\n",
              "    <tbody>\n",
              "        <tr>\n",
              "            <td>Australia</td>\n",
              "            <td>Before 1950</td>\n",
              "        </tr>\n",
              "        <tr>\n",
              "            <td>Brunei</td>\n",
              "            <td>After 1950</td>\n",
              "        </tr>\n",
              "        <tr>\n",
              "            <td>Chile</td>\n",
              "            <td>Before 1950</td>\n",
              "        </tr>\n",
              "        <tr>\n",
              "            <td>Egypt</td>\n",
              "            <td>Before 1950</td>\n",
              "        </tr>\n",
              "        <tr>\n",
              "            <td>India</td>\n",
              "            <td>Before 1950</td>\n",
              "        </tr>\n",
              "        <tr>\n",
              "            <td>Norway</td>\n",
              "            <td>Before 1950</td>\n",
              "        </tr>\n",
              "        <tr>\n",
              "            <td>Oman</td>\n",
              "            <td>After 1950</td>\n",
              "        </tr>\n",
              "        <tr>\n",
              "            <td>Pakistan</td>\n",
              "            <td>Before 1950</td>\n",
              "        </tr>\n",
              "        <tr>\n",
              "            <td>Portugal</td>\n",
              "            <td>Before 1950</td>\n",
              "        </tr>\n",
              "        <tr>\n",
              "            <td>Uruguay</td>\n",
              "            <td>Before 1950</td>\n",
              "        </tr>\n",
              "        <tr>\n",
              "            <td>USA</td>\n",
              "            <td>Before 1950</td>\n",
              "        </tr>\n",
              "    </tbody>\n",
              "</table>"
            ]
          },
          "metadata": {},
          "execution_count": 10
        }
      ]
    },
    {
      "cell_type": "markdown",
      "source": [
        "**CASE WHEN in WHERE Clause**\n",
        "\n",
        "Write a query to list all countries that either have a president or a prime minister whose name starts with 'A'. Use CASE WHEN in the WHERE clause to filter results based on the presence of a president or prime minister starting with 'A'."
      ],
      "metadata": {
        "id": "zNH3a7WGziTq"
      }
    },
    {
      "cell_type": "code",
      "source": [
        "%%sql\n",
        "SELECT country\n",
        "FROM states AS s\n",
        "WHERE country IN (\n",
        "    SELECT\n",
        "      CASE\n",
        "        WHEN p.president LIKE 'A%'\n",
        "        OR pm.prime_minister LIKE 'A%' THEN p.country\n",
        "      END AS country\n",
        "    FROM presidents AS p\n",
        "    LEFT JOIN prime_ministers AS pm\n",
        "    ON p.country = pm.country\n",
        ");"
      ],
      "metadata": {
        "colab": {
          "base_uri": "https://localhost:8080/",
          "height": 138
        },
        "id": "lO15hmHQzjKo",
        "outputId": "79910a59-d1fe-4cf9-e36b-a85e01ecf6f0"
      },
      "execution_count": 21,
      "outputs": [
        {
          "output_type": "stream",
          "name": "stdout",
          "text": [
            " * sqlite://\n",
            "Done.\n"
          ]
        },
        {
          "output_type": "execute_result",
          "data": {
            "text/plain": [
              "[('Egypt',), ('Pakistan',), ('Portugal',)]"
            ],
            "text/html": [
              "<table>\n",
              "    <thead>\n",
              "        <tr>\n",
              "            <th>country</th>\n",
              "        </tr>\n",
              "    </thead>\n",
              "    <tbody>\n",
              "        <tr>\n",
              "            <td>Egypt</td>\n",
              "        </tr>\n",
              "        <tr>\n",
              "            <td>Pakistan</td>\n",
              "        </tr>\n",
              "        <tr>\n",
              "            <td>Portugal</td>\n",
              "        </tr>\n",
              "    </tbody>\n",
              "</table>"
            ]
          },
          "metadata": {},
          "execution_count": 21
        }
      ]
    },
    {
      "cell_type": "code",
      "source": [],
      "metadata": {
        "id": "qfqAvrhe1IAh"
      },
      "execution_count": null,
      "outputs": []
    }
  ]
}