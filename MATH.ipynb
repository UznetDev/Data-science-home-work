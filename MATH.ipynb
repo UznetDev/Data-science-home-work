{
  "nbformat": 4,
  "nbformat_minor": 0,
  "metadata": {
    "colab": {
      "provenance": [],
      "authorship_tag": "ABX9TyOSaDXQL2CMuxtTwiDe+9Qv",
      "include_colab_link": true
    },
    "kernelspec": {
      "name": "python3",
      "display_name": "Python 3"
    },
    "language_info": {
      "name": "python"
    }
  },
  "cells": [
    {
      "cell_type": "markdown",
      "metadata": {
        "id": "view-in-github",
        "colab_type": "text"
      },
      "source": [
        "<a href=\"https://colab.research.google.com/github/UznetDev/Data-science-home-work/blob/main/MATH.ipynb\" target=\"_parent\"><img src=\"https://colab.research.google.com/assets/colab-badge.svg\" alt=\"Open In Colab\"/></a>"
      ]
    },
    {
      "cell_type": "code",
      "execution_count": 13,
      "metadata": {
        "id": "pUtDspZ2XrM6"
      },
      "outputs": [],
      "source": [
        "import numpy as np\n",
        "from sklearn.preprocessing import StandardScaler"
      ]
    },
    {
      "cell_type": "code",
      "source": [
        "v = [3, 6, 8, 5, 7]\n",
        "c = [7, 4, 9, 5, 3]"
      ],
      "metadata": {
        "id": "0O2ZSCwyX9kI"
      },
      "execution_count": 14,
      "outputs": []
    },
    {
      "cell_type": "code",
      "source": [
        "mean_v = np.mean(v)\n",
        "std_v_n1 = np.std(v, ddof=1)\n",
        "\n",
        "mean_c = np.mean(c)\n",
        "std_c_n1 = np.std(c, ddof=1)"
      ],
      "metadata": {
        "id": "0gTWydgaYiIo"
      },
      "execution_count": 15,
      "outputs": []
    },
    {
      "cell_type": "code",
      "source": [
        "standard_v = (v - mean_v) / std_v_n1\n",
        "standard_c = (c - mean_c) / std_c_n1"
      ],
      "metadata": {
        "id": "LAncQOWCYAet"
      },
      "execution_count": 16,
      "outputs": []
    },
    {
      "cell_type": "code",
      "source": [
        "standard_data = np.array([standard_v, standard_c])\n",
        "covariance_matrix = np.cov(standard_data)\n",
        "eigen_values, eigen_vectors = np.linalg.eig(covariance_matrix)\n",
        "eigen_values, eigen_vectors"
      ],
      "metadata": {
        "colab": {
          "base_uri": "https://localhost:8080/"
        },
        "id": "u3ZHh6GjY8Ot",
        "outputId": "ec2466e9-ea13-4b12-adb7-f5e327f4518c"
      },
      "execution_count": 17,
      "outputs": [
        {
          "output_type": "execute_result",
          "data": {
            "text/plain": [
              "(array([0.96762003, 1.03237997]),\n",
              " array([[-0.70710678, -0.70710678],\n",
              "        [ 0.70710678, -0.70710678]]))"
            ]
          },
          "metadata": {},
          "execution_count": 17
        }
      ]
    },
    {
      "cell_type": "code",
      "source": [
        "sorted_index = np.argsort(eigen_values)[::-1]\n",
        "sorted_eigenvalue = eigen_values[sorted_index]\n",
        "sorted_eigenvectors = eigen_vectors[:,sorted_index]\n",
        "transformed_data = standard_data.T @ sorted_eigenvectors\n",
        "transformed_data"
      ],
      "metadata": {
        "colab": {
          "base_uri": "https://localhost:8080/"
        },
        "id": "WJTrNpyYZKei",
        "outputId": "99eef041-bcbe-4f3d-c5ba-e1d24a0d1546"
      },
      "execution_count": 21,
      "outputs": [
        {
          "output_type": "execute_result",
          "data": {
            "text/plain": [
              "array([[ 0.61824632,  1.44035462],\n",
              "       [ 0.39625471, -0.54329764],\n",
              "       [-1.80701046,  0.18953829],\n",
              "       [ 0.47025191,  0.11791978],\n",
              "       [ 0.32225751, -1.20451506]])"
            ]
          },
          "metadata": {},
          "execution_count": 21
        }
      ]
    }
  ]
}